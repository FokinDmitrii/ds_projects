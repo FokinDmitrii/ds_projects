{
 "cells": [
  {
   "cell_type": "markdown",
   "metadata": {
    "toc": true
   },
   "source": [
    "<h1>Содержание<span class=\"tocSkip\"></span></h1>\n",
    "<div class=\"toc\"><ul class=\"toc-item\"><li><span><a href=\"#Загрузка-данных\" data-toc-modified-id=\"Загрузка-данных-1\"><span class=\"toc-item-num\">1&nbsp;&nbsp;</span>Загрузка данных</a></span></li><li><span><a href=\"#Умножение-матриц\" data-toc-modified-id=\"Умножение-матриц-2\"><span class=\"toc-item-num\">2&nbsp;&nbsp;</span>Умножение матриц</a></span></li><li><span><a href=\"#Алгоритм-преобразования\" data-toc-modified-id=\"Алгоритм-преобразования-3\"><span class=\"toc-item-num\">3&nbsp;&nbsp;</span>Алгоритм преобразования</a></span></li><li><span><a href=\"#Проверка-алгоритма\" data-toc-modified-id=\"Проверка-алгоритма-4\"><span class=\"toc-item-num\">4&nbsp;&nbsp;</span>Проверка алгоритма</a></span></li></ul></div>"
   ]
  },
  {
   "cell_type": "markdown",
   "metadata": {},
   "source": [
    "# Защита персональных данных клиентов"
   ]
  },
  {
   "cell_type": "markdown",
   "metadata": {},
   "source": [
    "Вам нужно защитить данные клиентов страховой компании «Хоть потоп». Разработайте такой метод преобразования данных, чтобы по ним было сложно восстановить персональную информацию. Обоснуйте корректность его работы.\n",
    "\n",
    "Нужно защитить данные, чтобы при преобразовании качество моделей машинного обучения не ухудшилось. Подбирать наилучшую модель не требуется."
   ]
  },
  {
   "cell_type": "markdown",
   "metadata": {},
   "source": [
    "## Загрузка данных"
   ]
  },
  {
   "cell_type": "code",
   "execution_count": 1,
   "metadata": {},
   "outputs": [
    {
     "name": "stdout",
     "output_type": "stream",
     "text": [
      "<class 'pandas.core.frame.DataFrame'>\n",
      "RangeIndex: 5000 entries, 0 to 4999\n",
      "Data columns (total 5 columns):\n",
      " #   Column             Non-Null Count  Dtype  \n",
      "---  ------             --------------  -----  \n",
      " 0   Пол                5000 non-null   int64  \n",
      " 1   Возраст            5000 non-null   float64\n",
      " 2   Зарплата           5000 non-null   float64\n",
      " 3   Члены семьи        5000 non-null   int64  \n",
      " 4   Страховые выплаты  5000 non-null   int64  \n",
      "dtypes: float64(2), int64(3)\n",
      "memory usage: 195.4 KB\n"
     ]
    },
    {
     "data": {
      "text/plain": [
       "(None,\n",
       "    Пол  Возраст  Зарплата  Члены семьи  Страховые выплаты\n",
       " 0    1     41.0   49600.0            1                  0\n",
       " 1    0     46.0   38000.0            1                  1\n",
       " 2    0     29.0   21000.0            0                  0\n",
       " 3    0     21.0   41700.0            2                  0\n",
       " 4    1     28.0   26100.0            0                  0,\n",
       " (5000, 5),\n",
       "                Пол      Возраст      Зарплата  Члены семьи  Страховые выплаты\n",
       " count  5000.000000  5000.000000   5000.000000  5000.000000        5000.000000\n",
       " mean      0.499000    30.952800  39916.360000     1.194200           0.148000\n",
       " std       0.500049     8.440807   9900.083569     1.091387           0.463183\n",
       " min       0.000000    18.000000   5300.000000     0.000000           0.000000\n",
       " 25%       0.000000    24.000000  33300.000000     0.000000           0.000000\n",
       " 50%       0.000000    30.000000  40200.000000     1.000000           0.000000\n",
       " 75%       1.000000    37.000000  46600.000000     2.000000           0.000000\n",
       " max       1.000000    65.000000  79000.000000     6.000000           5.000000)"
      ]
     },
     "execution_count": 1,
     "metadata": {},
     "output_type": "execute_result"
    }
   ],
   "source": [
    "import numpy as np\n",
    "import pandas as pd\n",
    "from sklearn.metrics import r2_score\n",
    "from sklearn.model_selection import train_test_split\n",
    "from sklearn.linear_model import LinearRegression\n",
    "from sklearn.model_selection import cross_val_score\n",
    "\n",
    "df = pd.read_csv('/datasets/insurance.csv')\n",
    "df.info(), df.head(), df.shape, df.describe()"
   ]
  },
  {
   "cell_type": "markdown",
   "metadata": {},
   "source": [
    "В данных пропусков нет. Целевым признаком определим \"Страховые выплаты\". Для решения категориальной задачи выбираем модель Линейной регрессии."
   ]
  },
  {
   "cell_type": "markdown",
   "metadata": {},
   "source": [
    "## Умножение матриц"
   ]
  },
  {
   "cell_type": "markdown",
   "metadata": {},
   "source": [
    "Обозначения:\n",
    "\n",
    "- $X$ — матрица признаков (нулевой столбец состоит из единиц)\n",
    "\n",
    "- $y$ — вектор целевого признака\n",
    "\n",
    "- $P$ — матрица, на которую умножаются признаки\n",
    "\n",
    "- $w$ — вектор весов линейной регрессии (нулевой элемент равен сдвигу)"
   ]
  },
  {
   "cell_type": "markdown",
   "metadata": {},
   "source": [
    "Предсказания:\n",
    "\n",
    "$$\n",
    "a = Xw\n",
    "$$\n",
    "\n",
    "Задача обучения:\n",
    "\n",
    "$$\n",
    "w = \\arg\\min_w MSE(Xw, y)\n",
    "$$\n",
    "\n",
    "Формула обучения:\n",
    "\n",
    "$$\n",
    "w = (X^T X)^{-1} X^T y\n",
    "$$"
   ]
  },
  {
   "cell_type": "markdown",
   "metadata": {},
   "source": [
    "Создадим модель Линейной регрессии с парамтрами w и w0, расчитаем предсказания и проверим метрикой r2 точность модели"
   ]
  },
  {
   "cell_type": "code",
   "execution_count": 2,
   "metadata": {},
   "outputs": [
    {
     "name": "stdout",
     "output_type": "stream",
     "text": [
      "0.42494550286668\n"
     ]
    }
   ],
   "source": [
    "#сгенерировать случайную матрицу функцией numpy.random.normal()\n",
    "#найти обратную матрицу, вызвать функцию numpy.linalg.inv() \n",
    "\n",
    "features = df.drop('Страховые выплаты', axis=1)\n",
    "target = df['Страховые выплаты']\n",
    "\n",
    "class LinearRegression:\n",
    "    def fit(self, train_features, train_target):\n",
    "        X = np.concatenate((np.ones((train_features.shape[0], 1)), train_features), axis=1)\n",
    "        y = train_target\n",
    "        w = np.linalg.inv(X.T.dot(X)).dot(X.T).dot(y)\n",
    "        self.w = w[1:]\n",
    "        self.w0 = w[0]\n",
    "\n",
    "    def predict(self, test_features):\n",
    "        return test_features.dot(self.w) + self.w0\n",
    "    \n",
    "model = LinearRegression()\n",
    "model.fit(features, target)\n",
    "predictions = model.predict(features)\n",
    "print(r2_score(target, predictions))"
   ]
  },
  {
   "cell_type": "markdown",
   "metadata": {},
   "source": [
    "Чтобы проверить теорию умножения матриц, создадим случайную матрицу, конечно квадратную и провеми ее на обратимость."
   ]
  },
  {
   "cell_type": "code",
   "execution_count": 3,
   "metadata": {},
   "outputs": [
    {
     "name": "stdout",
     "output_type": "stream",
     "text": [
      "[[0.06604878 0.5335151  0.78555733 0.67658776]\n",
      " [0.6538715  0.28270238 0.09467045 0.30315422]\n",
      " [0.37013132 0.40863205 0.59659196 0.16899082]\n",
      " [0.97903941 0.40128844 0.81556935 0.60628743]]\n"
     ]
    }
   ],
   "source": [
    "e = np.random.random((4,4))\n",
    "print(e)"
   ]
  },
  {
   "cell_type": "code",
   "execution_count": 4,
   "metadata": {},
   "outputs": [
    {
     "name": "stdout",
     "output_type": "stream",
     "text": [
      "[[ 1.00000000e+00  2.83355121e-17  1.65739283e-16  5.46539955e-17]\n",
      " [-4.14009009e-16  1.00000000e+00 -1.94453390e-17 -5.18251869e-16]\n",
      " [-1.04248300e-18  9.96301248e-17  1.00000000e+00  1.91540202e-16]\n",
      " [-3.31687622e-18  1.49881984e-17  7.40157423e-17  1.00000000e+00]]\n"
     ]
    }
   ],
   "source": [
    "print(np.linalg.inv(e).dot(e))"
   ]
  },
  {
   "cell_type": "markdown",
   "metadata": {},
   "source": [
    "уножение матрицы на обратную себе привело к единичной матрице что свидетельствует об обратимости нашей случайной матрицы"
   ]
  },
  {
   "cell_type": "code",
   "execution_count": 5,
   "metadata": {},
   "outputs": [
    {
     "name": "stdout",
     "output_type": "stream",
     "text": [
      "[[18386.36737288 20280.67530472 29596.44398795  8395.65676554]\n",
      " [14096.04735066 15541.42351594 22675.66501017  6436.20246131]\n",
      " [ 7791.72002791  8589.47142897 12531.17666942  3557.59864803]\n",
      " ...\n",
      " [12562.48731229 13859.08313564 20227.9920989   5736.06438574]\n",
      " [12120.68255753 13370.22488335 19513.87221068  5535.16458789]\n",
      " [15046.68514863 16599.31171952 24225.88560365  6870.79839969]]\n"
     ]
    },
    {
     "data": {
      "text/plain": [
       "(5000, 4)"
      ]
     },
     "execution_count": 5,
     "metadata": {},
     "output_type": "execute_result"
    }
   ],
   "source": [
    "# умножим матрицы\n",
    "features_e = np.dot(features, e)\n",
    "print(features_e)\n",
    "features_e.shape"
   ]
  },
  {
   "cell_type": "code",
   "execution_count": 6,
   "metadata": {},
   "outputs": [
    {
     "name": "stdout",
     "output_type": "stream",
     "text": [
      "0.42494550286664123\n"
     ]
    }
   ],
   "source": [
    "# проверим метрику r2 на перемноженной матрице\n",
    "model.fit(features_e, target)\n",
    "predictions = model.predict(features_e)\n",
    "print(r2_score(target, predictions))"
   ]
  },
  {
   "cell_type": "markdown",
   "metadata": {},
   "source": [
    "качество модели не изменилось"
   ]
  },
  {
   "cell_type": "markdown",
   "metadata": {},
   "source": [
    "**Ответ:** При умножении показателей на обратимую матрицу показатель Линейной регрессии не изменится.\n",
    "\n",
    "**Обоснование:** В нашей формуле обучения используется обратная матрица:\n",
    "$$\n",
    "w = (X^T X)^{-1} X^T y\n",
    "$$\n",
    "Если наша исходная матрица умножена на другую обратимую матрицу $P$ мы получим:\n",
    "$$\n",
    "w = P^{-1}(X^T X)^{-1} (P^T)^{-1} P^TX^T y\n",
    "$$\n",
    "$$\n",
    "w = P^{-1}(X^T X)^{-1} EX^T y\n",
    "$$\n",
    "предсказание вычисляем по формуле:\n",
    "$$\n",
    "a = XPw\n",
    "$$\n",
    "тогда подставив значение веса в формулу предсказания получим\n",
    "$$\n",
    "a = P^{-1}PX(X^T X)^{-1} EX^T y\n",
    "$$\n",
    "при перемножении матрицы $P$ на обратную $P^{-1}$ это приводит к единичной матрице, а если любую матрицу умножить на единичную, результатом будет исходная матрица.\n",
    "$$\n",
    "X^{-1} X = E\n",
    "$$В итоге получаем $a = EX(X^T X)^{-1} EX^T y$ , E сокращаем"
   ]
  },
  {
   "cell_type": "markdown",
   "metadata": {},
   "source": [
    "## Алгоритм преобразования"
   ]
  },
  {
   "cell_type": "markdown",
   "metadata": {},
   "source": [
    "**Алгоритм**\n",
    "\n",
    "Проверим преобразование на модели Линейной регрессии из библиотеки sklern:\n",
    "* разобьем данные на тренировочную и тестовую\n",
    "* выделим обучающую выборку и целевую\n",
    "* обучим модель на исходных данных\n",
    "* проверим метрикой R2 качество модели\n",
    "* перемножим исходные данные на случайную обратимую матрицу\n",
    "* проверим качество полученных предсказаний метрикой R2"
   ]
  },
  {
   "cell_type": "markdown",
   "metadata": {},
   "source": [
    "**Обоснование**\n",
    "\n",
    "Ожидаем получить метрику R2 на преобразованных данных близкую к полученным данным на исходных данных, так как по теории умножение на обратимую матрицу должно привести к схожему результату."
   ]
  },
  {
   "cell_type": "markdown",
   "metadata": {},
   "source": [
    "## Проверка алгоритма"
   ]
  },
  {
   "cell_type": "code",
   "execution_count": 7,
   "metadata": {},
   "outputs": [
    {
     "name": "stdout",
     "output_type": "stream",
     "text": [
      "0.4352275712702667\n"
     ]
    }
   ],
   "source": [
    "train, valid = train_test_split(df, test_size=0.25, random_state=12345)\n",
    "# разделим данные на тренировочную и проверочную\n",
    "features_train = train.drop('Страховые выплаты', axis=1)\n",
    "target_train = train['Страховые выплаты']\n",
    "features_valid = valid.drop('Страховые выплаты', axis=1)\n",
    "target_valid = valid['Страховые выплаты']\n",
    "model = LinearRegression()\n",
    "model.fit(features_train, target_train)\n",
    "predictions = model.predict(features_valid)\n",
    "print(r2_score(target_valid, predictions))"
   ]
  },
  {
   "cell_type": "code",
   "execution_count": null,
   "metadata": {},
   "outputs": [],
   "source": []
  },
  {
   "cell_type": "code",
   "execution_count": 12,
   "metadata": {},
   "outputs": [
    {
     "name": "stdout",
     "output_type": "stream",
     "text": [
      "[[13427.91540599 14805.57123305 21602.30102246  6131.78611422]\n",
      " [21341.86180602 23547.35150349 34367.70143076  9744.85494174]\n",
      " [15234.30024668 16804.22503917 24523.7747097   6955.82983774]\n",
      " ...\n",
      " [16572.72389687 18278.37825737 26673.14336845  7567.60175787]\n",
      " [18561.88054459 20480.29033503 29894.60238175  8475.53451889]\n",
      " [15113.78148123 16677.5590047  24342.75083557  6900.58530013]]\n"
     ]
    },
    {
     "data": {
      "text/plain": [
       "(3750, 4)"
      ]
     },
     "execution_count": 12,
     "metadata": {},
     "output_type": "execute_result"
    }
   ],
   "source": [
    "# умножим тренировочные данные на обратимую матрицу\n",
    "#df_e = np.dot(df, e)\n",
    "#train_e, valid_e = train_test_split(df_e, test_size=0.25, random_state=12345)\n",
    "# разделим данные на тренировочную и проверочную\n",
    "#features_train_e = train_e.drop('Страховые выплаты', axis=1)\n",
    "##target_train_e = train_e['Страховые выплаты']\n",
    "#features_valid_e = valid_e.drop('Страховые выплаты', axis=1)\n",
    "#target_valid_e = valid_e['Страховые выплаты']\n",
    "features_train_e = np.dot(features_train, e)\n",
    "features_valid_e = np.dot(features_valid, e)\n",
    "print(features_train_e)\n",
    "features_train_e.shape"
   ]
  },
  {
   "cell_type": "code",
   "execution_count": 14,
   "metadata": {},
   "outputs": [
    {
     "name": "stdout",
     "output_type": "stream",
     "text": [
      "0.4352275742216486\n"
     ]
    }
   ],
   "source": [
    "# проверим метрику r2 на перемноженной матрице\n",
    "model.fit(features_train_e, target_train)\n",
    "predictions = model.predict(features_valid_e)\n",
    "print(r2_score(target_valid, predictions))"
   ]
  },
  {
   "cell_type": "markdown",
   "metadata": {},
   "source": [
    "Качество метрики мы получили точно такое же как и до шифрования данных.\n",
    "\n",
    "**Вывод**\n",
    "Мы проверили качество модели на исходных данных и на зашифрованных путем перемножения на обратимую матрицу. Результат оказался идентичным.\n",
    "\n",
    "\n",
    "Используя модель Линейной регрессии мы можем данные пользователей хранить в виде данных перемноженных на обратимую матрицу, это не повлияет на качество предсказаний нашей модели."
   ]
  },
  {
   "cell_type": "code",
   "execution_count": null,
   "metadata": {},
   "outputs": [],
   "source": []
  }
 ],
 "metadata": {
  "ExecuteTimeLog": [
   {
    "duration": 620,
    "start_time": "2022-04-21T18:29:31.714Z"
   },
   {
    "duration": 11,
    "start_time": "2022-04-21T18:29:39.239Z"
   },
   {
    "duration": 27,
    "start_time": "2022-04-21T18:29:51.154Z"
   },
   {
    "duration": 38,
    "start_time": "2022-04-21T18:30:14.854Z"
   },
   {
    "duration": 30,
    "start_time": "2022-04-21T18:31:06.245Z"
   },
   {
    "duration": 1129,
    "start_time": "2022-04-22T11:01:14.655Z"
   },
   {
    "duration": 88,
    "start_time": "2022-04-22T11:15:52.939Z"
   },
   {
    "duration": 3,
    "start_time": "2022-04-22T11:31:58.136Z"
   },
   {
    "duration": 4,
    "start_time": "2022-04-22T11:59:56.707Z"
   },
   {
    "duration": 6,
    "start_time": "2022-04-22T12:01:00.807Z"
   },
   {
    "duration": 5,
    "start_time": "2022-04-22T12:01:55.695Z"
   },
   {
    "duration": 4,
    "start_time": "2022-04-22T12:58:28.639Z"
   },
   {
    "duration": 97,
    "start_time": "2022-04-22T12:59:19.259Z"
   },
   {
    "duration": 4,
    "start_time": "2022-04-22T12:59:29.386Z"
   },
   {
    "duration": 4,
    "start_time": "2022-04-22T12:59:50.412Z"
   },
   {
    "duration": 1137,
    "start_time": "2022-04-26T19:13:25.631Z"
   },
   {
    "duration": 49,
    "start_time": "2022-04-26T19:13:26.770Z"
   },
   {
    "duration": 87,
    "start_time": "2022-04-26T19:13:26.822Z"
   },
   {
    "duration": 8,
    "start_time": "2022-04-26T19:13:26.912Z"
   },
   {
    "duration": 87,
    "start_time": "2022-04-26T19:13:26.924Z"
   },
   {
    "duration": 100,
    "start_time": "2022-04-26T19:13:27.014Z"
   },
   {
    "duration": 30,
    "start_time": "2022-04-26T19:22:13.611Z"
   },
   {
    "duration": 14,
    "start_time": "2022-04-26T19:26:38.052Z"
   },
   {
    "duration": 7,
    "start_time": "2022-04-26T19:29:26.097Z"
   },
   {
    "duration": 8,
    "start_time": "2022-04-26T19:31:17.660Z"
   },
   {
    "duration": 193,
    "start_time": "2022-04-26T19:34:10.179Z"
   },
   {
    "duration": 3,
    "start_time": "2022-04-26T19:37:59.445Z"
   },
   {
    "duration": 11,
    "start_time": "2022-04-26T19:38:00.584Z"
   },
   {
    "duration": 1179,
    "start_time": "2022-04-26T19:38:43.160Z"
   },
   {
    "duration": 92,
    "start_time": "2022-04-26T19:38:44.341Z"
   },
   {
    "duration": 73,
    "start_time": "2022-04-26T19:38:44.436Z"
   },
   {
    "duration": 8,
    "start_time": "2022-04-26T19:38:44.514Z"
   },
   {
    "duration": 14,
    "start_time": "2022-04-26T19:38:44.524Z"
   },
   {
    "duration": 93,
    "start_time": "2022-04-26T19:38:44.542Z"
   },
   {
    "duration": 30,
    "start_time": "2022-04-26T19:38:44.712Z"
   },
   {
    "duration": 341,
    "start_time": "2022-04-26T19:38:44.810Z"
   },
   {
    "duration": 0,
    "start_time": "2022-04-26T19:38:45.154Z"
   },
   {
    "duration": 7,
    "start_time": "2022-04-26T19:42:15.978Z"
   },
   {
    "duration": 8,
    "start_time": "2022-04-26T19:42:55.495Z"
   },
   {
    "duration": 128,
    "start_time": "2022-04-26T19:43:54.427Z"
   },
   {
    "duration": 7,
    "start_time": "2022-04-26T19:46:27.874Z"
   },
   {
    "duration": 8,
    "start_time": "2022-04-26T19:46:30.288Z"
   },
   {
    "duration": 7,
    "start_time": "2022-04-26T19:46:53.454Z"
   },
   {
    "duration": 1384,
    "start_time": "2022-04-27T08:34:30.810Z"
   }
  ],
  "kernelspec": {
   "display_name": "Python 3 (ipykernel)",
   "language": "python",
   "name": "python3"
  },
  "language_info": {
   "codemirror_mode": {
    "name": "ipython",
    "version": 3
   },
   "file_extension": ".py",
   "mimetype": "text/x-python",
   "name": "python",
   "nbconvert_exporter": "python",
   "pygments_lexer": "ipython3",
   "version": "3.9.7"
  },
  "toc": {
   "base_numbering": 1,
   "nav_menu": {},
   "number_sections": true,
   "sideBar": true,
   "skip_h1_title": true,
   "title_cell": "Содержание",
   "title_sidebar": "Contents",
   "toc_cell": true,
   "toc_position": {},
   "toc_section_display": true,
   "toc_window_display": true
  }
 },
 "nbformat": 4,
 "nbformat_minor": 2
}
