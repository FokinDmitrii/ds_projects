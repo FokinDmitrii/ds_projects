{
 "cells": [
  {
   "cell_type": "markdown",
   "metadata": {},
   "source": [
    "# Определение перспективного тарифа для телеком-компании\n",
    "\n",
    "В компании «Мегалайн» — федерального оператора сотовой связи клиентам предлагают два тарифных плана: «Смарт» и «Ультра».\n",
    "\n",
    "Чтобы скорректировать рекламный бюджет необходимо определить, какой тариф приносит больше денег.\n",
    "\n",
    "**Цель**\n",
    "\n",
    "Необходимо сделать предварительный анализ тарифов для пользователей «Мегалайна»: кто они, откуда, каким тарифом пользуются, сколько звонков и сообщений каждый отправил за 2018 год.\n",
    "\n",
    "**Задача**\n",
    "\n",
    "Нужно проанализировать поведение клиентов и сделать вывод — какой тариф лучше. "
   ]
  },
  {
   "cell_type": "markdown",
   "metadata": {},
   "source": [
    "## Изучение данных из файлов"
   ]
  },
  {
   "cell_type": "code",
   "execution_count": 1,
   "metadata": {},
   "outputs": [
    {
     "data": {
      "text/html": [
       "<div>\n",
       "<style scoped>\n",
       "    .dataframe tbody tr th:only-of-type {\n",
       "        vertical-align: middle;\n",
       "    }\n",
       "\n",
       "    .dataframe tbody tr th {\n",
       "        vertical-align: top;\n",
       "    }\n",
       "\n",
       "    .dataframe thead th {\n",
       "        text-align: right;\n",
       "    }\n",
       "</style>\n",
       "<table border=\"1\" class=\"dataframe\">\n",
       "  <thead>\n",
       "    <tr style=\"text-align: right;\">\n",
       "      <th></th>\n",
       "      <th>user_id</th>\n",
       "      <th>age</th>\n",
       "      <th>churn_date</th>\n",
       "      <th>city</th>\n",
       "      <th>first_name</th>\n",
       "      <th>last_name</th>\n",
       "      <th>reg_date</th>\n",
       "      <th>tariff</th>\n",
       "    </tr>\n",
       "  </thead>\n",
       "  <tbody>\n",
       "    <tr>\n",
       "      <td>0</td>\n",
       "      <td>1000</td>\n",
       "      <td>52</td>\n",
       "      <td>NaN</td>\n",
       "      <td>Краснодар</td>\n",
       "      <td>Рафаил</td>\n",
       "      <td>Верещагин</td>\n",
       "      <td>2018-05-25</td>\n",
       "      <td>ultra</td>\n",
       "    </tr>\n",
       "    <tr>\n",
       "      <td>1</td>\n",
       "      <td>1001</td>\n",
       "      <td>41</td>\n",
       "      <td>NaN</td>\n",
       "      <td>Москва</td>\n",
       "      <td>Иван</td>\n",
       "      <td>Ежов</td>\n",
       "      <td>2018-11-01</td>\n",
       "      <td>smart</td>\n",
       "    </tr>\n",
       "    <tr>\n",
       "      <td>2</td>\n",
       "      <td>1002</td>\n",
       "      <td>59</td>\n",
       "      <td>NaN</td>\n",
       "      <td>Стерлитамак</td>\n",
       "      <td>Евгений</td>\n",
       "      <td>Абрамович</td>\n",
       "      <td>2018-06-17</td>\n",
       "      <td>smart</td>\n",
       "    </tr>\n",
       "    <tr>\n",
       "      <td>3</td>\n",
       "      <td>1003</td>\n",
       "      <td>23</td>\n",
       "      <td>NaN</td>\n",
       "      <td>Москва</td>\n",
       "      <td>Белла</td>\n",
       "      <td>Белякова</td>\n",
       "      <td>2018-08-17</td>\n",
       "      <td>ultra</td>\n",
       "    </tr>\n",
       "    <tr>\n",
       "      <td>4</td>\n",
       "      <td>1004</td>\n",
       "      <td>68</td>\n",
       "      <td>NaN</td>\n",
       "      <td>Новокузнецк</td>\n",
       "      <td>Татьяна</td>\n",
       "      <td>Авдеенко</td>\n",
       "      <td>2018-05-14</td>\n",
       "      <td>ultra</td>\n",
       "    </tr>\n",
       "  </tbody>\n",
       "</table>\n",
       "</div>"
      ],
      "text/plain": [
       "   user_id  age churn_date         city first_name  last_name    reg_date  \\\n",
       "0     1000   52        NaN    Краснодар     Рафаил  Верещагин  2018-05-25   \n",
       "1     1001   41        NaN       Москва       Иван       Ежов  2018-11-01   \n",
       "2     1002   59        NaN  Стерлитамак    Евгений  Абрамович  2018-06-17   \n",
       "3     1003   23        NaN       Москва      Белла   Белякова  2018-08-17   \n",
       "4     1004   68        NaN  Новокузнецк    Татьяна   Авдеенко  2018-05-14   \n",
       "\n",
       "  tariff  \n",
       "0  ultra  \n",
       "1  smart  \n",
       "2  smart  \n",
       "3  ultra  \n",
       "4  ultra  "
      ]
     },
     "metadata": {},
     "output_type": "display_data"
    },
    {
     "name": "stdout",
     "output_type": "stream",
     "text": [
      "<class 'pandas.core.frame.DataFrame'>\n",
      "RangeIndex: 500 entries, 0 to 499\n",
      "Data columns (total 8 columns):\n",
      "user_id       500 non-null int64\n",
      "age           500 non-null int64\n",
      "churn_date    38 non-null object\n",
      "city          500 non-null object\n",
      "first_name    500 non-null object\n",
      "last_name     500 non-null object\n",
      "reg_date      500 non-null object\n",
      "tariff        500 non-null object\n",
      "dtypes: int64(2), object(6)\n",
      "memory usage: 31.4+ KB\n"
     ]
    }
   ],
   "source": [
    "import pandas as pd\n",
    "import matplotlib.pyplot as plt\n",
    "import numpy as np\n",
    "from numpy.lib.histograms import histogram\n",
    "from scipy import stats as st\n",
    "import math\n",
    "  \n",
    "df_users = pd.read_csv('/datasets/users.csv')\n",
    "display(df_users.head())\n",
    "df_users.info()"
   ]
  },
  {
   "cell_type": "markdown",
   "metadata": {},
   "source": [
    "Пропусков в нанных нет кроме столбца churn_date, раз нет значения окончатия тарифа значит им еще пользуются, менять не будем.\n"
   ]
  },
  {
   "cell_type": "code",
   "execution_count": 2,
   "metadata": {},
   "outputs": [
    {
     "data": {
      "text/html": [
       "<div>\n",
       "<style scoped>\n",
       "    .dataframe tbody tr th:only-of-type {\n",
       "        vertical-align: middle;\n",
       "    }\n",
       "\n",
       "    .dataframe tbody tr th {\n",
       "        vertical-align: top;\n",
       "    }\n",
       "\n",
       "    .dataframe thead th {\n",
       "        text-align: right;\n",
       "    }\n",
       "</style>\n",
       "<table border=\"1\" class=\"dataframe\">\n",
       "  <thead>\n",
       "    <tr style=\"text-align: right;\">\n",
       "      <th></th>\n",
       "      <th>id</th>\n",
       "      <th>call_date</th>\n",
       "      <th>duration</th>\n",
       "      <th>user_id</th>\n",
       "    </tr>\n",
       "  </thead>\n",
       "  <tbody>\n",
       "    <tr>\n",
       "      <td>0</td>\n",
       "      <td>1000_0</td>\n",
       "      <td>2018-07-25</td>\n",
       "      <td>0.00</td>\n",
       "      <td>1000</td>\n",
       "    </tr>\n",
       "    <tr>\n",
       "      <td>1</td>\n",
       "      <td>1000_1</td>\n",
       "      <td>2018-08-17</td>\n",
       "      <td>0.00</td>\n",
       "      <td>1000</td>\n",
       "    </tr>\n",
       "    <tr>\n",
       "      <td>2</td>\n",
       "      <td>1000_2</td>\n",
       "      <td>2018-06-11</td>\n",
       "      <td>2.85</td>\n",
       "      <td>1000</td>\n",
       "    </tr>\n",
       "    <tr>\n",
       "      <td>3</td>\n",
       "      <td>1000_3</td>\n",
       "      <td>2018-09-21</td>\n",
       "      <td>13.80</td>\n",
       "      <td>1000</td>\n",
       "    </tr>\n",
       "    <tr>\n",
       "      <td>4</td>\n",
       "      <td>1000_4</td>\n",
       "      <td>2018-12-15</td>\n",
       "      <td>5.18</td>\n",
       "      <td>1000</td>\n",
       "    </tr>\n",
       "  </tbody>\n",
       "</table>\n",
       "</div>"
      ],
      "text/plain": [
       "       id   call_date  duration  user_id\n",
       "0  1000_0  2018-07-25      0.00     1000\n",
       "1  1000_1  2018-08-17      0.00     1000\n",
       "2  1000_2  2018-06-11      2.85     1000\n",
       "3  1000_3  2018-09-21     13.80     1000\n",
       "4  1000_4  2018-12-15      5.18     1000"
      ]
     },
     "metadata": {},
     "output_type": "display_data"
    },
    {
     "name": "stdout",
     "output_type": "stream",
     "text": [
      "<class 'pandas.core.frame.DataFrame'>\n",
      "RangeIndex: 202607 entries, 0 to 202606\n",
      "Data columns (total 4 columns):\n",
      "id           202607 non-null object\n",
      "call_date    202607 non-null object\n",
      "duration     202607 non-null float64\n",
      "user_id      202607 non-null int64\n",
      "dtypes: float64(1), int64(1), object(2)\n",
      "memory usage: 6.2+ MB\n"
     ]
    },
    {
     "data": {
      "text/plain": [
       "0          0.00\n",
       "57375      0.00\n",
       "57380      0.00\n",
       "57381      0.00\n",
       "157627     0.00\n",
       "          ...  \n",
       "60889     35.95\n",
       "39777     36.12\n",
       "5865      36.47\n",
       "178737    37.35\n",
       "95088     38.00\n",
       "Name: duration, Length: 202607, dtype: float64"
      ]
     },
     "execution_count": 2,
     "metadata": {},
     "output_type": "execute_result"
    }
   ],
   "source": [
    "df_calls = pd.read_csv('/datasets/calls.csv')\n",
    "display(df_calls.head())\n",
    "df_calls.info()\n",
    "df_calls['duration'].sort_values()"
   ]
  },
  {
   "cell_type": "markdown",
   "metadata": {},
   "source": [
    "Хорошо что нет пропусков и название столбца user_id совподает с кодом пользователя из таблицы пользователей, это упростит дальнейшую обработку"
   ]
  },
  {
   "cell_type": "code",
   "execution_count": 3,
   "metadata": {},
   "outputs": [
    {
     "data": {
      "text/html": [
       "<div>\n",
       "<style scoped>\n",
       "    .dataframe tbody tr th:only-of-type {\n",
       "        vertical-align: middle;\n",
       "    }\n",
       "\n",
       "    .dataframe tbody tr th {\n",
       "        vertical-align: top;\n",
       "    }\n",
       "\n",
       "    .dataframe thead th {\n",
       "        text-align: right;\n",
       "    }\n",
       "</style>\n",
       "<table border=\"1\" class=\"dataframe\">\n",
       "  <thead>\n",
       "    <tr style=\"text-align: right;\">\n",
       "      <th></th>\n",
       "      <th>Unnamed: 0</th>\n",
       "      <th>id</th>\n",
       "      <th>mb_used</th>\n",
       "      <th>session_date</th>\n",
       "      <th>user_id</th>\n",
       "    </tr>\n",
       "  </thead>\n",
       "  <tbody>\n",
       "    <tr>\n",
       "      <td>0</td>\n",
       "      <td>0</td>\n",
       "      <td>1000_0</td>\n",
       "      <td>112.95</td>\n",
       "      <td>2018-11-25</td>\n",
       "      <td>1000</td>\n",
       "    </tr>\n",
       "    <tr>\n",
       "      <td>1</td>\n",
       "      <td>1</td>\n",
       "      <td>1000_1</td>\n",
       "      <td>1052.81</td>\n",
       "      <td>2018-09-07</td>\n",
       "      <td>1000</td>\n",
       "    </tr>\n",
       "    <tr>\n",
       "      <td>2</td>\n",
       "      <td>2</td>\n",
       "      <td>1000_2</td>\n",
       "      <td>1197.26</td>\n",
       "      <td>2018-06-25</td>\n",
       "      <td>1000</td>\n",
       "    </tr>\n",
       "    <tr>\n",
       "      <td>3</td>\n",
       "      <td>3</td>\n",
       "      <td>1000_3</td>\n",
       "      <td>550.27</td>\n",
       "      <td>2018-08-22</td>\n",
       "      <td>1000</td>\n",
       "    </tr>\n",
       "    <tr>\n",
       "      <td>4</td>\n",
       "      <td>4</td>\n",
       "      <td>1000_4</td>\n",
       "      <td>302.56</td>\n",
       "      <td>2018-09-24</td>\n",
       "      <td>1000</td>\n",
       "    </tr>\n",
       "  </tbody>\n",
       "</table>\n",
       "</div>"
      ],
      "text/plain": [
       "   Unnamed: 0      id  mb_used session_date  user_id\n",
       "0           0  1000_0   112.95   2018-11-25     1000\n",
       "1           1  1000_1  1052.81   2018-09-07     1000\n",
       "2           2  1000_2  1197.26   2018-06-25     1000\n",
       "3           3  1000_3   550.27   2018-08-22     1000\n",
       "4           4  1000_4   302.56   2018-09-24     1000"
      ]
     },
     "metadata": {},
     "output_type": "display_data"
    },
    {
     "name": "stdout",
     "output_type": "stream",
     "text": [
      "<class 'pandas.core.frame.DataFrame'>\n",
      "RangeIndex: 149396 entries, 0 to 149395\n",
      "Data columns (total 5 columns):\n",
      "Unnamed: 0      149396 non-null int64\n",
      "id              149396 non-null object\n",
      "mb_used         149396 non-null float64\n",
      "session_date    149396 non-null object\n",
      "user_id         149396 non-null int64\n",
      "dtypes: float64(1), int64(2), object(2)\n",
      "memory usage: 5.7+ MB\n"
     ]
    },
    {
     "data": {
      "text/plain": [
       "116616       0.00\n",
       "53410        0.00\n",
       "104303       0.00\n",
       "19438        0.00\n",
       "19437        0.00\n",
       "           ...   \n",
       "140299    1623.92\n",
       "103480    1651.25\n",
       "7063      1651.55\n",
       "119156    1702.75\n",
       "137493    1724.83\n",
       "Name: mb_used, Length: 149396, dtype: float64"
      ]
     },
     "execution_count": 3,
     "metadata": {},
     "output_type": "execute_result"
    }
   ],
   "source": [
    "df_internet = pd.read_csv('/datasets/internet.csv')\n",
    "display(df_internet.head())\n",
    "df_internet.info()\n",
    "df_internet['mb_used'].sort_values()"
   ]
  },
  {
   "cell_type": "markdown",
   "metadata": {},
   "source": [
    "Также нет пропусков и user_id на месте, а вот столбец Unnamed: 0 не понятно о чем говорит, может это повторение индексов?\n",
    "\n",
    "Проверим\n"
   ]
  },
  {
   "cell_type": "code",
   "execution_count": 4,
   "metadata": {},
   "outputs": [
    {
     "data": {
      "text/plain": [
       "array([     0,      1,      2, ..., 149393, 149394, 149395])"
      ]
     },
     "execution_count": 4,
     "metadata": {},
     "output_type": "execute_result"
    }
   ],
   "source": [
    "df_internet['Unnamed: 0'].unique()"
   ]
  },
  {
   "cell_type": "markdown",
   "metadata": {},
   "source": [
    "Так и есть, можно от него избавиться"
   ]
  },
  {
   "cell_type": "code",
   "execution_count": 5,
   "metadata": {},
   "outputs": [
    {
     "data": {
      "text/html": [
       "<div>\n",
       "<style scoped>\n",
       "    .dataframe tbody tr th:only-of-type {\n",
       "        vertical-align: middle;\n",
       "    }\n",
       "\n",
       "    .dataframe tbody tr th {\n",
       "        vertical-align: top;\n",
       "    }\n",
       "\n",
       "    .dataframe thead th {\n",
       "        text-align: right;\n",
       "    }\n",
       "</style>\n",
       "<table border=\"1\" class=\"dataframe\">\n",
       "  <thead>\n",
       "    <tr style=\"text-align: right;\">\n",
       "      <th></th>\n",
       "      <th>id</th>\n",
       "      <th>mb_used</th>\n",
       "      <th>session_date</th>\n",
       "      <th>user_id</th>\n",
       "    </tr>\n",
       "  </thead>\n",
       "  <tbody>\n",
       "    <tr>\n",
       "      <td>0</td>\n",
       "      <td>1000_0</td>\n",
       "      <td>112.95</td>\n",
       "      <td>2018-11-25</td>\n",
       "      <td>1000</td>\n",
       "    </tr>\n",
       "    <tr>\n",
       "      <td>1</td>\n",
       "      <td>1000_1</td>\n",
       "      <td>1052.81</td>\n",
       "      <td>2018-09-07</td>\n",
       "      <td>1000</td>\n",
       "    </tr>\n",
       "    <tr>\n",
       "      <td>2</td>\n",
       "      <td>1000_2</td>\n",
       "      <td>1197.26</td>\n",
       "      <td>2018-06-25</td>\n",
       "      <td>1000</td>\n",
       "    </tr>\n",
       "    <tr>\n",
       "      <td>3</td>\n",
       "      <td>1000_3</td>\n",
       "      <td>550.27</td>\n",
       "      <td>2018-08-22</td>\n",
       "      <td>1000</td>\n",
       "    </tr>\n",
       "    <tr>\n",
       "      <td>4</td>\n",
       "      <td>1000_4</td>\n",
       "      <td>302.56</td>\n",
       "      <td>2018-09-24</td>\n",
       "      <td>1000</td>\n",
       "    </tr>\n",
       "    <tr>\n",
       "      <td>...</td>\n",
       "      <td>...</td>\n",
       "      <td>...</td>\n",
       "      <td>...</td>\n",
       "      <td>...</td>\n",
       "    </tr>\n",
       "    <tr>\n",
       "      <td>149391</td>\n",
       "      <td>1499_152</td>\n",
       "      <td>318.90</td>\n",
       "      <td>2018-10-03</td>\n",
       "      <td>1499</td>\n",
       "    </tr>\n",
       "    <tr>\n",
       "      <td>149392</td>\n",
       "      <td>1499_153</td>\n",
       "      <td>490.13</td>\n",
       "      <td>2018-12-14</td>\n",
       "      <td>1499</td>\n",
       "    </tr>\n",
       "    <tr>\n",
       "      <td>149393</td>\n",
       "      <td>1499_154</td>\n",
       "      <td>0.00</td>\n",
       "      <td>2018-10-27</td>\n",
       "      <td>1499</td>\n",
       "    </tr>\n",
       "    <tr>\n",
       "      <td>149394</td>\n",
       "      <td>1499_155</td>\n",
       "      <td>1246.32</td>\n",
       "      <td>2018-11-26</td>\n",
       "      <td>1499</td>\n",
       "    </tr>\n",
       "    <tr>\n",
       "      <td>149395</td>\n",
       "      <td>1499_156</td>\n",
       "      <td>544.37</td>\n",
       "      <td>2018-10-26</td>\n",
       "      <td>1499</td>\n",
       "    </tr>\n",
       "  </tbody>\n",
       "</table>\n",
       "<p>149396 rows × 4 columns</p>\n",
       "</div>"
      ],
      "text/plain": [
       "              id  mb_used session_date  user_id\n",
       "0         1000_0   112.95   2018-11-25     1000\n",
       "1         1000_1  1052.81   2018-09-07     1000\n",
       "2         1000_2  1197.26   2018-06-25     1000\n",
       "3         1000_3   550.27   2018-08-22     1000\n",
       "4         1000_4   302.56   2018-09-24     1000\n",
       "...          ...      ...          ...      ...\n",
       "149391  1499_152   318.90   2018-10-03     1499\n",
       "149392  1499_153   490.13   2018-12-14     1499\n",
       "149393  1499_154     0.00   2018-10-27     1499\n",
       "149394  1499_155  1246.32   2018-11-26     1499\n",
       "149395  1499_156   544.37   2018-10-26     1499\n",
       "\n",
       "[149396 rows x 4 columns]"
      ]
     },
     "execution_count": 5,
     "metadata": {},
     "output_type": "execute_result"
    }
   ],
   "source": [
    "df_internet.drop(columns = ['Unnamed: 0'],axis = 1, inplace=True)\n",
    "df_internet"
   ]
  },
  {
   "cell_type": "code",
   "execution_count": 6,
   "metadata": {},
   "outputs": [
    {
     "data": {
      "text/html": [
       "<div>\n",
       "<style scoped>\n",
       "    .dataframe tbody tr th:only-of-type {\n",
       "        vertical-align: middle;\n",
       "    }\n",
       "\n",
       "    .dataframe tbody tr th {\n",
       "        vertical-align: top;\n",
       "    }\n",
       "\n",
       "    .dataframe thead th {\n",
       "        text-align: right;\n",
       "    }\n",
       "</style>\n",
       "<table border=\"1\" class=\"dataframe\">\n",
       "  <thead>\n",
       "    <tr style=\"text-align: right;\">\n",
       "      <th></th>\n",
       "      <th>id</th>\n",
       "      <th>message_date</th>\n",
       "      <th>user_id</th>\n",
       "    </tr>\n",
       "  </thead>\n",
       "  <tbody>\n",
       "    <tr>\n",
       "      <td>0</td>\n",
       "      <td>1000_0</td>\n",
       "      <td>2018-06-27</td>\n",
       "      <td>1000</td>\n",
       "    </tr>\n",
       "    <tr>\n",
       "      <td>1</td>\n",
       "      <td>1000_1</td>\n",
       "      <td>2018-10-08</td>\n",
       "      <td>1000</td>\n",
       "    </tr>\n",
       "    <tr>\n",
       "      <td>2</td>\n",
       "      <td>1000_2</td>\n",
       "      <td>2018-08-04</td>\n",
       "      <td>1000</td>\n",
       "    </tr>\n",
       "    <tr>\n",
       "      <td>3</td>\n",
       "      <td>1000_3</td>\n",
       "      <td>2018-06-16</td>\n",
       "      <td>1000</td>\n",
       "    </tr>\n",
       "    <tr>\n",
       "      <td>4</td>\n",
       "      <td>1000_4</td>\n",
       "      <td>2018-12-05</td>\n",
       "      <td>1000</td>\n",
       "    </tr>\n",
       "  </tbody>\n",
       "</table>\n",
       "</div>"
      ],
      "text/plain": [
       "       id message_date  user_id\n",
       "0  1000_0   2018-06-27     1000\n",
       "1  1000_1   2018-10-08     1000\n",
       "2  1000_2   2018-08-04     1000\n",
       "3  1000_3   2018-06-16     1000\n",
       "4  1000_4   2018-12-05     1000"
      ]
     },
     "metadata": {},
     "output_type": "display_data"
    },
    {
     "name": "stdout",
     "output_type": "stream",
     "text": [
      "<class 'pandas.core.frame.DataFrame'>\n",
      "RangeIndex: 123036 entries, 0 to 123035\n",
      "Data columns (total 3 columns):\n",
      "id              123036 non-null object\n",
      "message_date    123036 non-null object\n",
      "user_id         123036 non-null int64\n",
      "dtypes: int64(1), object(2)\n",
      "memory usage: 2.8+ MB\n"
     ]
    }
   ],
   "source": [
    "df_messages = pd.read_csv('/datasets/messages.csv')\n",
    "display(df_messages.head())\n",
    "df_messages.info()"
   ]
  },
  {
   "cell_type": "markdown",
   "metadata": {},
   "source": [
    "Здесь тоже все хорошо, пропусков нет и user_id на месте"
   ]
  },
  {
   "cell_type": "code",
   "execution_count": 7,
   "metadata": {},
   "outputs": [
    {
     "data": {
      "text/html": [
       "<div>\n",
       "<style scoped>\n",
       "    .dataframe tbody tr th:only-of-type {\n",
       "        vertical-align: middle;\n",
       "    }\n",
       "\n",
       "    .dataframe tbody tr th {\n",
       "        vertical-align: top;\n",
       "    }\n",
       "\n",
       "    .dataframe thead th {\n",
       "        text-align: right;\n",
       "    }\n",
       "</style>\n",
       "<table border=\"1\" class=\"dataframe\">\n",
       "  <thead>\n",
       "    <tr style=\"text-align: right;\">\n",
       "      <th></th>\n",
       "      <th>messages_included</th>\n",
       "      <th>mb_per_month_included</th>\n",
       "      <th>minutes_included</th>\n",
       "      <th>rub_monthly_fee</th>\n",
       "      <th>rub_per_gb</th>\n",
       "      <th>rub_per_message</th>\n",
       "      <th>rub_per_minute</th>\n",
       "      <th>tariff</th>\n",
       "    </tr>\n",
       "  </thead>\n",
       "  <tbody>\n",
       "    <tr>\n",
       "      <td>0</td>\n",
       "      <td>50</td>\n",
       "      <td>15360</td>\n",
       "      <td>500</td>\n",
       "      <td>550</td>\n",
       "      <td>200</td>\n",
       "      <td>3</td>\n",
       "      <td>3</td>\n",
       "      <td>smart</td>\n",
       "    </tr>\n",
       "    <tr>\n",
       "      <td>1</td>\n",
       "      <td>1000</td>\n",
       "      <td>30720</td>\n",
       "      <td>3000</td>\n",
       "      <td>1950</td>\n",
       "      <td>150</td>\n",
       "      <td>1</td>\n",
       "      <td>1</td>\n",
       "      <td>ultra</td>\n",
       "    </tr>\n",
       "  </tbody>\n",
       "</table>\n",
       "</div>"
      ],
      "text/plain": [
       "   messages_included  mb_per_month_included  minutes_included  \\\n",
       "0                 50                  15360               500   \n",
       "1               1000                  30720              3000   \n",
       "\n",
       "   rub_monthly_fee  rub_per_gb  rub_per_message  rub_per_minute tariff  \n",
       "0              550         200                3               3  smart  \n",
       "1             1950         150                1               1  ultra  "
      ]
     },
     "metadata": {},
     "output_type": "display_data"
    },
    {
     "name": "stdout",
     "output_type": "stream",
     "text": [
      "<class 'pandas.core.frame.DataFrame'>\n",
      "RangeIndex: 2 entries, 0 to 1\n",
      "Data columns (total 8 columns):\n",
      "messages_included        2 non-null int64\n",
      "mb_per_month_included    2 non-null int64\n",
      "minutes_included         2 non-null int64\n",
      "rub_monthly_fee          2 non-null int64\n",
      "rub_per_gb               2 non-null int64\n",
      "rub_per_message          2 non-null int64\n",
      "rub_per_minute           2 non-null int64\n",
      "tariff                   2 non-null object\n",
      "dtypes: int64(7), object(1)\n",
      "memory usage: 256.0+ bytes\n"
     ]
    }
   ],
   "source": [
    "df_tariffs = pd.read_csv('/datasets/tariffs.csv')\n",
    "# Столбец tariff_name переименуем на tariff как в таблице с пользователями для дальнейшено объединения\n",
    "df_tariffs.columns = ['messages_included', 'mb_per_month_included', 'minutes_included'\n",
    "                      , 'rub_monthly_fee', 'rub_per_gb', 'rub_per_message', 'rub_per_minute', 'tariff']\n",
    "display(df_tariffs.head())\n",
    "df_tariffs.info()"
   ]
  },
  {
   "cell_type": "markdown",
   "metadata": {},
   "source": [
    "### Вывод"
   ]
  },
  {
   "cell_type": "markdown",
   "metadata": {},
   "source": [
    "Для дальнейшего анализа надо будет колонки с датами преобразовать в формат даты и конечно придется делать объединение таблиц"
   ]
  },
  {
   "cell_type": "markdown",
   "metadata": {},
   "source": [
    "## Предобработка данных"
   ]
  },
  {
   "cell_type": "markdown",
   "metadata": {},
   "source": [
    "Преобразуем колонки с датами в формат даты"
   ]
  },
  {
   "cell_type": "markdown",
   "metadata": {},
   "source": [
    " Приведем столбцы с датами к формату дат"
   ]
  },
  {
   "cell_type": "code",
   "execution_count": 8,
   "metadata": {},
   "outputs": [],
   "source": [
    "df_users['reg_date'] = pd.to_datetime(df_users['reg_date'], format='%Y-%m-%d')\n",
    "df_calls['call_date'] = pd.to_datetime(df_calls['call_date'], format='%Y-%m-%d')\n",
    "df_internet['session_date'] = pd.to_datetime(df_internet['session_date'], format='%Y-%m-%d')\n",
    "df_messages['message_date'] = pd.to_datetime(df_messages['message_date'], format='%Y-%m-%d')\n"
   ]
  },
  {
   "cell_type": "markdown",
   "metadata": {},
   "source": [
    "Посчитаем количество звонков и израсходованных минут по месячно"
   ]
  },
  {
   "cell_type": "code",
   "execution_count": 9,
   "metadata": {},
   "outputs": [
    {
     "data": {
      "text/plain": [
       "0          0.0\n",
       "1          0.0\n",
       "2          3.0\n",
       "3         14.0\n",
       "4          6.0\n",
       "          ... \n",
       "202602     1.0\n",
       "202603    19.0\n",
       "202604    11.0\n",
       "202605     5.0\n",
       "202606    20.0\n",
       "Name: duration, Length: 202607, dtype: float64"
      ]
     },
     "metadata": {},
     "output_type": "display_data"
    },
    {
     "data": {
      "text/html": [
       "<div>\n",
       "<style scoped>\n",
       "    .dataframe tbody tr th:only-of-type {\n",
       "        vertical-align: middle;\n",
       "    }\n",
       "\n",
       "    .dataframe tbody tr th {\n",
       "        vertical-align: top;\n",
       "    }\n",
       "\n",
       "    .dataframe thead th {\n",
       "        text-align: right;\n",
       "    }\n",
       "</style>\n",
       "<table border=\"1\" class=\"dataframe\">\n",
       "  <thead>\n",
       "    <tr style=\"text-align: right;\">\n",
       "      <th></th>\n",
       "      <th>user_id</th>\n",
       "      <th>month</th>\n",
       "      <th>calls_count</th>\n",
       "      <th>duration_sum</th>\n",
       "    </tr>\n",
       "  </thead>\n",
       "  <tbody>\n",
       "    <tr>\n",
       "      <td>0</td>\n",
       "      <td>1000</td>\n",
       "      <td>2018-05-01</td>\n",
       "      <td>22</td>\n",
       "      <td>159</td>\n",
       "    </tr>\n",
       "    <tr>\n",
       "      <td>1</td>\n",
       "      <td>1000</td>\n",
       "      <td>2018-06-01</td>\n",
       "      <td>43</td>\n",
       "      <td>172</td>\n",
       "    </tr>\n",
       "    <tr>\n",
       "      <td>2</td>\n",
       "      <td>1000</td>\n",
       "      <td>2018-07-01</td>\n",
       "      <td>47</td>\n",
       "      <td>340</td>\n",
       "    </tr>\n",
       "    <tr>\n",
       "      <td>3</td>\n",
       "      <td>1000</td>\n",
       "      <td>2018-08-01</td>\n",
       "      <td>52</td>\n",
       "      <td>408</td>\n",
       "    </tr>\n",
       "    <tr>\n",
       "      <td>4</td>\n",
       "      <td>1000</td>\n",
       "      <td>2018-09-01</td>\n",
       "      <td>58</td>\n",
       "      <td>466</td>\n",
       "    </tr>\n",
       "  </tbody>\n",
       "</table>\n",
       "</div>"
      ],
      "text/plain": [
       "   user_id      month  calls_count  duration_sum\n",
       "0     1000 2018-05-01           22           159\n",
       "1     1000 2018-06-01           43           172\n",
       "2     1000 2018-07-01           47           340\n",
       "3     1000 2018-08-01           52           408\n",
       "4     1000 2018-09-01           58           466"
      ]
     },
     "execution_count": 9,
     "metadata": {},
     "output_type": "execute_result"
    }
   ],
   "source": [
    "df_calls['month'] = df_calls['call_date'].astype('datetime64[M]')\n",
    "df_calls['duration'] = np.ceil(df_calls['duration'])\n",
    "display(df_calls['duration'])\n",
    "df_calls_grouped = df_calls.pivot_table(index=['user_id', 'month'], values='duration', aggfunc=['count', 'sum']).reset_index()\n",
    "df_calls_grouped.columns = (['user_id', 'month', 'calls_count', 'duration_sum'])\n",
    "df_calls_grouped['duration_sum'] = df_calls_grouped['duration_sum'].astype('int')\n",
    "df_calls_grouped.head()"
   ]
  },
  {
   "cell_type": "markdown",
   "metadata": {},
   "source": [
    "Так же посчитаем количество сообщений по месячно"
   ]
  },
  {
   "cell_type": "code",
   "execution_count": 10,
   "metadata": {},
   "outputs": [
    {
     "data": {
      "text/html": [
       "<div>\n",
       "<style scoped>\n",
       "    .dataframe tbody tr th:only-of-type {\n",
       "        vertical-align: middle;\n",
       "    }\n",
       "\n",
       "    .dataframe tbody tr th {\n",
       "        vertical-align: top;\n",
       "    }\n",
       "\n",
       "    .dataframe thead th {\n",
       "        text-align: right;\n",
       "    }\n",
       "</style>\n",
       "<table border=\"1\" class=\"dataframe\">\n",
       "  <thead>\n",
       "    <tr style=\"text-align: right;\">\n",
       "      <th></th>\n",
       "      <th>user_id</th>\n",
       "      <th>month</th>\n",
       "      <th>messages_count</th>\n",
       "    </tr>\n",
       "  </thead>\n",
       "  <tbody>\n",
       "    <tr>\n",
       "      <td>0</td>\n",
       "      <td>1000</td>\n",
       "      <td>2018-05-01</td>\n",
       "      <td>22</td>\n",
       "    </tr>\n",
       "    <tr>\n",
       "      <td>1</td>\n",
       "      <td>1000</td>\n",
       "      <td>2018-06-01</td>\n",
       "      <td>60</td>\n",
       "    </tr>\n",
       "    <tr>\n",
       "      <td>2</td>\n",
       "      <td>1000</td>\n",
       "      <td>2018-07-01</td>\n",
       "      <td>75</td>\n",
       "    </tr>\n",
       "    <tr>\n",
       "      <td>3</td>\n",
       "      <td>1000</td>\n",
       "      <td>2018-08-01</td>\n",
       "      <td>81</td>\n",
       "    </tr>\n",
       "    <tr>\n",
       "      <td>4</td>\n",
       "      <td>1000</td>\n",
       "      <td>2018-09-01</td>\n",
       "      <td>57</td>\n",
       "    </tr>\n",
       "    <tr>\n",
       "      <td>...</td>\n",
       "      <td>...</td>\n",
       "      <td>...</td>\n",
       "      <td>...</td>\n",
       "    </tr>\n",
       "    <tr>\n",
       "      <td>2712</td>\n",
       "      <td>1498</td>\n",
       "      <td>2018-10-01</td>\n",
       "      <td>42</td>\n",
       "    </tr>\n",
       "    <tr>\n",
       "      <td>2713</td>\n",
       "      <td>1499</td>\n",
       "      <td>2018-09-01</td>\n",
       "      <td>11</td>\n",
       "    </tr>\n",
       "    <tr>\n",
       "      <td>2714</td>\n",
       "      <td>1499</td>\n",
       "      <td>2018-10-01</td>\n",
       "      <td>48</td>\n",
       "    </tr>\n",
       "    <tr>\n",
       "      <td>2715</td>\n",
       "      <td>1499</td>\n",
       "      <td>2018-11-01</td>\n",
       "      <td>59</td>\n",
       "    </tr>\n",
       "    <tr>\n",
       "      <td>2716</td>\n",
       "      <td>1499</td>\n",
       "      <td>2018-12-01</td>\n",
       "      <td>66</td>\n",
       "    </tr>\n",
       "  </tbody>\n",
       "</table>\n",
       "<p>2717 rows × 3 columns</p>\n",
       "</div>"
      ],
      "text/plain": [
       "      user_id      month  messages_count\n",
       "0        1000 2018-05-01              22\n",
       "1        1000 2018-06-01              60\n",
       "2        1000 2018-07-01              75\n",
       "3        1000 2018-08-01              81\n",
       "4        1000 2018-09-01              57\n",
       "...       ...        ...             ...\n",
       "2712     1498 2018-10-01              42\n",
       "2713     1499 2018-09-01              11\n",
       "2714     1499 2018-10-01              48\n",
       "2715     1499 2018-11-01              59\n",
       "2716     1499 2018-12-01              66\n",
       "\n",
       "[2717 rows x 3 columns]"
      ]
     },
     "execution_count": 10,
     "metadata": {},
     "output_type": "execute_result"
    }
   ],
   "source": [
    "df_messages['month'] = df_messages['message_date'].astype('datetime64[M]')\n",
    "df_messages_grouped = df_messages.pivot_table(index=['user_id', 'month'], values='id', aggfunc='count').reset_index()\n",
    "df_messages_grouped.columns = (['user_id', 'month', 'messages_count'])\n",
    "df_messages_grouped"
   ]
  },
  {
   "cell_type": "markdown",
   "metadata": {},
   "source": [
    "Так же посчитаем количество трафика по месячно"
   ]
  },
  {
   "cell_type": "code",
   "execution_count": 11,
   "metadata": {},
   "outputs": [
    {
     "data": {
      "text/html": [
       "<div>\n",
       "<style scoped>\n",
       "    .dataframe tbody tr th:only-of-type {\n",
       "        vertical-align: middle;\n",
       "    }\n",
       "\n",
       "    .dataframe tbody tr th {\n",
       "        vertical-align: top;\n",
       "    }\n",
       "\n",
       "    .dataframe thead th {\n",
       "        text-align: right;\n",
       "    }\n",
       "</style>\n",
       "<table border=\"1\" class=\"dataframe\">\n",
       "  <thead>\n",
       "    <tr style=\"text-align: right;\">\n",
       "      <th></th>\n",
       "      <th>user_id</th>\n",
       "      <th>month</th>\n",
       "      <th>mb_used</th>\n",
       "    </tr>\n",
       "  </thead>\n",
       "  <tbody>\n",
       "    <tr>\n",
       "      <td>0</td>\n",
       "      <td>1000</td>\n",
       "      <td>2018-05-01</td>\n",
       "      <td>2</td>\n",
       "    </tr>\n",
       "    <tr>\n",
       "      <td>1</td>\n",
       "      <td>1000</td>\n",
       "      <td>2018-06-01</td>\n",
       "      <td>22</td>\n",
       "    </tr>\n",
       "    <tr>\n",
       "      <td>2</td>\n",
       "      <td>1000</td>\n",
       "      <td>2018-07-01</td>\n",
       "      <td>13</td>\n",
       "    </tr>\n",
       "    <tr>\n",
       "      <td>3</td>\n",
       "      <td>1000</td>\n",
       "      <td>2018-08-01</td>\n",
       "      <td>13</td>\n",
       "    </tr>\n",
       "    <tr>\n",
       "      <td>4</td>\n",
       "      <td>1000</td>\n",
       "      <td>2018-09-01</td>\n",
       "      <td>14</td>\n",
       "    </tr>\n",
       "    <tr>\n",
       "      <td>...</td>\n",
       "      <td>...</td>\n",
       "      <td>...</td>\n",
       "      <td>...</td>\n",
       "    </tr>\n",
       "    <tr>\n",
       "      <td>3198</td>\n",
       "      <td>1498</td>\n",
       "      <td>2018-10-01</td>\n",
       "      <td>20</td>\n",
       "    </tr>\n",
       "    <tr>\n",
       "      <td>3199</td>\n",
       "      <td>1499</td>\n",
       "      <td>2018-09-01</td>\n",
       "      <td>1</td>\n",
       "    </tr>\n",
       "    <tr>\n",
       "      <td>3200</td>\n",
       "      <td>1499</td>\n",
       "      <td>2018-10-01</td>\n",
       "      <td>17</td>\n",
       "    </tr>\n",
       "    <tr>\n",
       "      <td>3201</td>\n",
       "      <td>1499</td>\n",
       "      <td>2018-11-01</td>\n",
       "      <td>17</td>\n",
       "    </tr>\n",
       "    <tr>\n",
       "      <td>3202</td>\n",
       "      <td>1499</td>\n",
       "      <td>2018-12-01</td>\n",
       "      <td>12</td>\n",
       "    </tr>\n",
       "  </tbody>\n",
       "</table>\n",
       "<p>3203 rows × 3 columns</p>\n",
       "</div>"
      ],
      "text/plain": [
       "      user_id      month  mb_used\n",
       "0        1000 2018-05-01        2\n",
       "1        1000 2018-06-01       22\n",
       "2        1000 2018-07-01       13\n",
       "3        1000 2018-08-01       13\n",
       "4        1000 2018-09-01       14\n",
       "...       ...        ...      ...\n",
       "3198     1498 2018-10-01       20\n",
       "3199     1499 2018-09-01        1\n",
       "3200     1499 2018-10-01       17\n",
       "3201     1499 2018-11-01       17\n",
       "3202     1499 2018-12-01       12\n",
       "\n",
       "[3203 rows x 3 columns]"
      ]
     },
     "execution_count": 11,
     "metadata": {},
     "output_type": "execute_result"
    }
   ],
   "source": [
    "df_internet['month'] = df_internet['session_date'].astype('datetime64[M]')\n",
    "df_internet_grouped = df_internet.pivot_table(index=['user_id', 'month'], values='mb_used', aggfunc='sum').reset_index()\n",
    "df_internet_grouped['mb_used'] = np.ceil(df_internet_grouped['mb_used'])\n",
    "df_internet_grouped['mb_used'] = df_internet_grouped['mb_used']/1024\n",
    "df_internet_grouped['mb_used'] = df_internet_grouped['mb_used'].astype('int')\n",
    "df_internet_grouped"
   ]
  },
  {
   "cell_type": "markdown",
   "metadata": {},
   "source": [
    "Объединим данные в одну таблицу"
   ]
  },
  {
   "cell_type": "code",
   "execution_count": 12,
   "metadata": {},
   "outputs": [
    {
     "data": {
      "text/html": [
       "<div>\n",
       "<style scoped>\n",
       "    .dataframe tbody tr th:only-of-type {\n",
       "        vertical-align: middle;\n",
       "    }\n",
       "\n",
       "    .dataframe tbody tr th {\n",
       "        vertical-align: top;\n",
       "    }\n",
       "\n",
       "    .dataframe thead th {\n",
       "        text-align: right;\n",
       "    }\n",
       "</style>\n",
       "<table border=\"1\" class=\"dataframe\">\n",
       "  <thead>\n",
       "    <tr style=\"text-align: right;\">\n",
       "      <th></th>\n",
       "      <th>user_id</th>\n",
       "      <th>age</th>\n",
       "      <th>churn_date</th>\n",
       "      <th>city</th>\n",
       "      <th>first_name</th>\n",
       "      <th>last_name</th>\n",
       "      <th>reg_date</th>\n",
       "      <th>tariff</th>\n",
       "      <th>month</th>\n",
       "      <th>calls_count</th>\n",
       "      <th>duration_sum</th>\n",
       "      <th>messages_count</th>\n",
       "      <th>mb_used</th>\n",
       "      <th>messages_included</th>\n",
       "      <th>mb_per_month_included</th>\n",
       "      <th>minutes_included</th>\n",
       "      <th>rub_monthly_fee</th>\n",
       "      <th>rub_per_gb</th>\n",
       "      <th>rub_per_message</th>\n",
       "      <th>rub_per_minute</th>\n",
       "    </tr>\n",
       "  </thead>\n",
       "  <tbody>\n",
       "    <tr>\n",
       "      <td>0</td>\n",
       "      <td>1000</td>\n",
       "      <td>52.0</td>\n",
       "      <td>NaN</td>\n",
       "      <td>Краснодар</td>\n",
       "      <td>Рафаил</td>\n",
       "      <td>Верещагин</td>\n",
       "      <td>2018-05-25</td>\n",
       "      <td>ultra</td>\n",
       "      <td>2018-05-01</td>\n",
       "      <td>22.0</td>\n",
       "      <td>159.0</td>\n",
       "      <td>22.0</td>\n",
       "      <td>2.0</td>\n",
       "      <td>1000.0</td>\n",
       "      <td>30720.0</td>\n",
       "      <td>3000.0</td>\n",
       "      <td>1950.0</td>\n",
       "      <td>150.0</td>\n",
       "      <td>1.0</td>\n",
       "      <td>1.0</td>\n",
       "    </tr>\n",
       "    <tr>\n",
       "      <td>1</td>\n",
       "      <td>1000</td>\n",
       "      <td>52.0</td>\n",
       "      <td>NaN</td>\n",
       "      <td>Краснодар</td>\n",
       "      <td>Рафаил</td>\n",
       "      <td>Верещагин</td>\n",
       "      <td>2018-05-25</td>\n",
       "      <td>ultra</td>\n",
       "      <td>2018-06-01</td>\n",
       "      <td>43.0</td>\n",
       "      <td>172.0</td>\n",
       "      <td>60.0</td>\n",
       "      <td>22.0</td>\n",
       "      <td>1000.0</td>\n",
       "      <td>30720.0</td>\n",
       "      <td>3000.0</td>\n",
       "      <td>1950.0</td>\n",
       "      <td>150.0</td>\n",
       "      <td>1.0</td>\n",
       "      <td>1.0</td>\n",
       "    </tr>\n",
       "    <tr>\n",
       "      <td>2</td>\n",
       "      <td>1000</td>\n",
       "      <td>52.0</td>\n",
       "      <td>NaN</td>\n",
       "      <td>Краснодар</td>\n",
       "      <td>Рафаил</td>\n",
       "      <td>Верещагин</td>\n",
       "      <td>2018-05-25</td>\n",
       "      <td>ultra</td>\n",
       "      <td>2018-07-01</td>\n",
       "      <td>47.0</td>\n",
       "      <td>340.0</td>\n",
       "      <td>75.0</td>\n",
       "      <td>13.0</td>\n",
       "      <td>1000.0</td>\n",
       "      <td>30720.0</td>\n",
       "      <td>3000.0</td>\n",
       "      <td>1950.0</td>\n",
       "      <td>150.0</td>\n",
       "      <td>1.0</td>\n",
       "      <td>1.0</td>\n",
       "    </tr>\n",
       "    <tr>\n",
       "      <td>3</td>\n",
       "      <td>1000</td>\n",
       "      <td>52.0</td>\n",
       "      <td>NaN</td>\n",
       "      <td>Краснодар</td>\n",
       "      <td>Рафаил</td>\n",
       "      <td>Верещагин</td>\n",
       "      <td>2018-05-25</td>\n",
       "      <td>ultra</td>\n",
       "      <td>2018-08-01</td>\n",
       "      <td>52.0</td>\n",
       "      <td>408.0</td>\n",
       "      <td>81.0</td>\n",
       "      <td>13.0</td>\n",
       "      <td>1000.0</td>\n",
       "      <td>30720.0</td>\n",
       "      <td>3000.0</td>\n",
       "      <td>1950.0</td>\n",
       "      <td>150.0</td>\n",
       "      <td>1.0</td>\n",
       "      <td>1.0</td>\n",
       "    </tr>\n",
       "    <tr>\n",
       "      <td>4</td>\n",
       "      <td>1000</td>\n",
       "      <td>52.0</td>\n",
       "      <td>NaN</td>\n",
       "      <td>Краснодар</td>\n",
       "      <td>Рафаил</td>\n",
       "      <td>Верещагин</td>\n",
       "      <td>2018-05-25</td>\n",
       "      <td>ultra</td>\n",
       "      <td>2018-09-01</td>\n",
       "      <td>58.0</td>\n",
       "      <td>466.0</td>\n",
       "      <td>57.0</td>\n",
       "      <td>14.0</td>\n",
       "      <td>1000.0</td>\n",
       "      <td>30720.0</td>\n",
       "      <td>3000.0</td>\n",
       "      <td>1950.0</td>\n",
       "      <td>150.0</td>\n",
       "      <td>1.0</td>\n",
       "      <td>1.0</td>\n",
       "    </tr>\n",
       "    <tr>\n",
       "      <td>...</td>\n",
       "      <td>...</td>\n",
       "      <td>...</td>\n",
       "      <td>...</td>\n",
       "      <td>...</td>\n",
       "      <td>...</td>\n",
       "      <td>...</td>\n",
       "      <td>...</td>\n",
       "      <td>...</td>\n",
       "      <td>...</td>\n",
       "      <td>...</td>\n",
       "      <td>...</td>\n",
       "      <td>...</td>\n",
       "      <td>...</td>\n",
       "      <td>...</td>\n",
       "      <td>...</td>\n",
       "      <td>...</td>\n",
       "      <td>...</td>\n",
       "      <td>...</td>\n",
       "      <td>...</td>\n",
       "      <td>...</td>\n",
       "    </tr>\n",
       "    <tr>\n",
       "      <td>3217</td>\n",
       "      <td>1489</td>\n",
       "      <td>NaN</td>\n",
       "      <td>NaN</td>\n",
       "      <td>NaN</td>\n",
       "      <td>NaN</td>\n",
       "      <td>NaN</td>\n",
       "      <td>NaT</td>\n",
       "      <td>NaN</td>\n",
       "      <td>2018-09-01</td>\n",
       "      <td>NaN</td>\n",
       "      <td>NaN</td>\n",
       "      <td>32.0</td>\n",
       "      <td>16.0</td>\n",
       "      <td>NaN</td>\n",
       "      <td>NaN</td>\n",
       "      <td>NaN</td>\n",
       "      <td>NaN</td>\n",
       "      <td>NaN</td>\n",
       "      <td>NaN</td>\n",
       "      <td>NaN</td>\n",
       "    </tr>\n",
       "    <tr>\n",
       "      <td>3218</td>\n",
       "      <td>1489</td>\n",
       "      <td>NaN</td>\n",
       "      <td>NaN</td>\n",
       "      <td>NaN</td>\n",
       "      <td>NaN</td>\n",
       "      <td>NaN</td>\n",
       "      <td>NaT</td>\n",
       "      <td>NaN</td>\n",
       "      <td>2018-10-01</td>\n",
       "      <td>NaN</td>\n",
       "      <td>NaN</td>\n",
       "      <td>21.0</td>\n",
       "      <td>19.0</td>\n",
       "      <td>NaN</td>\n",
       "      <td>NaN</td>\n",
       "      <td>NaN</td>\n",
       "      <td>NaN</td>\n",
       "      <td>NaN</td>\n",
       "      <td>NaN</td>\n",
       "      <td>NaN</td>\n",
       "    </tr>\n",
       "    <tr>\n",
       "      <td>3219</td>\n",
       "      <td>1489</td>\n",
       "      <td>NaN</td>\n",
       "      <td>NaN</td>\n",
       "      <td>NaN</td>\n",
       "      <td>NaN</td>\n",
       "      <td>NaN</td>\n",
       "      <td>NaT</td>\n",
       "      <td>NaN</td>\n",
       "      <td>2018-11-01</td>\n",
       "      <td>NaN</td>\n",
       "      <td>NaN</td>\n",
       "      <td>20.0</td>\n",
       "      <td>17.0</td>\n",
       "      <td>NaN</td>\n",
       "      <td>NaN</td>\n",
       "      <td>NaN</td>\n",
       "      <td>NaN</td>\n",
       "      <td>NaN</td>\n",
       "      <td>NaN</td>\n",
       "      <td>NaN</td>\n",
       "    </tr>\n",
       "    <tr>\n",
       "      <td>3220</td>\n",
       "      <td>1489</td>\n",
       "      <td>NaN</td>\n",
       "      <td>NaN</td>\n",
       "      <td>NaN</td>\n",
       "      <td>NaN</td>\n",
       "      <td>NaN</td>\n",
       "      <td>NaT</td>\n",
       "      <td>NaN</td>\n",
       "      <td>2018-12-01</td>\n",
       "      <td>NaN</td>\n",
       "      <td>NaN</td>\n",
       "      <td>35.0</td>\n",
       "      <td>16.0</td>\n",
       "      <td>NaN</td>\n",
       "      <td>NaN</td>\n",
       "      <td>NaN</td>\n",
       "      <td>NaN</td>\n",
       "      <td>NaN</td>\n",
       "      <td>NaN</td>\n",
       "      <td>NaN</td>\n",
       "    </tr>\n",
       "    <tr>\n",
       "      <td>3221</td>\n",
       "      <td>1476</td>\n",
       "      <td>NaN</td>\n",
       "      <td>NaN</td>\n",
       "      <td>NaN</td>\n",
       "      <td>NaN</td>\n",
       "      <td>NaN</td>\n",
       "      <td>NaT</td>\n",
       "      <td>NaN</td>\n",
       "      <td>2018-04-01</td>\n",
       "      <td>NaN</td>\n",
       "      <td>NaN</td>\n",
       "      <td>NaN</td>\n",
       "      <td>0.0</td>\n",
       "      <td>NaN</td>\n",
       "      <td>NaN</td>\n",
       "      <td>NaN</td>\n",
       "      <td>NaN</td>\n",
       "      <td>NaN</td>\n",
       "      <td>NaN</td>\n",
       "      <td>NaN</td>\n",
       "    </tr>\n",
       "  </tbody>\n",
       "</table>\n",
       "<p>3222 rows × 20 columns</p>\n",
       "</div>"
      ],
      "text/plain": [
       "      user_id   age churn_date       city first_name  last_name   reg_date  \\\n",
       "0        1000  52.0        NaN  Краснодар     Рафаил  Верещагин 2018-05-25   \n",
       "1        1000  52.0        NaN  Краснодар     Рафаил  Верещагин 2018-05-25   \n",
       "2        1000  52.0        NaN  Краснодар     Рафаил  Верещагин 2018-05-25   \n",
       "3        1000  52.0        NaN  Краснодар     Рафаил  Верещагин 2018-05-25   \n",
       "4        1000  52.0        NaN  Краснодар     Рафаил  Верещагин 2018-05-25   \n",
       "...       ...   ...        ...        ...        ...        ...        ...   \n",
       "3217     1489   NaN        NaN        NaN        NaN        NaN        NaT   \n",
       "3218     1489   NaN        NaN        NaN        NaN        NaN        NaT   \n",
       "3219     1489   NaN        NaN        NaN        NaN        NaN        NaT   \n",
       "3220     1489   NaN        NaN        NaN        NaN        NaN        NaT   \n",
       "3221     1476   NaN        NaN        NaN        NaN        NaN        NaT   \n",
       "\n",
       "     tariff      month  calls_count  duration_sum  messages_count  mb_used  \\\n",
       "0     ultra 2018-05-01         22.0         159.0            22.0      2.0   \n",
       "1     ultra 2018-06-01         43.0         172.0            60.0     22.0   \n",
       "2     ultra 2018-07-01         47.0         340.0            75.0     13.0   \n",
       "3     ultra 2018-08-01         52.0         408.0            81.0     13.0   \n",
       "4     ultra 2018-09-01         58.0         466.0            57.0     14.0   \n",
       "...     ...        ...          ...           ...             ...      ...   \n",
       "3217    NaN 2018-09-01          NaN           NaN            32.0     16.0   \n",
       "3218    NaN 2018-10-01          NaN           NaN            21.0     19.0   \n",
       "3219    NaN 2018-11-01          NaN           NaN            20.0     17.0   \n",
       "3220    NaN 2018-12-01          NaN           NaN            35.0     16.0   \n",
       "3221    NaN 2018-04-01          NaN           NaN             NaN      0.0   \n",
       "\n",
       "      messages_included  mb_per_month_included  minutes_included  \\\n",
       "0                1000.0                30720.0            3000.0   \n",
       "1                1000.0                30720.0            3000.0   \n",
       "2                1000.0                30720.0            3000.0   \n",
       "3                1000.0                30720.0            3000.0   \n",
       "4                1000.0                30720.0            3000.0   \n",
       "...                 ...                    ...               ...   \n",
       "3217                NaN                    NaN               NaN   \n",
       "3218                NaN                    NaN               NaN   \n",
       "3219                NaN                    NaN               NaN   \n",
       "3220                NaN                    NaN               NaN   \n",
       "3221                NaN                    NaN               NaN   \n",
       "\n",
       "      rub_monthly_fee  rub_per_gb  rub_per_message  rub_per_minute  \n",
       "0              1950.0       150.0              1.0             1.0  \n",
       "1              1950.0       150.0              1.0             1.0  \n",
       "2              1950.0       150.0              1.0             1.0  \n",
       "3              1950.0       150.0              1.0             1.0  \n",
       "4              1950.0       150.0              1.0             1.0  \n",
       "...               ...         ...              ...             ...  \n",
       "3217              NaN         NaN              NaN             NaN  \n",
       "3218              NaN         NaN              NaN             NaN  \n",
       "3219              NaN         NaN              NaN             NaN  \n",
       "3220              NaN         NaN              NaN             NaN  \n",
       "3221              NaN         NaN              NaN             NaN  \n",
       "\n",
       "[3222 rows x 20 columns]"
      ]
     },
     "execution_count": 12,
     "metadata": {},
     "output_type": "execute_result"
    }
   ],
   "source": [
    "df = df_users.merge(df_calls_grouped, on='user_id', how='outer')\n",
    "df = df.merge(df_messages_grouped, on=['user_id', 'month'], how='outer')\n",
    "df = df.merge(df_internet_grouped, on=['user_id', 'month'], how='outer')\n",
    "df = df.merge(df_tariffs, on=['tariff'], how='left')\n",
    "df"
   ]
  },
  {
   "cell_type": "markdown",
   "metadata": {},
   "source": [
    "Теперь посчитаем выручку от каждого пользователя"
   ]
  },
  {
   "cell_type": "code",
   "execution_count": 13,
   "metadata": {},
   "outputs": [
    {
     "data": {
      "text/plain": [
       "0       1950.0\n",
       "1       1950.0\n",
       "2       1950.0\n",
       "3       1950.0\n",
       "4       1950.0\n",
       "         ...  \n",
       "3217       NaN\n",
       "3218       NaN\n",
       "3219       NaN\n",
       "3220       NaN\n",
       "3221       NaN\n",
       "Name: revenue, Length: 3222, dtype: float64"
      ]
     },
     "execution_count": 13,
     "metadata": {},
     "output_type": "execute_result"
    }
   ],
   "source": [
    "# фунция подсчета выручки\n",
    "def revenue(row):\n",
    "    sms = (row['messages_count'] - row['messages_included'])*row['rub_per_message']\n",
    "    mins = (row['duration_sum'] - row['minutes_included'])*row['rub_per_minute']\n",
    "    gbs = (row['mb_used'] - row['mb_per_month_included'])/ 1024\n",
    "    gbs = np.ceil(gbs) * row['rub_per_gb']\n",
    "    \n",
    "    total = 0\n",
    "    if sms>0:\n",
    "        total += sms\n",
    "    if mins>0:\n",
    "        total += mins\n",
    "    if gbs>0:\n",
    "        total += gbs\n",
    "    total += row['rub_monthly_fee']\n",
    "    return total\n",
    "df['revenue'] = df.apply(revenue,axis = 1)\n",
    "df['revenue']"
   ]
  },
  {
   "cell_type": "markdown",
   "metadata": {},
   "source": []
  },
  {
   "cell_type": "markdown",
   "metadata": {},
   "source": [
    "## Анализ данных"
   ]
  },
  {
   "cell_type": "markdown",
   "metadata": {},
   "source": [
    "Сколько минут разговора, сколько сообщений и какой объём интернет-трафика требуется пользователям каждого тарифа в месяц? \n",
    "\n",
    "Посчить среднее количество, дисперсию и стандартное отклонение.\n",
    "\n",
    "Постройть гистограммы.\n",
    "Описать распределения."
   ]
  },
  {
   "cell_type": "code",
   "execution_count": 14,
   "metadata": {},
   "outputs": [
    {
     "data": {
      "text/html": [
       "<div>\n",
       "<style scoped>\n",
       "    .dataframe tbody tr th:only-of-type {\n",
       "        vertical-align: middle;\n",
       "    }\n",
       "\n",
       "    .dataframe tbody tr th {\n",
       "        vertical-align: top;\n",
       "    }\n",
       "\n",
       "    .dataframe thead th {\n",
       "        text-align: right;\n",
       "    }\n",
       "</style>\n",
       "<table border=\"1\" class=\"dataframe\">\n",
       "  <thead>\n",
       "    <tr style=\"text-align: right;\">\n",
       "      <th></th>\n",
       "      <th>duration_mean</th>\n",
       "      <th>duration_var</th>\n",
       "      <th>duration_std</th>\n",
       "    </tr>\n",
       "    <tr>\n",
       "      <th>tariff</th>\n",
       "      <th></th>\n",
       "      <th></th>\n",
       "      <th></th>\n",
       "    </tr>\n",
       "  </thead>\n",
       "  <tbody>\n",
       "    <tr>\n",
       "      <td>smart</td>\n",
       "      <td>419.06</td>\n",
       "      <td>35844.19</td>\n",
       "      <td>189.33</td>\n",
       "    </tr>\n",
       "    <tr>\n",
       "      <td>ultra</td>\n",
       "      <td>545.45</td>\n",
       "      <td>94203.42</td>\n",
       "      <td>306.93</td>\n",
       "    </tr>\n",
       "  </tbody>\n",
       "</table>\n",
       "</div>"
      ],
      "text/plain": [
       "        duration_mean  duration_var  duration_std\n",
       "tariff                                           \n",
       "smart          419.06      35844.19        189.33\n",
       "ultra          545.45      94203.42        306.93"
      ]
     },
     "metadata": {},
     "output_type": "display_data"
    },
    {
     "data": {
      "text/plain": [
       "<matplotlib.legend.Legend at 0x7f66b3e266d0>"
      ]
     },
     "execution_count": 14,
     "metadata": {},
     "output_type": "execute_result"
    },
    {
     "data": {
      "image/png": "[encoded data removed]",
      "text/plain": [
       "<Figure size 432x288 with 1 Axes>"
      ]
     },
     "metadata": {
      "needs_background": "light"
     },
     "output_type": "display_data"
    }
   ],
   "source": [
    "duration_pivot = df.pivot_table(index= 'tariff', values= 'duration_sum', aggfunc= ['mean', 'var','std']).round(2)\n",
    "duration_pivot.columns=['duration_mean', 'duration_var', 'duration_std']\n",
    "display(duration_pivot)\n",
    "plt.hist(df[df['tariff'] == 'ultra']['duration_sum'], bins=20, alpha=0.5, label='ultra')\n",
    "plt.axvline(x = 3000, color = 'b', label = 'допуск ultra')\n",
    "plt.hist(df[df['tariff'] == 'smart']['duration_sum'], bins=20, alpha=0.5, label='smart')\n",
    "plt.axvline(x = 500, color = 'r', label = 'допуск smart')\n",
    "plt.legend(loc='upper right')\n",
    "\n"
   ]
  },
  {
   "cell_type": "markdown",
   "metadata": {},
   "source": [
    "Оба распределения близки к нормальному. Средние значения тоже близки. У тарифа ultra дисперсия гораздо выше тарифа smart и больше отклонение от среднего.\n",
    "\n",
    "В тарифе smart много превышений включенного в тариф количества минут."
   ]
  },
  {
   "cell_type": "code",
   "execution_count": 15,
   "metadata": {},
   "outputs": [
    {
     "data": {
      "text/html": [
       "<div>\n",
       "<style scoped>\n",
       "    .dataframe tbody tr th:only-of-type {\n",
       "        vertical-align: middle;\n",
       "    }\n",
       "\n",
       "    .dataframe tbody tr th {\n",
       "        vertical-align: top;\n",
       "    }\n",
       "\n",
       "    .dataframe thead th {\n",
       "        text-align: right;\n",
       "    }\n",
       "</style>\n",
       "<table border=\"1\" class=\"dataframe\">\n",
       "  <thead>\n",
       "    <tr style=\"text-align: right;\">\n",
       "      <th></th>\n",
       "      <th>messages_mean</th>\n",
       "      <th>messages_var</th>\n",
       "      <th>messages_std</th>\n",
       "    </tr>\n",
       "    <tr>\n",
       "      <th>tariff</th>\n",
       "      <th></th>\n",
       "      <th></th>\n",
       "      <th></th>\n",
       "    </tr>\n",
       "  </thead>\n",
       "  <tbody>\n",
       "    <tr>\n",
       "      <td>smart</td>\n",
       "      <td>38.75</td>\n",
       "      <td>719.17</td>\n",
       "      <td>26.82</td>\n",
       "    </tr>\n",
       "    <tr>\n",
       "      <td>ultra</td>\n",
       "      <td>61.20</td>\n",
       "      <td>1999.57</td>\n",
       "      <td>44.72</td>\n",
       "    </tr>\n",
       "  </tbody>\n",
       "</table>\n",
       "</div>"
      ],
      "text/plain": [
       "        messages_mean  messages_var  messages_std\n",
       "tariff                                           \n",
       "smart           38.75        719.17         26.82\n",
       "ultra           61.20       1999.57         44.72"
      ]
     },
     "metadata": {},
     "output_type": "display_data"
    },
    {
     "data": {
      "text/plain": [
       "<matplotlib.legend.Legend at 0x7f66b3e26650>"
      ]
     },
     "execution_count": 15,
     "metadata": {},
     "output_type": "execute_result"
    },
    {
     "data": {
      "image/png": "[encoded data removed]",
      "text/plain": [
       "<Figure size 432x288 with 1 Axes>"
      ]
     },
     "metadata": {
      "needs_background": "light"
     },
     "output_type": "display_data"
    }
   ],
   "source": [
    "messages_pivot = df.pivot_table(index= 'tariff', values= 'messages_count', aggfunc= ['mean', 'var','std']).round(2)\n",
    "messages_pivot.columns=['messages_mean', 'messages_var', 'messages_std']\n",
    "display(messages_pivot)\n",
    "plt.hist(df[df['tariff'] == 'ultra']['messages_count'], bins=20, alpha=0.5, label='ultra')\n",
    "plt.axvline(x = 1000, color = 'b', label = 'допуск ultra')\n",
    "plt.hist(df[df['tariff'] == 'smart']['messages_count'], bins=20, alpha=0.5, label='smart')\n",
    "plt.axvline(x = 50, color = 'r', label = 'допуск smart')\n",
    "plt.legend(loc='upper right')\n"
   ]
  },
  {
   "cell_type": "markdown",
   "metadata": {},
   "source": [
    "Оба распределения положительно скошены. У тарифа ultra дисперсия также гораздо выше тарифа smart и отклонения тоже больше чем у тарифа smart.\n",
    "Также много пользователей превышают включенный лимит сообщений"
   ]
  },
  {
   "cell_type": "code",
   "execution_count": 16,
   "metadata": {},
   "outputs": [
    {
     "data": {
      "text/html": [
       "<div>\n",
       "<style scoped>\n",
       "    .dataframe tbody tr th:only-of-type {\n",
       "        vertical-align: middle;\n",
       "    }\n",
       "\n",
       "    .dataframe tbody tr th {\n",
       "        vertical-align: top;\n",
       "    }\n",
       "\n",
       "    .dataframe thead th {\n",
       "        text-align: right;\n",
       "    }\n",
       "</style>\n",
       "<table border=\"1\" class=\"dataframe\">\n",
       "  <thead>\n",
       "    <tr style=\"text-align: right;\">\n",
       "      <th></th>\n",
       "      <th>mb_mean</th>\n",
       "      <th>mb_var</th>\n",
       "      <th>mb_std</th>\n",
       "    </tr>\n",
       "    <tr>\n",
       "      <th>tariff</th>\n",
       "      <th></th>\n",
       "      <th></th>\n",
       "      <th></th>\n",
       "    </tr>\n",
       "  </thead>\n",
       "  <tbody>\n",
       "    <tr>\n",
       "      <td>smart</td>\n",
       "      <td>15.34</td>\n",
       "      <td>32.99</td>\n",
       "      <td>5.74</td>\n",
       "    </tr>\n",
       "    <tr>\n",
       "      <td>ultra</td>\n",
       "      <td>18.70</td>\n",
       "      <td>94.75</td>\n",
       "      <td>9.73</td>\n",
       "    </tr>\n",
       "  </tbody>\n",
       "</table>\n",
       "</div>"
      ],
      "text/plain": [
       "        mb_mean  mb_var  mb_std\n",
       "tariff                         \n",
       "smart     15.34   32.99    5.74\n",
       "ultra     18.70   94.75    9.73"
      ]
     },
     "metadata": {},
     "output_type": "display_data"
    },
    {
     "data": {
      "text/plain": [
       "<matplotlib.legend.Legend at 0x7f66b3d22f10>"
      ]
     },
     "execution_count": 16,
     "metadata": {},
     "output_type": "execute_result"
    },
    {
     "data": {
      "image/png": "[encoded data removed]",
      "text/plain": [
       "<Figure size 432x288 with 1 Axes>"
      ]
     },
     "metadata": {
      "needs_background": "light"
     },
     "output_type": "display_data"
    }
   ],
   "source": [
    "mb_pivot = df.pivot_table(index= 'tariff', values= 'mb_used', aggfunc= ['mean', 'var','std']).round(2)\n",
    "mb_pivot.columns=['mb_mean', 'mb_var', 'mb_std']\n",
    "display(mb_pivot)\n",
    "plt.hist(df[df['tariff'] == 'ultra']['mb_used'], bins=20, alpha=0.5, label='ultra')\n",
    "plt.axvline(x = 30, color = 'b', label = 'допуск ultra')\n",
    "plt.hist(df[df['tariff'] == 'smart']['mb_used'], bins=20, alpha=0.5, label='smart')\n",
    "plt.axvline(x = 15, color = 'r', label = 'допуск smart')\n",
    "plt.legend(loc='upper right')\n"
   ]
  },
  {
   "cell_type": "markdown",
   "metadata": {},
   "source": [
    "Распределения близкие к нормальному. Как и со звонками и смс у тарифа ultra дисперсия и среднее отклонение также гораздо выше тарифа smart. Среднее количество трафика в тарифе smart гораздо выше.\n",
    "\n",
    "Пользователям тарифа smart маловато трафика включенного в тариф, много превышений."
   ]
  },
  {
   "cell_type": "markdown",
   "metadata": {},
   "source": [
    "## Проверка гипотезы"
   ]
  },
  {
   "cell_type": "markdown",
   "metadata": {},
   "source": [
    "средняя выручка пользователей тарифов «Ультра» и «Смарт» различаются;\n",
    "\n",
    "средняя выручка пользователей из Москвы отличается от выручки пользователей из других регионов.\n",
    "\n"
   ]
  },
  {
   "cell_type": "code",
   "execution_count": 17,
   "metadata": {},
   "outputs": [
    {
     "name": "stdout",
     "output_type": "stream",
     "text": [
      "tariff\n",
      "smart    1540751.0\n",
      "ultra    1866150.0\n",
      "Name: revenue, dtype: float64\n"
     ]
    },
    {
     "data": {
      "text/html": [
       "<div>\n",
       "<style scoped>\n",
       "    .dataframe tbody tr th:only-of-type {\n",
       "        vertical-align: middle;\n",
       "    }\n",
       "\n",
       "    .dataframe tbody tr th {\n",
       "        vertical-align: top;\n",
       "    }\n",
       "\n",
       "    .dataframe thead tr th {\n",
       "        text-align: left;\n",
       "    }\n",
       "\n",
       "    .dataframe thead tr:last-of-type th {\n",
       "        text-align: right;\n",
       "    }\n",
       "</style>\n",
       "<table border=\"1\" class=\"dataframe\">\n",
       "  <thead>\n",
       "    <tr>\n",
       "      <th></th>\n",
       "      <th>mean</th>\n",
       "      <th>var</th>\n",
       "      <th>std</th>\n",
       "    </tr>\n",
       "    <tr>\n",
       "      <th></th>\n",
       "      <th>revenue</th>\n",
       "      <th>revenue</th>\n",
       "      <th>revenue</th>\n",
       "    </tr>\n",
       "    <tr>\n",
       "      <th>tariff</th>\n",
       "      <th></th>\n",
       "      <th></th>\n",
       "      <th></th>\n",
       "    </tr>\n",
       "  </thead>\n",
       "  <tbody>\n",
       "    <tr>\n",
       "      <td>smart</td>\n",
       "      <td>692.47</td>\n",
       "      <td>68217.34</td>\n",
       "      <td>261.18</td>\n",
       "    </tr>\n",
       "    <tr>\n",
       "      <td>ultra</td>\n",
       "      <td>1950.00</td>\n",
       "      <td>0.00</td>\n",
       "      <td>0.00</td>\n",
       "    </tr>\n",
       "  </tbody>\n",
       "</table>\n",
       "</div>"
      ],
      "text/plain": [
       "           mean       var     std\n",
       "        revenue   revenue revenue\n",
       "tariff                           \n",
       "smart    692.47  68217.34  261.18\n",
       "ultra   1950.00      0.00    0.00"
      ]
     },
     "execution_count": 17,
     "metadata": {},
     "output_type": "execute_result"
    },
    {
     "data": {
      "image/png": "[encoded data removed]",
      "text/plain": [
       "<Figure size 432x288 with 1 Axes>"
      ]
     },
     "metadata": {
      "needs_background": "light"
     },
     "output_type": "display_data"
    }
   ],
   "source": [
    "plt.hist(df[df['tariff'] == 'ultra']['revenue'], bins=20, alpha=0.5, label='ultra')\n",
    "plt.hist(df[df['tariff'] == 'smart']['revenue'], bins=20, alpha=0.5, label='smart')\n",
    "plt.legend(loc='upper right')\n",
    "# расчитаем сренее, , дисперсию и отклонение\n",
    "var_revenue = df.pivot_table(index= 'tariff', values= 'revenue', aggfunc= ['mean', 'var','std']).round(2)\n",
    "print(df.groupby('tariff')['revenue'].sum()) #посчитаем общую выручку по тарифам\n",
    "var_revenue"
   ]
  },
  {
   "cell_type": "markdown",
   "metadata": {},
   "source": [
    "Общая выручка тарифов схожа, а вот средняя выручка отличается\n",
    "\n",
    "Проверим гипотезу что средняя выручка тарифов одинакова. Альтернативной гипотезой будет не равенство вывручки.\n",
    "\n",
    "Проверку проведем двусторонним t-тестом, критический уровень статистической значимости выберим 5%"
   ]
  },
  {
   "cell_type": "code",
   "execution_count": 18,
   "metadata": {},
   "outputs": [
    {
     "name": "stdout",
     "output_type": "stream",
     "text": [
      "p-значение:  0.0\n",
      "Отвергаем нулевую гипотезу\n"
     ]
    }
   ],
   "source": [
    "smart = df[df['tariff']=='smart']['revenue'] \n",
    "ultra = df[df['tariff']=='ultra']['revenue'] \n",
    " \n",
    "alpha = 0.05\n",
    "results = st.ttest_ind(smart, ultra, equal_var = False)\n",
    " \n",
    "print('p-значение: ', results.pvalue)\n",
    " \n",
    "if results.pvalue < alpha:\n",
    "    print(\"Отвергаем нулевую гипотезу\")\n",
    "else:\n",
    "    print(\"Не получилось отвергнуть нулевую гипотезу\") \n"
   ]
  },
  {
   "cell_type": "markdown",
   "metadata": {},
   "source": [
    "Гипотеза что средние выручки тарифов равны не верная.\n"
   ]
  },
  {
   "cell_type": "markdown",
   "metadata": {},
   "source": [
    "Теперь сравним выручку по тарифам в Москве и в других регионах.\n",
    "\n",
    "Тем же методом и с такими же гипотезами."
   ]
  },
  {
   "cell_type": "code",
   "execution_count": 19,
   "metadata": {},
   "outputs": [
    {
     "name": "stdout",
     "output_type": "stream",
     "text": [
      "средняя выручка в Москве: 1146.544262295082\n",
      "средняя выручка в других регионах: 1052.6862363919129\n",
      "p-значение:  0.0010660098332554646\n",
      "Отвергаем нулевую гипотезу\n"
     ]
    }
   ],
   "source": [
    "moskow = df[df['city']=='Москва']['revenue'].dropna()\n",
    "not_moskow = df[df['city']!='Москва']['revenue'].dropna()\n",
    "alpha = 0.05\n",
    "results = st.ttest_ind(moskow, not_moskow, equal_var = False)\n",
    "print('средняя выручка в Москве:', moskow.mean())\n",
    "print('средняя выручка в других регионах:', not_moskow.mean())\n",
    "print('p-значение: ', results.pvalue)\n",
    " \n",
    "if results.pvalue < alpha:\n",
    "    print(\"Отвергаем нулевую гипотезу\")\n",
    "else:\n",
    "    print(\"Не получилось отвергнуть нулевую гипотезу\") "
   ]
  },
  {
   "cell_type": "markdown",
   "metadata": {},
   "source": [
    "Средняя выручка в Москве равна средней выручке в других регионах"
   ]
  },
  {
   "cell_type": "code",
   "execution_count": 20,
   "metadata": {},
   "outputs": [
    {
     "data": {
      "text/plain": [
       "<matplotlib.legend.Legend at 0x7f66a971c790>"
      ]
     },
     "execution_count": 20,
     "metadata": {},
     "output_type": "execute_result"
    },
    {
     "data": {
      "image/png": "[encoded data removed]",
      "text/plain": [
       "<Figure size 432x288 with 1 Axes>"
      ]
     },
     "metadata": {
      "needs_background": "light"
     },
     "output_type": "display_data"
    }
   ],
   "source": [
    "plt.hist(df[df['city'] == 'Москва']['revenue'], bins=20, alpha=0.5, label='Москва')\n",
    "plt.hist(df[df['city'] != 'Москва']['revenue'], bins=20, alpha=0.5, label='Другие')\n",
    "plt.legend(loc='upper right')"
   ]
  },
  {
   "cell_type": "markdown",
   "metadata": {},
   "source": [
    "## Общий вывод"
   ]
  },
  {
   "cell_type": "markdown",
   "metadata": {},
   "source": [
    "Вывд:\n",
    "В тарифе smart больше коротких звонков и меньше сообщений. Расходование интернет трафика близки в тарифах.\n",
    "- Среднее количество звонков в тарифе smart 419 а в тарифе ultra 545. Отличие не большое, но больше половины пользователей тарифа smart превышают включенные в тариф количество минут.\n",
    "- Среднее количество сообщений в тарифе smart 38 а в тарифе ultra 61. Есть различие. Как и с минутами пользователи тарифа smart превышают включенные в тариф количество сообщений, а тарифа ultra не используют предоставленные сообщения.\n",
    "- Среднее количество использованого трафика интернета в тарифе smart 16237 а в тарифе ultra 19687. Есть небольшое различие. Также пользователи тарифа smart превышают включенные в тариф количество трафика, а пользователи тарифа ultra не часть превышают лимит.\n",
    "\n",
    "Общая выручка у тарифов примерно одинатовая хотя средняя выручка в месяц гораздо выше у тарифа ultra.\n",
    "Среднияя выручка тарифа smart 1294 а тарифа ultra выше 2071. Сравнивая выручку в Москве и в других регионах примерно одинаковые. Значит регион не влияет на среднюю выручку по тарифам.\n",
    "\n",
    "**В итоге можно сделать вывод что тариф ultra лучше тарифа smart так как пользователи не будут превышать установленный лимит звонков сообщений и трафика. А если учесть что средняя выручка тарифа ultra выше то и для компании «Мегалайн» выгодно рекламировать этот тариф активнее.**\n"
   ]
  },
  {
   "cell_type": "code",
   "execution_count": null,
   "metadata": {},
   "outputs": [],
   "source": []
  }
 ],
 "metadata": {
  "ExecuteTimeLog": [
   {
    "duration": 1009,
    "start_time": "2022-02-01T21:03:59.078Z"
   },
   {
    "duration": 41,
    "start_time": "2022-02-01T21:04:20.346Z"
   },
   {
    "duration": 42,
    "start_time": "2022-02-01T21:05:19.160Z"
   },
   {
    "duration": 201,
    "start_time": "2022-02-01T21:11:23.511Z"
   },
   {
    "duration": 182,
    "start_time": "2022-02-01T21:14:10.473Z"
   },
   {
    "duration": 121,
    "start_time": "2022-02-01T21:17:30.259Z"
   },
   {
    "duration": 30,
    "start_time": "2022-02-01T21:19:03.840Z"
   },
   {
    "duration": 13,
    "start_time": "2022-02-01T21:28:12.623Z"
   },
   {
    "duration": 22,
    "start_time": "2022-02-01T21:33:14.413Z"
   },
   {
    "duration": 6,
    "start_time": "2022-02-01T22:08:11.140Z"
   },
   {
    "duration": 8,
    "start_time": "2022-02-01T22:08:37.840Z"
   },
   {
    "duration": 8,
    "start_time": "2022-02-01T22:08:51.968Z"
   },
   {
    "duration": 60,
    "start_time": "2022-02-01T22:12:19.109Z"
   },
   {
    "duration": 39,
    "start_time": "2022-02-01T22:13:59.427Z"
   },
   {
    "duration": 26,
    "start_time": "2022-02-01T22:14:10.555Z"
   },
   {
    "duration": 25,
    "start_time": "2022-02-01T22:14:21.810Z"
   },
   {
    "duration": 30,
    "start_time": "2022-02-01T22:14:32.468Z"
   },
   {
    "duration": 16,
    "start_time": "2022-02-01T22:14:56.626Z"
   },
   {
    "duration": 388,
    "start_time": "2022-02-03T20:16:09.041Z"
   },
   {
    "duration": 876,
    "start_time": "2022-02-03T20:16:25.555Z"
   },
   {
    "duration": 237,
    "start_time": "2022-02-03T20:16:26.433Z"
   },
   {
    "duration": 203,
    "start_time": "2022-02-03T20:16:26.673Z"
   },
   {
    "duration": 15,
    "start_time": "2022-02-03T20:16:26.879Z"
   },
   {
    "duration": 49,
    "start_time": "2022-02-03T20:16:26.896Z"
   },
   {
    "duration": 143,
    "start_time": "2022-02-03T20:16:26.947Z"
   },
   {
    "duration": 41,
    "start_time": "2022-02-03T20:16:27.093Z"
   },
   {
    "duration": 108,
    "start_time": "2022-02-03T20:16:27.138Z"
   },
   {
    "duration": 17,
    "start_time": "2022-02-03T20:16:27.249Z"
   },
   {
    "duration": 369,
    "start_time": "2022-02-03T20:16:27.269Z"
   },
   {
    "duration": 272,
    "start_time": "2022-02-03T20:16:27.369Z"
   },
   {
    "duration": 271,
    "start_time": "2022-02-03T20:16:27.372Z"
   },
   {
    "duration": 264,
    "start_time": "2022-02-03T20:16:27.380Z"
   },
   {
    "duration": 253,
    "start_time": "2022-02-03T20:16:27.393Z"
   },
   {
    "duration": 251,
    "start_time": "2022-02-03T20:16:27.396Z"
   },
   {
    "duration": 251,
    "start_time": "2022-02-03T20:16:27.398Z"
   },
   {
    "duration": 250,
    "start_time": "2022-02-03T20:16:27.401Z"
   },
   {
    "duration": 248,
    "start_time": "2022-02-03T20:16:27.404Z"
   },
   {
    "duration": 248,
    "start_time": "2022-02-03T20:16:27.406Z"
   },
   {
    "duration": 246,
    "start_time": "2022-02-03T20:16:27.409Z"
   },
   {
    "duration": 245,
    "start_time": "2022-02-03T20:16:27.411Z"
   },
   {
    "duration": 244,
    "start_time": "2022-02-03T20:16:27.414Z"
   },
   {
    "duration": 240,
    "start_time": "2022-02-03T20:16:27.419Z"
   },
   {
    "duration": 239,
    "start_time": "2022-02-03T20:16:27.422Z"
   },
   {
    "duration": 209,
    "start_time": "2022-02-03T20:16:27.453Z"
   },
   {
    "duration": 208,
    "start_time": "2022-02-03T20:16:27.456Z"
   },
   {
    "duration": 206,
    "start_time": "2022-02-03T20:16:27.459Z"
   },
   {
    "duration": 206,
    "start_time": "2022-02-03T20:16:27.461Z"
   },
   {
    "duration": 203,
    "start_time": "2022-02-03T20:16:27.465Z"
   },
   {
    "duration": 201,
    "start_time": "2022-02-03T20:16:27.468Z"
   },
   {
    "duration": 198,
    "start_time": "2022-02-03T20:16:27.473Z"
   },
   {
    "duration": 193,
    "start_time": "2022-02-03T20:16:27.479Z"
   },
   {
    "duration": 192,
    "start_time": "2022-02-03T20:16:27.481Z"
   },
   {
    "duration": 191,
    "start_time": "2022-02-03T20:16:27.484Z"
   },
   {
    "duration": 190,
    "start_time": "2022-02-03T20:16:27.486Z"
   },
   {
    "duration": 46,
    "start_time": "2022-02-03T20:19:35.621Z"
   },
   {
    "duration": 44,
    "start_time": "2022-02-03T20:27:01.040Z"
   },
   {
    "duration": 40,
    "start_time": "2022-02-03T20:28:50.430Z"
   },
   {
    "duration": 60,
    "start_time": "2022-02-03T20:31:18.194Z"
   },
   {
    "duration": 49,
    "start_time": "2022-02-03T20:31:49.128Z"
   },
   {
    "duration": 44,
    "start_time": "2022-02-03T20:31:56.885Z"
   },
   {
    "duration": 49,
    "start_time": "2022-02-03T20:32:04.353Z"
   },
   {
    "duration": 374,
    "start_time": "2022-02-03T20:33:11.517Z"
   },
   {
    "duration": 418,
    "start_time": "2022-02-03T20:33:24.222Z"
   },
   {
    "duration": 49,
    "start_time": "2022-02-03T20:35:14.581Z"
   },
   {
    "duration": 53,
    "start_time": "2022-02-03T20:40:59.532Z"
   },
   {
    "duration": 40,
    "start_time": "2022-02-03T20:42:13.722Z"
   },
   {
    "duration": 43,
    "start_time": "2022-02-03T20:52:37.583Z"
   },
   {
    "duration": 41,
    "start_time": "2022-02-03T20:52:56.304Z"
   },
   {
    "duration": 41,
    "start_time": "2022-02-03T21:05:07.687Z"
   },
   {
    "duration": 33,
    "start_time": "2022-02-03T21:54:52.547Z"
   },
   {
    "duration": 54,
    "start_time": "2022-02-03T21:56:41.573Z"
   },
   {
    "duration": 333,
    "start_time": "2022-02-03T21:58:09.141Z"
   },
   {
    "duration": 79,
    "start_time": "2022-02-03T21:58:36.789Z"
   },
   {
    "duration": 80,
    "start_time": "2022-02-03T21:58:53.481Z"
   },
   {
    "duration": 33,
    "start_time": "2022-02-03T21:59:49.732Z"
   },
   {
    "duration": 70,
    "start_time": "2022-02-03T22:04:31.338Z"
   },
   {
    "duration": 67,
    "start_time": "2022-02-03T22:05:03.246Z"
   },
   {
    "duration": 81,
    "start_time": "2022-02-03T22:05:15.892Z"
   },
   {
    "duration": 53,
    "start_time": "2022-02-03T22:12:25.238Z"
   },
   {
    "duration": 99,
    "start_time": "2022-02-03T22:29:51.188Z"
   },
   {
    "duration": 60,
    "start_time": "2022-02-03T22:32:21.199Z"
   },
   {
    "duration": 64,
    "start_time": "2022-02-03T22:33:47.464Z"
   },
   {
    "duration": 36,
    "start_time": "2022-02-03T22:34:12.866Z"
   },
   {
    "duration": 110,
    "start_time": "2022-02-03T22:36:38.831Z"
   },
   {
    "duration": 101,
    "start_time": "2022-02-03T22:40:29.248Z"
   },
   {
    "duration": 60,
    "start_time": "2022-02-03T22:41:15.288Z"
   },
   {
    "duration": 59,
    "start_time": "2022-02-03T22:42:59.280Z"
   },
   {
    "duration": 57,
    "start_time": "2022-02-03T22:43:32.386Z"
   },
   {
    "duration": 33,
    "start_time": "2022-02-03T22:43:49.432Z"
   },
   {
    "duration": 286,
    "start_time": "2022-02-03T22:48:55.993Z"
   },
   {
    "duration": 332,
    "start_time": "2022-02-03T22:55:06.463Z"
   },
   {
    "duration": 269,
    "start_time": "2022-02-03T22:55:25.795Z"
   },
   {
    "duration": 43,
    "start_time": "2022-02-03T22:55:48.267Z"
   },
   {
    "duration": 396,
    "start_time": "2022-02-03T22:56:05.108Z"
   },
   {
    "duration": 882,
    "start_time": "2022-02-03T22:56:21.289Z"
   },
   {
    "duration": 231,
    "start_time": "2022-02-03T22:56:22.174Z"
   },
   {
    "duration": 190,
    "start_time": "2022-02-03T22:56:22.408Z"
   },
   {
    "duration": 14,
    "start_time": "2022-02-03T22:56:22.601Z"
   },
   {
    "duration": 23,
    "start_time": "2022-02-03T22:56:22.632Z"
   },
   {
    "duration": 139,
    "start_time": "2022-02-03T22:56:22.658Z"
   },
   {
    "duration": 36,
    "start_time": "2022-02-03T22:56:22.800Z"
   },
   {
    "duration": 105,
    "start_time": "2022-02-03T22:56:22.840Z"
   },
   {
    "duration": 119,
    "start_time": "2022-02-03T22:56:22.948Z"
   },
   {
    "duration": 74,
    "start_time": "2022-02-03T22:56:23.069Z"
   },
   {
    "duration": 61,
    "start_time": "2022-02-03T22:56:23.146Z"
   },
   {
    "duration": 400,
    "start_time": "2022-02-03T22:56:23.209Z"
   },
   {
    "duration": 371,
    "start_time": "2022-02-03T22:56:23.242Z"
   },
   {
    "duration": 370,
    "start_time": "2022-02-03T22:56:23.245Z"
   },
   {
    "duration": 366,
    "start_time": "2022-02-03T22:56:23.251Z"
   },
   {
    "duration": 356,
    "start_time": "2022-02-03T22:56:23.264Z"
   },
   {
    "duration": 352,
    "start_time": "2022-02-03T22:56:23.270Z"
   },
   {
    "duration": 352,
    "start_time": "2022-02-03T22:56:23.272Z"
   },
   {
    "duration": 353,
    "start_time": "2022-02-03T22:56:23.274Z"
   },
   {
    "duration": 353,
    "start_time": "2022-02-03T22:56:23.276Z"
   },
   {
    "duration": 352,
    "start_time": "2022-02-03T22:56:23.279Z"
   },
   {
    "duration": 352,
    "start_time": "2022-02-03T22:56:23.281Z"
   },
   {
    "duration": 351,
    "start_time": "2022-02-03T22:56:23.284Z"
   },
   {
    "duration": 351,
    "start_time": "2022-02-03T22:56:23.286Z"
   },
   {
    "duration": 351,
    "start_time": "2022-02-03T22:56:23.288Z"
   },
   {
    "duration": 348,
    "start_time": "2022-02-03T22:56:23.293Z"
   },
   {
    "duration": 349,
    "start_time": "2022-02-03T22:56:23.295Z"
   },
   {
    "duration": 348,
    "start_time": "2022-02-03T22:56:23.298Z"
   },
   {
    "duration": 348,
    "start_time": "2022-02-03T22:56:23.300Z"
   },
   {
    "duration": 348,
    "start_time": "2022-02-03T22:56:23.302Z"
   },
   {
    "duration": 350,
    "start_time": "2022-02-03T22:56:23.304Z"
   },
   {
    "duration": 348,
    "start_time": "2022-02-03T22:56:23.308Z"
   },
   {
    "duration": 303,
    "start_time": "2022-02-03T22:56:23.355Z"
   },
   {
    "duration": 299,
    "start_time": "2022-02-03T22:56:23.361Z"
   },
   {
    "duration": 300,
    "start_time": "2022-02-03T22:56:23.363Z"
   },
   {
    "duration": 299,
    "start_time": "2022-02-03T22:56:23.366Z"
   },
   {
    "duration": 299,
    "start_time": "2022-02-03T22:56:23.368Z"
   },
   {
    "duration": 43,
    "start_time": "2022-02-03T22:57:52.137Z"
   },
   {
    "duration": 96,
    "start_time": "2022-02-03T23:01:27.217Z"
   },
   {
    "duration": 265,
    "start_time": "2022-02-04T07:31:01.551Z"
   },
   {
    "duration": 699,
    "start_time": "2022-02-04T07:31:09.781Z"
   },
   {
    "duration": 186,
    "start_time": "2022-02-04T07:31:10.482Z"
   },
   {
    "duration": 148,
    "start_time": "2022-02-04T07:31:10.670Z"
   },
   {
    "duration": 11,
    "start_time": "2022-02-04T07:31:10.820Z"
   },
   {
    "duration": 17,
    "start_time": "2022-02-04T07:31:10.833Z"
   },
   {
    "duration": 116,
    "start_time": "2022-02-04T07:31:10.851Z"
   },
   {
    "duration": 27,
    "start_time": "2022-02-04T07:31:10.968Z"
   },
   {
    "duration": 83,
    "start_time": "2022-02-04T07:31:10.999Z"
   },
   {
    "duration": 87,
    "start_time": "2022-02-04T07:31:11.084Z"
   },
   {
    "duration": 55,
    "start_time": "2022-02-04T07:31:11.173Z"
   },
   {
    "duration": 46,
    "start_time": "2022-02-04T07:31:11.231Z"
   },
   {
    "duration": 86,
    "start_time": "2022-02-04T07:31:11.279Z"
   },
   {
    "duration": 378,
    "start_time": "2022-02-04T07:31:11.367Z"
   },
   {
    "duration": 829,
    "start_time": "2022-02-04T07:31:10.919Z"
   },
   {
    "duration": 828,
    "start_time": "2022-02-04T07:31:10.921Z"
   },
   {
    "duration": 826,
    "start_time": "2022-02-04T07:31:10.924Z"
   },
   {
    "duration": 826,
    "start_time": "2022-02-04T07:31:10.926Z"
   },
   {
    "duration": 824,
    "start_time": "2022-02-04T07:31:10.929Z"
   },
   {
    "duration": 813,
    "start_time": "2022-02-04T07:31:10.942Z"
   },
   {
    "duration": 811,
    "start_time": "2022-02-04T07:31:10.945Z"
   },
   {
    "duration": 809,
    "start_time": "2022-02-04T07:31:10.948Z"
   },
   {
    "duration": 809,
    "start_time": "2022-02-04T07:31:10.950Z"
   },
   {
    "duration": 808,
    "start_time": "2022-02-04T07:31:10.952Z"
   },
   {
    "duration": 806,
    "start_time": "2022-02-04T07:31:10.955Z"
   },
   {
    "duration": 806,
    "start_time": "2022-02-04T07:31:10.957Z"
   },
   {
    "duration": 805,
    "start_time": "2022-02-04T07:31:10.959Z"
   },
   {
    "duration": 804,
    "start_time": "2022-02-04T07:31:10.961Z"
   },
   {
    "duration": 802,
    "start_time": "2022-02-04T07:31:10.965Z"
   },
   {
    "duration": 801,
    "start_time": "2022-02-04T07:31:10.967Z"
   },
   {
    "duration": 800,
    "start_time": "2022-02-04T07:31:10.969Z"
   },
   {
    "duration": 800,
    "start_time": "2022-02-04T07:31:10.971Z"
   },
   {
    "duration": 799,
    "start_time": "2022-02-04T07:31:10.973Z"
   },
   {
    "duration": 798,
    "start_time": "2022-02-04T07:31:10.976Z"
   },
   {
    "duration": 797,
    "start_time": "2022-02-04T07:31:10.978Z"
   },
   {
    "duration": 796,
    "start_time": "2022-02-04T07:31:10.980Z"
   },
   {
    "duration": 791,
    "start_time": "2022-02-04T07:31:10.987Z"
   },
   {
    "duration": 790,
    "start_time": "2022-02-04T07:31:10.989Z"
   },
   {
    "duration": 35,
    "start_time": "2022-02-04T07:35:59.929Z"
   },
   {
    "duration": 213,
    "start_time": "2022-02-04T07:42:06.362Z"
   },
   {
    "duration": 37,
    "start_time": "2022-02-04T07:42:14.220Z"
   },
   {
    "duration": 36,
    "start_time": "2022-02-04T07:42:46.514Z"
   },
   {
    "duration": 345,
    "start_time": "2022-02-06T14:59:07.199Z"
   },
   {
    "duration": 964,
    "start_time": "2022-02-06T14:59:20.611Z"
   },
   {
    "duration": 233,
    "start_time": "2022-02-06T14:59:21.577Z"
   },
   {
    "duration": 193,
    "start_time": "2022-02-06T14:59:21.813Z"
   },
   {
    "duration": 31,
    "start_time": "2022-02-06T14:59:22.009Z"
   },
   {
    "duration": 25,
    "start_time": "2022-02-06T14:59:22.043Z"
   },
   {
    "duration": 148,
    "start_time": "2022-02-06T14:59:22.070Z"
   },
   {
    "duration": 40,
    "start_time": "2022-02-06T14:59:22.220Z"
   },
   {
    "duration": 116,
    "start_time": "2022-02-06T14:59:22.264Z"
   },
   {
    "duration": 112,
    "start_time": "2022-02-06T14:59:22.385Z"
   },
   {
    "duration": 89,
    "start_time": "2022-02-06T14:59:22.501Z"
   },
   {
    "duration": 69,
    "start_time": "2022-02-06T14:59:22.592Z"
   },
   {
    "duration": 419,
    "start_time": "2022-02-06T14:59:22.664Z"
   },
   {
    "duration": 630,
    "start_time": "2022-02-06T14:59:22.457Z"
   },
   {
    "duration": 629,
    "start_time": "2022-02-06T14:59:22.460Z"
   },
   {
    "duration": 624,
    "start_time": "2022-02-06T14:59:22.467Z"
   },
   {
    "duration": 623,
    "start_time": "2022-02-06T14:59:22.470Z"
   },
   {
    "duration": 623,
    "start_time": "2022-02-06T14:59:22.472Z"
   },
   {
    "duration": 621,
    "start_time": "2022-02-06T14:59:22.475Z"
   },
   {
    "duration": 620,
    "start_time": "2022-02-06T14:59:22.478Z"
   },
   {
    "duration": 616,
    "start_time": "2022-02-06T14:59:22.484Z"
   },
   {
    "duration": 615,
    "start_time": "2022-02-06T14:59:22.487Z"
   },
   {
    "duration": 615,
    "start_time": "2022-02-06T14:59:22.489Z"
   },
   {
    "duration": 615,
    "start_time": "2022-02-06T14:59:22.491Z"
   },
   {
    "duration": 614,
    "start_time": "2022-02-06T14:59:22.494Z"
   },
   {
    "duration": 609,
    "start_time": "2022-02-06T14:59:22.500Z"
   },
   {
    "duration": 611,
    "start_time": "2022-02-06T14:59:22.502Z"
   },
   {
    "duration": 610,
    "start_time": "2022-02-06T14:59:22.505Z"
   },
   {
    "duration": 609,
    "start_time": "2022-02-06T14:59:22.507Z"
   },
   {
    "duration": 608,
    "start_time": "2022-02-06T14:59:22.510Z"
   },
   {
    "duration": 605,
    "start_time": "2022-02-06T14:59:22.515Z"
   },
   {
    "duration": 614,
    "start_time": "2022-02-06T14:59:22.518Z"
   },
   {
    "duration": 613,
    "start_time": "2022-02-06T14:59:22.520Z"
   },
   {
    "duration": 612,
    "start_time": "2022-02-06T14:59:22.523Z"
   },
   {
    "duration": 612,
    "start_time": "2022-02-06T14:59:22.525Z"
   },
   {
    "duration": 607,
    "start_time": "2022-02-06T14:59:22.532Z"
   },
   {
    "duration": 607,
    "start_time": "2022-02-06T14:59:22.534Z"
   },
   {
    "duration": 606,
    "start_time": "2022-02-06T14:59:22.537Z"
   },
   {
    "duration": 306,
    "start_time": "2022-02-06T14:59:48.453Z"
   },
   {
    "duration": 33,
    "start_time": "2022-02-06T15:07:01.962Z"
   },
   {
    "duration": 85,
    "start_time": "2022-02-06T15:07:33.368Z"
   },
   {
    "duration": 462,
    "start_time": "2022-02-06T15:24:20.674Z"
   },
   {
    "duration": 460,
    "start_time": "2022-02-06T15:26:46.980Z"
   },
   {
    "duration": 774,
    "start_time": "2022-02-06T15:27:20.386Z"
   },
   {
    "duration": 740,
    "start_time": "2022-02-06T15:27:56.283Z"
   },
   {
    "duration": 431,
    "start_time": "2022-02-06T15:28:15.614Z"
   },
   {
    "duration": 273,
    "start_time": "2022-02-06T15:42:11.103Z"
   },
   {
    "duration": 267,
    "start_time": "2022-02-06T15:42:22.679Z"
   },
   {
    "duration": 285,
    "start_time": "2022-02-06T15:42:35.897Z"
   },
   {
    "duration": 291,
    "start_time": "2022-02-06T15:42:44.856Z"
   },
   {
    "duration": 286,
    "start_time": "2022-02-06T15:42:57.367Z"
   },
   {
    "duration": 8,
    "start_time": "2022-02-06T15:43:03.011Z"
   },
   {
    "duration": 344,
    "start_time": "2022-02-06T16:13:23.669Z"
   },
   {
    "duration": 323,
    "start_time": "2022-02-06T16:13:58.747Z"
   },
   {
    "duration": 320,
    "start_time": "2022-02-06T16:14:32.557Z"
   },
   {
    "duration": 374,
    "start_time": "2022-02-06T16:18:29.513Z"
   },
   {
    "duration": 538,
    "start_time": "2022-02-06T16:19:02.909Z"
   },
   {
    "duration": 504,
    "start_time": "2022-02-06T16:19:23.587Z"
   },
   {
    "duration": 382,
    "start_time": "2022-02-06T16:19:40.305Z"
   },
   {
    "duration": 383,
    "start_time": "2022-02-06T16:21:26.795Z"
   },
   {
    "duration": 486,
    "start_time": "2022-02-06T16:25:19.591Z"
   },
   {
    "duration": 412,
    "start_time": "2022-02-06T16:25:46.845Z"
   },
   {
    "duration": 397,
    "start_time": "2022-02-06T16:25:53.984Z"
   },
   {
    "duration": 400,
    "start_time": "2022-02-06T16:46:11.522Z"
   },
   {
    "duration": 416,
    "start_time": "2022-02-06T16:49:43.535Z"
   },
   {
    "duration": 519,
    "start_time": "2022-02-06T16:50:27.258Z"
   },
   {
    "duration": 542,
    "start_time": "2022-02-06T16:51:35.690Z"
   },
   {
    "duration": 516,
    "start_time": "2022-02-06T16:53:36.196Z"
   },
   {
    "duration": 400,
    "start_time": "2022-02-06T16:55:10.529Z"
   },
   {
    "duration": 402,
    "start_time": "2022-02-06T16:55:57.925Z"
   },
   {
    "duration": 402,
    "start_time": "2022-02-06T16:57:50.033Z"
   },
   {
    "duration": 422,
    "start_time": "2022-02-06T16:58:12.237Z"
   },
   {
    "duration": 438,
    "start_time": "2022-02-06T17:10:46.316Z"
   },
   {
    "duration": 462,
    "start_time": "2022-02-06T17:11:52.902Z"
   },
   {
    "duration": 428,
    "start_time": "2022-02-06T17:12:01.834Z"
   },
   {
    "duration": 472,
    "start_time": "2022-02-06T17:12:17.460Z"
   },
   {
    "duration": 531,
    "start_time": "2022-02-06T17:13:07.008Z"
   },
   {
    "duration": 434,
    "start_time": "2022-02-06T17:13:33.126Z"
   },
   {
    "duration": 453,
    "start_time": "2022-02-06T17:14:13.154Z"
   },
   {
    "duration": 505,
    "start_time": "2022-02-06T17:14:47.496Z"
   },
   {
    "duration": 430,
    "start_time": "2022-02-06T17:15:03.800Z"
   },
   {
    "duration": 682,
    "start_time": "2022-02-06T17:15:56.970Z"
   },
   {
    "duration": 422,
    "start_time": "2022-02-06T17:16:23.790Z"
   },
   {
    "duration": 426,
    "start_time": "2022-02-06T17:16:46.772Z"
   },
   {
    "duration": 569,
    "start_time": "2022-02-06T18:35:20.280Z"
   },
   {
    "duration": 410,
    "start_time": "2022-02-06T18:44:55.616Z"
   },
   {
    "duration": 59,
    "start_time": "2022-02-06T18:53:37.818Z"
   },
   {
    "duration": 434,
    "start_time": "2022-02-06T18:53:51.666Z"
   },
   {
    "duration": 606,
    "start_time": "2022-02-06T18:54:00.273Z"
   },
   {
    "duration": 432,
    "start_time": "2022-02-06T18:54:07.349Z"
   },
   {
    "duration": 439,
    "start_time": "2022-02-06T18:54:18.778Z"
   },
   {
    "duration": 400,
    "start_time": "2022-02-06T18:54:25.776Z"
   },
   {
    "duration": 521,
    "start_time": "2022-02-06T18:55:45.826Z"
   },
   {
    "duration": 220,
    "start_time": "2022-02-06T18:56:41.469Z"
   },
   {
    "duration": 244,
    "start_time": "2022-02-06T18:57:49.696Z"
   },
   {
    "duration": 208,
    "start_time": "2022-02-06T18:58:33.562Z"
   },
   {
    "duration": 500,
    "start_time": "2022-02-06T18:59:05.922Z"
   },
   {
    "duration": 482,
    "start_time": "2022-02-06T18:59:16.058Z"
   },
   {
    "duration": 219,
    "start_time": "2022-02-06T18:59:33.648Z"
   },
   {
    "duration": 235,
    "start_time": "2022-02-06T19:06:00.371Z"
   },
   {
    "duration": 41,
    "start_time": "2022-02-06T19:06:58.501Z"
   },
   {
    "duration": 448,
    "start_time": "2022-02-06T19:07:11.429Z"
   },
   {
    "duration": 7316,
    "start_time": "2022-02-06T19:07:34.093Z"
   },
   {
    "duration": 224,
    "start_time": "2022-02-06T19:07:45.259Z"
   },
   {
    "duration": 16,
    "start_time": "2022-02-06T19:07:57.625Z"
   },
   {
    "duration": 26,
    "start_time": "2022-02-06T19:08:01.601Z"
   },
   {
    "duration": 248,
    "start_time": "2022-02-06T19:09:16.573Z"
   },
   {
    "duration": 447,
    "start_time": "2022-02-06T19:17:55.913Z"
   },
   {
    "duration": 61,
    "start_time": "2022-02-06T19:20:04.287Z"
   },
   {
    "duration": 433,
    "start_time": "2022-02-06T19:20:16.085Z"
   },
   {
    "duration": 103,
    "start_time": "2022-02-06T19:32:14.202Z"
   },
   {
    "duration": 380,
    "start_time": "2022-02-06T19:32:27.396Z"
   },
   {
    "duration": 364,
    "start_time": "2022-02-06T19:32:58.476Z"
   },
   {
    "duration": 429,
    "start_time": "2022-02-06T19:33:17.272Z"
   },
   {
    "duration": 438,
    "start_time": "2022-02-06T19:36:18.220Z"
   },
   {
    "duration": 95,
    "start_time": "2022-02-06T19:36:54.091Z"
   },
   {
    "duration": 408,
    "start_time": "2022-02-06T19:37:07.962Z"
   },
   {
    "duration": 759,
    "start_time": "2022-02-06T19:37:53.656Z"
   },
   {
    "duration": 456,
    "start_time": "2022-02-06T19:38:25.959Z"
   },
   {
    "duration": 412,
    "start_time": "2022-02-06T19:38:51.106Z"
   },
   {
    "duration": 291,
    "start_time": "2022-02-06T20:02:43.335Z"
   },
   {
    "duration": 287,
    "start_time": "2022-02-06T20:02:53.047Z"
   },
   {
    "duration": 12,
    "start_time": "2022-02-06T20:03:10.244Z"
   },
   {
    "duration": 12,
    "start_time": "2022-02-06T20:03:58.398Z"
   },
   {
    "duration": 12,
    "start_time": "2022-02-06T20:08:46.469Z"
   },
   {
    "duration": 299,
    "start_time": "2022-02-06T20:16:40.513Z"
   },
   {
    "duration": 287,
    "start_time": "2022-02-06T20:18:39.626Z"
   },
   {
    "duration": 13,
    "start_time": "2022-02-06T20:19:11.045Z"
   },
   {
    "duration": 14,
    "start_time": "2022-02-06T20:19:56.221Z"
   },
   {
    "duration": 13,
    "start_time": "2022-02-06T20:20:15.265Z"
   },
   {
    "duration": 376,
    "start_time": "2022-02-06T20:21:40.141Z"
   },
   {
    "duration": 391,
    "start_time": "2022-02-06T20:22:19.566Z"
   },
   {
    "duration": 15,
    "start_time": "2022-02-06T20:51:53.627Z"
   },
   {
    "duration": 15,
    "start_time": "2022-02-06T20:52:54.180Z"
   },
   {
    "duration": 15,
    "start_time": "2022-02-06T20:55:19.651Z"
   },
   {
    "duration": 1183,
    "start_time": "2022-02-13T08:05:10.325Z"
   },
   {
    "duration": 194,
    "start_time": "2022-02-13T08:05:11.510Z"
   },
   {
    "duration": 180,
    "start_time": "2022-02-13T08:05:11.706Z"
   },
   {
    "duration": 10,
    "start_time": "2022-02-13T08:05:11.888Z"
   },
   {
    "duration": 33,
    "start_time": "2022-02-13T08:05:11.900Z"
   },
   {
    "duration": 109,
    "start_time": "2022-02-13T08:05:11.934Z"
   },
   {
    "duration": 19,
    "start_time": "2022-02-13T08:05:12.044Z"
   },
   {
    "duration": 101,
    "start_time": "2022-02-13T08:05:12.066Z"
   },
   {
    "duration": 106,
    "start_time": "2022-02-13T08:05:12.170Z"
   },
   {
    "duration": 82,
    "start_time": "2022-02-13T08:05:12.278Z"
   },
   {
    "duration": 46,
    "start_time": "2022-02-13T08:05:12.362Z"
   },
   {
    "duration": 40,
    "start_time": "2022-02-13T08:05:12.410Z"
   },
   {
    "duration": 267,
    "start_time": "2022-02-13T08:05:12.452Z"
   },
   {
    "duration": 285,
    "start_time": "2022-02-13T08:05:12.721Z"
   },
   {
    "duration": 283,
    "start_time": "2022-02-13T08:05:13.008Z"
   },
   {
    "duration": 300,
    "start_time": "2022-02-13T08:05:13.293Z"
   },
   {
    "duration": 298,
    "start_time": "2022-02-13T08:05:13.595Z"
   },
   {
    "duration": 23,
    "start_time": "2022-02-13T08:05:13.895Z"
   },
   {
    "duration": 10,
    "start_time": "2022-02-13T08:05:13.920Z"
   },
   {
    "duration": 290,
    "start_time": "2022-02-13T08:05:13.931Z"
   },
   {
    "duration": 1434,
    "start_time": "2022-02-13T15:20:25.791Z"
   },
   {
    "duration": 267,
    "start_time": "2022-02-13T15:20:27.228Z"
   },
   {
    "duration": 243,
    "start_time": "2022-02-13T15:20:27.499Z"
   },
   {
    "duration": 16,
    "start_time": "2022-02-13T15:20:27.745Z"
   },
   {
    "duration": 103,
    "start_time": "2022-02-13T15:20:27.763Z"
   },
   {
    "duration": 234,
    "start_time": "2022-02-13T15:20:27.868Z"
   },
   {
    "duration": 31,
    "start_time": "2022-02-13T15:20:28.105Z"
   },
   {
    "duration": 242,
    "start_time": "2022-02-13T15:20:28.140Z"
   },
   {
    "duration": 553,
    "start_time": "2022-02-13T15:20:28.385Z"
   },
   {
    "duration": 454,
    "start_time": "2022-02-13T15:20:28.487Z"
   },
   {
    "duration": 455,
    "start_time": "2022-02-13T15:20:28.489Z"
   },
   {
    "duration": 455,
    "start_time": "2022-02-13T15:20:28.490Z"
   },
   {
    "duration": 455,
    "start_time": "2022-02-13T15:20:28.492Z"
   },
   {
    "duration": 454,
    "start_time": "2022-02-13T15:20:28.494Z"
   },
   {
    "duration": 455,
    "start_time": "2022-02-13T15:20:28.495Z"
   },
   {
    "duration": 453,
    "start_time": "2022-02-13T15:20:28.498Z"
   },
   {
    "duration": 454,
    "start_time": "2022-02-13T15:20:28.499Z"
   },
   {
    "duration": 453,
    "start_time": "2022-02-13T15:20:28.501Z"
   },
   {
    "duration": 429,
    "start_time": "2022-02-13T15:20:28.527Z"
   },
   {
    "duration": 427,
    "start_time": "2022-02-13T15:20:28.530Z"
   },
   {
    "duration": 310,
    "start_time": "2022-02-13T15:21:45.586Z"
   },
   {
    "duration": 323,
    "start_time": "2022-02-13T15:25:10.528Z"
   },
   {
    "duration": 111,
    "start_time": "2022-02-13T15:25:31.498Z"
   },
   {
    "duration": 106,
    "start_time": "2022-02-13T15:25:52.086Z"
   },
   {
    "duration": 1467,
    "start_time": "2022-02-13T15:26:04.395Z"
   },
   {
    "duration": 268,
    "start_time": "2022-02-13T15:26:05.865Z"
   },
   {
    "duration": 236,
    "start_time": "2022-02-13T15:26:06.137Z"
   },
   {
    "duration": 17,
    "start_time": "2022-02-13T15:26:06.376Z"
   },
   {
    "duration": 90,
    "start_time": "2022-02-13T15:26:06.396Z"
   },
   {
    "duration": 311,
    "start_time": "2022-02-13T15:26:06.489Z"
   },
   {
    "duration": 79,
    "start_time": "2022-02-13T15:26:06.802Z"
   },
   {
    "duration": 245,
    "start_time": "2022-02-13T15:26:06.884Z"
   },
   {
    "duration": 238,
    "start_time": "2022-02-13T15:26:07.134Z"
   },
   {
    "duration": 109,
    "start_time": "2022-02-13T15:26:07.375Z"
   },
   {
    "duration": 269,
    "start_time": "2022-02-13T15:26:07.487Z"
   },
   {
    "duration": 272,
    "start_time": "2022-02-13T15:26:07.759Z"
   },
   {
    "duration": 605,
    "start_time": "2022-02-13T15:26:08.034Z"
   },
   {
    "duration": 571,
    "start_time": "2022-02-13T15:26:08.642Z"
   },
   {
    "duration": 470,
    "start_time": "2022-02-13T15:26:09.215Z"
   },
   {
    "duration": 456,
    "start_time": "2022-02-13T15:26:09.687Z"
   },
   {
    "duration": 461,
    "start_time": "2022-02-13T15:26:10.146Z"
   },
   {
    "duration": 26,
    "start_time": "2022-02-13T15:26:10.610Z"
   },
   {
    "duration": 118,
    "start_time": "2022-02-13T15:26:10.639Z"
   },
   {
    "duration": 591,
    "start_time": "2022-02-13T15:26:10.759Z"
   },
   {
    "duration": 461,
    "start_time": "2022-02-13T15:27:58.305Z"
   },
   {
    "duration": 313,
    "start_time": "2022-02-13T15:30:52.638Z"
   },
   {
    "duration": 386,
    "start_time": "2022-02-13T15:31:15.122Z"
   },
   {
    "duration": 34,
    "start_time": "2022-02-13T15:43:32.194Z"
   },
   {
    "duration": 126,
    "start_time": "2022-02-13T15:44:37.308Z"
   },
   {
    "duration": 413,
    "start_time": "2022-02-13T15:54:18.387Z"
   },
   {
    "duration": 340,
    "start_time": "2022-02-13T15:54:33.981Z"
   },
   {
    "duration": 360,
    "start_time": "2022-02-13T16:14:52.706Z"
   },
   {
    "duration": 332,
    "start_time": "2022-02-13T16:15:52.248Z"
   },
   {
    "duration": 374,
    "start_time": "2022-02-13T16:17:02.404Z"
   },
   {
    "duration": 129,
    "start_time": "2022-02-13T16:25:06.354Z"
   },
   {
    "duration": 134,
    "start_time": "2022-02-13T16:35:11.057Z"
   },
   {
    "duration": 134,
    "start_time": "2022-02-13T16:36:12.647Z"
   },
   {
    "duration": 130,
    "start_time": "2022-02-13T16:36:50.058Z"
   },
   {
    "duration": 127,
    "start_time": "2022-02-13T16:37:05.474Z"
   },
   {
    "duration": 144,
    "start_time": "2022-02-13T16:37:13.121Z"
   },
   {
    "duration": 66,
    "start_time": "2022-02-13T16:39:46.257Z"
   },
   {
    "duration": 435,
    "start_time": "2022-02-13T16:41:39.589Z"
   },
   {
    "duration": 301,
    "start_time": "2022-02-13T16:42:23.238Z"
   },
   {
    "duration": 297,
    "start_time": "2022-02-13T16:43:22.201Z"
   },
   {
    "duration": 1444,
    "start_time": "2022-02-13T16:43:31.547Z"
   },
   {
    "duration": 281,
    "start_time": "2022-02-13T16:43:32.994Z"
   },
   {
    "duration": 956,
    "start_time": "2022-02-13T16:43:33.278Z"
   },
   {
    "duration": 612,
    "start_time": "2022-02-13T16:43:34.237Z"
   },
   {
    "duration": 597,
    "start_time": "2022-02-13T16:43:34.853Z"
   },
   {
    "duration": 921,
    "start_time": "2022-02-13T16:43:35.453Z"
   },
   {
    "duration": 760,
    "start_time": "2022-02-13T16:43:36.377Z"
   },
   {
    "duration": 670,
    "start_time": "2022-02-13T16:43:37.142Z"
   },
   {
    "duration": 773,
    "start_time": "2022-02-13T16:43:37.816Z"
   },
   {
    "duration": 640,
    "start_time": "2022-02-13T16:43:38.592Z"
   },
   {
    "duration": 662,
    "start_time": "2022-02-13T16:43:39.234Z"
   },
   {
    "duration": 940,
    "start_time": "2022-02-13T16:43:39.899Z"
   },
   {
    "duration": 488,
    "start_time": "2022-02-13T16:43:40.353Z"
   },
   {
    "duration": 488,
    "start_time": "2022-02-13T16:43:40.355Z"
   },
   {
    "duration": 488,
    "start_time": "2022-02-13T16:43:40.356Z"
   },
   {
    "duration": 488,
    "start_time": "2022-02-13T16:43:40.358Z"
   },
   {
    "duration": 487,
    "start_time": "2022-02-13T16:43:40.360Z"
   },
   {
    "duration": 484,
    "start_time": "2022-02-13T16:43:40.365Z"
   },
   {
    "duration": 483,
    "start_time": "2022-02-13T16:43:40.367Z"
   },
   {
    "duration": 482,
    "start_time": "2022-02-13T16:43:40.369Z"
   },
   {
    "duration": 363,
    "start_time": "2022-02-13T16:45:38.695Z"
   },
   {
    "duration": 133,
    "start_time": "2022-02-13T16:46:42.539Z"
   },
   {
    "duration": 140,
    "start_time": "2022-02-13T16:47:38.515Z"
   },
   {
    "duration": 90,
    "start_time": "2022-02-13T16:48:33.721Z"
   },
   {
    "duration": 128,
    "start_time": "2022-02-13T16:48:55.066Z"
   },
   {
    "duration": 2487,
    "start_time": "2022-02-13T16:49:14.637Z"
   },
   {
    "duration": 388,
    "start_time": "2022-02-13T16:49:17.127Z"
   },
   {
    "duration": 424,
    "start_time": "2022-02-13T16:49:17.531Z"
   },
   {
    "duration": 588,
    "start_time": "2022-02-13T16:49:17.959Z"
   },
   {
    "duration": 895,
    "start_time": "2022-02-13T16:49:18.550Z"
   },
   {
    "duration": 967,
    "start_time": "2022-02-13T16:49:19.448Z"
   },
   {
    "duration": 653,
    "start_time": "2022-02-13T16:49:20.418Z"
   },
   {
    "duration": 1337,
    "start_time": "2022-02-13T16:49:21.075Z"
   },
   {
    "duration": 1128,
    "start_time": "2022-02-13T16:49:22.416Z"
   },
   {
    "duration": 1261,
    "start_time": "2022-02-13T16:49:23.547Z"
   },
   {
    "duration": 1295,
    "start_time": "2022-02-13T16:49:24.810Z"
   },
   {
    "duration": 1648,
    "start_time": "2022-02-13T16:49:26.108Z"
   },
   {
    "duration": 498,
    "start_time": "2022-02-13T16:49:27.262Z"
   },
   {
    "duration": 497,
    "start_time": "2022-02-13T16:49:27.264Z"
   },
   {
    "duration": 498,
    "start_time": "2022-02-13T16:49:27.266Z"
   },
   {
    "duration": 498,
    "start_time": "2022-02-13T16:49:27.268Z"
   },
   {
    "duration": 498,
    "start_time": "2022-02-13T16:49:27.270Z"
   },
   {
    "duration": 499,
    "start_time": "2022-02-13T16:49:27.271Z"
   },
   {
    "duration": 499,
    "start_time": "2022-02-13T16:49:27.273Z"
   },
   {
    "duration": 500,
    "start_time": "2022-02-13T16:49:27.275Z"
   },
   {
    "duration": 140,
    "start_time": "2022-02-13T16:50:14.923Z"
   },
   {
    "duration": 186,
    "start_time": "2022-02-13T16:50:28.115Z"
   },
   {
    "duration": 72,
    "start_time": "2022-02-13T16:51:39.425Z"
   },
   {
    "duration": 330,
    "start_time": "2022-02-13T16:51:44.827Z"
   },
   {
    "duration": 76,
    "start_time": "2022-02-13T16:54:09.377Z"
   },
   {
    "duration": 91,
    "start_time": "2022-02-13T16:54:33.303Z"
   },
   {
    "duration": 74,
    "start_time": "2022-02-13T16:54:42.389Z"
   },
   {
    "duration": 77,
    "start_time": "2022-02-13T16:54:50.013Z"
   },
   {
    "duration": 1113,
    "start_time": "2022-02-15T08:05:39.563Z"
   },
   {
    "duration": 201,
    "start_time": "2022-02-15T08:05:40.678Z"
   },
   {
    "duration": 181,
    "start_time": "2022-02-15T08:05:40.881Z"
   },
   {
    "duration": 11,
    "start_time": "2022-02-15T08:05:41.064Z"
   },
   {
    "duration": 23,
    "start_time": "2022-02-15T08:05:41.077Z"
   },
   {
    "duration": 122,
    "start_time": "2022-02-15T08:05:41.102Z"
   },
   {
    "duration": 21,
    "start_time": "2022-02-15T08:05:41.225Z"
   },
   {
    "duration": 66,
    "start_time": "2022-02-15T08:05:41.259Z"
   },
   {
    "duration": 100,
    "start_time": "2022-02-15T08:05:41.327Z"
   },
   {
    "duration": 60,
    "start_time": "2022-02-15T08:05:41.428Z"
   },
   {
    "duration": 48,
    "start_time": "2022-02-15T08:05:41.490Z"
   },
   {
    "duration": 57,
    "start_time": "2022-02-15T08:05:41.540Z"
   },
   {
    "duration": 245,
    "start_time": "2022-02-15T08:05:41.598Z"
   },
   {
    "duration": 293,
    "start_time": "2022-02-15T08:05:41.845Z"
   },
   {
    "duration": 290,
    "start_time": "2022-02-15T08:05:42.139Z"
   },
   {
    "duration": 290,
    "start_time": "2022-02-15T08:05:42.430Z"
   },
   {
    "duration": 285,
    "start_time": "2022-02-15T08:05:42.722Z"
   },
   {
    "duration": 9,
    "start_time": "2022-02-15T08:05:43.009Z"
   },
   {
    "duration": 14,
    "start_time": "2022-02-15T08:05:43.020Z"
   },
   {
    "duration": 274,
    "start_time": "2022-02-15T08:05:43.036Z"
   },
   {
    "duration": 361,
    "start_time": "2022-02-16T03:19:11.170Z"
   },
   {
    "duration": 1338,
    "start_time": "2022-02-16T03:19:18.590Z"
   },
   {
    "duration": 267,
    "start_time": "2022-02-16T03:19:19.930Z"
   },
   {
    "duration": 238,
    "start_time": "2022-02-16T03:19:20.203Z"
   },
   {
    "duration": 16,
    "start_time": "2022-02-16T03:19:20.444Z"
   },
   {
    "duration": 28,
    "start_time": "2022-02-16T03:19:20.462Z"
   },
   {
    "duration": 162,
    "start_time": "2022-02-16T03:19:20.493Z"
   },
   {
    "duration": 28,
    "start_time": "2022-02-16T03:19:20.659Z"
   },
   {
    "duration": 115,
    "start_time": "2022-02-16T03:19:20.690Z"
   },
   {
    "duration": 134,
    "start_time": "2022-02-16T03:19:20.807Z"
   },
   {
    "duration": 65,
    "start_time": "2022-02-16T03:19:20.943Z"
   },
   {
    "duration": 85,
    "start_time": "2022-02-16T03:19:21.011Z"
   },
   {
    "duration": 88,
    "start_time": "2022-02-16T03:19:21.098Z"
   },
   {
    "duration": 403,
    "start_time": "2022-02-16T03:19:21.188Z"
   },
   {
    "duration": 447,
    "start_time": "2022-02-16T03:19:21.594Z"
   },
   {
    "duration": 426,
    "start_time": "2022-02-16T03:19:22.044Z"
   },
   {
    "duration": 439,
    "start_time": "2022-02-16T03:19:22.472Z"
   },
   {
    "duration": 443,
    "start_time": "2022-02-16T03:19:22.914Z"
   },
   {
    "duration": 12,
    "start_time": "2022-02-16T03:19:23.360Z"
   },
   {
    "duration": 20,
    "start_time": "2022-02-16T03:19:23.374Z"
   },
   {
    "duration": 407,
    "start_time": "2022-02-16T03:19:23.397Z"
   },
   {
    "duration": 546,
    "start_time": "2022-02-16T03:29:45.118Z"
   },
   {
    "duration": 528,
    "start_time": "2022-02-16T03:35:27.498Z"
   },
   {
    "duration": 574,
    "start_time": "2022-02-16T03:36:02.842Z"
   },
   {
    "duration": 855,
    "start_time": "2022-02-16T03:37:39.362Z"
   },
   {
    "duration": 7194,
    "start_time": "2022-02-16T03:39:14.266Z"
   },
   {
    "duration": 572,
    "start_time": "2022-02-16T03:40:32.158Z"
   },
   {
    "duration": 577,
    "start_time": "2022-02-16T03:41:22.460Z"
   },
   {
    "duration": 591,
    "start_time": "2022-02-16T03:42:31.646Z"
   },
   {
    "duration": 544,
    "start_time": "2022-02-16T03:48:54.388Z"
   },
   {
    "duration": 593,
    "start_time": "2022-02-16T03:49:55.322Z"
   },
   {
    "duration": 723,
    "start_time": "2022-02-16T04:01:56.109Z"
   },
   {
    "duration": 711,
    "start_time": "2022-02-16T04:02:34.251Z"
   },
   {
    "duration": 593,
    "start_time": "2022-02-16T04:06:41.761Z"
   },
   {
    "duration": 614,
    "start_time": "2022-02-16T04:08:07.511Z"
   },
   {
    "duration": 696,
    "start_time": "2022-02-16T04:10:56.913Z"
   },
   {
    "duration": 400,
    "start_time": "2022-02-16T04:14:42.952Z"
   },
   {
    "duration": 12,
    "start_time": "2022-02-16T04:16:48.165Z"
   },
   {
    "duration": 14,
    "start_time": "2022-02-16T04:17:02.918Z"
   },
   {
    "duration": 17,
    "start_time": "2022-02-16T04:22:26.625Z"
   },
   {
    "duration": 441,
    "start_time": "2022-02-16T04:23:02.327Z"
   },
   {
    "duration": 387,
    "start_time": "2022-02-16T04:23:28.215Z"
   },
   {
    "duration": 7327,
    "start_time": "2022-02-16T04:54:02.097Z"
   },
   {
    "duration": 7351,
    "start_time": "2022-02-16T04:55:27.117Z"
   },
   {
    "duration": 694,
    "start_time": "2022-02-16T04:57:45.945Z"
   },
   {
    "duration": 591,
    "start_time": "2022-02-16T04:59:55.031Z"
   },
   {
    "duration": 651,
    "start_time": "2022-02-16T05:01:12.677Z"
   },
   {
    "duration": 654,
    "start_time": "2022-02-16T05:02:46.965Z"
   },
   {
    "duration": 656,
    "start_time": "2022-02-16T05:03:23.979Z"
   },
   {
    "duration": 745,
    "start_time": "2022-02-16T05:03:27.119Z"
   },
   {
    "duration": 1379,
    "start_time": "2022-02-16T12:01:06.344Z"
   },
   {
    "duration": 266,
    "start_time": "2022-02-16T12:01:07.727Z"
   },
   {
    "duration": 250,
    "start_time": "2022-02-16T12:01:07.997Z"
   },
   {
    "duration": 17,
    "start_time": "2022-02-16T12:01:08.250Z"
   },
   {
    "duration": 29,
    "start_time": "2022-02-16T12:01:08.270Z"
   },
   {
    "duration": 137,
    "start_time": "2022-02-16T12:01:08.333Z"
   },
   {
    "duration": 28,
    "start_time": "2022-02-16T12:01:08.472Z"
   },
   {
    "duration": 114,
    "start_time": "2022-02-16T12:01:08.503Z"
   },
   {
    "duration": 142,
    "start_time": "2022-02-16T12:01:08.620Z"
   },
   {
    "duration": 77,
    "start_time": "2022-02-16T12:01:08.765Z"
   },
   {
    "duration": 66,
    "start_time": "2022-02-16T12:01:08.844Z"
   },
   {
    "duration": 87,
    "start_time": "2022-02-16T12:01:08.913Z"
   },
   {
    "duration": 425,
    "start_time": "2022-02-16T12:01:09.003Z"
   },
   {
    "duration": 623,
    "start_time": "2022-02-16T12:01:09.433Z"
   },
   {
    "duration": 670,
    "start_time": "2022-02-16T12:01:10.058Z"
   },
   {
    "duration": 694,
    "start_time": "2022-02-16T12:01:10.732Z"
   },
   {
    "duration": 451,
    "start_time": "2022-02-16T12:01:11.428Z"
   },
   {
    "duration": 12,
    "start_time": "2022-02-16T12:01:11.882Z"
   },
   {
    "duration": 38,
    "start_time": "2022-02-16T12:01:11.896Z"
   },
   {
    "duration": 419,
    "start_time": "2022-02-16T12:01:11.937Z"
   },
   {
    "duration": 1416,
    "start_time": "2022-02-16T12:01:59.362Z"
   },
   {
    "duration": 270,
    "start_time": "2022-02-16T12:02:00.781Z"
   },
   {
    "duration": 236,
    "start_time": "2022-02-16T12:02:01.055Z"
   },
   {
    "duration": 15,
    "start_time": "2022-02-16T12:02:01.293Z"
   },
   {
    "duration": 47,
    "start_time": "2022-02-16T12:02:01.310Z"
   },
   {
    "duration": 155,
    "start_time": "2022-02-16T12:02:01.360Z"
   },
   {
    "duration": 33,
    "start_time": "2022-02-16T12:02:01.518Z"
   },
   {
    "duration": 149,
    "start_time": "2022-02-16T12:02:01.554Z"
   },
   {
    "duration": 134,
    "start_time": "2022-02-16T12:02:01.706Z"
   },
   {
    "duration": 68,
    "start_time": "2022-02-16T12:02:01.843Z"
   },
   {
    "duration": 91,
    "start_time": "2022-02-16T12:02:01.913Z"
   },
   {
    "duration": 93,
    "start_time": "2022-02-16T12:02:02.006Z"
   },
   {
    "duration": 433,
    "start_time": "2022-02-16T12:02:02.102Z"
   },
   {
    "duration": 613,
    "start_time": "2022-02-16T12:02:02.538Z"
   },
   {
    "duration": 604,
    "start_time": "2022-02-16T12:02:03.154Z"
   },
   {
    "duration": 649,
    "start_time": "2022-02-16T12:02:03.761Z"
   },
   {
    "duration": 437,
    "start_time": "2022-02-16T12:02:04.412Z"
   },
   {
    "duration": 13,
    "start_time": "2022-02-16T12:02:04.853Z"
   },
   {
    "duration": 17,
    "start_time": "2022-02-16T12:02:04.870Z"
   },
   {
    "duration": 445,
    "start_time": "2022-02-16T12:02:04.890Z"
   },
   {
    "duration": 96,
    "start_time": "2022-02-16T12:02:38.149Z"
   },
   {
    "duration": 1380,
    "start_time": "2022-02-17T04:07:21.561Z"
   },
   {
    "duration": 245,
    "start_time": "2022-02-17T04:07:22.944Z"
   },
   {
    "duration": 221,
    "start_time": "2022-02-17T04:07:23.192Z"
   },
   {
    "duration": 34,
    "start_time": "2022-02-17T04:07:23.416Z"
   },
   {
    "duration": 26,
    "start_time": "2022-02-17T04:07:23.452Z"
   },
   {
    "duration": 142,
    "start_time": "2022-02-17T04:07:23.481Z"
   },
   {
    "duration": 37,
    "start_time": "2022-02-17T04:07:23.626Z"
   },
   {
    "duration": 112,
    "start_time": "2022-02-17T04:07:23.667Z"
   },
   {
    "duration": 136,
    "start_time": "2022-02-17T04:07:23.782Z"
   },
   {
    "duration": 72,
    "start_time": "2022-02-17T04:07:23.921Z"
   },
   {
    "duration": 76,
    "start_time": "2022-02-17T04:07:23.996Z"
   },
   {
    "duration": 86,
    "start_time": "2022-02-17T04:07:24.075Z"
   },
   {
    "duration": 427,
    "start_time": "2022-02-17T04:07:24.164Z"
   },
   {
    "duration": 700,
    "start_time": "2022-02-17T04:07:24.594Z"
   },
   {
    "duration": 653,
    "start_time": "2022-02-17T04:07:25.297Z"
   },
   {
    "duration": 609,
    "start_time": "2022-02-17T04:07:25.953Z"
   },
   {
    "duration": 451,
    "start_time": "2022-02-17T04:07:26.564Z"
   },
   {
    "duration": 13,
    "start_time": "2022-02-17T04:07:27.017Z"
   },
   {
    "duration": 17,
    "start_time": "2022-02-17T04:07:27.050Z"
   },
   {
    "duration": 465,
    "start_time": "2022-02-17T04:07:27.069Z"
   },
   {
    "duration": 72,
    "start_time": "2022-02-17T04:11:43.218Z"
   },
   {
    "duration": 442,
    "start_time": "2022-02-17T04:12:05.056Z"
   },
   {
    "duration": 71,
    "start_time": "2022-02-17T04:13:14.256Z"
   },
   {
    "duration": 71,
    "start_time": "2022-02-17T04:14:08.702Z"
   },
   {
    "duration": 90,
    "start_time": "2022-02-17T04:14:29.887Z"
   },
   {
    "duration": 73,
    "start_time": "2022-02-17T04:15:37.728Z"
   },
   {
    "duration": 1385,
    "start_time": "2022-02-17T04:16:10.905Z"
   },
   {
    "duration": 273,
    "start_time": "2022-02-17T04:16:12.294Z"
   },
   {
    "duration": 231,
    "start_time": "2022-02-17T04:16:12.570Z"
   },
   {
    "duration": 15,
    "start_time": "2022-02-17T04:16:12.804Z"
   },
   {
    "duration": 48,
    "start_time": "2022-02-17T04:16:12.821Z"
   },
   {
    "duration": 143,
    "start_time": "2022-02-17T04:16:12.872Z"
   },
   {
    "duration": 33,
    "start_time": "2022-02-17T04:16:13.017Z"
   },
   {
    "duration": 112,
    "start_time": "2022-02-17T04:16:13.055Z"
   },
   {
    "duration": 148,
    "start_time": "2022-02-17T04:16:13.170Z"
   },
   {
    "duration": 75,
    "start_time": "2022-02-17T04:16:13.320Z"
   },
   {
    "duration": 88,
    "start_time": "2022-02-17T04:16:13.398Z"
   },
   {
    "duration": 80,
    "start_time": "2022-02-17T04:16:13.489Z"
   },
   {
    "duration": 405,
    "start_time": "2022-02-17T04:16:13.572Z"
   },
   {
    "duration": 663,
    "start_time": "2022-02-17T04:16:13.979Z"
   },
   {
    "duration": 606,
    "start_time": "2022-02-17T04:16:14.649Z"
   },
   {
    "duration": 631,
    "start_time": "2022-02-17T04:16:15.257Z"
   },
   {
    "duration": 450,
    "start_time": "2022-02-17T04:16:15.891Z"
   },
   {
    "duration": 12,
    "start_time": "2022-02-17T04:16:16.348Z"
   },
   {
    "duration": 16,
    "start_time": "2022-02-17T04:16:16.362Z"
   },
   {
    "duration": 510,
    "start_time": "2022-02-17T04:16:16.381Z"
   },
   {
    "duration": 80,
    "start_time": "2022-02-17T04:19:04.663Z"
   },
   {
    "duration": 400,
    "start_time": "2022-02-17T04:19:55.509Z"
   },
   {
    "duration": 396,
    "start_time": "2022-02-17T04:20:25.907Z"
   },
   {
    "duration": 676,
    "start_time": "2022-02-17T04:21:36.449Z"
   },
   {
    "duration": 456,
    "start_time": "2022-02-17T04:22:41.817Z"
   },
   {
    "duration": 13,
    "start_time": "2022-02-17T04:23:39.489Z"
   },
   {
    "duration": 582,
    "start_time": "2022-02-17T04:24:30.253Z"
   },
   {
    "duration": 453,
    "start_time": "2022-02-17T04:24:56.367Z"
   },
   {
    "duration": 73,
    "start_time": "2022-02-17T04:26:03.273Z"
   },
   {
    "duration": 402,
    "start_time": "2022-02-17T04:26:43.105Z"
   },
   {
    "duration": 397,
    "start_time": "2022-02-17T04:27:08.789Z"
   },
   {
    "duration": 409,
    "start_time": "2022-02-17T04:27:38.633Z"
   },
   {
    "duration": 399,
    "start_time": "2022-02-17T04:28:06.889Z"
   },
   {
    "duration": 623,
    "start_time": "2022-02-17T04:28:24.329Z"
   },
   {
    "duration": 607,
    "start_time": "2022-02-17T04:28:31.741Z"
   },
   {
    "duration": 561,
    "start_time": "2022-02-17T04:28:51.741Z"
   },
   {
    "duration": 503,
    "start_time": "2022-02-17T04:31:52.495Z"
   },
   {
    "duration": 392,
    "start_time": "2022-02-17T04:32:24.583Z"
   },
   {
    "duration": 399,
    "start_time": "2022-02-17T04:32:37.815Z"
   },
   {
    "duration": 406,
    "start_time": "2022-02-17T04:33:24.797Z"
   },
   {
    "duration": 399,
    "start_time": "2022-02-17T04:33:36.985Z"
   },
   {
    "duration": 418,
    "start_time": "2022-02-17T04:33:57.523Z"
   },
   {
    "duration": 675,
    "start_time": "2022-02-17T04:34:09.147Z"
   },
   {
    "duration": 1919,
    "start_time": "2022-02-17T04:35:10.603Z"
   },
   {
    "duration": 448,
    "start_time": "2022-02-17T04:35:29.441Z"
   },
   {
    "duration": 387,
    "start_time": "2022-02-17T04:35:37.712Z"
   },
   {
    "duration": 460,
    "start_time": "2022-02-17T04:36:13.461Z"
   },
   {
    "duration": 974,
    "start_time": "2022-02-17T13:57:35.879Z"
   },
   {
    "duration": 182,
    "start_time": "2022-02-17T13:57:36.855Z"
   },
   {
    "duration": 164,
    "start_time": "2022-02-17T13:57:37.042Z"
   },
   {
    "duration": 18,
    "start_time": "2022-02-17T13:57:37.208Z"
   },
   {
    "duration": 17,
    "start_time": "2022-02-17T13:57:37.228Z"
   },
   {
    "duration": 235,
    "start_time": "2022-02-17T13:57:37.247Z"
   },
   {
    "duration": 18,
    "start_time": "2022-02-17T13:57:37.485Z"
   },
   {
    "duration": 65,
    "start_time": "2022-02-17T13:57:37.504Z"
   },
   {
    "duration": 99,
    "start_time": "2022-02-17T13:57:37.571Z"
   },
   {
    "duration": 50,
    "start_time": "2022-02-17T13:57:37.671Z"
   },
   {
    "duration": 47,
    "start_time": "2022-02-17T13:57:37.723Z"
   },
   {
    "duration": 59,
    "start_time": "2022-02-17T13:57:37.772Z"
   },
   {
    "duration": 240,
    "start_time": "2022-02-17T13:57:37.833Z"
   },
   {
    "duration": 435,
    "start_time": "2022-02-17T13:57:38.075Z"
   },
   {
    "duration": 474,
    "start_time": "2022-02-17T13:57:38.512Z"
   },
   {
    "duration": 439,
    "start_time": "2022-02-17T13:57:38.988Z"
   },
   {
    "duration": 305,
    "start_time": "2022-02-17T13:57:39.428Z"
   },
   {
    "duration": 11,
    "start_time": "2022-02-17T13:57:39.735Z"
   },
   {
    "duration": 13,
    "start_time": "2022-02-17T13:57:39.748Z"
   },
   {
    "duration": 281,
    "start_time": "2022-02-17T13:57:39.762Z"
   }
  ],
  "kernelspec": {
   "display_name": "Python 3 (ipykernel)",
   "language": "python",
   "name": "python3"
  },
  "language_info": {
   "codemirror_mode": {
    "name": "ipython",
    "version": 3
   },
   "file_extension": ".py",
   "mimetype": "text/x-python",
   "name": "python",
   "nbconvert_exporter": "python",
   "pygments_lexer": "ipython3",
   "version": "3.9.7"
  },
  "toc": {
   "base_numbering": 1,
   "nav_menu": {},
   "number_sections": true,
   "sideBar": true,
   "skip_h1_title": true,
   "title_cell": "Table of Contents",
   "title_sidebar": "Contents",
   "toc_cell": false,
   "toc_position": {},
   "toc_section_display": true,
   "toc_window_display": false
  }
 },
 "nbformat": 4,
 "nbformat_minor": 2
}
