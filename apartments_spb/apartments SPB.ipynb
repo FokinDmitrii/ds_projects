{
 "cells": [
  {
   "cell_type": "markdown",
   "metadata": {
    "toc": true
   },
   "source": [
    "<h1>Содержание<span class=\"tocSkip\"></span></h1>\n",
    "<div class=\"toc\"><ul class=\"toc-item\"><li><span><a href=\"#Изучение-данных-из-файла\" data-toc-modified-id=\"Изучение-данных-из-файла-1\"><span class=\"toc-item-num\">1&nbsp;&nbsp;</span>Изучение данных из файла</a></span><ul class=\"toc-item\"><li><span><a href=\"#Вывод\" data-toc-modified-id=\"Вывод-1.1\"><span class=\"toc-item-num\">1.1&nbsp;&nbsp;</span>Вывод</a></span></li></ul></li><li><span><a href=\"#Предобработка-данных\" data-toc-modified-id=\"Предобработка-данных-2\"><span class=\"toc-item-num\">2&nbsp;&nbsp;</span>Предобработка данных</a></span></li><li><span><a href=\"#Расчёты-и-добавление-результатов-в-таблицу\" data-toc-modified-id=\"Расчёты-и-добавление-результатов-в-таблицу-3\"><span class=\"toc-item-num\">3&nbsp;&nbsp;</span>Расчёты и добавление результатов в таблицу</a></span></li><li><span><a href=\"#Исследовательский-анализ-данных\" data-toc-modified-id=\"Исследовательский-анализ-данных-4\"><span class=\"toc-item-num\">4&nbsp;&nbsp;</span>Исследовательский анализ данных</a></span></li><li><span><a href=\"#Общий-вывод\" data-toc-modified-id=\"Общий-вывод-5\"><span class=\"toc-item-num\">5&nbsp;&nbsp;</span>Общий вывод</a></span></li><li><span><a</li></ul></div>"
   ]
  },
  {
   "cell_type": "markdown",
   "metadata": {},
   "source": [
    "# Исследование объявлений о продаже квартир\n",
    "\n",
    "В вашем распоряжении данные сервиса Яндекс.Недвижимость — архив объявлений о продаже квартир в Санкт-Петербурге и соседних населённых пунктах за несколько лет. Нужно научиться определять рыночную стоимость объектов недвижимости. Ваша задача — установить параметры. Это позволит построить автоматизированную систему: она отследит аномалии и мошенническую деятельность. \n",
    "\n",
    "По каждой квартире на продажу доступны два вида данных. Первые вписаны пользователем, вторые получены автоматически на основе картографических данных. Например, расстояние до центра, аэропорта, ближайшего парка и водоёма. "
   ]
  },
  {
   "cell_type": "markdown",
   "metadata": {},
   "source": [
    "## Изучение данных из файла"
   ]
  },
  {
   "cell_type": "code",
   "execution_count": 1,
   "metadata": {},
   "outputs": [
    {
     "data": {
      "text/html": [
       "<div>\n",
       "<style scoped>\n",
       "    .dataframe tbody tr th:only-of-type {\n",
       "        vertical-align: middle;\n",
       "    }\n",
       "\n",
       "    .dataframe tbody tr th {\n",
       "        vertical-align: top;\n",
       "    }\n",
       "\n",
       "    .dataframe thead th {\n",
       "        text-align: right;\n",
       "    }\n",
       "</style>\n",
       "<table border=\"1\" class=\"dataframe\">\n",
       "  <thead>\n",
       "    <tr style=\"text-align: right;\">\n",
       "      <th></th>\n",
       "      <th>total_images</th>\n",
       "      <th>last_price</th>\n",
       "      <th>total_area</th>\n",
       "      <th>first_day_exposition</th>\n",
       "      <th>rooms</th>\n",
       "      <th>ceiling_height</th>\n",
       "      <th>floors_total</th>\n",
       "      <th>living_area</th>\n",
       "      <th>floor</th>\n",
       "      <th>is_apartment</th>\n",
       "      <th>...</th>\n",
       "      <th>kitchen_area</th>\n",
       "      <th>balcony</th>\n",
       "      <th>locality_name</th>\n",
       "      <th>airports_nearest</th>\n",
       "      <th>cityCenters_nearest</th>\n",
       "      <th>parks_around3000</th>\n",
       "      <th>parks_nearest</th>\n",
       "      <th>ponds_around3000</th>\n",
       "      <th>ponds_nearest</th>\n",
       "      <th>days_exposition</th>\n",
       "    </tr>\n",
       "  </thead>\n",
       "  <tbody>\n",
       "    <tr>\n",
       "      <td>0</td>\n",
       "      <td>20</td>\n",
       "      <td>13000000.0</td>\n",
       "      <td>108.0</td>\n",
       "      <td>2019-03-07T00:00:00</td>\n",
       "      <td>3</td>\n",
       "      <td>2.70</td>\n",
       "      <td>16.0</td>\n",
       "      <td>51.0</td>\n",
       "      <td>8</td>\n",
       "      <td>NaN</td>\n",
       "      <td>...</td>\n",
       "      <td>25.0</td>\n",
       "      <td>NaN</td>\n",
       "      <td>Санкт-Петербург</td>\n",
       "      <td>18863.0</td>\n",
       "      <td>16028.0</td>\n",
       "      <td>1.0</td>\n",
       "      <td>482.0</td>\n",
       "      <td>2.0</td>\n",
       "      <td>755.0</td>\n",
       "      <td>NaN</td>\n",
       "    </tr>\n",
       "    <tr>\n",
       "      <td>1</td>\n",
       "      <td>7</td>\n",
       "      <td>3350000.0</td>\n",
       "      <td>40.4</td>\n",
       "      <td>2018-12-04T00:00:00</td>\n",
       "      <td>1</td>\n",
       "      <td>NaN</td>\n",
       "      <td>11.0</td>\n",
       "      <td>18.6</td>\n",
       "      <td>1</td>\n",
       "      <td>NaN</td>\n",
       "      <td>...</td>\n",
       "      <td>11.0</td>\n",
       "      <td>2.0</td>\n",
       "      <td>посёлок Шушары</td>\n",
       "      <td>12817.0</td>\n",
       "      <td>18603.0</td>\n",
       "      <td>0.0</td>\n",
       "      <td>NaN</td>\n",
       "      <td>0.0</td>\n",
       "      <td>NaN</td>\n",
       "      <td>81.0</td>\n",
       "    </tr>\n",
       "    <tr>\n",
       "      <td>2</td>\n",
       "      <td>10</td>\n",
       "      <td>5196000.0</td>\n",
       "      <td>56.0</td>\n",
       "      <td>2015-08-20T00:00:00</td>\n",
       "      <td>2</td>\n",
       "      <td>NaN</td>\n",
       "      <td>5.0</td>\n",
       "      <td>34.3</td>\n",
       "      <td>4</td>\n",
       "      <td>NaN</td>\n",
       "      <td>...</td>\n",
       "      <td>8.3</td>\n",
       "      <td>0.0</td>\n",
       "      <td>Санкт-Петербург</td>\n",
       "      <td>21741.0</td>\n",
       "      <td>13933.0</td>\n",
       "      <td>1.0</td>\n",
       "      <td>90.0</td>\n",
       "      <td>2.0</td>\n",
       "      <td>574.0</td>\n",
       "      <td>558.0</td>\n",
       "    </tr>\n",
       "    <tr>\n",
       "      <td>3</td>\n",
       "      <td>0</td>\n",
       "      <td>64900000.0</td>\n",
       "      <td>159.0</td>\n",
       "      <td>2015-07-24T00:00:00</td>\n",
       "      <td>3</td>\n",
       "      <td>NaN</td>\n",
       "      <td>14.0</td>\n",
       "      <td>NaN</td>\n",
       "      <td>9</td>\n",
       "      <td>NaN</td>\n",
       "      <td>...</td>\n",
       "      <td>NaN</td>\n",
       "      <td>0.0</td>\n",
       "      <td>Санкт-Петербург</td>\n",
       "      <td>28098.0</td>\n",
       "      <td>6800.0</td>\n",
       "      <td>2.0</td>\n",
       "      <td>84.0</td>\n",
       "      <td>3.0</td>\n",
       "      <td>234.0</td>\n",
       "      <td>424.0</td>\n",
       "    </tr>\n",
       "    <tr>\n",
       "      <td>4</td>\n",
       "      <td>2</td>\n",
       "      <td>10000000.0</td>\n",
       "      <td>100.0</td>\n",
       "      <td>2018-06-19T00:00:00</td>\n",
       "      <td>2</td>\n",
       "      <td>3.03</td>\n",
       "      <td>14.0</td>\n",
       "      <td>32.0</td>\n",
       "      <td>13</td>\n",
       "      <td>NaN</td>\n",
       "      <td>...</td>\n",
       "      <td>41.0</td>\n",
       "      <td>NaN</td>\n",
       "      <td>Санкт-Петербург</td>\n",
       "      <td>31856.0</td>\n",
       "      <td>8098.0</td>\n",
       "      <td>2.0</td>\n",
       "      <td>112.0</td>\n",
       "      <td>1.0</td>\n",
       "      <td>48.0</td>\n",
       "      <td>121.0</td>\n",
       "    </tr>\n",
       "  </tbody>\n",
       "</table>\n",
       "<p>5 rows × 22 columns</p>\n",
       "</div>"
      ],
      "text/plain": [
       "   total_images  last_price  total_area first_day_exposition  rooms  \\\n",
       "0            20  13000000.0       108.0  2019-03-07T00:00:00      3   \n",
       "1             7   3350000.0        40.4  2018-12-04T00:00:00      1   \n",
       "2            10   5196000.0        56.0  2015-08-20T00:00:00      2   \n",
       "3             0  64900000.0       159.0  2015-07-24T00:00:00      3   \n",
       "4             2  10000000.0       100.0  2018-06-19T00:00:00      2   \n",
       "\n",
       "   ceiling_height  floors_total  living_area  floor is_apartment  ...  \\\n",
       "0            2.70          16.0         51.0      8          NaN  ...   \n",
       "1             NaN          11.0         18.6      1          NaN  ...   \n",
       "2             NaN           5.0         34.3      4          NaN  ...   \n",
       "3             NaN          14.0          NaN      9          NaN  ...   \n",
       "4            3.03          14.0         32.0     13          NaN  ...   \n",
       "\n",
       "   kitchen_area  balcony    locality_name  airports_nearest  \\\n",
       "0          25.0      NaN  Санкт-Петербург           18863.0   \n",
       "1          11.0      2.0   посёлок Шушары           12817.0   \n",
       "2           8.3      0.0  Санкт-Петербург           21741.0   \n",
       "3           NaN      0.0  Санкт-Петербург           28098.0   \n",
       "4          41.0      NaN  Санкт-Петербург           31856.0   \n",
       "\n",
       "  cityCenters_nearest  parks_around3000  parks_nearest  ponds_around3000  \\\n",
       "0             16028.0               1.0          482.0               2.0   \n",
       "1             18603.0               0.0            NaN               0.0   \n",
       "2             13933.0               1.0           90.0               2.0   \n",
       "3              6800.0               2.0           84.0               3.0   \n",
       "4              8098.0               2.0          112.0               1.0   \n",
       "\n",
       "   ponds_nearest  days_exposition  \n",
       "0          755.0              NaN  \n",
       "1            NaN             81.0  \n",
       "2          574.0            558.0  \n",
       "3          234.0            424.0  \n",
       "4           48.0            121.0  \n",
       "\n",
       "[5 rows x 22 columns]"
      ]
     },
     "metadata": {},
     "output_type": "display_data"
    },
    {
     "name": "stdout",
     "output_type": "stream",
     "text": [
      "<class 'pandas.core.frame.DataFrame'>\n",
      "RangeIndex: 23699 entries, 0 to 23698\n",
      "Data columns (total 22 columns):\n",
      "total_images            23699 non-null int64\n",
      "last_price              23699 non-null float64\n",
      "total_area              23699 non-null float64\n",
      "first_day_exposition    23699 non-null object\n",
      "rooms                   23699 non-null int64\n",
      "ceiling_height          14504 non-null float64\n",
      "floors_total            23613 non-null float64\n",
      "living_area             21796 non-null float64\n",
      "floor                   23699 non-null int64\n",
      "is_apartment            2775 non-null object\n",
      "studio                  23699 non-null bool\n",
      "open_plan               23699 non-null bool\n",
      "kitchen_area            21421 non-null float64\n",
      "balcony                 12180 non-null float64\n",
      "locality_name           23650 non-null object\n",
      "airports_nearest        18157 non-null float64\n",
      "cityCenters_nearest     18180 non-null float64\n",
      "parks_around3000        18181 non-null float64\n",
      "parks_nearest           8079 non-null float64\n",
      "ponds_around3000        18181 non-null float64\n",
      "ponds_nearest           9110 non-null float64\n",
      "days_exposition         20518 non-null float64\n",
      "dtypes: bool(2), float64(14), int64(3), object(3)\n",
      "memory usage: 3.7+ MB\n"
     ]
    }
   ],
   "source": [
    "import pandas as pd\n",
    "import matplotlib.pyplot as plt\n",
    "import numpy as np\n",
    "from numpy.lib.histograms import histogram\n",
    "  \n",
    "data = pd.read_csv('/datasets/real_estate_data.csv', sep='\\t')\n",
    "display(data.head())\n",
    "data.info()"
   ]
  },
  {
   "cell_type": "markdown",
   "metadata": {},
   "source": [
    "### Вывод"
   ]
  },
  {
   "cell_type": "markdown",
   "metadata": {},
   "source": [
    "Первое что бросается в глаза это много колонок с нецелочисленными данными которые вполне можно перевести в целые для облегчения расчетов.\n",
    "Конечно надо проверить данные с пропусками, какие заменить  а какие исключить, например с отсутсвием названия населенного пункта."
   ]
  },
  {
   "cell_type": "markdown",
   "metadata": {},
   "source": [
    "## Предобработка данных"
   ]
  },
  {
   "cell_type": "code",
   "execution_count": 2,
   "metadata": {},
   "outputs": [
    {
     "name": "stdout",
     "output_type": "stream",
     "text": [
      "0    0.0\n",
      "1    2.0\n",
      "2    0.0\n",
      "3    0.0\n",
      "4    0.0\n",
      "Name: balcony, dtype: float64\n"
     ]
    }
   ],
   "source": [
    "data['balcony'] = data['balcony'].fillna(value=0) #заменим пропуски в балконах на 0\n",
    "print(data['balcony'].head())\n"
   ]
  },
  {
   "cell_type": "markdown",
   "metadata": {},
   "source": [
    "Пойдем по порядку. Теперь пропуски в столбце ceiling_height"
   ]
  },
  {
   "cell_type": "code",
   "execution_count": 3,
   "metadata": {},
   "outputs": [
    {
     "name": "stdout",
     "output_type": "stream",
     "text": [
      "9195\n",
      "2.65\n"
     ]
    }
   ],
   "source": [
    "print(len(data[data['ceiling_height'].isna()]))\n",
    "print(data['ceiling_height'].median())"
   ]
  },
  {
   "cell_type": "markdown",
   "metadata": {},
   "source": [
    "40% данных без указания высоты потолков, заменить их на 0 не разумно. Заменим пропуски медианным значением.\n"
   ]
  },
  {
   "cell_type": "code",
   "execution_count": 4,
   "metadata": {},
   "outputs": [],
   "source": [
    "data['ceiling_height'] = data['ceiling_height'].fillna(value=data['ceiling_height'].median())"
   ]
  },
  {
   "cell_type": "markdown",
   "metadata": {},
   "source": [
    "Теперь столбец floors_total проверим"
   ]
  },
  {
   "cell_type": "code",
   "execution_count": 5,
   "metadata": {},
   "outputs": [
    {
     "name": "stdout",
     "output_type": "stream",
     "text": [
      "86\n"
     ]
    }
   ],
   "source": [
    "print(len(data[data['floors_total'].isna()]))"
   ]
  },
  {
   "cell_type": "markdown",
   "metadata": {},
   "source": [
    "не так много, заменим их на значение этажа, скорее всего это не повлияет на общую оценку распределения"
   ]
  },
  {
   "cell_type": "code",
   "execution_count": 6,
   "metadata": {},
   "outputs": [
    {
     "name": "stdout",
     "output_type": "stream",
     "text": [
      "[16. 11.  5. 14. 12. 26. 24. 27.  9.  6. 17. 25.  3. 23. 19. 18.  4. 22.\n",
      "  8.  2. 10.  7. 13. 15.  1. 20. 28. 36. 21. 35. 34. 60. 29. 33. 52. 37.]\n"
     ]
    }
   ],
   "source": [
    "data['floors_total'] = data['floors_total'].fillna(value=data['floor'])\n",
    "print(data['floors_total'].unique())\n"
   ]
  },
  {
   "cell_type": "markdown",
   "metadata": {},
   "source": [
    "посмотрим пропуски в living_area"
   ]
  },
  {
   "cell_type": "code",
   "execution_count": 7,
   "metadata": {},
   "outputs": [
    {
     "name": "stdout",
     "output_type": "stream",
     "text": [
      "    total_images  last_price  total_area first_day_exposition  rooms  \\\n",
      "3              0  64900000.0       159.0  2015-07-24T00:00:00      3   \n",
      "7              5   7915000.0        71.6  2019-04-18T00:00:00      2   \n",
      "30            12   2200000.0        32.8  2018-02-19T00:00:00      1   \n",
      "37            10   1990000.0        45.8  2017-10-28T00:00:00      2   \n",
      "44            13   5350000.0        40.0  2018-11-18T00:00:00      1   \n",
      "\n",
      "    ceiling_height  floors_total  living_area  floor is_apartment  ...  \\\n",
      "3             2.65          14.0          NaN      9          NaN  ...   \n",
      "7             2.65          24.0          NaN     22          NaN  ...   \n",
      "30            2.65           9.0          NaN      2          NaN  ...   \n",
      "37            2.50           5.0          NaN      1          NaN  ...   \n",
      "44            2.65          22.0          NaN      3          NaN  ...   \n",
      "\n",
      "    kitchen_area  balcony                        locality_name  \\\n",
      "3            NaN      0.0                      Санкт-Петербург   \n",
      "7           18.9      2.0                      Санкт-Петербург   \n",
      "30           NaN      0.0                             Коммунар   \n",
      "37           NaN      0.0  поселок городского типа Красный Бор   \n",
      "44           NaN      1.0                      Санкт-Петербург   \n",
      "\n",
      "    airports_nearest cityCenters_nearest  parks_around3000  parks_nearest  \\\n",
      "3            28098.0              6800.0               2.0           84.0   \n",
      "7            23982.0             11634.0               0.0            NaN   \n",
      "30               NaN                 NaN               NaN            NaN   \n",
      "37               NaN                 NaN               NaN            NaN   \n",
      "44           30471.0             11603.0               1.0          620.0   \n",
      "\n",
      "    ponds_around3000  ponds_nearest  days_exposition  \n",
      "3                3.0          234.0            424.0  \n",
      "7                0.0            NaN              NaN  \n",
      "30               NaN            NaN             63.0  \n",
      "37               NaN            NaN            196.0  \n",
      "44               1.0         1152.0              NaN  \n",
      "\n",
      "[5 rows x 22 columns]\n"
     ]
    }
   ],
   "source": [
    "print(data[data['living_area'].isna()].head())"
   ]
  },
  {
   "cell_type": "markdown",
   "metadata": {},
   "source": [
    "заменим эти пропуски медианным значением жилой площади в зависимости от количества комнат"
   ]
  },
  {
   "cell_type": "code",
   "execution_count": 8,
   "metadata": {},
   "outputs": [
    {
     "name": "stdout",
     "output_type": "stream",
     "text": [
      "0\n"
     ]
    }
   ],
   "source": [
    "#сгруппируем данные по количеству комнат и заменим пропуски медианным значением жилой площади\n",
    "data['living_area'] = data['living_area'].fillna(data.groupby('rooms')['living_area'].transform('median'))\n",
    "# проверим остались ли пропуски \n",
    "print(data['living_area'].isna().sum())"
   ]
  },
  {
   "cell_type": "markdown",
   "metadata": {},
   "source": [
    "Посмотрим что со столбцом is_apartment"
   ]
  },
  {
   "cell_type": "code",
   "execution_count": 9,
   "metadata": {},
   "outputs": [
    {
     "name": "stdout",
     "output_type": "stream",
     "text": [
      "[nan False True]\n"
     ]
    }
   ],
   "source": [
    "print(data['is_apartment'].unique())"
   ]
  },
  {
   "cell_type": "markdown",
   "metadata": {},
   "source": [
    "скорее всего отсутствие значения и есть False, так и заменим их на False"
   ]
  },
  {
   "cell_type": "code",
   "execution_count": 10,
   "metadata": {},
   "outputs": [
    {
     "name": "stdout",
     "output_type": "stream",
     "text": [
      "0    False\n",
      "1    False\n",
      "2    False\n",
      "3    False\n",
      "4    False\n",
      "Name: is_apartment, dtype: bool\n"
     ]
    }
   ],
   "source": [
    "data['is_apartment'] = data['is_apartment'].fillna(value=False)\n",
    "print(data['is_apartment'].head())"
   ]
  },
  {
   "cell_type": "markdown",
   "metadata": {},
   "source": [
    "Пропуски в kitchen_area составляют почти 10%, нам нужны эти данные по этому их лучше заполнить медианным значением"
   ]
  },
  {
   "cell_type": "code",
   "execution_count": 11,
   "metadata": {},
   "outputs": [
    {
     "name": "stdout",
     "output_type": "stream",
     "text": [
      "197\n"
     ]
    }
   ],
   "source": [
    "#сгруппируем данные по количеству комнат и заменим пропуски медианным значением площади кухни\n",
    "data['kitchen_area'] = data['kitchen_area'].fillna(data.groupby('rooms')['kitchen_area'].transform('median'))\n",
    "# проверим остались ли пропуски \n",
    "print(data['kitchen_area'].isna().sum())"
   ]
  },
  {
   "cell_type": "markdown",
   "metadata": {},
   "source": [
    "пропусков в locality_name не так много, заменим их на 'Неизвестно'"
   ]
  },
  {
   "cell_type": "code",
   "execution_count": 12,
   "metadata": {},
   "outputs": [],
   "source": [
    "data['locality_name'] = data['locality_name'].fillna(value='Неизвестно')"
   ]
  },
  {
   "cell_type": "markdown",
   "metadata": {},
   "source": [
    "пропуски в нанных об удаленности от аэропорта 'airports_nearest' скорее всего говорит о том что близко аэропорта нет, заменим их на 100000"
   ]
  },
  {
   "cell_type": "code",
   "execution_count": 13,
   "metadata": {},
   "outputs": [],
   "source": [
    "data['airports_nearest'] = data['airports_nearest'].fillna(value=100000)"
   ]
  },
  {
   "cell_type": "markdown",
   "metadata": {},
   "source": [
    "проверим пропуски в cityCenters_nearest"
   ]
  },
  {
   "cell_type": "code",
   "execution_count": 14,
   "metadata": {},
   "outputs": [
    {
     "name": "stdout",
     "output_type": "stream",
     "text": [
      "    total_images  last_price  total_area first_day_exposition  rooms  \\\n",
      "5             10   2890000.0       30.40  2018-09-10T00:00:00      1   \n",
      "8             20   2900000.0       33.16  2018-05-23T00:00:00      1   \n",
      "12            10   3890000.0       54.00  2016-06-30T00:00:00      2   \n",
      "22            20   5000000.0       58.00  2017-04-24T00:00:00      2   \n",
      "30            12   2200000.0       32.80  2018-02-19T00:00:00      1   \n",
      "\n",
      "    ceiling_height  floors_total  living_area  floor  is_apartment  ...  \\\n",
      "5             2.65          12.0        14.40      5         False  ...   \n",
      "8             2.65          27.0        15.43     26         False  ...   \n",
      "12            2.65           5.0        30.00      5         False  ...   \n",
      "22            2.75          25.0        30.00     15         False  ...   \n",
      "30            2.65           9.0        17.60      2         False  ...   \n",
      "\n",
      "    kitchen_area  balcony              locality_name  airports_nearest  \\\n",
      "5           9.10      0.0  городской посёлок Янино-1          100000.0   \n",
      "8           8.81      0.0             посёлок Мурино          100000.0   \n",
      "12          9.00      0.0                  Сертолово          100000.0   \n",
      "22         11.00      2.0            деревня Кудрово          100000.0   \n",
      "30          9.04      0.0                   Коммунар          100000.0   \n",
      "\n",
      "   cityCenters_nearest  parks_around3000  parks_nearest  ponds_around3000  \\\n",
      "5                  NaN               NaN            NaN               NaN   \n",
      "8                  NaN               NaN            NaN               NaN   \n",
      "12                 NaN               NaN            NaN               NaN   \n",
      "22                 NaN               NaN            NaN               NaN   \n",
      "30                 NaN               NaN            NaN               NaN   \n",
      "\n",
      "    ponds_nearest  days_exposition  \n",
      "5             NaN             55.0  \n",
      "8             NaN            189.0  \n",
      "12            NaN             90.0  \n",
      "22            NaN             60.0  \n",
      "30            NaN             63.0  \n",
      "\n",
      "[5 rows x 22 columns]\n"
     ]
    }
   ],
   "source": [
    "print(data[data['cityCenters_nearest'].isna()].head())"
   ]
  },
  {
   "cell_type": "markdown",
   "metadata": {},
   "source": [
    "Для разных населенных пунктов расстояние до центра может быть разным, заполнить их медианным значением не правильно, лучше оставить их.\n",
    "Теперь столбец parks_around3000. Пропущенное значение скорее говорит об отсутствии парка в 3 км. Заменим их на 0. И соответственно в столбце parks_nearest заменим пропуски на 3001. Также поступим и со столбцами ponds_around3000 и ponds_nearest"
   ]
  },
  {
   "cell_type": "code",
   "execution_count": 15,
   "metadata": {},
   "outputs": [],
   "source": [
    "data['parks_around3000'] = data['parks_around3000'].fillna(value=0)\n",
    "data['parks_nearest'] = data['parks_nearest'].fillna(value=3001)\n",
    "data['ponds_around3000'] = data['ponds_around3000'].fillna(value=0)\n",
    "data['ponds_nearest'] = data['ponds_nearest'].fillna(value=3001)\n"
   ]
  },
  {
   "cell_type": "markdown",
   "metadata": {},
   "source": [
    "И столбец days_exposition, объективной причины пропусков сейчас трудно определить но чтобы не терять данные оставим пропуски как есть"
   ]
  },
  {
   "cell_type": "markdown",
   "metadata": {},
   "source": [
    "Теперь надо изменить типы данных с float на int в тех столбцах в которых не нужно считать дробную часть, и памяти меньше используется и при расчетах проще"
   ]
  },
  {
   "cell_type": "code",
   "execution_count": 16,
   "metadata": {},
   "outputs": [
    {
     "name": "stdout",
     "output_type": "stream",
     "text": [
      "<class 'pandas.core.frame.DataFrame'>\n",
      "RangeIndex: 23699 entries, 0 to 23698\n",
      "Data columns (total 22 columns):\n",
      "total_images            23699 non-null int64\n",
      "last_price              23699 non-null int64\n",
      "total_area              23699 non-null float64\n",
      "first_day_exposition    23699 non-null object\n",
      "rooms                   23699 non-null int64\n",
      "ceiling_height          23699 non-null float64\n",
      "floors_total            23699 non-null int64\n",
      "living_area             23699 non-null float64\n",
      "floor                   23699 non-null int64\n",
      "is_apartment            23699 non-null bool\n",
      "studio                  23699 non-null bool\n",
      "open_plan               23699 non-null bool\n",
      "kitchen_area            23502 non-null float64\n",
      "balcony                 23699 non-null int64\n",
      "locality_name           23699 non-null object\n",
      "airports_nearest        23699 non-null int64\n",
      "cityCenters_nearest     18180 non-null float64\n",
      "parks_around3000        23699 non-null int64\n",
      "parks_nearest           23699 non-null int64\n",
      "ponds_around3000        23699 non-null int64\n",
      "ponds_nearest           23699 non-null int64\n",
      "days_exposition         20518 non-null float64\n",
      "dtypes: bool(3), float64(6), int64(11), object(2)\n",
      "memory usage: 3.5+ MB\n"
     ]
    }
   ],
   "source": [
    "data['last_price'] = data['last_price'].astype('int')\n",
    "data['floors_total'] = data['floors_total'].astype('int')\n",
    "data['balcony'] = data['balcony'].astype('int')\n",
    "data['airports_nearest'] = data['airports_nearest'].astype('int')\n",
    "data['parks_around3000'] = data['parks_around3000'].astype('int')\n",
    "data['parks_nearest'] = data['parks_nearest'].astype('int')\n",
    "data['ponds_around3000'] = data['ponds_around3000'].astype('int')\n",
    "data['ponds_nearest'] = data['ponds_nearest'].astype('int')\n",
    "data['days_exposition'] = data['days_exposition'].astype('int', errors='ignore')\n",
    "data.info()"
   ]
  },
  {
   "cell_type": "markdown",
   "metadata": {},
   "source": [
    "еще надо изменить тип данных в столбце first_day_exposition на to_datetime"
   ]
  },
  {
   "cell_type": "code",
   "execution_count": 17,
   "metadata": {},
   "outputs": [
    {
     "name": "stdout",
     "output_type": "stream",
     "text": [
      "0   2019-03-07\n",
      "1   2018-12-04\n",
      "2   2015-08-20\n",
      "3   2015-07-24\n",
      "4   2018-06-19\n",
      "Name: first_day_exposition, dtype: datetime64[ns]\n"
     ]
    }
   ],
   "source": [
    "data['first_day_exposition'] = pd.to_datetime(\n",
    "    data['first_day_exposition'], format='%Y-%m-%dT%H:%M:%S'\n",
    ")\n",
    "print(data['first_day_exposition'].head())"
   ]
  },
  {
   "cell_type": "markdown",
   "metadata": {},
   "source": [
    "## Расчёты и добавление результатов в таблицу"
   ]
  },
  {
   "cell_type": "markdown",
   "metadata": {},
   "source": [
    "Чтобы посчитать цену одного метра разделим общую стоимость на общую площадь и добавим в столбец meter_price "
   ]
  },
  {
   "cell_type": "code",
   "execution_count": 18,
   "metadata": {},
   "outputs": [
    {
     "data": {
      "text/plain": [
       "count    2.369900e+04\n",
       "mean     9.942121e+04\n",
       "std      5.030681e+04\n",
       "min      1.110000e+02\n",
       "25%      7.658500e+04\n",
       "50%      9.500000e+04\n",
       "75%      1.142560e+05\n",
       "max      1.907500e+06\n",
       "Name: meter_price, dtype: float64"
      ]
     },
     "execution_count": 18,
     "metadata": {},
     "output_type": "execute_result"
    }
   ],
   "source": [
    "data['meter_price'] = data['last_price'] / data['total_area']\n",
    "data['meter_price'] = data['meter_price'].astype('int')\n",
    "data['meter_price'].describe()"
   ]
  },
  {
   "cell_type": "markdown",
   "metadata": {},
   "source": [
    "добавим столбцы с днем недели месяцем и годом публикации объявления"
   ]
  },
  {
   "cell_type": "code",
   "execution_count": 19,
   "metadata": {},
   "outputs": [
    {
     "name": "stdout",
     "output_type": "stream",
     "text": [
      "0    3\n",
      "1    1\n",
      "2    3\n",
      "3    4\n",
      "4    1\n",
      "Name: exp_weekday, dtype: int64 0     3\n",
      "1    12\n",
      "2     8\n",
      "3     7\n",
      "4     6\n",
      "Name: exp_month, dtype: int64 0    2019\n",
      "1    2018\n",
      "2    2015\n",
      "3    2015\n",
      "4    2018\n",
      "Name: exp_year, dtype: int64\n"
     ]
    }
   ],
   "source": [
    "data['exp_weekday'] = pd.DatetimeIndex(data['first_day_exposition']).weekday\n",
    "data['exp_month'] = pd.DatetimeIndex(data['first_day_exposition']).month\n",
    "data['exp_year'] = pd.DatetimeIndex(data['first_day_exposition']).year\n",
    "#проверим столбцы\n",
    "print(data['exp_weekday'].head(), data['exp_month'].head(), data['exp_year'].head())"
   ]
  },
  {
   "cell_type": "markdown",
   "metadata": {},
   "source": [
    "разделим на категории этажность квартир"
   ]
  },
  {
   "cell_type": "code",
   "execution_count": 20,
   "metadata": {},
   "outputs": [
    {
     "name": "stdout",
     "output_type": "stream",
     "text": [
      "другой       17363\n",
      "последний     3419\n",
      "первый        2917\n",
      "Name: category_floor, dtype: int64\n"
     ]
    }
   ],
   "source": [
    "#функция определяющая категорию\n",
    "def category_floor(data):\n",
    "    if data['floor'] == 1:\n",
    "        return 'первый'\n",
    "    if data['floor'] == data['floors_total']:\n",
    "        return 'последний'\n",
    "    return 'другой'\n",
    "#добавим столбец с категориями \n",
    "data['category_floor'] = data.apply(category_floor, axis=1)\n",
    "#проверим результат\n",
    "print(data['category_floor'].value_counts())"
   ]
  },
  {
   "cell_type": "markdown",
   "metadata": {},
   "source": [
    "добавим соотношение жилой площади к общей"
   ]
  },
  {
   "cell_type": "code",
   "execution_count": 21,
   "metadata": {},
   "outputs": [
    {
     "name": "stdout",
     "output_type": "stream",
     "text": [
      "0    0.472222\n",
      "1    0.460396\n",
      "2    0.612500\n",
      "3    0.283019\n",
      "4    0.320000\n",
      "Name: living_to_total, dtype: float64\n"
     ]
    }
   ],
   "source": [
    "data['living_to_total'] = data['living_area'] / data['total_area']\n",
    "print(data['living_to_total'].head())"
   ]
  },
  {
   "cell_type": "markdown",
   "metadata": {},
   "source": [
    "добавим соотношение кухни к общей площади"
   ]
  },
  {
   "cell_type": "code",
   "execution_count": 22,
   "metadata": {},
   "outputs": [
    {
     "name": "stdout",
     "output_type": "stream",
     "text": [
      "0    0.231481\n",
      "1    0.272277\n",
      "2    0.148214\n",
      "3    0.059748\n",
      "4    0.410000\n",
      "Name: kitchen_to_total, dtype: float64\n"
     ]
    }
   ],
   "source": [
    "data['kitchen_to_total'] = data['kitchen_area'] / data['total_area']\n",
    "print(data['kitchen_to_total'].head())"
   ]
  },
  {
   "cell_type": "markdown",
   "metadata": {},
   "source": [
    "## Исследовательский анализ данных"
   ]
  },
  {
   "cell_type": "markdown",
   "metadata": {},
   "source": [
    "теперь посмотрим на график распределения площадей"
   ]
  },
  {
   "cell_type": "code",
   "execution_count": 23,
   "metadata": {},
   "outputs": [
    {
     "name": "stdout",
     "output_type": "stream",
     "text": [
      "60.34865099793241\n"
     ]
    },
    {
     "data": {
      "image/png": "[encoded data removed]",
      "text/plain": [
       "<Figure size 432x288 with 1 Axes>"
      ]
     },
     "metadata": {
      "needs_background": "light"
     },
     "output_type": "display_data"
    }
   ],
   "source": [
    "data['total_area'].hist(bins=100)\n",
    "print(data['total_area'].mean())"
   ]
  },
  {
   "cell_type": "markdown",
   "metadata": {},
   "source": [
    "подовляющее число продоваемых квартир не превышает 100 кв.м.\n",
    "\n",
    "проверим распределение по ценам"
   ]
  },
  {
   "cell_type": "code",
   "execution_count": 24,
   "metadata": {},
   "outputs": [
    {
     "data": {
      "text/plain": [
       "<matplotlib.axes._subplots.AxesSubplot at 0x7fcdd83ebe50>"
      ]
     },
     "execution_count": 24,
     "metadata": {},
     "output_type": "execute_result"
    },
    {
     "data": {
      "image/png": "[encoded data removed]",
      "text/plain": [
       "<Figure size 432x288 with 1 Axes>"
      ]
     },
     "metadata": {
      "needs_background": "light"
     },
     "output_type": "display_data"
    }
   ],
   "source": [
    "data['last_price'].hist(bins=150, range=(0, 5*10e+6))"
   ]
  },
  {
   "cell_type": "code",
   "execution_count": 25,
   "metadata": {},
   "outputs": [
    {
     "data": {
      "image/png": "[encoded data removed]",
      "text/plain": [
       "<Figure size 432x288 with 1 Axes>"
      ]
     },
     "metadata": {
      "needs_background": "light"
     },
     "output_type": "display_data"
    }
   ],
   "source": [
    "data['meter_price'].hist(bins=150, range=(0, 5*10e+4));"
   ]
  },
  {
   "cell_type": "markdown",
   "metadata": {},
   "source": [
    "наиболее продаваемые квартиры стоят от 2,5 млн до 6 млн\n",
    "\n",
    "посмотрим на распределение числа комнат"
   ]
  },
  {
   "cell_type": "code",
   "execution_count": 26,
   "metadata": {},
   "outputs": [
    {
     "data": {
      "image/png": "[encoded data removed]",
      "text/plain": [
       "<Figure size 432x288 with 1 Axes>"
      ]
     },
     "metadata": {
      "needs_background": "light"
     },
     "output_type": "display_data"
    }
   ],
   "source": [
    "data['rooms'].hist(range=(1, 10));"
   ]
  },
  {
   "cell_type": "markdown",
   "metadata": {},
   "source": [
    "самые популярные 1 и 2-х комнатные квартиры, у 3-х комнатных тоже высокий спрос по сравнению с квартирами большей комнатностью\n",
    "проверим распределение высоты потолков"
   ]
  },
  {
   "cell_type": "code",
   "execution_count": 27,
   "metadata": {},
   "outputs": [
    {
     "data": {
      "image/png": "[encoded data removed]",
      "text/plain": [
       "<Figure size 432x288 with 1 Axes>"
      ]
     },
     "metadata": {
      "needs_background": "light"
     },
     "output_type": "display_data"
    }
   ],
   "source": [
    "data['ceiling_height'].hist(bins=50, range=(2, 5));"
   ]
  },
  {
   "cell_type": "markdown",
   "metadata": {},
   "source": [
    "2,7 м самая популярная высота потолков, а ниже 2,6 и выше 3.4 очень редко встречаются\n",
    "\n",
    "построим гистограмму для время продажи квартиры"
   ]
  },
  {
   "cell_type": "code",
   "execution_count": 28,
   "metadata": {},
   "outputs": [
    {
     "data": {
      "image/png": "[encoded data removed]",
      "text/plain": [
       "<Figure size 432x288 with 1 Axes>"
      ]
     },
     "metadata": {
      "needs_background": "light"
     },
     "output_type": "display_data"
    }
   ],
   "source": [
    "data['days_exposition'].hist(bins=100, range=(0, 200));"
   ]
  },
  {
   "cell_type": "markdown",
   "metadata": {},
   "source": [
    "какие-то странные скачки \n",
    "посмотрим что это за значения"
   ]
  },
  {
   "cell_type": "code",
   "execution_count": 29,
   "metadata": {},
   "outputs": [
    {
     "name": "stdout",
     "output_type": "stream",
     "text": [
      "45.0    880\n",
      "60.0    538\n",
      "7.0     234\n",
      "30.0    208\n",
      "90.0    204\n",
      "4.0     176\n",
      "3.0     158\n",
      "5.0     152\n",
      "14.0    148\n",
      "9.0     143\n",
      "Name: days_exposition, dtype: int64\n"
     ]
    }
   ],
   "source": [
    "print(data['days_exposition'].value_counts().head(10))"
   ]
  },
  {
   "cell_type": "markdown",
   "metadata": {},
   "source": [
    "отфильтруем данные без показателей 45, 60"
   ]
  },
  {
   "cell_type": "code",
   "execution_count": 30,
   "metadata": {},
   "outputs": [
    {
     "name": "stderr",
     "output_type": "stream",
     "text": [
      "/opt/conda/lib/python3.7/site-packages/ipykernel_launcher.py:2: SettingWithCopyWarning: \n",
      "A value is trying to be set on a copy of a slice from a DataFrame.\n",
      "Try using .loc[row_indexer,col_indexer] = value instead\n",
      "\n",
      "See the caveats in the documentation: http://pandas.pydata.org/pandas-docs/stable/user_guide/indexing.html#returning-a-view-versus-a-copy\n",
      "  \n"
     ]
    },
    {
     "data": {
      "text/plain": [
       "<matplotlib.axes._subplots.AxesSubplot at 0x7fcdcf1f9f90>"
      ]
     },
     "execution_count": 30,
     "metadata": {},
     "output_type": "execute_result"
    },
    {
     "data": {
      "image/png": "[encoded data removed]",
      "text/plain": [
       "<Figure size 432x288 with 1 Axes>"
      ]
     },
     "metadata": {
      "needs_background": "light"
     },
     "output_type": "display_data"
    }
   ],
   "source": [
    "days_exposition_filtered = data.dropna(subset=['days_exposition'])\n",
    "days_exposition_filtered['days_exposition'] = days_exposition_filtered['days_exposition'].astype('int')\n",
    "days_exposition_filtered = days_exposition_filtered.query('days_exposition !=45 and days_exposition !=60')\n",
    "days_exposition_filtered['days_exposition'].hist(bins=100, range=(0, 200))\n"
   ]
  },
  {
   "cell_type": "markdown",
   "metadata": {},
   "source": [
    "подсчитаем среднее и медианное значение"
   ]
  },
  {
   "cell_type": "code",
   "execution_count": 31,
   "metadata": {},
   "outputs": [
    {
     "name": "stdout",
     "output_type": "stream",
     "text": [
      "Среднее значение: 180.88863436982163\n",
      "Медианное значение: 95.0\n"
     ]
    }
   ],
   "source": [
    "print('Среднее значение:', data['days_exposition'].mean())\n",
    "print('Медианное значение:', data['days_exposition'].median())"
   ]
  },
  {
   "cell_type": "markdown",
   "metadata": {},
   "source": [
    "В среднем продажа займет 95 дней.\n",
    "Посмотрим распределение"
   ]
  },
  {
   "cell_type": "code",
   "execution_count": 32,
   "metadata": {},
   "outputs": [
    {
     "data": {
      "text/plain": [
       "count    20518.000000\n",
       "mean       180.888634\n",
       "std        219.727988\n",
       "min          1.000000\n",
       "25%         45.000000\n",
       "50%         95.000000\n",
       "75%        232.000000\n",
       "max       1580.000000\n",
       "Name: days_exposition, dtype: float64"
      ]
     },
     "execution_count": 32,
     "metadata": {},
     "output_type": "execute_result"
    }
   ],
   "source": [
    "data['days_exposition'].describe()"
   ]
  },
  {
   "cell_type": "markdown",
   "metadata": {},
   "source": [
    "Теперь можно сказать что продажи до 45 дней быстрые а свыше 232 долгие"
   ]
  },
  {
   "cell_type": "markdown",
   "metadata": {},
   "source": [
    "Проверим выбивающиеся значения\n",
    "Возьмем общую площадь. Из графика выше видно что квартир с площадью больше 150 кв.м и меньше 20 кв.м очень мало, отбросим их"
   ]
  },
  {
   "cell_type": "code",
   "execution_count": 33,
   "metadata": {},
   "outputs": [
    {
     "data": {
      "image/png": "[encoded data removed]",
      "text/plain": [
       "<Figure size 432x288 with 1 Axes>"
      ]
     },
     "metadata": {
      "needs_background": "light"
     },
     "output_type": "display_data"
    }
   ],
   "source": [
    "total_area_filtered = data.query('total_area > 20 and total_area < 150')['total_area'].hist(bins=100)\n",
    "good_data = data.query('total_area > 20 and total_area < 150')"
   ]
  },
  {
   "cell_type": "markdown",
   "metadata": {},
   "source": [
    "От чего могут зависить пиковые значения у наиболее продаваемых квартир? Может это студии с площадью как у 1-комнатной квартиры а может 2-х комнатная квартира с площадью ка у 1-конатной.\n",
    "Ясно точно что самые продаваемые квартиры с площадью от 30 до 60 кв.м."
   ]
  },
  {
   "cell_type": "markdown",
   "metadata": {},
   "source": [
    "Количество квартиц по цене выше 20 000 000 совсем немного, по этому их можно исключить"
   ]
  },
  {
   "cell_type": "code",
   "execution_count": 34,
   "metadata": {},
   "outputs": [
    {
     "data": {
      "text/plain": [
       "4505000.0"
      ]
     },
     "execution_count": 34,
     "metadata": {},
     "output_type": "execute_result"
    },
    {
     "data": {
      "image/png": "[encoded data removed]",
      "text/plain": [
       "<Figure size 432x288 with 1 Axes>"
      ]
     },
     "metadata": {
      "needs_background": "light"
     },
     "output_type": "display_data"
    }
   ],
   "source": [
    "good_data = good_data.query('last_price < 2*10e+6')\n",
    "good_data['last_price'].hist(bins=150)\n",
    "good_data['last_price'].median()"
   ]
  },
  {
   "cell_type": "markdown",
   "metadata": {},
   "source": [
    "В диапазоне от 2500000 до 5000000 есть большие скачки"
   ]
  },
  {
   "cell_type": "markdown",
   "metadata": {},
   "source": [
    "По числу комнат так же можно не принимать в расчет квартиры с белее 5 комнатами"
   ]
  },
  {
   "cell_type": "code",
   "execution_count": 35,
   "metadata": {},
   "outputs": [
    {
     "data": {
      "image/png": "[encoded data removed]",
      "text/plain": [
       "<Figure size 432x288 with 1 Axes>"
      ]
     },
     "metadata": {
      "needs_background": "light"
     },
     "output_type": "display_data"
    }
   ],
   "source": [
    "rooms_filtered = data.query('rooms <= 5')['rooms'].hist(bins=50)\n"
   ]
  },
  {
   "cell_type": "markdown",
   "metadata": {},
   "source": [
    "Вот это сюрприз, квартиры с 0 комнатами?\n",
    "такие квартиры тоже исключим"
   ]
  },
  {
   "cell_type": "code",
   "execution_count": 36,
   "metadata": {},
   "outputs": [
    {
     "data": {
      "image/png": "[encoded data removed]",
      "text/plain": [
       "<Figure size 432x288 with 1 Axes>"
      ]
     },
     "metadata": {
      "needs_background": "light"
     },
     "output_type": "display_data"
    }
   ],
   "source": [
    "rooms_filtered = data.query('rooms <= 5 and rooms > 0')\n",
    "rooms_filtered['rooms'].hist(bins=50)\n",
    "good_data = good_data.query('rooms <= 5 and rooms > 0')"
   ]
  },
  {
   "cell_type": "markdown",
   "metadata": {},
   "source": [
    "Высота потолков тоже вызывает вопросы, мень 2,5 м можно исключить как и квариты с высотой больше 3,4 м"
   ]
  },
  {
   "cell_type": "code",
   "execution_count": 37,
   "metadata": {
    "scrolled": true
   },
   "outputs": [
    {
     "data": {
      "text/plain": [
       "<matplotlib.axes._subplots.AxesSubplot at 0x7fcdcf430310>"
      ]
     },
     "execution_count": 37,
     "metadata": {},
     "output_type": "execute_result"
    },
    {
     "data": {
      "image/png": "[encoded data removed]",
      "text/plain": [
       "<Figure size 432x288 with 1 Axes>"
      ]
     },
     "metadata": {
      "needs_background": "light"
     },
     "output_type": "display_data"
    }
   ],
   "source": [
    "ceiling_height_filtered = data.query('ceiling_height <= 3.4 and ceiling_height > 2.4')\n",
    "ceiling_height_filtered['ceiling_height'].hist(bins=40,range=(2.4, 3.5))"
   ]
  },
  {
   "cell_type": "markdown",
   "metadata": {},
   "source": [
    "Чтобы определить как зависит цена от квадратного метра построим сводную таблицу и посмотрим на график"
   ]
  },
  {
   "cell_type": "code",
   "execution_count": 38,
   "metadata": {},
   "outputs": [
    {
     "name": "stdout",
     "output_type": "stream",
     "text": [
      "Корреляция : 0.08048377168252696\n"
     ]
    },
    {
     "data": {
      "image/png": "[encoded data removed]",
      "text/plain": [
       "<Figure size 432x288 with 1 Axes>"
      ]
     },
     "metadata": {
      "needs_background": "light"
     },
     "output_type": "display_data"
    }
   ],
   "source": [
    "meter_price_to_area = good_data.pivot_table(index='total_area', values='meter_price', aggfunc='median')\n",
    "good_data.plot(x='total_area', y='meter_price', kind='scatter', alpha=0.2, grid=True)\n",
    "print('Корреляция :',good_data['total_area'].corr(good_data['meter_price']))"
   ]
  },
  {
   "cell_type": "markdown",
   "metadata": {},
   "source": [
    "Как видно стоимость квадратного метра не сильно зависит от общей площади"
   ]
  },
  {
   "cell_type": "markdown",
   "metadata": {},
   "source": [
    "Посмотрим на влияние количества комнат на цену за квадрат"
   ]
  },
  {
   "cell_type": "code",
   "execution_count": 39,
   "metadata": {},
   "outputs": [
    {
     "data": {
      "text/plain": [
       "<matplotlib.axes._subplots.AxesSubplot at 0x7fcdceff8290>"
      ]
     },
     "execution_count": 39,
     "metadata": {},
     "output_type": "execute_result"
    },
    {
     "data": {
      "image/png": "[encoded data removed]",
      "text/plain": [
       "<Figure size 432x288 with 1 Axes>"
      ]
     },
     "metadata": {
      "needs_background": "light"
     },
     "output_type": "display_data"
    }
   ],
   "source": [
    "good_data.pivot_table(index='rooms', values='meter_price', aggfunc='median').plot(grid=True)"
   ]
  },
  {
   "cell_type": "markdown",
   "metadata": {},
   "source": [
    "Как видим у 3-х комнатных квартир цена за квадратный метр значительно ниже"
   ]
  },
  {
   "cell_type": "markdown",
   "metadata": {},
   "source": [
    "Проверим зависимость от этажа"
   ]
  },
  {
   "cell_type": "code",
   "execution_count": 40,
   "metadata": {},
   "outputs": [
    {
     "data": {
      "text/plain": [
       "<matplotlib.axes._subplots.AxesSubplot at 0x7fcdcef278d0>"
      ]
     },
     "execution_count": 40,
     "metadata": {},
     "output_type": "execute_result"
    },
    {
     "data": {
      "image/png": "[encoded data removed]",
      "text/plain": [
       "<Figure size 432x288 with 1 Axes>"
      ]
     },
     "metadata": {
      "needs_background": "light"
     },
     "output_type": "display_data"
    }
   ],
   "source": [
    "good_data.pivot_table(index='category_floor', values='meter_price', aggfunc='median').plot(grid=True)"
   ]
  },
  {
   "cell_type": "markdown",
   "metadata": {},
   "source": [
    "На первом и последнем этажах цены заметно ниже\n",
    "\n",
    "Посмотрим распределение цен в зависимости от удаленности от центра"
   ]
  },
  {
   "cell_type": "code",
   "execution_count": 41,
   "metadata": {},
   "outputs": [
    {
     "name": "stdout",
     "output_type": "stream",
     "text": [
      "Корреляция : -0.39488561665069777\n"
     ]
    },
    {
     "data": {
      "image/png": "[encoded data removed]",
      "text/plain": [
       "<Figure size 432x288 with 1 Axes>"
      ]
     },
     "metadata": {
      "needs_background": "light"
     },
     "output_type": "display_data"
    }
   ],
   "source": [
    "good_data.plot(x='cityCenters_nearest', y='meter_price', kind='scatter', alpha=0.2,grid=True)\n",
    "print('Корреляция :',good_data['cityCenters_nearest'].corr(good_data['meter_price']))"
   ]
  },
  {
   "cell_type": "markdown",
   "metadata": {},
   "source": [
    "Чем ближе к центру тем цена выше\n",
    "\n",
    "Так же проверим влияние даты размещения объявлений"
   ]
  },
  {
   "cell_type": "code",
   "execution_count": 42,
   "metadata": {},
   "outputs": [
    {
     "data": {
      "text/plain": [
       "<matplotlib.axes._subplots.AxesSubplot at 0x7fcdd84b0e90>"
      ]
     },
     "execution_count": 42,
     "metadata": {},
     "output_type": "execute_result"
    },
    {
     "data": {
      "image/png": "[encoded data removed]",
      "text/plain": [
       "<Figure size 432x288 with 1 Axes>"
      ]
     },
     "metadata": {
      "needs_background": "light"
     },
     "output_type": "display_data"
    },
    {
     "data": {
      "image/png": "[encoded data removed]",
      "text/plain": [
       "<Figure size 432x288 with 1 Axes>"
      ]
     },
     "metadata": {
      "needs_background": "light"
     },
     "output_type": "display_data"
    },
    {
     "data": {
      "image/png": "[encoded data removed]",
      "text/plain": [
       "<Figure size 432x288 with 1 Axes>"
      ]
     },
     "metadata": {
      "needs_background": "light"
     },
     "output_type": "display_data"
    }
   ],
   "source": [
    "good_data.plot(x='meter_price', y='exp_weekday', kind='scatter', alpha=0.15,grid=True)\n",
    "good_data.plot(x='meter_price', y='exp_month', kind='scatter', alpha=0.15,grid=True)\n",
    "good_data.plot(x='meter_price', y='exp_year', kind='scatter', alpha=0.15,grid=True)"
   ]
  },
  {
   "cell_type": "markdown",
   "metadata": {},
   "source": [
    "Цена в 2014 ниже последующих лет, в 2017 2018 годах практически одинаковые а в 2019 заметно небольшое снижение.\n",
    "Интересно что объявления размещенные в мае по меньшей стоимости в сравнении с другими месяцами\n",
    "А вот день недели практически не влияет на стоимость"
   ]
  },
  {
   "cell_type": "markdown",
   "metadata": {},
   "source": [
    "Найдем 10 населенных пунктов с наибольшим числом объявлений"
   ]
  },
  {
   "cell_type": "code",
   "execution_count": 43,
   "metadata": {},
   "outputs": [
    {
     "data": {
      "text/html": [
       "<div>\n",
       "<style scoped>\n",
       "    .dataframe tbody tr th:only-of-type {\n",
       "        vertical-align: middle;\n",
       "    }\n",
       "\n",
       "    .dataframe tbody tr th {\n",
       "        vertical-align: top;\n",
       "    }\n",
       "\n",
       "    .dataframe thead tr th {\n",
       "        text-align: left;\n",
       "    }\n",
       "\n",
       "    .dataframe thead tr:last-of-type th {\n",
       "        text-align: right;\n",
       "    }\n",
       "</style>\n",
       "<table border=\"1\" class=\"dataframe\">\n",
       "  <thead>\n",
       "    <tr>\n",
       "      <th></th>\n",
       "      <th>count</th>\n",
       "      <th>mean</th>\n",
       "      <th>min</th>\n",
       "      <th>max</th>\n",
       "    </tr>\n",
       "    <tr>\n",
       "      <th></th>\n",
       "      <th>meter_price</th>\n",
       "      <th>meter_price</th>\n",
       "      <th>meter_price</th>\n",
       "      <th>meter_price</th>\n",
       "    </tr>\n",
       "    <tr>\n",
       "      <th>locality_name</th>\n",
       "      <th></th>\n",
       "      <th></th>\n",
       "      <th></th>\n",
       "      <th></th>\n",
       "    </tr>\n",
       "  </thead>\n",
       "  <tbody>\n",
       "    <tr>\n",
       "      <td>Санкт-Петербург</td>\n",
       "      <td>14692</td>\n",
       "      <td>108709.18</td>\n",
       "      <td>111</td>\n",
       "      <td>600000</td>\n",
       "    </tr>\n",
       "    <tr>\n",
       "      <td>посёлок Мурино</td>\n",
       "      <td>494</td>\n",
       "      <td>85026.32</td>\n",
       "      <td>50000</td>\n",
       "      <td>138580</td>\n",
       "    </tr>\n",
       "    <tr>\n",
       "      <td>посёлок Шушары</td>\n",
       "      <td>436</td>\n",
       "      <td>78405.28</td>\n",
       "      <td>47700</td>\n",
       "      <td>134000</td>\n",
       "    </tr>\n",
       "    <tr>\n",
       "      <td>Всеволожск</td>\n",
       "      <td>389</td>\n",
       "      <td>67225.75</td>\n",
       "      <td>31400</td>\n",
       "      <td>136423</td>\n",
       "    </tr>\n",
       "    <tr>\n",
       "      <td>Пушкин</td>\n",
       "      <td>354</td>\n",
       "      <td>101898.48</td>\n",
       "      <td>59836</td>\n",
       "      <td>167410</td>\n",
       "    </tr>\n",
       "    <tr>\n",
       "      <td>Колпино</td>\n",
       "      <td>337</td>\n",
       "      <td>75332.87</td>\n",
       "      <td>47957</td>\n",
       "      <td>125000</td>\n",
       "    </tr>\n",
       "    <tr>\n",
       "      <td>посёлок Парголово</td>\n",
       "      <td>322</td>\n",
       "      <td>90448.00</td>\n",
       "      <td>48405</td>\n",
       "      <td>138522</td>\n",
       "    </tr>\n",
       "    <tr>\n",
       "      <td>Гатчина</td>\n",
       "      <td>307</td>\n",
       "      <td>68745.69</td>\n",
       "      <td>10507</td>\n",
       "      <td>146315</td>\n",
       "    </tr>\n",
       "    <tr>\n",
       "      <td>деревня Кудрово</td>\n",
       "      <td>283</td>\n",
       "      <td>92296.75</td>\n",
       "      <td>54160</td>\n",
       "      <td>142857</td>\n",
       "    </tr>\n",
       "    <tr>\n",
       "      <td>Выборг</td>\n",
       "      <td>235</td>\n",
       "      <td>58075.47</td>\n",
       "      <td>18750</td>\n",
       "      <td>94805</td>\n",
       "    </tr>\n",
       "  </tbody>\n",
       "</table>\n",
       "</div>"
      ],
      "text/plain": [
       "                        count        mean         min         max\n",
       "                  meter_price meter_price meter_price meter_price\n",
       "locality_name                                                    \n",
       "Санкт-Петербург         14692   108709.18         111      600000\n",
       "посёлок Мурино            494    85026.32       50000      138580\n",
       "посёлок Шушары            436    78405.28       47700      134000\n",
       "Всеволожск                389    67225.75       31400      136423\n",
       "Пушкин                    354   101898.48       59836      167410\n",
       "Колпино                   337    75332.87       47957      125000\n",
       "посёлок Парголово         322    90448.00       48405      138522\n",
       "Гатчина                   307    68745.69       10507      146315\n",
       "деревня Кудрово           283    92296.75       54160      142857\n",
       "Выборг                    235    58075.47       18750       94805"
      ]
     },
     "execution_count": 43,
     "metadata": {},
     "output_type": "execute_result"
    }
   ],
   "source": [
    "top_price = good_data.pivot_table(index='locality_name', values='meter_price',\\\n",
    "                                  aggfunc=['count', 'mean', 'min', 'max']).\\\n",
    "sort_values(('count', 'meter_price'), ascending=False).head(10).round({('mean', 'meter_price'): 2})\n",
    "top_price"
   ]
  },
  {
   "cell_type": "code",
   "execution_count": 44,
   "metadata": {},
   "outputs": [
    {
     "name": "stdout",
     "output_type": "stream",
     "text": [
      "                      count        mean         min         max\n",
      "                meter_price meter_price meter_price meter_price\n",
      "locality_name                                                  \n",
      "Санкт-Петербург       14692   108709.18         111      600000\n",
      "                    count        mean         min         max\n",
      "              meter_price meter_price meter_price meter_price\n",
      "locality_name                                                \n",
      "Выборг                235    58075.47       18750       94805\n"
     ]
    }
   ],
   "source": [
    "print(top_price.sort_values(('min', 'meter_price')).head(1))\n",
    "print(top_price.sort_values(('max', 'meter_price')).head(1))"
   ]
  },
  {
   "cell_type": "markdown",
   "metadata": {},
   "source": [
    "Проанализируем цены в Санкт-Петербурге"
   ]
  },
  {
   "cell_type": "code",
   "execution_count": 45,
   "metadata": {},
   "outputs": [
    {
     "data": {
      "text/html": [
       "<div>\n",
       "<style scoped>\n",
       "    .dataframe tbody tr th:only-of-type {\n",
       "        vertical-align: middle;\n",
       "    }\n",
       "\n",
       "    .dataframe tbody tr th {\n",
       "        vertical-align: top;\n",
       "    }\n",
       "\n",
       "    .dataframe thead th {\n",
       "        text-align: right;\n",
       "    }\n",
       "</style>\n",
       "<table border=\"1\" class=\"dataframe\">\n",
       "  <thead>\n",
       "    <tr style=\"text-align: right;\">\n",
       "      <th></th>\n",
       "      <th>total_images</th>\n",
       "      <th>last_price</th>\n",
       "      <th>total_area</th>\n",
       "      <th>first_day_exposition</th>\n",
       "      <th>rooms</th>\n",
       "      <th>ceiling_height</th>\n",
       "      <th>floors_total</th>\n",
       "      <th>living_area</th>\n",
       "      <th>floor</th>\n",
       "      <th>is_apartment</th>\n",
       "      <th>...</th>\n",
       "      <th>ponds_around3000</th>\n",
       "      <th>ponds_nearest</th>\n",
       "      <th>days_exposition</th>\n",
       "      <th>meter_price</th>\n",
       "      <th>exp_weekday</th>\n",
       "      <th>exp_month</th>\n",
       "      <th>exp_year</th>\n",
       "      <th>category_floor</th>\n",
       "      <th>living_to_total</th>\n",
       "      <th>kitchen_to_total</th>\n",
       "    </tr>\n",
       "  </thead>\n",
       "  <tbody>\n",
       "    <tr>\n",
       "      <td>0</td>\n",
       "      <td>20</td>\n",
       "      <td>13000000</td>\n",
       "      <td>108.0</td>\n",
       "      <td>2019-03-07</td>\n",
       "      <td>3</td>\n",
       "      <td>2.70</td>\n",
       "      <td>16</td>\n",
       "      <td>51.0</td>\n",
       "      <td>8</td>\n",
       "      <td>False</td>\n",
       "      <td>...</td>\n",
       "      <td>2</td>\n",
       "      <td>755</td>\n",
       "      <td>NaN</td>\n",
       "      <td>120370</td>\n",
       "      <td>3</td>\n",
       "      <td>3</td>\n",
       "      <td>2019</td>\n",
       "      <td>другой</td>\n",
       "      <td>0.472222</td>\n",
       "      <td>0.231481</td>\n",
       "    </tr>\n",
       "    <tr>\n",
       "      <td>2</td>\n",
       "      <td>10</td>\n",
       "      <td>5196000</td>\n",
       "      <td>56.0</td>\n",
       "      <td>2015-08-20</td>\n",
       "      <td>2</td>\n",
       "      <td>2.65</td>\n",
       "      <td>5</td>\n",
       "      <td>34.3</td>\n",
       "      <td>4</td>\n",
       "      <td>False</td>\n",
       "      <td>...</td>\n",
       "      <td>2</td>\n",
       "      <td>574</td>\n",
       "      <td>558.0</td>\n",
       "      <td>92785</td>\n",
       "      <td>3</td>\n",
       "      <td>8</td>\n",
       "      <td>2015</td>\n",
       "      <td>другой</td>\n",
       "      <td>0.612500</td>\n",
       "      <td>0.148214</td>\n",
       "    </tr>\n",
       "    <tr>\n",
       "      <td>4</td>\n",
       "      <td>2</td>\n",
       "      <td>10000000</td>\n",
       "      <td>100.0</td>\n",
       "      <td>2018-06-19</td>\n",
       "      <td>2</td>\n",
       "      <td>3.03</td>\n",
       "      <td>14</td>\n",
       "      <td>32.0</td>\n",
       "      <td>13</td>\n",
       "      <td>False</td>\n",
       "      <td>...</td>\n",
       "      <td>1</td>\n",
       "      <td>48</td>\n",
       "      <td>121.0</td>\n",
       "      <td>100000</td>\n",
       "      <td>1</td>\n",
       "      <td>6</td>\n",
       "      <td>2018</td>\n",
       "      <td>другой</td>\n",
       "      <td>0.320000</td>\n",
       "      <td>0.410000</td>\n",
       "    </tr>\n",
       "    <tr>\n",
       "      <td>7</td>\n",
       "      <td>5</td>\n",
       "      <td>7915000</td>\n",
       "      <td>71.6</td>\n",
       "      <td>2019-04-18</td>\n",
       "      <td>2</td>\n",
       "      <td>2.65</td>\n",
       "      <td>24</td>\n",
       "      <td>30.5</td>\n",
       "      <td>22</td>\n",
       "      <td>False</td>\n",
       "      <td>...</td>\n",
       "      <td>0</td>\n",
       "      <td>3001</td>\n",
       "      <td>NaN</td>\n",
       "      <td>110544</td>\n",
       "      <td>3</td>\n",
       "      <td>4</td>\n",
       "      <td>2019</td>\n",
       "      <td>другой</td>\n",
       "      <td>0.425978</td>\n",
       "      <td>0.263966</td>\n",
       "    </tr>\n",
       "    <tr>\n",
       "      <td>9</td>\n",
       "      <td>18</td>\n",
       "      <td>5400000</td>\n",
       "      <td>61.0</td>\n",
       "      <td>2017-02-26</td>\n",
       "      <td>3</td>\n",
       "      <td>2.50</td>\n",
       "      <td>9</td>\n",
       "      <td>43.6</td>\n",
       "      <td>7</td>\n",
       "      <td>False</td>\n",
       "      <td>...</td>\n",
       "      <td>0</td>\n",
       "      <td>3001</td>\n",
       "      <td>289.0</td>\n",
       "      <td>88524</td>\n",
       "      <td>6</td>\n",
       "      <td>2</td>\n",
       "      <td>2017</td>\n",
       "      <td>другой</td>\n",
       "      <td>0.714754</td>\n",
       "      <td>0.106557</td>\n",
       "    </tr>\n",
       "  </tbody>\n",
       "</table>\n",
       "<p>5 rows × 29 columns</p>\n",
       "</div>"
      ],
      "text/plain": [
       "   total_images  last_price  total_area first_day_exposition  rooms  \\\n",
       "0            20    13000000       108.0           2019-03-07      3   \n",
       "2            10     5196000        56.0           2015-08-20      2   \n",
       "4             2    10000000       100.0           2018-06-19      2   \n",
       "7             5     7915000        71.6           2019-04-18      2   \n",
       "9            18     5400000        61.0           2017-02-26      3   \n",
       "\n",
       "   ceiling_height  floors_total  living_area  floor  is_apartment  ...  \\\n",
       "0            2.70            16         51.0      8         False  ...   \n",
       "2            2.65             5         34.3      4         False  ...   \n",
       "4            3.03            14         32.0     13         False  ...   \n",
       "7            2.65            24         30.5     22         False  ...   \n",
       "9            2.50             9         43.6      7         False  ...   \n",
       "\n",
       "   ponds_around3000  ponds_nearest  days_exposition  meter_price exp_weekday  \\\n",
       "0                 2            755              NaN       120370           3   \n",
       "2                 2            574            558.0        92785           3   \n",
       "4                 1             48            121.0       100000           1   \n",
       "7                 0           3001              NaN       110544           3   \n",
       "9                 0           3001            289.0        88524           6   \n",
       "\n",
       "   exp_month  exp_year  category_floor  living_to_total  kitchen_to_total  \n",
       "0          3      2019          другой         0.472222          0.231481  \n",
       "2          8      2015          другой         0.612500          0.148214  \n",
       "4          6      2018          другой         0.320000          0.410000  \n",
       "7          4      2019          другой         0.425978          0.263966  \n",
       "9          2      2017          другой         0.714754          0.106557  \n",
       "\n",
       "[5 rows x 29 columns]"
      ]
     },
     "execution_count": 45,
     "metadata": {},
     "output_type": "execute_result"
    }
   ],
   "source": [
    "data_spb = good_data.query( \"locality_name == 'Санкт-Петербург'\" )\n",
    "data_spb.head()"
   ]
  },
  {
   "cell_type": "code",
   "execution_count": 46,
   "metadata": {},
   "outputs": [
    {
     "data": {
      "text/plain": [
       "<matplotlib.axes._subplots.AxesSubplot at 0x7fcdd84113d0>"
      ]
     },
     "execution_count": 46,
     "metadata": {},
     "output_type": "execute_result"
    },
    {
     "data": {
      "image/png": "[encoded data removed]",
      "text/plain": [
       "<Figure size 432x288 with 1 Axes>"
      ]
     },
     "metadata": {
      "needs_background": "light"
     },
     "output_type": "display_data"
    }
   ],
   "source": [
    "#Построим график зависимости цен от удаленности от центра\n",
    "data_spb.pivot_table(index='cityCenters_nearest', values='meter_price').plot(grid=True)"
   ]
  },
  {
   "cell_type": "markdown",
   "metadata": {},
   "source": [
    "Заметная разница в цене у квартир до 5 км от центра, потом цены снижаются после 10 км от центра."
   ]
  },
  {
   "cell_type": "code",
   "execution_count": 47,
   "metadata": {},
   "outputs": [
    {
     "data": {
      "text/plain": [
       "<matplotlib.axes._subplots.AxesSubplot at 0x7fcdd8519e50>"
      ]
     },
     "execution_count": 47,
     "metadata": {},
     "output_type": "execute_result"
    },
    {
     "data": {
      "image/png": "[encoded data removed]",
      "text/plain": [
       "<Figure size 432x288 with 1 Axes>"
      ]
     },
     "metadata": {
      "needs_background": "light"
     },
     "output_type": "display_data"
    }
   ],
   "source": [
    "pd.set_option('mode.chained_assignment', None)\n",
    "data_spb['center_distance'] = data_spb['cityCenters_nearest'] / 1000\n",
    "data_spb['center_distance'].round()\n",
    "data_spb['mean_price'] = data_spb['meter_price'] / data_spb['center_distance']\n",
    "data_spb.pivot_table(index='center_distance', values='mean_price').plot(grid=True)"
   ]
  },
  {
   "cell_type": "markdown",
   "metadata": {},
   "source": [
    "В радиусе 5-10 км от центра квартиры можно отнести к центральным, так как стоимость за каждый метр выше, стоимость дальше 10 км."
   ]
  },
  {
   "cell_type": "code",
   "execution_count": 48,
   "metadata": {
    "scrolled": false
   },
   "outputs": [
    {
     "name": "stdout",
     "output_type": "stream",
     "text": [
      "Корреляция : center_distance -0.11707984063444078\n",
      "Корреляция : total_area -0.13078701343636917\n",
      "Корреляция : rooms -0.2873876355219692\n",
      "Корреляция : ceiling_height 0.1920607835406483\n"
     ]
    },
    {
     "data": {
      "image/png": "[encoded data removed]",
      "text/plain": [
       "<Figure size 432x288 with 1 Axes>"
      ]
     },
     "metadata": {
      "needs_background": "light"
     },
     "output_type": "display_data"
    },
    {
     "data": {
      "image/png": "[encoded data removed]",
      "text/plain": [
       "<Figure size 432x288 with 1 Axes>"
      ]
     },
     "metadata": {
      "needs_background": "light"
     },
     "output_type": "display_data"
    },
    {
     "data": {
      "image/png": "[encoded data removed]",
      "text/plain": [
       "<Figure size 432x288 with 1 Axes>"
      ]
     },
     "metadata": {
      "needs_background": "light"
     },
     "output_type": "display_data"
    },
    {
     "data": {
      "image/png": "[encoded data removed]",
      "text/plain": [
       "<Figure size 432x288 with 1 Axes>"
      ]
     },
     "metadata": {
      "needs_background": "light"
     },
     "output_type": "display_data"
    }
   ],
   "source": [
    "data_spb_center = data_spb.query('center_distance <= 10')\n",
    "for name in data_spb_center[['center_distance', 'total_area', 'rooms']]:\n",
    "    #data_spb_center[name].hist(bins=50, alpha=0.2)\n",
    "    data_spb_center.plot(x=name, y='meter_price', kind='scatter', alpha=0.2,grid=True)\n",
    "    print('Корреляция :', name, data_spb_center['meter_price'].corr(data_spb_center[name]))\n",
    "\n",
    "data_spb_center.plot(y='ceiling_height', x='meter_price', kind='scatter', alpha=0.05,grid=True)\n",
    "plt.ylim(2, 5)\n",
    "print('Корреляция :', 'ceiling_height', data_spb_center['meter_price'].corr(data_spb_center['ceiling_height']))"
   ]
  },
  {
   "cell_type": "markdown",
   "metadata": {},
   "source": [
    "Проанализировав центр Санкт-Петербурга можно сказать что рост стоимости квадратного метра начинается не в самом центре а от 3-х до 6 км. Тут надо уточнить конечно что берется за центр города. Дальше идет общее снижение.\n",
    "С увеличением общей площади квартиры стоимость квадратного метра уменьшается с коэффициентом корреляции -0,13.\n",
    "Такое же влияние на стоимость оказывает количество комнат, чем больше тем дешевле за квадратный метр но только с большей долей уменьшения..\n",
    "Цена квадратного метра будет выше у квартир с высотой потолков 2,7-2,8 метра, а дальше с увеличением высоты цена снижается..\n"
   ]
  },
  {
   "cell_type": "markdown",
   "metadata": {},
   "source": [
    " В результате выявили что 1 и 2-х комнатные квартиры продаются дороже по цене за квадратный метр, а вот если это первый или последний этаж в здании то цена будет снижена.\n",
    " Безусловно близость к центру повышает стоимость квадратного метра квартиры.\n",
    " А вот когда размещать объявление на стоимость сильно не влияет."
   ]
  },
  {
   "cell_type": "markdown",
   "metadata": {},
   "source": [
    "## Общий вывод"
   ]
  },
  {
   "cell_type": "markdown",
   "metadata": {},
   "source": [
    "Вывд:\n",
    "В среднем продажа квартиры занимает 95 дней. Если объявление опубликовано больше 232 дней то это продажа уже длительная.\n",
    "Наибольший спрос на квартиры площадью от 30 до 60 кв.м.\n",
    "Большей популярностью пользуются 1 и 2-х комнатные квартиры, да и в центре Санк-Перербурга 3-х комнатные тоже популярны.\n",
    "Не смотря на то что в среднем стоимость 3-х комнатных квартир ниже.\n",
    "2,7 м самая популярная высота потолков в продаваемых квартирах.\n",
    "Чем больше площадь квартиры тем ниже стоимость каждого метра.\n",
    "И с увеличением количества комнат цена за квадратный метр уменьшается.\n",
    "Цена так же снизится если это первый или последний этаж в здании.\n",
    "На увеличении стоимости сильно влияет близость к центру города."
   ]
  },
  {
   "cell_type": "code",
   "execution_count": null,
   "metadata": {},
   "outputs": [],
   "source": []
  }
 ],
 "metadata": {
  "ExecuteTimeLog": [
   {
    "duration": 107,
    "start_time": "2022-01-17T19:36:59.008Z"
   },
   {
    "duration": 806,
    "start_time": "2022-01-17T19:37:26.421Z"
   },
   {
    "duration": 105,
    "start_time": "2022-01-17T19:39:28.730Z"
   },
   {
    "duration": 109,
    "start_time": "2022-01-17T19:40:48.819Z"
   },
   {
    "duration": 82,
    "start_time": "2022-01-17T19:41:17.535Z"
   },
   {
    "duration": 98,
    "start_time": "2022-01-17T19:43:48.993Z"
   },
   {
    "duration": 105,
    "start_time": "2022-01-17T19:51:07.130Z"
   },
   {
    "duration": 529,
    "start_time": "2022-01-17T20:01:46.831Z"
   },
   {
    "duration": 403,
    "start_time": "2022-01-17T20:04:59.745Z"
   },
   {
    "duration": 6,
    "start_time": "2022-01-17T20:12:04.365Z"
   },
   {
    "duration": 7,
    "start_time": "2022-01-17T20:13:18.057Z"
   },
   {
    "duration": 11,
    "start_time": "2022-01-17T20:13:43.873Z"
   },
   {
    "duration": 6,
    "start_time": "2022-01-17T20:17:28.924Z"
   },
   {
    "duration": 5,
    "start_time": "2022-01-17T20:24:56.512Z"
   },
   {
    "duration": 12,
    "start_time": "2022-01-17T20:25:52.181Z"
   },
   {
    "duration": 8,
    "start_time": "2022-01-17T20:27:35.138Z"
   },
   {
    "duration": 332,
    "start_time": "2022-01-19T19:12:34.752Z"
   },
   {
    "duration": 621,
    "start_time": "2022-01-19T19:12:53.937Z"
   },
   {
    "duration": 264,
    "start_time": "2022-01-19T19:13:03.474Z"
   },
   {
    "duration": 6,
    "start_time": "2022-01-19T19:14:02.561Z"
   },
   {
    "duration": 5,
    "start_time": "2022-01-19T19:14:22.588Z"
   },
   {
    "duration": 5,
    "start_time": "2022-01-19T19:14:58.172Z"
   },
   {
    "duration": 5,
    "start_time": "2022-01-19T19:21:10.159Z"
   },
   {
    "duration": 6,
    "start_time": "2022-01-19T19:21:26.856Z"
   },
   {
    "duration": 3,
    "start_time": "2022-01-19T19:21:51.538Z"
   },
   {
    "duration": 7,
    "start_time": "2022-01-19T19:23:00.680Z"
   },
   {
    "duration": 21,
    "start_time": "2022-01-19T19:24:23.090Z"
   },
   {
    "duration": 5,
    "start_time": "2022-01-19T19:25:10.630Z"
   },
   {
    "duration": 6,
    "start_time": "2022-01-19T19:30:34.360Z"
   },
   {
    "duration": 5,
    "start_time": "2022-01-19T19:30:45.872Z"
   },
   {
    "duration": 100,
    "start_time": "2022-01-19T19:35:15.356Z"
   },
   {
    "duration": 5,
    "start_time": "2022-01-19T19:35:30.172Z"
   },
   {
    "duration": 5,
    "start_time": "2022-01-19T19:35:49.912Z"
   },
   {
    "duration": 7,
    "start_time": "2022-01-19T19:36:07.930Z"
   },
   {
    "duration": 5,
    "start_time": "2022-01-19T19:39:57.424Z"
   },
   {
    "duration": 250,
    "start_time": "2022-01-19T19:40:26.878Z"
   },
   {
    "duration": 29,
    "start_time": "2022-01-19T19:40:54.000Z"
   },
   {
    "duration": 20,
    "start_time": "2022-01-19T19:44:40.597Z"
   },
   {
    "duration": 5,
    "start_time": "2022-01-19T19:51:34.776Z"
   },
   {
    "duration": 5,
    "start_time": "2022-01-19T19:53:22.674Z"
   },
   {
    "duration": 217,
    "start_time": "2022-01-19T19:53:44.110Z"
   },
   {
    "duration": 214,
    "start_time": "2022-01-19T19:54:10.330Z"
   },
   {
    "duration": 236,
    "start_time": "2022-01-19T19:54:55.644Z"
   },
   {
    "duration": 6,
    "start_time": "2022-01-19T19:55:13.401Z"
   },
   {
    "duration": 4,
    "start_time": "2022-01-19T19:55:59.803Z"
   },
   {
    "duration": 6,
    "start_time": "2022-01-19T19:58:51.669Z"
   },
   {
    "duration": 160,
    "start_time": "2022-01-19T20:02:34.461Z"
   },
   {
    "duration": 7,
    "start_time": "2022-01-19T20:02:44.612Z"
   },
   {
    "duration": 5,
    "start_time": "2022-01-19T20:19:32.911Z"
   },
   {
    "duration": 4,
    "start_time": "2022-01-19T20:26:49.378Z"
   },
   {
    "duration": 4,
    "start_time": "2022-01-19T20:29:48.691Z"
   },
   {
    "duration": 8,
    "start_time": "2022-01-19T20:31:34.111Z"
   },
   {
    "duration": 14,
    "start_time": "2022-01-19T20:31:47.240Z"
   },
   {
    "duration": 3,
    "start_time": "2022-01-19T20:32:32.272Z"
   },
   {
    "duration": 12,
    "start_time": "2022-01-19T20:32:36.165Z"
   },
   {
    "duration": 12,
    "start_time": "2022-01-19T20:49:57.102Z"
   },
   {
    "duration": 6,
    "start_time": "2022-01-19T20:50:26.740Z"
   },
   {
    "duration": 5,
    "start_time": "2022-01-19T20:53:16.230Z"
   },
   {
    "duration": 5,
    "start_time": "2022-01-19T20:54:22.556Z"
   },
   {
    "duration": 5645,
    "start_time": "2022-01-19T20:56:18.473Z"
   },
   {
    "duration": 6,
    "start_time": "2022-01-19T20:56:35.232Z"
   },
   {
    "duration": 7,
    "start_time": "2022-01-19T20:56:47.470Z"
   },
   {
    "duration": 69,
    "start_time": "2022-01-19T21:00:06.258Z"
   },
   {
    "duration": 5,
    "start_time": "2022-01-19T21:00:24.812Z"
   },
   {
    "duration": 620,
    "start_time": "2022-01-19T21:01:27.432Z"
   },
   {
    "duration": 5,
    "start_time": "2022-01-19T21:01:28.054Z"
   },
   {
    "duration": 7,
    "start_time": "2022-01-19T21:01:28.061Z"
   },
   {
    "duration": 4,
    "start_time": "2022-01-19T21:01:28.070Z"
   },
   {
    "duration": 4,
    "start_time": "2022-01-19T21:01:28.076Z"
   },
   {
    "duration": 5,
    "start_time": "2022-01-19T21:01:28.082Z"
   },
   {
    "duration": 12,
    "start_time": "2022-01-19T21:01:28.112Z"
   },
   {
    "duration": 4,
    "start_time": "2022-01-19T21:01:28.126Z"
   },
   {
    "duration": 5,
    "start_time": "2022-01-19T21:01:28.131Z"
   },
   {
    "duration": 6,
    "start_time": "2022-01-19T21:01:28.193Z"
   },
   {
    "duration": 7,
    "start_time": "2022-01-19T21:01:28.320Z"
   },
   {
    "duration": 7,
    "start_time": "2022-01-19T21:01:28.409Z"
   },
   {
    "duration": 4,
    "start_time": "2022-01-19T21:01:28.498Z"
   },
   {
    "duration": 16,
    "start_time": "2022-01-19T21:01:28.586Z"
   },
   {
    "duration": 6,
    "start_time": "2022-01-19T21:01:28.694Z"
   },
   {
    "duration": 5,
    "start_time": "2022-01-19T21:01:28.792Z"
   },
   {
    "duration": 21,
    "start_time": "2022-01-19T21:19:04.234Z"
   },
   {
    "duration": 7,
    "start_time": "2022-01-19T21:25:21.044Z"
   },
   {
    "duration": 289,
    "start_time": "2022-01-19T21:25:37.050Z"
   },
   {
    "duration": 7,
    "start_time": "2022-01-19T21:26:22.141Z"
   },
   {
    "duration": 263,
    "start_time": "2022-01-20T18:18:53.627Z"
   },
   {
    "duration": 249,
    "start_time": "2022-01-20T18:19:09.034Z"
   },
   {
    "duration": 968,
    "start_time": "2022-01-20T18:20:21.661Z"
   },
   {
    "duration": 6,
    "start_time": "2022-01-20T18:20:22.635Z"
   },
   {
    "duration": 16,
    "start_time": "2022-01-20T18:20:22.644Z"
   },
   {
    "duration": 12,
    "start_time": "2022-01-20T18:20:22.662Z"
   },
   {
    "duration": 7,
    "start_time": "2022-01-20T18:20:22.699Z"
   },
   {
    "duration": 28,
    "start_time": "2022-01-20T18:20:22.710Z"
   },
   {
    "duration": 46,
    "start_time": "2022-01-20T18:20:22.742Z"
   },
   {
    "duration": 17,
    "start_time": "2022-01-20T18:20:22.790Z"
   },
   {
    "duration": 13,
    "start_time": "2022-01-20T18:20:22.809Z"
   },
   {
    "duration": 15,
    "start_time": "2022-01-20T18:20:22.824Z"
   },
   {
    "duration": 10,
    "start_time": "2022-01-20T18:20:22.841Z"
   },
   {
    "duration": 21,
    "start_time": "2022-01-20T18:20:22.854Z"
   },
   {
    "duration": 6,
    "start_time": "2022-01-20T18:20:22.878Z"
   },
   {
    "duration": 48,
    "start_time": "2022-01-20T18:20:22.887Z"
   },
   {
    "duration": 6,
    "start_time": "2022-01-20T18:20:22.938Z"
   },
   {
    "duration": 7,
    "start_time": "2022-01-20T18:20:22.946Z"
   },
   {
    "duration": 53,
    "start_time": "2022-01-20T18:20:22.955Z"
   },
   {
    "duration": 16,
    "start_time": "2022-01-20T18:20:23.010Z"
   },
   {
    "duration": 249,
    "start_time": "2022-01-20T18:20:23.029Z"
   },
   {
    "duration": 163,
    "start_time": "2022-01-20T18:20:23.118Z"
   },
   {
    "duration": 7,
    "start_time": "2022-01-20T18:21:05.675Z"
   },
   {
    "duration": 6,
    "start_time": "2022-01-20T18:27:04.959Z"
   },
   {
    "duration": 19,
    "start_time": "2022-01-20T18:49:07.086Z"
   },
   {
    "duration": 16,
    "start_time": "2022-01-20T18:50:16.172Z"
   },
   {
    "duration": 14,
    "start_time": "2022-01-20T18:51:10.445Z"
   },
   {
    "duration": 16,
    "start_time": "2022-01-20T18:52:22.473Z"
   },
   {
    "duration": 15,
    "start_time": "2022-01-20T18:52:47.247Z"
   },
   {
    "duration": 5537,
    "start_time": "2022-01-20T18:53:34.427Z"
   },
   {
    "duration": 15,
    "start_time": "2022-01-20T18:54:37.129Z"
   },
   {
    "duration": 502,
    "start_time": "2022-01-20T19:24:37.061Z"
   },
   {
    "duration": 710,
    "start_time": "2022-01-20T19:26:12.939Z"
   },
   {
    "duration": 654,
    "start_time": "2022-01-20T19:27:21.209Z"
   },
   {
    "duration": 6,
    "start_time": "2022-01-20T19:32:46.528Z"
   },
   {
    "duration": 7,
    "start_time": "2022-01-20T19:34:44.714Z"
   },
   {
    "duration": 254,
    "start_time": "2022-01-20T19:49:37.005Z"
   },
   {
    "duration": 349,
    "start_time": "2022-01-20T19:50:06.556Z"
   },
   {
    "duration": 187,
    "start_time": "2022-01-20T19:51:10.738Z"
   },
   {
    "duration": 454,
    "start_time": "2022-01-20T19:51:19.574Z"
   },
   {
    "duration": 423,
    "start_time": "2022-01-20T20:00:06.443Z"
   },
   {
    "duration": 351,
    "start_time": "2022-01-20T20:02:24.004Z"
   },
   {
    "duration": 2094,
    "start_time": "2022-01-20T20:02:34.516Z"
   },
   {
    "duration": 1093,
    "start_time": "2022-01-20T20:02:51.478Z"
   },
   {
    "duration": 263,
    "start_time": "2022-01-20T20:03:26.236Z"
   },
   {
    "duration": 552,
    "start_time": "2022-01-20T20:03:38.448Z"
   },
   {
    "duration": 467,
    "start_time": "2022-01-20T20:04:17.650Z"
   },
   {
    "duration": 2143,
    "start_time": "2022-01-20T20:04:34.704Z"
   },
   {
    "duration": 215,
    "start_time": "2022-01-20T20:05:03.184Z"
   },
   {
    "duration": 83,
    "start_time": "2022-01-20T20:13:18.022Z"
   },
   {
    "duration": 524,
    "start_time": "2022-01-20T20:15:05.122Z"
   },
   {
    "duration": 236,
    "start_time": "2022-01-20T20:17:31.594Z"
   },
   {
    "duration": 217,
    "start_time": "2022-01-20T20:18:29.688Z"
   },
   {
    "duration": 848,
    "start_time": "2022-01-20T20:18:56.894Z"
   },
   {
    "duration": 887,
    "start_time": "2022-01-20T20:19:49.256Z"
   },
   {
    "duration": 214,
    "start_time": "2022-01-20T20:20:27.823Z"
   },
   {
    "duration": 223,
    "start_time": "2022-01-20T20:23:10.200Z"
   },
   {
    "duration": 746,
    "start_time": "2022-01-20T20:23:31.376Z"
   },
   {
    "duration": 220,
    "start_time": "2022-01-20T20:23:43.516Z"
   },
   {
    "duration": 179,
    "start_time": "2022-01-20T20:24:24.454Z"
   },
   {
    "duration": 215,
    "start_time": "2022-01-20T20:24:36.708Z"
   },
   {
    "duration": 455,
    "start_time": "2022-01-20T20:24:54.769Z"
   },
   {
    "duration": 314,
    "start_time": "2022-01-20T20:25:03.927Z"
   },
   {
    "duration": 371,
    "start_time": "2022-01-20T20:27:36.519Z"
   },
   {
    "duration": 296,
    "start_time": "2022-01-20T20:27:45.566Z"
   },
   {
    "duration": 261,
    "start_time": "2022-01-20T20:27:53.455Z"
   },
   {
    "duration": 204,
    "start_time": "2022-01-20T20:28:29.956Z"
   },
   {
    "duration": 380,
    "start_time": "2022-01-20T20:34:56.461Z"
   },
   {
    "duration": 373,
    "start_time": "2022-01-20T20:35:15.499Z"
   },
   {
    "duration": 239,
    "start_time": "2022-01-20T20:43:16.719Z"
   },
   {
    "duration": 228,
    "start_time": "2022-01-20T20:47:51.268Z"
   },
   {
    "duration": 249,
    "start_time": "2022-01-20T20:48:07.152Z"
   },
   {
    "duration": 269,
    "start_time": "2022-01-20T20:48:26.746Z"
   },
   {
    "duration": 504,
    "start_time": "2022-01-20T20:48:37.354Z"
   },
   {
    "duration": 469,
    "start_time": "2022-01-20T20:48:55.466Z"
   },
   {
    "duration": 465,
    "start_time": "2022-01-20T20:49:06.041Z"
   },
   {
    "duration": 390,
    "start_time": "2022-01-20T20:49:16.493Z"
   },
   {
    "duration": 363,
    "start_time": "2022-01-20T20:51:06.060Z"
   },
   {
    "duration": 370,
    "start_time": "2022-01-20T20:51:55.542Z"
   },
   {
    "duration": 383,
    "start_time": "2022-01-20T20:54:21.749Z"
   },
   {
    "duration": 216,
    "start_time": "2022-01-20T20:57:55.644Z"
   },
   {
    "duration": 5,
    "start_time": "2022-01-20T20:58:16.666Z"
   },
   {
    "duration": 912,
    "start_time": "2022-01-22T08:06:12.769Z"
   },
   {
    "duration": 6,
    "start_time": "2022-01-22T08:06:13.684Z"
   },
   {
    "duration": 10,
    "start_time": "2022-01-22T08:06:13.693Z"
   },
   {
    "duration": 8,
    "start_time": "2022-01-22T08:06:13.706Z"
   },
   {
    "duration": 8,
    "start_time": "2022-01-22T08:06:13.716Z"
   },
   {
    "duration": 51,
    "start_time": "2022-01-22T08:06:13.726Z"
   },
   {
    "duration": 23,
    "start_time": "2022-01-22T08:06:13.782Z"
   },
   {
    "duration": 7,
    "start_time": "2022-01-22T08:06:13.809Z"
   },
   {
    "duration": 13,
    "start_time": "2022-01-22T08:06:13.818Z"
   },
   {
    "duration": 36,
    "start_time": "2022-01-22T08:06:13.833Z"
   },
   {
    "duration": 13,
    "start_time": "2022-01-22T08:06:13.873Z"
   },
   {
    "duration": 9,
    "start_time": "2022-01-22T08:06:13.889Z"
   },
   {
    "duration": 7,
    "start_time": "2022-01-22T08:06:13.900Z"
   },
   {
    "duration": 68,
    "start_time": "2022-01-22T08:06:13.910Z"
   },
   {
    "duration": 8,
    "start_time": "2022-01-22T08:06:13.981Z"
   },
   {
    "duration": 7,
    "start_time": "2022-01-22T08:06:13.991Z"
   },
   {
    "duration": 36,
    "start_time": "2022-01-22T08:06:14.000Z"
   },
   {
    "duration": 50,
    "start_time": "2022-01-22T08:06:14.038Z"
   },
   {
    "duration": 19,
    "start_time": "2022-01-22T08:06:14.091Z"
   },
   {
    "duration": 23,
    "start_time": "2022-01-22T08:06:14.113Z"
   },
   {
    "duration": 1031,
    "start_time": "2022-01-22T08:06:14.138Z"
   },
   {
    "duration": 8,
    "start_time": "2022-01-22T08:06:15.172Z"
   },
   {
    "duration": 14,
    "start_time": "2022-01-22T08:06:15.186Z"
   },
   {
    "duration": 716,
    "start_time": "2022-01-22T08:06:15.202Z"
   },
   {
    "duration": 732,
    "start_time": "2022-01-22T08:06:15.921Z"
   },
   {
    "duration": 94,
    "start_time": "2022-01-22T08:06:16.657Z"
   },
   {
    "duration": -115,
    "start_time": "2022-01-22T08:06:16.870Z"
   },
   {
    "duration": -121,
    "start_time": "2022-01-22T08:06:16.878Z"
   },
   {
    "duration": -121,
    "start_time": "2022-01-22T08:06:16.880Z"
   },
   {
    "duration": -126,
    "start_time": "2022-01-22T08:06:16.887Z"
   },
   {
    "duration": -126,
    "start_time": "2022-01-22T08:06:16.889Z"
   },
   {
    "duration": -129,
    "start_time": "2022-01-22T08:06:16.894Z"
   },
   {
    "duration": 7,
    "start_time": "2022-01-22T08:06:19.551Z"
   },
   {
    "duration": 401,
    "start_time": "2022-01-22T08:10:00.899Z"
   },
   {
    "duration": 947,
    "start_time": "2022-01-22T08:10:24.749Z"
   },
   {
    "duration": 7,
    "start_time": "2022-01-22T08:10:25.699Z"
   },
   {
    "duration": 12,
    "start_time": "2022-01-22T08:10:25.709Z"
   },
   {
    "duration": 6,
    "start_time": "2022-01-22T08:10:25.724Z"
   },
   {
    "duration": 37,
    "start_time": "2022-01-22T08:10:25.732Z"
   },
   {
    "duration": 17,
    "start_time": "2022-01-22T08:10:25.771Z"
   },
   {
    "duration": 29,
    "start_time": "2022-01-22T08:10:25.791Z"
   },
   {
    "duration": 7,
    "start_time": "2022-01-22T08:10:25.822Z"
   },
   {
    "duration": 35,
    "start_time": "2022-01-22T08:10:25.834Z"
   },
   {
    "duration": 16,
    "start_time": "2022-01-22T08:10:25.879Z"
   },
   {
    "duration": 9,
    "start_time": "2022-01-22T08:10:25.898Z"
   },
   {
    "duration": 7,
    "start_time": "2022-01-22T08:10:25.910Z"
   },
   {
    "duration": 7,
    "start_time": "2022-01-22T08:10:25.920Z"
   },
   {
    "duration": 72,
    "start_time": "2022-01-22T08:10:25.930Z"
   },
   {
    "duration": 10,
    "start_time": "2022-01-22T08:10:26.005Z"
   },
   {
    "duration": 11,
    "start_time": "2022-01-22T08:10:26.017Z"
   },
   {
    "duration": 72,
    "start_time": "2022-01-22T08:10:26.031Z"
   },
   {
    "duration": 13,
    "start_time": "2022-01-22T08:10:26.105Z"
   },
   {
    "duration": 13,
    "start_time": "2022-01-22T08:10:26.120Z"
   },
   {
    "duration": 37,
    "start_time": "2022-01-22T08:10:26.136Z"
   },
   {
    "duration": 1152,
    "start_time": "2022-01-22T08:10:26.175Z"
   },
   {
    "duration": 7,
    "start_time": "2022-01-22T08:10:27.330Z"
   },
   {
    "duration": 30,
    "start_time": "2022-01-22T08:10:27.339Z"
   },
   {
    "duration": 715,
    "start_time": "2022-01-22T08:10:27.373Z"
   },
   {
    "duration": 718,
    "start_time": "2022-01-22T08:10:28.090Z"
   },
   {
    "duration": 312,
    "start_time": "2022-01-22T08:10:28.811Z"
   },
   {
    "duration": 369,
    "start_time": "2022-01-22T08:10:29.128Z"
   },
   {
    "duration": 588,
    "start_time": "2022-01-22T08:10:29.500Z"
   },
   {
    "duration": 111,
    "start_time": "2022-01-22T08:10:30.090Z"
   },
   {
    "duration": -118,
    "start_time": "2022-01-22T08:10:30.322Z"
   },
   {
    "duration": -120,
    "start_time": "2022-01-22T08:10:30.325Z"
   },
   {
    "duration": 8,
    "start_time": "2022-01-22T08:10:54.426Z"
   },
   {
    "duration": 7,
    "start_time": "2022-01-22T08:11:55.708Z"
   },
   {
    "duration": 609,
    "start_time": "2022-01-22T08:17:06.478Z"
   },
   {
    "duration": 8,
    "start_time": "2022-01-22T08:17:34.974Z"
   },
   {
    "duration": 8,
    "start_time": "2022-01-22T08:29:19.007Z"
   },
   {
    "duration": 26,
    "start_time": "2022-01-22T08:29:33.143Z"
   },
   {
    "duration": 652,
    "start_time": "2022-01-22T08:30:08.093Z"
   },
   {
    "duration": 454,
    "start_time": "2022-01-22T08:32:54.575Z"
   },
   {
    "duration": 411,
    "start_time": "2022-01-22T08:33:19.906Z"
   },
   {
    "duration": 20,
    "start_time": "2022-01-22T08:33:30.849Z"
   },
   {
    "duration": 601,
    "start_time": "2022-01-22T08:33:43.062Z"
   },
   {
    "duration": 8,
    "start_time": "2022-01-22T08:34:00.221Z"
   },
   {
    "duration": 9,
    "start_time": "2022-01-22T08:34:47.905Z"
   },
   {
    "duration": 594,
    "start_time": "2022-01-22T08:34:57.193Z"
   },
   {
    "duration": 8,
    "start_time": "2022-01-22T08:41:41.985Z"
   },
   {
    "duration": 796,
    "start_time": "2022-01-22T08:42:16.797Z"
   },
   {
    "duration": 10,
    "start_time": "2022-01-22T08:43:03.426Z"
   },
   {
    "duration": 1717,
    "start_time": "2022-01-22T08:55:36.652Z"
   },
   {
    "duration": 558,
    "start_time": "2022-01-22T08:55:59.314Z"
   },
   {
    "duration": 261,
    "start_time": "2022-01-22T08:57:59.178Z"
   },
   {
    "duration": 11,
    "start_time": "2022-01-22T08:58:10.588Z"
   },
   {
    "duration": 12,
    "start_time": "2022-01-22T09:19:09.182Z"
   },
   {
    "duration": 640,
    "start_time": "2022-01-22T09:46:49.395Z"
   },
   {
    "duration": 519,
    "start_time": "2022-01-22T09:55:23.343Z"
   },
   {
    "duration": 11974,
    "start_time": "2022-01-22T09:58:18.727Z"
   },
   {
    "duration": 13,
    "start_time": "2022-01-22T10:05:27.213Z"
   },
   {
    "duration": 86,
    "start_time": "2022-01-22T10:05:55.342Z"
   },
   {
    "duration": 470,
    "start_time": "2022-01-22T10:06:29.667Z"
   },
   {
    "duration": 1187,
    "start_time": "2022-01-22T10:06:58.771Z"
   },
   {
    "duration": 2279,
    "start_time": "2022-01-22T10:07:25.598Z"
   },
   {
    "duration": 355,
    "start_time": "2022-01-22T10:07:38.966Z"
   },
   {
    "duration": 14374,
    "start_time": "2022-01-22T10:12:35.745Z"
   },
   {
    "duration": 637,
    "start_time": "2022-01-22T10:13:27.868Z"
   },
   {
    "duration": 572,
    "start_time": "2022-01-22T10:24:38.823Z"
   },
   {
    "duration": 1101,
    "start_time": "2022-01-22T10:25:02.682Z"
   },
   {
    "duration": 808,
    "start_time": "2022-01-22T10:25:19.402Z"
   },
   {
    "duration": 108,
    "start_time": "2022-01-22T10:26:15.952Z"
   },
   {
    "duration": 15,
    "start_time": "2022-01-22T10:26:39.678Z"
   },
   {
    "duration": 1205,
    "start_time": "2022-01-22T10:27:34.950Z"
   },
   {
    "duration": 551,
    "start_time": "2022-01-22T10:28:03.641Z"
   },
   {
    "duration": 534,
    "start_time": "2022-01-22T11:24:18.847Z"
   },
   {
    "duration": 543,
    "start_time": "2022-01-22T11:24:29.497Z"
   },
   {
    "duration": 8,
    "start_time": "2022-01-22T11:31:28.423Z"
   },
   {
    "duration": 9,
    "start_time": "2022-01-22T11:32:24.485Z"
   },
   {
    "duration": 329,
    "start_time": "2022-01-22T11:32:56.821Z"
   },
   {
    "duration": 115,
    "start_time": "2022-01-22T11:33:18.630Z"
   },
   {
    "duration": 355,
    "start_time": "2022-01-22T11:33:53.493Z"
   },
   {
    "duration": 674,
    "start_time": "2022-01-22T11:34:13.593Z"
   },
   {
    "duration": 49,
    "start_time": "2022-01-22T11:34:39.365Z"
   },
   {
    "duration": 33,
    "start_time": "2022-01-22T11:35:02.765Z"
   },
   {
    "duration": 29,
    "start_time": "2022-01-22T11:35:13.440Z"
   },
   {
    "duration": 46,
    "start_time": "2022-01-22T11:36:45.319Z"
   },
   {
    "duration": 1159,
    "start_time": "2022-01-22T11:38:00.528Z"
   },
   {
    "duration": 766,
    "start_time": "2022-01-22T11:38:18.999Z"
   },
   {
    "duration": 920,
    "start_time": "2022-01-22T11:38:35.561Z"
   },
   {
    "duration": 7265,
    "start_time": "2022-01-22T11:38:48.137Z"
   },
   {
    "duration": 751,
    "start_time": "2022-01-22T11:39:02.907Z"
   },
   {
    "duration": 15,
    "start_time": "2022-01-22T11:40:26.935Z"
   },
   {
    "duration": 301,
    "start_time": "2022-01-22T11:45:16.310Z"
   },
   {
    "duration": 12,
    "start_time": "2022-01-22T11:45:43.036Z"
   },
   {
    "duration": 22,
    "start_time": "2022-01-22T11:45:53.865Z"
   },
   {
    "duration": 21,
    "start_time": "2022-01-22T11:46:18.041Z"
   },
   {
    "duration": 21,
    "start_time": "2022-01-22T11:47:43.930Z"
   },
   {
    "duration": 20,
    "start_time": "2022-01-22T11:48:12.453Z"
   },
   {
    "duration": 17,
    "start_time": "2022-01-22T11:48:19.375Z"
   },
   {
    "duration": 16,
    "start_time": "2022-01-22T11:48:39.295Z"
   },
   {
    "duration": 846,
    "start_time": "2022-01-22T11:50:12.086Z"
   },
   {
    "duration": 924,
    "start_time": "2022-01-22T11:50:22.336Z"
   },
   {
    "duration": 12,
    "start_time": "2022-01-22T11:51:01.562Z"
   },
   {
    "duration": 359,
    "start_time": "2022-01-22T11:56:26.694Z"
   },
   {
    "duration": 328,
    "start_time": "2022-01-22T11:56:55.834Z"
   },
   {
    "duration": 34,
    "start_time": "2022-01-22T11:57:11.905Z"
   },
   {
    "duration": 18,
    "start_time": "2022-01-22T11:57:29.068Z"
   },
   {
    "duration": 338,
    "start_time": "2022-01-22T12:00:56.576Z"
   },
   {
    "duration": 554,
    "start_time": "2022-01-22T12:01:07.360Z"
   },
   {
    "duration": 1545,
    "start_time": "2022-01-22T12:01:17.470Z"
   },
   {
    "duration": 1181,
    "start_time": "2022-01-22T12:01:48.553Z"
   },
   {
    "duration": 671,
    "start_time": "2022-01-22T12:07:59.501Z"
   },
   {
    "duration": 407,
    "start_time": "2022-01-22T12:08:06.493Z"
   },
   {
    "duration": 722,
    "start_time": "2022-01-22T12:10:56.056Z"
   },
   {
    "duration": 623,
    "start_time": "2022-01-22T12:13:40.080Z"
   },
   {
    "duration": 416,
    "start_time": "2022-01-22T12:14:08.964Z"
   },
   {
    "duration": 605,
    "start_time": "2022-01-22T12:24:11.489Z"
   },
   {
    "duration": 611,
    "start_time": "2022-01-22T12:24:47.429Z"
   },
   {
    "duration": 361,
    "start_time": "2022-01-22T12:26:01.779Z"
   },
   {
    "duration": 488,
    "start_time": "2022-01-22T12:26:21.981Z"
   },
   {
    "duration": 387,
    "start_time": "2022-01-22T12:27:17.831Z"
   },
   {
    "duration": 359,
    "start_time": "2022-01-22T12:28:30.449Z"
   },
   {
    "duration": 371,
    "start_time": "2022-01-22T12:28:46.374Z"
   },
   {
    "duration": 370,
    "start_time": "2022-01-22T12:52:37.719Z"
   },
   {
    "duration": 801,
    "start_time": "2022-01-22T12:53:29.881Z"
   },
   {
    "duration": 445,
    "start_time": "2022-01-22T12:53:55.479Z"
   },
   {
    "duration": 780,
    "start_time": "2022-01-22T12:54:49.125Z"
   },
   {
    "duration": 695,
    "start_time": "2022-01-22T12:55:07.321Z"
   },
   {
    "duration": 349,
    "start_time": "2022-01-22T13:13:28.682Z"
   },
   {
    "duration": 7867,
    "start_time": "2022-01-22T13:13:51.749Z"
   },
   {
    "duration": 8265,
    "start_time": "2022-01-22T13:18:48.968Z"
   },
   {
    "duration": 18,
    "start_time": "2022-01-22T13:20:32.729Z"
   },
   {
    "duration": 21,
    "start_time": "2022-01-22T13:23:58.436Z"
   },
   {
    "duration": 637,
    "start_time": "2022-01-22T13:25:18.965Z"
   },
   {
    "duration": 802,
    "start_time": "2022-01-22T13:25:25.711Z"
   },
   {
    "duration": 27,
    "start_time": "2022-01-22T13:28:04.191Z"
   },
   {
    "duration": 8862,
    "start_time": "2022-01-22T13:28:51.689Z"
   },
   {
    "duration": 354,
    "start_time": "2022-01-22T13:44:55.838Z"
   },
   {
    "duration": 310,
    "start_time": "2022-01-22T13:46:38.227Z"
   },
   {
    "duration": 552,
    "start_time": "2022-01-22T13:48:16.186Z"
   },
   {
    "duration": 300,
    "start_time": "2022-01-22T13:48:43.860Z"
   },
   {
    "duration": 316,
    "start_time": "2022-01-22T13:48:58.844Z"
   },
   {
    "duration": 481,
    "start_time": "2022-01-22T13:51:30.942Z"
   },
   {
    "duration": 338,
    "start_time": "2022-01-22T13:51:54.678Z"
   },
   {
    "duration": 434,
    "start_time": "2022-01-22T13:54:27.090Z"
   },
   {
    "duration": 308,
    "start_time": "2022-01-22T13:56:10.628Z"
   },
   {
    "duration": 295,
    "start_time": "2022-01-23T08:47:40.484Z"
   },
   {
    "duration": 654,
    "start_time": "2022-01-23T08:48:07.559Z"
   },
   {
    "duration": 5,
    "start_time": "2022-01-23T08:48:08.214Z"
   },
   {
    "duration": 9,
    "start_time": "2022-01-23T08:48:08.221Z"
   },
   {
    "duration": 5,
    "start_time": "2022-01-23T08:48:08.232Z"
   },
   {
    "duration": 12,
    "start_time": "2022-01-23T08:48:08.238Z"
   },
   {
    "duration": 10,
    "start_time": "2022-01-23T08:48:08.252Z"
   },
   {
    "duration": 14,
    "start_time": "2022-01-23T08:48:08.272Z"
   },
   {
    "duration": 4,
    "start_time": "2022-01-23T08:48:08.287Z"
   },
   {
    "duration": 17,
    "start_time": "2022-01-23T08:48:08.293Z"
   },
   {
    "duration": 12,
    "start_time": "2022-01-23T08:48:08.312Z"
   },
   {
    "duration": 21,
    "start_time": "2022-01-23T08:48:08.326Z"
   },
   {
    "duration": 11,
    "start_time": "2022-01-23T08:48:08.349Z"
   },
   {
    "duration": 19,
    "start_time": "2022-01-23T08:48:08.362Z"
   },
   {
    "duration": 21,
    "start_time": "2022-01-23T08:48:08.383Z"
   },
   {
    "duration": 10,
    "start_time": "2022-01-23T08:48:08.405Z"
   },
   {
    "duration": 18,
    "start_time": "2022-01-23T08:48:08.416Z"
   },
   {
    "duration": 22,
    "start_time": "2022-01-23T08:48:08.436Z"
   },
   {
    "duration": 8,
    "start_time": "2022-01-23T08:48:08.460Z"
   },
   {
    "duration": 10,
    "start_time": "2022-01-23T08:48:08.469Z"
   },
   {
    "duration": 17,
    "start_time": "2022-01-23T08:48:08.480Z"
   },
   {
    "duration": 565,
    "start_time": "2022-01-23T08:48:08.498Z"
   },
   {
    "duration": 7,
    "start_time": "2022-01-23T08:48:09.065Z"
   },
   {
    "duration": 10,
    "start_time": "2022-01-23T08:48:09.074Z"
   },
   {
    "duration": 508,
    "start_time": "2022-01-23T08:48:09.086Z"
   },
   {
    "duration": 379,
    "start_time": "2022-01-23T08:48:09.595Z"
   },
   {
    "duration": 173,
    "start_time": "2022-01-23T08:48:09.975Z"
   },
   {
    "duration": 236,
    "start_time": "2022-01-23T08:48:10.151Z"
   },
   {
    "duration": 303,
    "start_time": "2022-01-23T08:48:10.389Z"
   },
   {
    "duration": 4,
    "start_time": "2022-01-23T08:48:10.694Z"
   },
   {
    "duration": 425,
    "start_time": "2022-01-23T08:48:10.699Z"
   },
   {
    "duration": 5,
    "start_time": "2022-01-23T08:48:11.125Z"
   },
   {
    "duration": 17,
    "start_time": "2022-01-23T08:48:11.131Z"
   },
   {
    "duration": 348,
    "start_time": "2022-01-23T08:48:11.149Z"
   },
   {
    "duration": 368,
    "start_time": "2022-01-23T08:48:11.498Z"
   },
   {
    "duration": 218,
    "start_time": "2022-01-23T08:48:11.872Z"
   },
   {
    "duration": 242,
    "start_time": "2022-01-23T08:48:12.091Z"
   },
   {
    "duration": 210,
    "start_time": "2022-01-23T08:48:12.335Z"
   },
   {
    "duration": 330,
    "start_time": "2022-01-23T08:48:12.546Z"
   },
   {
    "duration": -218,
    "start_time": "2022-01-23T08:48:13.095Z"
   },
   {
    "duration": 86,
    "start_time": "2022-01-23T08:49:09.406Z"
   },
   {
    "duration": 6430,
    "start_time": "2022-01-23T08:49:20.372Z"
   },
   {
    "duration": 267,
    "start_time": "2022-01-23T08:49:44.844Z"
   },
   {
    "duration": 7185,
    "start_time": "2022-01-23T08:49:58.868Z"
   },
   {
    "duration": 172,
    "start_time": "2022-01-23T08:50:16.710Z"
   },
   {
    "duration": 174,
    "start_time": "2022-01-23T08:53:51.991Z"
   },
   {
    "duration": 486,
    "start_time": "2022-01-23T08:54:26.089Z"
   },
   {
    "duration": 6449,
    "start_time": "2022-01-23T08:55:01.058Z"
   },
   {
    "duration": 170,
    "start_time": "2022-01-23T08:55:23.512Z"
   },
   {
    "duration": 244,
    "start_time": "2022-01-23T08:55:34.177Z"
   },
   {
    "duration": 491,
    "start_time": "2022-01-23T08:59:03.678Z"
   },
   {
    "duration": 478,
    "start_time": "2022-01-23T09:00:52.148Z"
   },
   {
    "duration": 495,
    "start_time": "2022-01-23T09:01:26.085Z"
   },
   {
    "duration": 525,
    "start_time": "2022-01-23T09:01:46.494Z"
   },
   {
    "duration": 174,
    "start_time": "2022-01-23T09:02:19.377Z"
   },
   {
    "duration": 509,
    "start_time": "2022-01-23T09:02:40.401Z"
   },
   {
    "duration": 517,
    "start_time": "2022-01-23T09:02:53.603Z"
   },
   {
    "duration": 320,
    "start_time": "2022-01-23T09:05:55.472Z"
   },
   {
    "duration": 7,
    "start_time": "2022-01-23T09:06:14.731Z"
   },
   {
    "duration": 418,
    "start_time": "2022-01-23T09:08:46.661Z"
   },
   {
    "duration": 331,
    "start_time": "2022-01-23T09:09:08.389Z"
   },
   {
    "duration": 670,
    "start_time": "2022-01-23T09:10:45.965Z"
   },
   {
    "duration": 6,
    "start_time": "2022-01-23T09:10:46.637Z"
   },
   {
    "duration": 7,
    "start_time": "2022-01-23T09:10:46.645Z"
   },
   {
    "duration": 17,
    "start_time": "2022-01-23T09:10:46.654Z"
   },
   {
    "duration": 4,
    "start_time": "2022-01-23T09:10:46.673Z"
   },
   {
    "duration": 6,
    "start_time": "2022-01-23T09:10:46.679Z"
   },
   {
    "duration": 13,
    "start_time": "2022-01-23T09:10:46.687Z"
   },
   {
    "duration": 5,
    "start_time": "2022-01-23T09:10:46.702Z"
   },
   {
    "duration": 6,
    "start_time": "2022-01-23T09:10:46.709Z"
   },
   {
    "duration": 11,
    "start_time": "2022-01-23T09:10:46.716Z"
   },
   {
    "duration": 8,
    "start_time": "2022-01-23T09:10:46.729Z"
   },
   {
    "duration": 35,
    "start_time": "2022-01-23T09:10:46.739Z"
   },
   {
    "duration": 5,
    "start_time": "2022-01-23T09:10:46.776Z"
   },
   {
    "duration": 16,
    "start_time": "2022-01-23T09:10:46.783Z"
   },
   {
    "duration": 5,
    "start_time": "2022-01-23T09:10:46.800Z"
   },
   {
    "duration": 8,
    "start_time": "2022-01-23T09:10:46.807Z"
   },
   {
    "duration": 23,
    "start_time": "2022-01-23T09:10:46.816Z"
   },
   {
    "duration": 15,
    "start_time": "2022-01-23T09:10:46.872Z"
   },
   {
    "duration": 10,
    "start_time": "2022-01-23T09:10:46.889Z"
   },
   {
    "duration": 14,
    "start_time": "2022-01-23T09:10:46.901Z"
   },
   {
    "duration": 591,
    "start_time": "2022-01-23T09:10:46.917Z"
   },
   {
    "duration": 4,
    "start_time": "2022-01-23T09:10:47.510Z"
   },
   {
    "duration": 5,
    "start_time": "2022-01-23T09:10:47.518Z"
   },
   {
    "duration": 646,
    "start_time": "2022-01-23T09:10:47.526Z"
   },
   {
    "duration": 636,
    "start_time": "2022-01-23T09:10:48.174Z"
   },
   {
    "duration": 271,
    "start_time": "2022-01-23T09:10:48.812Z"
   },
   {
    "duration": 301,
    "start_time": "2022-01-23T09:10:49.085Z"
   },
   {
    "duration": 323,
    "start_time": "2022-01-23T09:10:49.388Z"
   },
   {
    "duration": 5,
    "start_time": "2022-01-23T09:10:49.713Z"
   },
   {
    "duration": 352,
    "start_time": "2022-01-23T09:10:49.720Z"
   },
   {
    "duration": 6,
    "start_time": "2022-01-23T09:10:50.073Z"
   },
   {
    "duration": 9,
    "start_time": "2022-01-23T09:10:50.080Z"
   },
   {
    "duration": 390,
    "start_time": "2022-01-23T09:10:50.090Z"
   },
   {
    "duration": 397,
    "start_time": "2022-01-23T09:10:50.481Z"
   },
   {
    "duration": 235,
    "start_time": "2022-01-23T09:10:50.880Z"
   },
   {
    "duration": 242,
    "start_time": "2022-01-23T09:10:51.117Z"
   },
   {
    "duration": 207,
    "start_time": "2022-01-23T09:10:51.361Z"
   },
   {
    "duration": 473,
    "start_time": "2022-01-23T09:10:51.569Z"
   },
   {
    "duration": 184,
    "start_time": "2022-01-23T09:10:52.044Z"
   },
   {
    "duration": 492,
    "start_time": "2022-01-23T09:13:14.623Z"
   },
   {
    "duration": 367,
    "start_time": "2022-01-23T09:14:34.534Z"
   },
   {
    "duration": 461,
    "start_time": "2022-01-23T09:15:58.766Z"
   },
   {
    "duration": 150,
    "start_time": "2022-01-23T09:25:32.128Z"
   },
   {
    "duration": 187,
    "start_time": "2022-01-23T09:29:02.213Z"
   },
   {
    "duration": 180,
    "start_time": "2022-01-23T09:29:33.416Z"
   },
   {
    "duration": 338,
    "start_time": "2022-01-23T09:30:39.076Z"
   },
   {
    "duration": 7853,
    "start_time": "2022-01-23T09:31:58.992Z"
   },
   {
    "duration": 487,
    "start_time": "2022-01-23T09:32:34.308Z"
   },
   {
    "duration": 88,
    "start_time": "2022-01-23T09:33:46.138Z"
   },
   {
    "duration": 709,
    "start_time": "2022-01-23T09:33:57.534Z"
   },
   {
    "duration": 733,
    "start_time": "2022-01-23T09:34:15.060Z"
   },
   {
    "duration": 783,
    "start_time": "2022-01-23T09:40:05.586Z"
   },
   {
    "duration": 516,
    "start_time": "2022-01-23T09:40:31.916Z"
   },
   {
    "duration": 488,
    "start_time": "2022-01-23T09:41:12.152Z"
   },
   {
    "duration": 1609,
    "start_time": "2022-01-23T09:43:32.406Z"
   },
   {
    "duration": 1476,
    "start_time": "2022-01-23T09:44:25.424Z"
   },
   {
    "duration": 1943,
    "start_time": "2022-01-23T09:45:44.344Z"
   },
   {
    "duration": 1543,
    "start_time": "2022-01-23T09:46:05.105Z"
   },
   {
    "duration": 2332,
    "start_time": "2022-01-23T10:11:30.636Z"
   },
   {
    "duration": 1561,
    "start_time": "2022-01-23T10:13:25.568Z"
   },
   {
    "duration": 1395,
    "start_time": "2022-01-23T10:19:22.201Z"
   },
   {
    "duration": 1533,
    "start_time": "2022-01-23T10:19:57.656Z"
   },
   {
    "duration": 255,
    "start_time": "2022-01-23T10:25:04.257Z"
   },
   {
    "duration": 7,
    "start_time": "2022-01-23T10:25:13.951Z"
   },
   {
    "duration": 264,
    "start_time": "2022-01-23T10:27:14.656Z"
   },
   {
    "duration": 14,
    "start_time": "2022-01-23T10:30:38.180Z"
   },
   {
    "duration": 22,
    "start_time": "2022-01-23T10:31:37.334Z"
   },
   {
    "duration": 264,
    "start_time": "2022-01-23T10:48:50.809Z"
   },
   {
    "duration": 312,
    "start_time": "2022-01-23T10:49:05.479Z"
   },
   {
    "duration": 309,
    "start_time": "2022-01-23T10:49:21.929Z"
   },
   {
    "duration": 410,
    "start_time": "2022-01-23T10:50:02.679Z"
   },
   {
    "duration": 39,
    "start_time": "2022-01-23T10:52:17.221Z"
   },
   {
    "duration": 37,
    "start_time": "2022-01-23T10:52:51.632Z"
   },
   {
    "duration": 55,
    "start_time": "2022-01-23T10:54:05.153Z"
   },
   {
    "duration": 39,
    "start_time": "2022-01-23T10:57:49.873Z"
   },
   {
    "duration": 40,
    "start_time": "2022-01-23T10:58:35.952Z"
   },
   {
    "duration": 8,
    "start_time": "2022-01-23T10:59:53.240Z"
   },
   {
    "duration": 10,
    "start_time": "2022-01-23T11:00:37.960Z"
   },
   {
    "duration": 598,
    "start_time": "2022-01-23T11:02:36.458Z"
   },
   {
    "duration": 423,
    "start_time": "2022-01-23T11:02:57.800Z"
   },
   {
    "duration": 497,
    "start_time": "2022-01-23T11:03:10.558Z"
   },
   {
    "duration": 398,
    "start_time": "2022-01-23T11:03:19.316Z"
   },
   {
    "duration": 369,
    "start_time": "2022-01-23T11:03:38.010Z"
   },
   {
    "duration": 389,
    "start_time": "2022-01-23T11:03:45.296Z"
   },
   {
    "duration": 34,
    "start_time": "2022-01-23T11:10:54.126Z"
   },
   {
    "duration": 40,
    "start_time": "2022-01-23T11:11:31.576Z"
   },
   {
    "duration": 41,
    "start_time": "2022-01-23T11:12:01.288Z"
   },
   {
    "duration": 6850,
    "start_time": "2022-01-23T11:13:53.527Z"
   },
   {
    "duration": 254,
    "start_time": "2022-01-23T11:14:26.461Z"
   },
   {
    "duration": 262,
    "start_time": "2022-01-23T11:14:56.515Z"
   },
   {
    "duration": 7445,
    "start_time": "2022-01-23T11:15:06.292Z"
   },
   {
    "duration": 4,
    "start_time": "2022-01-23T11:15:32.166Z"
   },
   {
    "duration": 79,
    "start_time": "2022-01-23T11:16:52.329Z"
   },
   {
    "duration": 7,
    "start_time": "2022-01-23T11:17:01.632Z"
   },
   {
    "duration": 5,
    "start_time": "2022-01-23T11:17:33.584Z"
   },
   {
    "duration": 9,
    "start_time": "2022-01-23T11:18:07.585Z"
   },
   {
    "duration": 7652,
    "start_time": "2022-01-23T11:19:06.289Z"
   },
   {
    "duration": 11,
    "start_time": "2022-01-23T11:20:43.377Z"
   },
   {
    "duration": 35,
    "start_time": "2022-01-23T11:33:02.831Z"
   },
   {
    "duration": 23,
    "start_time": "2022-01-23T11:33:50.183Z"
   },
   {
    "duration": 413,
    "start_time": "2022-01-23T11:37:06.229Z"
   },
   {
    "duration": 477,
    "start_time": "2022-01-23T11:37:20.487Z"
   },
   {
    "duration": 434,
    "start_time": "2022-01-23T11:37:51.510Z"
   },
   {
    "duration": 664,
    "start_time": "2022-01-23T11:39:34.452Z"
   },
   {
    "duration": 350,
    "start_time": "2022-01-23T11:41:00.969Z"
   },
   {
    "duration": 236,
    "start_time": "2022-01-23T11:41:25.627Z"
   },
   {
    "duration": 225,
    "start_time": "2022-01-23T11:44:40.236Z"
   },
   {
    "duration": 183,
    "start_time": "2022-01-23T11:45:43.588Z"
   },
   {
    "duration": 179,
    "start_time": "2022-01-23T13:10:52.902Z"
   },
   {
    "duration": 8,
    "start_time": "2022-01-23T13:12:54.501Z"
   },
   {
    "duration": 8,
    "start_time": "2022-01-23T13:13:09.290Z"
   },
   {
    "duration": 883,
    "start_time": "2022-01-23T13:13:24.610Z"
   },
   {
    "duration": 6,
    "start_time": "2022-01-23T13:13:25.495Z"
   },
   {
    "duration": 15,
    "start_time": "2022-01-23T13:13:25.504Z"
   },
   {
    "duration": 7,
    "start_time": "2022-01-23T13:13:25.523Z"
   },
   {
    "duration": 18,
    "start_time": "2022-01-23T13:13:25.532Z"
   },
   {
    "duration": 14,
    "start_time": "2022-01-23T13:13:25.552Z"
   },
   {
    "duration": 19,
    "start_time": "2022-01-23T13:13:25.568Z"
   },
   {
    "duration": 5,
    "start_time": "2022-01-23T13:13:25.589Z"
   },
   {
    "duration": 12,
    "start_time": "2022-01-23T13:13:25.596Z"
   },
   {
    "duration": 17,
    "start_time": "2022-01-23T13:13:25.610Z"
   },
   {
    "duration": 15,
    "start_time": "2022-01-23T13:13:25.629Z"
   },
   {
    "duration": 11,
    "start_time": "2022-01-23T13:13:25.647Z"
   },
   {
    "duration": 11,
    "start_time": "2022-01-23T13:13:25.661Z"
   },
   {
    "duration": 27,
    "start_time": "2022-01-23T13:13:25.675Z"
   },
   {
    "duration": 6,
    "start_time": "2022-01-23T13:13:25.704Z"
   },
   {
    "duration": 9,
    "start_time": "2022-01-23T13:13:25.712Z"
   },
   {
    "duration": 25,
    "start_time": "2022-01-23T13:13:25.723Z"
   },
   {
    "duration": 10,
    "start_time": "2022-01-23T13:13:25.750Z"
   },
   {
    "duration": 25,
    "start_time": "2022-01-23T13:13:25.772Z"
   },
   {
    "duration": 17,
    "start_time": "2022-01-23T13:13:25.800Z"
   },
   {
    "duration": 594,
    "start_time": "2022-01-23T13:13:25.819Z"
   },
   {
    "duration": 4,
    "start_time": "2022-01-23T13:13:26.415Z"
   },
   {
    "duration": 15,
    "start_time": "2022-01-23T13:13:26.423Z"
   },
   {
    "duration": 524,
    "start_time": "2022-01-23T13:13:26.440Z"
   },
   {
    "duration": 423,
    "start_time": "2022-01-23T13:13:26.966Z"
   },
   {
    "duration": 486,
    "start_time": "2022-01-23T13:13:27.391Z"
   },
   {
    "duration": 280,
    "start_time": "2022-01-23T13:13:27.880Z"
   },
   {
    "duration": 386,
    "start_time": "2022-01-23T13:13:28.162Z"
   },
   {
    "duration": 330,
    "start_time": "2022-01-23T13:13:28.550Z"
   },
   {
    "duration": 6,
    "start_time": "2022-01-23T13:13:28.881Z"
   },
   {
    "duration": 427,
    "start_time": "2022-01-23T13:13:28.889Z"
   },
   {
    "duration": 5,
    "start_time": "2022-01-23T13:13:29.318Z"
   },
   {
    "duration": 18,
    "start_time": "2022-01-23T13:13:29.324Z"
   },
   {
    "duration": 345,
    "start_time": "2022-01-23T13:13:29.344Z"
   },
   {
    "duration": 487,
    "start_time": "2022-01-23T13:13:29.691Z"
   },
   {
    "duration": 318,
    "start_time": "2022-01-23T13:13:30.180Z"
   },
   {
    "duration": 273,
    "start_time": "2022-01-23T13:13:30.499Z"
   },
   {
    "duration": 268,
    "start_time": "2022-01-23T13:13:30.774Z"
   },
   {
    "duration": 559,
    "start_time": "2022-01-23T13:13:31.044Z"
   },
   {
    "duration": 197,
    "start_time": "2022-01-23T13:13:31.605Z"
   },
   {
    "duration": 298,
    "start_time": "2022-01-23T13:13:31.803Z"
   },
   {
    "duration": 851,
    "start_time": "2022-01-23T13:13:32.104Z"
   },
   {
    "duration": 2151,
    "start_time": "2022-01-23T13:13:32.957Z"
   },
   {
    "duration": 68,
    "start_time": "2022-01-23T13:13:35.110Z"
   },
   {
    "duration": 9,
    "start_time": "2022-01-23T13:13:35.180Z"
   },
   {
    "duration": 25,
    "start_time": "2022-01-23T13:13:35.191Z"
   },
   {
    "duration": 272,
    "start_time": "2022-01-23T13:13:35.217Z"
   },
   {
    "duration": 303,
    "start_time": "2022-01-23T13:16:10.992Z"
   },
   {
    "duration": 706,
    "start_time": "2022-01-23T13:16:19.261Z"
   },
   {
    "duration": 5,
    "start_time": "2022-01-23T13:16:19.969Z"
   },
   {
    "duration": 8,
    "start_time": "2022-01-23T13:16:19.977Z"
   },
   {
    "duration": 4,
    "start_time": "2022-01-23T13:16:19.987Z"
   },
   {
    "duration": 4,
    "start_time": "2022-01-23T13:16:19.994Z"
   },
   {
    "duration": 6,
    "start_time": "2022-01-23T13:16:20.000Z"
   },
   {
    "duration": 15,
    "start_time": "2022-01-23T13:16:20.008Z"
   },
   {
    "duration": 6,
    "start_time": "2022-01-23T13:16:20.025Z"
   },
   {
    "duration": 38,
    "start_time": "2022-01-23T13:16:20.034Z"
   },
   {
    "duration": 11,
    "start_time": "2022-01-23T13:16:20.075Z"
   },
   {
    "duration": 6,
    "start_time": "2022-01-23T13:16:20.088Z"
   },
   {
    "duration": 15,
    "start_time": "2022-01-23T13:16:20.096Z"
   },
   {
    "duration": 8,
    "start_time": "2022-01-23T13:16:20.113Z"
   },
   {
    "duration": 11,
    "start_time": "2022-01-23T13:16:20.123Z"
   },
   {
    "duration": 7,
    "start_time": "2022-01-23T13:16:20.136Z"
   },
   {
    "duration": 30,
    "start_time": "2022-01-23T13:16:20.145Z"
   },
   {
    "duration": 27,
    "start_time": "2022-01-23T13:16:20.177Z"
   },
   {
    "duration": 10,
    "start_time": "2022-01-23T13:16:20.205Z"
   },
   {
    "duration": 17,
    "start_time": "2022-01-23T13:16:20.217Z"
   },
   {
    "duration": 67,
    "start_time": "2022-01-23T13:16:20.236Z"
   },
   {
    "duration": 951,
    "start_time": "2022-01-23T13:16:20.316Z"
   },
   {
    "duration": 7,
    "start_time": "2022-01-23T13:16:21.273Z"
   },
   {
    "duration": 7,
    "start_time": "2022-01-23T13:16:21.282Z"
   },
   {
    "duration": 639,
    "start_time": "2022-01-23T13:16:21.290Z"
   },
   {
    "duration": 403,
    "start_time": "2022-01-23T13:16:21.931Z"
   },
   {
    "duration": 391,
    "start_time": "2022-01-23T13:16:22.336Z"
   },
   {
    "duration": 186,
    "start_time": "2022-01-23T13:16:22.730Z"
   },
   {
    "duration": 248,
    "start_time": "2022-01-23T13:16:22.918Z"
   },
   {
    "duration": 339,
    "start_time": "2022-01-23T13:16:23.172Z"
   },
   {
    "duration": 5,
    "start_time": "2022-01-23T13:16:23.513Z"
   },
   {
    "duration": 402,
    "start_time": "2022-01-23T13:16:23.520Z"
   },
   {
    "duration": 5,
    "start_time": "2022-01-23T13:16:23.923Z"
   },
   {
    "duration": 9,
    "start_time": "2022-01-23T13:16:23.930Z"
   },
   {
    "duration": 512,
    "start_time": "2022-01-23T13:16:23.941Z"
   },
   {
    "duration": 663,
    "start_time": "2022-01-23T13:16:24.456Z"
   },
   {
    "duration": 378,
    "start_time": "2022-01-23T13:16:25.121Z"
   },
   {
    "duration": 407,
    "start_time": "2022-01-23T13:16:25.501Z"
   },
   {
    "duration": 361,
    "start_time": "2022-01-23T13:16:25.910Z"
   },
   {
    "duration": 737,
    "start_time": "2022-01-23T13:16:26.274Z"
   },
   {
    "duration": 285,
    "start_time": "2022-01-23T13:16:27.013Z"
   },
   {
    "duration": 244,
    "start_time": "2022-01-23T13:16:27.301Z"
   },
   {
    "duration": 593,
    "start_time": "2022-01-23T13:16:27.547Z"
   },
   {
    "duration": 1473,
    "start_time": "2022-01-23T13:16:28.142Z"
   },
   {
    "duration": 42,
    "start_time": "2022-01-23T13:16:29.616Z"
   },
   {
    "duration": 8,
    "start_time": "2022-01-23T13:16:29.672Z"
   },
   {
    "duration": 25,
    "start_time": "2022-01-23T13:16:29.682Z"
   },
   {
    "duration": 213,
    "start_time": "2022-01-23T13:16:29.709Z"
   },
   {
    "duration": 14,
    "start_time": "2022-01-23T13:17:05.364Z"
   },
   {
    "duration": 396,
    "start_time": "2022-01-23T13:23:10.675Z"
   },
   {
    "duration": 251,
    "start_time": "2022-01-23T13:23:32.247Z"
   },
   {
    "duration": 723,
    "start_time": "2022-01-23T13:23:56.452Z"
   },
   {
    "duration": 632,
    "start_time": "2022-01-23T13:24:38.878Z"
   },
   {
    "duration": 199,
    "start_time": "2022-01-23T13:25:11.751Z"
   },
   {
    "duration": 214,
    "start_time": "2022-01-23T13:31:45.705Z"
   },
   {
    "duration": 88,
    "start_time": "2022-01-23T13:38:34.963Z"
   },
   {
    "duration": 8,
    "start_time": "2022-01-23T13:40:10.517Z"
   },
   {
    "duration": 8,
    "start_time": "2022-01-23T13:40:27.915Z"
   },
   {
    "duration": 7,
    "start_time": "2022-01-23T13:41:57.225Z"
   },
   {
    "duration": 11,
    "start_time": "2022-01-23T13:44:52.579Z"
   },
   {
    "duration": 12,
    "start_time": "2022-01-23T13:45:38.585Z"
   },
   {
    "duration": 279,
    "start_time": "2022-01-23T13:46:42.079Z"
   },
   {
    "duration": 525,
    "start_time": "2022-01-23T13:48:49.401Z"
   },
   {
    "duration": 177,
    "start_time": "2022-01-23T13:49:13.475Z"
   },
   {
    "duration": 176,
    "start_time": "2022-01-23T13:49:33.317Z"
   },
   {
    "duration": 177,
    "start_time": "2022-01-23T13:49:43.114Z"
   },
   {
    "duration": 175,
    "start_time": "2022-01-23T13:50:18.315Z"
   },
   {
    "duration": 183,
    "start_time": "2022-01-23T13:51:08.029Z"
   },
   {
    "duration": 22,
    "start_time": "2022-01-23T14:03:55.020Z"
   },
   {
    "duration": 12,
    "start_time": "2022-01-23T14:04:15.905Z"
   },
   {
    "duration": 3549,
    "start_time": "2022-01-23T14:06:11.852Z"
   },
   {
    "duration": 88,
    "start_time": "2022-01-23T14:07:38.436Z"
   },
   {
    "duration": 232,
    "start_time": "2022-01-23T14:07:50.129Z"
   },
   {
    "duration": 6476,
    "start_time": "2022-01-23T14:14:39.718Z"
   },
   {
    "duration": 432,
    "start_time": "2022-01-23T14:15:27.957Z"
   },
   {
    "duration": 486,
    "start_time": "2022-01-23T14:16:13.325Z"
   },
   {
    "duration": 335,
    "start_time": "2022-01-23T14:16:47.551Z"
   },
   {
    "duration": 376,
    "start_time": "2022-01-23T14:17:11.375Z"
   },
   {
    "duration": 400,
    "start_time": "2022-01-23T14:18:20.345Z"
   },
   {
    "duration": 76,
    "start_time": "2022-01-23T14:42:37.596Z"
   },
   {
    "duration": 235,
    "start_time": "2022-01-23T14:44:48.500Z"
   },
   {
    "duration": 306,
    "start_time": "2022-01-23T14:45:18.351Z"
   },
   {
    "duration": 643,
    "start_time": "2022-01-23T14:45:51.916Z"
   },
   {
    "duration": 732,
    "start_time": "2022-01-23T14:45:57.628Z"
   },
   {
    "duration": 319,
    "start_time": "2022-01-23T14:46:13.628Z"
   },
   {
    "duration": 345,
    "start_time": "2022-01-23T14:53:32.560Z"
   },
   {
    "duration": 1181,
    "start_time": "2022-01-23T14:53:45.703Z"
   },
   {
    "duration": 848,
    "start_time": "2022-01-23T14:54:49.334Z"
   },
   {
    "duration": 482,
    "start_time": "2022-01-23T14:55:14.096Z"
   },
   {
    "duration": 475,
    "start_time": "2022-01-23T14:55:55.061Z"
   },
   {
    "duration": 680,
    "start_time": "2022-01-23T14:57:51.834Z"
   },
   {
    "duration": 1766,
    "start_time": "2022-01-23T14:58:42.492Z"
   },
   {
    "duration": 1232,
    "start_time": "2022-01-23T14:59:02.257Z"
   },
   {
    "duration": 950,
    "start_time": "2022-01-23T14:59:42.935Z"
   },
   {
    "duration": 463,
    "start_time": "2022-01-23T15:03:09.287Z"
   },
   {
    "duration": 6615,
    "start_time": "2022-01-23T15:04:18.771Z"
   },
   {
    "duration": 611,
    "start_time": "2022-01-23T15:04:31.191Z"
   },
   {
    "duration": 978,
    "start_time": "2022-01-23T15:05:45.033Z"
   },
   {
    "duration": 2033,
    "start_time": "2022-01-23T15:06:46.500Z"
   },
   {
    "duration": 2278,
    "start_time": "2022-01-23T15:17:24.136Z"
   },
   {
    "duration": 2482,
    "start_time": "2022-01-23T15:18:01.372Z"
   },
   {
    "duration": 366,
    "start_time": "2022-01-23T15:49:13.309Z"
   },
   {
    "duration": 962,
    "start_time": "2022-01-30T06:11:18.062Z"
   },
   {
    "duration": 7,
    "start_time": "2022-01-30T06:11:19.027Z"
   },
   {
    "duration": 9,
    "start_time": "2022-01-30T06:11:19.037Z"
   },
   {
    "duration": 7,
    "start_time": "2022-01-30T06:11:19.048Z"
   },
   {
    "duration": 9,
    "start_time": "2022-01-30T06:11:19.057Z"
   },
   {
    "duration": 8,
    "start_time": "2022-01-30T06:11:19.068Z"
   },
   {
    "duration": 63,
    "start_time": "2022-01-30T06:11:19.078Z"
   },
   {
    "duration": 7,
    "start_time": "2022-01-30T06:11:19.143Z"
   },
   {
    "duration": 7,
    "start_time": "2022-01-30T06:11:19.153Z"
   },
   {
    "duration": 9,
    "start_time": "2022-01-30T06:11:19.163Z"
   },
   {
    "duration": 8,
    "start_time": "2022-01-30T06:11:19.174Z"
   },
   {
    "duration": 51,
    "start_time": "2022-01-30T06:11:19.184Z"
   },
   {
    "duration": 5,
    "start_time": "2022-01-30T06:11:19.237Z"
   },
   {
    "duration": 22,
    "start_time": "2022-01-30T06:11:19.245Z"
   },
   {
    "duration": 8,
    "start_time": "2022-01-30T06:11:19.269Z"
   },
   {
    "duration": 12,
    "start_time": "2022-01-30T06:11:19.280Z"
   },
   {
    "duration": 64,
    "start_time": "2022-01-30T06:11:19.294Z"
   },
   {
    "duration": 13,
    "start_time": "2022-01-30T06:11:19.361Z"
   },
   {
    "duration": 23,
    "start_time": "2022-01-30T06:11:19.376Z"
   },
   {
    "duration": 21,
    "start_time": "2022-01-30T06:11:19.432Z"
   },
   {
    "duration": 1037,
    "start_time": "2022-01-30T06:11:19.455Z"
   },
   {
    "duration": 8,
    "start_time": "2022-01-30T06:11:20.495Z"
   },
   {
    "duration": 30,
    "start_time": "2022-01-30T06:11:20.506Z"
   },
   {
    "duration": 577,
    "start_time": "2022-01-30T06:11:20.538Z"
   },
   {
    "duration": 698,
    "start_time": "2022-01-30T06:11:21.118Z"
   },
   {
    "duration": 685,
    "start_time": "2022-01-30T06:11:21.819Z"
   },
   {
    "duration": 304,
    "start_time": "2022-01-30T06:11:22.509Z"
   },
   {
    "duration": 427,
    "start_time": "2022-01-30T06:11:22.816Z"
   },
   {
    "duration": 564,
    "start_time": "2022-01-30T06:11:23.245Z"
   },
   {
    "duration": 23,
    "start_time": "2022-01-30T06:11:23.812Z"
   },
   {
    "duration": 572,
    "start_time": "2022-01-30T06:11:23.838Z"
   },
   {
    "duration": 21,
    "start_time": "2022-01-30T06:11:24.413Z"
   },
   {
    "duration": 14,
    "start_time": "2022-01-30T06:11:24.437Z"
   },
   {
    "duration": 630,
    "start_time": "2022-01-30T06:11:24.453Z"
   },
   {
    "duration": 703,
    "start_time": "2022-01-30T06:11:25.086Z"
   },
   {
    "duration": 405,
    "start_time": "2022-01-30T06:11:25.791Z"
   },
   {
    "duration": 420,
    "start_time": "2022-01-30T06:11:26.199Z"
   },
   {
    "duration": 378,
    "start_time": "2022-01-30T06:11:26.621Z"
   },
   {
    "duration": 773,
    "start_time": "2022-01-30T06:11:27.001Z"
   },
   {
    "duration": 326,
    "start_time": "2022-01-30T06:11:27.776Z"
   },
   {
    "duration": 282,
    "start_time": "2022-01-30T06:11:28.104Z"
   },
   {
    "duration": 877,
    "start_time": "2022-01-30T06:11:28.389Z"
   },
   {
    "duration": 2048,
    "start_time": "2022-01-30T06:11:29.268Z"
   },
   {
    "duration": 69,
    "start_time": "2022-01-30T06:11:31.318Z"
   },
   {
    "duration": 14,
    "start_time": "2022-01-30T06:11:31.389Z"
   },
   {
    "duration": 59,
    "start_time": "2022-01-30T06:11:31.405Z"
   },
   {
    "duration": 335,
    "start_time": "2022-01-30T06:11:31.467Z"
   },
   {
    "duration": 297,
    "start_time": "2022-01-30T06:11:31.804Z"
   },
   {
    "duration": 3856,
    "start_time": "2022-01-30T06:11:32.103Z"
   },
   {
    "duration": 6,
    "start_time": "2022-01-30T06:21:41.132Z"
   },
   {
    "duration": 7,
    "start_time": "2022-01-30T06:40:20.781Z"
   },
   {
    "duration": 6,
    "start_time": "2022-01-30T06:41:50.957Z"
   },
   {
    "duration": 6,
    "start_time": "2022-01-30T06:42:00.423Z"
   },
   {
    "duration": 5,
    "start_time": "2022-01-30T06:44:45.152Z"
   },
   {
    "duration": 5,
    "start_time": "2022-01-30T06:44:51.518Z"
   },
   {
    "duration": 711,
    "start_time": "2022-01-30T18:10:10.803Z"
   },
   {
    "duration": 742,
    "start_time": "2022-01-30T18:11:16.781Z"
   },
   {
    "duration": 5,
    "start_time": "2022-01-30T18:11:17.526Z"
   },
   {
    "duration": 10,
    "start_time": "2022-01-30T18:11:17.533Z"
   },
   {
    "duration": 18,
    "start_time": "2022-01-30T18:11:17.545Z"
   },
   {
    "duration": 5,
    "start_time": "2022-01-30T18:11:17.565Z"
   },
   {
    "duration": 7,
    "start_time": "2022-01-30T18:11:17.571Z"
   },
   {
    "duration": 13,
    "start_time": "2022-01-30T18:11:17.580Z"
   },
   {
    "duration": 5,
    "start_time": "2022-01-30T18:11:17.596Z"
   },
   {
    "duration": 8,
    "start_time": "2022-01-30T18:11:17.603Z"
   },
   {
    "duration": 10,
    "start_time": "2022-01-30T18:11:17.613Z"
   },
   {
    "duration": 38,
    "start_time": "2022-01-30T18:11:17.624Z"
   },
   {
    "duration": 11,
    "start_time": "2022-01-30T18:11:17.663Z"
   },
   {
    "duration": 9,
    "start_time": "2022-01-30T18:11:17.676Z"
   },
   {
    "duration": 16,
    "start_time": "2022-01-30T18:11:17.686Z"
   },
   {
    "duration": 6,
    "start_time": "2022-01-30T18:11:17.704Z"
   },
   {
    "duration": 6,
    "start_time": "2022-01-30T18:11:17.712Z"
   },
   {
    "duration": 47,
    "start_time": "2022-01-30T18:11:17.719Z"
   },
   {
    "duration": 10,
    "start_time": "2022-01-30T18:11:17.767Z"
   },
   {
    "duration": 13,
    "start_time": "2022-01-30T18:11:17.778Z"
   },
   {
    "duration": 14,
    "start_time": "2022-01-30T18:11:17.792Z"
   },
   {
    "duration": 581,
    "start_time": "2022-01-30T18:11:17.808Z"
   },
   {
    "duration": 5,
    "start_time": "2022-01-30T18:11:18.390Z"
   },
   {
    "duration": 9,
    "start_time": "2022-01-30T18:11:18.398Z"
   },
   {
    "duration": 364,
    "start_time": "2022-01-30T18:11:18.409Z"
   },
   {
    "duration": 416,
    "start_time": "2022-01-30T18:11:18.775Z"
   },
   {
    "duration": 480,
    "start_time": "2022-01-30T18:11:19.193Z"
   },
   {
    "duration": 188,
    "start_time": "2022-01-30T18:11:19.675Z"
   },
   {
    "duration": 248,
    "start_time": "2022-01-30T18:11:19.865Z"
   },
   {
    "duration": 329,
    "start_time": "2022-01-30T18:11:20.115Z"
   },
   {
    "duration": 16,
    "start_time": "2022-01-30T18:11:20.445Z"
   },
   {
    "duration": 337,
    "start_time": "2022-01-30T18:11:20.462Z"
   },
   {
    "duration": 4,
    "start_time": "2022-01-30T18:11:20.801Z"
   },
   {
    "duration": 8,
    "start_time": "2022-01-30T18:11:20.807Z"
   },
   {
    "duration": 396,
    "start_time": "2022-01-30T18:11:20.817Z"
   },
   {
    "duration": 413,
    "start_time": "2022-01-30T18:11:21.215Z"
   },
   {
    "duration": 366,
    "start_time": "2022-01-30T18:11:21.630Z"
   },
   {
    "duration": 383,
    "start_time": "2022-01-30T18:11:21.998Z"
   },
   {
    "duration": 252,
    "start_time": "2022-01-30T18:11:22.384Z"
   },
   {
    "duration": 522,
    "start_time": "2022-01-30T18:11:22.638Z"
   },
   {
    "duration": 200,
    "start_time": "2022-01-30T18:11:23.162Z"
   },
   {
    "duration": 172,
    "start_time": "2022-01-30T18:11:23.363Z"
   },
   {
    "duration": 583,
    "start_time": "2022-01-30T18:11:23.537Z"
   },
   {
    "duration": 1469,
    "start_time": "2022-01-30T18:11:24.122Z"
   },
   {
    "duration": 42,
    "start_time": "2022-01-30T18:11:25.593Z"
   },
   {
    "duration": 26,
    "start_time": "2022-01-30T18:11:25.637Z"
   },
   {
    "duration": 27,
    "start_time": "2022-01-30T18:11:25.665Z"
   },
   {
    "duration": 210,
    "start_time": "2022-01-30T18:11:25.694Z"
   },
   {
    "duration": 191,
    "start_time": "2022-01-30T18:11:25.906Z"
   },
   {
    "duration": 2483,
    "start_time": "2022-01-30T18:11:26.099Z"
   },
   {
    "duration": 6,
    "start_time": "2022-01-30T18:17:27.716Z"
   },
   {
    "duration": 7,
    "start_time": "2022-01-30T18:17:48.174Z"
   },
   {
    "duration": 5,
    "start_time": "2022-01-30T18:18:51.287Z"
   },
   {
    "duration": 266,
    "start_time": "2022-01-30T18:26:31.412Z"
   },
   {
    "duration": 5,
    "start_time": "2022-01-30T18:26:56.582Z"
   },
   {
    "duration": 6,
    "start_time": "2022-01-30T18:31:36.341Z"
   },
   {
    "duration": 6,
    "start_time": "2022-01-30T18:49:20.127Z"
   },
   {
    "duration": 9,
    "start_time": "2022-01-30T19:02:53.712Z"
   },
   {
    "duration": 9,
    "start_time": "2022-01-30T19:03:22.814Z"
   },
   {
    "duration": 11,
    "start_time": "2022-01-30T19:08:34.430Z"
   },
   {
    "duration": 4,
    "start_time": "2022-01-30T19:11:37.354Z"
   },
   {
    "duration": 5,
    "start_time": "2022-01-30T19:11:53.196Z"
   },
   {
    "duration": 439,
    "start_time": "2022-01-30T19:17:46.692Z"
   },
   {
    "duration": 6,
    "start_time": "2022-01-30T19:18:14.904Z"
   },
   {
    "duration": 782,
    "start_time": "2022-01-30T19:19:39.437Z"
   },
   {
    "duration": 5,
    "start_time": "2022-01-30T19:19:40.222Z"
   },
   {
    "duration": 9,
    "start_time": "2022-01-30T19:19:40.229Z"
   },
   {
    "duration": 23,
    "start_time": "2022-01-30T19:19:40.240Z"
   },
   {
    "duration": 8,
    "start_time": "2022-01-30T19:19:40.265Z"
   },
   {
    "duration": 11,
    "start_time": "2022-01-30T19:19:40.275Z"
   },
   {
    "duration": 17,
    "start_time": "2022-01-30T19:19:40.287Z"
   },
   {
    "duration": 7,
    "start_time": "2022-01-30T19:19:40.306Z"
   },
   {
    "duration": 7,
    "start_time": "2022-01-30T19:19:40.315Z"
   },
   {
    "duration": 9,
    "start_time": "2022-01-30T19:19:40.323Z"
   },
   {
    "duration": 33,
    "start_time": "2022-01-30T19:19:40.334Z"
   },
   {
    "duration": 7,
    "start_time": "2022-01-30T19:19:40.369Z"
   },
   {
    "duration": 5,
    "start_time": "2022-01-30T19:19:40.378Z"
   },
   {
    "duration": 16,
    "start_time": "2022-01-30T19:19:40.385Z"
   },
   {
    "duration": 5,
    "start_time": "2022-01-30T19:19:40.402Z"
   },
   {
    "duration": 351,
    "start_time": "2022-01-30T19:19:40.409Z"
   },
   {
    "duration": -533,
    "start_time": "2022-01-30T19:19:41.296Z"
   },
   {
    "duration": -537,
    "start_time": "2022-01-30T19:19:41.302Z"
   },
   {
    "duration": -542,
    "start_time": "2022-01-30T19:19:41.309Z"
   },
   {
    "duration": -548,
    "start_time": "2022-01-30T19:19:41.316Z"
   },
   {
    "duration": -552,
    "start_time": "2022-01-30T19:19:41.322Z"
   },
   {
    "duration": -557,
    "start_time": "2022-01-30T19:19:41.328Z"
   },
   {
    "duration": -560,
    "start_time": "2022-01-30T19:19:41.333Z"
   },
   {
    "duration": -567,
    "start_time": "2022-01-30T19:19:41.341Z"
   },
   {
    "duration": -570,
    "start_time": "2022-01-30T19:19:41.346Z"
   },
   {
    "duration": -575,
    "start_time": "2022-01-30T19:19:41.352Z"
   },
   {
    "duration": -581,
    "start_time": "2022-01-30T19:19:41.360Z"
   },
   {
    "duration": -586,
    "start_time": "2022-01-30T19:19:41.366Z"
   },
   {
    "duration": -590,
    "start_time": "2022-01-30T19:19:41.372Z"
   },
   {
    "duration": -595,
    "start_time": "2022-01-30T19:19:41.378Z"
   },
   {
    "duration": -599,
    "start_time": "2022-01-30T19:19:41.384Z"
   },
   {
    "duration": -628,
    "start_time": "2022-01-30T19:19:41.414Z"
   },
   {
    "duration": -633,
    "start_time": "2022-01-30T19:19:41.420Z"
   },
   {
    "duration": -639,
    "start_time": "2022-01-30T19:19:41.428Z"
   },
   {
    "duration": -644,
    "start_time": "2022-01-30T19:19:41.434Z"
   },
   {
    "duration": -649,
    "start_time": "2022-01-30T19:19:41.441Z"
   },
   {
    "duration": -654,
    "start_time": "2022-01-30T19:19:41.447Z"
   },
   {
    "duration": -658,
    "start_time": "2022-01-30T19:19:41.452Z"
   },
   {
    "duration": -663,
    "start_time": "2022-01-30T19:19:41.459Z"
   },
   {
    "duration": -668,
    "start_time": "2022-01-30T19:19:41.465Z"
   },
   {
    "duration": -673,
    "start_time": "2022-01-30T19:19:41.472Z"
   },
   {
    "duration": -678,
    "start_time": "2022-01-30T19:19:41.478Z"
   },
   {
    "duration": -682,
    "start_time": "2022-01-30T19:19:41.484Z"
   },
   {
    "duration": -687,
    "start_time": "2022-01-30T19:19:41.490Z"
   },
   {
    "duration": -692,
    "start_time": "2022-01-30T19:19:41.497Z"
   },
   {
    "duration": -643,
    "start_time": "2022-01-30T19:19:41.504Z"
   },
   {
    "duration": -648,
    "start_time": "2022-01-30T19:19:41.510Z"
   },
   {
    "duration": -663,
    "start_time": "2022-01-30T19:19:41.526Z"
   },
   {
    "duration": 783,
    "start_time": "2022-01-30T19:20:28.334Z"
   },
   {
    "duration": 5,
    "start_time": "2022-01-30T19:20:29.119Z"
   },
   {
    "duration": 15,
    "start_time": "2022-01-30T19:20:29.126Z"
   },
   {
    "duration": 5,
    "start_time": "2022-01-30T19:20:29.143Z"
   },
   {
    "duration": 15,
    "start_time": "2022-01-30T19:20:29.149Z"
   },
   {
    "duration": 7,
    "start_time": "2022-01-30T19:20:29.165Z"
   },
   {
    "duration": 18,
    "start_time": "2022-01-30T19:20:29.173Z"
   },
   {
    "duration": 9,
    "start_time": "2022-01-30T19:20:29.193Z"
   },
   {
    "duration": 6,
    "start_time": "2022-01-30T19:20:29.204Z"
   },
   {
    "duration": 9,
    "start_time": "2022-01-30T19:20:29.212Z"
   },
   {
    "duration": 42,
    "start_time": "2022-01-30T19:20:29.222Z"
   },
   {
    "duration": 4,
    "start_time": "2022-01-30T19:20:29.266Z"
   },
   {
    "duration": 9,
    "start_time": "2022-01-30T19:20:29.272Z"
   },
   {
    "duration": 19,
    "start_time": "2022-01-30T19:20:29.283Z"
   },
   {
    "duration": 5,
    "start_time": "2022-01-30T19:20:29.303Z"
   },
   {
    "duration": 298,
    "start_time": "2022-01-30T19:20:29.310Z"
   },
   {
    "duration": -1141,
    "start_time": "2022-01-30T19:20:30.751Z"
   },
   {
    "duration": -1153,
    "start_time": "2022-01-30T19:20:30.764Z"
   },
   {
    "duration": -1157,
    "start_time": "2022-01-30T19:20:30.769Z"
   },
   {
    "duration": -1164,
    "start_time": "2022-01-30T19:20:30.776Z"
   },
   {
    "duration": -1168,
    "start_time": "2022-01-30T19:20:30.781Z"
   },
   {
    "duration": -1173,
    "start_time": "2022-01-30T19:20:30.787Z"
   },
   {
    "duration": -1179,
    "start_time": "2022-01-30T19:20:30.794Z"
   },
   {
    "duration": -1184,
    "start_time": "2022-01-30T19:20:30.800Z"
   },
   {
    "duration": -1189,
    "start_time": "2022-01-30T19:20:30.806Z"
   },
   {
    "duration": -1194,
    "start_time": "2022-01-30T19:20:30.812Z"
   },
   {
    "duration": -1199,
    "start_time": "2022-01-30T19:20:30.817Z"
   },
   {
    "duration": -1204,
    "start_time": "2022-01-30T19:20:30.823Z"
   },
   {
    "duration": -1209,
    "start_time": "2022-01-30T19:20:30.829Z"
   },
   {
    "duration": -1213,
    "start_time": "2022-01-30T19:20:30.834Z"
   },
   {
    "duration": -1219,
    "start_time": "2022-01-30T19:20:30.840Z"
   },
   {
    "duration": -1278,
    "start_time": "2022-01-30T19:20:30.900Z"
   },
   {
    "duration": -1442,
    "start_time": "2022-01-30T19:20:31.065Z"
   },
   {
    "duration": -1447,
    "start_time": "2022-01-30T19:20:31.071Z"
   },
   {
    "duration": -1452,
    "start_time": "2022-01-30T19:20:31.078Z"
   },
   {
    "duration": -1456,
    "start_time": "2022-01-30T19:20:31.083Z"
   },
   {
    "duration": -1462,
    "start_time": "2022-01-30T19:20:31.089Z"
   },
   {
    "duration": -1467,
    "start_time": "2022-01-30T19:20:31.095Z"
   },
   {
    "duration": -1471,
    "start_time": "2022-01-30T19:20:31.100Z"
   },
   {
    "duration": -1476,
    "start_time": "2022-01-30T19:20:31.106Z"
   },
   {
    "duration": -1481,
    "start_time": "2022-01-30T19:20:31.112Z"
   },
   {
    "duration": -1487,
    "start_time": "2022-01-30T19:20:31.119Z"
   },
   {
    "duration": -1491,
    "start_time": "2022-01-30T19:20:31.124Z"
   },
   {
    "duration": -1496,
    "start_time": "2022-01-30T19:20:31.130Z"
   },
   {
    "duration": -1501,
    "start_time": "2022-01-30T19:20:31.136Z"
   },
   {
    "duration": -1506,
    "start_time": "2022-01-30T19:20:31.142Z"
   },
   {
    "duration": -1510,
    "start_time": "2022-01-30T19:20:31.147Z"
   },
   {
    "duration": -1515,
    "start_time": "2022-01-30T19:20:31.153Z"
   },
   {
    "duration": 779,
    "start_time": "2022-01-30T19:21:26.540Z"
   },
   {
    "duration": 5,
    "start_time": "2022-01-30T19:21:27.321Z"
   },
   {
    "duration": 8,
    "start_time": "2022-01-30T19:21:27.327Z"
   },
   {
    "duration": 5,
    "start_time": "2022-01-30T19:21:27.336Z"
   },
   {
    "duration": 18,
    "start_time": "2022-01-30T19:21:27.342Z"
   },
   {
    "duration": 5,
    "start_time": "2022-01-30T19:21:27.362Z"
   },
   {
    "duration": 14,
    "start_time": "2022-01-30T19:21:27.368Z"
   },
   {
    "duration": 7,
    "start_time": "2022-01-30T19:21:27.384Z"
   },
   {
    "duration": 4,
    "start_time": "2022-01-30T19:21:27.393Z"
   },
   {
    "duration": 9,
    "start_time": "2022-01-30T19:21:27.398Z"
   },
   {
    "duration": 10,
    "start_time": "2022-01-30T19:21:27.408Z"
   },
   {
    "duration": 43,
    "start_time": "2022-01-30T19:21:27.419Z"
   },
   {
    "duration": 3,
    "start_time": "2022-01-30T19:21:27.464Z"
   },
   {
    "duration": 16,
    "start_time": "2022-01-30T19:21:27.468Z"
   },
   {
    "duration": 6,
    "start_time": "2022-01-30T19:21:27.485Z"
   },
   {
    "duration": 274,
    "start_time": "2022-01-30T19:21:27.492Z"
   },
   {
    "duration": -1204,
    "start_time": "2022-01-30T19:21:28.972Z"
   },
   {
    "duration": -1210,
    "start_time": "2022-01-30T19:21:28.979Z"
   },
   {
    "duration": -1214,
    "start_time": "2022-01-30T19:21:28.984Z"
   },
   {
    "duration": -1219,
    "start_time": "2022-01-30T19:21:28.990Z"
   },
   {
    "duration": -1224,
    "start_time": "2022-01-30T19:21:28.996Z"
   },
   {
    "duration": -1229,
    "start_time": "2022-01-30T19:21:29.002Z"
   },
   {
    "duration": -1265,
    "start_time": "2022-01-30T19:21:29.039Z"
   },
   {
    "duration": -1271,
    "start_time": "2022-01-30T19:21:29.046Z"
   },
   {
    "duration": -1275,
    "start_time": "2022-01-30T19:21:29.051Z"
   },
   {
    "duration": -1281,
    "start_time": "2022-01-30T19:21:29.058Z"
   },
   {
    "duration": -1288,
    "start_time": "2022-01-30T19:21:29.066Z"
   },
   {
    "duration": -1294,
    "start_time": "2022-01-30T19:21:29.073Z"
   },
   {
    "duration": -1299,
    "start_time": "2022-01-30T19:21:29.079Z"
   },
   {
    "duration": -1305,
    "start_time": "2022-01-30T19:21:29.086Z"
   },
   {
    "duration": -1309,
    "start_time": "2022-01-30T19:21:29.091Z"
   },
   {
    "duration": -1314,
    "start_time": "2022-01-30T19:21:29.097Z"
   },
   {
    "duration": -1319,
    "start_time": "2022-01-30T19:21:29.103Z"
   },
   {
    "duration": -1325,
    "start_time": "2022-01-30T19:21:29.109Z"
   },
   {
    "duration": -1338,
    "start_time": "2022-01-30T19:21:29.124Z"
   },
   {
    "duration": -1343,
    "start_time": "2022-01-30T19:21:29.130Z"
   },
   {
    "duration": -1357,
    "start_time": "2022-01-30T19:21:29.145Z"
   },
   {
    "duration": -1363,
    "start_time": "2022-01-30T19:21:29.151Z"
   },
   {
    "duration": -1367,
    "start_time": "2022-01-30T19:21:29.156Z"
   },
   {
    "duration": -1373,
    "start_time": "2022-01-30T19:21:29.163Z"
   },
   {
    "duration": -1377,
    "start_time": "2022-01-30T19:21:29.169Z"
   },
   {
    "duration": -1382,
    "start_time": "2022-01-30T19:21:29.175Z"
   },
   {
    "duration": -1387,
    "start_time": "2022-01-30T19:21:29.181Z"
   },
   {
    "duration": -1392,
    "start_time": "2022-01-30T19:21:29.187Z"
   },
   {
    "duration": -1397,
    "start_time": "2022-01-30T19:21:29.193Z"
   },
   {
    "duration": -1402,
    "start_time": "2022-01-30T19:21:29.199Z"
   },
   {
    "duration": -1407,
    "start_time": "2022-01-30T19:21:29.205Z"
   },
   {
    "duration": -1412,
    "start_time": "2022-01-30T19:21:29.211Z"
   },
   {
    "duration": 288,
    "start_time": "2022-01-30T19:22:52.493Z"
   },
   {
    "duration": 779,
    "start_time": "2022-01-30T19:23:09.023Z"
   },
   {
    "duration": 5,
    "start_time": "2022-01-30T19:23:09.804Z"
   },
   {
    "duration": 8,
    "start_time": "2022-01-30T19:23:09.811Z"
   },
   {
    "duration": 7,
    "start_time": "2022-01-30T19:23:09.821Z"
   },
   {
    "duration": 15,
    "start_time": "2022-01-30T19:23:09.829Z"
   },
   {
    "duration": 15,
    "start_time": "2022-01-30T19:23:09.845Z"
   },
   {
    "duration": 13,
    "start_time": "2022-01-30T19:23:09.862Z"
   },
   {
    "duration": 8,
    "start_time": "2022-01-30T19:23:09.878Z"
   },
   {
    "duration": 8,
    "start_time": "2022-01-30T19:23:09.888Z"
   },
   {
    "duration": 9,
    "start_time": "2022-01-30T19:23:09.897Z"
   },
   {
    "duration": 12,
    "start_time": "2022-01-30T19:23:09.908Z"
   },
   {
    "duration": 42,
    "start_time": "2022-01-30T19:23:09.922Z"
   },
   {
    "duration": 7,
    "start_time": "2022-01-30T19:23:09.966Z"
   },
   {
    "duration": 16,
    "start_time": "2022-01-30T19:23:09.975Z"
   },
   {
    "duration": 6,
    "start_time": "2022-01-30T19:23:09.994Z"
   },
   {
    "duration": 292,
    "start_time": "2022-01-30T19:23:10.002Z"
   },
   {
    "duration": -957,
    "start_time": "2022-01-30T19:23:11.255Z"
   },
   {
    "duration": -963,
    "start_time": "2022-01-30T19:23:11.262Z"
   },
   {
    "duration": -968,
    "start_time": "2022-01-30T19:23:11.268Z"
   },
   {
    "duration": -972,
    "start_time": "2022-01-30T19:23:11.274Z"
   },
   {
    "duration": -980,
    "start_time": "2022-01-30T19:23:11.283Z"
   },
   {
    "duration": -986,
    "start_time": "2022-01-30T19:23:11.290Z"
   },
   {
    "duration": -990,
    "start_time": "2022-01-30T19:23:11.296Z"
   },
   {
    "duration": -995,
    "start_time": "2022-01-30T19:23:11.302Z"
   },
   {
    "duration": -999,
    "start_time": "2022-01-30T19:23:11.308Z"
   },
   {
    "duration": -1005,
    "start_time": "2022-01-30T19:23:11.315Z"
   },
   {
    "duration": -1010,
    "start_time": "2022-01-30T19:23:11.321Z"
   },
   {
    "duration": -1023,
    "start_time": "2022-01-30T19:23:11.336Z"
   },
   {
    "duration": -1028,
    "start_time": "2022-01-30T19:23:11.342Z"
   },
   {
    "duration": -1033,
    "start_time": "2022-01-30T19:23:11.349Z"
   },
   {
    "duration": -1038,
    "start_time": "2022-01-30T19:23:11.355Z"
   },
   {
    "duration": -1046,
    "start_time": "2022-01-30T19:23:11.364Z"
   },
   {
    "duration": -1050,
    "start_time": "2022-01-30T19:23:11.370Z"
   },
   {
    "duration": -1056,
    "start_time": "2022-01-30T19:23:11.377Z"
   },
   {
    "duration": -1060,
    "start_time": "2022-01-30T19:23:11.383Z"
   },
   {
    "duration": -1065,
    "start_time": "2022-01-30T19:23:11.389Z"
   },
   {
    "duration": -1071,
    "start_time": "2022-01-30T19:23:11.396Z"
   },
   {
    "duration": -1077,
    "start_time": "2022-01-30T19:23:11.403Z"
   },
   {
    "duration": -1084,
    "start_time": "2022-01-30T19:23:11.411Z"
   },
   {
    "duration": -1089,
    "start_time": "2022-01-30T19:23:11.417Z"
   },
   {
    "duration": -1094,
    "start_time": "2022-01-30T19:23:11.423Z"
   },
   {
    "duration": -1099,
    "start_time": "2022-01-30T19:23:11.429Z"
   },
   {
    "duration": -1114,
    "start_time": "2022-01-30T19:23:11.445Z"
   },
   {
    "duration": -1121,
    "start_time": "2022-01-30T19:23:11.453Z"
   },
   {
    "duration": -1099,
    "start_time": "2022-01-30T19:23:11.459Z"
   },
   {
    "duration": -1105,
    "start_time": "2022-01-30T19:23:11.466Z"
   },
   {
    "duration": -1109,
    "start_time": "2022-01-30T19:23:11.471Z"
   },
   {
    "duration": -1115,
    "start_time": "2022-01-30T19:23:11.478Z"
   },
   {
    "duration": 795,
    "start_time": "2022-01-30T19:23:32.041Z"
   },
   {
    "duration": 5,
    "start_time": "2022-01-30T19:23:32.838Z"
   },
   {
    "duration": 18,
    "start_time": "2022-01-30T19:23:32.844Z"
   },
   {
    "duration": 5,
    "start_time": "2022-01-30T19:23:32.864Z"
   },
   {
    "duration": 10,
    "start_time": "2022-01-30T19:23:32.870Z"
   },
   {
    "duration": 9,
    "start_time": "2022-01-30T19:23:32.881Z"
   },
   {
    "duration": 15,
    "start_time": "2022-01-30T19:23:32.892Z"
   },
   {
    "duration": 7,
    "start_time": "2022-01-30T19:23:32.909Z"
   },
   {
    "duration": 4,
    "start_time": "2022-01-30T19:23:32.918Z"
   },
   {
    "duration": 8,
    "start_time": "2022-01-30T19:23:32.924Z"
   },
   {
    "duration": 9,
    "start_time": "2022-01-30T19:23:32.961Z"
   },
   {
    "duration": 14,
    "start_time": "2022-01-30T19:23:32.971Z"
   },
   {
    "duration": 12,
    "start_time": "2022-01-30T19:23:32.986Z"
   },
   {
    "duration": 17,
    "start_time": "2022-01-30T19:23:33.000Z"
   },
   {
    "duration": 6,
    "start_time": "2022-01-30T19:23:33.018Z"
   },
   {
    "duration": 380,
    "start_time": "2022-01-30T19:23:33.025Z"
   },
   {
    "duration": -792,
    "start_time": "2022-01-30T19:23:34.199Z"
   },
   {
    "duration": -796,
    "start_time": "2022-01-30T19:23:34.204Z"
   },
   {
    "duration": -804,
    "start_time": "2022-01-30T19:23:34.213Z"
   },
   {
    "duration": -864,
    "start_time": "2022-01-30T19:23:34.274Z"
   },
   {
    "duration": -869,
    "start_time": "2022-01-30T19:23:34.280Z"
   },
   {
    "duration": -892,
    "start_time": "2022-01-30T19:23:34.304Z"
   },
   {
    "duration": -899,
    "start_time": "2022-01-30T19:23:34.311Z"
   },
   {
    "duration": -904,
    "start_time": "2022-01-30T19:23:34.317Z"
   },
   {
    "duration": -911,
    "start_time": "2022-01-30T19:23:34.325Z"
   },
   {
    "duration": -916,
    "start_time": "2022-01-30T19:23:34.331Z"
   },
   {
    "duration": -924,
    "start_time": "2022-01-30T19:23:34.340Z"
   },
   {
    "duration": -929,
    "start_time": "2022-01-30T19:23:34.346Z"
   },
   {
    "duration": -935,
    "start_time": "2022-01-30T19:23:34.353Z"
   },
   {
    "duration": -941,
    "start_time": "2022-01-30T19:23:34.359Z"
   },
   {
    "duration": -946,
    "start_time": "2022-01-30T19:23:34.366Z"
   },
   {
    "duration": -951,
    "start_time": "2022-01-30T19:23:34.371Z"
   },
   {
    "duration": -957,
    "start_time": "2022-01-30T19:23:34.378Z"
   },
   {
    "duration": -961,
    "start_time": "2022-01-30T19:23:34.383Z"
   },
   {
    "duration": -967,
    "start_time": "2022-01-30T19:23:34.390Z"
   },
   {
    "duration": -971,
    "start_time": "2022-01-30T19:23:34.395Z"
   },
   {
    "duration": -985,
    "start_time": "2022-01-30T19:23:34.410Z"
   },
   {
    "duration": -992,
    "start_time": "2022-01-30T19:23:34.418Z"
   },
   {
    "duration": -997,
    "start_time": "2022-01-30T19:23:34.424Z"
   },
   {
    "duration": -1003,
    "start_time": "2022-01-30T19:23:34.431Z"
   },
   {
    "duration": -1009,
    "start_time": "2022-01-30T19:23:34.438Z"
   },
   {
    "duration": -1014,
    "start_time": "2022-01-30T19:23:34.444Z"
   },
   {
    "duration": -1021,
    "start_time": "2022-01-30T19:23:34.452Z"
   },
   {
    "duration": -1025,
    "start_time": "2022-01-30T19:23:34.457Z"
   },
   {
    "duration": -1032,
    "start_time": "2022-01-30T19:23:34.464Z"
   },
   {
    "duration": -1036,
    "start_time": "2022-01-30T19:23:34.470Z"
   },
   {
    "duration": -1043,
    "start_time": "2022-01-30T19:23:34.477Z"
   },
   {
    "duration": -1048,
    "start_time": "2022-01-30T19:23:34.483Z"
   },
   {
    "duration": 99,
    "start_time": "2022-01-30T19:24:00.985Z"
   },
   {
    "duration": 5,
    "start_time": "2022-01-30T19:24:08.825Z"
   },
   {
    "duration": 7,
    "start_time": "2022-01-30T19:24:24.067Z"
   },
   {
    "duration": 4,
    "start_time": "2022-01-30T19:24:44.087Z"
   },
   {
    "duration": 6,
    "start_time": "2022-01-30T19:24:57.727Z"
   },
   {
    "duration": 14,
    "start_time": "2022-01-30T19:25:07.937Z"
   },
   {
    "duration": 7,
    "start_time": "2022-01-30T19:25:14.013Z"
   },
   {
    "duration": 6,
    "start_time": "2022-01-30T19:25:22.475Z"
   },
   {
    "duration": 9,
    "start_time": "2022-01-30T19:26:08.667Z"
   },
   {
    "duration": 7,
    "start_time": "2022-01-30T19:26:54.985Z"
   },
   {
    "duration": 8,
    "start_time": "2022-01-30T19:27:25.122Z"
   },
   {
    "duration": 5,
    "start_time": "2022-01-30T19:46:48.598Z"
   },
   {
    "duration": 4,
    "start_time": "2022-01-30T19:46:59.080Z"
   },
   {
    "duration": 15,
    "start_time": "2022-01-30T19:47:03.587Z"
   },
   {
    "duration": 6,
    "start_time": "2022-01-30T19:47:14.038Z"
   },
   {
    "duration": 94,
    "start_time": "2022-01-30T19:47:29.774Z"
   },
   {
    "duration": 9,
    "start_time": "2022-01-30T19:57:13.077Z"
   },
   {
    "duration": 9,
    "start_time": "2022-01-30T19:57:25.119Z"
   },
   {
    "duration": 223,
    "start_time": "2022-01-30T20:00:46.281Z"
   },
   {
    "duration": 6,
    "start_time": "2022-01-30T20:00:59.795Z"
   },
   {
    "duration": 216,
    "start_time": "2022-01-30T20:03:47.061Z"
   },
   {
    "duration": 10,
    "start_time": "2022-01-30T20:05:34.989Z"
   },
   {
    "duration": 6,
    "start_time": "2022-01-30T20:05:50.061Z"
   },
   {
    "duration": 67,
    "start_time": "2022-01-30T20:06:35.493Z"
   },
   {
    "duration": 8,
    "start_time": "2022-01-30T20:06:43.603Z"
   },
   {
    "duration": 208,
    "start_time": "2022-01-30T20:07:03.109Z"
   },
   {
    "duration": 747,
    "start_time": "2022-01-30T20:07:23.574Z"
   },
   {
    "duration": 4,
    "start_time": "2022-01-30T20:07:24.323Z"
   },
   {
    "duration": 7,
    "start_time": "2022-01-30T20:07:24.329Z"
   },
   {
    "duration": 24,
    "start_time": "2022-01-30T20:07:24.337Z"
   },
   {
    "duration": 4,
    "start_time": "2022-01-30T20:07:24.362Z"
   },
   {
    "duration": 7,
    "start_time": "2022-01-30T20:07:24.368Z"
   },
   {
    "duration": 15,
    "start_time": "2022-01-30T20:07:24.376Z"
   },
   {
    "duration": 7,
    "start_time": "2022-01-30T20:07:24.393Z"
   },
   {
    "duration": 6,
    "start_time": "2022-01-30T20:07:24.401Z"
   },
   {
    "duration": 10,
    "start_time": "2022-01-30T20:07:24.408Z"
   },
   {
    "duration": 8,
    "start_time": "2022-01-30T20:07:24.419Z"
   },
   {
    "duration": 5,
    "start_time": "2022-01-30T20:07:24.460Z"
   },
   {
    "duration": 5,
    "start_time": "2022-01-30T20:07:24.467Z"
   },
   {
    "duration": 14,
    "start_time": "2022-01-30T20:07:24.474Z"
   },
   {
    "duration": 5,
    "start_time": "2022-01-30T20:07:24.490Z"
   },
   {
    "duration": 22,
    "start_time": "2022-01-30T20:07:24.497Z"
   },
   {
    "duration": 10,
    "start_time": "2022-01-30T20:07:24.521Z"
   },
   {
    "duration": 12,
    "start_time": "2022-01-30T20:07:24.561Z"
   },
   {
    "duration": 15,
    "start_time": "2022-01-30T20:07:24.575Z"
   },
   {
    "duration": 718,
    "start_time": "2022-01-30T20:07:24.591Z"
   },
   {
    "duration": 6,
    "start_time": "2022-01-30T20:07:25.310Z"
   },
   {
    "duration": 10,
    "start_time": "2022-01-30T20:07:25.317Z"
   },
   {
    "duration": 376,
    "start_time": "2022-01-30T20:07:25.330Z"
   },
   {
    "duration": 392,
    "start_time": "2022-01-30T20:07:25.709Z"
   },
   {
    "duration": 404,
    "start_time": "2022-01-30T20:07:26.103Z"
   },
   {
    "duration": 181,
    "start_time": "2022-01-30T20:07:26.509Z"
   },
   {
    "duration": 254,
    "start_time": "2022-01-30T20:07:26.692Z"
   },
   {
    "duration": 335,
    "start_time": "2022-01-30T20:07:26.947Z"
   },
   {
    "duration": 6,
    "start_time": "2022-01-30T20:07:27.284Z"
   },
   {
    "duration": 337,
    "start_time": "2022-01-30T20:07:27.292Z"
   },
   {
    "duration": 7,
    "start_time": "2022-01-30T20:07:27.631Z"
   },
   {
    "duration": 25,
    "start_time": "2022-01-30T20:07:27.639Z"
   },
   {
    "duration": 389,
    "start_time": "2022-01-30T20:07:27.665Z"
   },
   {
    "duration": 390,
    "start_time": "2022-01-30T20:07:28.056Z"
   },
   {
    "duration": 240,
    "start_time": "2022-01-30T20:07:28.448Z"
   },
   {
    "duration": 256,
    "start_time": "2022-01-30T20:07:28.689Z"
   },
   {
    "duration": 224,
    "start_time": "2022-01-30T20:07:28.947Z"
   },
   {
    "duration": 551,
    "start_time": "2022-01-30T20:07:29.173Z"
   },
   {
    "duration": 196,
    "start_time": "2022-01-30T20:07:29.726Z"
   },
   {
    "duration": 189,
    "start_time": "2022-01-30T20:07:29.923Z"
   },
   {
    "duration": 609,
    "start_time": "2022-01-30T20:07:30.114Z"
   },
   {
    "duration": 1510,
    "start_time": "2022-01-30T20:07:30.725Z"
   },
   {
    "duration": 51,
    "start_time": "2022-01-30T20:07:32.238Z"
   },
   {
    "duration": 9,
    "start_time": "2022-01-30T20:07:32.291Z"
   },
   {
    "duration": 27,
    "start_time": "2022-01-30T20:07:32.302Z"
   },
   {
    "duration": 219,
    "start_time": "2022-01-30T20:07:32.331Z"
   },
   {
    "duration": 189,
    "start_time": "2022-01-30T20:07:32.552Z"
   },
   {
    "duration": 2360,
    "start_time": "2022-01-30T20:07:32.743Z"
   },
   {
    "duration": 297,
    "start_time": "2022-01-30T20:09:12.571Z"
   },
   {
    "duration": 17,
    "start_time": "2022-01-30T20:09:23.230Z"
   },
   {
    "duration": 332,
    "start_time": "2022-01-30T20:11:51.580Z"
   },
   {
    "duration": 317,
    "start_time": "2022-01-30T20:15:25.323Z"
   },
   {
    "duration": 213,
    "start_time": "2022-01-30T20:16:15.551Z"
   },
   {
    "duration": 17,
    "start_time": "2022-01-30T20:22:23.089Z"
   },
   {
    "duration": 208,
    "start_time": "2022-01-30T20:22:51.945Z"
   },
   {
    "duration": 16,
    "start_time": "2022-01-30T20:23:20.285Z"
   },
   {
    "duration": 319,
    "start_time": "2022-01-30T20:23:36.367Z"
   },
   {
    "duration": 7,
    "start_time": "2022-01-30T20:23:45.258Z"
   },
   {
    "duration": 477,
    "start_time": "2022-01-30T20:24:04.964Z"
   },
   {
    "duration": 252,
    "start_time": "2022-01-30T20:31:40.402Z"
   },
   {
    "duration": 232,
    "start_time": "2022-01-30T20:31:55.650Z"
   },
   {
    "duration": 210,
    "start_time": "2022-01-30T20:33:43.769Z"
   },
   {
    "duration": 207,
    "start_time": "2022-01-30T20:34:23.428Z"
   },
   {
    "duration": 203,
    "start_time": "2022-01-30T20:44:10.980Z"
   },
   {
    "duration": 71,
    "start_time": "2022-01-30T20:48:45.759Z"
   },
   {
    "duration": 146,
    "start_time": "2022-01-30T20:49:19.619Z"
   },
   {
    "duration": 67,
    "start_time": "2022-01-30T20:49:41.107Z"
   },
   {
    "duration": 328,
    "start_time": "2022-01-30T20:49:54.979Z"
   },
   {
    "duration": 202,
    "start_time": "2022-01-30T20:50:21.090Z"
   },
   {
    "duration": 328,
    "start_time": "2022-01-30T20:51:20.346Z"
   },
   {
    "duration": 7,
    "start_time": "2022-01-30T20:51:34.963Z"
   },
   {
    "duration": 9,
    "start_time": "2022-01-30T20:53:10.103Z"
   },
   {
    "duration": 859,
    "start_time": "2022-01-30T20:56:38.065Z"
   },
   {
    "duration": 4,
    "start_time": "2022-01-30T20:56:38.926Z"
   },
   {
    "duration": 6,
    "start_time": "2022-01-30T20:56:38.932Z"
   },
   {
    "duration": 23,
    "start_time": "2022-01-30T20:56:38.940Z"
   },
   {
    "duration": 5,
    "start_time": "2022-01-30T20:56:38.965Z"
   },
   {
    "duration": 6,
    "start_time": "2022-01-30T20:56:38.972Z"
   },
   {
    "duration": 15,
    "start_time": "2022-01-30T20:56:38.980Z"
   },
   {
    "duration": 7,
    "start_time": "2022-01-30T20:56:38.998Z"
   },
   {
    "duration": 4,
    "start_time": "2022-01-30T20:56:39.008Z"
   },
   {
    "duration": 48,
    "start_time": "2022-01-30T20:56:39.014Z"
   },
   {
    "duration": 9,
    "start_time": "2022-01-30T20:56:39.064Z"
   },
   {
    "duration": 5,
    "start_time": "2022-01-30T20:56:39.075Z"
   },
   {
    "duration": 6,
    "start_time": "2022-01-30T20:56:39.082Z"
   },
   {
    "duration": 15,
    "start_time": "2022-01-30T20:56:39.089Z"
   },
   {
    "duration": 5,
    "start_time": "2022-01-30T20:56:39.105Z"
   },
   {
    "duration": 56,
    "start_time": "2022-01-30T20:56:39.112Z"
   },
   {
    "duration": 9,
    "start_time": "2022-01-30T20:56:39.169Z"
   },
   {
    "duration": 18,
    "start_time": "2022-01-30T20:56:39.180Z"
   },
   {
    "duration": 14,
    "start_time": "2022-01-30T20:56:39.199Z"
   },
   {
    "duration": 561,
    "start_time": "2022-01-30T20:56:39.214Z"
   },
   {
    "duration": 5,
    "start_time": "2022-01-30T20:56:39.777Z"
   },
   {
    "duration": 7,
    "start_time": "2022-01-30T20:56:39.784Z"
   },
   {
    "duration": 360,
    "start_time": "2022-01-30T20:56:39.794Z"
   },
   {
    "duration": 389,
    "start_time": "2022-01-30T20:56:40.156Z"
   },
   {
    "duration": 389,
    "start_time": "2022-01-30T20:56:40.547Z"
   },
   {
    "duration": 179,
    "start_time": "2022-01-30T20:56:40.938Z"
   },
   {
    "duration": 234,
    "start_time": "2022-01-30T20:56:41.119Z"
   },
   {
    "duration": 318,
    "start_time": "2022-01-30T20:56:41.355Z"
   },
   {
    "duration": 6,
    "start_time": "2022-01-30T20:56:41.675Z"
   },
   {
    "duration": 364,
    "start_time": "2022-01-30T20:56:41.682Z"
   },
   {
    "duration": 14,
    "start_time": "2022-01-30T20:56:42.047Z"
   },
   {
    "duration": 8,
    "start_time": "2022-01-30T20:56:42.063Z"
   },
   {
    "duration": 387,
    "start_time": "2022-01-30T20:56:42.073Z"
   },
   {
    "duration": 399,
    "start_time": "2022-01-30T20:56:42.462Z"
   },
   {
    "duration": 226,
    "start_time": "2022-01-30T20:56:42.862Z"
   },
   {
    "duration": 258,
    "start_time": "2022-01-30T20:56:43.089Z"
   },
   {
    "duration": 214,
    "start_time": "2022-01-30T20:56:43.349Z"
   },
   {
    "duration": 510,
    "start_time": "2022-01-30T20:56:43.565Z"
   },
   {
    "duration": 199,
    "start_time": "2022-01-30T20:56:44.077Z"
   },
   {
    "duration": 169,
    "start_time": "2022-01-30T20:56:44.277Z"
   },
   {
    "duration": 577,
    "start_time": "2022-01-30T20:56:44.448Z"
   },
   {
    "duration": 1457,
    "start_time": "2022-01-30T20:56:45.028Z"
   },
   {
    "duration": 42,
    "start_time": "2022-01-30T20:56:46.486Z"
   },
   {
    "duration": 8,
    "start_time": "2022-01-30T20:56:46.530Z"
   },
   {
    "duration": 26,
    "start_time": "2022-01-30T20:56:46.560Z"
   },
   {
    "duration": 268,
    "start_time": "2022-01-30T20:56:46.588Z"
   },
   {
    "duration": 209,
    "start_time": "2022-01-30T20:56:46.861Z"
   },
   {
    "duration": 2266,
    "start_time": "2022-01-30T20:56:47.072Z"
   },
   {
    "duration": 252,
    "start_time": "2022-01-30T21:04:45.916Z"
   },
   {
    "duration": 407,
    "start_time": "2022-01-30T21:05:08.018Z"
   },
   {
    "duration": 183,
    "start_time": "2022-01-30T21:05:22.587Z"
   },
   {
    "duration": 1792,
    "start_time": "2022-01-30T21:05:31.549Z"
   },
   {
    "duration": 191,
    "start_time": "2022-01-30T21:06:17.670Z"
   },
   {
    "duration": 2390,
    "start_time": "2022-01-30T21:38:31.826Z"
   },
   {
    "duration": 1263,
    "start_time": "2022-01-30T21:51:40.028Z"
   },
   {
    "duration": 1682,
    "start_time": "2022-01-30T21:52:07.314Z"
   },
   {
    "duration": 1276,
    "start_time": "2022-01-30T21:53:39.084Z"
   },
   {
    "duration": 192948,
    "start_time": "2022-01-30T21:54:44.624Z"
   },
   {
    "duration": 1398,
    "start_time": "2022-01-30T22:03:00.469Z"
   },
   {
    "duration": 513,
    "start_time": "2022-01-30T22:12:09.421Z"
   },
   {
    "duration": 4990,
    "start_time": "2022-01-30T22:13:16.564Z"
   },
   {
    "duration": 497,
    "start_time": "2022-01-30T22:14:56.533Z"
   },
   {
    "duration": 1375,
    "start_time": "2022-01-30T22:19:51.524Z"
   },
   {
    "duration": 1390,
    "start_time": "2022-01-30T22:20:36.141Z"
   },
   {
    "duration": 1237,
    "start_time": "2022-01-30T22:29:02.744Z"
   },
   {
    "duration": 1514,
    "start_time": "2022-01-30T22:29:26.249Z"
   },
   {
    "duration": 1647,
    "start_time": "2022-01-30T22:30:18.758Z"
   },
   {
    "duration": 1732,
    "start_time": "2022-01-30T22:31:44.410Z"
   },
   {
    "duration": 1394,
    "start_time": "2022-01-30T22:32:44.448Z"
   },
   {
    "duration": 51494,
    "start_time": "2022-01-30T22:34:14.632Z"
   },
   {
    "duration": 1249,
    "start_time": "2022-01-30T22:40:17.290Z"
   },
   {
    "duration": 1866,
    "start_time": "2022-01-30T22:41:12.074Z"
   },
   {
    "duration": 1449,
    "start_time": "2022-01-30T22:41:43.870Z"
   },
   {
    "duration": 1475,
    "start_time": "2022-01-30T22:42:06.588Z"
   },
   {
    "duration": 1452,
    "start_time": "2022-01-30T22:42:43.610Z"
   },
   {
    "duration": 1338,
    "start_time": "2022-01-30T22:44:31.924Z"
   },
   {
    "duration": 1235,
    "start_time": "2022-01-30T22:45:16.390Z"
   },
   {
    "duration": 754,
    "start_time": "2022-01-31T14:27:59.064Z"
   },
   {
    "duration": 7,
    "start_time": "2022-01-31T14:27:59.820Z"
   },
   {
    "duration": 6,
    "start_time": "2022-01-31T14:27:59.829Z"
   },
   {
    "duration": 5,
    "start_time": "2022-01-31T14:27:59.837Z"
   },
   {
    "duration": 4,
    "start_time": "2022-01-31T14:27:59.843Z"
   },
   {
    "duration": 6,
    "start_time": "2022-01-31T14:27:59.849Z"
   },
   {
    "duration": 13,
    "start_time": "2022-01-31T14:27:59.857Z"
   },
   {
    "duration": 8,
    "start_time": "2022-01-31T14:27:59.914Z"
   },
   {
    "duration": 5,
    "start_time": "2022-01-31T14:27:59.925Z"
   },
   {
    "duration": 8,
    "start_time": "2022-01-31T14:27:59.932Z"
   },
   {
    "duration": 10,
    "start_time": "2022-01-31T14:27:59.942Z"
   },
   {
    "duration": 5,
    "start_time": "2022-01-31T14:27:59.954Z"
   },
   {
    "duration": 4,
    "start_time": "2022-01-31T14:27:59.961Z"
   },
   {
    "duration": 54,
    "start_time": "2022-01-31T14:27:59.967Z"
   },
   {
    "duration": 6,
    "start_time": "2022-01-31T14:28:00.023Z"
   },
   {
    "duration": 31,
    "start_time": "2022-01-31T14:28:00.030Z"
   },
   {
    "duration": 9,
    "start_time": "2022-01-31T14:28:00.062Z"
   },
   {
    "duration": 16,
    "start_time": "2022-01-31T14:28:00.073Z"
   },
   {
    "duration": 26,
    "start_time": "2022-01-31T14:28:00.090Z"
   },
   {
    "duration": 603,
    "start_time": "2022-01-31T14:28:00.118Z"
   },
   {
    "duration": 5,
    "start_time": "2022-01-31T14:28:00.723Z"
   },
   {
    "duration": 12,
    "start_time": "2022-01-31T14:28:00.729Z"
   },
   {
    "duration": 397,
    "start_time": "2022-01-31T14:28:00.745Z"
   },
   {
    "duration": 471,
    "start_time": "2022-01-31T14:28:01.144Z"
   },
   {
    "duration": 459,
    "start_time": "2022-01-31T14:28:01.617Z"
   },
   {
    "duration": 214,
    "start_time": "2022-01-31T14:28:02.078Z"
   },
   {
    "duration": 285,
    "start_time": "2022-01-31T14:28:02.294Z"
   },
   {
    "duration": 376,
    "start_time": "2022-01-31T14:28:02.581Z"
   },
   {
    "duration": 5,
    "start_time": "2022-01-31T14:28:02.959Z"
   },
   {
    "duration": 411,
    "start_time": "2022-01-31T14:28:02.966Z"
   },
   {
    "duration": 5,
    "start_time": "2022-01-31T14:28:03.378Z"
   },
   {
    "duration": 9,
    "start_time": "2022-01-31T14:28:03.385Z"
   },
   {
    "duration": 429,
    "start_time": "2022-01-31T14:28:03.396Z"
   },
   {
    "duration": 467,
    "start_time": "2022-01-31T14:28:03.827Z"
   },
   {
    "duration": 279,
    "start_time": "2022-01-31T14:28:04.296Z"
   },
   {
    "duration": 303,
    "start_time": "2022-01-31T14:28:04.577Z"
   },
   {
    "duration": 265,
    "start_time": "2022-01-31T14:28:04.882Z"
   },
   {
    "duration": 560,
    "start_time": "2022-01-31T14:28:05.149Z"
   },
   {
    "duration": 233,
    "start_time": "2022-01-31T14:28:05.712Z"
   },
   {
    "duration": 196,
    "start_time": "2022-01-31T14:28:05.946Z"
   },
   {
    "duration": 609,
    "start_time": "2022-01-31T14:28:06.144Z"
   },
   {
    "duration": 1575,
    "start_time": "2022-01-31T14:28:06.755Z"
   },
   {
    "duration": 42,
    "start_time": "2022-01-31T14:28:08.332Z"
   },
   {
    "duration": 9,
    "start_time": "2022-01-31T14:28:08.375Z"
   },
   {
    "duration": 44,
    "start_time": "2022-01-31T14:28:08.385Z"
   },
   {
    "duration": 230,
    "start_time": "2022-01-31T14:28:08.430Z"
   },
   {
    "duration": 219,
    "start_time": "2022-01-31T14:28:08.661Z"
   },
   {
    "duration": 1398,
    "start_time": "2022-01-31T14:28:08.882Z"
   },
   {
    "duration": 791,
    "start_time": "2022-01-31T14:29:54.495Z"
   },
   {
    "duration": 5,
    "start_time": "2022-01-31T14:29:55.287Z"
   },
   {
    "duration": 20,
    "start_time": "2022-01-31T14:29:55.294Z"
   },
   {
    "duration": 5,
    "start_time": "2022-01-31T14:29:55.316Z"
   },
   {
    "duration": 7,
    "start_time": "2022-01-31T14:29:55.322Z"
   },
   {
    "duration": 5,
    "start_time": "2022-01-31T14:29:55.330Z"
   },
   {
    "duration": 14,
    "start_time": "2022-01-31T14:29:55.337Z"
   },
   {
    "duration": 6,
    "start_time": "2022-01-31T14:29:55.354Z"
   },
   {
    "duration": 4,
    "start_time": "2022-01-31T14:29:55.362Z"
   },
   {
    "duration": 8,
    "start_time": "2022-01-31T14:29:55.368Z"
   },
   {
    "duration": 10,
    "start_time": "2022-01-31T14:29:55.413Z"
   },
   {
    "duration": 5,
    "start_time": "2022-01-31T14:29:55.424Z"
   },
   {
    "duration": 6,
    "start_time": "2022-01-31T14:29:55.431Z"
   },
   {
    "duration": 17,
    "start_time": "2022-01-31T14:29:55.438Z"
   },
   {
    "duration": 7,
    "start_time": "2022-01-31T14:29:55.457Z"
   },
   {
    "duration": 60,
    "start_time": "2022-01-31T14:29:55.466Z"
   },
   {
    "duration": 9,
    "start_time": "2022-01-31T14:29:55.528Z"
   },
   {
    "duration": 13,
    "start_time": "2022-01-31T14:29:55.539Z"
   },
   {
    "duration": 14,
    "start_time": "2022-01-31T14:29:55.553Z"
   },
   {
    "duration": 593,
    "start_time": "2022-01-31T14:29:55.569Z"
   },
   {
    "duration": 5,
    "start_time": "2022-01-31T14:29:56.164Z"
   },
   {
    "duration": 6,
    "start_time": "2022-01-31T14:29:56.171Z"
   },
   {
    "duration": 403,
    "start_time": "2022-01-31T14:29:56.181Z"
   },
   {
    "duration": 461,
    "start_time": "2022-01-31T14:29:56.586Z"
   },
   {
    "duration": 451,
    "start_time": "2022-01-31T14:29:57.049Z"
   },
   {
    "duration": 204,
    "start_time": "2022-01-31T14:29:57.502Z"
   },
   {
    "duration": 271,
    "start_time": "2022-01-31T14:29:57.707Z"
   },
   {
    "duration": 369,
    "start_time": "2022-01-31T14:29:57.979Z"
   },
   {
    "duration": 5,
    "start_time": "2022-01-31T14:29:58.350Z"
   },
   {
    "duration": 398,
    "start_time": "2022-01-31T14:29:58.356Z"
   },
   {
    "duration": 6,
    "start_time": "2022-01-31T14:29:58.755Z"
   },
   {
    "duration": 23,
    "start_time": "2022-01-31T14:29:58.762Z"
   },
   {
    "duration": 421,
    "start_time": "2022-01-31T14:29:58.786Z"
   },
   {
    "duration": 450,
    "start_time": "2022-01-31T14:29:59.212Z"
   },
   {
    "duration": 270,
    "start_time": "2022-01-31T14:29:59.663Z"
   },
   {
    "duration": 300,
    "start_time": "2022-01-31T14:29:59.934Z"
   },
   {
    "duration": 249,
    "start_time": "2022-01-31T14:30:00.236Z"
   },
   {
    "duration": 530,
    "start_time": "2022-01-31T14:30:00.487Z"
   },
   {
    "duration": 229,
    "start_time": "2022-01-31T14:30:01.019Z"
   },
   {
    "duration": 197,
    "start_time": "2022-01-31T14:30:01.250Z"
   },
   {
    "duration": 620,
    "start_time": "2022-01-31T14:30:01.449Z"
   },
   {
    "duration": 1560,
    "start_time": "2022-01-31T14:30:02.071Z"
   },
   {
    "duration": 40,
    "start_time": "2022-01-31T14:30:03.633Z"
   },
   {
    "duration": 9,
    "start_time": "2022-01-31T14:30:03.675Z"
   },
   {
    "duration": 46,
    "start_time": "2022-01-31T14:30:03.685Z"
   },
   {
    "duration": 231,
    "start_time": "2022-01-31T14:30:03.733Z"
   },
   {
    "duration": 214,
    "start_time": "2022-01-31T14:30:03.966Z"
   },
   {
    "duration": 1385,
    "start_time": "2022-01-31T14:30:04.182Z"
   },
   {
    "duration": 446,
    "start_time": "2022-02-01T06:49:36.186Z"
   },
   {
    "duration": 1516,
    "start_time": "2022-02-01T06:49:53.144Z"
   },
   {
    "duration": 535,
    "start_time": "2022-02-01T06:50:07.374Z"
   },
   {
    "duration": 442,
    "start_time": "2022-02-01T06:50:19.358Z"
   },
   {
    "duration": 286,
    "start_time": "2022-02-01T06:50:25.873Z"
   },
   {
    "duration": 9497,
    "start_time": "2022-02-01T06:50:31.936Z"
   },
   {
    "duration": 1018,
    "start_time": "2022-02-01T06:50:49.365Z"
   },
   {
    "duration": 8,
    "start_time": "2022-02-01T06:50:50.386Z"
   },
   {
    "duration": 13,
    "start_time": "2022-02-01T06:50:50.398Z"
   },
   {
    "duration": 45,
    "start_time": "2022-02-01T06:50:50.414Z"
   },
   {
    "duration": 7,
    "start_time": "2022-02-01T06:50:50.462Z"
   },
   {
    "duration": 9,
    "start_time": "2022-02-01T06:50:50.472Z"
   },
   {
    "duration": 24,
    "start_time": "2022-02-01T06:50:50.483Z"
   },
   {
    "duration": 51,
    "start_time": "2022-02-01T06:50:50.511Z"
   },
   {
    "duration": 6,
    "start_time": "2022-02-01T06:50:50.565Z"
   },
   {
    "duration": 10,
    "start_time": "2022-02-01T06:50:50.574Z"
   },
   {
    "duration": 11,
    "start_time": "2022-02-01T06:50:50.586Z"
   },
   {
    "duration": 6,
    "start_time": "2022-02-01T06:50:50.599Z"
   },
   {
    "duration": 5,
    "start_time": "2022-02-01T06:50:50.608Z"
   },
   {
    "duration": 32,
    "start_time": "2022-02-01T06:50:50.661Z"
   },
   {
    "duration": 10,
    "start_time": "2022-02-01T06:50:50.695Z"
   },
   {
    "duration": 80,
    "start_time": "2022-02-01T06:50:50.708Z"
   },
   {
    "duration": 19,
    "start_time": "2022-02-01T06:50:50.791Z"
   },
   {
    "duration": 28,
    "start_time": "2022-02-01T06:50:50.813Z"
   },
   {
    "duration": 26,
    "start_time": "2022-02-01T06:50:50.860Z"
   },
   {
    "duration": 1022,
    "start_time": "2022-02-01T06:50:50.889Z"
   },
   {
    "duration": 7,
    "start_time": "2022-02-01T06:50:51.913Z"
   },
   {
    "duration": 36,
    "start_time": "2022-02-01T06:50:51.923Z"
   },
   {
    "duration": 574,
    "start_time": "2022-02-01T06:50:51.964Z"
   },
   {
    "duration": 691,
    "start_time": "2022-02-01T06:50:52.540Z"
   },
   {
    "duration": 670,
    "start_time": "2022-02-01T06:50:53.234Z"
   },
   {
    "duration": 304,
    "start_time": "2022-02-01T06:50:53.907Z"
   },
   {
    "duration": 412,
    "start_time": "2022-02-01T06:50:54.214Z"
   },
   {
    "duration": 563,
    "start_time": "2022-02-01T06:50:54.628Z"
   },
   {
    "duration": 7,
    "start_time": "2022-02-01T06:50:55.194Z"
   },
   {
    "duration": 613,
    "start_time": "2022-02-01T06:50:55.204Z"
   },
   {
    "duration": 7,
    "start_time": "2022-02-01T06:50:55.819Z"
   },
   {
    "duration": 33,
    "start_time": "2022-02-01T06:50:55.828Z"
   },
   {
    "duration": 608,
    "start_time": "2022-02-01T06:50:55.863Z"
   },
   {
    "duration": 686,
    "start_time": "2022-02-01T06:50:56.473Z"
   },
   {
    "duration": 410,
    "start_time": "2022-02-01T06:50:57.161Z"
   },
   {
    "duration": 469,
    "start_time": "2022-02-01T06:50:57.573Z"
   },
   {
    "duration": 382,
    "start_time": "2022-02-01T06:50:58.044Z"
   },
   {
    "duration": 788,
    "start_time": "2022-02-01T06:50:58.428Z"
   },
   {
    "duration": 337,
    "start_time": "2022-02-01T06:50:59.219Z"
   },
   {
    "duration": 291,
    "start_time": "2022-02-01T06:50:59.558Z"
   },
   {
    "duration": 802,
    "start_time": "2022-02-01T06:50:59.860Z"
   },
   {
    "duration": 2249,
    "start_time": "2022-02-01T06:51:00.665Z"
   },
   {
    "duration": 73,
    "start_time": "2022-02-01T06:51:02.917Z"
   },
   {
    "duration": 12,
    "start_time": "2022-02-01T06:51:02.993Z"
   },
   {
    "duration": 59,
    "start_time": "2022-02-01T06:51:03.008Z"
   },
   {
    "duration": 325,
    "start_time": "2022-02-01T06:51:03.070Z"
   },
   {
    "duration": 303,
    "start_time": "2022-02-01T06:51:03.397Z"
   },
   {
    "duration": 2017,
    "start_time": "2022-02-01T06:51:03.703Z"
   }
  ],
  "kernelspec": {
   "display_name": "Python 3 (ipykernel)",
   "language": "python",
   "name": "python3"
  },
  "language_info": {
   "codemirror_mode": {
    "name": "ipython",
    "version": 3
   },
   "file_extension": ".py",
   "mimetype": "text/x-python",
   "name": "python",
   "nbconvert_exporter": "python",
   "pygments_lexer": "ipython3",
   "version": "3.9.7"
  },
  "toc": {
   "base_numbering": 1,
   "nav_menu": {},
   "number_sections": true,
   "sideBar": true,
   "skip_h1_title": true,
   "title_cell": "Содержание",
   "title_sidebar": "Contents",
   "toc_cell": true,
   "toc_position": {},
   "toc_section_display": true,
   "toc_window_display": true
  }
 },
 "nbformat": 4,
 "nbformat_minor": 2
}
