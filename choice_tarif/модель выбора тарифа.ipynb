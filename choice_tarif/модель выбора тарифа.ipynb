{
 "cells": [
  {
   "cell_type": "markdown",
   "metadata": {},
   "source": [
    "# Рекомендация тарифов"
   ]
  },
  {
   "cell_type": "markdown",
   "metadata": {},
   "source": [
    "В нашем распоряжении данные о поведении клиентов, которые уже перешли на эти тарифы. Нужно построить модель для задачи классификации, которая выберет подходящий тариф.\n",
    "\n",
    "Модель с максимально большим значением *accuracy*, нужно довести долю правильных ответов по крайней мере до 0.75. Проверить *accuracy* на тестовой выборке"
   ]
  },
  {
   "cell_type": "markdown",
   "metadata": {},
   "source": [
    "## Открыть и изучить файл"
   ]
  },
  {
   "cell_type": "code",
   "execution_count": 1,
   "metadata": {},
   "outputs": [
    {
     "name": "stdout",
     "output_type": "stream",
     "text": [
      "<class 'pandas.core.frame.DataFrame'>\n",
      "RangeIndex: 3214 entries, 0 to 3213\n",
      "Data columns (total 5 columns):\n",
      "calls       3214 non-null float64\n",
      "minutes     3214 non-null float64\n",
      "messages    3214 non-null float64\n",
      "mb_used     3214 non-null float64\n",
      "is_ultra    3214 non-null int64\n",
      "dtypes: float64(4), int64(1)\n",
      "memory usage: 125.7 KB\n",
      "None\n"
     ]
    }
   ],
   "source": [
    "import pandas as pd\n",
    "from sklearn.tree import DecisionTreeClassifier\n",
    "from sklearn.ensemble import RandomForestClassifier\n",
    "from sklearn.linear_model import LogisticRegression\n",
    "from sklearn.metrics import accuracy_score\n",
    "from sklearn.model_selection import train_test_split\n",
    "\n",
    "# Загрузим данные из файла /datasets/users_behavior.csv. Скачать датасет\n",
    "df = pd.read_csv('/datasets/users_behavior.csv')\n",
    "print(df.info())"
   ]
  },
  {
   "cell_type": "markdown",
   "metadata": {},
   "source": [
    "Пропусков нет, уже хорошо. Названия столбцов нас устраивают.\n",
    "Посмотрим на данные"
   ]
  },
  {
   "cell_type": "code",
   "execution_count": 2,
   "metadata": {},
   "outputs": [
    {
     "name": "stdout",
     "output_type": "stream",
     "text": [
      "   calls  minutes  messages   mb_used  is_ultra\n",
      "0   40.0   311.90      83.0  19915.42         0\n",
      "1   85.0   516.75      56.0  22696.96         0\n",
      "2   77.0   467.66      86.0  21060.45         0\n",
      "3  106.0   745.53      81.0   8437.39         1\n",
      "4   66.0   418.74       1.0  14502.75         0\n"
     ]
    }
   ],
   "source": [
    "print(df.head(5))"
   ]
  },
  {
   "cell_type": "markdown",
   "metadata": {},
   "source": [
    "количество звонков и сообщений можно конечно перевести в целые значения и столбец is_ultra представляет критерий тарифа."
   ]
  },
  {
   "cell_type": "markdown",
   "metadata": {},
   "source": [
    "## Разбить данные на выборки"
   ]
  },
  {
   "cell_type": "markdown",
   "metadata": {},
   "source": [
    "Разделим данные на \"обучающую выборку\", \"валидационную выборку\" и на \"тестовую выборку\" с разбивкой 60/20/20 % соответственно"
   ]
  },
  {
   "cell_type": "code",
   "execution_count": 9,
   "metadata": {},
   "outputs": [],
   "source": [
    "df_train, df_valid_test = train_test_split(df, test_size=0.40, random_state=12345) # разбиваем 60/40\n",
    "features_train = df_train.drop(['is_ultra'], axis=1) # обучающая выборка\n",
    "target_train = df_train['is_ultra'] # целевая выборка\n",
    "\n",
    "df_valid, df_test = train_test_split(df_valid_test, test_size=0.50, random_state=12345) # разбиваем оставшиеся 40% пополам\n",
    "features_valid = df_valid.drop(['is_ultra'], axis=1)\n",
    "target_valid = df_valid['is_ultra']\n",
    "features_test = df_test.drop(['is_ultra'], axis=1)\n",
    "target_test = df_test['is_ultra']"
   ]
  },
  {
   "cell_type": "code",
   "execution_count": 10,
   "metadata": {},
   "outputs": [
    {
     "name": "stdout",
     "output_type": "stream",
     "text": [
      "разммер обучающей выборки (1928, 5)\n",
      "разммер валидационной выборки (643, 5)\n",
      "разммер тестовой выборки (643, 5)\n"
     ]
    }
   ],
   "source": [
    "print('разммер обучающей выборки', df_train.shape)\n",
    "print('разммер валидационной выборки', df_valid.shape)\n",
    "print('разммер тестовой выборки', df_test.shape)"
   ]
  },
  {
   "cell_type": "code",
   "execution_count": null,
   "metadata": {},
   "outputs": [],
   "source": []
  },
  {
   "cell_type": "markdown",
   "metadata": {},
   "source": [
    "Исследуем модель решающего дерева"
   ]
  },
  {
   "cell_type": "code",
   "execution_count": 11,
   "metadata": {},
   "outputs": [
    {
     "name": "stdout",
     "output_type": "stream",
     "text": [
      "0.713841368584759\n"
     ]
    }
   ],
   "source": [
    "model = DecisionTreeClassifier(random_state=12345)\n",
    "model.fit(features_train, target_train)\n",
    "predictions = model.predict(features_valid)\n",
    "print(accuracy_score(target_valid, predictions))"
   ]
  },
  {
   "cell_type": "markdown",
   "metadata": {},
   "source": [
    "Результат 0,71 недостаточен по нашему условию 0,75"
   ]
  },
  {
   "cell_type": "markdown",
   "metadata": {},
   "source": [
    "Проверим на разном количествет глубины \"дерева\" и выберем лучшее"
   ]
  },
  {
   "cell_type": "code",
   "execution_count": 12,
   "metadata": {},
   "outputs": [
    {
     "name": "stdout",
     "output_type": "stream",
     "text": [
      "Accuracy лучшей модели: 0.7853810264385692 глубина лучшей модели: 3\n"
     ]
    }
   ],
   "source": [
    "best_model = None\n",
    "best_result = 0\n",
    "best_depth = 0\n",
    "for depth in range(1, 6):\n",
    "    model = DecisionTreeClassifier(max_depth=depth, random_state=12345)\n",
    "    model.fit(features_train, target_train)\n",
    "    predictions_valid = model.predict(features_valid)\n",
    "    result = accuracy_score(target_valid, predictions_valid)\n",
    "    if result > best_result:\n",
    "        best_model = model\n",
    "        best_result = result\n",
    "        best_depth = depth\n",
    "print(\"Accuracy лучшей модели:\", best_result, \"глубина лучшей модели:\", best_depth) "
   ]
  },
  {
   "cell_type": "markdown",
   "metadata": {},
   "source": [
    "Это уже хорошо, с глубиной 3 стоит использовать эту модель"
   ]
  },
  {
   "cell_type": "markdown",
   "metadata": {},
   "source": [
    "так же посмотрим на модель случайного леса"
   ]
  },
  {
   "cell_type": "code",
   "execution_count": 14,
   "metadata": {},
   "outputs": [
    {
     "name": "stdout",
     "output_type": "stream",
     "text": [
      "Accuracy наилучшей модели на валидационной выборке: 0.8040435458786936\n",
      "Количество деревьев 12\n",
      "Глубина дерева 6\n"
     ]
    }
   ],
   "source": [
    "best_model = None\n",
    "best_result = 0\n",
    "best_est = 0\n",
    "best_depth = 0\n",
    "for est in range(1, 15):\n",
    "    for depth in range (1, 11):\n",
    "        model = RandomForestClassifier(random_state=12345, n_estimators=est, max_depth=depth)\n",
    "        model.fit(features_train, target_train)\n",
    "        result = model.score(features_valid, target_valid)\n",
    "        if result > best_result:\n",
    "            best_model = model\n",
    "            best_result = result\n",
    "            best_est = est\n",
    "            best_depth = depth\n",
    "\n",
    "print(\"Accuracy наилучшей модели на валидационной выборке:\", best_result)\n",
    "print('Количество деревьев', best_est)\n",
    "print('Глубина дерева', best_depth)"
   ]
  },
  {
   "cell_type": "markdown",
   "metadata": {},
   "source": [
    "результат немного выше чем у предыдущей модели хоть и использования 12 деревьев увеличивает время работы модели"
   ]
  },
  {
   "cell_type": "markdown",
   "metadata": {},
   "source": [
    "так же посмотрим на модель логистической регрессии"
   ]
  },
  {
   "cell_type": "code",
   "execution_count": null,
   "metadata": {},
   "outputs": [],
   "source": [
    "model = LogisticRegression(random_state=12345)\n",
    "model.fit(features_train, target_train)\n",
    "result = model.score(features_valid, target_valid)\n",
    "\n",
    "print(\"Accuracy модели логистической регрессии на валидационной выборке:\", result)"
   ]
  },
  {
   "cell_type": "markdown",
   "metadata": {},
   "source": [
    "показатель почти такойже как и у модели дерева что нас вполне устраивает"
   ]
  },
  {
   "cell_type": "markdown",
   "metadata": {},
   "source": [
    "## Проверьте модель на тестовой выборке"
   ]
  },
  {
   "cell_type": "markdown",
   "metadata": {},
   "source": [
    "Лучший результат показала модель \"случайного леса\". Проверим ее работу с выбранным параметром 12 на тестовой выборке."
   ]
  },
  {
   "cell_type": "code",
   "execution_count": 16,
   "metadata": {},
   "outputs": [
    {
     "name": "stdout",
     "output_type": "stream",
     "text": [
      "Accuracy модели логистической регрессии на тестовой выборке: 0.7869362363919129\n"
     ]
    }
   ],
   "source": [
    "model = RandomForestClassifier(random_state=12345, n_estimators=12)\n",
    "model.fit(features_train, target_train)\n",
    "result = model.score(features_test, target_test)\n",
    "print(\"Accuracy модели логистической регрессии на тестовой выборке:\", result)"
   ]
  },
  {
   "cell_type": "markdown",
   "metadata": {},
   "source": [
    "Отличный результат для нашей модели"
   ]
  },
  {
   "cell_type": "markdown",
   "metadata": {},
   "source": [
    "## (бонус) Проверить модели на адекватность"
   ]
  },
  {
   "cell_type": "code",
   "execution_count": 15,
   "metadata": {},
   "outputs": [
    {
     "data": {
      "text/plain": [
       "0.7060653188180405"
      ]
     },
     "execution_count": 15,
     "metadata": {},
     "output_type": "execute_result"
    }
   ],
   "source": [
    "from sklearn.dummy import DummyClassifier\n",
    "model_dc = DummyClassifier(strategy='most_frequent', random_state=12345)\n",
    "model_dc.fit(features_train, target_train)\n",
    "result = model_dc.score(features_valid, target_valid)\n",
    "result"
   ]
  },
  {
   "cell_type": "markdown",
   "metadata": {},
   "source": [
    "Значение Accuracy ниже значения выбранной нами модели что говорит об адекватности нашей модели."
   ]
  },
  {
   "cell_type": "markdown",
   "metadata": {},
   "source": [
    "<b>Вывод:</b> \n",
    "\n",
    "Для определения лучшей модели выбора тарифа разделили данные на 3 выборки: тренировочную, проверочную и тестовую. Проверили работу на 3-х моделях:\n",
    "- Дерево решений,\n",
    "- Слчайный лес,\n",
    "- Линейная регрессия.\n",
    "  \n",
    "По результатам тестирования лучший результат показала модель \"Случайный лес\" с гиперпараметрами 12 деревьев и глубиной дерева 6.\n",
    "    \n",
    "    Проверка выбранной модели на тестовой выборке показала результат качества 0,7869 что вполне устраивает наше условие не меньше 0,75.\n",
    "Эту модель и можно рекомендовать в качестве подбора тарифа."
   ]
  },
  {
   "cell_type": "code",
   "execution_count": null,
   "metadata": {},
   "outputs": [],
   "source": []
  }
 ],
 "metadata": {
  "ExecuteTimeLog": [
   {
    "duration": 760,
    "start_time": "2022-03-01T10:03:45.494Z"
   },
   {
    "duration": 26,
    "start_time": "2022-03-01T10:05:48.703Z"
   },
   {
    "duration": 50,
    "start_time": "2022-03-01T10:05:57.216Z"
   },
   {
    "duration": 27,
    "start_time": "2022-03-01T10:13:45.866Z"
   },
   {
    "duration": 10,
    "start_time": "2022-03-01T10:15:44.798Z"
   },
   {
    "duration": 623,
    "start_time": "2022-03-01T10:20:07.731Z"
   },
   {
    "duration": 39,
    "start_time": "2022-03-01T10:23:36.475Z"
   },
   {
    "duration": 322,
    "start_time": "2022-03-01T11:46:26.058Z"
   },
   {
    "duration": 26,
    "start_time": "2022-03-01T11:46:39.992Z"
   },
   {
    "duration": 10,
    "start_time": "2022-03-01T11:46:44.976Z"
   },
   {
    "duration": 239,
    "start_time": "2022-03-01T11:47:09.685Z"
   },
   {
    "duration": 10,
    "start_time": "2022-03-01T11:47:41.596Z"
   },
   {
    "duration": 34,
    "start_time": "2022-03-01T12:10:36.071Z"
   },
   {
    "duration": 210,
    "start_time": "2022-03-01T12:12:58.157Z"
   },
   {
    "duration": 29,
    "start_time": "2022-03-01T12:13:56.105Z"
   },
   {
    "duration": 230,
    "start_time": "2022-03-01T12:14:05.694Z"
   },
   {
    "duration": 29,
    "start_time": "2022-03-01T12:14:19.226Z"
   },
   {
    "duration": 28,
    "start_time": "2022-03-01T12:48:50.530Z"
   },
   {
    "duration": 232,
    "start_time": "2022-03-01T13:25:04.784Z"
   },
   {
    "duration": 34,
    "start_time": "2022-03-01T13:25:43.822Z"
   },
   {
    "duration": 28,
    "start_time": "2022-03-01T13:33:14.948Z"
   },
   {
    "duration": 30,
    "start_time": "2022-03-01T13:41:02.988Z"
   },
   {
    "duration": 9,
    "start_time": "2022-03-01T13:42:59.359Z"
   },
   {
    "duration": 26,
    "start_time": "2022-03-01T13:43:04.352Z"
   },
   {
    "duration": 26,
    "start_time": "2022-03-01T13:43:20.747Z"
   },
   {
    "duration": 29,
    "start_time": "2022-03-01T13:43:59.440Z"
   },
   {
    "duration": 17,
    "start_time": "2022-03-01T13:44:09.816Z"
   },
   {
    "duration": 10,
    "start_time": "2022-03-01T13:45:31.804Z"
   },
   {
    "duration": 11,
    "start_time": "2022-03-01T13:48:52.240Z"
   },
   {
    "duration": 27,
    "start_time": "2022-03-01T13:48:54.736Z"
   },
   {
    "duration": 10,
    "start_time": "2022-03-01T13:51:09.244Z"
   },
   {
    "duration": 19,
    "start_time": "2022-03-01T13:51:11.511Z"
   },
   {
    "duration": 12,
    "start_time": "2022-03-01T13:51:29.885Z"
   },
   {
    "duration": 20,
    "start_time": "2022-03-01T13:51:32.381Z"
   },
   {
    "duration": 9,
    "start_time": "2022-03-01T13:51:41.095Z"
   },
   {
    "duration": 24,
    "start_time": "2022-03-01T13:51:43.171Z"
   },
   {
    "duration": 414,
    "start_time": "2022-03-02T07:55:10.606Z"
   },
   {
    "duration": 1355,
    "start_time": "2022-03-02T07:55:19.576Z"
   },
   {
    "duration": 13,
    "start_time": "2022-03-02T07:55:24.610Z"
   },
   {
    "duration": 19,
    "start_time": "2022-03-02T07:55:29.738Z"
   },
   {
    "duration": 37,
    "start_time": "2022-03-02T08:40:51.738Z"
   },
   {
    "duration": 34,
    "start_time": "2022-03-02T08:55:24.963Z"
   },
   {
    "duration": 344,
    "start_time": "2022-03-02T12:03:33.152Z"
   },
   {
    "duration": 35,
    "start_time": "2022-03-02T12:04:07.079Z"
   },
   {
    "duration": 21,
    "start_time": "2022-03-02T12:04:12.392Z"
   },
   {
    "duration": 26,
    "start_time": "2022-03-02T12:04:23.858Z"
   },
   {
    "duration": 49,
    "start_time": "2022-03-02T12:04:29.346Z"
   },
   {
    "duration": 333,
    "start_time": "2022-03-02T12:05:22.012Z"
   },
   {
    "duration": 627,
    "start_time": "2022-03-02T12:05:35.390Z"
   },
   {
    "duration": 24,
    "start_time": "2022-03-02T12:06:44.127Z"
   },
   {
    "duration": 25,
    "start_time": "2022-03-02T12:08:33.765Z"
   },
   {
    "duration": 43,
    "start_time": "2022-03-02T12:56:28.693Z"
   },
   {
    "duration": 84,
    "start_time": "2022-03-02T13:50:22.881Z"
   },
   {
    "duration": 822,
    "start_time": "2022-03-02T17:18:46.057Z"
   },
   {
    "duration": 1075,
    "start_time": "2022-03-02T17:19:19.420Z"
   },
   {
    "duration": 7,
    "start_time": "2022-03-02T17:19:20.498Z"
   },
   {
    "duration": 12,
    "start_time": "2022-03-02T17:19:20.508Z"
   },
   {
    "duration": 18,
    "start_time": "2022-03-02T17:19:20.522Z"
   },
   {
    "duration": 50,
    "start_time": "2022-03-02T17:19:20.542Z"
   },
   {
    "duration": 478,
    "start_time": "2022-03-02T17:19:20.594Z"
   },
   {
    "duration": 17,
    "start_time": "2022-03-02T17:19:21.074Z"
   },
   {
    "duration": 59,
    "start_time": "2022-03-02T17:19:21.094Z"
   },
   {
    "duration": 318,
    "start_time": "2022-03-02T17:19:21.178Z"
   },
   {
    "duration": 19,
    "start_time": "2022-03-02T17:20:02.512Z"
   },
   {
    "duration": 1871,
    "start_time": "2022-03-03T04:35:52.413Z"
   },
   {
    "duration": 1158,
    "start_time": "2022-03-03T04:36:04.589Z"
   },
   {
    "duration": 10,
    "start_time": "2022-03-03T04:36:15.886Z"
   },
   {
    "duration": 453,
    "start_time": "2022-03-03T04:36:21.803Z"
   },
   {
    "duration": 264,
    "start_time": "2022-03-03T04:36:32.855Z"
   },
   {
    "duration": 9,
    "start_time": "2022-03-03T04:41:20.658Z"
   },
   {
    "duration": 367,
    "start_time": "2022-03-03T04:41:24.981Z"
   },
   {
    "duration": 255,
    "start_time": "2022-03-03T04:42:40.186Z"
   },
   {
    "duration": 252,
    "start_time": "2022-03-03T04:42:48.768Z"
   },
   {
    "duration": 1024,
    "start_time": "2022-03-03T04:43:29.202Z"
   },
   {
    "duration": 5,
    "start_time": "2022-03-03T04:43:30.227Z"
   },
   {
    "duration": 15,
    "start_time": "2022-03-03T04:43:30.234Z"
   },
   {
    "duration": 313,
    "start_time": "2022-03-03T04:43:30.251Z"
   },
   {
    "duration": 446,
    "start_time": "2022-03-03T04:43:30.120Z"
   },
   {
    "duration": 442,
    "start_time": "2022-03-03T04:43:30.125Z"
   },
   {
    "duration": 441,
    "start_time": "2022-03-03T04:43:30.127Z"
   },
   {
    "duration": 53,
    "start_time": "2022-03-03T04:43:30.515Z"
   },
   {
    "duration": 47,
    "start_time": "2022-03-03T04:43:30.522Z"
   },
   {
    "duration": 44,
    "start_time": "2022-03-03T04:43:30.526Z"
   },
   {
    "duration": 231,
    "start_time": "2022-03-03T04:44:09.095Z"
   },
   {
    "duration": 7,
    "start_time": "2022-03-03T04:46:36.913Z"
   },
   {
    "duration": 11,
    "start_time": "2022-03-03T04:47:02.881Z"
   },
   {
    "duration": 3,
    "start_time": "2022-03-03T04:48:13.188Z"
   },
   {
    "duration": 8,
    "start_time": "2022-03-03T04:50:29.065Z"
   },
   {
    "duration": 4,
    "start_time": "2022-03-03T04:50:38.784Z"
   },
   {
    "duration": 14,
    "start_time": "2022-03-03T04:50:50.311Z"
   },
   {
    "duration": 22,
    "start_time": "2022-03-03T04:50:58.479Z"
   },
   {
    "duration": 2285,
    "start_time": "2022-03-03T06:01:59.504Z"
   },
   {
    "duration": 2272,
    "start_time": "2022-03-03T06:02:15.522Z"
   },
   {
    "duration": 5,
    "start_time": "2022-03-03T06:04:31.051Z"
   },
   {
    "duration": 46,
    "start_time": "2022-03-03T06:04:52.508Z"
   }
  ],
  "kernelspec": {
   "display_name": "Python 3 (ipykernel)",
   "language": "python",
   "name": "python3"
  },
  "language_info": {
   "codemirror_mode": {
    "name": "ipython",
    "version": 3
   },
   "file_extension": ".py",
   "mimetype": "text/x-python",
   "name": "python",
   "nbconvert_exporter": "python",
   "pygments_lexer": "ipython3",
   "version": "3.9.7"
  },
  "toc": {
   "base_numbering": 1,
   "nav_menu": {},
   "number_sections": true,
   "sideBar": true,
   "skip_h1_title": true,
   "title_cell": "Table of Contents",
   "title_sidebar": "Contents",
   "toc_cell": false,
   "toc_position": {},
   "toc_section_display": true,
   "toc_window_display": false
  }
 },
 "nbformat": 4,
 "nbformat_minor": 2
}
