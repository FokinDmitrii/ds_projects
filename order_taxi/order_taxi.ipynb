{
 "cells": [
  {
   "cell_type": "markdown",
   "metadata": {
    "toc": true
   },
   "source": [
    "<h1>Содержание<span class=\"tocSkip\"></span></h1>\n",
    "<div class=\"toc\"><ul class=\"toc-item\"><li><ul class=\"toc-item\"><li><ul class=\"toc-item\"><li>&nbsp;&nbsp;</</font></a></span></li></ul></li><li><span><a href=\"#Подготовка\" data-toc-modified-id=\"Подготовка-1\"><span class=\"toc-item-num\">1&nbsp;&nbsp;</span>Подготовка</a></span></li><li><span><a href=\"#Анализ\" data-toc-modified-id=\"Анализ-2\"><span class=\"toc-item-num\">2&nbsp;&nbsp;</span>Анализ</a></span></li><li><span><a href=\"#Обучение\" data-toc-modified-id=\"Обучение-3\"><span class=\"toc-item-num\">3&nbsp;&nbsp;</span>Обучение</a></span></li><li><span><a href=\"#Тестирование\" data-toc-modified-id=\"Тестирование-4\"><span class=\"toc-item-num\">4&nbsp;&nbsp;</span>Тестирование</a></span></li></ul></div>"
   ]
  },
  {
   "cell_type": "markdown",
   "metadata": {},
   "source": [
    "#  Прогнозирование заказов такси"
   ]
  },
  {
   "cell_type": "markdown",
   "metadata": {},
   "source": [
    "Компания «Чётенькое такси» собрала исторические данные о заказах такси в аэропортах. Чтобы привлекать больше водителей в период пиковой нагрузки, нужно спрогнозировать количество заказов такси на следующий час. Постройте модель для такого предсказания.\n",
    "\n",
    "Значение метрики *RMSE* на тестовой выборке должно быть не больше 48.\n",
    "\n",
    "Вам нужно:\n",
    "\n",
    "1. Загрузить данные и выполнить их ресемплирование по одному часу.\n",
    "2. Проанализировать данные.\n",
    "3. Обучить разные модели с различными гиперпараметрами. Сделать тестовую выборку размером 10% от исходных данных.\n",
    "4. Проверить данные на тестовой выборке и сделать выводы.\n",
    "\n",
    "\n",
    "Данные лежат в файле `taxi.csv`. Количество заказов находится в столбце `num_orders` (от англ. *number of orders*, «число заказов»)."
   ]
  },
  {
   "cell_type": "markdown",
   "metadata": {},
   "source": [
    "## Подготовка"
   ]
  },
  {
   "cell_type": "code",
   "execution_count": 1,
   "metadata": {},
   "outputs": [],
   "source": [
    "import numpy as np\n",
    "import pandas as pd\n",
    "\n",
    "import matplotlib.pyplot as plt\n",
    "from statsmodels.tsa.seasonal import seasonal_decompose\n",
    "\n",
    "from sklearn.model_selection import train_test_split\n",
    "from sklearn.linear_model import LinearRegression\n",
    "from sklearn.tree import DecisionTreeRegressor\n",
    "from sklearn.ensemble import RandomForestRegressor\n",
    "\n",
    "from sklearn.model_selection import cross_val_score\n",
    "from sklearn.metrics import mean_absolute_error\n",
    "from sklearn.metrics import mean_squared_error\n",
    "from sklearn.metrics import make_scorer\n",
    "\n",
    "from sklearn.model_selection import GridSearchCV\n",
    "from sklearn.model_selection import TimeSeriesSplit\n",
    "\n",
    "import warnings\n",
    "warnings.filterwarnings('ignore')"
   ]
  },
  {
   "cell_type": "code",
   "execution_count": 2,
   "metadata": {},
   "outputs": [
    {
     "name": "stdout",
     "output_type": "stream",
     "text": [
      "<class 'pandas.core.frame.DataFrame'>\n",
      "DatetimeIndex: 26496 entries, 2018-03-01 00:00:00 to 2018-08-31 23:50:00\n",
      "Data columns (total 1 columns):\n",
      " #   Column      Non-Null Count  Dtype\n",
      "---  ------      --------------  -----\n",
      " 0   num_orders  26496 non-null  int64\n",
      "dtypes: int64(1)\n",
      "memory usage: 414.0 KB\n"
     ]
    },
    {
     "data": {
      "text/plain": [
       "(         num_orders\n",
       " count  26496.000000\n",
       " mean      14.070463\n",
       " std        9.211330\n",
       " min        0.000000\n",
       " 25%        8.000000\n",
       " 50%       13.000000\n",
       " 75%       19.000000\n",
       " max      119.000000,\n",
       " None)"
      ]
     },
     "execution_count": 2,
     "metadata": {},
     "output_type": "execute_result"
    }
   ],
   "source": [
    "#df = pd.read_csv('/datasets/autos.csv', parse_dates=['DateCreated', 'LastSeen', 'DateCrawled'])\n",
    "df = pd.read_csv('/datasets/taxi.csv', index_col=[0], parse_dates=[0])\n",
    "df.describe(), df.info()\n"
   ]
  },
  {
   "cell_type": "code",
   "execution_count": 3,
   "metadata": {},
   "outputs": [
    {
     "data": {
      "text/html": [
       "<div>\n",
       "<style scoped>\n",
       "    .dataframe tbody tr th:only-of-type {\n",
       "        vertical-align: middle;\n",
       "    }\n",
       "\n",
       "    .dataframe tbody tr th {\n",
       "        vertical-align: top;\n",
       "    }\n",
       "\n",
       "    .dataframe thead th {\n",
       "        text-align: right;\n",
       "    }\n",
       "</style>\n",
       "<table border=\"1\" class=\"dataframe\">\n",
       "  <thead>\n",
       "    <tr style=\"text-align: right;\">\n",
       "      <th></th>\n",
       "      <th>num_orders</th>\n",
       "    </tr>\n",
       "    <tr>\n",
       "      <th>datetime</th>\n",
       "      <th></th>\n",
       "    </tr>\n",
       "  </thead>\n",
       "  <tbody>\n",
       "    <tr>\n",
       "      <th>2018-03-01 00:00:00</th>\n",
       "      <td>9</td>\n",
       "    </tr>\n",
       "    <tr>\n",
       "      <th>2018-03-01 00:10:00</th>\n",
       "      <td>14</td>\n",
       "    </tr>\n",
       "    <tr>\n",
       "      <th>2018-03-01 00:20:00</th>\n",
       "      <td>28</td>\n",
       "    </tr>\n",
       "    <tr>\n",
       "      <th>2018-03-01 00:30:00</th>\n",
       "      <td>20</td>\n",
       "    </tr>\n",
       "    <tr>\n",
       "      <th>2018-03-01 00:40:00</th>\n",
       "      <td>32</td>\n",
       "    </tr>\n",
       "  </tbody>\n",
       "</table>\n",
       "</div>"
      ],
      "text/plain": [
       "                     num_orders\n",
       "datetime                       \n",
       "2018-03-01 00:00:00           9\n",
       "2018-03-01 00:10:00          14\n",
       "2018-03-01 00:20:00          28\n",
       "2018-03-01 00:30:00          20\n",
       "2018-03-01 00:40:00          32"
      ]
     },
     "execution_count": 3,
     "metadata": {},
     "output_type": "execute_result"
    }
   ],
   "source": [
    "df.head()"
   ]
  },
  {
   "cell_type": "markdown",
   "metadata": {},
   "source": [
    "Пропусков нет, столбец datetime сделаем индексами и проведем ресемплирование по 1 часу"
   ]
  },
  {
   "cell_type": "code",
   "execution_count": 4,
   "metadata": {},
   "outputs": [
    {
     "data": {
      "text/html": [
       "<div>\n",
       "<style scoped>\n",
       "    .dataframe tbody tr th:only-of-type {\n",
       "        vertical-align: middle;\n",
       "    }\n",
       "\n",
       "    .dataframe tbody tr th {\n",
       "        vertical-align: top;\n",
       "    }\n",
       "\n",
       "    .dataframe thead th {\n",
       "        text-align: right;\n",
       "    }\n",
       "</style>\n",
       "<table border=\"1\" class=\"dataframe\">\n",
       "  <thead>\n",
       "    <tr style=\"text-align: right;\">\n",
       "      <th></th>\n",
       "      <th>num_orders</th>\n",
       "    </tr>\n",
       "    <tr>\n",
       "      <th>datetime</th>\n",
       "      <th></th>\n",
       "    </tr>\n",
       "  </thead>\n",
       "  <tbody>\n",
       "    <tr>\n",
       "      <th>2018-03-01 00:00:00</th>\n",
       "      <td>124</td>\n",
       "    </tr>\n",
       "    <tr>\n",
       "      <th>2018-03-01 01:00:00</th>\n",
       "      <td>85</td>\n",
       "    </tr>\n",
       "    <tr>\n",
       "      <th>2018-03-01 02:00:00</th>\n",
       "      <td>71</td>\n",
       "    </tr>\n",
       "    <tr>\n",
       "      <th>2018-03-01 03:00:00</th>\n",
       "      <td>66</td>\n",
       "    </tr>\n",
       "    <tr>\n",
       "      <th>2018-03-01 04:00:00</th>\n",
       "      <td>43</td>\n",
       "    </tr>\n",
       "  </tbody>\n",
       "</table>\n",
       "</div>"
      ],
      "text/plain": [
       "                     num_orders\n",
       "datetime                       \n",
       "2018-03-01 00:00:00         124\n",
       "2018-03-01 01:00:00          85\n",
       "2018-03-01 02:00:00          71\n",
       "2018-03-01 03:00:00          66\n",
       "2018-03-01 04:00:00          43"
      ]
     },
     "execution_count": 4,
     "metadata": {},
     "output_type": "execute_result"
    }
   ],
   "source": [
    "#\n",
    "df.sort_index(inplace=True)\n",
    "df = df.resample('1H').sum()\n",
    "df.head()"
   ]
  },
  {
   "cell_type": "code",
   "execution_count": 5,
   "metadata": {},
   "outputs": [
    {
     "data": {
      "text/plain": [
       "<AxesSubplot:xlabel='datetime'>"
      ]
     },
     "execution_count": 5,
     "metadata": {},
     "output_type": "execute_result"
    },
    {
     "data": {
      "image/png": "[encoded data removed]",
      "text/plain": [
       "<Figure size 1224x216 with 1 Axes>"
      ]
     },
     "metadata": {
      "needs_background": "light"
     },
     "output_type": "display_data"
    }
   ],
   "source": [
    "df.plot(figsize=(17, 3))"
   ]
  },
  {
   "cell_type": "markdown",
   "metadata": {},
   "source": [
    "## Анализ"
   ]
  },
  {
   "cell_type": "code",
   "execution_count": 6,
   "metadata": {},
   "outputs": [
    {
     "data": {
      "image/png": "[encoded data removed]",
      "text/plain": [
       "<Figure size 1152x504 with 3 Axes>"
      ]
     },
     "metadata": {
      "needs_background": "light"
     },
     "output_type": "display_data"
    }
   ],
   "source": [
    "# проведем декомпозицию данных\n",
    "decomposed = seasonal_decompose(df)\n",
    "plt.figure(figsize=(16, 7))\n",
    "plt.subplot(311)\n",
    "decomposed.trend.plot(ax=plt.gca())\n",
    "plt.title('Trend')\n",
    "plt.subplot(312)\n",
    "decomposed.seasonal.plot(ax=plt.gca()) \n",
    "plt.title('Seasonality')\n",
    "plt.subplot(313)\n",
    "decomposed.resid.plot(ax=plt.gca()) \n",
    "plt.title('Residuals')\n",
    "plt.tight_layout()"
   ]
  },
  {
   "cell_type": "markdown",
   "metadata": {},
   "source": [
    "Посмотрим на распределение заказов по часаv за неделю"
   ]
  },
  {
   "cell_type": "code",
   "execution_count": 7,
   "metadata": {},
   "outputs": [
    {
     "data": {
      "image/png": "[encoded data removed]",
      "text/plain": [
       "<Figure size 1152x504 with 1 Axes>"
      ]
     },
     "metadata": {
      "needs_background": "light"
     },
     "output_type": "display_data"
    }
   ],
   "source": [
    "df['2018-03-01 00':'2018-03-08 00'].plot(figsize=(16, 7));"
   ]
  },
  {
   "cell_type": "code",
   "execution_count": 8,
   "metadata": {},
   "outputs": [
    {
     "data": {
      "image/png": "[encoded data removed]",
      "text/plain": [
       "<Figure size 1152x504 with 1 Axes>"
      ]
     },
     "metadata": {
      "needs_background": "light"
     },
     "output_type": "display_data"
    }
   ],
   "source": [
    "# отобразим скользящее среднее\n",
    "df['2018-03-01 00':'2018-03-08 00'].rolling(5).mean().plot(figsize=(16, 7));"
   ]
  },
  {
   "cell_type": "markdown",
   "metadata": {},
   "source": [
    "наблюдаем периодичность данных, проверим тренды и сезоны"
   ]
  },
  {
   "cell_type": "markdown",
   "metadata": {},
   "source": [
    "Так мы видим:\n",
    "* общее увеличение и падение количества заказов в зависимости от выходных и празднечных дней\n",
    "* зависимость времени суток на количество заказов\n",
    "* остаток декомпозиции от общего количества заказов которая не объясняется ни временем суток ни днем месяца или недели"
   ]
  },
  {
   "cell_type": "markdown",
   "metadata": {},
   "source": [
    "## Обучение"
   ]
  },
  {
   "cell_type": "code",
   "execution_count": 9,
   "metadata": {},
   "outputs": [
    {
     "name": "stdout",
     "output_type": "stream",
     "text": [
      "2018-03-01 00:00:00 2018-08-13 13:00:00\n",
      "2018-08-13 14:00:00 2018-08-31 23:00:00\n"
     ]
    }
   ],
   "source": [
    "# разделим данные на тренировочную и проверочную без перемешивания\n",
    "train, test = train_test_split(df, shuffle=False, test_size=0.1)\n",
    "\n",
    "print(train.index.min(), train.index.max())\n",
    "print(test.index.min(), test.index.max())"
   ]
  },
  {
   "cell_type": "markdown",
   "metadata": {},
   "source": [
    "попробуем спрогнозировать количество заказав на следующий час с помощью константы - среднего значения и оценим качество"
   ]
  },
  {
   "cell_type": "code",
   "execution_count": 10,
   "metadata": {},
   "outputs": [
    {
     "name": "stdout",
     "output_type": "stream",
     "text": [
      "Среднее количество заказов в час: 139.55656108597285\n",
      "Точность MAE: 70.7918552036199\n"
     ]
    }
   ],
   "source": [
    "print(\"Среднее количество заказов в час:\", test['num_orders'].mean())\n",
    "\n",
    "pred_median = np.ones(test.shape) * train['num_orders'].median()\n",
    "\n",
    "print(\"Точность MAE:\", mean_absolute_error(test, pred_median))"
   ]
  },
  {
   "cell_type": "markdown",
   "metadata": {},
   "source": [
    "попробуем спрогнозировать количество заказав на следующий час с помощью предыдущего значения и оценим качество"
   ]
  },
  {
   "cell_type": "code",
   "execution_count": 11,
   "metadata": {},
   "outputs": [
    {
     "name": "stdout",
     "output_type": "stream",
     "text": [
      "MAE: 44.97285067873303\n"
     ]
    }
   ],
   "source": [
    "pred_previous = test.shift()\n",
    "pred_previous.iloc[0] = train.iloc[-1]\n",
    "print(\"MAE:\", mean_absolute_error(test,pred_previous))"
   ]
  },
  {
   "cell_type": "markdown",
   "metadata": {},
   "source": [
    "качество предсказаний по предыдущему значению лучше\\\n",
    "Для использования моделей нам необходимы признаки. Создадим свои признаки"
   ]
  },
  {
   "cell_type": "code",
   "execution_count": 12,
   "metadata": {
    "scrolled": true
   },
   "outputs": [
    {
     "name": "stdout",
     "output_type": "stream",
     "text": [
      "<class 'pandas.core.frame.DataFrame'>\n",
      "DatetimeIndex: 4412 entries, 2018-03-01 04:00:00 to 2018-08-31 23:00:00\n",
      "Freq: H\n",
      "Data columns (total 11 columns):\n",
      " #   Column        Non-Null Count  Dtype  \n",
      "---  ------        --------------  -----  \n",
      " 0   num_orders    4412 non-null   int64  \n",
      " 1   year          4412 non-null   int64  \n",
      " 2   month         4412 non-null   int64  \n",
      " 3   day           4412 non-null   int64  \n",
      " 4   dayofweek     4412 non-null   int64  \n",
      " 5   hour          4412 non-null   int64  \n",
      " 6   lag_1         4412 non-null   float64\n",
      " 7   lag_2         4412 non-null   float64\n",
      " 8   lag_3         4412 non-null   float64\n",
      " 9   lag_4         4412 non-null   float64\n",
      " 10  rolling_mean  4412 non-null   float64\n",
      "dtypes: float64(5), int64(6)\n",
      "memory usage: 413.6 KB\n"
     ]
    }
   ],
   "source": [
    "def make_features(df, max_lag, rolling_mean_size):\n",
    "    df1 = df.copy()\n",
    "    df1['year'] = df1.index.year\n",
    "    df1['month'] = df1.index.month\n",
    "    df1['day'] = df1.index.day\n",
    "    df1['dayofweek'] = df1.index.dayofweek\n",
    "    df1['hour'] = df1.index.hour\n",
    "    \n",
    "    for lag in range(1, max_lag + 1):\n",
    "        df1['lag_{}'.format(lag)] = df1['num_orders'].shift(lag)\n",
    "\n",
    "    df1['rolling_mean'] = df1['num_orders'].shift().rolling(rolling_mean_size).mean()\n",
    "    df1 = df1.dropna()\n",
    "    return df1\n",
    "\n",
    "df_filled = make_features(df, 4, 4)\n",
    "df_filled.info()"
   ]
  },
  {
   "cell_type": "code",
   "execution_count": 13,
   "metadata": {},
   "outputs": [
    {
     "data": {
      "text/html": [
       "<div>\n",
       "<style scoped>\n",
       "    .dataframe tbody tr th:only-of-type {\n",
       "        vertical-align: middle;\n",
       "    }\n",
       "\n",
       "    .dataframe tbody tr th {\n",
       "        vertical-align: top;\n",
       "    }\n",
       "\n",
       "    .dataframe thead th {\n",
       "        text-align: right;\n",
       "    }\n",
       "</style>\n",
       "<table border=\"1\" class=\"dataframe\">\n",
       "  <thead>\n",
       "    <tr style=\"text-align: right;\">\n",
       "      <th></th>\n",
       "      <th>num_orders</th>\n",
       "      <th>year</th>\n",
       "      <th>month</th>\n",
       "      <th>day</th>\n",
       "      <th>dayofweek</th>\n",
       "      <th>hour</th>\n",
       "      <th>lag_1</th>\n",
       "      <th>lag_2</th>\n",
       "      <th>lag_3</th>\n",
       "      <th>lag_4</th>\n",
       "      <th>rolling_mean</th>\n",
       "    </tr>\n",
       "    <tr>\n",
       "      <th>datetime</th>\n",
       "      <th></th>\n",
       "      <th></th>\n",
       "      <th></th>\n",
       "      <th></th>\n",
       "      <th></th>\n",
       "      <th></th>\n",
       "      <th></th>\n",
       "      <th></th>\n",
       "      <th></th>\n",
       "      <th></th>\n",
       "      <th></th>\n",
       "    </tr>\n",
       "  </thead>\n",
       "  <tbody>\n",
       "    <tr>\n",
       "      <th>2018-03-01 04:00:00</th>\n",
       "      <td>43</td>\n",
       "      <td>2018</td>\n",
       "      <td>3</td>\n",
       "      <td>1</td>\n",
       "      <td>3</td>\n",
       "      <td>4</td>\n",
       "      <td>66.0</td>\n",
       "      <td>71.0</td>\n",
       "      <td>85.0</td>\n",
       "      <td>124.0</td>\n",
       "      <td>86.50</td>\n",
       "    </tr>\n",
       "    <tr>\n",
       "      <th>2018-03-01 05:00:00</th>\n",
       "      <td>6</td>\n",
       "      <td>2018</td>\n",
       "      <td>3</td>\n",
       "      <td>1</td>\n",
       "      <td>3</td>\n",
       "      <td>5</td>\n",
       "      <td>43.0</td>\n",
       "      <td>66.0</td>\n",
       "      <td>71.0</td>\n",
       "      <td>85.0</td>\n",
       "      <td>66.25</td>\n",
       "    </tr>\n",
       "    <tr>\n",
       "      <th>2018-03-01 06:00:00</th>\n",
       "      <td>12</td>\n",
       "      <td>2018</td>\n",
       "      <td>3</td>\n",
       "      <td>1</td>\n",
       "      <td>3</td>\n",
       "      <td>6</td>\n",
       "      <td>6.0</td>\n",
       "      <td>43.0</td>\n",
       "      <td>66.0</td>\n",
       "      <td>71.0</td>\n",
       "      <td>46.50</td>\n",
       "    </tr>\n",
       "    <tr>\n",
       "      <th>2018-03-01 07:00:00</th>\n",
       "      <td>15</td>\n",
       "      <td>2018</td>\n",
       "      <td>3</td>\n",
       "      <td>1</td>\n",
       "      <td>3</td>\n",
       "      <td>7</td>\n",
       "      <td>12.0</td>\n",
       "      <td>6.0</td>\n",
       "      <td>43.0</td>\n",
       "      <td>66.0</td>\n",
       "      <td>31.75</td>\n",
       "    </tr>\n",
       "    <tr>\n",
       "      <th>2018-03-01 08:00:00</th>\n",
       "      <td>34</td>\n",
       "      <td>2018</td>\n",
       "      <td>3</td>\n",
       "      <td>1</td>\n",
       "      <td>3</td>\n",
       "      <td>8</td>\n",
       "      <td>15.0</td>\n",
       "      <td>12.0</td>\n",
       "      <td>6.0</td>\n",
       "      <td>43.0</td>\n",
       "      <td>19.00</td>\n",
       "    </tr>\n",
       "  </tbody>\n",
       "</table>\n",
       "</div>"
      ],
      "text/plain": [
       "                     num_orders  year  month  day  dayofweek  hour  lag_1  \\\n",
       "datetime                                                                    \n",
       "2018-03-01 04:00:00          43  2018      3    1          3     4   66.0   \n",
       "2018-03-01 05:00:00           6  2018      3    1          3     5   43.0   \n",
       "2018-03-01 06:00:00          12  2018      3    1          3     6    6.0   \n",
       "2018-03-01 07:00:00          15  2018      3    1          3     7   12.0   \n",
       "2018-03-01 08:00:00          34  2018      3    1          3     8   15.0   \n",
       "\n",
       "                     lag_2  lag_3  lag_4  rolling_mean  \n",
       "datetime                                                \n",
       "2018-03-01 04:00:00   71.0   85.0  124.0         86.50  \n",
       "2018-03-01 05:00:00   66.0   71.0   85.0         66.25  \n",
       "2018-03-01 06:00:00   43.0   66.0   71.0         46.50  \n",
       "2018-03-01 07:00:00    6.0   43.0   66.0         31.75  \n",
       "2018-03-01 08:00:00   12.0    6.0   43.0         19.00  "
      ]
     },
     "execution_count": 13,
     "metadata": {},
     "output_type": "execute_result"
    }
   ],
   "source": [
    "\n",
    "df_filled.head()"
   ]
  },
  {
   "cell_type": "code",
   "execution_count": 14,
   "metadata": {},
   "outputs": [],
   "source": [
    "# разделим данные\n",
    "def features_target(df):\n",
    "    \n",
    "    train, test = train_test_split(df, shuffle=False, test_size=0.1)\n",
    "    train_features = train.drop(['num_orders'], axis=1)\n",
    "    train_target = train['num_orders']\n",
    "    test_features = test.drop(['num_orders'], axis=1)\n",
    "    test_target = test['num_orders']\n",
    "    return train_features, train_target, test_features, test_target\n"
   ]
  },
  {
   "cell_type": "markdown",
   "metadata": {},
   "source": [
    "## Тестирование"
   ]
  },
  {
   "cell_type": "markdown",
   "metadata": {},
   "source": [
    "Протестируем теорию на трех моделях `LinearRegression`, `import DecisionTreeRegressor`, `RandomForestRegressor`"
   ]
  },
  {
   "cell_type": "code",
   "execution_count": 15,
   "metadata": {},
   "outputs": [],
   "source": [
    "# создадим функцию предсказания\n",
    "def prediction(model, df_filled):\n",
    "    \n",
    "    train_features, train_target, test_features, test_target = features_target(df_filled)\n",
    "    \n",
    "    model.fit(train_features, train_target)\n",
    "    train_predict = model.predict(train_features)\n",
    "    test_predict = model.predict(test_features)\n",
    "    \n",
    "    return train_predict, test_predict"
   ]
  },
  {
   "cell_type": "code",
   "execution_count": 16,
   "metadata": {},
   "outputs": [
    {
     "name": "stdout",
     "output_type": "stream",
     "text": [
      "MAE тестовой выборки: 39.85220938462394\n",
      "RMSE тестовой выборки:  52.57450685373692\n"
     ]
    }
   ],
   "source": [
    "# LinearRegression\n",
    "model=LinearRegression()\n",
    "train_features, train_target, test_features, test_target = features_target(df_filled)\n",
    "train_predict, test_predict = prediction(model, df_filled)\n",
    "print(\"MAE тестовой выборки:\", mean_absolute_error(test_target, test_predict))\n",
    "print(\"RMSE тестовой выборки: \", mean_squared_error(test_target, test_predict, squared= False))"
   ]
  },
  {
   "cell_type": "code",
   "execution_count": 17,
   "metadata": {},
   "outputs": [
    {
     "name": "stdout",
     "output_type": "stream",
     "text": [
      "RMSE: 34.21220504558257 max_lag: 2 max_rolling 4\n"
     ]
    }
   ],
   "source": [
    "# подбор количества параметров\n",
    "tscv = TimeSeriesSplit()\n",
    "max_lag = 0\n",
    "max_rolling = 0\n",
    "best_rmse = 100\n",
    "\n",
    "for lag in range(1,7):\n",
    "    for rolling in range(2, 22):\n",
    "        df_filled = make_features(df, lag, rolling)\n",
    "        \n",
    "        rmse = []\n",
    "        for train_index, test_index in tscv.split(df_filled):\n",
    "            cv_train, cv_test = df_filled.iloc[train_index], df_filled.iloc[test_index]\n",
    "            cv_train_features = cv_train.drop(['num_orders'], axis=1)\n",
    "            cv_train_target = cv_train['num_orders']\n",
    "            cv_test_features = cv_test.drop(['num_orders'], axis=1)\n",
    "            cv_test_target = cv_test['num_orders']\n",
    "    \n",
    "            model=LinearRegression()\n",
    "            model.fit(cv_train_features, cv_train_target)\n",
    "    \n",
    "            predictions = model.predict(cv_test_features)\n",
    "    \n",
    "            rmse.append(mean_squared_error(cv_test_target, predictions, squared= False))\n",
    "    \n",
    "        lst_rmse = np.average(rmse)\n",
    "        \n",
    "        if lst_rmse < best_rmse:\n",
    "            best_rmse = lst_rmse\n",
    "            max_lag = lag\n",
    "            max_rolling = rolling\n",
    "print(\"RMSE:\", best_rmse, \"max_lag:\", max_lag, \"max_rolling\", max_rolling)"
   ]
  },
  {
   "cell_type": "markdown",
   "metadata": {},
   "source": [
    "лучшее значение показателей max_lag: 2 max_rolling 4"
   ]
  },
  {
   "cell_type": "code",
   "execution_count": 18,
   "metadata": {},
   "outputs": [
    {
     "name": "stdout",
     "output_type": "stream",
     "text": [
      "RMSE: 49.65386981223434\n"
     ]
    }
   ],
   "source": [
    "# DecisionTreeRegressor\n",
    "df_filled = make_features(df, 2, 4)\n",
    "train_features, train_target, test_features, test_target = features_target(df_filled)\n",
    "model = DecisionTreeRegressor()\n",
    "train_predict, test_predict = prediction(model, df_filled)\n",
    "print(\"RMSE:\",mean_squared_error(test_target, test_predict, squared= False))"
   ]
  },
  {
   "cell_type": "code",
   "execution_count": 19,
   "metadata": {},
   "outputs": [
    {
     "name": "stdout",
     "output_type": "stream",
     "text": [
      "Дерево решений с лучшей глубиной max_depth = 7 кроссвалидация модели:  -30.7654702339611\n",
      "RMSE: 54.04101171327328\n"
     ]
    }
   ],
   "source": [
    "max_depth = 0\n",
    "best_rmse = 100\n",
    "cvs = -1000\n",
    "for depth in range(1, 20):\n",
    "    model_DTR = DecisionTreeRegressor(max_depth=depth, random_state=12345)\n",
    "    model_DTR.fit(train_features, train_target)\n",
    "    test_predict = model_DTR.predict(test_features)\n",
    "    score = cross_val_score(model_DTR, train_features, train_target, scoring = 'neg_root_mean_squared_error', cv=3).mean()\n",
    "    \n",
    "    if score > cvs:\n",
    "        max_depth = depth\n",
    "        cvs = score\n",
    "        best_rmse = mean_squared_error(test_target, test_predict, squared= False)\n",
    "print(\"Дерево решений с лучшей глубиной max_depth =\", max_depth, \"кроссвалидация модели: \", cvs)\n",
    "print(\"RMSE:\",best_rmse)"
   ]
  },
  {
   "cell_type": "markdown",
   "metadata": {},
   "source": [
    "лучшее количество деревьев для модели DecisionTreeRegressor = 7"
   ]
  },
  {
   "cell_type": "code",
   "execution_count": 20,
   "metadata": {},
   "outputs": [
    {
     "name": "stdout",
     "output_type": "stream",
     "text": [
      "[   0    1    2 ... 1469 1470 1471] [1472 1473 1474 ... 2939 2940 2941]\n",
      "[   0    1    2 ... 2939 2940 2941] [2942 2943 2944 ... 4409 4410 4411]\n",
      "Лучшее значение для случайного леса: 29.244048157797568 при значениях гиперпараметров: {'max_depth': 13, 'n_estimators': 70}\n"
     ]
    }
   ],
   "source": [
    "# RandomForestRegressor\n",
    "tscv = TimeSeriesSplit(n_splits=2)\n",
    "for train, test in tscv.split(df_filled):\n",
    "    print(train, test)\n",
    "param_grid = {'max_depth': range(10, 22), 'n_estimators': range(10, 81, 10)}\n",
    "model_RFR = RandomForestRegressor(random_state=12345)\n",
    "my_cv = TimeSeriesSplit(n_splits=2)\n",
    "search = GridSearchCV(estimator=model_RFR, param_grid=param_grid, cv=my_cv, scoring = 'neg_root_mean_squared_error')\n",
    "search.fit(train_features, train_target)\n",
    "\n",
    "print('Лучшее значение для случайного леса: {} при значениях гиперпараметров: {}'.format(-search.best_score_, search.best_params_))\n"
   ]
  },
  {
   "cell_type": "markdown",
   "metadata": {},
   "source": [
    "модель RandomForestRegressor показала лучшие результаты с параметрами: глубина дерева = 19 и количество деревьев = 70"
   ]
  },
  {
   "cell_type": "code",
   "execution_count": 21,
   "metadata": {},
   "outputs": [
    {
     "name": "stdout",
     "output_type": "stream",
     "text": [
      "RMSE: 48.230610196808854\n"
     ]
    }
   ],
   "source": [
    "model_RFR = RandomForestRegressor(max_depth=13, n_estimators=70, random_state=12345)\n",
    "model_RFR.fit(train_features, train_target)\n",
    "test_predict = model_RFR.predict(test_features)\n",
    "print(\"RMSE:\",mean_squared_error(test_target, test_predict, squared= False))"
   ]
  },
  {
   "cell_type": "code",
   "execution_count": 24,
   "metadata": {},
   "outputs": [
    {
     "data": {
      "text/html": [
       "<div>\n",
       "<style scoped>\n",
       "    .dataframe tbody tr th:only-of-type {\n",
       "        vertical-align: middle;\n",
       "    }\n",
       "\n",
       "    .dataframe tbody tr th {\n",
       "        vertical-align: top;\n",
       "    }\n",
       "\n",
       "    .dataframe thead th {\n",
       "        text-align: right;\n",
       "    }\n",
       "</style>\n",
       "<table border=\"1\" class=\"dataframe\">\n",
       "  <thead>\n",
       "    <tr style=\"text-align: right;\">\n",
       "      <th></th>\n",
       "      <th>Точночть</th>\n",
       "    </tr>\n",
       "  </thead>\n",
       "  <tbody>\n",
       "    <tr>\n",
       "      <th>LinearRegression</th>\n",
       "      <td>50.1</td>\n",
       "    </tr>\n",
       "    <tr>\n",
       "      <th>DecisionTreeRegressor</th>\n",
       "      <td>54.04</td>\n",
       "    </tr>\n",
       "    <tr>\n",
       "      <th>RandomForestRegressor</th>\n",
       "      <td>47.23</td>\n",
       "    </tr>\n",
       "  </tbody>\n",
       "</table>\n",
       "</div>"
      ],
      "text/plain": [
       "                      Точночть\n",
       "LinearRegression          50.1\n",
       "DecisionTreeRegressor    54.04\n",
       "RandomForestRegressor    47.23"
      ]
     },
     "metadata": {},
     "output_type": "display_data"
    }
   ],
   "source": [
    "result=pd.DataFrame([{'Точночть':'50.1'}\n",
    "                     , {'Точночть':'54.04'}\n",
    "                     , {'Точночть':'47.23'}],\n",
    "                    index=['LinearRegression', 'DecisionTreeRegressor', 'RandomForestRegressor'])\n",
    "display(result)"
   ]
  },
  {
   "cell_type": "code",
   "execution_count": 23,
   "metadata": {},
   "outputs": [
    {
     "data": {
      "text/plain": [
       "<AxesSubplot:xlabel='datetime'>"
      ]
     },
     "execution_count": 23,
     "metadata": {},
     "output_type": "execute_result"
    },
    {
     "data": {
      "image/png": "[encoded data removed]",
      "text/plain": [
       "<Figure size 1152x504 with 1 Axes>"
      ]
     },
     "metadata": {
      "needs_background": "light"
     },
     "output_type": "display_data"
    }
   ],
   "source": [
    "result=pd.DataFrame({'target':test_target, 'predict':test_predict})\n",
    "result.plot(figsize=(16, 7))"
   ]
  },
  {
   "cell_type": "markdown",
   "metadata": {},
   "source": [
    "**Вывод:**\\\n",
    "* исходные данные сгруппировали по часам и выяснили периодичность роста и спада количества заказов\n",
    "* проверили возможность предсказания количества заказов без применения моделей и получили невысокие результаты\n",
    "* для работы с моделями подготовили данные: дополнили их признаками даты и времени, а так же признаками предыдущих показателей\n",
    "* выбрали лучшее количество этих показателей (дфп=3, rolling=10)\n",
    "* обучили 3 модели `LinearRegression`, `DecisionTreeRegressor`, `RandomForestRegressor`\n",
    "* проверили предсказания моделей с разными гиперпараметрами и выяснили что лучший результат показывает `RandomForestRegressor` с параметрами : глубина дерева = 19 и количество деревьев = 70\n",
    "эту модель и предлагаем использовать для расчета предполагаемого количества заказов на следующий час."
   ]
  },
  {
   "cell_type": "code",
   "execution_count": null,
   "metadata": {},
   "outputs": [],
   "source": []
  }
 ],
 "metadata": {
  "ExecuteTimeLog": [
   {
    "duration": 1625,
    "start_time": "2022-05-18T07:50:01.583Z"
   },
   {
    "duration": 318,
    "start_time": "2022-05-18T07:50:53.970Z"
   },
   {
    "duration": 65,
    "start_time": "2022-05-18T07:51:01.395Z"
   },
   {
    "duration": 9,
    "start_time": "2022-05-18T07:51:20.101Z"
   },
   {
    "duration": 48,
    "start_time": "2022-05-18T07:53:09.744Z"
   },
   {
    "duration": 9,
    "start_time": "2022-05-18T07:53:18.883Z"
   },
   {
    "duration": 13,
    "start_time": "2022-05-18T07:53:55.313Z"
   },
   {
    "duration": 14,
    "start_time": "2022-05-18T07:54:05.145Z"
   },
   {
    "duration": 13,
    "start_time": "2022-05-18T07:54:50.445Z"
   },
   {
    "duration": 13,
    "start_time": "2022-05-18T07:55:10.939Z"
   },
   {
    "duration": 12,
    "start_time": "2022-05-18T07:55:44.108Z"
   },
   {
    "duration": 12,
    "start_time": "2022-05-18T08:00:05.066Z"
   },
   {
    "duration": 19,
    "start_time": "2022-05-18T08:00:21.920Z"
   },
   {
    "duration": 65,
    "start_time": "2022-05-18T08:00:34.826Z"
   },
   {
    "duration": 66,
    "start_time": "2022-05-18T08:00:44.908Z"
   },
   {
    "duration": 10,
    "start_time": "2022-05-18T08:00:48.984Z"
   },
   {
    "duration": 34,
    "start_time": "2022-05-18T08:00:51.479Z"
   },
   {
    "duration": 54,
    "start_time": "2022-05-18T08:01:03.858Z"
   },
   {
    "duration": 12,
    "start_time": "2022-05-18T08:01:06.948Z"
   },
   {
    "duration": 14,
    "start_time": "2022-05-18T08:01:49.309Z"
   },
   {
    "duration": 604,
    "start_time": "2022-05-18T08:09:11.162Z"
   },
   {
    "duration": 178,
    "start_time": "2022-05-18T08:18:38.767Z"
   },
   {
    "duration": 274,
    "start_time": "2022-05-18T08:18:46.673Z"
   },
   {
    "duration": 192,
    "start_time": "2022-05-18T08:19:03.603Z"
   },
   {
    "duration": 230,
    "start_time": "2022-05-18T08:19:40.281Z"
   },
   {
    "duration": 211,
    "start_time": "2022-05-18T08:57:47.370Z"
   },
   {
    "duration": 174,
    "start_time": "2022-05-18T08:58:27.717Z"
   },
   {
    "duration": 194,
    "start_time": "2022-05-18T08:58:45.362Z"
   },
   {
    "duration": 188,
    "start_time": "2022-05-18T08:59:04.508Z"
   },
   {
    "duration": 214,
    "start_time": "2022-05-18T08:59:18.453Z"
   },
   {
    "duration": 292,
    "start_time": "2022-05-18T08:59:38.931Z"
   },
   {
    "duration": 186,
    "start_time": "2022-05-18T08:59:45.466Z"
   },
   {
    "duration": 184,
    "start_time": "2022-05-18T09:01:16.345Z"
   },
   {
    "duration": 664,
    "start_time": "2022-05-18T09:04:23.749Z"
   },
   {
    "duration": 963,
    "start_time": "2022-05-18T09:06:38.318Z"
   },
   {
    "duration": 594,
    "start_time": "2022-05-18T09:07:13.557Z"
   },
   {
    "duration": 909,
    "start_time": "2022-05-18T09:07:31.022Z"
   },
   {
    "duration": 7,
    "start_time": "2022-05-18T09:20:56.155Z"
   },
   {
    "duration": 11,
    "start_time": "2022-05-18T09:28:57.107Z"
   },
   {
    "duration": 7,
    "start_time": "2022-05-18T09:31:03.518Z"
   },
   {
    "duration": 14,
    "start_time": "2022-05-18T09:31:31.724Z"
   },
   {
    "duration": 15,
    "start_time": "2022-05-18T09:32:13.351Z"
   },
   {
    "duration": 19,
    "start_time": "2022-05-18T09:32:34.274Z"
   },
   {
    "duration": 13,
    "start_time": "2022-05-18T09:35:34.940Z"
   },
   {
    "duration": 8,
    "start_time": "2022-05-18T09:35:50.551Z"
   },
   {
    "duration": 1403,
    "start_time": "2022-05-18T10:45:11.610Z"
   },
   {
    "duration": 189,
    "start_time": "2022-05-18T10:45:13.015Z"
   },
   {
    "duration": 9,
    "start_time": "2022-05-18T10:45:13.206Z"
   },
   {
    "duration": 14,
    "start_time": "2022-05-18T10:45:13.217Z"
   },
   {
    "duration": 254,
    "start_time": "2022-05-18T10:45:13.233Z"
   },
   {
    "duration": 183,
    "start_time": "2022-05-18T10:45:13.489Z"
   },
   {
    "duration": 183,
    "start_time": "2022-05-18T10:45:13.674Z"
   },
   {
    "duration": 768,
    "start_time": "2022-05-18T10:45:13.859Z"
   },
   {
    "duration": 6,
    "start_time": "2022-05-18T10:45:14.628Z"
   },
   {
    "duration": 11,
    "start_time": "2022-05-18T10:45:14.636Z"
   },
   {
    "duration": 8,
    "start_time": "2022-05-18T10:48:29.712Z"
   },
   {
    "duration": 117,
    "start_time": "2022-05-18T10:52:52.027Z"
   },
   {
    "duration": 556,
    "start_time": "2022-05-18T10:53:50.696Z"
   },
   {
    "duration": 16,
    "start_time": "2022-05-18T10:54:12.155Z"
   },
   {
    "duration": 5,
    "start_time": "2022-05-18T11:04:10.729Z"
   },
   {
    "duration": 4,
    "start_time": "2022-05-18T11:08:43.566Z"
   },
   {
    "duration": 2,
    "start_time": "2022-05-18T11:13:20.857Z"
   },
   {
    "duration": 55,
    "start_time": "2022-05-18T11:21:45.767Z"
   },
   {
    "duration": 3,
    "start_time": "2022-05-18T11:23:42.688Z"
   },
   {
    "duration": 58,
    "start_time": "2022-05-18T11:23:44.675Z"
   },
   {
    "duration": 4,
    "start_time": "2022-05-18T11:24:49.965Z"
   },
   {
    "duration": 55,
    "start_time": "2022-05-18T11:24:51.849Z"
   },
   {
    "duration": 4,
    "start_time": "2022-05-18T11:25:13.601Z"
   },
   {
    "duration": 4,
    "start_time": "2022-05-18T11:25:14.817Z"
   },
   {
    "duration": 98,
    "start_time": "2022-05-18T11:25:16.015Z"
   },
   {
    "duration": 3,
    "start_time": "2022-05-18T11:27:24.181Z"
   },
   {
    "duration": 70,
    "start_time": "2022-05-18T11:27:26.191Z"
   },
   {
    "duration": 1250,
    "start_time": "2022-05-18T11:27:49.402Z"
   },
   {
    "duration": 60,
    "start_time": "2022-05-18T11:27:50.654Z"
   },
   {
    "duration": 8,
    "start_time": "2022-05-18T11:27:50.716Z"
   },
   {
    "duration": 13,
    "start_time": "2022-05-18T11:27:50.726Z"
   },
   {
    "duration": 233,
    "start_time": "2022-05-18T11:27:50.741Z"
   },
   {
    "duration": 156,
    "start_time": "2022-05-18T11:27:50.975Z"
   },
   {
    "duration": 158,
    "start_time": "2022-05-18T11:27:51.141Z"
   },
   {
    "duration": 699,
    "start_time": "2022-05-18T11:27:51.301Z"
   },
   {
    "duration": 7,
    "start_time": "2022-05-18T11:27:52.003Z"
   },
   {
    "duration": 12,
    "start_time": "2022-05-18T11:27:52.012Z"
   },
   {
    "duration": 7,
    "start_time": "2022-05-18T11:27:52.025Z"
   },
   {
    "duration": 17,
    "start_time": "2022-05-18T11:27:52.033Z"
   },
   {
    "duration": 4,
    "start_time": "2022-05-18T11:27:52.052Z"
   },
   {
    "duration": 7,
    "start_time": "2022-05-18T11:27:52.057Z"
   },
   {
    "duration": 5,
    "start_time": "2022-05-18T11:27:52.065Z"
   },
   {
    "duration": 142,
    "start_time": "2022-05-18T11:27:52.072Z"
   },
   {
    "duration": 9,
    "start_time": "2022-05-18T11:28:43.714Z"
   },
   {
    "duration": 1198,
    "start_time": "2022-05-18T11:39:37.933Z"
   },
   {
    "duration": 59,
    "start_time": "2022-05-18T11:39:39.436Z"
   },
   {
    "duration": 9,
    "start_time": "2022-05-18T11:39:43.229Z"
   },
   {
    "duration": 14,
    "start_time": "2022-05-18T11:39:49.884Z"
   },
   {
    "duration": 1281,
    "start_time": "2022-05-18T11:49:23.644Z"
   },
   {
    "duration": 62,
    "start_time": "2022-05-18T11:49:24.928Z"
   },
   {
    "duration": 8,
    "start_time": "2022-05-18T11:49:24.992Z"
   },
   {
    "duration": 14,
    "start_time": "2022-05-18T11:49:25.002Z"
   },
   {
    "duration": 236,
    "start_time": "2022-05-18T11:49:25.018Z"
   },
   {
    "duration": 172,
    "start_time": "2022-05-18T11:49:25.255Z"
   },
   {
    "duration": 163,
    "start_time": "2022-05-18T11:49:25.429Z"
   },
   {
    "duration": 687,
    "start_time": "2022-05-18T11:49:25.593Z"
   },
   {
    "duration": 6,
    "start_time": "2022-05-18T11:49:26.282Z"
   },
   {
    "duration": 12,
    "start_time": "2022-05-18T11:49:26.289Z"
   },
   {
    "duration": 12,
    "start_time": "2022-05-18T11:49:26.302Z"
   },
   {
    "duration": 117,
    "start_time": "2022-05-18T11:49:26.316Z"
   },
   {
    "duration": 0,
    "start_time": "2022-05-18T11:49:26.435Z"
   },
   {
    "duration": 0,
    "start_time": "2022-05-18T11:49:26.436Z"
   },
   {
    "duration": 0,
    "start_time": "2022-05-18T11:49:26.437Z"
   },
   {
    "duration": 0,
    "start_time": "2022-05-18T11:49:26.438Z"
   },
   {
    "duration": 0,
    "start_time": "2022-05-18T11:49:26.439Z"
   },
   {
    "duration": 17,
    "start_time": "2022-05-18T11:49:59.743Z"
   },
   {
    "duration": 15,
    "start_time": "2022-05-18T11:50:21.966Z"
   },
   {
    "duration": 1283,
    "start_time": "2022-05-18T11:50:49.850Z"
   },
   {
    "duration": 64,
    "start_time": "2022-05-18T11:50:51.135Z"
   },
   {
    "duration": 10,
    "start_time": "2022-05-18T11:50:51.202Z"
   },
   {
    "duration": 16,
    "start_time": "2022-05-18T11:50:51.215Z"
   },
   {
    "duration": 239,
    "start_time": "2022-05-18T11:50:51.233Z"
   },
   {
    "duration": 179,
    "start_time": "2022-05-18T11:50:51.473Z"
   },
   {
    "duration": 164,
    "start_time": "2022-05-18T11:50:51.654Z"
   },
   {
    "duration": 678,
    "start_time": "2022-05-18T11:50:51.819Z"
   },
   {
    "duration": 6,
    "start_time": "2022-05-18T11:50:52.499Z"
   },
   {
    "duration": 12,
    "start_time": "2022-05-18T11:50:52.507Z"
   },
   {
    "duration": 6,
    "start_time": "2022-05-18T11:50:52.521Z"
   },
   {
    "duration": 142,
    "start_time": "2022-05-18T11:50:52.529Z"
   },
   {
    "duration": 0,
    "start_time": "2022-05-18T11:50:52.673Z"
   },
   {
    "duration": 0,
    "start_time": "2022-05-18T11:50:52.674Z"
   },
   {
    "duration": 0,
    "start_time": "2022-05-18T11:50:52.675Z"
   },
   {
    "duration": 0,
    "start_time": "2022-05-18T11:50:52.677Z"
   },
   {
    "duration": 0,
    "start_time": "2022-05-18T11:50:52.678Z"
   },
   {
    "duration": 21,
    "start_time": "2022-05-18T11:50:57.498Z"
   },
   {
    "duration": 14,
    "start_time": "2022-05-18T11:58:50.594Z"
   },
   {
    "duration": 10,
    "start_time": "2022-05-18T11:59:22.582Z"
   },
   {
    "duration": 1346,
    "start_time": "2022-05-18T12:01:03.899Z"
   },
   {
    "duration": 64,
    "start_time": "2022-05-18T12:01:05.247Z"
   },
   {
    "duration": 8,
    "start_time": "2022-05-18T12:01:05.313Z"
   },
   {
    "duration": 13,
    "start_time": "2022-05-18T12:01:05.323Z"
   },
   {
    "duration": 245,
    "start_time": "2022-05-18T12:01:05.338Z"
   },
   {
    "duration": 182,
    "start_time": "2022-05-18T12:01:05.585Z"
   },
   {
    "duration": 168,
    "start_time": "2022-05-18T12:01:05.769Z"
   },
   {
    "duration": 705,
    "start_time": "2022-05-18T12:01:05.940Z"
   },
   {
    "duration": 7,
    "start_time": "2022-05-18T12:01:06.647Z"
   },
   {
    "duration": 14,
    "start_time": "2022-05-18T12:01:06.656Z"
   },
   {
    "duration": 9,
    "start_time": "2022-05-18T12:01:06.672Z"
   },
   {
    "duration": 137,
    "start_time": "2022-05-18T12:01:06.682Z"
   },
   {
    "duration": 0,
    "start_time": "2022-05-18T12:01:06.821Z"
   },
   {
    "duration": 0,
    "start_time": "2022-05-18T12:01:06.823Z"
   },
   {
    "duration": 0,
    "start_time": "2022-05-18T12:01:06.825Z"
   },
   {
    "duration": 0,
    "start_time": "2022-05-18T12:01:06.827Z"
   },
   {
    "duration": 0,
    "start_time": "2022-05-18T12:01:06.843Z"
   },
   {
    "duration": 0,
    "start_time": "2022-05-18T12:01:06.844Z"
   },
   {
    "duration": 18,
    "start_time": "2022-05-18T12:01:17.671Z"
   },
   {
    "duration": 21,
    "start_time": "2022-05-18T12:02:21.764Z"
   },
   {
    "duration": 18,
    "start_time": "2022-05-18T12:02:25.440Z"
   },
   {
    "duration": 1281,
    "start_time": "2022-05-18T12:02:37.550Z"
   },
   {
    "duration": 65,
    "start_time": "2022-05-18T12:02:38.833Z"
   },
   {
    "duration": 8,
    "start_time": "2022-05-18T12:02:38.900Z"
   },
   {
    "duration": 12,
    "start_time": "2022-05-18T12:02:38.910Z"
   },
   {
    "duration": 243,
    "start_time": "2022-05-18T12:02:38.924Z"
   },
   {
    "duration": 174,
    "start_time": "2022-05-18T12:02:39.168Z"
   },
   {
    "duration": 158,
    "start_time": "2022-05-18T12:02:39.344Z"
   },
   {
    "duration": 788,
    "start_time": "2022-05-18T12:02:39.504Z"
   },
   {
    "duration": 7,
    "start_time": "2022-05-18T12:02:40.294Z"
   },
   {
    "duration": 11,
    "start_time": "2022-05-18T12:02:40.303Z"
   },
   {
    "duration": 9,
    "start_time": "2022-05-18T12:02:40.315Z"
   },
   {
    "duration": 120,
    "start_time": "2022-05-18T12:02:40.326Z"
   },
   {
    "duration": 0,
    "start_time": "2022-05-18T12:02:40.447Z"
   },
   {
    "duration": 0,
    "start_time": "2022-05-18T12:02:40.449Z"
   },
   {
    "duration": 0,
    "start_time": "2022-05-18T12:02:40.449Z"
   },
   {
    "duration": 0,
    "start_time": "2022-05-18T12:02:40.450Z"
   },
   {
    "duration": 0,
    "start_time": "2022-05-18T12:02:40.451Z"
   },
   {
    "duration": 0,
    "start_time": "2022-05-18T12:02:40.453Z"
   },
   {
    "duration": 24,
    "start_time": "2022-05-18T12:03:37.132Z"
   },
   {
    "duration": 13,
    "start_time": "2022-05-18T12:03:40.670Z"
   },
   {
    "duration": 1362,
    "start_time": "2022-05-18T12:05:49.146Z"
   },
   {
    "duration": 65,
    "start_time": "2022-05-18T12:05:50.510Z"
   },
   {
    "duration": 7,
    "start_time": "2022-05-18T12:05:50.576Z"
   },
   {
    "duration": 16,
    "start_time": "2022-05-18T12:05:50.586Z"
   },
   {
    "duration": 254,
    "start_time": "2022-05-18T12:05:50.604Z"
   },
   {
    "duration": 178,
    "start_time": "2022-05-18T12:05:50.859Z"
   },
   {
    "duration": 172,
    "start_time": "2022-05-18T12:05:51.038Z"
   },
   {
    "duration": 704,
    "start_time": "2022-05-18T12:05:51.212Z"
   },
   {
    "duration": 6,
    "start_time": "2022-05-18T12:05:51.918Z"
   },
   {
    "duration": 7,
    "start_time": "2022-05-18T12:05:51.926Z"
   },
   {
    "duration": 8,
    "start_time": "2022-05-18T12:05:51.936Z"
   },
   {
    "duration": 125,
    "start_time": "2022-05-18T12:05:51.947Z"
   },
   {
    "duration": 0,
    "start_time": "2022-05-18T12:05:52.073Z"
   },
   {
    "duration": 0,
    "start_time": "2022-05-18T12:05:52.075Z"
   },
   {
    "duration": 0,
    "start_time": "2022-05-18T12:05:52.076Z"
   },
   {
    "duration": 1,
    "start_time": "2022-05-18T12:05:52.077Z"
   },
   {
    "duration": 0,
    "start_time": "2022-05-18T12:05:52.079Z"
   },
   {
    "duration": 0,
    "start_time": "2022-05-18T12:05:52.081Z"
   },
   {
    "duration": 8,
    "start_time": "2022-05-18T12:05:58.151Z"
   },
   {
    "duration": 25,
    "start_time": "2022-05-18T12:07:02.079Z"
   },
   {
    "duration": 6,
    "start_time": "2022-05-18T12:07:06.117Z"
   },
   {
    "duration": 23,
    "start_time": "2022-05-18T12:08:58.572Z"
   },
   {
    "duration": 18,
    "start_time": "2022-05-18T12:09:14.288Z"
   },
   {
    "duration": 8,
    "start_time": "2022-05-18T12:51:00.705Z"
   },
   {
    "duration": 4,
    "start_time": "2022-05-18T12:52:08.441Z"
   },
   {
    "duration": 10,
    "start_time": "2022-05-18T12:52:11.425Z"
   },
   {
    "duration": 192,
    "start_time": "2022-05-18T12:52:32.857Z"
   },
   {
    "duration": 5,
    "start_time": "2022-05-18T12:53:40.903Z"
   },
   {
    "duration": 19,
    "start_time": "2022-05-18T12:53:43.262Z"
   },
   {
    "duration": 4,
    "start_time": "2022-05-18T12:55:03.099Z"
   },
   {
    "duration": 14,
    "start_time": "2022-05-18T12:55:04.653Z"
   },
   {
    "duration": 1272,
    "start_time": "2022-05-18T13:09:07.372Z"
   },
   {
    "duration": 62,
    "start_time": "2022-05-18T13:09:08.646Z"
   },
   {
    "duration": 9,
    "start_time": "2022-05-18T13:09:08.710Z"
   },
   {
    "duration": 16,
    "start_time": "2022-05-18T13:09:08.720Z"
   },
   {
    "duration": 237,
    "start_time": "2022-05-18T13:09:08.738Z"
   },
   {
    "duration": 184,
    "start_time": "2022-05-18T13:09:08.977Z"
   },
   {
    "duration": 182,
    "start_time": "2022-05-18T13:09:09.164Z"
   },
   {
    "duration": 773,
    "start_time": "2022-05-18T13:09:09.348Z"
   },
   {
    "duration": 7,
    "start_time": "2022-05-18T13:09:10.122Z"
   },
   {
    "duration": 10,
    "start_time": "2022-05-18T13:09:10.130Z"
   },
   {
    "duration": 8,
    "start_time": "2022-05-18T13:09:10.141Z"
   },
   {
    "duration": 28,
    "start_time": "2022-05-18T13:09:10.150Z"
   },
   {
    "duration": 15,
    "start_time": "2022-05-18T13:09:10.180Z"
   },
   {
    "duration": 7,
    "start_time": "2022-05-18T13:09:10.198Z"
   },
   {
    "duration": 6,
    "start_time": "2022-05-18T13:09:10.207Z"
   },
   {
    "duration": 231,
    "start_time": "2022-05-18T13:09:10.214Z"
   },
   {
    "duration": 4,
    "start_time": "2022-05-18T13:09:10.446Z"
   },
   {
    "duration": 4,
    "start_time": "2022-05-18T13:16:32.667Z"
   },
   {
    "duration": 129,
    "start_time": "2022-05-18T13:16:34.175Z"
   },
   {
    "duration": 141,
    "start_time": "2022-05-18T13:17:04.501Z"
   },
   {
    "duration": 9675,
    "start_time": "2022-05-18T13:32:43.869Z"
   },
   {
    "duration": 9050,
    "start_time": "2022-05-18T13:36:28.995Z"
   },
   {
    "duration": 1219,
    "start_time": "2022-05-18T13:41:20.238Z"
   },
   {
    "duration": 2931,
    "start_time": "2022-05-18T13:41:35.319Z"
   },
   {
    "duration": 2562,
    "start_time": "2022-05-18T13:41:55.193Z"
   },
   {
    "duration": 2875,
    "start_time": "2022-05-18T13:42:08.568Z"
   },
   {
    "duration": 6125,
    "start_time": "2022-05-18T13:46:08.426Z"
   },
   {
    "duration": 13145,
    "start_time": "2022-05-18T13:46:28.908Z"
   },
   {
    "duration": 3542,
    "start_time": "2022-05-18T13:46:57.814Z"
   },
   {
    "duration": 4757,
    "start_time": "2022-05-18T13:47:11.896Z"
   },
   {
    "duration": 5354,
    "start_time": "2022-05-18T13:47:23.587Z"
   },
   {
    "duration": 5552,
    "start_time": "2022-05-18T13:47:43.400Z"
   },
   {
    "duration": 5396,
    "start_time": "2022-05-18T13:47:59.560Z"
   },
   {
    "duration": 8414,
    "start_time": "2022-05-18T13:48:18.656Z"
   },
   {
    "duration": 12754,
    "start_time": "2022-05-18T13:48:34.594Z"
   },
   {
    "duration": 13570,
    "start_time": "2022-05-18T13:49:03.884Z"
   },
   {
    "duration": 7709,
    "start_time": "2022-05-18T13:49:41.533Z"
   },
   {
    "duration": 7456,
    "start_time": "2022-05-18T13:49:56.694Z"
   },
   {
    "duration": 7946,
    "start_time": "2022-05-18T13:50:10.400Z"
   },
   {
    "duration": 8114,
    "start_time": "2022-05-18T13:50:31.440Z"
   },
   {
    "duration": 7837,
    "start_time": "2022-05-18T13:52:43.116Z"
   },
   {
    "duration": 102185,
    "start_time": "2022-05-18T13:53:05.666Z"
   },
   {
    "duration": 7177,
    "start_time": "2022-05-18T13:56:45.780Z"
   },
   {
    "duration": 8530,
    "start_time": "2022-05-18T13:57:17.418Z"
   },
   {
    "duration": 53,
    "start_time": "2022-05-18T14:04:56.235Z"
   },
   {
    "duration": 1267,
    "start_time": "2022-05-18T14:05:32.091Z"
   },
   {
    "duration": 64,
    "start_time": "2022-05-18T14:05:33.360Z"
   },
   {
    "duration": 8,
    "start_time": "2022-05-18T14:05:33.426Z"
   },
   {
    "duration": 13,
    "start_time": "2022-05-18T14:05:33.436Z"
   },
   {
    "duration": 244,
    "start_time": "2022-05-18T14:05:33.450Z"
   },
   {
    "duration": 189,
    "start_time": "2022-05-18T14:05:33.696Z"
   },
   {
    "duration": 166,
    "start_time": "2022-05-18T14:05:33.887Z"
   },
   {
    "duration": 710,
    "start_time": "2022-05-18T14:05:34.055Z"
   },
   {
    "duration": 8,
    "start_time": "2022-05-18T14:05:34.767Z"
   },
   {
    "duration": 8,
    "start_time": "2022-05-18T14:05:34.777Z"
   },
   {
    "duration": 8,
    "start_time": "2022-05-18T14:05:34.786Z"
   },
   {
    "duration": 26,
    "start_time": "2022-05-18T14:05:34.796Z"
   },
   {
    "duration": 39,
    "start_time": "2022-05-18T14:05:34.823Z"
   },
   {
    "duration": 5,
    "start_time": "2022-05-18T14:05:34.865Z"
   },
   {
    "duration": 332,
    "start_time": "2022-05-18T14:05:34.872Z"
   },
   {
    "duration": 0,
    "start_time": "2022-05-18T14:05:35.206Z"
   },
   {
    "duration": 0,
    "start_time": "2022-05-18T14:05:35.208Z"
   },
   {
    "duration": 8,
    "start_time": "2022-05-18T14:08:03.025Z"
   },
   {
    "duration": 4,
    "start_time": "2022-05-18T14:08:05.233Z"
   },
   {
    "duration": 22,
    "start_time": "2022-05-18T14:08:08.527Z"
   },
   {
    "duration": 8104,
    "start_time": "2022-05-18T14:08:12.046Z"
   },
   {
    "duration": 54,
    "start_time": "2022-05-18T14:08:24.189Z"
   },
   {
    "duration": 7,
    "start_time": "2022-05-18T14:10:18.309Z"
   },
   {
    "duration": 1318,
    "start_time": "2022-05-18T14:10:50.035Z"
   },
   {
    "duration": 63,
    "start_time": "2022-05-18T14:10:51.355Z"
   },
   {
    "duration": 6,
    "start_time": "2022-05-18T14:10:51.420Z"
   },
   {
    "duration": 14,
    "start_time": "2022-05-18T14:10:51.429Z"
   },
   {
    "duration": 237,
    "start_time": "2022-05-18T14:10:51.445Z"
   },
   {
    "duration": 185,
    "start_time": "2022-05-18T14:10:51.684Z"
   },
   {
    "duration": 163,
    "start_time": "2022-05-18T14:10:51.870Z"
   },
   {
    "duration": 750,
    "start_time": "2022-05-18T14:10:52.035Z"
   },
   {
    "duration": 6,
    "start_time": "2022-05-18T14:10:52.786Z"
   },
   {
    "duration": 12,
    "start_time": "2022-05-18T14:10:52.795Z"
   },
   {
    "duration": 11,
    "start_time": "2022-05-18T14:10:52.809Z"
   },
   {
    "duration": 31,
    "start_time": "2022-05-18T14:10:52.821Z"
   },
   {
    "duration": 15,
    "start_time": "2022-05-18T14:10:52.854Z"
   },
   {
    "duration": 6,
    "start_time": "2022-05-18T14:10:52.871Z"
   },
   {
    "duration": 8,
    "start_time": "2022-05-18T14:10:52.879Z"
   },
   {
    "duration": 67,
    "start_time": "2022-05-18T14:10:52.888Z"
   },
   {
    "duration": 7790,
    "start_time": "2022-05-18T14:10:52.956Z"
   },
   {
    "duration": 340,
    "start_time": "2022-05-18T14:11:00.749Z"
   },
   {
    "duration": 4,
    "start_time": "2022-05-18T14:16:15.721Z"
   },
   {
    "duration": 1230,
    "start_time": "2022-05-18T14:16:23.389Z"
   },
   {
    "duration": 63,
    "start_time": "2022-05-18T14:16:24.621Z"
   },
   {
    "duration": 8,
    "start_time": "2022-05-18T14:16:24.686Z"
   },
   {
    "duration": 19,
    "start_time": "2022-05-18T14:16:24.696Z"
   },
   {
    "duration": 242,
    "start_time": "2022-05-18T14:16:24.717Z"
   },
   {
    "duration": 171,
    "start_time": "2022-05-18T14:16:24.961Z"
   },
   {
    "duration": 158,
    "start_time": "2022-05-18T14:16:25.134Z"
   },
   {
    "duration": 651,
    "start_time": "2022-05-18T14:16:25.293Z"
   },
   {
    "duration": 6,
    "start_time": "2022-05-18T14:16:25.946Z"
   },
   {
    "duration": 23,
    "start_time": "2022-05-18T14:16:25.954Z"
   },
   {
    "duration": 17,
    "start_time": "2022-05-18T14:16:25.978Z"
   },
   {
    "duration": 32,
    "start_time": "2022-05-18T14:16:25.997Z"
   },
   {
    "duration": 15,
    "start_time": "2022-05-18T14:16:26.030Z"
   },
   {
    "duration": 3,
    "start_time": "2022-05-18T14:16:26.046Z"
   },
   {
    "duration": 14,
    "start_time": "2022-05-18T14:16:26.051Z"
   },
   {
    "duration": 280,
    "start_time": "2022-05-18T14:16:26.066Z"
   },
   {
    "duration": 0,
    "start_time": "2022-05-18T14:16:26.347Z"
   },
   {
    "duration": 0,
    "start_time": "2022-05-18T14:16:26.348Z"
   },
   {
    "duration": 1271,
    "start_time": "2022-05-18T14:17:06.561Z"
   },
   {
    "duration": 63,
    "start_time": "2022-05-18T14:17:07.834Z"
   },
   {
    "duration": 7,
    "start_time": "2022-05-18T14:17:07.899Z"
   },
   {
    "duration": 13,
    "start_time": "2022-05-18T14:17:07.908Z"
   },
   {
    "duration": 233,
    "start_time": "2022-05-18T14:17:07.923Z"
   },
   {
    "duration": 170,
    "start_time": "2022-05-18T14:17:08.158Z"
   },
   {
    "duration": 159,
    "start_time": "2022-05-18T14:17:08.329Z"
   },
   {
    "duration": 674,
    "start_time": "2022-05-18T14:17:08.490Z"
   },
   {
    "duration": 7,
    "start_time": "2022-05-18T14:17:09.166Z"
   },
   {
    "duration": 10,
    "start_time": "2022-05-18T14:17:09.176Z"
   },
   {
    "duration": 6,
    "start_time": "2022-05-18T14:17:09.188Z"
   },
   {
    "duration": 29,
    "start_time": "2022-05-18T14:17:09.196Z"
   },
   {
    "duration": 16,
    "start_time": "2022-05-18T14:17:09.226Z"
   },
   {
    "duration": 4,
    "start_time": "2022-05-18T14:17:09.243Z"
   },
   {
    "duration": 13,
    "start_time": "2022-05-18T14:17:09.248Z"
   },
   {
    "duration": 308,
    "start_time": "2022-05-18T14:17:09.263Z"
   },
   {
    "duration": 0,
    "start_time": "2022-05-18T14:17:09.573Z"
   },
   {
    "duration": 0,
    "start_time": "2022-05-18T14:17:09.574Z"
   },
   {
    "duration": 20,
    "start_time": "2022-05-18T14:17:56.288Z"
   },
   {
    "duration": 8127,
    "start_time": "2022-05-18T14:18:03.423Z"
   },
   {
    "duration": 44,
    "start_time": "2022-05-18T14:18:46.496Z"
   },
   {
    "duration": 15,
    "start_time": "2022-05-18T14:22:48.715Z"
   },
   {
    "duration": 1083,
    "start_time": "2022-05-18T14:23:11.802Z"
   },
   {
    "duration": 15,
    "start_time": "2022-05-18T14:56:33.662Z"
   },
   {
    "duration": 1103,
    "start_time": "2022-05-18T14:57:27.744Z"
   },
   {
    "duration": 53128,
    "start_time": "2022-05-18T15:01:00.155Z"
   },
   {
    "duration": 0,
    "start_time": "2022-05-18T15:08:06.174Z"
   },
   {
    "duration": 53436,
    "start_time": "2022-05-18T15:13:19.376Z"
   },
   {
    "duration": 18900,
    "start_time": "2022-05-18T15:18:40.253Z"
   },
   {
    "duration": 80453,
    "start_time": "2022-05-18T15:19:44.700Z"
   },
   {
    "duration": 74596,
    "start_time": "2022-05-18T15:21:45.716Z"
   },
   {
    "duration": 86690,
    "start_time": "2022-05-18T15:23:34.595Z"
   },
   {
    "duration": 69927,
    "start_time": "2022-05-18T15:25:39.288Z"
   },
   {
    "duration": 26,
    "start_time": "2022-05-18T15:27:54.427Z"
   },
   {
    "duration": 238698,
    "start_time": "2022-05-18T15:28:39.153Z"
   },
   {
    "duration": 20,
    "start_time": "2022-05-18T15:40:09.939Z"
   },
   {
    "duration": 1013,
    "start_time": "2022-05-18T15:44:21.523Z"
   },
   {
    "duration": 12,
    "start_time": "2022-05-18T15:58:37.148Z"
   },
   {
    "duration": 18,
    "start_time": "2022-05-18T15:59:27.339Z"
   },
   {
    "duration": 1256,
    "start_time": "2022-05-18T15:59:53.753Z"
   },
   {
    "duration": 72,
    "start_time": "2022-05-18T15:59:55.011Z"
   },
   {
    "duration": 7,
    "start_time": "2022-05-18T15:59:55.084Z"
   },
   {
    "duration": 28,
    "start_time": "2022-05-18T15:59:55.093Z"
   },
   {
    "duration": 248,
    "start_time": "2022-05-18T15:59:55.122Z"
   },
   {
    "duration": 172,
    "start_time": "2022-05-18T15:59:55.371Z"
   },
   {
    "duration": 153,
    "start_time": "2022-05-18T15:59:55.544Z"
   },
   {
    "duration": 661,
    "start_time": "2022-05-18T15:59:55.699Z"
   },
   {
    "duration": 6,
    "start_time": "2022-05-18T15:59:56.363Z"
   },
   {
    "duration": 9,
    "start_time": "2022-05-18T15:59:56.371Z"
   },
   {
    "duration": 8,
    "start_time": "2022-05-18T15:59:56.382Z"
   },
   {
    "duration": 29,
    "start_time": "2022-05-18T15:59:56.391Z"
   },
   {
    "duration": 26,
    "start_time": "2022-05-18T15:59:56.421Z"
   },
   {
    "duration": 7,
    "start_time": "2022-05-18T15:59:56.449Z"
   },
   {
    "duration": 6,
    "start_time": "2022-05-18T15:59:56.458Z"
   },
   {
    "duration": 178,
    "start_time": "2022-05-18T15:59:56.466Z"
   },
   {
    "duration": 7086,
    "start_time": "2022-05-18T15:59:56.656Z"
   },
   {
    "duration": 135,
    "start_time": "2022-05-18T16:00:03.751Z"
   },
   {
    "duration": 1070,
    "start_time": "2022-05-18T16:00:03.888Z"
   },
   {
    "duration": 240675,
    "start_time": "2022-05-18T16:00:04.959Z"
   },
   {
    "duration": 1034,
    "start_time": "2022-05-18T16:04:05.635Z"
   },
   {
    "duration": 8,
    "start_time": "2022-05-18T16:04:06.671Z"
   },
   {
    "duration": 1812,
    "start_time": "2022-05-19T07:14:09.510Z"
   },
   {
    "duration": 170,
    "start_time": "2022-05-19T07:14:15.580Z"
   },
   {
    "duration": 10,
    "start_time": "2022-05-19T07:14:18.986Z"
   },
   {
    "duration": 15,
    "start_time": "2022-05-19T07:14:21.751Z"
   },
   {
    "duration": 279,
    "start_time": "2022-05-19T07:14:23.902Z"
   },
   {
    "duration": 274,
    "start_time": "2022-05-19T07:14:30.981Z"
   },
   {
    "duration": 887,
    "start_time": "2022-05-19T07:18:52.604Z"
   },
   {
    "duration": 947,
    "start_time": "2022-05-19T07:19:12.276Z"
   },
   {
    "duration": 721,
    "start_time": "2022-05-19T07:19:23.784Z"
   },
   {
    "duration": 944,
    "start_time": "2022-05-19T07:19:30.591Z"
   },
   {
    "duration": 327,
    "start_time": "2022-05-19T07:21:54.597Z"
   },
   {
    "duration": 383,
    "start_time": "2022-05-19T07:22:05.874Z"
   },
   {
    "duration": 273,
    "start_time": "2022-05-19T07:22:33.109Z"
   },
   {
    "duration": 243,
    "start_time": "2022-05-19T07:22:44.245Z"
   },
   {
    "duration": 298,
    "start_time": "2022-05-19T07:22:51.469Z"
   },
   {
    "duration": 235,
    "start_time": "2022-05-19T07:23:47.111Z"
   },
   {
    "duration": 246,
    "start_time": "2022-05-19T07:23:57.564Z"
   },
   {
    "duration": 132,
    "start_time": "2022-05-19T07:40:12.444Z"
   },
   {
    "duration": 1288,
    "start_time": "2022-05-19T07:40:19.027Z"
   },
   {
    "duration": 64,
    "start_time": "2022-05-19T07:40:20.318Z"
   },
   {
    "duration": 20,
    "start_time": "2022-05-19T07:40:20.385Z"
   },
   {
    "duration": 18,
    "start_time": "2022-05-19T07:40:20.408Z"
   },
   {
    "duration": 304,
    "start_time": "2022-05-19T07:40:20.429Z"
   },
   {
    "duration": 818,
    "start_time": "2022-05-19T07:40:20.735Z"
   },
   {
    "duration": 220,
    "start_time": "2022-05-19T07:40:21.555Z"
   },
   {
    "duration": 217,
    "start_time": "2022-05-19T07:40:21.776Z"
   },
   {
    "duration": 7,
    "start_time": "2022-05-19T07:40:22.001Z"
   },
   {
    "duration": 9,
    "start_time": "2022-05-19T07:40:22.010Z"
   },
   {
    "duration": 16,
    "start_time": "2022-05-19T07:40:22.021Z"
   },
   {
    "duration": 46,
    "start_time": "2022-05-19T07:40:22.039Z"
   },
   {
    "duration": 26,
    "start_time": "2022-05-19T07:40:22.089Z"
   },
   {
    "duration": 4,
    "start_time": "2022-05-19T07:40:22.119Z"
   },
   {
    "duration": 17,
    "start_time": "2022-05-19T07:40:22.125Z"
   },
   {
    "duration": 54,
    "start_time": "2022-05-19T07:40:22.144Z"
   },
   {
    "duration": 5787,
    "start_time": "2022-05-19T07:40:22.201Z"
   },
   {
    "duration": 239,
    "start_time": "2022-05-19T07:40:27.995Z"
   },
   {
    "duration": 0,
    "start_time": "2022-05-19T07:40:28.237Z"
   },
   {
    "duration": 0,
    "start_time": "2022-05-19T07:40:28.239Z"
   },
   {
    "duration": 0,
    "start_time": "2022-05-19T07:40:28.240Z"
   },
   {
    "duration": 0,
    "start_time": "2022-05-19T07:40:28.244Z"
   },
   {
    "duration": 0,
    "start_time": "2022-05-19T07:40:28.246Z"
   },
   {
    "duration": 12366,
    "start_time": "2022-05-19T07:40:39.948Z"
   },
   {
    "duration": 11537,
    "start_time": "2022-05-19T07:41:01.450Z"
   },
   {
    "duration": 30,
    "start_time": "2022-05-19T07:47:07.251Z"
   },
   {
    "duration": 822,
    "start_time": "2022-05-19T07:48:28.300Z"
   },
   {
    "duration": 6,
    "start_time": "2022-05-19T08:00:33.879Z"
   },
   {
    "duration": 9,
    "start_time": "2022-05-19T08:01:05.847Z"
   },
   {
    "duration": 8,
    "start_time": "2022-05-19T08:01:29.698Z"
   },
   {
    "duration": 9,
    "start_time": "2022-05-19T08:01:49.610Z"
   },
   {
    "duration": 9,
    "start_time": "2022-05-19T08:01:53.892Z"
   },
   {
    "duration": 7,
    "start_time": "2022-05-19T08:02:04.220Z"
   },
   {
    "duration": 6,
    "start_time": "2022-05-19T08:02:17.431Z"
   },
   {
    "duration": 10,
    "start_time": "2022-05-19T08:02:38.697Z"
   },
   {
    "duration": 9,
    "start_time": "2022-05-19T08:02:53.536Z"
   },
   {
    "duration": 4,
    "start_time": "2022-05-19T08:03:12.724Z"
   },
   {
    "duration": 6,
    "start_time": "2022-05-19T08:03:55.725Z"
   },
   {
    "duration": 7,
    "start_time": "2022-05-19T08:04:06.386Z"
   },
   {
    "duration": 180,
    "start_time": "2022-05-19T08:05:49.806Z"
   },
   {
    "duration": 178,
    "start_time": "2022-05-19T08:06:24.807Z"
   },
   {
    "duration": 63,
    "start_time": "2022-05-19T08:08:00.725Z"
   },
   {
    "duration": 1068,
    "start_time": "2022-05-19T08:08:19.025Z"
   },
   {
    "duration": 122,
    "start_time": "2022-05-19T08:08:40.964Z"
   },
   {
    "duration": 1317,
    "start_time": "2022-05-19T08:09:19.970Z"
   },
   {
    "duration": 60,
    "start_time": "2022-05-19T08:09:21.289Z"
   },
   {
    "duration": 7,
    "start_time": "2022-05-19T08:09:21.351Z"
   },
   {
    "duration": 13,
    "start_time": "2022-05-19T08:09:21.361Z"
   },
   {
    "duration": 240,
    "start_time": "2022-05-19T08:09:21.376Z"
   },
   {
    "duration": 708,
    "start_time": "2022-05-19T08:09:21.618Z"
   },
   {
    "duration": 190,
    "start_time": "2022-05-19T08:09:22.327Z"
   },
   {
    "duration": 186,
    "start_time": "2022-05-19T08:09:22.518Z"
   },
   {
    "duration": 5,
    "start_time": "2022-05-19T08:09:22.706Z"
   },
   {
    "duration": 22,
    "start_time": "2022-05-19T08:09:22.714Z"
   },
   {
    "duration": 16,
    "start_time": "2022-05-19T08:09:22.738Z"
   },
   {
    "duration": 46,
    "start_time": "2022-05-19T08:09:22.755Z"
   },
   {
    "duration": 15,
    "start_time": "2022-05-19T08:09:22.802Z"
   },
   {
    "duration": 12,
    "start_time": "2022-05-19T08:09:22.818Z"
   },
   {
    "duration": 21,
    "start_time": "2022-05-19T08:09:22.831Z"
   },
   {
    "duration": 49,
    "start_time": "2022-05-19T08:09:22.853Z"
   },
   {
    "duration": 1381,
    "start_time": "2022-05-19T08:09:22.903Z"
   },
   {
    "duration": 0,
    "start_time": "2022-05-19T08:09:24.286Z"
   },
   {
    "duration": 0,
    "start_time": "2022-05-19T08:09:24.287Z"
   },
   {
    "duration": 0,
    "start_time": "2022-05-19T08:09:24.288Z"
   },
   {
    "duration": 0,
    "start_time": "2022-05-19T08:09:24.289Z"
   },
   {
    "duration": 0,
    "start_time": "2022-05-19T08:09:24.290Z"
   },
   {
    "duration": 0,
    "start_time": "2022-05-19T08:09:24.291Z"
   },
   {
    "duration": 0,
    "start_time": "2022-05-19T08:09:24.292Z"
   },
   {
    "duration": 76,
    "start_time": "2022-05-19T08:18:14.624Z"
   },
   {
    "duration": 13,
    "start_time": "2022-05-19T08:18:18.742Z"
   },
   {
    "duration": 6,
    "start_time": "2022-05-19T08:18:36.261Z"
   },
   {
    "duration": 947,
    "start_time": "2022-05-19T08:21:23.238Z"
   },
   {
    "duration": 24,
    "start_time": "2022-05-19T08:22:26.159Z"
   },
   {
    "duration": 1011,
    "start_time": "2022-05-19T08:24:36.176Z"
   },
   {
    "duration": 220,
    "start_time": "2022-05-19T08:25:30.465Z"
   },
   {
    "duration": 2378,
    "start_time": "2022-05-19T08:25:45.414Z"
   },
   {
    "duration": 194,
    "start_time": "2022-05-19T08:25:56.696Z"
   },
   {
    "duration": 159,
    "start_time": "2022-05-19T08:26:05.726Z"
   },
   {
    "duration": 2551,
    "start_time": "2022-05-19T08:26:13.835Z"
   },
   {
    "duration": 2236,
    "start_time": "2022-05-19T08:26:29.153Z"
   },
   {
    "duration": 4,
    "start_time": "2022-05-19T08:33:49.115Z"
   },
   {
    "duration": 3,
    "start_time": "2022-05-19T08:45:19.210Z"
   },
   {
    "duration": 5,
    "start_time": "2022-05-19T08:48:35.693Z"
   },
   {
    "duration": 1382,
    "start_time": "2022-05-19T14:54:50.157Z"
   },
   {
    "duration": 101,
    "start_time": "2022-05-19T14:54:51.542Z"
   },
   {
    "duration": 7,
    "start_time": "2022-05-19T14:54:51.645Z"
   },
   {
    "duration": 60,
    "start_time": "2022-05-19T14:54:51.655Z"
   },
   {
    "duration": 276,
    "start_time": "2022-05-19T14:54:51.717Z"
   },
   {
    "duration": 805,
    "start_time": "2022-05-19T14:54:51.995Z"
   },
   {
    "duration": 202,
    "start_time": "2022-05-19T14:54:52.802Z"
   },
   {
    "duration": 190,
    "start_time": "2022-05-19T14:54:53.006Z"
   },
   {
    "duration": 5,
    "start_time": "2022-05-19T14:54:53.198Z"
   },
   {
    "duration": 39,
    "start_time": "2022-05-19T14:54:53.205Z"
   },
   {
    "duration": 48,
    "start_time": "2022-05-19T14:54:53.245Z"
   },
   {
    "duration": 57,
    "start_time": "2022-05-19T14:54:53.294Z"
   },
   {
    "duration": 13,
    "start_time": "2022-05-19T14:54:53.352Z"
   },
   {
    "duration": 26,
    "start_time": "2022-05-19T14:54:53.367Z"
   },
   {
    "duration": 23,
    "start_time": "2022-05-19T14:54:53.395Z"
   },
   {
    "duration": 41,
    "start_time": "2022-05-19T14:54:53.419Z"
   },
   {
    "duration": 1074,
    "start_time": "2022-05-19T14:54:53.462Z"
   },
   {
    "duration": 0,
    "start_time": "2022-05-19T14:54:54.538Z"
   },
   {
    "duration": 0,
    "start_time": "2022-05-19T14:54:54.539Z"
   },
   {
    "duration": 0,
    "start_time": "2022-05-19T14:54:54.541Z"
   },
   {
    "duration": 0,
    "start_time": "2022-05-19T14:54:54.542Z"
   },
   {
    "duration": 0,
    "start_time": "2022-05-19T14:54:54.543Z"
   },
   {
    "duration": 0,
    "start_time": "2022-05-19T14:54:54.545Z"
   },
   {
    "duration": 0,
    "start_time": "2022-05-19T14:54:54.547Z"
   },
   {
    "duration": 31,
    "start_time": "2022-05-19T15:12:13.498Z"
   },
   {
    "duration": 30,
    "start_time": "2022-05-19T15:15:59.700Z"
   },
   {
    "duration": 30,
    "start_time": "2022-05-19T15:21:37.980Z"
   },
   {
    "duration": 23,
    "start_time": "2022-05-19T15:22:12.404Z"
   },
   {
    "duration": 25,
    "start_time": "2022-05-19T15:23:11.538Z"
   },
   {
    "duration": 25,
    "start_time": "2022-05-19T15:33:39.454Z"
   },
   {
    "duration": 15,
    "start_time": "2022-05-19T15:34:14.192Z"
   },
   {
    "duration": 4,
    "start_time": "2022-05-19T15:34:45.768Z"
   },
   {
    "duration": 4,
    "start_time": "2022-05-19T15:35:06.480Z"
   },
   {
    "duration": 3,
    "start_time": "2022-05-19T15:35:30.186Z"
   },
   {
    "duration": 17,
    "start_time": "2022-05-19T15:35:42.506Z"
   },
   {
    "duration": 31,
    "start_time": "2022-05-19T15:37:40.018Z"
   },
   {
    "duration": 4,
    "start_time": "2022-05-19T15:47:01.191Z"
   },
   {
    "duration": 5,
    "start_time": "2022-05-19T15:47:43.886Z"
   },
   {
    "duration": 33,
    "start_time": "2022-05-19T15:48:16.759Z"
   },
   {
    "duration": 75,
    "start_time": "2022-05-19T15:51:31.049Z"
   },
   {
    "duration": 42,
    "start_time": "2022-05-19T15:55:57.359Z"
   },
   {
    "duration": 44,
    "start_time": "2022-05-19T16:00:23.622Z"
   },
   {
    "duration": 1119,
    "start_time": "2022-05-19T16:00:58.356Z"
   },
   {
    "duration": 1207,
    "start_time": "2022-05-19T16:02:36.261Z"
   },
   {
    "duration": 1163,
    "start_time": "2022-05-19T16:12:05.096Z"
   },
   {
    "duration": 2383,
    "start_time": "2022-05-19T16:18:23.690Z"
   },
   {
    "duration": 48,
    "start_time": "2022-05-19T16:19:39.958Z"
   },
   {
    "duration": 2264,
    "start_time": "2022-05-19T16:19:54.236Z"
   },
   {
    "duration": 2275,
    "start_time": "2022-05-19T16:21:43.008Z"
   },
   {
    "duration": 2375,
    "start_time": "2022-05-19T16:24:35.623Z"
   },
   {
    "duration": 4914,
    "start_time": "2022-05-19T16:30:22.549Z"
   },
   {
    "duration": 5604,
    "start_time": "2022-05-19T16:30:52.692Z"
   },
   {
    "duration": 8417,
    "start_time": "2022-05-19T16:31:56.985Z"
   },
   {
    "duration": 24675,
    "start_time": "2022-05-19T16:32:15.399Z"
   },
   {
    "duration": 27231,
    "start_time": "2022-05-19T16:33:17.469Z"
   },
   {
    "duration": 49581,
    "start_time": "2022-05-19T16:34:05.484Z"
   },
   {
    "duration": 9616,
    "start_time": "2022-05-19T16:36:15.370Z"
   },
   {
    "duration": 1390,
    "start_time": "2022-05-20T09:57:43.301Z"
   },
   {
    "duration": 159,
    "start_time": "2022-05-20T09:57:44.693Z"
   },
   {
    "duration": 7,
    "start_time": "2022-05-20T09:57:44.853Z"
   },
   {
    "duration": 47,
    "start_time": "2022-05-20T09:57:44.862Z"
   },
   {
    "duration": 240,
    "start_time": "2022-05-20T09:57:44.911Z"
   },
   {
    "duration": 745,
    "start_time": "2022-05-20T09:57:45.153Z"
   },
   {
    "duration": 193,
    "start_time": "2022-05-20T09:57:45.900Z"
   },
   {
    "duration": 181,
    "start_time": "2022-05-20T09:57:46.094Z"
   },
   {
    "duration": 5,
    "start_time": "2022-05-20T09:57:46.277Z"
   },
   {
    "duration": 13,
    "start_time": "2022-05-20T09:57:46.284Z"
   },
   {
    "duration": 17,
    "start_time": "2022-05-20T09:57:46.299Z"
   },
   {
    "duration": 25,
    "start_time": "2022-05-20T09:57:46.318Z"
   },
   {
    "duration": 13,
    "start_time": "2022-05-20T09:57:46.346Z"
   },
   {
    "duration": 5,
    "start_time": "2022-05-20T09:57:46.361Z"
   },
   {
    "duration": 6,
    "start_time": "2022-05-20T09:57:46.367Z"
   },
   {
    "duration": 139,
    "start_time": "2022-05-20T09:57:46.374Z"
   },
   {
    "duration": 10213,
    "start_time": "2022-05-20T09:57:46.515Z"
   },
   {
    "duration": 110,
    "start_time": "2022-05-20T09:57:56.730Z"
   },
   {
    "duration": 1029,
    "start_time": "2022-05-20T09:57:56.913Z"
   },
   {
    "duration": 224012,
    "start_time": "2022-05-20T09:57:57.943Z"
   },
   {
    "duration": 989,
    "start_time": "2022-05-20T10:01:41.957Z"
   },
   {
    "duration": 7,
    "start_time": "2022-05-20T10:01:42.948Z"
   },
   {
    "duration": 44,
    "start_time": "2022-05-20T10:05:55.457Z"
   },
   {
    "duration": 891,
    "start_time": "2022-05-20T10:08:39.623Z"
   },
   {
    "duration": 121,
    "start_time": "2022-05-20T10:14:08.773Z"
   },
   {
    "duration": 21,
    "start_time": "2022-05-20T10:17:23.728Z"
   },
   {
    "duration": 22,
    "start_time": "2022-05-20T10:21:50.132Z"
   },
   {
    "duration": 12,
    "start_time": "2022-05-20T10:25:07.359Z"
   },
   {
    "duration": 14,
    "start_time": "2022-05-20T10:25:30.501Z"
   },
   {
    "duration": 27,
    "start_time": "2022-05-20T10:41:01.461Z"
   },
   {
    "duration": 20,
    "start_time": "2022-05-20T10:41:23.401Z"
   },
   {
    "duration": 1251,
    "start_time": "2022-05-20T10:41:55.074Z"
   },
   {
    "duration": 60,
    "start_time": "2022-05-20T10:41:56.327Z"
   },
   {
    "duration": 7,
    "start_time": "2022-05-20T10:41:56.388Z"
   },
   {
    "duration": 14,
    "start_time": "2022-05-20T10:41:56.397Z"
   },
   {
    "duration": 255,
    "start_time": "2022-05-20T10:41:56.413Z"
   },
   {
    "duration": 755,
    "start_time": "2022-05-20T10:41:56.671Z"
   },
   {
    "duration": 184,
    "start_time": "2022-05-20T10:41:57.427Z"
   },
   {
    "duration": 180,
    "start_time": "2022-05-20T10:41:57.613Z"
   },
   {
    "duration": 6,
    "start_time": "2022-05-20T10:41:57.795Z"
   },
   {
    "duration": 7,
    "start_time": "2022-05-20T10:41:57.814Z"
   },
   {
    "duration": 8,
    "start_time": "2022-05-20T10:41:57.823Z"
   },
   {
    "duration": 23,
    "start_time": "2022-05-20T10:41:57.832Z"
   },
   {
    "duration": 12,
    "start_time": "2022-05-20T10:41:57.856Z"
   },
   {
    "duration": 5,
    "start_time": "2022-05-20T10:41:57.870Z"
   },
   {
    "duration": 41,
    "start_time": "2022-05-20T10:41:57.876Z"
   },
   {
    "duration": 97,
    "start_time": "2022-05-20T10:41:57.919Z"
   },
   {
    "duration": 11204,
    "start_time": "2022-05-20T10:41:58.018Z"
   },
   {
    "duration": 193,
    "start_time": "2022-05-20T10:42:09.225Z"
   },
   {
    "duration": 933,
    "start_time": "2022-05-20T10:42:09.420Z"
   },
   {
    "duration": 134,
    "start_time": "2022-05-20T10:42:10.355Z"
   },
   {
    "duration": 0,
    "start_time": "2022-05-20T10:42:10.492Z"
   },
   {
    "duration": 0,
    "start_time": "2022-05-20T10:42:10.493Z"
   },
   {
    "duration": 50584,
    "start_time": "2022-05-20T10:52:59.263Z"
   },
   {
    "duration": 683,
    "start_time": "2022-05-20T10:58:42.668Z"
   },
   {
    "duration": 691,
    "start_time": "2022-05-20T11:03:02.009Z"
   },
   {
    "duration": 7,
    "start_time": "2022-05-20T11:03:14.411Z"
   },
   {
    "duration": 9,
    "start_time": "2022-05-20T11:03:53.981Z"
   },
   {
    "duration": 9,
    "start_time": "2022-05-20T11:04:03.805Z"
   },
   {
    "duration": 8,
    "start_time": "2022-05-20T11:04:24.663Z"
   },
   {
    "duration": 14,
    "start_time": "2022-05-20T11:09:06.015Z"
   },
   {
    "duration": 116,
    "start_time": "2022-05-20T11:09:17.067Z"
   },
   {
    "duration": 115,
    "start_time": "2022-05-20T11:09:44.851Z"
   },
   {
    "duration": 11,
    "start_time": "2022-05-20T11:09:55.686Z"
   },
   {
    "duration": 10,
    "start_time": "2022-05-20T11:11:31.789Z"
   },
   {
    "duration": 9,
    "start_time": "2022-05-20T11:12:55.322Z"
   },
   {
    "duration": 11,
    "start_time": "2022-05-20T11:13:23.631Z"
   },
   {
    "duration": 12,
    "start_time": "2022-05-20T11:13:39.091Z"
   },
   {
    "duration": 205,
    "start_time": "2022-05-20T11:13:48.593Z"
   },
   {
    "duration": 243,
    "start_time": "2022-05-20T11:14:20.358Z"
   },
   {
    "duration": 1242,
    "start_time": "2022-05-20T11:16:14.869Z"
   },
   {
    "duration": 64,
    "start_time": "2022-05-20T11:16:16.113Z"
   },
   {
    "duration": 8,
    "start_time": "2022-05-20T11:16:16.179Z"
   },
   {
    "duration": 27,
    "start_time": "2022-05-20T11:16:16.189Z"
   },
   {
    "duration": 272,
    "start_time": "2022-05-20T11:16:16.218Z"
   },
   {
    "duration": 787,
    "start_time": "2022-05-20T11:16:16.491Z"
   },
   {
    "duration": 214,
    "start_time": "2022-05-20T11:16:17.280Z"
   },
   {
    "duration": 186,
    "start_time": "2022-05-20T11:16:17.496Z"
   },
   {
    "duration": 6,
    "start_time": "2022-05-20T11:16:17.684Z"
   },
   {
    "duration": 22,
    "start_time": "2022-05-20T11:16:17.693Z"
   },
   {
    "duration": 9,
    "start_time": "2022-05-20T11:16:17.717Z"
   },
   {
    "duration": 28,
    "start_time": "2022-05-20T11:16:17.727Z"
   },
   {
    "duration": 13,
    "start_time": "2022-05-20T11:16:17.757Z"
   },
   {
    "duration": 12,
    "start_time": "2022-05-20T11:16:17.771Z"
   },
   {
    "duration": 27,
    "start_time": "2022-05-20T11:16:17.785Z"
   },
   {
    "duration": 100,
    "start_time": "2022-05-20T11:16:17.814Z"
   },
   {
    "duration": 10426,
    "start_time": "2022-05-20T11:16:17.915Z"
   },
   {
    "duration": 113,
    "start_time": "2022-05-20T11:16:28.411Z"
   },
   {
    "duration": 908,
    "start_time": "2022-05-20T11:16:28.526Z"
   },
   {
    "duration": 50380,
    "start_time": "2022-05-20T11:16:29.436Z"
   },
   {
    "duration": 684,
    "start_time": "2022-05-20T11:17:19.818Z"
   },
   {
    "duration": 10,
    "start_time": "2022-05-20T11:17:20.503Z"
   },
   {
    "duration": 253,
    "start_time": "2022-05-20T11:17:20.514Z"
   },
   {
    "duration": 7,
    "start_time": "2022-05-20T11:19:33.679Z"
   }
  ],
  "kernelspec": {
   "display_name": "Python 3 (ipykernel)",
   "language": "python",
   "name": "python3"
  },
  "language_info": {
   "codemirror_mode": {
    "name": "ipython",
    "version": 3
   },
   "file_extension": ".py",
   "mimetype": "text/x-python",
   "name": "python",
   "nbconvert_exporter": "python",
   "pygments_lexer": "ipython3",
   "version": "3.9.7"
  },
  "toc": {
   "base_numbering": 1,
   "nav_menu": {},
   "number_sections": true,
   "sideBar": true,
   "skip_h1_title": true,
   "title_cell": "Содержание",
   "title_sidebar": "Contents",
   "toc_cell": true,
   "toc_position": {},
   "toc_section_display": true,
   "toc_window_display": false
  }
 },
 "nbformat": 4,
 "nbformat_minor": 2
}
