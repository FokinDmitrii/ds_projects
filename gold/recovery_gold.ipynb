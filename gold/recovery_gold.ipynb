{
 "cells": [
  {
   "cell_type": "markdown",
   "metadata": {},
   "source": [
    "# Восстановление золота из руды"
   ]
  },
  {
   "cell_type": "markdown",
   "metadata": {},
   "source": [
    "Подготовьте прототип модели машинного обучения для «Цифры». Компания разрабатывает решения для эффективной работы промышленных предприятий.\n",
    "\n",
    "Модель должна предсказать коэффициент восстановления золота из золотосодержащей руды. Используйте данные с параметрами добычи и очистки. \n",
    "\n",
    "Модель поможет оптимизировать производство, чтобы не запускать предприятие с убыточными характеристиками.\n",
    "\n",
    "Вам нужно:\n",
    "\n",
    "1. Подготовить данные;\n",
    "2. Провести исследовательский анализ данных;\n",
    "3. Построить и обучить модель.\n",
    "\n",
    "Чтобы выполнить проект, обращайтесь к библиотекам *pandas*, *matplotlib* и *sklearn.* Вам поможет их документация."
   ]
  },
  {
   "cell_type": "markdown",
   "metadata": {},
   "source": [
    "## Подготовка данных"
   ]
  },
  {
   "cell_type": "markdown",
   "metadata": {},
   "source": [
    "### загрузим данные и изучим их"
   ]
  },
  {
   "cell_type": "code",
   "execution_count": 1,
   "metadata": {},
   "outputs": [
    {
     "data": {
      "text/html": [
       "<div>\n",
       "<style scoped>\n",
       "    .dataframe tbody tr th:only-of-type {\n",
       "        vertical-align: middle;\n",
       "    }\n",
       "\n",
       "    .dataframe tbody tr th {\n",
       "        vertical-align: top;\n",
       "    }\n",
       "\n",
       "    .dataframe thead th {\n",
       "        text-align: right;\n",
       "    }\n",
       "</style>\n",
       "<table border=\"1\" class=\"dataframe\">\n",
       "  <thead>\n",
       "    <tr style=\"text-align: right;\">\n",
       "      <th></th>\n",
       "      <th>final.output.concentrate_ag</th>\n",
       "      <th>final.output.concentrate_pb</th>\n",
       "      <th>final.output.concentrate_sol</th>\n",
       "      <th>final.output.concentrate_au</th>\n",
       "      <th>final.output.recovery</th>\n",
       "      <th>final.output.tail_ag</th>\n",
       "      <th>final.output.tail_pb</th>\n",
       "      <th>final.output.tail_sol</th>\n",
       "      <th>final.output.tail_au</th>\n",
       "      <th>primary_cleaner.input.sulfate</th>\n",
       "      <th>...</th>\n",
       "      <th>secondary_cleaner.state.floatbank4_a_air</th>\n",
       "      <th>secondary_cleaner.state.floatbank4_a_level</th>\n",
       "      <th>secondary_cleaner.state.floatbank4_b_air</th>\n",
       "      <th>secondary_cleaner.state.floatbank4_b_level</th>\n",
       "      <th>secondary_cleaner.state.floatbank5_a_air</th>\n",
       "      <th>secondary_cleaner.state.floatbank5_a_level</th>\n",
       "      <th>secondary_cleaner.state.floatbank5_b_air</th>\n",
       "      <th>secondary_cleaner.state.floatbank5_b_level</th>\n",
       "      <th>secondary_cleaner.state.floatbank6_a_air</th>\n",
       "      <th>secondary_cleaner.state.floatbank6_a_level</th>\n",
       "    </tr>\n",
       "    <tr>\n",
       "      <th>date</th>\n",
       "      <th></th>\n",
       "      <th></th>\n",
       "      <th></th>\n",
       "      <th></th>\n",
       "      <th></th>\n",
       "      <th></th>\n",
       "      <th></th>\n",
       "      <th></th>\n",
       "      <th></th>\n",
       "      <th></th>\n",
       "      <th></th>\n",
       "      <th></th>\n",
       "      <th></th>\n",
       "      <th></th>\n",
       "      <th></th>\n",
       "      <th></th>\n",
       "      <th></th>\n",
       "      <th></th>\n",
       "      <th></th>\n",
       "      <th></th>\n",
       "      <th></th>\n",
       "    </tr>\n",
       "  </thead>\n",
       "  <tbody>\n",
       "    <tr>\n",
       "      <th>2016-01-15 00:00:00</th>\n",
       "      <td>6.055403</td>\n",
       "      <td>9.889648</td>\n",
       "      <td>5.507324</td>\n",
       "      <td>42.192020</td>\n",
       "      <td>70.541216</td>\n",
       "      <td>10.411962</td>\n",
       "      <td>0.895447</td>\n",
       "      <td>16.904297</td>\n",
       "      <td>2.143149</td>\n",
       "      <td>127.092003</td>\n",
       "      <td>...</td>\n",
       "      <td>14.016835</td>\n",
       "      <td>-502.488007</td>\n",
       "      <td>12.099931</td>\n",
       "      <td>-504.715942</td>\n",
       "      <td>9.925633</td>\n",
       "      <td>-498.310211</td>\n",
       "      <td>8.079666</td>\n",
       "      <td>-500.470978</td>\n",
       "      <td>14.151341</td>\n",
       "      <td>-605.841980</td>\n",
       "    </tr>\n",
       "    <tr>\n",
       "      <th>2016-01-15 01:00:00</th>\n",
       "      <td>6.029369</td>\n",
       "      <td>9.968944</td>\n",
       "      <td>5.257781</td>\n",
       "      <td>42.701629</td>\n",
       "      <td>69.266198</td>\n",
       "      <td>10.462676</td>\n",
       "      <td>0.927452</td>\n",
       "      <td>16.634514</td>\n",
       "      <td>2.224930</td>\n",
       "      <td>125.629232</td>\n",
       "      <td>...</td>\n",
       "      <td>13.992281</td>\n",
       "      <td>-505.503262</td>\n",
       "      <td>11.950531</td>\n",
       "      <td>-501.331529</td>\n",
       "      <td>10.039245</td>\n",
       "      <td>-500.169983</td>\n",
       "      <td>7.984757</td>\n",
       "      <td>-500.582168</td>\n",
       "      <td>13.998353</td>\n",
       "      <td>-599.787184</td>\n",
       "    </tr>\n",
       "    <tr>\n",
       "      <th>2016-01-15 02:00:00</th>\n",
       "      <td>6.055926</td>\n",
       "      <td>10.213995</td>\n",
       "      <td>5.383759</td>\n",
       "      <td>42.657501</td>\n",
       "      <td>68.116445</td>\n",
       "      <td>10.507046</td>\n",
       "      <td>0.953716</td>\n",
       "      <td>16.208849</td>\n",
       "      <td>2.257889</td>\n",
       "      <td>123.819808</td>\n",
       "      <td>...</td>\n",
       "      <td>14.015015</td>\n",
       "      <td>-502.520901</td>\n",
       "      <td>11.912783</td>\n",
       "      <td>-501.133383</td>\n",
       "      <td>10.070913</td>\n",
       "      <td>-500.129135</td>\n",
       "      <td>8.013877</td>\n",
       "      <td>-500.517572</td>\n",
       "      <td>14.028663</td>\n",
       "      <td>-601.427363</td>\n",
       "    </tr>\n",
       "    <tr>\n",
       "      <th>2016-01-15 03:00:00</th>\n",
       "      <td>6.047977</td>\n",
       "      <td>9.977019</td>\n",
       "      <td>4.858634</td>\n",
       "      <td>42.689819</td>\n",
       "      <td>68.347543</td>\n",
       "      <td>10.422762</td>\n",
       "      <td>0.883763</td>\n",
       "      <td>16.532835</td>\n",
       "      <td>2.146849</td>\n",
       "      <td>122.270188</td>\n",
       "      <td>...</td>\n",
       "      <td>14.036510</td>\n",
       "      <td>-500.857308</td>\n",
       "      <td>11.999550</td>\n",
       "      <td>-501.193686</td>\n",
       "      <td>9.970366</td>\n",
       "      <td>-499.201640</td>\n",
       "      <td>7.977324</td>\n",
       "      <td>-500.255908</td>\n",
       "      <td>14.005551</td>\n",
       "      <td>-599.996129</td>\n",
       "    </tr>\n",
       "    <tr>\n",
       "      <th>2016-01-15 04:00:00</th>\n",
       "      <td>6.148599</td>\n",
       "      <td>10.142511</td>\n",
       "      <td>4.939416</td>\n",
       "      <td>42.774141</td>\n",
       "      <td>66.927016</td>\n",
       "      <td>10.360302</td>\n",
       "      <td>0.792826</td>\n",
       "      <td>16.525686</td>\n",
       "      <td>2.055292</td>\n",
       "      <td>117.988169</td>\n",
       "      <td>...</td>\n",
       "      <td>14.027298</td>\n",
       "      <td>-499.838632</td>\n",
       "      <td>11.953070</td>\n",
       "      <td>-501.053894</td>\n",
       "      <td>9.925709</td>\n",
       "      <td>-501.686727</td>\n",
       "      <td>7.894242</td>\n",
       "      <td>-500.356035</td>\n",
       "      <td>13.996647</td>\n",
       "      <td>-601.496691</td>\n",
       "    </tr>\n",
       "  </tbody>\n",
       "</table>\n",
       "<p>5 rows × 86 columns</p>\n",
       "</div>"
      ],
      "text/plain": [
       "                     final.output.concentrate_ag  final.output.concentrate_pb  \\\n",
       "date                                                                            \n",
       "2016-01-15 00:00:00                     6.055403                     9.889648   \n",
       "2016-01-15 01:00:00                     6.029369                     9.968944   \n",
       "2016-01-15 02:00:00                     6.055926                    10.213995   \n",
       "2016-01-15 03:00:00                     6.047977                     9.977019   \n",
       "2016-01-15 04:00:00                     6.148599                    10.142511   \n",
       "\n",
       "                     final.output.concentrate_sol  \\\n",
       "date                                                \n",
       "2016-01-15 00:00:00                      5.507324   \n",
       "2016-01-15 01:00:00                      5.257781   \n",
       "2016-01-15 02:00:00                      5.383759   \n",
       "2016-01-15 03:00:00                      4.858634   \n",
       "2016-01-15 04:00:00                      4.939416   \n",
       "\n",
       "                     final.output.concentrate_au  final.output.recovery  \\\n",
       "date                                                                      \n",
       "2016-01-15 00:00:00                    42.192020              70.541216   \n",
       "2016-01-15 01:00:00                    42.701629              69.266198   \n",
       "2016-01-15 02:00:00                    42.657501              68.116445   \n",
       "2016-01-15 03:00:00                    42.689819              68.347543   \n",
       "2016-01-15 04:00:00                    42.774141              66.927016   \n",
       "\n",
       "                     final.output.tail_ag  final.output.tail_pb  \\\n",
       "date                                                              \n",
       "2016-01-15 00:00:00             10.411962              0.895447   \n",
       "2016-01-15 01:00:00             10.462676              0.927452   \n",
       "2016-01-15 02:00:00             10.507046              0.953716   \n",
       "2016-01-15 03:00:00             10.422762              0.883763   \n",
       "2016-01-15 04:00:00             10.360302              0.792826   \n",
       "\n",
       "                     final.output.tail_sol  final.output.tail_au  \\\n",
       "date                                                               \n",
       "2016-01-15 00:00:00              16.904297              2.143149   \n",
       "2016-01-15 01:00:00              16.634514              2.224930   \n",
       "2016-01-15 02:00:00              16.208849              2.257889   \n",
       "2016-01-15 03:00:00              16.532835              2.146849   \n",
       "2016-01-15 04:00:00              16.525686              2.055292   \n",
       "\n",
       "                     primary_cleaner.input.sulfate  ...  \\\n",
       "date                                                ...   \n",
       "2016-01-15 00:00:00                     127.092003  ...   \n",
       "2016-01-15 01:00:00                     125.629232  ...   \n",
       "2016-01-15 02:00:00                     123.819808  ...   \n",
       "2016-01-15 03:00:00                     122.270188  ...   \n",
       "2016-01-15 04:00:00                     117.988169  ...   \n",
       "\n",
       "                     secondary_cleaner.state.floatbank4_a_air  \\\n",
       "date                                                            \n",
       "2016-01-15 00:00:00                                 14.016835   \n",
       "2016-01-15 01:00:00                                 13.992281   \n",
       "2016-01-15 02:00:00                                 14.015015   \n",
       "2016-01-15 03:00:00                                 14.036510   \n",
       "2016-01-15 04:00:00                                 14.027298   \n",
       "\n",
       "                     secondary_cleaner.state.floatbank4_a_level  \\\n",
       "date                                                              \n",
       "2016-01-15 00:00:00                                 -502.488007   \n",
       "2016-01-15 01:00:00                                 -505.503262   \n",
       "2016-01-15 02:00:00                                 -502.520901   \n",
       "2016-01-15 03:00:00                                 -500.857308   \n",
       "2016-01-15 04:00:00                                 -499.838632   \n",
       "\n",
       "                     secondary_cleaner.state.floatbank4_b_air  \\\n",
       "date                                                            \n",
       "2016-01-15 00:00:00                                 12.099931   \n",
       "2016-01-15 01:00:00                                 11.950531   \n",
       "2016-01-15 02:00:00                                 11.912783   \n",
       "2016-01-15 03:00:00                                 11.999550   \n",
       "2016-01-15 04:00:00                                 11.953070   \n",
       "\n",
       "                     secondary_cleaner.state.floatbank4_b_level  \\\n",
       "date                                                              \n",
       "2016-01-15 00:00:00                                 -504.715942   \n",
       "2016-01-15 01:00:00                                 -501.331529   \n",
       "2016-01-15 02:00:00                                 -501.133383   \n",
       "2016-01-15 03:00:00                                 -501.193686   \n",
       "2016-01-15 04:00:00                                 -501.053894   \n",
       "\n",
       "                     secondary_cleaner.state.floatbank5_a_air  \\\n",
       "date                                                            \n",
       "2016-01-15 00:00:00                                  9.925633   \n",
       "2016-01-15 01:00:00                                 10.039245   \n",
       "2016-01-15 02:00:00                                 10.070913   \n",
       "2016-01-15 03:00:00                                  9.970366   \n",
       "2016-01-15 04:00:00                                  9.925709   \n",
       "\n",
       "                     secondary_cleaner.state.floatbank5_a_level  \\\n",
       "date                                                              \n",
       "2016-01-15 00:00:00                                 -498.310211   \n",
       "2016-01-15 01:00:00                                 -500.169983   \n",
       "2016-01-15 02:00:00                                 -500.129135   \n",
       "2016-01-15 03:00:00                                 -499.201640   \n",
       "2016-01-15 04:00:00                                 -501.686727   \n",
       "\n",
       "                     secondary_cleaner.state.floatbank5_b_air  \\\n",
       "date                                                            \n",
       "2016-01-15 00:00:00                                  8.079666   \n",
       "2016-01-15 01:00:00                                  7.984757   \n",
       "2016-01-15 02:00:00                                  8.013877   \n",
       "2016-01-15 03:00:00                                  7.977324   \n",
       "2016-01-15 04:00:00                                  7.894242   \n",
       "\n",
       "                     secondary_cleaner.state.floatbank5_b_level  \\\n",
       "date                                                              \n",
       "2016-01-15 00:00:00                                 -500.470978   \n",
       "2016-01-15 01:00:00                                 -500.582168   \n",
       "2016-01-15 02:00:00                                 -500.517572   \n",
       "2016-01-15 03:00:00                                 -500.255908   \n",
       "2016-01-15 04:00:00                                 -500.356035   \n",
       "\n",
       "                     secondary_cleaner.state.floatbank6_a_air  \\\n",
       "date                                                            \n",
       "2016-01-15 00:00:00                                 14.151341   \n",
       "2016-01-15 01:00:00                                 13.998353   \n",
       "2016-01-15 02:00:00                                 14.028663   \n",
       "2016-01-15 03:00:00                                 14.005551   \n",
       "2016-01-15 04:00:00                                 13.996647   \n",
       "\n",
       "                     secondary_cleaner.state.floatbank6_a_level  \n",
       "date                                                             \n",
       "2016-01-15 00:00:00                                 -605.841980  \n",
       "2016-01-15 01:00:00                                 -599.787184  \n",
       "2016-01-15 02:00:00                                 -601.427363  \n",
       "2016-01-15 03:00:00                                 -599.996129  \n",
       "2016-01-15 04:00:00                                 -601.496691  \n",
       "\n",
       "[5 rows x 86 columns]"
      ]
     },
     "metadata": {},
     "output_type": "display_data"
    },
    {
     "name": "stdout",
     "output_type": "stream",
     "text": [
      "<class 'pandas.core.frame.DataFrame'>\n",
      "DatetimeIndex: 14149 entries, 2016-01-15 00:00:00 to 2018-08-18 10:59:59\n",
      "Data columns (total 86 columns):\n",
      " #   Column                                              Non-Null Count  Dtype  \n",
      "---  ------                                              --------------  -----  \n",
      " 0   final.output.concentrate_ag                         14148 non-null  float64\n",
      " 1   final.output.concentrate_pb                         14148 non-null  float64\n",
      " 2   final.output.concentrate_sol                        13938 non-null  float64\n",
      " 3   final.output.concentrate_au                         14149 non-null  float64\n",
      " 4   final.output.recovery                               14149 non-null  float64\n",
      " 5   final.output.tail_ag                                14149 non-null  float64\n",
      " 6   final.output.tail_pb                                14049 non-null  float64\n",
      " 7   final.output.tail_sol                               14144 non-null  float64\n",
      " 8   final.output.tail_au                                14149 non-null  float64\n",
      " 9   primary_cleaner.input.sulfate                       14129 non-null  float64\n",
      " 10  primary_cleaner.input.depressant                    14117 non-null  float64\n",
      " 11  primary_cleaner.input.feed_size                     14149 non-null  float64\n",
      " 12  primary_cleaner.input.xanthate                      14049 non-null  float64\n",
      " 13  primary_cleaner.output.concentrate_ag               14149 non-null  float64\n",
      " 14  primary_cleaner.output.concentrate_pb               14063 non-null  float64\n",
      " 15  primary_cleaner.output.concentrate_sol              13863 non-null  float64\n",
      " 16  primary_cleaner.output.concentrate_au               14149 non-null  float64\n",
      " 17  primary_cleaner.output.tail_ag                      14148 non-null  float64\n",
      " 18  primary_cleaner.output.tail_pb                      14134 non-null  float64\n",
      " 19  primary_cleaner.output.tail_sol                     14103 non-null  float64\n",
      " 20  primary_cleaner.output.tail_au                      14149 non-null  float64\n",
      " 21  primary_cleaner.state.floatbank8_a_air              14145 non-null  float64\n",
      " 22  primary_cleaner.state.floatbank8_a_level            14148 non-null  float64\n",
      " 23  primary_cleaner.state.floatbank8_b_air              14145 non-null  float64\n",
      " 24  primary_cleaner.state.floatbank8_b_level            14148 non-null  float64\n",
      " 25  primary_cleaner.state.floatbank8_c_air              14147 non-null  float64\n",
      " 26  primary_cleaner.state.floatbank8_c_level            14148 non-null  float64\n",
      " 27  primary_cleaner.state.floatbank8_d_air              14146 non-null  float64\n",
      " 28  primary_cleaner.state.floatbank8_d_level            14148 non-null  float64\n",
      " 29  rougher.calculation.sulfate_to_au_concentrate       14148 non-null  float64\n",
      " 30  rougher.calculation.floatbank10_sulfate_to_au_feed  14148 non-null  float64\n",
      " 31  rougher.calculation.floatbank11_sulfate_to_au_feed  14148 non-null  float64\n",
      " 32  rougher.calculation.au_pb_ratio                     14149 non-null  float64\n",
      " 33  rougher.input.feed_ag                               14149 non-null  float64\n",
      " 34  rougher.input.feed_pb                               14049 non-null  float64\n",
      " 35  rougher.input.feed_rate                             14141 non-null  float64\n",
      " 36  rougher.input.feed_size                             14005 non-null  float64\n",
      " 37  rougher.input.feed_sol                              14071 non-null  float64\n",
      " 38  rougher.input.feed_au                               14149 non-null  float64\n",
      " 39  rougher.input.floatbank10_sulfate                   14120 non-null  float64\n",
      " 40  rougher.input.floatbank10_xanthate                  14141 non-null  float64\n",
      " 41  rougher.input.floatbank11_sulfate                   14113 non-null  float64\n",
      " 42  rougher.input.floatbank11_xanthate                  13721 non-null  float64\n",
      " 43  rougher.output.concentrate_ag                       14149 non-null  float64\n",
      " 44  rougher.output.concentrate_pb                       14149 non-null  float64\n",
      " 45  rougher.output.concentrate_sol                      14127 non-null  float64\n",
      " 46  rougher.output.concentrate_au                       14149 non-null  float64\n",
      " 47  rougher.output.recovery                             14149 non-null  float64\n",
      " 48  rougher.output.tail_ag                              14148 non-null  float64\n",
      " 49  rougher.output.tail_pb                              14149 non-null  float64\n",
      " 50  rougher.output.tail_sol                             14149 non-null  float64\n",
      " 51  rougher.output.tail_au                              14149 non-null  float64\n",
      " 52  rougher.state.floatbank10_a_air                     14148 non-null  float64\n",
      " 53  rougher.state.floatbank10_a_level                   14148 non-null  float64\n",
      " 54  rougher.state.floatbank10_b_air                     14148 non-null  float64\n",
      " 55  rougher.state.floatbank10_b_level                   14148 non-null  float64\n",
      " 56  rougher.state.floatbank10_c_air                     14148 non-null  float64\n",
      " 57  rougher.state.floatbank10_c_level                   14148 non-null  float64\n",
      " 58  rougher.state.floatbank10_d_air                     14149 non-null  float64\n",
      " 59  rougher.state.floatbank10_d_level                   14149 non-null  float64\n",
      " 60  rougher.state.floatbank10_e_air                     13713 non-null  float64\n",
      " 61  rougher.state.floatbank10_e_level                   14149 non-null  float64\n",
      " 62  rougher.state.floatbank10_f_air                     14149 non-null  float64\n",
      " 63  rougher.state.floatbank10_f_level                   14149 non-null  float64\n",
      " 64  secondary_cleaner.output.tail_ag                    14147 non-null  float64\n",
      " 65  secondary_cleaner.output.tail_pb                    14139 non-null  float64\n",
      " 66  secondary_cleaner.output.tail_sol                   12544 non-null  float64\n",
      " 67  secondary_cleaner.output.tail_au                    14149 non-null  float64\n",
      " 68  secondary_cleaner.state.floatbank2_a_air            13932 non-null  float64\n",
      " 69  secondary_cleaner.state.floatbank2_a_level          14148 non-null  float64\n",
      " 70  secondary_cleaner.state.floatbank2_b_air            14128 non-null  float64\n",
      " 71  secondary_cleaner.state.floatbank2_b_level          14148 non-null  float64\n",
      " 72  secondary_cleaner.state.floatbank3_a_air            14145 non-null  float64\n",
      " 73  secondary_cleaner.state.floatbank3_a_level          14148 non-null  float64\n",
      " 74  secondary_cleaner.state.floatbank3_b_air            14148 non-null  float64\n",
      " 75  secondary_cleaner.state.floatbank3_b_level          14148 non-null  float64\n",
      " 76  secondary_cleaner.state.floatbank4_a_air            14143 non-null  float64\n",
      " 77  secondary_cleaner.state.floatbank4_a_level          14148 non-null  float64\n",
      " 78  secondary_cleaner.state.floatbank4_b_air            14148 non-null  float64\n",
      " 79  secondary_cleaner.state.floatbank4_b_level          14148 non-null  float64\n",
      " 80  secondary_cleaner.state.floatbank5_a_air            14148 non-null  float64\n",
      " 81  secondary_cleaner.state.floatbank5_a_level          14148 non-null  float64\n",
      " 82  secondary_cleaner.state.floatbank5_b_air            14148 non-null  float64\n",
      " 83  secondary_cleaner.state.floatbank5_b_level          14148 non-null  float64\n",
      " 84  secondary_cleaner.state.floatbank6_a_air            14147 non-null  float64\n",
      " 85  secondary_cleaner.state.floatbank6_a_level          14148 non-null  float64\n",
      "dtypes: float64(86)\n",
      "memory usage: 9.4 MB\n"
     ]
    }
   ],
   "source": [
    "import pandas as pd\n",
    "import matplotlib.pyplot as plt\n",
    "import numpy as np\n",
    "from sklearn.metrics import mean_absolute_error\n",
    "from sklearn.model_selection import cross_val_score\n",
    "from sklearn.tree import DecisionTreeRegressor\n",
    "from sklearn.ensemble import RandomForestRegressor\n",
    "from sklearn.linear_model import LinearRegression\n",
    "from sklearn.metrics import make_scorer\n",
    "from sklearn.model_selection import GridSearchCV\n",
    "from warnings import simplefilter\n",
    "simplefilter(action='ignore', category=FutureWarning)\n",
    "\n",
    "df_train = pd.read_csv('/datasets/gold_recovery_train_new.csv', index_col='date', parse_dates=True)\n",
    "display(df_train.head())\n",
    "df_train.info()\n"
   ]
  },
  {
   "cell_type": "markdown",
   "metadata": {},
   "source": [
    "Дату можно удалить из данных так как она ни как не повлияет на обудение модели. Наблюдаем много показателей с пропусками. "
   ]
  },
  {
   "cell_type": "code",
   "execution_count": 2,
   "metadata": {},
   "outputs": [
    {
     "data": {
      "text/html": [
       "<div>\n",
       "<style scoped>\n",
       "    .dataframe tbody tr th:only-of-type {\n",
       "        vertical-align: middle;\n",
       "    }\n",
       "\n",
       "    .dataframe tbody tr th {\n",
       "        vertical-align: top;\n",
       "    }\n",
       "\n",
       "    .dataframe thead th {\n",
       "        text-align: right;\n",
       "    }\n",
       "</style>\n",
       "<table border=\"1\" class=\"dataframe\">\n",
       "  <thead>\n",
       "    <tr style=\"text-align: right;\">\n",
       "      <th></th>\n",
       "      <th>primary_cleaner.input.sulfate</th>\n",
       "      <th>primary_cleaner.input.depressant</th>\n",
       "      <th>primary_cleaner.input.feed_size</th>\n",
       "      <th>primary_cleaner.input.xanthate</th>\n",
       "      <th>primary_cleaner.state.floatbank8_a_air</th>\n",
       "      <th>primary_cleaner.state.floatbank8_a_level</th>\n",
       "      <th>primary_cleaner.state.floatbank8_b_air</th>\n",
       "      <th>primary_cleaner.state.floatbank8_b_level</th>\n",
       "      <th>primary_cleaner.state.floatbank8_c_air</th>\n",
       "      <th>primary_cleaner.state.floatbank8_c_level</th>\n",
       "      <th>...</th>\n",
       "      <th>secondary_cleaner.state.floatbank4_a_air</th>\n",
       "      <th>secondary_cleaner.state.floatbank4_a_level</th>\n",
       "      <th>secondary_cleaner.state.floatbank4_b_air</th>\n",
       "      <th>secondary_cleaner.state.floatbank4_b_level</th>\n",
       "      <th>secondary_cleaner.state.floatbank5_a_air</th>\n",
       "      <th>secondary_cleaner.state.floatbank5_a_level</th>\n",
       "      <th>secondary_cleaner.state.floatbank5_b_air</th>\n",
       "      <th>secondary_cleaner.state.floatbank5_b_level</th>\n",
       "      <th>secondary_cleaner.state.floatbank6_a_air</th>\n",
       "      <th>secondary_cleaner.state.floatbank6_a_level</th>\n",
       "    </tr>\n",
       "    <tr>\n",
       "      <th>date</th>\n",
       "      <th></th>\n",
       "      <th></th>\n",
       "      <th></th>\n",
       "      <th></th>\n",
       "      <th></th>\n",
       "      <th></th>\n",
       "      <th></th>\n",
       "      <th></th>\n",
       "      <th></th>\n",
       "      <th></th>\n",
       "      <th></th>\n",
       "      <th></th>\n",
       "      <th></th>\n",
       "      <th></th>\n",
       "      <th></th>\n",
       "      <th></th>\n",
       "      <th></th>\n",
       "      <th></th>\n",
       "      <th></th>\n",
       "      <th></th>\n",
       "      <th></th>\n",
       "    </tr>\n",
       "  </thead>\n",
       "  <tbody>\n",
       "    <tr>\n",
       "      <th>2016-09-01 00:59:59</th>\n",
       "      <td>210.800909</td>\n",
       "      <td>14.993118</td>\n",
       "      <td>8.080000</td>\n",
       "      <td>1.005021</td>\n",
       "      <td>1398.981301</td>\n",
       "      <td>-500.225577</td>\n",
       "      <td>1399.144926</td>\n",
       "      <td>-499.919735</td>\n",
       "      <td>1400.102998</td>\n",
       "      <td>-500.704369</td>\n",
       "      <td>...</td>\n",
       "      <td>12.023554</td>\n",
       "      <td>-497.795834</td>\n",
       "      <td>8.016656</td>\n",
       "      <td>-501.289139</td>\n",
       "      <td>7.946562</td>\n",
       "      <td>-432.317850</td>\n",
       "      <td>4.872511</td>\n",
       "      <td>-500.037437</td>\n",
       "      <td>26.705889</td>\n",
       "      <td>-499.709414</td>\n",
       "    </tr>\n",
       "    <tr>\n",
       "      <th>2016-09-01 01:59:59</th>\n",
       "      <td>215.392455</td>\n",
       "      <td>14.987471</td>\n",
       "      <td>8.080000</td>\n",
       "      <td>0.990469</td>\n",
       "      <td>1398.777912</td>\n",
       "      <td>-500.057435</td>\n",
       "      <td>1398.055362</td>\n",
       "      <td>-499.778182</td>\n",
       "      <td>1396.151033</td>\n",
       "      <td>-499.240168</td>\n",
       "      <td>...</td>\n",
       "      <td>12.058140</td>\n",
       "      <td>-498.695773</td>\n",
       "      <td>8.130979</td>\n",
       "      <td>-499.634209</td>\n",
       "      <td>7.958270</td>\n",
       "      <td>-525.839648</td>\n",
       "      <td>4.878850</td>\n",
       "      <td>-500.162375</td>\n",
       "      <td>25.019940</td>\n",
       "      <td>-499.819438</td>\n",
       "    </tr>\n",
       "    <tr>\n",
       "      <th>2016-09-01 02:59:59</th>\n",
       "      <td>215.259946</td>\n",
       "      <td>12.884934</td>\n",
       "      <td>7.786667</td>\n",
       "      <td>0.996043</td>\n",
       "      <td>1398.493666</td>\n",
       "      <td>-500.868360</td>\n",
       "      <td>1398.860436</td>\n",
       "      <td>-499.764529</td>\n",
       "      <td>1398.075709</td>\n",
       "      <td>-502.151509</td>\n",
       "      <td>...</td>\n",
       "      <td>11.962366</td>\n",
       "      <td>-498.767484</td>\n",
       "      <td>8.096893</td>\n",
       "      <td>-500.827423</td>\n",
       "      <td>8.071056</td>\n",
       "      <td>-500.801673</td>\n",
       "      <td>4.905125</td>\n",
       "      <td>-499.828510</td>\n",
       "      <td>24.994862</td>\n",
       "      <td>-500.622559</td>\n",
       "    </tr>\n",
       "    <tr>\n",
       "      <th>2016-09-01 03:59:59</th>\n",
       "      <td>215.336236</td>\n",
       "      <td>12.006805</td>\n",
       "      <td>7.640000</td>\n",
       "      <td>0.863514</td>\n",
       "      <td>1399.618111</td>\n",
       "      <td>-498.863574</td>\n",
       "      <td>1397.440120</td>\n",
       "      <td>-499.211024</td>\n",
       "      <td>1400.129303</td>\n",
       "      <td>-498.355873</td>\n",
       "      <td>...</td>\n",
       "      <td>12.033091</td>\n",
       "      <td>-498.350935</td>\n",
       "      <td>8.074946</td>\n",
       "      <td>-499.474407</td>\n",
       "      <td>7.897085</td>\n",
       "      <td>-500.868509</td>\n",
       "      <td>4.931400</td>\n",
       "      <td>-499.963623</td>\n",
       "      <td>24.948919</td>\n",
       "      <td>-498.709987</td>\n",
       "    </tr>\n",
       "    <tr>\n",
       "      <th>2016-09-01 04:59:59</th>\n",
       "      <td>199.099327</td>\n",
       "      <td>10.682530</td>\n",
       "      <td>7.530000</td>\n",
       "      <td>0.805575</td>\n",
       "      <td>1401.268123</td>\n",
       "      <td>-500.808305</td>\n",
       "      <td>1398.128818</td>\n",
       "      <td>-499.504543</td>\n",
       "      <td>1402.172226</td>\n",
       "      <td>-500.810606</td>\n",
       "      <td>...</td>\n",
       "      <td>12.025367</td>\n",
       "      <td>-500.786497</td>\n",
       "      <td>8.054678</td>\n",
       "      <td>-500.397500</td>\n",
       "      <td>8.107890</td>\n",
       "      <td>-509.526725</td>\n",
       "      <td>4.957674</td>\n",
       "      <td>-500.360026</td>\n",
       "      <td>25.003331</td>\n",
       "      <td>-500.856333</td>\n",
       "    </tr>\n",
       "  </tbody>\n",
       "</table>\n",
       "<p>5 rows × 52 columns</p>\n",
       "</div>"
      ],
      "text/plain": [
       "                     primary_cleaner.input.sulfate  \\\n",
       "date                                                 \n",
       "2016-09-01 00:59:59                     210.800909   \n",
       "2016-09-01 01:59:59                     215.392455   \n",
       "2016-09-01 02:59:59                     215.259946   \n",
       "2016-09-01 03:59:59                     215.336236   \n",
       "2016-09-01 04:59:59                     199.099327   \n",
       "\n",
       "                     primary_cleaner.input.depressant  \\\n",
       "date                                                    \n",
       "2016-09-01 00:59:59                         14.993118   \n",
       "2016-09-01 01:59:59                         14.987471   \n",
       "2016-09-01 02:59:59                         12.884934   \n",
       "2016-09-01 03:59:59                         12.006805   \n",
       "2016-09-01 04:59:59                         10.682530   \n",
       "\n",
       "                     primary_cleaner.input.feed_size  \\\n",
       "date                                                   \n",
       "2016-09-01 00:59:59                         8.080000   \n",
       "2016-09-01 01:59:59                         8.080000   \n",
       "2016-09-01 02:59:59                         7.786667   \n",
       "2016-09-01 03:59:59                         7.640000   \n",
       "2016-09-01 04:59:59                         7.530000   \n",
       "\n",
       "                     primary_cleaner.input.xanthate  \\\n",
       "date                                                  \n",
       "2016-09-01 00:59:59                        1.005021   \n",
       "2016-09-01 01:59:59                        0.990469   \n",
       "2016-09-01 02:59:59                        0.996043   \n",
       "2016-09-01 03:59:59                        0.863514   \n",
       "2016-09-01 04:59:59                        0.805575   \n",
       "\n",
       "                     primary_cleaner.state.floatbank8_a_air  \\\n",
       "date                                                          \n",
       "2016-09-01 00:59:59                             1398.981301   \n",
       "2016-09-01 01:59:59                             1398.777912   \n",
       "2016-09-01 02:59:59                             1398.493666   \n",
       "2016-09-01 03:59:59                             1399.618111   \n",
       "2016-09-01 04:59:59                             1401.268123   \n",
       "\n",
       "                     primary_cleaner.state.floatbank8_a_level  \\\n",
       "date                                                            \n",
       "2016-09-01 00:59:59                               -500.225577   \n",
       "2016-09-01 01:59:59                               -500.057435   \n",
       "2016-09-01 02:59:59                               -500.868360   \n",
       "2016-09-01 03:59:59                               -498.863574   \n",
       "2016-09-01 04:59:59                               -500.808305   \n",
       "\n",
       "                     primary_cleaner.state.floatbank8_b_air  \\\n",
       "date                                                          \n",
       "2016-09-01 00:59:59                             1399.144926   \n",
       "2016-09-01 01:59:59                             1398.055362   \n",
       "2016-09-01 02:59:59                             1398.860436   \n",
       "2016-09-01 03:59:59                             1397.440120   \n",
       "2016-09-01 04:59:59                             1398.128818   \n",
       "\n",
       "                     primary_cleaner.state.floatbank8_b_level  \\\n",
       "date                                                            \n",
       "2016-09-01 00:59:59                               -499.919735   \n",
       "2016-09-01 01:59:59                               -499.778182   \n",
       "2016-09-01 02:59:59                               -499.764529   \n",
       "2016-09-01 03:59:59                               -499.211024   \n",
       "2016-09-01 04:59:59                               -499.504543   \n",
       "\n",
       "                     primary_cleaner.state.floatbank8_c_air  \\\n",
       "date                                                          \n",
       "2016-09-01 00:59:59                             1400.102998   \n",
       "2016-09-01 01:59:59                             1396.151033   \n",
       "2016-09-01 02:59:59                             1398.075709   \n",
       "2016-09-01 03:59:59                             1400.129303   \n",
       "2016-09-01 04:59:59                             1402.172226   \n",
       "\n",
       "                     primary_cleaner.state.floatbank8_c_level  ...  \\\n",
       "date                                                           ...   \n",
       "2016-09-01 00:59:59                               -500.704369  ...   \n",
       "2016-09-01 01:59:59                               -499.240168  ...   \n",
       "2016-09-01 02:59:59                               -502.151509  ...   \n",
       "2016-09-01 03:59:59                               -498.355873  ...   \n",
       "2016-09-01 04:59:59                               -500.810606  ...   \n",
       "\n",
       "                     secondary_cleaner.state.floatbank4_a_air  \\\n",
       "date                                                            \n",
       "2016-09-01 00:59:59                                 12.023554   \n",
       "2016-09-01 01:59:59                                 12.058140   \n",
       "2016-09-01 02:59:59                                 11.962366   \n",
       "2016-09-01 03:59:59                                 12.033091   \n",
       "2016-09-01 04:59:59                                 12.025367   \n",
       "\n",
       "                     secondary_cleaner.state.floatbank4_a_level  \\\n",
       "date                                                              \n",
       "2016-09-01 00:59:59                                 -497.795834   \n",
       "2016-09-01 01:59:59                                 -498.695773   \n",
       "2016-09-01 02:59:59                                 -498.767484   \n",
       "2016-09-01 03:59:59                                 -498.350935   \n",
       "2016-09-01 04:59:59                                 -500.786497   \n",
       "\n",
       "                     secondary_cleaner.state.floatbank4_b_air  \\\n",
       "date                                                            \n",
       "2016-09-01 00:59:59                                  8.016656   \n",
       "2016-09-01 01:59:59                                  8.130979   \n",
       "2016-09-01 02:59:59                                  8.096893   \n",
       "2016-09-01 03:59:59                                  8.074946   \n",
       "2016-09-01 04:59:59                                  8.054678   \n",
       "\n",
       "                     secondary_cleaner.state.floatbank4_b_level  \\\n",
       "date                                                              \n",
       "2016-09-01 00:59:59                                 -501.289139   \n",
       "2016-09-01 01:59:59                                 -499.634209   \n",
       "2016-09-01 02:59:59                                 -500.827423   \n",
       "2016-09-01 03:59:59                                 -499.474407   \n",
       "2016-09-01 04:59:59                                 -500.397500   \n",
       "\n",
       "                     secondary_cleaner.state.floatbank5_a_air  \\\n",
       "date                                                            \n",
       "2016-09-01 00:59:59                                  7.946562   \n",
       "2016-09-01 01:59:59                                  7.958270   \n",
       "2016-09-01 02:59:59                                  8.071056   \n",
       "2016-09-01 03:59:59                                  7.897085   \n",
       "2016-09-01 04:59:59                                  8.107890   \n",
       "\n",
       "                     secondary_cleaner.state.floatbank5_a_level  \\\n",
       "date                                                              \n",
       "2016-09-01 00:59:59                                 -432.317850   \n",
       "2016-09-01 01:59:59                                 -525.839648   \n",
       "2016-09-01 02:59:59                                 -500.801673   \n",
       "2016-09-01 03:59:59                                 -500.868509   \n",
       "2016-09-01 04:59:59                                 -509.526725   \n",
       "\n",
       "                     secondary_cleaner.state.floatbank5_b_air  \\\n",
       "date                                                            \n",
       "2016-09-01 00:59:59                                  4.872511   \n",
       "2016-09-01 01:59:59                                  4.878850   \n",
       "2016-09-01 02:59:59                                  4.905125   \n",
       "2016-09-01 03:59:59                                  4.931400   \n",
       "2016-09-01 04:59:59                                  4.957674   \n",
       "\n",
       "                     secondary_cleaner.state.floatbank5_b_level  \\\n",
       "date                                                              \n",
       "2016-09-01 00:59:59                                 -500.037437   \n",
       "2016-09-01 01:59:59                                 -500.162375   \n",
       "2016-09-01 02:59:59                                 -499.828510   \n",
       "2016-09-01 03:59:59                                 -499.963623   \n",
       "2016-09-01 04:59:59                                 -500.360026   \n",
       "\n",
       "                     secondary_cleaner.state.floatbank6_a_air  \\\n",
       "date                                                            \n",
       "2016-09-01 00:59:59                                 26.705889   \n",
       "2016-09-01 01:59:59                                 25.019940   \n",
       "2016-09-01 02:59:59                                 24.994862   \n",
       "2016-09-01 03:59:59                                 24.948919   \n",
       "2016-09-01 04:59:59                                 25.003331   \n",
       "\n",
       "                     secondary_cleaner.state.floatbank6_a_level  \n",
       "date                                                             \n",
       "2016-09-01 00:59:59                                 -499.709414  \n",
       "2016-09-01 01:59:59                                 -499.819438  \n",
       "2016-09-01 02:59:59                                 -500.622559  \n",
       "2016-09-01 03:59:59                                 -498.709987  \n",
       "2016-09-01 04:59:59                                 -500.856333  \n",
       "\n",
       "[5 rows x 52 columns]"
      ]
     },
     "metadata": {},
     "output_type": "display_data"
    },
    {
     "name": "stdout",
     "output_type": "stream",
     "text": [
      "<class 'pandas.core.frame.DataFrame'>\n",
      "DatetimeIndex: 5290 entries, 2016-09-01 00:59:59 to 2017-12-31 23:59:59\n",
      "Data columns (total 52 columns):\n",
      " #   Column                                      Non-Null Count  Dtype  \n",
      "---  ------                                      --------------  -----  \n",
      " 0   primary_cleaner.input.sulfate               5286 non-null   float64\n",
      " 1   primary_cleaner.input.depressant            5285 non-null   float64\n",
      " 2   primary_cleaner.input.feed_size             5290 non-null   float64\n",
      " 3   primary_cleaner.input.xanthate              5286 non-null   float64\n",
      " 4   primary_cleaner.state.floatbank8_a_air      5290 non-null   float64\n",
      " 5   primary_cleaner.state.floatbank8_a_level    5290 non-null   float64\n",
      " 6   primary_cleaner.state.floatbank8_b_air      5290 non-null   float64\n",
      " 7   primary_cleaner.state.floatbank8_b_level    5290 non-null   float64\n",
      " 8   primary_cleaner.state.floatbank8_c_air      5290 non-null   float64\n",
      " 9   primary_cleaner.state.floatbank8_c_level    5290 non-null   float64\n",
      " 10  primary_cleaner.state.floatbank8_d_air      5290 non-null   float64\n",
      " 11  primary_cleaner.state.floatbank8_d_level    5290 non-null   float64\n",
      " 12  rougher.input.feed_ag                       5290 non-null   float64\n",
      " 13  rougher.input.feed_pb                       5290 non-null   float64\n",
      " 14  rougher.input.feed_rate                     5287 non-null   float64\n",
      " 15  rougher.input.feed_size                     5289 non-null   float64\n",
      " 16  rougher.input.feed_sol                      5269 non-null   float64\n",
      " 17  rougher.input.feed_au                       5290 non-null   float64\n",
      " 18  rougher.input.floatbank10_sulfate           5285 non-null   float64\n",
      " 19  rougher.input.floatbank10_xanthate          5290 non-null   float64\n",
      " 20  rougher.input.floatbank11_sulfate           5282 non-null   float64\n",
      " 21  rougher.input.floatbank11_xanthate          5265 non-null   float64\n",
      " 22  rougher.state.floatbank10_a_air             5290 non-null   float64\n",
      " 23  rougher.state.floatbank10_a_level           5290 non-null   float64\n",
      " 24  rougher.state.floatbank10_b_air             5290 non-null   float64\n",
      " 25  rougher.state.floatbank10_b_level           5290 non-null   float64\n",
      " 26  rougher.state.floatbank10_c_air             5290 non-null   float64\n",
      " 27  rougher.state.floatbank10_c_level           5290 non-null   float64\n",
      " 28  rougher.state.floatbank10_d_air             5290 non-null   float64\n",
      " 29  rougher.state.floatbank10_d_level           5290 non-null   float64\n",
      " 30  rougher.state.floatbank10_e_air             5290 non-null   float64\n",
      " 31  rougher.state.floatbank10_e_level           5290 non-null   float64\n",
      " 32  rougher.state.floatbank10_f_air             5290 non-null   float64\n",
      " 33  rougher.state.floatbank10_f_level           5290 non-null   float64\n",
      " 34  secondary_cleaner.state.floatbank2_a_air    5287 non-null   float64\n",
      " 35  secondary_cleaner.state.floatbank2_a_level  5290 non-null   float64\n",
      " 36  secondary_cleaner.state.floatbank2_b_air    5288 non-null   float64\n",
      " 37  secondary_cleaner.state.floatbank2_b_level  5290 non-null   float64\n",
      " 38  secondary_cleaner.state.floatbank3_a_air    5281 non-null   float64\n",
      " 39  secondary_cleaner.state.floatbank3_a_level  5290 non-null   float64\n",
      " 40  secondary_cleaner.state.floatbank3_b_air    5290 non-null   float64\n",
      " 41  secondary_cleaner.state.floatbank3_b_level  5290 non-null   float64\n",
      " 42  secondary_cleaner.state.floatbank4_a_air    5290 non-null   float64\n",
      " 43  secondary_cleaner.state.floatbank4_a_level  5290 non-null   float64\n",
      " 44  secondary_cleaner.state.floatbank4_b_air    5290 non-null   float64\n",
      " 45  secondary_cleaner.state.floatbank4_b_level  5290 non-null   float64\n",
      " 46  secondary_cleaner.state.floatbank5_a_air    5290 non-null   float64\n",
      " 47  secondary_cleaner.state.floatbank5_a_level  5290 non-null   float64\n",
      " 48  secondary_cleaner.state.floatbank5_b_air    5290 non-null   float64\n",
      " 49  secondary_cleaner.state.floatbank5_b_level  5290 non-null   float64\n",
      " 50  secondary_cleaner.state.floatbank6_a_air    5290 non-null   float64\n",
      " 51  secondary_cleaner.state.floatbank6_a_level  5290 non-null   float64\n",
      "dtypes: float64(52)\n",
      "memory usage: 2.1 MB\n"
     ]
    }
   ],
   "source": [
    "df_test = pd.read_csv('/datasets/gold_recovery_test_new.csv', parse_dates=True, index_col='date')\n",
    "display(df_test.head())\n",
    "df_test.info()"
   ]
  },
  {
   "cell_type": "markdown",
   "metadata": {},
   "source": [
    "Также надо избавиться от пропусков."
   ]
  },
  {
   "cell_type": "code",
   "execution_count": 3,
   "metadata": {},
   "outputs": [
    {
     "data": {
      "text/html": [
       "<div>\n",
       "<style scoped>\n",
       "    .dataframe tbody tr th:only-of-type {\n",
       "        vertical-align: middle;\n",
       "    }\n",
       "\n",
       "    .dataframe tbody tr th {\n",
       "        vertical-align: top;\n",
       "    }\n",
       "\n",
       "    .dataframe thead th {\n",
       "        text-align: right;\n",
       "    }\n",
       "</style>\n",
       "<table border=\"1\" class=\"dataframe\">\n",
       "  <thead>\n",
       "    <tr style=\"text-align: right;\">\n",
       "      <th></th>\n",
       "      <th>final.output.concentrate_ag</th>\n",
       "      <th>final.output.concentrate_pb</th>\n",
       "      <th>final.output.concentrate_sol</th>\n",
       "      <th>final.output.concentrate_au</th>\n",
       "      <th>final.output.recovery</th>\n",
       "      <th>final.output.tail_ag</th>\n",
       "      <th>final.output.tail_pb</th>\n",
       "      <th>final.output.tail_sol</th>\n",
       "      <th>final.output.tail_au</th>\n",
       "      <th>primary_cleaner.input.sulfate</th>\n",
       "      <th>...</th>\n",
       "      <th>secondary_cleaner.state.floatbank4_a_air</th>\n",
       "      <th>secondary_cleaner.state.floatbank4_a_level</th>\n",
       "      <th>secondary_cleaner.state.floatbank4_b_air</th>\n",
       "      <th>secondary_cleaner.state.floatbank4_b_level</th>\n",
       "      <th>secondary_cleaner.state.floatbank5_a_air</th>\n",
       "      <th>secondary_cleaner.state.floatbank5_a_level</th>\n",
       "      <th>secondary_cleaner.state.floatbank5_b_air</th>\n",
       "      <th>secondary_cleaner.state.floatbank5_b_level</th>\n",
       "      <th>secondary_cleaner.state.floatbank6_a_air</th>\n",
       "      <th>secondary_cleaner.state.floatbank6_a_level</th>\n",
       "    </tr>\n",
       "    <tr>\n",
       "      <th>date</th>\n",
       "      <th></th>\n",
       "      <th></th>\n",
       "      <th></th>\n",
       "      <th></th>\n",
       "      <th></th>\n",
       "      <th></th>\n",
       "      <th></th>\n",
       "      <th></th>\n",
       "      <th></th>\n",
       "      <th></th>\n",
       "      <th></th>\n",
       "      <th></th>\n",
       "      <th></th>\n",
       "      <th></th>\n",
       "      <th></th>\n",
       "      <th></th>\n",
       "      <th></th>\n",
       "      <th></th>\n",
       "      <th></th>\n",
       "      <th></th>\n",
       "      <th></th>\n",
       "    </tr>\n",
       "  </thead>\n",
       "  <tbody>\n",
       "    <tr>\n",
       "      <th>2016-01-15 00:00:00</th>\n",
       "      <td>6.055403</td>\n",
       "      <td>9.889648</td>\n",
       "      <td>5.507324</td>\n",
       "      <td>42.192020</td>\n",
       "      <td>70.541216</td>\n",
       "      <td>10.411962</td>\n",
       "      <td>0.895447</td>\n",
       "      <td>16.904297</td>\n",
       "      <td>2.143149</td>\n",
       "      <td>127.092003</td>\n",
       "      <td>...</td>\n",
       "      <td>14.016835</td>\n",
       "      <td>-502.488007</td>\n",
       "      <td>12.099931</td>\n",
       "      <td>-504.715942</td>\n",
       "      <td>9.925633</td>\n",
       "      <td>-498.310211</td>\n",
       "      <td>8.079666</td>\n",
       "      <td>-500.470978</td>\n",
       "      <td>14.151341</td>\n",
       "      <td>-605.841980</td>\n",
       "    </tr>\n",
       "    <tr>\n",
       "      <th>2016-01-15 01:00:00</th>\n",
       "      <td>6.029369</td>\n",
       "      <td>9.968944</td>\n",
       "      <td>5.257781</td>\n",
       "      <td>42.701629</td>\n",
       "      <td>69.266198</td>\n",
       "      <td>10.462676</td>\n",
       "      <td>0.927452</td>\n",
       "      <td>16.634514</td>\n",
       "      <td>2.224930</td>\n",
       "      <td>125.629232</td>\n",
       "      <td>...</td>\n",
       "      <td>13.992281</td>\n",
       "      <td>-505.503262</td>\n",
       "      <td>11.950531</td>\n",
       "      <td>-501.331529</td>\n",
       "      <td>10.039245</td>\n",
       "      <td>-500.169983</td>\n",
       "      <td>7.984757</td>\n",
       "      <td>-500.582168</td>\n",
       "      <td>13.998353</td>\n",
       "      <td>-599.787184</td>\n",
       "    </tr>\n",
       "    <tr>\n",
       "      <th>2016-01-15 02:00:00</th>\n",
       "      <td>6.055926</td>\n",
       "      <td>10.213995</td>\n",
       "      <td>5.383759</td>\n",
       "      <td>42.657501</td>\n",
       "      <td>68.116445</td>\n",
       "      <td>10.507046</td>\n",
       "      <td>0.953716</td>\n",
       "      <td>16.208849</td>\n",
       "      <td>2.257889</td>\n",
       "      <td>123.819808</td>\n",
       "      <td>...</td>\n",
       "      <td>14.015015</td>\n",
       "      <td>-502.520901</td>\n",
       "      <td>11.912783</td>\n",
       "      <td>-501.133383</td>\n",
       "      <td>10.070913</td>\n",
       "      <td>-500.129135</td>\n",
       "      <td>8.013877</td>\n",
       "      <td>-500.517572</td>\n",
       "      <td>14.028663</td>\n",
       "      <td>-601.427363</td>\n",
       "    </tr>\n",
       "    <tr>\n",
       "      <th>2016-01-15 03:00:00</th>\n",
       "      <td>6.047977</td>\n",
       "      <td>9.977019</td>\n",
       "      <td>4.858634</td>\n",
       "      <td>42.689819</td>\n",
       "      <td>68.347543</td>\n",
       "      <td>10.422762</td>\n",
       "      <td>0.883763</td>\n",
       "      <td>16.532835</td>\n",
       "      <td>2.146849</td>\n",
       "      <td>122.270188</td>\n",
       "      <td>...</td>\n",
       "      <td>14.036510</td>\n",
       "      <td>-500.857308</td>\n",
       "      <td>11.999550</td>\n",
       "      <td>-501.193686</td>\n",
       "      <td>9.970366</td>\n",
       "      <td>-499.201640</td>\n",
       "      <td>7.977324</td>\n",
       "      <td>-500.255908</td>\n",
       "      <td>14.005551</td>\n",
       "      <td>-599.996129</td>\n",
       "    </tr>\n",
       "    <tr>\n",
       "      <th>2016-01-15 04:00:00</th>\n",
       "      <td>6.148599</td>\n",
       "      <td>10.142511</td>\n",
       "      <td>4.939416</td>\n",
       "      <td>42.774141</td>\n",
       "      <td>66.927016</td>\n",
       "      <td>10.360302</td>\n",
       "      <td>0.792826</td>\n",
       "      <td>16.525686</td>\n",
       "      <td>2.055292</td>\n",
       "      <td>117.988169</td>\n",
       "      <td>...</td>\n",
       "      <td>14.027298</td>\n",
       "      <td>-499.838632</td>\n",
       "      <td>11.953070</td>\n",
       "      <td>-501.053894</td>\n",
       "      <td>9.925709</td>\n",
       "      <td>-501.686727</td>\n",
       "      <td>7.894242</td>\n",
       "      <td>-500.356035</td>\n",
       "      <td>13.996647</td>\n",
       "      <td>-601.496691</td>\n",
       "    </tr>\n",
       "  </tbody>\n",
       "</table>\n",
       "<p>5 rows × 86 columns</p>\n",
       "</div>"
      ],
      "text/plain": [
       "                     final.output.concentrate_ag  final.output.concentrate_pb  \\\n",
       "date                                                                            \n",
       "2016-01-15 00:00:00                     6.055403                     9.889648   \n",
       "2016-01-15 01:00:00                     6.029369                     9.968944   \n",
       "2016-01-15 02:00:00                     6.055926                    10.213995   \n",
       "2016-01-15 03:00:00                     6.047977                     9.977019   \n",
       "2016-01-15 04:00:00                     6.148599                    10.142511   \n",
       "\n",
       "                     final.output.concentrate_sol  \\\n",
       "date                                                \n",
       "2016-01-15 00:00:00                      5.507324   \n",
       "2016-01-15 01:00:00                      5.257781   \n",
       "2016-01-15 02:00:00                      5.383759   \n",
       "2016-01-15 03:00:00                      4.858634   \n",
       "2016-01-15 04:00:00                      4.939416   \n",
       "\n",
       "                     final.output.concentrate_au  final.output.recovery  \\\n",
       "date                                                                      \n",
       "2016-01-15 00:00:00                    42.192020              70.541216   \n",
       "2016-01-15 01:00:00                    42.701629              69.266198   \n",
       "2016-01-15 02:00:00                    42.657501              68.116445   \n",
       "2016-01-15 03:00:00                    42.689819              68.347543   \n",
       "2016-01-15 04:00:00                    42.774141              66.927016   \n",
       "\n",
       "                     final.output.tail_ag  final.output.tail_pb  \\\n",
       "date                                                              \n",
       "2016-01-15 00:00:00             10.411962              0.895447   \n",
       "2016-01-15 01:00:00             10.462676              0.927452   \n",
       "2016-01-15 02:00:00             10.507046              0.953716   \n",
       "2016-01-15 03:00:00             10.422762              0.883763   \n",
       "2016-01-15 04:00:00             10.360302              0.792826   \n",
       "\n",
       "                     final.output.tail_sol  final.output.tail_au  \\\n",
       "date                                                               \n",
       "2016-01-15 00:00:00              16.904297              2.143149   \n",
       "2016-01-15 01:00:00              16.634514              2.224930   \n",
       "2016-01-15 02:00:00              16.208849              2.257889   \n",
       "2016-01-15 03:00:00              16.532835              2.146849   \n",
       "2016-01-15 04:00:00              16.525686              2.055292   \n",
       "\n",
       "                     primary_cleaner.input.sulfate  ...  \\\n",
       "date                                                ...   \n",
       "2016-01-15 00:00:00                     127.092003  ...   \n",
       "2016-01-15 01:00:00                     125.629232  ...   \n",
       "2016-01-15 02:00:00                     123.819808  ...   \n",
       "2016-01-15 03:00:00                     122.270188  ...   \n",
       "2016-01-15 04:00:00                     117.988169  ...   \n",
       "\n",
       "                     secondary_cleaner.state.floatbank4_a_air  \\\n",
       "date                                                            \n",
       "2016-01-15 00:00:00                                 14.016835   \n",
       "2016-01-15 01:00:00                                 13.992281   \n",
       "2016-01-15 02:00:00                                 14.015015   \n",
       "2016-01-15 03:00:00                                 14.036510   \n",
       "2016-01-15 04:00:00                                 14.027298   \n",
       "\n",
       "                     secondary_cleaner.state.floatbank4_a_level  \\\n",
       "date                                                              \n",
       "2016-01-15 00:00:00                                 -502.488007   \n",
       "2016-01-15 01:00:00                                 -505.503262   \n",
       "2016-01-15 02:00:00                                 -502.520901   \n",
       "2016-01-15 03:00:00                                 -500.857308   \n",
       "2016-01-15 04:00:00                                 -499.838632   \n",
       "\n",
       "                     secondary_cleaner.state.floatbank4_b_air  \\\n",
       "date                                                            \n",
       "2016-01-15 00:00:00                                 12.099931   \n",
       "2016-01-15 01:00:00                                 11.950531   \n",
       "2016-01-15 02:00:00                                 11.912783   \n",
       "2016-01-15 03:00:00                                 11.999550   \n",
       "2016-01-15 04:00:00                                 11.953070   \n",
       "\n",
       "                     secondary_cleaner.state.floatbank4_b_level  \\\n",
       "date                                                              \n",
       "2016-01-15 00:00:00                                 -504.715942   \n",
       "2016-01-15 01:00:00                                 -501.331529   \n",
       "2016-01-15 02:00:00                                 -501.133383   \n",
       "2016-01-15 03:00:00                                 -501.193686   \n",
       "2016-01-15 04:00:00                                 -501.053894   \n",
       "\n",
       "                     secondary_cleaner.state.floatbank5_a_air  \\\n",
       "date                                                            \n",
       "2016-01-15 00:00:00                                  9.925633   \n",
       "2016-01-15 01:00:00                                 10.039245   \n",
       "2016-01-15 02:00:00                                 10.070913   \n",
       "2016-01-15 03:00:00                                  9.970366   \n",
       "2016-01-15 04:00:00                                  9.925709   \n",
       "\n",
       "                     secondary_cleaner.state.floatbank5_a_level  \\\n",
       "date                                                              \n",
       "2016-01-15 00:00:00                                 -498.310211   \n",
       "2016-01-15 01:00:00                                 -500.169983   \n",
       "2016-01-15 02:00:00                                 -500.129135   \n",
       "2016-01-15 03:00:00                                 -499.201640   \n",
       "2016-01-15 04:00:00                                 -501.686727   \n",
       "\n",
       "                     secondary_cleaner.state.floatbank5_b_air  \\\n",
       "date                                                            \n",
       "2016-01-15 00:00:00                                  8.079666   \n",
       "2016-01-15 01:00:00                                  7.984757   \n",
       "2016-01-15 02:00:00                                  8.013877   \n",
       "2016-01-15 03:00:00                                  7.977324   \n",
       "2016-01-15 04:00:00                                  7.894242   \n",
       "\n",
       "                     secondary_cleaner.state.floatbank5_b_level  \\\n",
       "date                                                              \n",
       "2016-01-15 00:00:00                                 -500.470978   \n",
       "2016-01-15 01:00:00                                 -500.582168   \n",
       "2016-01-15 02:00:00                                 -500.517572   \n",
       "2016-01-15 03:00:00                                 -500.255908   \n",
       "2016-01-15 04:00:00                                 -500.356035   \n",
       "\n",
       "                     secondary_cleaner.state.floatbank6_a_air  \\\n",
       "date                                                            \n",
       "2016-01-15 00:00:00                                 14.151341   \n",
       "2016-01-15 01:00:00                                 13.998353   \n",
       "2016-01-15 02:00:00                                 14.028663   \n",
       "2016-01-15 03:00:00                                 14.005551   \n",
       "2016-01-15 04:00:00                                 13.996647   \n",
       "\n",
       "                     secondary_cleaner.state.floatbank6_a_level  \n",
       "date                                                             \n",
       "2016-01-15 00:00:00                                 -605.841980  \n",
       "2016-01-15 01:00:00                                 -599.787184  \n",
       "2016-01-15 02:00:00                                 -601.427363  \n",
       "2016-01-15 03:00:00                                 -599.996129  \n",
       "2016-01-15 04:00:00                                 -601.496691  \n",
       "\n",
       "[5 rows x 86 columns]"
      ]
     },
     "metadata": {},
     "output_type": "display_data"
    },
    {
     "name": "stdout",
     "output_type": "stream",
     "text": [
      "<class 'pandas.core.frame.DataFrame'>\n",
      "DatetimeIndex: 19439 entries, 2016-01-15 00:00:00 to 2018-08-18 10:59:59\n",
      "Data columns (total 86 columns):\n",
      " #   Column                                              Non-Null Count  Dtype  \n",
      "---  ------                                              --------------  -----  \n",
      " 0   final.output.concentrate_ag                         19438 non-null  float64\n",
      " 1   final.output.concentrate_pb                         19438 non-null  float64\n",
      " 2   final.output.concentrate_sol                        19228 non-null  float64\n",
      " 3   final.output.concentrate_au                         19439 non-null  float64\n",
      " 4   final.output.recovery                               19439 non-null  float64\n",
      " 5   final.output.tail_ag                                19438 non-null  float64\n",
      " 6   final.output.tail_pb                                19338 non-null  float64\n",
      " 7   final.output.tail_sol                               19433 non-null  float64\n",
      " 8   final.output.tail_au                                19439 non-null  float64\n",
      " 9   primary_cleaner.input.sulfate                       19415 non-null  float64\n",
      " 10  primary_cleaner.input.depressant                    19402 non-null  float64\n",
      " 11  primary_cleaner.input.feed_size                     19439 non-null  float64\n",
      " 12  primary_cleaner.input.xanthate                      19335 non-null  float64\n",
      " 13  primary_cleaner.output.concentrate_ag               19439 non-null  float64\n",
      " 14  primary_cleaner.output.concentrate_pb               19323 non-null  float64\n",
      " 15  primary_cleaner.output.concentrate_sol              19069 non-null  float64\n",
      " 16  primary_cleaner.output.concentrate_au               19439 non-null  float64\n",
      " 17  primary_cleaner.output.tail_ag                      19435 non-null  float64\n",
      " 18  primary_cleaner.output.tail_pb                      19418 non-null  float64\n",
      " 19  primary_cleaner.output.tail_sol                     19377 non-null  float64\n",
      " 20  primary_cleaner.output.tail_au                      19439 non-null  float64\n",
      " 21  primary_cleaner.state.floatbank8_a_air              19435 non-null  float64\n",
      " 22  primary_cleaner.state.floatbank8_a_level            19438 non-null  float64\n",
      " 23  primary_cleaner.state.floatbank8_b_air              19435 non-null  float64\n",
      " 24  primary_cleaner.state.floatbank8_b_level            19438 non-null  float64\n",
      " 25  primary_cleaner.state.floatbank8_c_air              19437 non-null  float64\n",
      " 26  primary_cleaner.state.floatbank8_c_level            19438 non-null  float64\n",
      " 27  primary_cleaner.state.floatbank8_d_air              19436 non-null  float64\n",
      " 28  primary_cleaner.state.floatbank8_d_level            19438 non-null  float64\n",
      " 29  rougher.calculation.sulfate_to_au_concentrate       19437 non-null  float64\n",
      " 30  rougher.calculation.floatbank10_sulfate_to_au_feed  19437 non-null  float64\n",
      " 31  rougher.calculation.floatbank11_sulfate_to_au_feed  19437 non-null  float64\n",
      " 32  rougher.calculation.au_pb_ratio                     19439 non-null  float64\n",
      " 33  rougher.input.feed_ag                               19439 non-null  float64\n",
      " 34  rougher.input.feed_pb                               19339 non-null  float64\n",
      " 35  rougher.input.feed_rate                             19428 non-null  float64\n",
      " 36  rougher.input.feed_size                             19294 non-null  float64\n",
      " 37  rougher.input.feed_sol                              19340 non-null  float64\n",
      " 38  rougher.input.feed_au                               19439 non-null  float64\n",
      " 39  rougher.input.floatbank10_sulfate                   19405 non-null  float64\n",
      " 40  rougher.input.floatbank10_xanthate                  19431 non-null  float64\n",
      " 41  rougher.input.floatbank11_sulfate                   19395 non-null  float64\n",
      " 42  rougher.input.floatbank11_xanthate                  18986 non-null  float64\n",
      " 43  rougher.output.concentrate_ag                       19439 non-null  float64\n",
      " 44  rougher.output.concentrate_pb                       19439 non-null  float64\n",
      " 45  rougher.output.concentrate_sol                      19416 non-null  float64\n",
      " 46  rougher.output.concentrate_au                       19439 non-null  float64\n",
      " 47  rougher.output.recovery                             19439 non-null  float64\n",
      " 48  rougher.output.tail_ag                              19438 non-null  float64\n",
      " 49  rougher.output.tail_pb                              19439 non-null  float64\n",
      " 50  rougher.output.tail_sol                             19439 non-null  float64\n",
      " 51  rougher.output.tail_au                              19439 non-null  float64\n",
      " 52  rougher.state.floatbank10_a_air                     19438 non-null  float64\n",
      " 53  rougher.state.floatbank10_a_level                   19438 non-null  float64\n",
      " 54  rougher.state.floatbank10_b_air                     19438 non-null  float64\n",
      " 55  rougher.state.floatbank10_b_level                   19438 non-null  float64\n",
      " 56  rougher.state.floatbank10_c_air                     19438 non-null  float64\n",
      " 57  rougher.state.floatbank10_c_level                   19438 non-null  float64\n",
      " 58  rougher.state.floatbank10_d_air                     19439 non-null  float64\n",
      " 59  rougher.state.floatbank10_d_level                   19439 non-null  float64\n",
      " 60  rougher.state.floatbank10_e_air                     19003 non-null  float64\n",
      " 61  rougher.state.floatbank10_e_level                   19439 non-null  float64\n",
      " 62  rougher.state.floatbank10_f_air                     19439 non-null  float64\n",
      " 63  rougher.state.floatbank10_f_level                   19439 non-null  float64\n",
      " 64  secondary_cleaner.output.tail_ag                    19437 non-null  float64\n",
      " 65  secondary_cleaner.output.tail_pb                    19427 non-null  float64\n",
      " 66  secondary_cleaner.output.tail_sol                   17691 non-null  float64\n",
      " 67  secondary_cleaner.output.tail_au                    19439 non-null  float64\n",
      " 68  secondary_cleaner.state.floatbank2_a_air            19219 non-null  float64\n",
      " 69  secondary_cleaner.state.floatbank2_a_level          19438 non-null  float64\n",
      " 70  secondary_cleaner.state.floatbank2_b_air            19416 non-null  float64\n",
      " 71  secondary_cleaner.state.floatbank2_b_level          19438 non-null  float64\n",
      " 72  secondary_cleaner.state.floatbank3_a_air            19426 non-null  float64\n",
      " 73  secondary_cleaner.state.floatbank3_a_level          19438 non-null  float64\n",
      " 74  secondary_cleaner.state.floatbank3_b_air            19438 non-null  float64\n",
      " 75  secondary_cleaner.state.floatbank3_b_level          19438 non-null  float64\n",
      " 76  secondary_cleaner.state.floatbank4_a_air            19433 non-null  float64\n",
      " 77  secondary_cleaner.state.floatbank4_a_level          19438 non-null  float64\n",
      " 78  secondary_cleaner.state.floatbank4_b_air            19438 non-null  float64\n",
      " 79  secondary_cleaner.state.floatbank4_b_level          19438 non-null  float64\n",
      " 80  secondary_cleaner.state.floatbank5_a_air            19438 non-null  float64\n",
      " 81  secondary_cleaner.state.floatbank5_a_level          19438 non-null  float64\n",
      " 82  secondary_cleaner.state.floatbank5_b_air            19438 non-null  float64\n",
      " 83  secondary_cleaner.state.floatbank5_b_level          19438 non-null  float64\n",
      " 84  secondary_cleaner.state.floatbank6_a_air            19437 non-null  float64\n",
      " 85  secondary_cleaner.state.floatbank6_a_level          19438 non-null  float64\n",
      "dtypes: float64(86)\n",
      "memory usage: 12.9 MB\n"
     ]
    }
   ],
   "source": [
    "df_full = pd.read_csv('/datasets/gold_recovery_full_new.csv', parse_dates=True, index_col='date')\n",
    "display(df_full.head())\n",
    "df_full.info()"
   ]
  },
  {
   "cell_type": "markdown",
   "metadata": {},
   "source": [
    "Количество показателей разное и следовательно чтобы модель обучилась правильно нам следует использовать только те данные котторые есть в тестовой выборке."
   ]
  },
  {
   "cell_type": "markdown",
   "metadata": {},
   "source": [
    "### расчитаем эффективность обогащения и сравним ее с данными в 'rougher.output.recovery'"
   ]
  },
  {
   "cell_type": "code",
   "execution_count": 4,
   "metadata": {},
   "outputs": [
    {
     "name": "stdout",
     "output_type": "stream",
     "text": [
      "0.0\n"
     ]
    }
   ],
   "source": [
    "df_train['rougher.output.recovery.test'] = (\n",
    "    df_train['rougher.output.concentrate_au']*\n",
    "    (df_train['rougher.input.feed_au']-\n",
    "     df_train['rougher.output.tail_au']))/(\n",
    "    (df_train['rougher.input.feed_au']*\n",
    "    (df_train['rougher.output.concentrate_au']-\n",
    "    df_train['rougher.output.tail_au'])))*100\n",
    "print(df_train['rougher.output.recovery.test'].mean()-df_train['rougher.output.recovery'].mean())\n"
   ]
  },
  {
   "cell_type": "markdown",
   "metadata": {},
   "source": [
    "найдем MAE эффективности обогащения для расчитанной и исходной выборки"
   ]
  },
  {
   "cell_type": "code",
   "execution_count": 5,
   "metadata": {},
   "outputs": [
    {
     "name": "stdout",
     "output_type": "stream",
     "text": [
      "9.73512347450521e-15\n"
     ]
    }
   ],
   "source": [
    "print(mean_absolute_error(df_train['rougher.output.recovery.test'], df_train['rougher.output.recovery']))"
   ]
  },
  {
   "cell_type": "markdown",
   "metadata": {},
   "source": [
    "Получается что среднее отклонение от расчитанного значения 9,73 в -15 степени % что весьма мало. Отлично, значит данные верные."
   ]
  },
  {
   "cell_type": "markdown",
   "metadata": {},
   "source": [
    "### Подготовка данных"
   ]
  },
  {
   "cell_type": "markdown",
   "metadata": {},
   "source": [
    "В тестовой выборке отсутствуют некоторые признаки обучающей выборки, посмотрим на них"
   ]
  },
  {
   "cell_type": "code",
   "execution_count": 6,
   "metadata": {},
   "outputs": [
    {
     "data": {
      "text/plain": [
       "{'final.output.concentrate_ag',\n",
       " 'final.output.concentrate_au',\n",
       " 'final.output.concentrate_pb',\n",
       " 'final.output.concentrate_sol',\n",
       " 'final.output.recovery',\n",
       " 'final.output.tail_ag',\n",
       " 'final.output.tail_au',\n",
       " 'final.output.tail_pb',\n",
       " 'final.output.tail_sol',\n",
       " 'primary_cleaner.output.concentrate_ag',\n",
       " 'primary_cleaner.output.concentrate_au',\n",
       " 'primary_cleaner.output.concentrate_pb',\n",
       " 'primary_cleaner.output.concentrate_sol',\n",
       " 'primary_cleaner.output.tail_ag',\n",
       " 'primary_cleaner.output.tail_au',\n",
       " 'primary_cleaner.output.tail_pb',\n",
       " 'primary_cleaner.output.tail_sol',\n",
       " 'rougher.calculation.au_pb_ratio',\n",
       " 'rougher.calculation.floatbank10_sulfate_to_au_feed',\n",
       " 'rougher.calculation.floatbank11_sulfate_to_au_feed',\n",
       " 'rougher.calculation.sulfate_to_au_concentrate',\n",
       " 'rougher.output.concentrate_ag',\n",
       " 'rougher.output.concentrate_au',\n",
       " 'rougher.output.concentrate_pb',\n",
       " 'rougher.output.concentrate_sol',\n",
       " 'rougher.output.recovery',\n",
       " 'rougher.output.recovery.test',\n",
       " 'rougher.output.tail_ag',\n",
       " 'rougher.output.tail_au',\n",
       " 'rougher.output.tail_pb',\n",
       " 'rougher.output.tail_sol',\n",
       " 'secondary_cleaner.output.tail_ag',\n",
       " 'secondary_cleaner.output.tail_au',\n",
       " 'secondary_cleaner.output.tail_pb',\n",
       " 'secondary_cleaner.output.tail_sol'}"
      ]
     },
     "execution_count": 6,
     "metadata": {},
     "output_type": "execute_result"
    }
   ],
   "source": [
    "set(df_train) - set(df_test)"
   ]
  },
  {
   "cell_type": "markdown",
   "metadata": {},
   "source": [
    "* `final.output._` финальная концентрация на выходе понятно почему их нет в тестовой выборке так как это и будет целевыми данными для модели\n",
    "* `primary_cleaner.output` и `secondary_cleaner.output` показатели после первой очистки, промежуточные данные которые на влияют на работу модели\n",
    "* `rougher.calculation` расчетные значения показателей соотношения так же не повлияют на работу модели\n",
    "* `rougher.output` данные после грубой очистки как и после первой очистки тоже являются промежуточными\n"
   ]
  },
  {
   "cell_type": "markdown",
   "metadata": {},
   "source": [
    "### Подготовка данных"
   ]
  },
  {
   "cell_type": "markdown",
   "metadata": {},
   "source": [
    "Создадим выборку из обучающих признаков которые имеются в тестовой выборке"
   ]
  },
  {
   "cell_type": "code",
   "execution_count": 7,
   "metadata": {},
   "outputs": [
    {
     "name": "stdout",
     "output_type": "stream",
     "text": [
      "<class 'pandas.core.frame.DataFrame'>\n",
      "DatetimeIndex: 14149 entries, 2016-01-15 00:00:00 to 2018-08-18 10:59:59\n",
      "Data columns (total 52 columns):\n",
      " #   Column                                      Non-Null Count  Dtype  \n",
      "---  ------                                      --------------  -----  \n",
      " 0   primary_cleaner.input.sulfate               14129 non-null  float64\n",
      " 1   primary_cleaner.input.depressant            14117 non-null  float64\n",
      " 2   primary_cleaner.input.feed_size             14149 non-null  float64\n",
      " 3   primary_cleaner.input.xanthate              14049 non-null  float64\n",
      " 4   primary_cleaner.state.floatbank8_a_air      14145 non-null  float64\n",
      " 5   primary_cleaner.state.floatbank8_a_level    14148 non-null  float64\n",
      " 6   primary_cleaner.state.floatbank8_b_air      14145 non-null  float64\n",
      " 7   primary_cleaner.state.floatbank8_b_level    14148 non-null  float64\n",
      " 8   primary_cleaner.state.floatbank8_c_air      14147 non-null  float64\n",
      " 9   primary_cleaner.state.floatbank8_c_level    14148 non-null  float64\n",
      " 10  primary_cleaner.state.floatbank8_d_air      14146 non-null  float64\n",
      " 11  primary_cleaner.state.floatbank8_d_level    14148 non-null  float64\n",
      " 12  rougher.input.feed_ag                       14149 non-null  float64\n",
      " 13  rougher.input.feed_pb                       14049 non-null  float64\n",
      " 14  rougher.input.feed_rate                     14141 non-null  float64\n",
      " 15  rougher.input.feed_size                     14005 non-null  float64\n",
      " 16  rougher.input.feed_sol                      14071 non-null  float64\n",
      " 17  rougher.input.feed_au                       14149 non-null  float64\n",
      " 18  rougher.input.floatbank10_sulfate           14120 non-null  float64\n",
      " 19  rougher.input.floatbank10_xanthate          14141 non-null  float64\n",
      " 20  rougher.input.floatbank11_sulfate           14113 non-null  float64\n",
      " 21  rougher.input.floatbank11_xanthate          13721 non-null  float64\n",
      " 22  rougher.state.floatbank10_a_air             14148 non-null  float64\n",
      " 23  rougher.state.floatbank10_a_level           14148 non-null  float64\n",
      " 24  rougher.state.floatbank10_b_air             14148 non-null  float64\n",
      " 25  rougher.state.floatbank10_b_level           14148 non-null  float64\n",
      " 26  rougher.state.floatbank10_c_air             14148 non-null  float64\n",
      " 27  rougher.state.floatbank10_c_level           14148 non-null  float64\n",
      " 28  rougher.state.floatbank10_d_air             14149 non-null  float64\n",
      " 29  rougher.state.floatbank10_d_level           14149 non-null  float64\n",
      " 30  rougher.state.floatbank10_e_air             13713 non-null  float64\n",
      " 31  rougher.state.floatbank10_e_level           14149 non-null  float64\n",
      " 32  rougher.state.floatbank10_f_air             14149 non-null  float64\n",
      " 33  rougher.state.floatbank10_f_level           14149 non-null  float64\n",
      " 34  secondary_cleaner.state.floatbank2_a_air    13932 non-null  float64\n",
      " 35  secondary_cleaner.state.floatbank2_a_level  14148 non-null  float64\n",
      " 36  secondary_cleaner.state.floatbank2_b_air    14128 non-null  float64\n",
      " 37  secondary_cleaner.state.floatbank2_b_level  14148 non-null  float64\n",
      " 38  secondary_cleaner.state.floatbank3_a_air    14145 non-null  float64\n",
      " 39  secondary_cleaner.state.floatbank3_a_level  14148 non-null  float64\n",
      " 40  secondary_cleaner.state.floatbank3_b_air    14148 non-null  float64\n",
      " 41  secondary_cleaner.state.floatbank3_b_level  14148 non-null  float64\n",
      " 42  secondary_cleaner.state.floatbank4_a_air    14143 non-null  float64\n",
      " 43  secondary_cleaner.state.floatbank4_a_level  14148 non-null  float64\n",
      " 44  secondary_cleaner.state.floatbank4_b_air    14148 non-null  float64\n",
      " 45  secondary_cleaner.state.floatbank4_b_level  14148 non-null  float64\n",
      " 46  secondary_cleaner.state.floatbank5_a_air    14148 non-null  float64\n",
      " 47  secondary_cleaner.state.floatbank5_a_level  14148 non-null  float64\n",
      " 48  secondary_cleaner.state.floatbank5_b_air    14148 non-null  float64\n",
      " 49  secondary_cleaner.state.floatbank5_b_level  14148 non-null  float64\n",
      " 50  secondary_cleaner.state.floatbank6_a_air    14147 non-null  float64\n",
      " 51  secondary_cleaner.state.floatbank6_a_level  14148 non-null  float64\n",
      "dtypes: float64(52)\n",
      "memory usage: 5.7 MB\n"
     ]
    }
   ],
   "source": [
    "columns_drop = set(df_train) - set(df_test)\n",
    "df_train_features = df_train.drop(columns_drop, axis=1)\n",
    "\n",
    "df_train_features.info()"
   ]
  },
  {
   "cell_type": "markdown",
   "metadata": {},
   "source": [
    "Заполним пропуски предыдущим значением."
   ]
  },
  {
   "cell_type": "code",
   "execution_count": 8,
   "metadata": {},
   "outputs": [
    {
     "name": "stdout",
     "output_type": "stream",
     "text": [
      "<class 'pandas.core.frame.DataFrame'>\n",
      "DatetimeIndex: 14149 entries, 2016-01-15 00:00:00 to 2018-08-18 10:59:59\n",
      "Data columns (total 87 columns):\n",
      " #   Column                                              Non-Null Count  Dtype  \n",
      "---  ------                                              --------------  -----  \n",
      " 0   final.output.concentrate_ag                         14149 non-null  float64\n",
      " 1   final.output.concentrate_pb                         14149 non-null  float64\n",
      " 2   final.output.concentrate_sol                        14149 non-null  float64\n",
      " 3   final.output.concentrate_au                         14149 non-null  float64\n",
      " 4   final.output.recovery                               14149 non-null  float64\n",
      " 5   final.output.tail_ag                                14149 non-null  float64\n",
      " 6   final.output.tail_pb                                14149 non-null  float64\n",
      " 7   final.output.tail_sol                               14149 non-null  float64\n",
      " 8   final.output.tail_au                                14149 non-null  float64\n",
      " 9   primary_cleaner.input.sulfate                       14149 non-null  float64\n",
      " 10  primary_cleaner.input.depressant                    14149 non-null  float64\n",
      " 11  primary_cleaner.input.feed_size                     14149 non-null  float64\n",
      " 12  primary_cleaner.input.xanthate                      14149 non-null  float64\n",
      " 13  primary_cleaner.output.concentrate_ag               14149 non-null  float64\n",
      " 14  primary_cleaner.output.concentrate_pb               14149 non-null  float64\n",
      " 15  primary_cleaner.output.concentrate_sol              14149 non-null  float64\n",
      " 16  primary_cleaner.output.concentrate_au               14149 non-null  float64\n",
      " 17  primary_cleaner.output.tail_ag                      14149 non-null  float64\n",
      " 18  primary_cleaner.output.tail_pb                      14149 non-null  float64\n",
      " 19  primary_cleaner.output.tail_sol                     14149 non-null  float64\n",
      " 20  primary_cleaner.output.tail_au                      14149 non-null  float64\n",
      " 21  primary_cleaner.state.floatbank8_a_air              14149 non-null  float64\n",
      " 22  primary_cleaner.state.floatbank8_a_level            14149 non-null  float64\n",
      " 23  primary_cleaner.state.floatbank8_b_air              14149 non-null  float64\n",
      " 24  primary_cleaner.state.floatbank8_b_level            14149 non-null  float64\n",
      " 25  primary_cleaner.state.floatbank8_c_air              14149 non-null  float64\n",
      " 26  primary_cleaner.state.floatbank8_c_level            14149 non-null  float64\n",
      " 27  primary_cleaner.state.floatbank8_d_air              14149 non-null  float64\n",
      " 28  primary_cleaner.state.floatbank8_d_level            14149 non-null  float64\n",
      " 29  rougher.calculation.sulfate_to_au_concentrate       14149 non-null  float64\n",
      " 30  rougher.calculation.floatbank10_sulfate_to_au_feed  14149 non-null  float64\n",
      " 31  rougher.calculation.floatbank11_sulfate_to_au_feed  14149 non-null  float64\n",
      " 32  rougher.calculation.au_pb_ratio                     14149 non-null  float64\n",
      " 33  rougher.input.feed_ag                               14149 non-null  float64\n",
      " 34  rougher.input.feed_pb                               14149 non-null  float64\n",
      " 35  rougher.input.feed_rate                             14149 non-null  float64\n",
      " 36  rougher.input.feed_size                             14149 non-null  float64\n",
      " 37  rougher.input.feed_sol                              14149 non-null  float64\n",
      " 38  rougher.input.feed_au                               14149 non-null  float64\n",
      " 39  rougher.input.floatbank10_sulfate                   14149 non-null  float64\n",
      " 40  rougher.input.floatbank10_xanthate                  14149 non-null  float64\n",
      " 41  rougher.input.floatbank11_sulfate                   14149 non-null  float64\n",
      " 42  rougher.input.floatbank11_xanthate                  14149 non-null  float64\n",
      " 43  rougher.output.concentrate_ag                       14149 non-null  float64\n",
      " 44  rougher.output.concentrate_pb                       14149 non-null  float64\n",
      " 45  rougher.output.concentrate_sol                      14149 non-null  float64\n",
      " 46  rougher.output.concentrate_au                       14149 non-null  float64\n",
      " 47  rougher.output.recovery                             14149 non-null  float64\n",
      " 48  rougher.output.tail_ag                              14149 non-null  float64\n",
      " 49  rougher.output.tail_pb                              14149 non-null  float64\n",
      " 50  rougher.output.tail_sol                             14149 non-null  float64\n",
      " 51  rougher.output.tail_au                              14149 non-null  float64\n",
      " 52  rougher.state.floatbank10_a_air                     14149 non-null  float64\n",
      " 53  rougher.state.floatbank10_a_level                   14149 non-null  float64\n",
      " 54  rougher.state.floatbank10_b_air                     14149 non-null  float64\n",
      " 55  rougher.state.floatbank10_b_level                   14149 non-null  float64\n",
      " 56  rougher.state.floatbank10_c_air                     14149 non-null  float64\n",
      " 57  rougher.state.floatbank10_c_level                   14149 non-null  float64\n",
      " 58  rougher.state.floatbank10_d_air                     14149 non-null  float64\n",
      " 59  rougher.state.floatbank10_d_level                   14149 non-null  float64\n",
      " 60  rougher.state.floatbank10_e_air                     14149 non-null  float64\n",
      " 61  rougher.state.floatbank10_e_level                   14149 non-null  float64\n",
      " 62  rougher.state.floatbank10_f_air                     14149 non-null  float64\n",
      " 63  rougher.state.floatbank10_f_level                   14149 non-null  float64\n",
      " 64  secondary_cleaner.output.tail_ag                    14149 non-null  float64\n",
      " 65  secondary_cleaner.output.tail_pb                    14149 non-null  float64\n",
      " 66  secondary_cleaner.output.tail_sol                   14149 non-null  float64\n",
      " 67  secondary_cleaner.output.tail_au                    14149 non-null  float64\n",
      " 68  secondary_cleaner.state.floatbank2_a_air            14149 non-null  float64\n",
      " 69  secondary_cleaner.state.floatbank2_a_level          14149 non-null  float64\n",
      " 70  secondary_cleaner.state.floatbank2_b_air            14149 non-null  float64\n",
      " 71  secondary_cleaner.state.floatbank2_b_level          14149 non-null  float64\n",
      " 72  secondary_cleaner.state.floatbank3_a_air            14149 non-null  float64\n",
      " 73  secondary_cleaner.state.floatbank3_a_level          14149 non-null  float64\n",
      " 74  secondary_cleaner.state.floatbank3_b_air            14149 non-null  float64\n",
      " 75  secondary_cleaner.state.floatbank3_b_level          14149 non-null  float64\n",
      " 76  secondary_cleaner.state.floatbank4_a_air            14149 non-null  float64\n",
      " 77  secondary_cleaner.state.floatbank4_a_level          14149 non-null  float64\n",
      " 78  secondary_cleaner.state.floatbank4_b_air            14149 non-null  float64\n",
      " 79  secondary_cleaner.state.floatbank4_b_level          14149 non-null  float64\n",
      " 80  secondary_cleaner.state.floatbank5_a_air            14149 non-null  float64\n",
      " 81  secondary_cleaner.state.floatbank5_a_level          14149 non-null  float64\n",
      " 82  secondary_cleaner.state.floatbank5_b_air            14149 non-null  float64\n",
      " 83  secondary_cleaner.state.floatbank5_b_level          14149 non-null  float64\n",
      " 84  secondary_cleaner.state.floatbank6_a_air            14149 non-null  float64\n",
      " 85  secondary_cleaner.state.floatbank6_a_level          14149 non-null  float64\n",
      " 86  rougher.output.recovery.test                        14149 non-null  float64\n",
      "dtypes: float64(87)\n",
      "memory usage: 9.5 MB\n"
     ]
    }
   ],
   "source": [
    "df_train = df_train.fillna(method='ffill')\n",
    "df_test = df_test.fillna(method='ffill')\n",
    "df_full = df_full.fillna(method='ffill')\n",
    "df_train.info()"
   ]
  },
  {
   "cell_type": "code",
   "execution_count": 9,
   "metadata": {},
   "outputs": [],
   "source": [
    "df_full_merged = df_full[[\"rougher.output.recovery\", \"final.output.recovery\", \"rougher.output.concentrate_au\", \"rougher.output.concentrate_ag\", \"rougher.output.concentrate_pb\", \"rougher.output.concentrate_sol\", \"final.output.concentrate_au\", \"final.output.concentrate_ag\", \"final.output.concentrate_pb\", \"final.output.concentrate_sol\"]]\n",
    "df_test = df_test.merge(df_full_merged, on=\"date\", how=\"left\")\n",
    "df_full_merged = df_full_merged.drop(['rougher.output.recovery', 'final.output.recovery'], axis=1)"
   ]
  },
  {
   "cell_type": "code",
   "execution_count": 10,
   "metadata": {},
   "outputs": [
    {
     "name": "stdout",
     "output_type": "stream",
     "text": [
      "<class 'pandas.core.frame.DataFrame'>\n",
      "DatetimeIndex: 14149 entries, 2016-01-15 00:00:00 to 2018-08-18 10:59:59\n",
      "Data columns (total 52 columns):\n",
      " #   Column                                      Non-Null Count  Dtype  \n",
      "---  ------                                      --------------  -----  \n",
      " 0   primary_cleaner.input.sulfate               14149 non-null  float64\n",
      " 1   primary_cleaner.input.depressant            14149 non-null  float64\n",
      " 2   primary_cleaner.input.feed_size             14149 non-null  float64\n",
      " 3   primary_cleaner.input.xanthate              14149 non-null  float64\n",
      " 4   primary_cleaner.state.floatbank8_a_air      14149 non-null  float64\n",
      " 5   primary_cleaner.state.floatbank8_a_level    14149 non-null  float64\n",
      " 6   primary_cleaner.state.floatbank8_b_air      14149 non-null  float64\n",
      " 7   primary_cleaner.state.floatbank8_b_level    14149 non-null  float64\n",
      " 8   primary_cleaner.state.floatbank8_c_air      14149 non-null  float64\n",
      " 9   primary_cleaner.state.floatbank8_c_level    14149 non-null  float64\n",
      " 10  primary_cleaner.state.floatbank8_d_air      14149 non-null  float64\n",
      " 11  primary_cleaner.state.floatbank8_d_level    14149 non-null  float64\n",
      " 12  rougher.input.feed_ag                       14149 non-null  float64\n",
      " 13  rougher.input.feed_pb                       14149 non-null  float64\n",
      " 14  rougher.input.feed_rate                     14149 non-null  float64\n",
      " 15  rougher.input.feed_size                     14149 non-null  float64\n",
      " 16  rougher.input.feed_sol                      14149 non-null  float64\n",
      " 17  rougher.input.feed_au                       14149 non-null  float64\n",
      " 18  rougher.input.floatbank10_sulfate           14149 non-null  float64\n",
      " 19  rougher.input.floatbank10_xanthate          14149 non-null  float64\n",
      " 20  rougher.input.floatbank11_sulfate           14149 non-null  float64\n",
      " 21  rougher.input.floatbank11_xanthate          14149 non-null  float64\n",
      " 22  rougher.state.floatbank10_a_air             14149 non-null  float64\n",
      " 23  rougher.state.floatbank10_a_level           14149 non-null  float64\n",
      " 24  rougher.state.floatbank10_b_air             14149 non-null  float64\n",
      " 25  rougher.state.floatbank10_b_level           14149 non-null  float64\n",
      " 26  rougher.state.floatbank10_c_air             14149 non-null  float64\n",
      " 27  rougher.state.floatbank10_c_level           14149 non-null  float64\n",
      " 28  rougher.state.floatbank10_d_air             14149 non-null  float64\n",
      " 29  rougher.state.floatbank10_d_level           14149 non-null  float64\n",
      " 30  rougher.state.floatbank10_e_air             14149 non-null  float64\n",
      " 31  rougher.state.floatbank10_e_level           14149 non-null  float64\n",
      " 32  rougher.state.floatbank10_f_air             14149 non-null  float64\n",
      " 33  rougher.state.floatbank10_f_level           14149 non-null  float64\n",
      " 34  secondary_cleaner.state.floatbank2_a_air    14149 non-null  float64\n",
      " 35  secondary_cleaner.state.floatbank2_a_level  14149 non-null  float64\n",
      " 36  secondary_cleaner.state.floatbank2_b_air    14149 non-null  float64\n",
      " 37  secondary_cleaner.state.floatbank2_b_level  14149 non-null  float64\n",
      " 38  secondary_cleaner.state.floatbank3_a_air    14149 non-null  float64\n",
      " 39  secondary_cleaner.state.floatbank3_a_level  14149 non-null  float64\n",
      " 40  secondary_cleaner.state.floatbank3_b_air    14149 non-null  float64\n",
      " 41  secondary_cleaner.state.floatbank3_b_level  14149 non-null  float64\n",
      " 42  secondary_cleaner.state.floatbank4_a_air    14149 non-null  float64\n",
      " 43  secondary_cleaner.state.floatbank4_a_level  14149 non-null  float64\n",
      " 44  secondary_cleaner.state.floatbank4_b_air    14149 non-null  float64\n",
      " 45  secondary_cleaner.state.floatbank4_b_level  14149 non-null  float64\n",
      " 46  secondary_cleaner.state.floatbank5_a_air    14149 non-null  float64\n",
      " 47  secondary_cleaner.state.floatbank5_a_level  14149 non-null  float64\n",
      " 48  secondary_cleaner.state.floatbank5_b_air    14149 non-null  float64\n",
      " 49  secondary_cleaner.state.floatbank5_b_level  14149 non-null  float64\n",
      " 50  secondary_cleaner.state.floatbank6_a_air    14149 non-null  float64\n",
      " 51  secondary_cleaner.state.floatbank6_a_level  14149 non-null  float64\n",
      "dtypes: float64(52)\n",
      "memory usage: 5.7 MB\n"
     ]
    }
   ],
   "source": [
    "columns_list = df_train_features.columns\n",
    "columns_target = ['rougher.output.recovery', 'final.output.recovery']\n",
    "df_train_features = df_train_features.fillna(df_train_features.mean())\n",
    "df_train_features.info();"
   ]
  },
  {
   "cell_type": "markdown",
   "metadata": {},
   "source": [
    "создадим тестовую целевую выборку из полного дата сета"
   ]
  },
  {
   "cell_type": "code",
   "execution_count": 11,
   "metadata": {},
   "outputs": [
    {
     "data": {
      "text/html": [
       "<div>\n",
       "<style scoped>\n",
       "    .dataframe tbody tr th:only-of-type {\n",
       "        vertical-align: middle;\n",
       "    }\n",
       "\n",
       "    .dataframe tbody tr th {\n",
       "        vertical-align: top;\n",
       "    }\n",
       "\n",
       "    .dataframe thead th {\n",
       "        text-align: right;\n",
       "    }\n",
       "</style>\n",
       "<table border=\"1\" class=\"dataframe\">\n",
       "  <thead>\n",
       "    <tr style=\"text-align: right;\">\n",
       "      <th></th>\n",
       "      <th>rougher.output.recovery</th>\n",
       "      <th>final.output.recovery</th>\n",
       "    </tr>\n",
       "    <tr>\n",
       "      <th>date</th>\n",
       "      <th></th>\n",
       "      <th></th>\n",
       "    </tr>\n",
       "  </thead>\n",
       "  <tbody>\n",
       "    <tr>\n",
       "      <th>2016-09-01 00:59:59</th>\n",
       "      <td>89.993421</td>\n",
       "      <td>70.273583</td>\n",
       "    </tr>\n",
       "    <tr>\n",
       "      <th>2016-09-01 01:59:59</th>\n",
       "      <td>88.089657</td>\n",
       "      <td>68.910432</td>\n",
       "    </tr>\n",
       "    <tr>\n",
       "      <th>2016-09-01 02:59:59</th>\n",
       "      <td>88.412756</td>\n",
       "      <td>68.143213</td>\n",
       "    </tr>\n",
       "    <tr>\n",
       "      <th>2016-09-01 03:59:59</th>\n",
       "      <td>87.360133</td>\n",
       "      <td>67.776393</td>\n",
       "    </tr>\n",
       "    <tr>\n",
       "      <th>2016-09-01 04:59:59</th>\n",
       "      <td>83.236367</td>\n",
       "      <td>61.467078</td>\n",
       "    </tr>\n",
       "    <tr>\n",
       "      <th>...</th>\n",
       "      <td>...</td>\n",
       "      <td>...</td>\n",
       "    </tr>\n",
       "    <tr>\n",
       "      <th>2017-12-31 19:59:59</th>\n",
       "      <td>95.172585</td>\n",
       "      <td>68.919891</td>\n",
       "    </tr>\n",
       "    <tr>\n",
       "      <th>2017-12-31 20:59:59</th>\n",
       "      <td>94.575036</td>\n",
       "      <td>68.440582</td>\n",
       "    </tr>\n",
       "    <tr>\n",
       "      <th>2017-12-31 21:59:59</th>\n",
       "      <td>93.018138</td>\n",
       "      <td>67.092759</td>\n",
       "    </tr>\n",
       "    <tr>\n",
       "      <th>2017-12-31 22:59:59</th>\n",
       "      <td>92.599042</td>\n",
       "      <td>68.061186</td>\n",
       "    </tr>\n",
       "    <tr>\n",
       "      <th>2017-12-31 23:59:59</th>\n",
       "      <td>91.177695</td>\n",
       "      <td>71.699976</td>\n",
       "    </tr>\n",
       "  </tbody>\n",
       "</table>\n",
       "<p>5290 rows × 2 columns</p>\n",
       "</div>"
      ],
      "text/plain": [
       "                     rougher.output.recovery  final.output.recovery\n",
       "date                                                               \n",
       "2016-09-01 00:59:59                89.993421              70.273583\n",
       "2016-09-01 01:59:59                88.089657              68.910432\n",
       "2016-09-01 02:59:59                88.412756              68.143213\n",
       "2016-09-01 03:59:59                87.360133              67.776393\n",
       "2016-09-01 04:59:59                83.236367              61.467078\n",
       "...                                      ...                    ...\n",
       "2017-12-31 19:59:59                95.172585              68.919891\n",
       "2017-12-31 20:59:59                94.575036              68.440582\n",
       "2017-12-31 21:59:59                93.018138              67.092759\n",
       "2017-12-31 22:59:59                92.599042              68.061186\n",
       "2017-12-31 23:59:59                91.177695              71.699976\n",
       "\n",
       "[5290 rows x 2 columns]"
      ]
     },
     "execution_count": 11,
     "metadata": {},
     "output_type": "execute_result"
    }
   ],
   "source": [
    "target_for_test = df_full[['rougher.output.recovery', 'final.output.recovery']].loc[df_test.index]\n",
    "target_for_test"
   ]
  },
  {
   "cell_type": "markdown",
   "metadata": {},
   "source": [
    "## Анализ данных"
   ]
  },
  {
   "cell_type": "markdown",
   "metadata": {},
   "source": [
    "### Проверим распределение содержания золота серебра и свицка на всех этапах"
   ]
  },
  {
   "cell_type": "code",
   "execution_count": 12,
   "metadata": {},
   "outputs": [
    {
     "data": {
      "image/png": "[encoded data removed]",
      "text/plain": [
       "<Figure size 432x288 with 1 Axes>"
      ]
     },
     "metadata": {
      "needs_background": "light"
     },
     "output_type": "display_data"
    }
   ],
   "source": [
    "def distribution(final, primary, rougher, raw, name):\n",
    "    plt.hist(final, bins=70, alpha=0.5, label='Final')\n",
    "    plt.hist(primary, bins=70, alpha=0.5, label='Primary cleaner')\n",
    "    plt.hist(rougher, bins=70, alpha=0.5, label='Rougher')\n",
    "    plt.hist(raw, bins=70, alpha=0.5, label='Raw')\n",
    "    plt.title(name)\n",
    "    plt.legend()\n",
    "    plt.show()\n",
    "# Распределение золота\n",
    "distribution(df_full['final.output.concentrate_au'],\n",
    "             df_full['primary_cleaner.output.concentrate_au'],\n",
    "             df_full['rougher.output.concentrate_au'],\n",
    "             df_full['rougher.input.feed_au'], 'Золото')\n"
   ]
  },
  {
   "cell_type": "markdown",
   "metadata": {},
   "source": [
    "Распределение близко к нормальному только с длинным левым хвостом.\n",
    "Наблюдается выбросы в 0 значении.\n",
    "\n",
    "С каждым этапом процент содержания золота растет.\n"
   ]
  },
  {
   "cell_type": "code",
   "execution_count": 13,
   "metadata": {},
   "outputs": [
    {
     "data": {
      "image/png": "[encoded data removed]",
      "text/plain": [
       "<Figure size 432x288 with 1 Axes>"
      ]
     },
     "metadata": {
      "needs_background": "light"
     },
     "output_type": "display_data"
    }
   ],
   "source": [
    "# Распределение серебра\n",
    "distribution(df_full['final.output.concentrate_ag'],\n",
    "             df_full['primary_cleaner.output.concentrate_ag'],\n",
    "             df_full['rougher.output.concentrate_ag'],\n",
    "             df_full['rougher.input.feed_ag'], 'Серебро')\n"
   ]
  },
  {
   "cell_type": "markdown",
   "metadata": {},
   "source": [
    "В изходном материале распределения количества серебра отличается от нормального. После очистки близко к нормальному.\n",
    "Также наблюдается выбросы в 0 значении.\n",
    "\n",
    "После финальной очистки количество содержания серебра снижается до 5."
   ]
  },
  {
   "cell_type": "code",
   "execution_count": 14,
   "metadata": {},
   "outputs": [
    {
     "data": {
      "image/png": "[encoded data removed]",
      "text/plain": [
       "<Figure size 432x288 with 1 Axes>"
      ]
     },
     "metadata": {
      "needs_background": "light"
     },
     "output_type": "display_data"
    }
   ],
   "source": [
    "# Распределение свинца\n",
    "distribution(df_full['final.output.concentrate_pb'],\n",
    "             df_full['primary_cleaner.output.concentrate_pb'],\n",
    "             df_full['rougher.output.concentrate_pb'],\n",
    "             df_full['rougher.input.feed_pb'], 'Свинец')\n"
   ]
  },
  {
   "cell_type": "markdown",
   "metadata": {},
   "source": [
    "Распределение близко к нормальному.\n",
    "Также наблюдается выбросы в 0 значении.\n",
    "\n",
    "После финальной очистки количество содержания свинца увеличивается."
   ]
  },
  {
   "cell_type": "markdown",
   "metadata": {},
   "source": [
    "### Проверим распределение размера гранул на разных этапах"
   ]
  },
  {
   "cell_type": "code",
   "execution_count": 15,
   "metadata": {},
   "outputs": [
    {
     "data": {
      "image/png": "[encoded data removed]",
      "text/plain": [
       "<Figure size 504x360 with 1 Axes>"
      ]
     },
     "metadata": {
      "needs_background": "light"
     },
     "output_type": "display_data"
    }
   ],
   "source": [
    "plt.figure(figsize=(7, 5))\n",
    "plt.hist(df_train['primary_cleaner.input.feed_size'], bins=50, alpha=0.5, label='primary train')\n",
    "plt.hist(df_train['rougher.input.feed_size'], bins=50, alpha=0.5, label='rougher train')\n",
    "plt.hist(df_test['primary_cleaner.input.feed_size'], bins=50, alpha=0.5, label='primary test')\n",
    "plt.hist(df_test['rougher.input.feed_size'], bins=50, alpha=0.5, label='rougher test')\n",
    "plt.legend()\n",
    "plt.show();"
   ]
  },
  {
   "cell_type": "markdown",
   "metadata": {},
   "source": [
    "* Как видим после первичной очистки практически все гранулы в одном размере. \n",
    "* И в обучающей и в тестовой выборках форма распределения схожи."
   ]
  },
  {
   "cell_type": "markdown",
   "metadata": {},
   "source": [
    "### Проанализируем данные\n",
    "Исследуем суммарную концентрацию всех веществ на разных стадиях: в сырье, в черновом и финальном концентратах."
   ]
  },
  {
   "cell_type": "code",
   "execution_count": 16,
   "metadata": {},
   "outputs": [
    {
     "data": {
      "image/png": "[encoded data removed]",
      "text/plain": [
       "<Figure size 504x360 with 1 Axes>"
      ]
     },
     "metadata": {
      "needs_background": "light"
     },
     "output_type": "display_data"
    }
   ],
   "source": [
    "rougher = df_full['rougher.input.feed_au']+df_full['rougher.input.feed_ag']+\\\n",
    "    df_full['rougher.input.feed_pb']+df_full['rougher.input.feed_sol']\n",
    "primary_cleaner = df_full['primary_cleaner.output.concentrate_ag']+\\\n",
    "    df_full['primary_cleaner.output.concentrate_pb']+\\\n",
    "    df_full['primary_cleaner.output.concentrate_au']+\\\n",
    "    df_full['primary_cleaner.output.concentrate_sol']\n",
    "final = df_full['final.output.concentrate_ag']+df_full['final.output.concentrate_pb']+\\\n",
    "    df_full['final.output.concentrate_au']+df_full['final.output.concentrate_sol']\n",
    "plt.figure(figsize=(7, 5))\n",
    "plt.hist(rougher, bins=50, alpha=0.5, label='rougher')\n",
    "plt.hist(primary_cleaner, bins=50, alpha=0.5, label='primary_cleaner')\n",
    "plt.hist(final, bins=50, alpha=0.5, label='final')\n",
    "plt.legend()\n",
    "plt.show();"
   ]
  },
  {
   "cell_type": "markdown",
   "metadata": {},
   "source": [
    "С каждым этапом средняя концентрация возрастает.\n",
    "Распределение близкое к нормальному что хорошо сказывается на обучении модели.\n",
    "Наблудаются аномальные выбросы с нулевым значением. От этих данных лучше избавиться."
   ]
  },
  {
   "cell_type": "code",
   "execution_count": 17,
   "metadata": {},
   "outputs": [
    {
     "data": {
      "image/png": "[encoded data removed]",
      "text/plain": [
       "<Figure size 432x288 with 1 Axes>"
      ]
     },
     "metadata": {
      "needs_background": "light"
     },
     "output_type": "display_data"
    }
   ],
   "source": [
    "df_train_features = df_train_features.loc[df_train_features['rougher.input.feed_au']>0]\n",
    "df_test = df_test.loc[df_test['rougher.input.feed_au']>0]\n",
    "df_full = df_full.loc[df_full['rougher.input.feed_au']>0]\n",
    "plt.hist(df_full['rougher.input.feed_au'], bins=50, alpha=0.5);"
   ]
  },
  {
   "cell_type": "markdown",
   "metadata": {},
   "source": [
    "От нулевых значений избавились"
   ]
  },
  {
   "cell_type": "markdown",
   "metadata": {},
   "source": [
    "## Модель"
   ]
  },
  {
   "cell_type": "markdown",
   "metadata": {},
   "source": [
    "### Создадим функцию расчета итогового показателя sMAPE"
   ]
  },
  {
   "cell_type": "code",
   "execution_count": 18,
   "metadata": {},
   "outputs": [],
   "source": [
    "def smape(y, y_pred):\n",
    "    error = np.abs(y - y_pred)\n",
    "    scale = (np.abs(y) + np.abs(y_pred)) / 2\n",
    "    smape = (error / scale).mean()\n",
    "    return smape\n",
    "\n"
   ]
  },
  {
   "cell_type": "markdown",
   "metadata": {},
   "source": [
    "### Выбор модели"
   ]
  },
  {
   "cell_type": "code",
   "execution_count": 19,
   "metadata": {},
   "outputs": [],
   "source": [
    "features_train = df_train.drop(columns=[\"rougher.output.recovery\", \"final.output.recovery\"], axis=1)\n",
    "target_train = df_train[[\"rougher.output.recovery\", \"final.output.recovery\"]]\n",
    "\n",
    "features_test = df_test.drop(columns=[\"rougher.output.recovery\", \"final.output.recovery\"], axis=1)\n",
    "target_test = df_test[[\"rougher.output.recovery\", \"final.output.recovery\"]]\n",
    "\n",
    "smape_scorer = make_scorer(smape, greater_is_better=False)\n"
   ]
  },
  {
   "cell_type": "code",
   "execution_count": 20,
   "metadata": {},
   "outputs": [
    {
     "name": "stdout",
     "output_type": "stream",
     "text": [
      "Лучшее значение smape для дерева решений: 0.0006922394604794676 при значениях гиперпараметров: {'max_depth': 10}\n"
     ]
    }
   ],
   "source": [
    "param_grid = {'max_depth': range(2, 11)}\n",
    "model = DecisionTreeRegressor(random_state=12345)\n",
    "search = GridSearchCV(model, param_grid, cv=5, scoring=smape_scorer)\n",
    "search.fit(features_train, target_train[\"rougher.output.recovery\"])\n",
    "print('Лучшее значение smape для дерева решений: {} при значениях гиперпараметров: {}'.format(-search.best_score_, search.best_params_))\n",
    "best_dtr = -search.best_score_"
   ]
  },
  {
   "cell_type": "code",
   "execution_count": 21,
   "metadata": {},
   "outputs": [
    {
     "name": "stdout",
     "output_type": "stream",
     "text": [
      "Значение sMAPE_rougher: -0.001\n",
      "Значение sMAPE_final: -0.053\n",
      "Итоговое sMAPE дерева решений: 0.040\n"
     ]
    }
   ],
   "source": [
    "def score_CVS(model, features_train,target_train):\n",
    "    predict = pd.DataFrame()\n",
    "    model.fit(features_train,target_train['rougher.output.recovery'])\n",
    "    predict[0] = model.predict(features_train)\n",
    "    model.fit(features_train,target_train['final.output.recovery'])\n",
    "    predict[1] = model.predict(features_train)\n",
    "    \n",
    "    cross_rougher = cross_val_score(model, features_train, target_train['rougher.output.recovery'],scoring=smape_scorer, cv=10)\n",
    "    cross_final = cross_val_score(model, features_train, target_train['final.output.recovery'],scoring=smape_scorer, cv=10)\n",
    "    print('Значение sMAPE_rougher:', '%.3f' % cross_rougher.mean())\n",
    "    print('Значение sMAPE_final:', '%.3f' % cross_final.mean())\n",
    "    smape_result = 0.25*abs(cross_rougher.mean()) + 0.75*abs(cross_final.mean())\n",
    "    return smape_result\n",
    "model = DecisionTreeRegressor(max_depth=10, random_state=1234)\n",
    "smape_result = score_CVS(model, features_train,target_train)\n",
    "print('Итоговое sMAPE дерева решений:','%.3f' % smape_result)"
   ]
  },
  {
   "cell_type": "code",
   "execution_count": 22,
   "metadata": {},
   "outputs": [
    {
     "name": "stdout",
     "output_type": "stream",
     "text": [
      "Лучшее значение smape для случайного леса: 0.0007270223191315077 при значениях гиперпараметров: {'max_depth': 10, 'n_estimators': 2}\n"
     ]
    }
   ],
   "source": [
    "param_grid = {'max_depth': range(2, 11), 'n_estimators': range(1, 11)}\n",
    "model = RandomForestRegressor(random_state=12345)\n",
    "search = GridSearchCV(model, param_grid, cv=5, scoring=smape_scorer)\n",
    "search.fit(features_train, target_train[\"rougher.output.recovery\"])\n",
    "print('Лучшее значение smape для случайного леса: {} при значениях гиперпараметров: {}'.format(-search.best_score_, search.best_params_))\n",
    "best_dtr = -search.best_score_"
   ]
  },
  {
   "cell_type": "code",
   "execution_count": 26,
   "metadata": {},
   "outputs": [
    {
     "name": "stdout",
     "output_type": "stream",
     "text": [
      "Значение sMAPE_rougher: -0.001\n",
      "Значение sMAPE_final: -0.054\n",
      "Итоговое sMAPE случайного леса: 0.041\n"
     ]
    }
   ],
   "source": [
    "\n",
    "# модель случайного леса\n",
    "model = RandomForestRegressor(random_state=1234, max_depth=10, n_estimators=2)\n",
    "smape_result = score_CVS(model, features_train,target_train)\n",
    "print('Итоговое sMAPE случайного леса:','%.3f' % smape_result)"
   ]
  },
  {
   "cell_type": "code",
   "execution_count": 24,
   "metadata": {},
   "outputs": [
    {
     "name": "stdout",
     "output_type": "stream",
     "text": [
      "Значение sMAPE_rougher: -0.042\n",
      "Значение sMAPE_final: -0.052\n",
      "Итоговое sMAPE логистической регрессии: 0.050\n"
     ]
    }
   ],
   "source": [
    "\n",
    "# модель логистической регрессии\n",
    "model = LinearRegression()\n",
    "smape_result = score_CVS(model, features_train,target_train)\n",
    "print('Итоговое sMAPE логистической регрессии:','%.3f' % smape_result)"
   ]
  },
  {
   "cell_type": "markdown",
   "metadata": {},
   "source": [
    "Модель Логистической регрессии показала лучшее качество, на ней проверим точность предсказаний"
   ]
  },
  {
   "cell_type": "code",
   "execution_count": 25,
   "metadata": {
    "scrolled": true
   },
   "outputs": [
    {
     "name": "stdout",
     "output_type": "stream",
     "text": [
      "Значение sMAPE_rougher: -0.095\n",
      "Значение sMAPE_final: -0.098\n",
      "Итоговое sMAPE логистической регрессии: 0.097\n"
     ]
    }
   ],
   "source": [
    "model = LinearRegression()\n",
    "smape_result = score_CVS(model, features_test,target_test)\n",
    "print('Итоговое sMAPE логистической регрессии:','%.3f' % smape_result)"
   ]
  },
  {
   "cell_type": "markdown",
   "metadata": {},
   "source": [
    "**Вывод:**\n",
    "   - проверив данные эффективности обогощщения с расчетными убедились в достоверности предоставленных данных\n",
    "   - выяснили что с каждым этапом очистки процент золота растет\n",
    "   - процент содержания свинца и серебра на разных этапах меняется и на финальном этапе свинца больше чем серебра\n",
    "   - исследовали 3 модели которые могут предсказать эффективное получение высокого содержания золота\n",
    "   - минимальные ошибки у модели Дерева решений, ее и предлагаем для использования в прогнозировании"
   ]
  }
 ],
 "metadata": {
  "ExecuteTimeLog": [
   {
    "duration": 640,
    "start_time": "2022-04-04T08:01:45.713Z"
   },
   {
    "duration": 19,
    "start_time": "2022-04-04T08:02:18.717Z"
   },
   {
    "duration": 352,
    "start_time": "2022-04-04T08:02:49.086Z"
   },
   {
    "duration": 315,
    "start_time": "2022-04-04T08:03:06.967Z"
   },
   {
    "duration": 328,
    "start_time": "2022-04-04T08:03:37.266Z"
   },
   {
    "duration": 112,
    "start_time": "2022-04-04T08:08:43.004Z"
   },
   {
    "duration": 516,
    "start_time": "2022-04-04T08:14:42.390Z"
   },
   {
    "duration": 339,
    "start_time": "2022-04-04T11:13:26.434Z"
   },
   {
    "duration": 360,
    "start_time": "2022-04-04T11:16:17.759Z"
   },
   {
    "duration": 125,
    "start_time": "2022-04-04T11:18:12.911Z"
   },
   {
    "duration": 73,
    "start_time": "2022-04-04T14:34:36.083Z"
   },
   {
    "duration": 901,
    "start_time": "2022-04-04T14:34:45.711Z"
   },
   {
    "duration": 140,
    "start_time": "2022-04-04T14:34:46.615Z"
   },
   {
    "duration": 447,
    "start_time": "2022-04-04T14:34:46.757Z"
   },
   {
    "duration": 890,
    "start_time": "2022-04-05T04:13:12.652Z"
   },
   {
    "duration": 129,
    "start_time": "2022-04-05T04:13:13.545Z"
   },
   {
    "duration": 478,
    "start_time": "2022-04-05T04:13:13.677Z"
   },
   {
    "duration": 148,
    "start_time": "2022-04-05T04:56:17.078Z"
   },
   {
    "duration": 118,
    "start_time": "2022-04-05T04:56:36.988Z"
   },
   {
    "duration": 110,
    "start_time": "2022-04-05T04:56:58.774Z"
   },
   {
    "duration": 96,
    "start_time": "2022-04-05T04:57:44.346Z"
   },
   {
    "duration": 7,
    "start_time": "2022-04-05T04:58:43.242Z"
   },
   {
    "duration": 10,
    "start_time": "2022-04-05T04:59:53.139Z"
   },
   {
    "duration": 128,
    "start_time": "2022-04-05T05:53:32.100Z"
   },
   {
    "duration": 163,
    "start_time": "2022-04-05T05:54:00.092Z"
   },
   {
    "duration": 122,
    "start_time": "2022-04-05T05:54:13.787Z"
   },
   {
    "duration": 132,
    "start_time": "2022-04-05T05:54:45.287Z"
   },
   {
    "duration": 153,
    "start_time": "2022-04-05T05:56:04.002Z"
   },
   {
    "duration": 140,
    "start_time": "2022-04-05T05:56:19.486Z"
   },
   {
    "duration": 123,
    "start_time": "2022-04-05T05:57:44.525Z"
   },
   {
    "duration": 886,
    "start_time": "2022-04-05T05:58:04.724Z"
   },
   {
    "duration": 130,
    "start_time": "2022-04-05T05:58:05.612Z"
   },
   {
    "duration": 459,
    "start_time": "2022-04-05T05:58:05.744Z"
   },
   {
    "duration": 12,
    "start_time": "2022-04-05T05:58:06.205Z"
   },
   {
    "duration": 121,
    "start_time": "2022-04-05T05:58:06.220Z"
   },
   {
    "duration": 5,
    "start_time": "2022-04-05T05:58:25.034Z"
   },
   {
    "duration": 2228,
    "start_time": "2022-04-05T05:58:33.171Z"
   },
   {
    "duration": 123,
    "start_time": "2022-04-05T06:01:02.762Z"
   },
   {
    "duration": 144,
    "start_time": "2022-04-05T06:01:27.343Z"
   },
   {
    "duration": 135,
    "start_time": "2022-04-05T06:01:33.196Z"
   },
   {
    "duration": 3575,
    "start_time": "2022-04-05T06:02:18.274Z"
   },
   {
    "duration": 519,
    "start_time": "2022-04-05T06:02:39.582Z"
   },
   {
    "duration": 520,
    "start_time": "2022-04-05T06:03:15.516Z"
   },
   {
    "duration": 134,
    "start_time": "2022-04-05T06:03:59.991Z"
   },
   {
    "duration": 576,
    "start_time": "2022-04-05T06:04:18.197Z"
   },
   {
    "duration": 525,
    "start_time": "2022-04-05T06:04:35.634Z"
   },
   {
    "duration": 118,
    "start_time": "2022-04-05T06:05:09.612Z"
   },
   {
    "duration": 530,
    "start_time": "2022-04-05T06:05:41.146Z"
   },
   {
    "duration": 122,
    "start_time": "2022-04-05T06:05:55.024Z"
   },
   {
    "duration": 533,
    "start_time": "2022-04-05T06:06:03.435Z"
   },
   {
    "duration": 541,
    "start_time": "2022-04-05T06:06:18.579Z"
   },
   {
    "duration": 536,
    "start_time": "2022-04-05T06:06:34.626Z"
   },
   {
    "duration": 531,
    "start_time": "2022-04-05T06:06:44.075Z"
   },
   {
    "duration": 511,
    "start_time": "2022-04-05T06:07:06.903Z"
   },
   {
    "duration": 524,
    "start_time": "2022-04-05T06:07:26.684Z"
   },
   {
    "duration": 558,
    "start_time": "2022-04-05T06:09:39.318Z"
   },
   {
    "duration": 546,
    "start_time": "2022-04-05T06:10:07.946Z"
   },
   {
    "duration": 508,
    "start_time": "2022-04-05T06:11:41.042Z"
   },
   {
    "duration": 128,
    "start_time": "2022-04-05T06:12:41.945Z"
   },
   {
    "duration": 555,
    "start_time": "2022-04-05T06:12:48.870Z"
   },
   {
    "duration": 8,
    "start_time": "2022-04-05T06:13:32.293Z"
   },
   {
    "duration": 522,
    "start_time": "2022-04-05T06:14:01.295Z"
   },
   {
    "duration": 19,
    "start_time": "2022-04-05T06:14:27.546Z"
   },
   {
    "duration": 14,
    "start_time": "2022-04-05T06:14:41.597Z"
   },
   {
    "duration": 15,
    "start_time": "2022-04-05T06:15:05.225Z"
   },
   {
    "duration": 14,
    "start_time": "2022-04-05T06:15:19.177Z"
   },
   {
    "duration": 53,
    "start_time": "2022-04-05T12:22:36.504Z"
   },
   {
    "duration": 704,
    "start_time": "2022-04-05T12:22:41.529Z"
   },
   {
    "duration": 97,
    "start_time": "2022-04-05T12:22:42.237Z"
   },
   {
    "duration": 368,
    "start_time": "2022-04-05T12:22:42.336Z"
   },
   {
    "duration": 11,
    "start_time": "2022-04-05T12:22:42.706Z"
   },
   {
    "duration": 362,
    "start_time": "2022-04-05T12:22:42.719Z"
   },
   {
    "duration": 9,
    "start_time": "2022-04-05T12:23:13.645Z"
   },
   {
    "duration": 331,
    "start_time": "2022-04-05T12:23:50.242Z"
   },
   {
    "duration": 6,
    "start_time": "2022-04-05T12:24:39.088Z"
   },
   {
    "duration": 8,
    "start_time": "2022-04-05T12:30:47.482Z"
   },
   {
    "duration": 6,
    "start_time": "2022-04-05T12:31:07.221Z"
   },
   {
    "duration": 4,
    "start_time": "2022-04-05T12:32:27.247Z"
   },
   {
    "duration": 5,
    "start_time": "2022-04-05T12:35:04.685Z"
   },
   {
    "duration": 845,
    "start_time": "2022-04-05T18:35:58.177Z"
   },
   {
    "duration": 133,
    "start_time": "2022-04-05T18:35:59.025Z"
   },
   {
    "duration": 444,
    "start_time": "2022-04-05T18:35:59.161Z"
   },
   {
    "duration": 13,
    "start_time": "2022-04-05T18:35:59.608Z"
   },
   {
    "duration": 23,
    "start_time": "2022-04-05T18:35:59.623Z"
   },
   {
    "duration": 2061,
    "start_time": "2022-04-05T18:41:52.361Z"
   },
   {
    "duration": 124,
    "start_time": "2022-04-05T18:41:54.425Z"
   },
   {
    "duration": 452,
    "start_time": "2022-04-05T18:41:54.551Z"
   },
   {
    "duration": 12,
    "start_time": "2022-04-05T18:41:55.006Z"
   },
   {
    "duration": 22,
    "start_time": "2022-04-05T18:41:55.021Z"
   },
   {
    "duration": 1000,
    "start_time": "2022-04-05T18:43:03.371Z"
   },
   {
    "duration": 146,
    "start_time": "2022-04-05T18:47:56.177Z"
   },
   {
    "duration": 10,
    "start_time": "2022-04-05T18:48:20.331Z"
   },
   {
    "duration": 9,
    "start_time": "2022-04-05T18:48:59.482Z"
   },
   {
    "duration": 9,
    "start_time": "2022-04-05T18:52:58.048Z"
   },
   {
    "duration": 10,
    "start_time": "2022-04-05T19:09:25.437Z"
   },
   {
    "duration": 7,
    "start_time": "2022-04-05T19:09:40.391Z"
   },
   {
    "duration": 9,
    "start_time": "2022-04-05T19:17:47.051Z"
   },
   {
    "duration": 10,
    "start_time": "2022-04-05T19:18:00.203Z"
   },
   {
    "duration": 11,
    "start_time": "2022-04-05T19:18:06.913Z"
   },
   {
    "duration": 10,
    "start_time": "2022-04-05T19:18:12.837Z"
   },
   {
    "duration": 9,
    "start_time": "2022-04-05T19:18:35.725Z"
   },
   {
    "duration": 7,
    "start_time": "2022-04-05T19:18:39.996Z"
   },
   {
    "duration": 10,
    "start_time": "2022-04-05T19:19:07.052Z"
   },
   {
    "duration": 6,
    "start_time": "2022-04-05T19:19:10.515Z"
   },
   {
    "duration": 9,
    "start_time": "2022-04-05T19:19:18.805Z"
   },
   {
    "duration": 6,
    "start_time": "2022-04-05T19:19:21.420Z"
   },
   {
    "duration": 185,
    "start_time": "2022-04-05T19:27:40.028Z"
   },
   {
    "duration": 9,
    "start_time": "2022-04-05T19:28:07.515Z"
   },
   {
    "duration": 9,
    "start_time": "2022-04-05T19:28:28.205Z"
   },
   {
    "duration": 12,
    "start_time": "2022-04-05T19:28:46.941Z"
   },
   {
    "duration": 6,
    "start_time": "2022-04-05T19:28:59.403Z"
   },
   {
    "duration": 21,
    "start_time": "2022-04-05T19:34:00.582Z"
   },
   {
    "duration": 15,
    "start_time": "2022-04-05T19:34:12.558Z"
   },
   {
    "duration": 4,
    "start_time": "2022-04-05T19:59:22.600Z"
   },
   {
    "duration": 6,
    "start_time": "2022-04-05T19:59:27.577Z"
   },
   {
    "duration": 16,
    "start_time": "2022-04-05T20:01:08.544Z"
   },
   {
    "duration": 6,
    "start_time": "2022-04-05T20:04:10.632Z"
   },
   {
    "duration": 7,
    "start_time": "2022-04-05T20:04:45.593Z"
   },
   {
    "duration": 6,
    "start_time": "2022-04-05T20:05:03.195Z"
   },
   {
    "duration": 12,
    "start_time": "2022-04-05T20:06:25.327Z"
   },
   {
    "duration": 7,
    "start_time": "2022-04-05T20:07:03.587Z"
   },
   {
    "duration": 7,
    "start_time": "2022-04-05T20:07:55.421Z"
   },
   {
    "duration": 9,
    "start_time": "2022-04-05T20:08:14.037Z"
   },
   {
    "duration": 14,
    "start_time": "2022-04-05T20:13:18.495Z"
   },
   {
    "duration": 21,
    "start_time": "2022-04-05T20:14:16.931Z"
   },
   {
    "duration": 48,
    "start_time": "2022-04-05T20:15:14.265Z"
   },
   {
    "duration": 27,
    "start_time": "2022-04-05T20:16:13.760Z"
   },
   {
    "duration": 2434,
    "start_time": "2022-04-06T04:38:13.656Z"
   },
   {
    "duration": 132,
    "start_time": "2022-04-06T04:38:16.093Z"
   },
   {
    "duration": 469,
    "start_time": "2022-04-06T04:38:16.227Z"
   },
   {
    "duration": 12,
    "start_time": "2022-04-06T04:38:16.700Z"
   },
   {
    "duration": 30,
    "start_time": "2022-04-06T04:38:16.715Z"
   },
   {
    "duration": 25,
    "start_time": "2022-04-06T04:38:16.747Z"
   },
   {
    "duration": 28,
    "start_time": "2022-04-06T04:38:16.775Z"
   },
   {
    "duration": 144,
    "start_time": "2022-04-06T04:40:11.144Z"
   },
   {
    "duration": 6,
    "start_time": "2022-04-06T04:40:16.654Z"
   },
   {
    "duration": 2723,
    "start_time": "2022-04-06T04:41:55.123Z"
   },
   {
    "duration": 229,
    "start_time": "2022-04-06T04:42:16.266Z"
   },
   {
    "duration": 176,
    "start_time": "2022-04-06T04:44:08.738Z"
   },
   {
    "duration": 2746,
    "start_time": "2022-04-06T04:44:17.146Z"
   },
   {
    "duration": 6,
    "start_time": "2022-04-06T04:52:33.243Z"
   },
   {
    "duration": 13,
    "start_time": "2022-04-06T04:52:42.452Z"
   },
   {
    "duration": 13,
    "start_time": "2022-04-06T04:52:58.487Z"
   },
   {
    "duration": 12,
    "start_time": "2022-04-06T04:53:44.617Z"
   },
   {
    "duration": 12,
    "start_time": "2022-04-06T04:54:57.748Z"
   },
   {
    "duration": 10,
    "start_time": "2022-04-06T04:55:26.553Z"
   },
   {
    "duration": 7,
    "start_time": "2022-04-06T04:55:40.101Z"
   },
   {
    "duration": 11,
    "start_time": "2022-04-06T04:56:24.837Z"
   },
   {
    "duration": 11,
    "start_time": "2022-04-06T04:57:39.885Z"
   },
   {
    "duration": 6,
    "start_time": "2022-04-06T04:58:50.907Z"
   },
   {
    "duration": 7,
    "start_time": "2022-04-06T04:59:46.035Z"
   },
   {
    "duration": 54,
    "start_time": "2022-04-06T04:59:58.083Z"
   },
   {
    "duration": 48,
    "start_time": "2022-04-06T05:00:09.055Z"
   },
   {
    "duration": 6,
    "start_time": "2022-04-06T05:11:06.891Z"
   },
   {
    "duration": 27,
    "start_time": "2022-04-06T05:27:57.230Z"
   },
   {
    "duration": 49,
    "start_time": "2022-04-06T05:28:18.582Z"
   },
   {
    "duration": 9,
    "start_time": "2022-04-06T05:34:07.652Z"
   },
   {
    "duration": 6,
    "start_time": "2022-04-06T05:34:18.152Z"
   },
   {
    "duration": 240,
    "start_time": "2022-04-06T05:52:51.744Z"
   },
   {
    "duration": 264,
    "start_time": "2022-04-06T05:53:09.853Z"
   },
   {
    "duration": 258,
    "start_time": "2022-04-06T05:53:21.351Z"
   },
   {
    "duration": 925,
    "start_time": "2022-04-06T06:45:18.050Z"
   },
   {
    "duration": 829,
    "start_time": "2022-04-06T06:51:51.262Z"
   },
   {
    "duration": 957,
    "start_time": "2022-04-06T06:58:05.055Z"
   },
   {
    "duration": 555,
    "start_time": "2022-04-06T12:14:28.166Z"
   },
   {
    "duration": 437,
    "start_time": "2022-04-06T12:14:43.840Z"
   },
   {
    "duration": 925,
    "start_time": "2022-04-06T12:15:21.349Z"
   },
   {
    "duration": 547,
    "start_time": "2022-04-06T12:16:36.611Z"
   },
   {
    "duration": 934,
    "start_time": "2022-04-06T12:17:38.758Z"
   },
   {
    "duration": 1034,
    "start_time": "2022-04-06T12:18:01.015Z"
   },
   {
    "duration": 849,
    "start_time": "2022-04-06T12:18:11.285Z"
   },
   {
    "duration": 520,
    "start_time": "2022-04-06T12:18:20.219Z"
   },
   {
    "duration": 500,
    "start_time": "2022-04-06T12:18:27.443Z"
   },
   {
    "duration": 602,
    "start_time": "2022-04-06T12:18:37.560Z"
   },
   {
    "duration": 522,
    "start_time": "2022-04-06T12:21:52.670Z"
   },
   {
    "duration": 847,
    "start_time": "2022-04-06T12:22:54.182Z"
   },
   {
    "duration": 195,
    "start_time": "2022-04-06T12:47:42.982Z"
   },
   {
    "duration": 164,
    "start_time": "2022-04-06T12:48:17.058Z"
   },
   {
    "duration": 30,
    "start_time": "2022-04-06T12:48:36.850Z"
   },
   {
    "duration": 23,
    "start_time": "2022-04-06T12:48:52.361Z"
   },
   {
    "duration": 17,
    "start_time": "2022-04-06T12:49:06.263Z"
   },
   {
    "duration": 2959,
    "start_time": "2022-04-06T12:49:28.022Z"
   },
   {
    "duration": 10,
    "start_time": "2022-04-06T12:49:58.868Z"
   },
   {
    "duration": 9,
    "start_time": "2022-04-06T12:52:27.802Z"
   },
   {
    "duration": 161,
    "start_time": "2022-04-06T12:56:34.829Z"
   },
   {
    "duration": 12,
    "start_time": "2022-04-06T12:56:42.904Z"
   },
   {
    "duration": 7,
    "start_time": "2022-04-06T12:57:24.141Z"
   },
   {
    "duration": 11,
    "start_time": "2022-04-06T12:57:40.485Z"
   },
   {
    "duration": 14,
    "start_time": "2022-04-06T12:59:32.253Z"
   },
   {
    "duration": 660,
    "start_time": "2022-04-06T13:01:36.868Z"
   },
   {
    "duration": 666,
    "start_time": "2022-04-06T13:02:26.129Z"
   },
   {
    "duration": 31,
    "start_time": "2022-04-06T14:42:32.654Z"
   },
   {
    "duration": 15,
    "start_time": "2022-04-06T14:42:42.162Z"
   },
   {
    "duration": 21,
    "start_time": "2022-04-06T14:43:25.420Z"
   },
   {
    "duration": 182,
    "start_time": "2022-04-06T14:43:43.195Z"
   },
   {
    "duration": 18,
    "start_time": "2022-04-06T14:43:54.891Z"
   },
   {
    "duration": 15,
    "start_time": "2022-04-06T14:45:32.930Z"
   },
   {
    "duration": 16,
    "start_time": "2022-04-06T14:45:40.491Z"
   },
   {
    "duration": 48,
    "start_time": "2022-04-06T14:45:55.460Z"
   },
   {
    "duration": 29,
    "start_time": "2022-04-06T14:46:08.409Z"
   },
   {
    "duration": 3740,
    "start_time": "2022-04-06T14:47:35.760Z"
   },
   {
    "duration": 29,
    "start_time": "2022-04-06T14:48:57.694Z"
   },
   {
    "duration": 52,
    "start_time": "2022-04-06T14:50:01.549Z"
   },
   {
    "duration": 294,
    "start_time": "2022-04-06T14:51:38.623Z"
   },
   {
    "duration": 14,
    "start_time": "2022-04-06T14:58:17.110Z"
   },
   {
    "duration": 20,
    "start_time": "2022-04-06T14:58:49.407Z"
   },
   {
    "duration": 294,
    "start_time": "2022-04-06T15:00:20.574Z"
   },
   {
    "duration": 281,
    "start_time": "2022-04-06T15:02:27.894Z"
   },
   {
    "duration": 319257,
    "start_time": "2022-04-06T15:03:15.926Z"
   },
   {
    "duration": 1766,
    "start_time": "2022-04-07T04:28:41.070Z"
   },
   {
    "duration": 88,
    "start_time": "2022-04-07T04:28:42.838Z"
   },
   {
    "duration": 344,
    "start_time": "2022-04-07T04:28:42.928Z"
   },
   {
    "duration": 14,
    "start_time": "2022-04-07T04:28:43.274Z"
   },
   {
    "duration": 4,
    "start_time": "2022-04-07T04:28:43.290Z"
   },
   {
    "duration": 5,
    "start_time": "2022-04-07T04:28:43.296Z"
   },
   {
    "duration": 27,
    "start_time": "2022-04-07T04:28:43.303Z"
   },
   {
    "duration": 56,
    "start_time": "2022-04-07T04:28:43.332Z"
   },
   {
    "duration": 9,
    "start_time": "2022-04-07T04:28:43.390Z"
   },
   {
    "duration": 508,
    "start_time": "2022-04-07T04:28:43.402Z"
   },
   {
    "duration": 572,
    "start_time": "2022-04-07T04:28:43.912Z"
   },
   {
    "duration": 479,
    "start_time": "2022-04-07T04:28:44.485Z"
   },
   {
    "duration": 372,
    "start_time": "2022-04-07T04:28:44.966Z"
   },
   {
    "duration": 526,
    "start_time": "2022-04-07T04:28:45.339Z"
   },
   {
    "duration": 198468,
    "start_time": "2022-04-07T04:35:16.584Z"
   },
   {
    "duration": 74770,
    "start_time": "2022-04-07T04:43:15.673Z"
   },
   {
    "duration": 1591,
    "start_time": "2022-04-07T04:47:23.357Z"
   },
   {
    "duration": 94,
    "start_time": "2022-04-07T04:47:24.950Z"
   },
   {
    "duration": 362,
    "start_time": "2022-04-07T04:47:25.046Z"
   },
   {
    "duration": 9,
    "start_time": "2022-04-07T04:47:25.410Z"
   },
   {
    "duration": 4,
    "start_time": "2022-04-07T04:47:25.420Z"
   },
   {
    "duration": 8,
    "start_time": "2022-04-07T04:47:25.425Z"
   },
   {
    "duration": 45,
    "start_time": "2022-04-07T04:47:25.434Z"
   },
   {
    "duration": 31,
    "start_time": "2022-04-07T04:47:25.480Z"
   },
   {
    "duration": 9,
    "start_time": "2022-04-07T04:47:25.512Z"
   },
   {
    "duration": 496,
    "start_time": "2022-04-07T04:47:25.523Z"
   },
   {
    "duration": 562,
    "start_time": "2022-04-07T04:47:26.020Z"
   },
   {
    "duration": 483,
    "start_time": "2022-04-07T04:47:26.584Z"
   },
   {
    "duration": 374,
    "start_time": "2022-04-07T04:47:27.068Z"
   },
   {
    "duration": 405,
    "start_time": "2022-04-07T04:47:27.443Z"
   },
   {
    "duration": 29,
    "start_time": "2022-04-07T04:47:27.849Z"
   },
   {
    "duration": 42,
    "start_time": "2022-04-07T04:50:29.687Z"
   },
   {
    "duration": 28,
    "start_time": "2022-04-07T04:51:06.471Z"
   },
   {
    "duration": 18,
    "start_time": "2022-04-07T04:54:46.942Z"
   },
   {
    "duration": 16,
    "start_time": "2022-04-07T04:55:12.315Z"
   },
   {
    "duration": 22,
    "start_time": "2022-04-07T04:55:38.071Z"
   },
   {
    "duration": 23,
    "start_time": "2022-04-07T04:56:29.129Z"
   },
   {
    "duration": 16,
    "start_time": "2022-04-07T04:57:23.853Z"
   },
   {
    "duration": 20,
    "start_time": "2022-04-07T04:57:43.719Z"
   },
   {
    "duration": 20,
    "start_time": "2022-04-07T05:00:14.109Z"
   },
   {
    "duration": 19,
    "start_time": "2022-04-07T05:00:38.697Z"
   },
   {
    "duration": 1586,
    "start_time": "2022-04-07T05:01:17.039Z"
   },
   {
    "duration": 97,
    "start_time": "2022-04-07T05:01:18.627Z"
   },
   {
    "duration": 352,
    "start_time": "2022-04-07T05:01:18.725Z"
   },
   {
    "duration": 9,
    "start_time": "2022-04-07T05:01:19.079Z"
   },
   {
    "duration": 5,
    "start_time": "2022-04-07T05:01:19.089Z"
   },
   {
    "duration": 6,
    "start_time": "2022-04-07T05:01:19.095Z"
   },
   {
    "duration": 26,
    "start_time": "2022-04-07T05:01:19.103Z"
   },
   {
    "duration": 56,
    "start_time": "2022-04-07T05:01:19.131Z"
   },
   {
    "duration": 10,
    "start_time": "2022-04-07T05:01:19.189Z"
   },
   {
    "duration": 507,
    "start_time": "2022-04-07T05:01:19.201Z"
   },
   {
    "duration": 579,
    "start_time": "2022-04-07T05:01:19.710Z"
   },
   {
    "duration": 476,
    "start_time": "2022-04-07T05:01:20.290Z"
   },
   {
    "duration": 375,
    "start_time": "2022-04-07T05:01:20.767Z"
   },
   {
    "duration": 420,
    "start_time": "2022-04-07T05:01:21.144Z"
   },
   {
    "duration": 24,
    "start_time": "2022-04-07T05:01:21.566Z"
   },
   {
    "duration": 35,
    "start_time": "2022-04-07T05:02:33.824Z"
   },
   {
    "duration": 23,
    "start_time": "2022-04-07T05:02:44.490Z"
   },
   {
    "duration": 152,
    "start_time": "2022-04-07T05:03:27.458Z"
   },
   {
    "duration": 154,
    "start_time": "2022-04-07T05:03:56.016Z"
   },
   {
    "duration": 147,
    "start_time": "2022-04-07T05:04:17.912Z"
   },
   {
    "duration": 141,
    "start_time": "2022-04-07T05:05:10.869Z"
   },
   {
    "duration": 80,
    "start_time": "2022-04-07T09:33:20.469Z"
   },
   {
    "duration": 88,
    "start_time": "2022-04-07T09:33:55.016Z"
   },
   {
    "duration": 94,
    "start_time": "2022-04-07T09:34:17.827Z"
   },
   {
    "duration": 88,
    "start_time": "2022-04-07T09:35:11.534Z"
   },
   {
    "duration": 266,
    "start_time": "2022-04-07T10:37:12.444Z"
   },
   {
    "duration": 115,
    "start_time": "2022-04-07T11:26:57.695Z"
   },
   {
    "duration": 1627,
    "start_time": "2022-04-07T11:27:27.245Z"
   },
   {
    "duration": 86,
    "start_time": "2022-04-07T11:27:28.874Z"
   },
   {
    "duration": 325,
    "start_time": "2022-04-07T11:27:28.963Z"
   },
   {
    "duration": 10,
    "start_time": "2022-04-07T11:27:29.290Z"
   },
   {
    "duration": 17,
    "start_time": "2022-04-07T11:27:29.301Z"
   },
   {
    "duration": 20,
    "start_time": "2022-04-07T11:27:29.320Z"
   },
   {
    "duration": 41,
    "start_time": "2022-04-07T11:27:29.342Z"
   },
   {
    "duration": 105,
    "start_time": "2022-04-07T11:27:29.385Z"
   },
   {
    "duration": 91,
    "start_time": "2022-04-07T11:27:29.491Z"
   },
   {
    "duration": 10,
    "start_time": "2022-04-07T11:27:29.585Z"
   },
   {
    "duration": 498,
    "start_time": "2022-04-07T11:27:29.596Z"
   },
   {
    "duration": 557,
    "start_time": "2022-04-07T11:27:30.096Z"
   },
   {
    "duration": 511,
    "start_time": "2022-04-07T11:27:30.656Z"
   },
   {
    "duration": 486,
    "start_time": "2022-04-07T11:27:31.169Z"
   },
   {
    "duration": 321,
    "start_time": "2022-04-07T11:27:31.657Z"
   },
   {
    "duration": 157,
    "start_time": "2022-04-07T11:27:31.980Z"
   },
   {
    "duration": 110,
    "start_time": "2022-04-07T11:27:32.139Z"
   },
   {
    "duration": 10,
    "start_time": "2022-04-07T11:28:44.300Z"
   },
   {
    "duration": 174,
    "start_time": "2022-04-07T11:31:16.752Z"
   },
   {
    "duration": 10,
    "start_time": "2022-04-07T11:34:59.482Z"
   },
   {
    "duration": 53,
    "start_time": "2022-04-07T11:39:43.623Z"
   },
   {
    "duration": 21,
    "start_time": "2022-04-07T11:42:36.557Z"
   },
   {
    "duration": 16,
    "start_time": "2022-04-07T11:42:51.226Z"
   },
   {
    "duration": 6,
    "start_time": "2022-04-07T11:45:18.932Z"
   },
   {
    "duration": 51,
    "start_time": "2022-04-07T11:48:39.526Z"
   },
   {
    "duration": 16,
    "start_time": "2022-04-07T11:49:08.499Z"
   },
   {
    "duration": 25,
    "start_time": "2022-04-07T11:50:20.107Z"
   },
   {
    "duration": 93,
    "start_time": "2022-04-07T11:50:26.905Z"
   },
   {
    "duration": 1792,
    "start_time": "2022-04-07T11:50:32.738Z"
   },
   {
    "duration": 88,
    "start_time": "2022-04-07T11:50:34.532Z"
   },
   {
    "duration": 332,
    "start_time": "2022-04-07T11:50:34.621Z"
   },
   {
    "duration": 15,
    "start_time": "2022-04-07T11:50:34.954Z"
   },
   {
    "duration": 28,
    "start_time": "2022-04-07T11:50:34.971Z"
   },
   {
    "duration": 16,
    "start_time": "2022-04-07T11:50:35.001Z"
   },
   {
    "duration": 45,
    "start_time": "2022-04-07T11:50:35.019Z"
   },
   {
    "duration": 113,
    "start_time": "2022-04-07T11:50:35.066Z"
   },
   {
    "duration": 36,
    "start_time": "2022-04-07T11:50:35.181Z"
   },
   {
    "duration": 10,
    "start_time": "2022-04-07T11:50:35.219Z"
   },
   {
    "duration": 516,
    "start_time": "2022-04-07T11:50:35.231Z"
   },
   {
    "duration": 566,
    "start_time": "2022-04-07T11:50:35.749Z"
   },
   {
    "duration": 587,
    "start_time": "2022-04-07T11:50:36.318Z"
   },
   {
    "duration": 490,
    "start_time": "2022-04-07T11:50:36.909Z"
   },
   {
    "duration": 322,
    "start_time": "2022-04-07T11:50:37.401Z"
   },
   {
    "duration": 161,
    "start_time": "2022-04-07T11:50:37.725Z"
   },
   {
    "duration": 116,
    "start_time": "2022-04-07T11:50:37.888Z"
   },
   {
    "duration": 256,
    "start_time": "2022-04-07T12:13:47.673Z"
   },
   {
    "duration": 88,
    "start_time": "2022-04-07T12:14:38.009Z"
   },
   {
    "duration": 331,
    "start_time": "2022-04-07T12:15:06.152Z"
   },
   {
    "duration": 7,
    "start_time": "2022-04-07T12:15:16.349Z"
   },
   {
    "duration": 6,
    "start_time": "2022-04-07T12:15:19.137Z"
   },
   {
    "duration": 5,
    "start_time": "2022-04-07T12:15:23.491Z"
   },
   {
    "duration": 21,
    "start_time": "2022-04-07T12:15:38.629Z"
   },
   {
    "duration": 32,
    "start_time": "2022-04-07T12:16:18.949Z"
   },
   {
    "duration": 14,
    "start_time": "2022-04-07T12:16:28.173Z"
   },
   {
    "duration": 490,
    "start_time": "2022-04-07T12:16:41.013Z"
   },
   {
    "duration": 618,
    "start_time": "2022-04-07T12:16:51.647Z"
   },
   {
    "duration": 19,
    "start_time": "2022-04-07T12:17:19.027Z"
   },
   {
    "duration": 2142,
    "start_time": "2022-04-07T15:15:33.363Z"
   },
   {
    "duration": 104,
    "start_time": "2022-04-07T15:15:35.507Z"
   },
   {
    "duration": 377,
    "start_time": "2022-04-07T15:15:35.612Z"
   },
   {
    "duration": 15,
    "start_time": "2022-04-07T15:15:35.992Z"
   },
   {
    "duration": 12,
    "start_time": "2022-04-07T15:15:36.009Z"
   },
   {
    "duration": 15,
    "start_time": "2022-04-07T15:15:36.023Z"
   },
   {
    "duration": 23,
    "start_time": "2022-04-07T15:15:36.040Z"
   },
   {
    "duration": 57,
    "start_time": "2022-04-07T15:15:36.065Z"
   },
   {
    "duration": 24,
    "start_time": "2022-04-07T15:15:36.124Z"
   },
   {
    "duration": 12,
    "start_time": "2022-04-07T15:15:36.151Z"
   },
   {
    "duration": 516,
    "start_time": "2022-04-07T15:15:36.165Z"
   },
   {
    "duration": 600,
    "start_time": "2022-04-07T15:15:36.682Z"
   },
   {
    "duration": 523,
    "start_time": "2022-04-07T15:15:37.284Z"
   },
   {
    "duration": 497,
    "start_time": "2022-04-07T15:15:37.809Z"
   },
   {
    "duration": 333,
    "start_time": "2022-04-07T15:15:38.308Z"
   },
   {
    "duration": 169,
    "start_time": "2022-04-07T15:15:38.642Z"
   },
   {
    "duration": 3,
    "start_time": "2022-04-07T15:15:38.813Z"
   },
   {
    "duration": 163,
    "start_time": "2022-04-07T15:19:46.499Z"
   },
   {
    "duration": 8,
    "start_time": "2022-04-07T15:21:40.427Z"
   },
   {
    "duration": 174,
    "start_time": "2022-04-07T15:24:47.264Z"
   },
   {
    "duration": 13,
    "start_time": "2022-04-07T15:25:00.072Z"
   },
   {
    "duration": 17,
    "start_time": "2022-04-07T15:26:29.568Z"
   },
   {
    "duration": 37,
    "start_time": "2022-04-07T15:28:17.467Z"
   },
   {
    "duration": 26,
    "start_time": "2022-04-07T15:29:08.205Z"
   },
   {
    "duration": 20,
    "start_time": "2022-04-07T15:29:26.379Z"
   },
   {
    "duration": 20,
    "start_time": "2022-04-07T15:29:36.059Z"
   },
   {
    "duration": 21,
    "start_time": "2022-04-07T15:31:08.759Z"
   },
   {
    "duration": 18,
    "start_time": "2022-04-07T16:01:59.966Z"
   },
   {
    "duration": 12,
    "start_time": "2022-04-07T16:06:29.480Z"
   },
   {
    "duration": 31,
    "start_time": "2022-04-07T16:06:46.458Z"
   },
   {
    "duration": 21,
    "start_time": "2022-04-07T16:07:15.470Z"
   },
   {
    "duration": 15,
    "start_time": "2022-04-07T16:24:52.480Z"
   },
   {
    "duration": 2121,
    "start_time": "2022-04-07T16:25:03.373Z"
   },
   {
    "duration": 129,
    "start_time": "2022-04-07T16:25:05.500Z"
   },
   {
    "duration": 376,
    "start_time": "2022-04-07T16:25:05.631Z"
   },
   {
    "duration": 11,
    "start_time": "2022-04-07T16:25:06.010Z"
   },
   {
    "duration": 7,
    "start_time": "2022-04-07T16:25:06.023Z"
   },
   {
    "duration": 21,
    "start_time": "2022-04-07T16:25:06.032Z"
   },
   {
    "duration": 34,
    "start_time": "2022-04-07T16:25:06.055Z"
   },
   {
    "duration": 46,
    "start_time": "2022-04-07T16:25:06.091Z"
   },
   {
    "duration": 31,
    "start_time": "2022-04-07T16:25:06.138Z"
   },
   {
    "duration": 36,
    "start_time": "2022-04-07T16:25:06.171Z"
   },
   {
    "duration": 713,
    "start_time": "2022-04-07T16:25:06.209Z"
   },
   {
    "duration": 984,
    "start_time": "2022-04-07T16:25:06.925Z"
   },
   {
    "duration": 638,
    "start_time": "2022-04-07T16:25:07.911Z"
   },
   {
    "duration": 517,
    "start_time": "2022-04-07T16:25:08.551Z"
   },
   {
    "duration": 360,
    "start_time": "2022-04-07T16:25:09.069Z"
   },
   {
    "duration": 184,
    "start_time": "2022-04-07T16:25:09.431Z"
   },
   {
    "duration": 1323,
    "start_time": "2022-04-07T16:25:09.617Z"
   },
   {
    "duration": 1269,
    "start_time": "2022-04-07T16:25:26.564Z"
   },
   {
    "duration": 6077,
    "start_time": "2022-04-07T16:25:33.637Z"
   },
   {
    "duration": 6075,
    "start_time": "2022-04-07T17:45:16.261Z"
   },
   {
    "duration": 3,
    "start_time": "2022-04-07T17:47:14.929Z"
   },
   {
    "duration": 6188,
    "start_time": "2022-04-07T17:47:18.581Z"
   },
   {
    "duration": 4,
    "start_time": "2022-04-07T18:03:38.960Z"
   },
   {
    "duration": 1347,
    "start_time": "2022-04-07T18:24:30.148Z"
   },
   {
    "duration": 30,
    "start_time": "2022-04-07T18:25:03.494Z"
   },
   {
    "duration": 44,
    "start_time": "2022-04-07T18:25:16.172Z"
   },
   {
    "duration": 1244,
    "start_time": "2022-04-07T18:25:24.766Z"
   },
   {
    "duration": 1214,
    "start_time": "2022-04-07T18:26:33.554Z"
   },
   {
    "duration": 6088,
    "start_time": "2022-04-07T18:28:07.678Z"
   },
   {
    "duration": 5676,
    "start_time": "2022-04-07T18:30:22.107Z"
   },
   {
    "duration": 274,
    "start_time": "2022-04-07T18:34:32.948Z"
   },
   {
    "duration": 6097,
    "start_time": "2022-04-07T18:37:43.211Z"
   },
   {
    "duration": 6862,
    "start_time": "2022-04-07T18:39:44.875Z"
   },
   {
    "duration": 13250,
    "start_time": "2022-04-07T18:43:36.493Z"
   },
   {
    "duration": 12,
    "start_time": "2022-04-07T18:44:43.449Z"
   },
   {
    "duration": 1779,
    "start_time": "2022-04-07T18:45:21.925Z"
   },
   {
    "duration": 1782,
    "start_time": "2022-04-07T18:46:18.307Z"
   },
   {
    "duration": 101,
    "start_time": "2022-04-07T18:46:20.091Z"
   },
   {
    "duration": 363,
    "start_time": "2022-04-07T18:46:20.201Z"
   },
   {
    "duration": 10,
    "start_time": "2022-04-07T18:46:20.567Z"
   },
   {
    "duration": 6,
    "start_time": "2022-04-07T18:46:20.579Z"
   },
   {
    "duration": 5,
    "start_time": "2022-04-07T18:46:20.601Z"
   },
   {
    "duration": 24,
    "start_time": "2022-04-07T18:46:20.608Z"
   },
   {
    "duration": 68,
    "start_time": "2022-04-07T18:46:20.634Z"
   },
   {
    "duration": 27,
    "start_time": "2022-04-07T18:46:20.704Z"
   },
   {
    "duration": 14,
    "start_time": "2022-04-07T18:46:20.734Z"
   },
   {
    "duration": 551,
    "start_time": "2022-04-07T18:46:20.750Z"
   },
   {
    "duration": 600,
    "start_time": "2022-04-07T18:46:21.303Z"
   },
   {
    "duration": 527,
    "start_time": "2022-04-07T18:46:21.904Z"
   },
   {
    "duration": 504,
    "start_time": "2022-04-07T18:46:22.433Z"
   },
   {
    "duration": 342,
    "start_time": "2022-04-07T18:46:22.939Z"
   },
   {
    "duration": 166,
    "start_time": "2022-04-07T18:46:23.283Z"
   },
   {
    "duration": 3,
    "start_time": "2022-04-07T18:46:23.451Z"
   },
   {
    "duration": 9954,
    "start_time": "2022-04-07T18:46:23.456Z"
   },
   {
    "duration": 13606,
    "start_time": "2022-04-07T18:46:33.412Z"
   },
   {
    "duration": 1983,
    "start_time": "2022-04-07T18:46:47.020Z"
   },
   {
    "duration": 11191,
    "start_time": "2022-04-07T19:04:27.425Z"
   },
   {
    "duration": 10838,
    "start_time": "2022-04-07T19:05:25.581Z"
   },
   {
    "duration": 10530,
    "start_time": "2022-04-07T19:06:33.069Z"
   },
   {
    "duration": 11800,
    "start_time": "2022-04-07T19:07:13.205Z"
   },
   {
    "duration": 11078,
    "start_time": "2022-04-07T19:08:04.196Z"
   },
   {
    "duration": 19231,
    "start_time": "2022-04-07T19:09:27.549Z"
   },
   {
    "duration": 3118,
    "start_time": "2022-04-07T19:10:07.193Z"
   },
   {
    "duration": 14,
    "start_time": "2022-04-07T20:26:46.177Z"
   },
   {
    "duration": 4,
    "start_time": "2022-04-07T20:27:06.438Z"
   },
   {
    "duration": 2526,
    "start_time": "2022-04-07T20:27:09.728Z"
   },
   {
    "duration": 265,
    "start_time": "2022-04-07T20:31:52.613Z"
   },
   {
    "duration": 2443,
    "start_time": "2022-04-07T20:32:03.402Z"
   },
   {
    "duration": 3977,
    "start_time": "2022-04-07T20:36:29.492Z"
   },
   {
    "duration": 2535,
    "start_time": "2022-04-07T20:37:58.156Z"
   },
   {
    "duration": 1834,
    "start_time": "2022-04-07T20:38:13.077Z"
   },
   {
    "duration": 106,
    "start_time": "2022-04-07T20:38:14.913Z"
   },
   {
    "duration": 365,
    "start_time": "2022-04-07T20:38:15.021Z"
   },
   {
    "duration": 13,
    "start_time": "2022-04-07T20:38:15.388Z"
   },
   {
    "duration": 14,
    "start_time": "2022-04-07T20:38:15.403Z"
   },
   {
    "duration": 6,
    "start_time": "2022-04-07T20:38:15.418Z"
   },
   {
    "duration": 42,
    "start_time": "2022-04-07T20:38:15.425Z"
   },
   {
    "duration": 46,
    "start_time": "2022-04-07T20:38:15.469Z"
   },
   {
    "duration": 25,
    "start_time": "2022-04-07T20:38:15.516Z"
   },
   {
    "duration": 14,
    "start_time": "2022-04-07T20:38:15.543Z"
   },
   {
    "duration": 528,
    "start_time": "2022-04-07T20:38:15.558Z"
   },
   {
    "duration": 571,
    "start_time": "2022-04-07T20:38:16.088Z"
   },
   {
    "duration": 501,
    "start_time": "2022-04-07T20:38:16.660Z"
   },
   {
    "duration": 482,
    "start_time": "2022-04-07T20:38:17.162Z"
   },
   {
    "duration": 343,
    "start_time": "2022-04-07T20:38:17.646Z"
   },
   {
    "duration": 169,
    "start_time": "2022-04-07T20:38:17.991Z"
   },
   {
    "duration": 4,
    "start_time": "2022-04-07T20:38:18.163Z"
   },
   {
    "duration": 2680,
    "start_time": "2022-04-07T20:38:18.169Z"
   },
   {
    "duration": 0,
    "start_time": "2022-04-07T20:38:20.851Z"
   },
   {
    "duration": 0,
    "start_time": "2022-04-07T20:38:20.852Z"
   },
   {
    "duration": 1702,
    "start_time": "2022-04-07T20:39:58.347Z"
   },
   {
    "duration": 94,
    "start_time": "2022-04-07T20:40:00.051Z"
   },
   {
    "duration": 354,
    "start_time": "2022-04-07T20:40:00.147Z"
   },
   {
    "duration": 9,
    "start_time": "2022-04-07T20:40:00.502Z"
   },
   {
    "duration": 15,
    "start_time": "2022-04-07T20:40:00.514Z"
   },
   {
    "duration": 5,
    "start_time": "2022-04-07T20:40:00.531Z"
   },
   {
    "duration": 23,
    "start_time": "2022-04-07T20:40:00.538Z"
   },
   {
    "duration": 61,
    "start_time": "2022-04-07T20:40:00.563Z"
   },
   {
    "duration": 25,
    "start_time": "2022-04-07T20:40:00.625Z"
   },
   {
    "duration": 13,
    "start_time": "2022-04-07T20:40:00.652Z"
   },
   {
    "duration": 526,
    "start_time": "2022-04-07T20:40:00.667Z"
   },
   {
    "duration": 571,
    "start_time": "2022-04-07T20:40:01.194Z"
   },
   {
    "duration": 504,
    "start_time": "2022-04-07T20:40:01.767Z"
   },
   {
    "duration": 489,
    "start_time": "2022-04-07T20:40:02.274Z"
   },
   {
    "duration": 331,
    "start_time": "2022-04-07T20:40:02.764Z"
   },
   {
    "duration": 159,
    "start_time": "2022-04-07T20:40:03.096Z"
   },
   {
    "duration": 3,
    "start_time": "2022-04-07T20:40:03.257Z"
   },
   {
    "duration": 2515,
    "start_time": "2022-04-07T20:40:03.261Z"
   },
   {
    "duration": 0,
    "start_time": "2022-04-07T20:40:05.777Z"
   },
   {
    "duration": 0,
    "start_time": "2022-04-07T20:40:05.779Z"
   },
   {
    "duration": 6324,
    "start_time": "2022-04-07T20:42:19.384Z"
   },
   {
    "duration": 2625,
    "start_time": "2022-04-07T20:45:31.720Z"
   },
   {
    "duration": 2611,
    "start_time": "2022-04-07T20:46:21.339Z"
   },
   {
    "duration": 13,
    "start_time": "2022-04-07T20:47:32.056Z"
   },
   {
    "duration": 8,
    "start_time": "2022-04-07T20:47:48.097Z"
   },
   {
    "duration": 2576,
    "start_time": "2022-04-07T20:48:11.398Z"
   },
   {
    "duration": 8,
    "start_time": "2022-04-07T20:48:30.368Z"
   },
   {
    "duration": 2475,
    "start_time": "2022-04-07T20:48:52.686Z"
   },
   {
    "duration": 4,
    "start_time": "2022-04-07T20:50:36.446Z"
   },
   {
    "duration": 2489,
    "start_time": "2022-04-07T20:50:41.144Z"
   },
   {
    "duration": 3,
    "start_time": "2022-04-07T20:51:37.094Z"
   },
   {
    "duration": 2450,
    "start_time": "2022-04-07T20:51:41.316Z"
   },
   {
    "duration": 3,
    "start_time": "2022-04-07T20:52:32.550Z"
   },
   {
    "duration": 2417,
    "start_time": "2022-04-07T20:52:35.708Z"
   },
   {
    "duration": 3539,
    "start_time": "2022-04-07T20:56:35.376Z"
   },
   {
    "duration": 3546,
    "start_time": "2022-04-07T20:57:04.734Z"
   },
   {
    "duration": 3465,
    "start_time": "2022-04-07T20:57:24.044Z"
   },
   {
    "duration": 6142,
    "start_time": "2022-04-08T07:51:41.647Z"
   },
   {
    "duration": 111,
    "start_time": "2022-04-08T07:51:47.792Z"
   },
   {
    "duration": 408,
    "start_time": "2022-04-08T07:51:47.905Z"
   },
   {
    "duration": 17,
    "start_time": "2022-04-08T07:51:48.315Z"
   },
   {
    "duration": 7,
    "start_time": "2022-04-08T07:51:48.334Z"
   },
   {
    "duration": 6,
    "start_time": "2022-04-08T07:51:48.343Z"
   },
   {
    "duration": 28,
    "start_time": "2022-04-08T07:51:48.351Z"
   },
   {
    "duration": 80,
    "start_time": "2022-04-08T07:51:48.381Z"
   },
   {
    "duration": 31,
    "start_time": "2022-04-08T07:51:48.463Z"
   },
   {
    "duration": 16,
    "start_time": "2022-04-08T07:51:48.497Z"
   },
   {
    "duration": 657,
    "start_time": "2022-04-08T07:51:48.532Z"
   },
   {
    "duration": 713,
    "start_time": "2022-04-08T07:51:49.191Z"
   },
   {
    "duration": 643,
    "start_time": "2022-04-08T07:51:49.906Z"
   },
   {
    "duration": 589,
    "start_time": "2022-04-08T07:51:50.552Z"
   },
   {
    "duration": 412,
    "start_time": "2022-04-08T07:51:51.143Z"
   },
   {
    "duration": 203,
    "start_time": "2022-04-08T07:51:51.557Z"
   },
   {
    "duration": 4,
    "start_time": "2022-04-08T07:51:51.762Z"
   },
   {
    "duration": 2731,
    "start_time": "2022-04-08T07:51:51.768Z"
   },
   {
    "duration": 0,
    "start_time": "2022-04-08T07:51:54.500Z"
   },
   {
    "duration": 1,
    "start_time": "2022-04-08T07:51:54.501Z"
   },
   {
    "duration": 7628,
    "start_time": "2022-04-08T07:54:24.432Z"
   },
   {
    "duration": 7948,
    "start_time": "2022-04-08T08:05:12.077Z"
   },
   {
    "duration": 14110,
    "start_time": "2022-04-08T08:06:30.196Z"
   },
   {
    "duration": 2562,
    "start_time": "2022-04-08T08:13:58.779Z"
   },
   {
    "duration": 3532,
    "start_time": "2022-04-08T08:22:53.345Z"
   },
   {
    "duration": 1153,
    "start_time": "2022-04-08T08:23:59.382Z"
   },
   {
    "duration": 3566,
    "start_time": "2022-04-08T08:24:39.853Z"
   },
   {
    "duration": 1790,
    "start_time": "2022-04-08T08:24:56.260Z"
   },
   {
    "duration": 108,
    "start_time": "2022-04-08T08:24:58.052Z"
   },
   {
    "duration": 389,
    "start_time": "2022-04-08T08:24:58.162Z"
   },
   {
    "duration": 9,
    "start_time": "2022-04-08T08:24:58.553Z"
   },
   {
    "duration": 10,
    "start_time": "2022-04-08T08:24:58.564Z"
   },
   {
    "duration": 8,
    "start_time": "2022-04-08T08:24:58.576Z"
   },
   {
    "duration": 51,
    "start_time": "2022-04-08T08:24:58.586Z"
   },
   {
    "duration": 53,
    "start_time": "2022-04-08T08:24:58.639Z"
   },
   {
    "duration": 48,
    "start_time": "2022-04-08T08:24:58.694Z"
   },
   {
    "duration": 16,
    "start_time": "2022-04-08T08:24:58.745Z"
   },
   {
    "duration": 645,
    "start_time": "2022-04-08T08:24:58.762Z"
   },
   {
    "duration": 691,
    "start_time": "2022-04-08T08:24:59.409Z"
   },
   {
    "duration": 619,
    "start_time": "2022-04-08T08:25:00.102Z"
   },
   {
    "duration": 598,
    "start_time": "2022-04-08T08:25:00.723Z"
   },
   {
    "duration": 427,
    "start_time": "2022-04-08T08:25:01.323Z"
   },
   {
    "duration": 212,
    "start_time": "2022-04-08T08:25:01.752Z"
   },
   {
    "duration": 4,
    "start_time": "2022-04-08T08:25:01.966Z"
   },
   {
    "duration": 3712,
    "start_time": "2022-04-08T08:25:01.972Z"
   },
   {
    "duration": 0,
    "start_time": "2022-04-08T08:25:05.686Z"
   },
   {
    "duration": 0,
    "start_time": "2022-04-08T08:25:05.687Z"
   },
   {
    "duration": 4,
    "start_time": "2022-04-08T08:32:28.034Z"
   },
   {
    "duration": 3603,
    "start_time": "2022-04-08T08:32:30.970Z"
   },
   {
    "duration": 3575,
    "start_time": "2022-04-08T09:58:22.420Z"
   },
   {
    "duration": 11,
    "start_time": "2022-04-08T09:59:54.593Z"
   },
   {
    "duration": 4,
    "start_time": "2022-04-08T10:00:07.238Z"
   },
   {
    "duration": 4,
    "start_time": "2022-04-08T10:00:13.501Z"
   },
   {
    "duration": 10,
    "start_time": "2022-04-08T10:04:06.269Z"
   },
   {
    "duration": 12,
    "start_time": "2022-04-08T10:05:23.588Z"
   },
   {
    "duration": 2659,
    "start_time": "2022-04-08T10:06:39.798Z"
   },
   {
    "duration": 2447,
    "start_time": "2022-04-09T06:14:13.909Z"
   },
   {
    "duration": 143,
    "start_time": "2022-04-09T06:14:16.359Z"
   },
   {
    "duration": 472,
    "start_time": "2022-04-09T06:14:16.505Z"
   },
   {
    "duration": 13,
    "start_time": "2022-04-09T06:14:16.980Z"
   },
   {
    "duration": 9,
    "start_time": "2022-04-09T06:14:16.995Z"
   },
   {
    "duration": 9,
    "start_time": "2022-04-09T06:14:17.006Z"
   },
   {
    "duration": 64,
    "start_time": "2022-04-09T06:14:17.017Z"
   },
   {
    "duration": 96,
    "start_time": "2022-04-09T06:14:17.083Z"
   },
   {
    "duration": 40,
    "start_time": "2022-04-09T06:14:17.181Z"
   },
   {
    "duration": 19,
    "start_time": "2022-04-09T06:14:17.225Z"
   },
   {
    "duration": 936,
    "start_time": "2022-04-09T06:14:17.246Z"
   },
   {
    "duration": 950,
    "start_time": "2022-04-09T06:14:18.184Z"
   },
   {
    "duration": 891,
    "start_time": "2022-04-09T06:14:19.136Z"
   },
   {
    "duration": 786,
    "start_time": "2022-04-09T06:14:20.029Z"
   },
   {
    "duration": 580,
    "start_time": "2022-04-09T06:14:20.817Z"
   },
   {
    "duration": 287,
    "start_time": "2022-04-09T06:14:21.399Z"
   },
   {
    "duration": 5,
    "start_time": "2022-04-09T06:14:21.688Z"
   },
   {
    "duration": 176,
    "start_time": "2022-04-09T06:14:21.695Z"
   },
   {
    "duration": 0,
    "start_time": "2022-04-09T06:14:21.874Z"
   },
   {
    "duration": 0,
    "start_time": "2022-04-09T06:14:21.875Z"
   },
   {
    "duration": 0,
    "start_time": "2022-04-09T06:14:21.877Z"
   },
   {
    "duration": 0,
    "start_time": "2022-04-09T06:14:21.879Z"
   },
   {
    "duration": 6,
    "start_time": "2022-04-09T06:36:20.324Z"
   },
   {
    "duration": 5,
    "start_time": "2022-04-09T06:38:41.049Z"
   },
   {
    "duration": 16,
    "start_time": "2022-04-09T06:38:44.876Z"
   },
   {
    "duration": 15,
    "start_time": "2022-04-09T06:40:26.964Z"
   },
   {
    "duration": 5,
    "start_time": "2022-04-09T06:40:34.731Z"
   },
   {
    "duration": 3095,
    "start_time": "2022-04-09T06:40:37.407Z"
   },
   {
    "duration": 23,
    "start_time": "2022-04-09T06:41:56.786Z"
   },
   {
    "duration": 8,
    "start_time": "2022-04-09T06:45:15.160Z"
   },
   {
    "duration": 8,
    "start_time": "2022-04-09T06:45:28.787Z"
   },
   {
    "duration": 3091,
    "start_time": "2022-04-09T06:50:38.758Z"
   },
   {
    "duration": 3149,
    "start_time": "2022-04-09T06:51:41.542Z"
   },
   {
    "duration": 3130,
    "start_time": "2022-04-09T06:53:04.856Z"
   },
   {
    "duration": 3117,
    "start_time": "2022-04-09T06:53:43.892Z"
   },
   {
    "duration": 3577,
    "start_time": "2022-04-09T06:59:34.968Z"
   },
   {
    "duration": 3107,
    "start_time": "2022-04-09T07:01:14.268Z"
   },
   {
    "duration": 3095,
    "start_time": "2022-04-09T07:04:14.153Z"
   },
   {
    "duration": 3707,
    "start_time": "2022-04-09T07:04:22.907Z"
   },
   {
    "duration": 16,
    "start_time": "2022-04-09T07:13:48.149Z"
   },
   {
    "duration": 16,
    "start_time": "2022-04-09T07:14:27.107Z"
   },
   {
    "duration": 1501,
    "start_time": "2022-04-09T07:16:47.635Z"
   },
   {
    "duration": 3205,
    "start_time": "2022-04-09T07:17:32.907Z"
   },
   {
    "duration": 3088,
    "start_time": "2022-04-09T07:18:27.019Z"
   },
   {
    "duration": 4510,
    "start_time": "2022-04-09T07:19:20.373Z"
   },
   {
    "duration": 383,
    "start_time": "2022-04-09T07:40:41.092Z"
   },
   {
    "duration": 125,
    "start_time": "2022-04-09T07:40:56.536Z"
   },
   {
    "duration": 460,
    "start_time": "2022-04-09T07:41:07.944Z"
   },
   {
    "duration": 2165,
    "start_time": "2022-04-09T07:41:27.998Z"
   },
   {
    "duration": 137,
    "start_time": "2022-04-09T07:41:30.166Z"
   },
   {
    "duration": 470,
    "start_time": "2022-04-09T07:41:30.306Z"
   },
   {
    "duration": 15,
    "start_time": "2022-04-09T07:41:30.779Z"
   },
   {
    "duration": 6,
    "start_time": "2022-04-09T07:41:30.796Z"
   },
   {
    "duration": 12,
    "start_time": "2022-04-09T07:41:30.804Z"
   },
   {
    "duration": 64,
    "start_time": "2022-04-09T07:41:30.818Z"
   },
   {
    "duration": 74,
    "start_time": "2022-04-09T07:41:30.885Z"
   },
   {
    "duration": 40,
    "start_time": "2022-04-09T07:41:30.974Z"
   },
   {
    "duration": 17,
    "start_time": "2022-04-09T07:41:31.018Z"
   },
   {
    "duration": 1153,
    "start_time": "2022-04-09T07:41:31.037Z"
   },
   {
    "duration": 1010,
    "start_time": "2022-04-09T07:41:32.192Z"
   },
   {
    "duration": 911,
    "start_time": "2022-04-09T07:41:33.205Z"
   },
   {
    "duration": 893,
    "start_time": "2022-04-09T07:41:34.119Z"
   },
   {
    "duration": 624,
    "start_time": "2022-04-09T07:41:35.014Z"
   },
   {
    "duration": 299,
    "start_time": "2022-04-09T07:41:35.640Z"
   },
   {
    "duration": 6,
    "start_time": "2022-04-09T07:41:35.941Z"
   },
   {
    "duration": 28,
    "start_time": "2022-04-09T07:41:35.950Z"
   },
   {
    "duration": 4597,
    "start_time": "2022-04-09T07:41:35.981Z"
   },
   {
    "duration": 0,
    "start_time": "2022-04-09T07:41:40.581Z"
   },
   {
    "duration": 0,
    "start_time": "2022-04-09T07:41:40.583Z"
   },
   {
    "duration": 8,
    "start_time": "2022-04-09T07:43:53.460Z"
   },
   {
    "duration": 8,
    "start_time": "2022-04-09T07:47:18.031Z"
   },
   {
    "duration": 4476,
    "start_time": "2022-04-09T07:47:19.931Z"
   },
   {
    "duration": 6,
    "start_time": "2022-04-09T07:47:51.227Z"
   },
   {
    "duration": 4556,
    "start_time": "2022-04-09T07:47:58.821Z"
   },
   {
    "duration": 6,
    "start_time": "2022-04-09T07:49:31.069Z"
   },
   {
    "duration": 8,
    "start_time": "2022-04-09T07:49:34.765Z"
   },
   {
    "duration": 4422,
    "start_time": "2022-04-09T07:49:36.773Z"
   },
   {
    "duration": 7,
    "start_time": "2022-04-09T07:51:49.967Z"
   },
   {
    "duration": 4579,
    "start_time": "2022-04-09T07:51:50.963Z"
   },
   {
    "duration": 6,
    "start_time": "2022-04-09T08:14:02.183Z"
   },
   {
    "duration": 4658,
    "start_time": "2022-04-09T08:14:29.651Z"
   },
   {
    "duration": 5,
    "start_time": "2022-04-09T08:17:11.149Z"
   },
   {
    "duration": 27,
    "start_time": "2022-04-09T08:23:03.132Z"
   },
   {
    "duration": 2240,
    "start_time": "2022-04-09T08:28:07.566Z"
   },
   {
    "duration": 132,
    "start_time": "2022-04-09T08:28:09.809Z"
   },
   {
    "duration": 478,
    "start_time": "2022-04-09T08:28:09.943Z"
   },
   {
    "duration": 20,
    "start_time": "2022-04-09T08:28:10.424Z"
   },
   {
    "duration": 7,
    "start_time": "2022-04-09T08:28:10.446Z"
   },
   {
    "duration": 14,
    "start_time": "2022-04-09T08:28:10.474Z"
   },
   {
    "duration": 60,
    "start_time": "2022-04-09T08:28:10.491Z"
   },
   {
    "duration": 74,
    "start_time": "2022-04-09T08:28:10.553Z"
   },
   {
    "duration": 51,
    "start_time": "2022-04-09T08:28:10.630Z"
   },
   {
    "duration": 16,
    "start_time": "2022-04-09T08:28:10.685Z"
   },
   {
    "duration": 920,
    "start_time": "2022-04-09T08:28:10.703Z"
   },
   {
    "duration": 1061,
    "start_time": "2022-04-09T08:28:11.626Z"
   },
   {
    "duration": 892,
    "start_time": "2022-04-09T08:28:12.689Z"
   },
   {
    "duration": 791,
    "start_time": "2022-04-09T08:28:13.583Z"
   },
   {
    "duration": 577,
    "start_time": "2022-04-09T08:28:14.376Z"
   },
   {
    "duration": 295,
    "start_time": "2022-04-09T08:28:14.955Z"
   },
   {
    "duration": 6,
    "start_time": "2022-04-09T08:28:15.252Z"
   },
   {
    "duration": 175,
    "start_time": "2022-04-09T08:28:15.260Z"
   },
   {
    "duration": 0,
    "start_time": "2022-04-09T08:28:15.437Z"
   },
   {
    "duration": 0,
    "start_time": "2022-04-09T08:28:15.439Z"
   },
   {
    "duration": 0,
    "start_time": "2022-04-09T08:28:15.440Z"
   },
   {
    "duration": 8,
    "start_time": "2022-04-09T08:31:37.534Z"
   },
   {
    "duration": 1179,
    "start_time": "2022-04-09T08:32:50.233Z"
   },
   {
    "duration": 24,
    "start_time": "2022-04-09T08:33:37.199Z"
   },
   {
    "duration": 37,
    "start_time": "2022-04-09T08:36:40.775Z"
   },
   {
    "duration": 31,
    "start_time": "2022-04-09T08:37:09.422Z"
   },
   {
    "duration": 41,
    "start_time": "2022-04-09T08:37:34.269Z"
   },
   {
    "duration": 21,
    "start_time": "2022-04-09T08:38:06.921Z"
   },
   {
    "duration": 15,
    "start_time": "2022-04-09T08:47:05.070Z"
   },
   {
    "duration": 1320,
    "start_time": "2022-04-09T08:48:41.036Z"
   },
   {
    "duration": 1015,
    "start_time": "2022-04-09T08:49:32.710Z"
   },
   {
    "duration": 3137,
    "start_time": "2022-04-09T08:50:13.514Z"
   },
   {
    "duration": 5887,
    "start_time": "2022-04-09T08:50:54.354Z"
   },
   {
    "duration": 5,
    "start_time": "2022-04-09T08:52:00.820Z"
   },
   {
    "duration": 5804,
    "start_time": "2022-04-09T08:52:07.257Z"
   },
   {
    "duration": 5831,
    "start_time": "2022-04-09T08:53:57.479Z"
   },
   {
    "duration": 2304,
    "start_time": "2022-04-09T08:54:53.218Z"
   },
   {
    "duration": 140,
    "start_time": "2022-04-09T08:54:55.525Z"
   },
   {
    "duration": 451,
    "start_time": "2022-04-09T08:54:55.673Z"
   },
   {
    "duration": 15,
    "start_time": "2022-04-09T08:54:56.127Z"
   },
   {
    "duration": 5,
    "start_time": "2022-04-09T08:54:56.144Z"
   },
   {
    "duration": 7,
    "start_time": "2022-04-09T08:54:56.173Z"
   },
   {
    "duration": 33,
    "start_time": "2022-04-09T08:54:56.182Z"
   },
   {
    "duration": 99,
    "start_time": "2022-04-09T08:54:56.217Z"
   },
   {
    "duration": 38,
    "start_time": "2022-04-09T08:54:56.318Z"
   },
   {
    "duration": 16,
    "start_time": "2022-04-09T08:54:56.375Z"
   },
   {
    "duration": 915,
    "start_time": "2022-04-09T08:54:56.393Z"
   },
   {
    "duration": 977,
    "start_time": "2022-04-09T08:54:57.310Z"
   },
   {
    "duration": 892,
    "start_time": "2022-04-09T08:54:58.289Z"
   },
   {
    "duration": 793,
    "start_time": "2022-04-09T08:54:59.184Z"
   },
   {
    "duration": 598,
    "start_time": "2022-04-09T08:54:59.979Z"
   },
   {
    "duration": 297,
    "start_time": "2022-04-09T08:55:00.580Z"
   },
   {
    "duration": 6,
    "start_time": "2022-04-09T08:55:00.879Z"
   },
   {
    "duration": 30,
    "start_time": "2022-04-09T08:55:00.887Z"
   },
   {
    "duration": 4708,
    "start_time": "2022-04-09T08:55:00.920Z"
   },
   {
    "duration": 0,
    "start_time": "2022-04-09T08:55:05.631Z"
   },
   {
    "duration": 1,
    "start_time": "2022-04-09T08:55:05.632Z"
   },
   {
    "duration": 19,
    "start_time": "2022-04-09T08:59:17.627Z"
   },
   {
    "duration": 4491,
    "start_time": "2022-04-09T08:59:19.473Z"
   },
   {
    "duration": 3267,
    "start_time": "2022-04-09T09:00:06.873Z"
   },
   {
    "duration": 53,
    "start_time": "2022-04-09T09:02:10.342Z"
   },
   {
    "duration": 26,
    "start_time": "2022-04-09T09:02:24.938Z"
   },
   {
    "duration": 44,
    "start_time": "2022-04-09T09:03:28.032Z"
   },
   {
    "duration": 24,
    "start_time": "2022-04-09T09:03:40.969Z"
   },
   {
    "duration": 13,
    "start_time": "2022-04-09T09:03:48.655Z"
   },
   {
    "duration": 4449,
    "start_time": "2022-04-09T09:03:51.459Z"
   },
   {
    "duration": 23,
    "start_time": "2022-04-09T09:04:56.047Z"
   },
   {
    "duration": 21,
    "start_time": "2022-04-09T09:05:20.481Z"
   },
   {
    "duration": 12,
    "start_time": "2022-04-09T09:05:36.794Z"
   },
   {
    "duration": 5,
    "start_time": "2022-04-09T09:07:36.070Z"
   },
   {
    "duration": 15,
    "start_time": "2022-04-09T09:07:39.544Z"
   },
   {
    "duration": 4925,
    "start_time": "2022-04-09T09:07:41.929Z"
   },
   {
    "duration": 4570,
    "start_time": "2022-04-09T09:10:48.487Z"
   },
   {
    "duration": 6,
    "start_time": "2022-04-09T09:13:22.201Z"
   },
   {
    "duration": 4418,
    "start_time": "2022-04-09T09:13:26.305Z"
   },
   {
    "duration": 7,
    "start_time": "2022-04-09T09:14:24.357Z"
   },
   {
    "duration": 6,
    "start_time": "2022-04-09T09:29:09.462Z"
   },
   {
    "duration": 4448,
    "start_time": "2022-04-09T09:29:13.210Z"
   },
   {
    "duration": 6,
    "start_time": "2022-04-09T09:29:41.111Z"
   },
   {
    "duration": 13,
    "start_time": "2022-04-09T09:31:30.068Z"
   },
   {
    "duration": 14,
    "start_time": "2022-04-09T09:31:43.936Z"
   },
   {
    "duration": 7,
    "start_time": "2022-04-09T09:40:34.297Z"
   },
   {
    "duration": 16,
    "start_time": "2022-04-09T09:40:36.207Z"
   },
   {
    "duration": 4475,
    "start_time": "2022-04-09T09:40:38.599Z"
   },
   {
    "duration": 7,
    "start_time": "2022-04-09T09:44:40.765Z"
   },
   {
    "duration": 17,
    "start_time": "2022-04-09T09:44:43.789Z"
   },
   {
    "duration": 4634,
    "start_time": "2022-04-09T09:44:45.931Z"
   },
   {
    "duration": 6,
    "start_time": "2022-04-09T09:47:55.553Z"
   },
   {
    "duration": 4779,
    "start_time": "2022-04-09T09:52:57.743Z"
   },
   {
    "duration": 6,
    "start_time": "2022-04-09T09:53:34.485Z"
   },
   {
    "duration": 18,
    "start_time": "2022-04-09T09:53:37.117Z"
   },
   {
    "duration": 4640,
    "start_time": "2022-04-09T09:53:39.801Z"
   },
   {
    "duration": 15,
    "start_time": "2022-04-09T09:54:15.743Z"
   },
   {
    "duration": 14,
    "start_time": "2022-04-09T09:55:07.994Z"
   },
   {
    "duration": 13,
    "start_time": "2022-04-09T09:55:28.721Z"
   },
   {
    "duration": 8,
    "start_time": "2022-04-09T10:02:51.061Z"
   },
   {
    "duration": 9,
    "start_time": "2022-04-09T10:03:26.873Z"
   },
   {
    "duration": 10,
    "start_time": "2022-04-09T10:04:02.259Z"
   },
   {
    "duration": 7,
    "start_time": "2022-04-09T10:05:04.997Z"
   },
   {
    "duration": 5,
    "start_time": "2022-04-09T10:05:43.976Z"
   },
   {
    "duration": 9,
    "start_time": "2022-04-09T10:05:58.009Z"
   },
   {
    "duration": 8,
    "start_time": "2022-04-09T10:07:01.967Z"
   },
   {
    "duration": 7,
    "start_time": "2022-04-09T10:07:20.635Z"
   },
   {
    "duration": 11,
    "start_time": "2022-04-09T10:07:47.437Z"
   },
   {
    "duration": 17,
    "start_time": "2022-04-09T10:08:48.498Z"
   },
   {
    "duration": 4701,
    "start_time": "2022-04-09T10:08:53.754Z"
   },
   {
    "duration": 3957,
    "start_time": "2022-04-09T10:09:33.918Z"
   },
   {
    "duration": 2647,
    "start_time": "2022-04-09T10:22:45.612Z"
   },
   {
    "duration": 132,
    "start_time": "2022-04-09T10:22:48.261Z"
   },
   {
    "duration": 472,
    "start_time": "2022-04-09T10:22:48.395Z"
   },
   {
    "duration": 15,
    "start_time": "2022-04-09T10:22:48.869Z"
   },
   {
    "duration": 6,
    "start_time": "2022-04-09T10:22:48.888Z"
   },
   {
    "duration": 7,
    "start_time": "2022-04-09T10:22:48.897Z"
   },
   {
    "duration": 75,
    "start_time": "2022-04-09T10:22:48.906Z"
   },
   {
    "duration": 71,
    "start_time": "2022-04-09T10:22:48.983Z"
   },
   {
    "duration": 54,
    "start_time": "2022-04-09T10:22:49.056Z"
   },
   {
    "duration": 16,
    "start_time": "2022-04-09T10:22:49.113Z"
   },
   {
    "duration": 1046,
    "start_time": "2022-04-09T10:22:49.131Z"
   },
   {
    "duration": 980,
    "start_time": "2022-04-09T10:22:50.179Z"
   },
   {
    "duration": 921,
    "start_time": "2022-04-09T10:22:51.161Z"
   },
   {
    "duration": 803,
    "start_time": "2022-04-09T10:22:52.086Z"
   },
   {
    "duration": 606,
    "start_time": "2022-04-09T10:22:52.891Z"
   },
   {
    "duration": 296,
    "start_time": "2022-04-09T10:22:53.500Z"
   },
   {
    "duration": 5,
    "start_time": "2022-04-09T10:22:53.799Z"
   },
   {
    "duration": 20,
    "start_time": "2022-04-09T10:22:53.806Z"
   },
   {
    "duration": 1671,
    "start_time": "2022-04-09T10:22:53.829Z"
   },
   {
    "duration": 0,
    "start_time": "2022-04-09T10:22:55.502Z"
   },
   {
    "duration": 0,
    "start_time": "2022-04-09T10:22:55.504Z"
   },
   {
    "duration": 4825,
    "start_time": "2022-04-09T10:23:18.358Z"
   },
   {
    "duration": 15,
    "start_time": "2022-04-09T10:24:14.439Z"
   },
   {
    "duration": 14,
    "start_time": "2022-04-09T10:24:30.085Z"
   },
   {
    "duration": 3149,
    "start_time": "2022-04-09T10:28:54.083Z"
   },
   {
    "duration": 1565,
    "start_time": "2022-04-09T10:30:28.923Z"
   },
   {
    "duration": 3150,
    "start_time": "2022-04-09T10:37:04.894Z"
   },
   {
    "duration": 10,
    "start_time": "2022-04-09T10:37:49.256Z"
   },
   {
    "duration": 9,
    "start_time": "2022-04-09T10:37:59.203Z"
   },
   {
    "duration": 16,
    "start_time": "2022-04-09T10:38:14.492Z"
   },
   {
    "duration": 14,
    "start_time": "2022-04-09T10:38:21.178Z"
   },
   {
    "duration": 15,
    "start_time": "2022-04-09T10:39:06.782Z"
   },
   {
    "duration": 9,
    "start_time": "2022-04-09T10:40:05.848Z"
   },
   {
    "duration": 13,
    "start_time": "2022-04-09T10:40:43.036Z"
   },
   {
    "duration": 8,
    "start_time": "2022-04-09T10:41:04.890Z"
   },
   {
    "duration": 9,
    "start_time": "2022-04-09T10:41:34.261Z"
   },
   {
    "duration": 3303,
    "start_time": "2022-04-09T10:41:59.266Z"
   },
   {
    "duration": 7,
    "start_time": "2022-04-09T10:42:02.742Z"
   },
   {
    "duration": 8,
    "start_time": "2022-04-09T10:42:30.756Z"
   },
   {
    "duration": 8,
    "start_time": "2022-04-09T10:43:05.972Z"
   },
   {
    "duration": 8,
    "start_time": "2022-04-09T10:43:11.032Z"
   },
   {
    "duration": 3170,
    "start_time": "2022-04-09T10:45:15.858Z"
   },
   {
    "duration": 5,
    "start_time": "2022-04-09T10:46:53.608Z"
   },
   {
    "duration": 3716,
    "start_time": "2022-04-09T10:46:58.964Z"
   },
   {
    "duration": 3564,
    "start_time": "2022-04-09T11:13:56.074Z"
   },
   {
    "duration": 3151,
    "start_time": "2022-04-09T11:14:26.717Z"
   },
   {
    "duration": 4611,
    "start_time": "2022-04-09T11:14:55.689Z"
   },
   {
    "duration": 2393,
    "start_time": "2022-04-09T11:16:51.451Z"
   },
   {
    "duration": 139,
    "start_time": "2022-04-09T11:16:53.846Z"
   },
   {
    "duration": 504,
    "start_time": "2022-04-09T11:16:53.987Z"
   },
   {
    "duration": 19,
    "start_time": "2022-04-09T11:16:54.494Z"
   },
   {
    "duration": 6,
    "start_time": "2022-04-09T11:16:54.516Z"
   },
   {
    "duration": 15,
    "start_time": "2022-04-09T11:16:54.524Z"
   },
   {
    "duration": 54,
    "start_time": "2022-04-09T11:16:54.542Z"
   },
   {
    "duration": 88,
    "start_time": "2022-04-09T11:16:54.600Z"
   },
   {
    "duration": 41,
    "start_time": "2022-04-09T11:16:54.691Z"
   },
   {
    "duration": 42,
    "start_time": "2022-04-09T11:16:54.738Z"
   },
   {
    "duration": 914,
    "start_time": "2022-04-09T11:16:54.783Z"
   },
   {
    "duration": 976,
    "start_time": "2022-04-09T11:16:55.699Z"
   },
   {
    "duration": 1083,
    "start_time": "2022-04-09T11:16:56.677Z"
   },
   {
    "duration": 784,
    "start_time": "2022-04-09T11:16:57.762Z"
   },
   {
    "duration": 581,
    "start_time": "2022-04-09T11:16:58.548Z"
   },
   {
    "duration": 291,
    "start_time": "2022-04-09T11:16:59.131Z"
   },
   {
    "duration": 6,
    "start_time": "2022-04-09T11:16:59.424Z"
   },
   {
    "duration": 19,
    "start_time": "2022-04-09T11:16:59.432Z"
   },
   {
    "duration": 4636,
    "start_time": "2022-04-09T11:16:59.453Z"
   },
   {
    "duration": 0,
    "start_time": "2022-04-09T11:17:04.091Z"
   },
   {
    "duration": 0,
    "start_time": "2022-04-09T11:17:04.093Z"
   },
   {
    "duration": 2498,
    "start_time": "2022-04-09T11:17:43.692Z"
   },
   {
    "duration": 137,
    "start_time": "2022-04-09T11:17:46.193Z"
   },
   {
    "duration": 476,
    "start_time": "2022-04-09T11:17:46.333Z"
   },
   {
    "duration": 15,
    "start_time": "2022-04-09T11:17:46.812Z"
   },
   {
    "duration": 7,
    "start_time": "2022-04-09T11:17:46.830Z"
   },
   {
    "duration": 39,
    "start_time": "2022-04-09T11:17:46.839Z"
   },
   {
    "duration": 49,
    "start_time": "2022-04-09T11:17:46.880Z"
   },
   {
    "duration": 147,
    "start_time": "2022-04-09T11:17:46.933Z"
   },
   {
    "duration": 52,
    "start_time": "2022-04-09T11:17:47.083Z"
   },
   {
    "duration": 46,
    "start_time": "2022-04-09T11:17:47.138Z"
   },
   {
    "duration": 976,
    "start_time": "2022-04-09T11:17:47.187Z"
   },
   {
    "duration": 984,
    "start_time": "2022-04-09T11:17:48.166Z"
   },
   {
    "duration": 912,
    "start_time": "2022-04-09T11:17:49.152Z"
   },
   {
    "duration": 817,
    "start_time": "2022-04-09T11:17:50.066Z"
   },
   {
    "duration": 594,
    "start_time": "2022-04-09T11:17:50.886Z"
   },
   {
    "duration": 295,
    "start_time": "2022-04-09T11:17:51.483Z"
   },
   {
    "duration": 5,
    "start_time": "2022-04-09T11:17:51.781Z"
   },
   {
    "duration": 17,
    "start_time": "2022-04-09T11:17:51.789Z"
   },
   {
    "duration": 4625,
    "start_time": "2022-04-09T11:17:51.809Z"
   },
   {
    "duration": 0,
    "start_time": "2022-04-09T11:17:56.436Z"
   },
   {
    "duration": 0,
    "start_time": "2022-04-09T11:17:56.438Z"
   },
   {
    "duration": 3491,
    "start_time": "2022-04-09T11:42:31.872Z"
   },
   {
    "duration": 3373,
    "start_time": "2022-04-09T11:47:10.550Z"
   },
   {
    "duration": 13,
    "start_time": "2022-04-09T11:47:18.420Z"
   },
   {
    "duration": 3493,
    "start_time": "2022-04-09T11:47:49.913Z"
   },
   {
    "duration": 3171,
    "start_time": "2022-04-09T11:48:09.307Z"
   },
   {
    "duration": 4055,
    "start_time": "2022-04-09T11:48:28.226Z"
   },
   {
    "duration": 5639,
    "start_time": "2022-04-09T11:48:32.284Z"
   },
   {
    "duration": 565,
    "start_time": "2022-04-09T11:48:45.114Z"
   },
   {
    "duration": 8,
    "start_time": "2022-04-09T12:22:40.075Z"
   },
   {
    "duration": 4665,
    "start_time": "2022-04-09T12:22:48.439Z"
   },
   {
    "duration": 367,
    "start_time": "2022-04-09T12:43:27.972Z"
   },
   {
    "duration": 363,
    "start_time": "2022-04-09T12:44:03.558Z"
   },
   {
    "duration": 42,
    "start_time": "2022-04-09T13:42:41.609Z"
   },
   {
    "duration": 20,
    "start_time": "2022-04-09T13:49:19.935Z"
   },
   {
    "duration": 16,
    "start_time": "2022-04-09T13:57:12.370Z"
   },
   {
    "duration": 14,
    "start_time": "2022-04-09T13:57:33.572Z"
   },
   {
    "duration": 371,
    "start_time": "2022-04-09T13:58:22.359Z"
   },
   {
    "duration": 46207,
    "start_time": "2022-04-09T13:58:34.179Z"
   },
   {
    "duration": 1702,
    "start_time": "2022-04-09T14:00:12.607Z"
   },
   {
    "duration": 350,
    "start_time": "2022-04-09T14:03:24.040Z"
   },
   {
    "duration": 330,
    "start_time": "2022-04-09T14:05:13.751Z"
   },
   {
    "duration": 331,
    "start_time": "2022-04-09T14:15:21.934Z"
   },
   {
    "duration": 2243,
    "start_time": "2022-04-09T14:15:46.688Z"
   },
   {
    "duration": 132,
    "start_time": "2022-04-09T14:15:48.934Z"
   },
   {
    "duration": 470,
    "start_time": "2022-04-09T14:15:49.068Z"
   },
   {
    "duration": 14,
    "start_time": "2022-04-09T14:15:49.541Z"
   },
   {
    "duration": 17,
    "start_time": "2022-04-09T14:15:49.558Z"
   },
   {
    "duration": 11,
    "start_time": "2022-04-09T14:15:49.577Z"
   },
   {
    "duration": 37,
    "start_time": "2022-04-09T14:15:49.591Z"
   },
   {
    "duration": 63,
    "start_time": "2022-04-09T14:15:49.630Z"
   },
   {
    "duration": 18,
    "start_time": "2022-04-09T14:15:49.695Z"
   },
   {
    "duration": 59,
    "start_time": "2022-04-09T14:15:49.717Z"
   },
   {
    "duration": 16,
    "start_time": "2022-04-09T14:15:49.778Z"
   },
   {
    "duration": 956,
    "start_time": "2022-04-09T14:15:49.796Z"
   },
   {
    "duration": 977,
    "start_time": "2022-04-09T14:15:50.754Z"
   },
   {
    "duration": 895,
    "start_time": "2022-04-09T14:15:51.733Z"
   },
   {
    "duration": 789,
    "start_time": "2022-04-09T14:15:52.630Z"
   },
   {
    "duration": 592,
    "start_time": "2022-04-09T14:15:53.421Z"
   },
   {
    "duration": 284,
    "start_time": "2022-04-09T14:15:54.016Z"
   },
   {
    "duration": 6,
    "start_time": "2022-04-09T14:15:54.302Z"
   },
   {
    "duration": 18,
    "start_time": "2022-04-09T14:15:54.310Z"
   },
   {
    "duration": 45860,
    "start_time": "2022-04-09T14:15:54.331Z"
   },
   {
    "duration": 492,
    "start_time": "2022-04-09T14:16:40.193Z"
   },
   {
    "duration": 0,
    "start_time": "2022-04-09T14:16:40.687Z"
   },
   {
    "duration": 0,
    "start_time": "2022-04-09T14:16:40.689Z"
   },
   {
    "duration": 657,
    "start_time": "2022-04-09T14:17:25.761Z"
   },
   {
    "duration": 6608,
    "start_time": "2022-04-09T14:19:01.167Z"
   },
   {
    "duration": 161,
    "start_time": "2022-04-09T14:30:04.168Z"
   },
   {
    "duration": 120,
    "start_time": "2022-04-09T14:30:30.674Z"
   },
   {
    "duration": 6700,
    "start_time": "2022-04-09T14:30:47.959Z"
   },
   {
    "duration": 6645,
    "start_time": "2022-04-09T14:31:12.454Z"
   },
   {
    "duration": 13,
    "start_time": "2022-04-09T14:32:20.376Z"
   },
   {
    "duration": 339,
    "start_time": "2022-04-09T14:32:33.652Z"
   },
   {
    "duration": 426,
    "start_time": "2022-04-09T14:33:23.823Z"
   },
   {
    "duration": 31645,
    "start_time": "2022-04-09T14:34:10.999Z"
   },
   {
    "duration": 26439,
    "start_time": "2022-04-09T14:34:57.109Z"
   },
   {
    "duration": 25836,
    "start_time": "2022-04-09T14:41:10.277Z"
   },
   {
    "duration": 35,
    "start_time": "2022-04-09T14:43:12.291Z"
   },
   {
    "duration": 1085687,
    "start_time": "2022-04-09T14:44:34.469Z"
   },
   {
    "duration": 31804,
    "start_time": "2022-04-09T15:23:19.230Z"
   },
   {
    "duration": 10393,
    "start_time": "2022-04-09T15:24:07.482Z"
   },
   {
    "duration": 32311,
    "start_time": "2022-04-09T15:25:32.188Z"
   },
   {
    "duration": 9983,
    "start_time": "2022-04-09T15:26:30.904Z"
   },
   {
    "duration": 6,
    "start_time": "2022-04-09T15:27:47.507Z"
   },
   {
    "duration": 16,
    "start_time": "2022-04-09T15:28:00.167Z"
   },
   {
    "duration": 27400,
    "start_time": "2022-04-09T15:29:17.834Z"
   },
   {
    "duration": 31934,
    "start_time": "2022-04-09T15:30:08.860Z"
   },
   {
    "duration": 10837,
    "start_time": "2022-04-09T15:30:44.438Z"
   },
   {
    "duration": 6714,
    "start_time": "2022-04-09T15:32:14.262Z"
   },
   {
    "duration": 131,
    "start_time": "2022-04-09T15:42:39.879Z"
   },
   {
    "duration": 2821,
    "start_time": "2022-04-09T15:44:56.429Z"
   },
   {
    "duration": 143,
    "start_time": "2022-04-09T15:44:59.253Z"
   },
   {
    "duration": 494,
    "start_time": "2022-04-09T15:44:59.398Z"
   },
   {
    "duration": 15,
    "start_time": "2022-04-09T15:44:59.895Z"
   },
   {
    "duration": 6,
    "start_time": "2022-04-09T15:44:59.913Z"
   },
   {
    "duration": 11,
    "start_time": "2022-04-09T15:44:59.921Z"
   },
   {
    "duration": 73,
    "start_time": "2022-04-09T15:44:59.935Z"
   },
   {
    "duration": 66,
    "start_time": "2022-04-09T15:45:00.011Z"
   },
   {
    "duration": 19,
    "start_time": "2022-04-09T15:45:00.080Z"
   },
   {
    "duration": 40,
    "start_time": "2022-04-09T15:45:00.104Z"
   },
   {
    "duration": 19,
    "start_time": "2022-04-09T15:45:00.174Z"
   },
   {
    "duration": 982,
    "start_time": "2022-04-09T15:45:00.196Z"
   },
   {
    "duration": 986,
    "start_time": "2022-04-09T15:45:01.181Z"
   },
   {
    "duration": 1017,
    "start_time": "2022-04-09T15:45:02.175Z"
   },
   {
    "duration": 811,
    "start_time": "2022-04-09T15:45:03.195Z"
   },
   {
    "duration": 608,
    "start_time": "2022-04-09T15:45:04.009Z"
   },
   {
    "duration": 300,
    "start_time": "2022-04-09T15:45:04.620Z"
   },
   {
    "duration": 5,
    "start_time": "2022-04-09T15:45:04.923Z"
   },
   {
    "duration": 17,
    "start_time": "2022-04-09T15:45:04.931Z"
   },
   {
    "duration": 30927,
    "start_time": "2022-04-09T15:45:04.950Z"
   },
   {
    "duration": 26306,
    "start_time": "2022-04-09T15:45:35.879Z"
   },
   {
    "duration": 997825,
    "start_time": "2022-04-09T15:46:02.187Z"
   },
   {
    "duration": 32690,
    "start_time": "2022-04-09T16:02:40.015Z"
   },
   {
    "duration": 10470,
    "start_time": "2022-04-09T16:03:12.707Z"
   },
   {
    "duration": 6296,
    "start_time": "2022-04-09T16:03:23.181Z"
   },
   {
    "duration": 65,
    "start_time": "2022-04-10T05:58:09.633Z"
   },
   {
    "duration": 1993,
    "start_time": "2022-04-10T05:58:14.956Z"
   },
   {
    "duration": 109,
    "start_time": "2022-04-10T05:58:16.952Z"
   },
   {
    "duration": 407,
    "start_time": "2022-04-10T05:58:17.063Z"
   },
   {
    "duration": 10,
    "start_time": "2022-04-10T05:58:17.472Z"
   },
   {
    "duration": 4,
    "start_time": "2022-04-10T05:58:17.484Z"
   },
   {
    "duration": 7,
    "start_time": "2022-04-10T05:58:17.490Z"
   },
   {
    "duration": 50,
    "start_time": "2022-04-10T05:58:17.499Z"
   },
   {
    "duration": 36,
    "start_time": "2022-04-10T05:58:17.551Z"
   },
   {
    "duration": 13,
    "start_time": "2022-04-10T05:58:17.590Z"
   },
   {
    "duration": 51,
    "start_time": "2022-04-10T05:58:17.606Z"
   },
   {
    "duration": 12,
    "start_time": "2022-04-10T05:58:17.659Z"
   },
   {
    "duration": 728,
    "start_time": "2022-04-10T05:58:17.672Z"
   },
   {
    "duration": 602,
    "start_time": "2022-04-10T05:58:18.402Z"
   },
   {
    "duration": 625,
    "start_time": "2022-04-10T05:58:19.006Z"
   },
   {
    "duration": 601,
    "start_time": "2022-04-10T05:58:19.633Z"
   },
   {
    "duration": 408,
    "start_time": "2022-04-10T05:58:20.236Z"
   },
   {
    "duration": 197,
    "start_time": "2022-04-10T05:58:20.646Z"
   },
   {
    "duration": 4,
    "start_time": "2022-04-10T05:58:20.845Z"
   },
   {
    "duration": 14,
    "start_time": "2022-04-10T05:58:20.851Z"
   },
   {
    "duration": 25717,
    "start_time": "2022-04-10T05:58:20.867Z"
   },
   {
    "duration": 21704,
    "start_time": "2022-04-10T05:58:46.586Z"
   },
   {
    "duration": 796591,
    "start_time": "2022-04-10T05:59:08.291Z"
   },
   {
    "duration": 8992,
    "start_time": "2022-04-10T06:12:50.643Z"
   },
   {
    "duration": 5693,
    "start_time": "2022-04-10T06:12:59.640Z"
   },
   {
    "duration": 26248,
    "start_time": "2022-04-10T06:13:05.336Z"
   }
  ],
  "kernelspec": {
   "display_name": "Python 3 (ipykernel)",
   "language": "python",
   "name": "python3"
  },
  "language_info": {
   "codemirror_mode": {
    "name": "ipython",
    "version": 3
   },
   "file_extension": ".py",
   "mimetype": "text/x-python",
   "name": "python",
   "nbconvert_exporter": "python",
   "pygments_lexer": "ipython3",
   "version": "3.9.7"
  },
  "toc": {
   "base_numbering": 1,
   "nav_menu": {},
   "number_sections": true,
   "sideBar": true,
   "skip_h1_title": true,
   "title_cell": "Содержание",
   "title_sidebar": "Contents",
   "toc_cell": true,
   "toc_position": {
    "height": "calc(100% - 180px)",
    "left": "10px",
    "top": "150px",
    "width": "333px"
   },
   "toc_section_display": true,
   "toc_window_display": true
  }
 },
 "nbformat": 4,
 "nbformat_minor": 2
}
