{
 "cells": [
  {
   "cell_type": "markdown",
   "metadata": {},
   "source": [
    "# Определение стоимости автомобилей"
   ]
  },
  {
   "cell_type": "markdown",
   "metadata": {},
   "source": [
    "Сервис по продаже автомобилей с пробегом «Не бит, не крашен» разрабатывает приложение для привлечения новых клиентов. В нём можно быстро узнать рыночную стоимость своего автомобиля. В вашем распоряжении исторические данные: технические характеристики, комплектации и цены автомобилей. Вам нужно построить модель для определения стоимости. \n",
    "\n",
    "Заказчику важны:\n",
    "\n",
    "- качество предсказания;\n",
    "- скорость предсказания;\n",
    "- время обучения."
   ]
  },
  {
   "cell_type": "markdown",
   "metadata": {},
   "source": [
    "## Подготовка данных"
   ]
  },
  {
   "cell_type": "code",
   "execution_count": 1,
   "metadata": {},
   "outputs": [],
   "source": [
    "import numpy as np\n",
    "import pandas as pd\n",
    "\n",
    "import matplotlib.pyplot as plt\n",
    "\n",
    "from sklearn.preprocessing import OrdinalEncoder\n",
    "\n",
    "from sklearn.model_selection import train_test_split\n",
    "from sklearn.linear_model import LinearRegression\n",
    "from sklearn.tree import DecisionTreeRegressor\n",
    "from sklearn.ensemble import RandomForestRegressor\n",
    "\n",
    "from sklearn.model_selection import cross_val_score\n",
    "from sklearn.metrics import mean_absolute_error\n",
    "from sklearn.metrics import mean_squared_error\n",
    "from sklearn.metrics import make_scorer\n",
    "\n",
    "from sklearn.model_selection import GridSearchCV\n",
    "from catboost import CatBoostRegressor\n",
    "import lightgbm as lgb\n",
    "\n",
    "import warnings\n",
    "warnings.filterwarnings('ignore')\n"
   ]
  },
  {
   "cell_type": "code",
   "execution_count": 2,
   "metadata": {},
   "outputs": [
    {
     "name": "stdout",
     "output_type": "stream",
     "text": [
      "<class 'pandas.core.frame.DataFrame'>\n",
      "RangeIndex: 354369 entries, 0 to 354368\n",
      "Data columns (total 16 columns):\n",
      " #   Column             Non-Null Count   Dtype         \n",
      "---  ------             --------------   -----         \n",
      " 0   DateCrawled        354369 non-null  datetime64[ns]\n",
      " 1   Price              354369 non-null  int64         \n",
      " 2   VehicleType        316879 non-null  object        \n",
      " 3   RegistrationYear   354369 non-null  int64         \n",
      " 4   Gearbox            334536 non-null  object        \n",
      " 5   Power              354369 non-null  int64         \n",
      " 6   Model              334664 non-null  object        \n",
      " 7   Kilometer          354369 non-null  int64         \n",
      " 8   RegistrationMonth  354369 non-null  int64         \n",
      " 9   FuelType           321474 non-null  object        \n",
      " 10  Brand              354369 non-null  object        \n",
      " 11  NotRepaired        283215 non-null  object        \n",
      " 12  DateCreated        354369 non-null  datetime64[ns]\n",
      " 13  NumberOfPictures   354369 non-null  int64         \n",
      " 14  PostalCode         354369 non-null  int64         \n",
      " 15  LastSeen           354369 non-null  datetime64[ns]\n",
      "dtypes: datetime64[ns](3), int64(7), object(6)\n",
      "memory usage: 43.3+ MB\n"
     ]
    },
    {
     "data": {
      "text/plain": [
       "(               Price  RegistrationYear          Power      Kilometer  \\\n",
       " count  354369.000000     354369.000000  354369.000000  354369.000000   \n",
       " mean     4416.656776       2004.234448     110.094337  128211.172535   \n",
       " std      4514.158514         90.227958     189.850405   37905.341530   \n",
       " min         0.000000       1000.000000       0.000000    5000.000000   \n",
       " 25%      1050.000000       1999.000000      69.000000  125000.000000   \n",
       " 50%      2700.000000       2003.000000     105.000000  150000.000000   \n",
       " 75%      6400.000000       2008.000000     143.000000  150000.000000   \n",
       " max     20000.000000       9999.000000   20000.000000  150000.000000   \n",
       " \n",
       "        RegistrationMonth  NumberOfPictures     PostalCode  \n",
       " count      354369.000000          354369.0  354369.000000  \n",
       " mean            5.714645               0.0   50508.689087  \n",
       " std             3.726421               0.0   25783.096248  \n",
       " min             0.000000               0.0    1067.000000  \n",
       " 25%             3.000000               0.0   30165.000000  \n",
       " 50%             6.000000               0.0   49413.000000  \n",
       " 75%             9.000000               0.0   71083.000000  \n",
       " max            12.000000               0.0   99998.000000  ,\n",
       " None)"
      ]
     },
     "execution_count": 2,
     "metadata": {},
     "output_type": "execute_result"
    }
   ],
   "source": [
    "df = pd.read_csv('/datasets/autos.csv', parse_dates=['DateCreated', 'LastSeen', 'DateCrawled'])\n",
    "df.describe(), df.info()"
   ]
  },
  {
   "cell_type": "code",
   "execution_count": 3,
   "metadata": {
    "scrolled": true
   },
   "outputs": [
    {
     "data": {
      "text/html": [
       "<div>\n",
       "<style scoped>\n",
       "    .dataframe tbody tr th:only-of-type {\n",
       "        vertical-align: middle;\n",
       "    }\n",
       "\n",
       "    .dataframe tbody tr th {\n",
       "        vertical-align: top;\n",
       "    }\n",
       "\n",
       "    .dataframe thead th {\n",
       "        text-align: right;\n",
       "    }\n",
       "</style>\n",
       "<table border=\"1\" class=\"dataframe\">\n",
       "  <thead>\n",
       "    <tr style=\"text-align: right;\">\n",
       "      <th></th>\n",
       "      <th>DateCrawled</th>\n",
       "      <th>Price</th>\n",
       "      <th>VehicleType</th>\n",
       "      <th>RegistrationYear</th>\n",
       "      <th>Gearbox</th>\n",
       "      <th>Power</th>\n",
       "      <th>Model</th>\n",
       "      <th>Kilometer</th>\n",
       "      <th>RegistrationMonth</th>\n",
       "      <th>FuelType</th>\n",
       "      <th>Brand</th>\n",
       "      <th>NotRepaired</th>\n",
       "      <th>DateCreated</th>\n",
       "      <th>NumberOfPictures</th>\n",
       "      <th>PostalCode</th>\n",
       "      <th>LastSeen</th>\n",
       "    </tr>\n",
       "  </thead>\n",
       "  <tbody>\n",
       "    <tr>\n",
       "      <th>0</th>\n",
       "      <td>2016-03-24 11:52:17</td>\n",
       "      <td>480</td>\n",
       "      <td>NaN</td>\n",
       "      <td>1993</td>\n",
       "      <td>manual</td>\n",
       "      <td>0</td>\n",
       "      <td>golf</td>\n",
       "      <td>150000</td>\n",
       "      <td>0</td>\n",
       "      <td>petrol</td>\n",
       "      <td>volkswagen</td>\n",
       "      <td>NaN</td>\n",
       "      <td>2016-03-24</td>\n",
       "      <td>0</td>\n",
       "      <td>70435</td>\n",
       "      <td>2016-04-07 03:16:57</td>\n",
       "    </tr>\n",
       "    <tr>\n",
       "      <th>1</th>\n",
       "      <td>2016-03-24 10:58:45</td>\n",
       "      <td>18300</td>\n",
       "      <td>coupe</td>\n",
       "      <td>2011</td>\n",
       "      <td>manual</td>\n",
       "      <td>190</td>\n",
       "      <td>NaN</td>\n",
       "      <td>125000</td>\n",
       "      <td>5</td>\n",
       "      <td>gasoline</td>\n",
       "      <td>audi</td>\n",
       "      <td>yes</td>\n",
       "      <td>2016-03-24</td>\n",
       "      <td>0</td>\n",
       "      <td>66954</td>\n",
       "      <td>2016-04-07 01:46:50</td>\n",
       "    </tr>\n",
       "    <tr>\n",
       "      <th>2</th>\n",
       "      <td>2016-03-14 12:52:21</td>\n",
       "      <td>9800</td>\n",
       "      <td>suv</td>\n",
       "      <td>2004</td>\n",
       "      <td>auto</td>\n",
       "      <td>163</td>\n",
       "      <td>grand</td>\n",
       "      <td>125000</td>\n",
       "      <td>8</td>\n",
       "      <td>gasoline</td>\n",
       "      <td>jeep</td>\n",
       "      <td>NaN</td>\n",
       "      <td>2016-03-14</td>\n",
       "      <td>0</td>\n",
       "      <td>90480</td>\n",
       "      <td>2016-04-05 12:47:46</td>\n",
       "    </tr>\n",
       "    <tr>\n",
       "      <th>3</th>\n",
       "      <td>2016-03-17 16:54:04</td>\n",
       "      <td>1500</td>\n",
       "      <td>small</td>\n",
       "      <td>2001</td>\n",
       "      <td>manual</td>\n",
       "      <td>75</td>\n",
       "      <td>golf</td>\n",
       "      <td>150000</td>\n",
       "      <td>6</td>\n",
       "      <td>petrol</td>\n",
       "      <td>volkswagen</td>\n",
       "      <td>no</td>\n",
       "      <td>2016-03-17</td>\n",
       "      <td>0</td>\n",
       "      <td>91074</td>\n",
       "      <td>2016-03-17 17:40:17</td>\n",
       "    </tr>\n",
       "    <tr>\n",
       "      <th>4</th>\n",
       "      <td>2016-03-31 17:25:20</td>\n",
       "      <td>3600</td>\n",
       "      <td>small</td>\n",
       "      <td>2008</td>\n",
       "      <td>manual</td>\n",
       "      <td>69</td>\n",
       "      <td>fabia</td>\n",
       "      <td>90000</td>\n",
       "      <td>7</td>\n",
       "      <td>gasoline</td>\n",
       "      <td>skoda</td>\n",
       "      <td>no</td>\n",
       "      <td>2016-03-31</td>\n",
       "      <td>0</td>\n",
       "      <td>60437</td>\n",
       "      <td>2016-04-06 10:17:21</td>\n",
       "    </tr>\n",
       "  </tbody>\n",
       "</table>\n",
       "</div>"
      ],
      "text/plain": [
       "          DateCrawled  Price VehicleType  RegistrationYear Gearbox  Power  \\\n",
       "0 2016-03-24 11:52:17    480         NaN              1993  manual      0   \n",
       "1 2016-03-24 10:58:45  18300       coupe              2011  manual    190   \n",
       "2 2016-03-14 12:52:21   9800         suv              2004    auto    163   \n",
       "3 2016-03-17 16:54:04   1500       small              2001  manual     75   \n",
       "4 2016-03-31 17:25:20   3600       small              2008  manual     69   \n",
       "\n",
       "   Model  Kilometer  RegistrationMonth  FuelType       Brand NotRepaired  \\\n",
       "0   golf     150000                  0    petrol  volkswagen         NaN   \n",
       "1    NaN     125000                  5  gasoline        audi         yes   \n",
       "2  grand     125000                  8  gasoline        jeep         NaN   \n",
       "3   golf     150000                  6    petrol  volkswagen          no   \n",
       "4  fabia      90000                  7  gasoline       skoda          no   \n",
       "\n",
       "  DateCreated  NumberOfPictures  PostalCode            LastSeen  \n",
       "0  2016-03-24                 0       70435 2016-04-07 03:16:57  \n",
       "1  2016-03-24                 0       66954 2016-04-07 01:46:50  \n",
       "2  2016-03-14                 0       90480 2016-04-05 12:47:46  \n",
       "3  2016-03-17                 0       91074 2016-03-17 17:40:17  \n",
       "4  2016-03-31                 0       60437 2016-04-06 10:17:21  "
      ]
     },
     "execution_count": 3,
     "metadata": {},
     "output_type": "execute_result"
    }
   ],
   "source": [
    "df.head()"
   ]
  },
  {
   "cell_type": "markdown",
   "metadata": {},
   "source": [
    "Имеются пропуски в данных, разберемся с ними. \n",
    "Начнем с VehicleType"
   ]
  },
  {
   "cell_type": "code",
   "execution_count": 4,
   "metadata": {},
   "outputs": [
    {
     "data": {
      "text/plain": [
       "array([nan, 'coupe', 'suv', 'small', 'sedan', 'convertible', 'bus',\n",
       "       'wagon', 'other'], dtype=object)"
      ]
     },
     "execution_count": 4,
     "metadata": {},
     "output_type": "execute_result"
    }
   ],
   "source": [
    "df['VehicleType'].unique()"
   ]
  },
  {
   "cell_type": "code",
   "execution_count": 5,
   "metadata": {},
   "outputs": [
    {
     "data": {
      "text/plain": [
       "sedan          91457\n",
       "small          79831\n",
       "wagon          65166\n",
       "unknown        37490\n",
       "bus            28775\n",
       "convertible    20203\n",
       "coupe          16163\n",
       "suv            11996\n",
       "other           3288\n",
       "Name: VehicleType, dtype: int64"
      ]
     },
     "execution_count": 5,
     "metadata": {},
     "output_type": "execute_result"
    }
   ],
   "source": [
    "# заменим пропуски на \"unknown\"\n",
    "df['VehicleType'] = df['VehicleType'].fillna('unknown')\n",
    "df['VehicleType'].value_counts()"
   ]
  },
  {
   "cell_type": "code",
   "execution_count": 6,
   "metadata": {},
   "outputs": [
    {
     "data": {
      "text/plain": [
       "32895"
      ]
     },
     "execution_count": 6,
     "metadata": {},
     "output_type": "execute_result"
    }
   ],
   "source": [
    "# проверим сколько пропусков в столбце 'FuelType'\n",
    "df['FuelType'].isnull().sum()"
   ]
  },
  {
   "cell_type": "markdown",
   "metadata": {},
   "source": [
    "почти 10% пропусков, удалять их не стоит но заполнить предлагаю 'unknown'"
   ]
  },
  {
   "cell_type": "code",
   "execution_count": 7,
   "metadata": {},
   "outputs": [
    {
     "data": {
      "text/plain": [
       "petrol      216352\n",
       "gasoline     98720\n",
       "unknown      32895\n",
       "lpg           5310\n",
       "cng            565\n",
       "hybrid         233\n",
       "other          204\n",
       "electric        90\n",
       "Name: FuelType, dtype: int64"
      ]
     },
     "execution_count": 7,
     "metadata": {},
     "output_type": "execute_result"
    }
   ],
   "source": [
    "df['FuelType'] = df['FuelType'].fillna('unknown')\n",
    "df['FuelType'].value_counts()"
   ]
  },
  {
   "cell_type": "code",
   "execution_count": 8,
   "metadata": {},
   "outputs": [
    {
     "name": "stdout",
     "output_type": "stream",
     "text": [
      "no     247161\n",
      "yes     36054\n",
      "Name: NotRepaired, dtype: int64\n"
     ]
    },
    {
     "data": {
      "text/plain": [
       "71154"
      ]
     },
     "execution_count": 8,
     "metadata": {},
     "output_type": "execute_result"
    }
   ],
   "source": [
    "# проверим пропуски в NotRepaired\n",
    "print(df['NotRepaired'].value_counts())\n",
    "df['NotRepaired'].isnull().sum()"
   ]
  },
  {
   "cell_type": "markdown",
   "metadata": {},
   "source": [
    "то что этот показатель точно влияет на стоимость нам не следует удалять эти строки, но мы не можем все пропуски заменить на `no` или `yes`, по этому правельнее было бы заполнить пропуски значением 'unknown'"
   ]
  },
  {
   "cell_type": "code",
   "execution_count": 9,
   "metadata": {},
   "outputs": [
    {
     "data": {
      "text/plain": [
       "0"
      ]
     },
     "execution_count": 9,
     "metadata": {},
     "output_type": "execute_result"
    }
   ],
   "source": [
    "# используем метод ’bfill’\n",
    "df['NotRepaired'] = df['NotRepaired'].fillna('unknown')\n",
    "df['NotRepaired'].isnull().sum()"
   ]
  },
  {
   "cell_type": "code",
   "execution_count": 10,
   "metadata": {},
   "outputs": [
    {
     "name": "stdout",
     "output_type": "stream",
     "text": [
      "manual    268251\n",
      "auto       66285\n",
      "Name: Gearbox, dtype: int64\n"
     ]
    },
    {
     "data": {
      "text/plain": [
       "19833"
      ]
     },
     "execution_count": 10,
     "metadata": {},
     "output_type": "execute_result"
    }
   ],
   "source": [
    "# проверим пропуски в Gearbox\n",
    "print(df['Gearbox'].value_counts())\n",
    "df['Gearbox'].isnull().sum()"
   ]
  },
  {
   "cell_type": "code",
   "execution_count": 11,
   "metadata": {},
   "outputs": [
    {
     "data": {
      "text/plain": [
       "0"
      ]
     },
     "execution_count": 11,
     "metadata": {},
     "output_type": "execute_result"
    }
   ],
   "source": [
    "# Заменим методом ’ffill’\n",
    "df['Gearbox'] = df['Gearbox'].fillna(method='ffill')\n",
    "df['Gearbox'].isnull().sum()"
   ]
  },
  {
   "cell_type": "code",
   "execution_count": 12,
   "metadata": {},
   "outputs": [
    {
     "name": "stdout",
     "output_type": "stream",
     "text": [
      "golf                  29232\n",
      "other                 24421\n",
      "3er                   19761\n",
      "polo                  13066\n",
      "corsa                 12570\n",
      "                      ...  \n",
      "serie_2                   8\n",
      "serie_3                   4\n",
      "rangerover                4\n",
      "serie_1                   2\n",
      "range_rover_evoque        2\n",
      "Name: Model, Length: 250, dtype: int64\n"
     ]
    },
    {
     "data": {
      "text/plain": [
       "19705"
      ]
     },
     "execution_count": 12,
     "metadata": {},
     "output_type": "execute_result"
    }
   ],
   "source": [
    "print(df['Model'].value_counts())\n",
    "df['Model'].isnull().sum()"
   ]
  },
  {
   "cell_type": "markdown",
   "metadata": {},
   "source": [
    "Аналогично заполним пропуски в столбце `Model`"
   ]
  },
  {
   "cell_type": "code",
   "execution_count": 13,
   "metadata": {},
   "outputs": [
    {
     "data": {
      "text/plain": [
       "0"
      ]
     },
     "execution_count": 13,
     "metadata": {},
     "output_type": "execute_result"
    }
   ],
   "source": [
    "# Заменим методом ’ffill’\n",
    "df['Model'] = df['Model'].fillna(method='ffill')\n",
    "df['Model'].isnull().sum()"
   ]
  },
  {
   "cell_type": "markdown",
   "metadata": {},
   "source": [
    "Хорошо, с пропусками разобрались.\n",
    "\n",
    "Теперь вызывают сомнения сами данные в некоторых столбцах: в `RegistrationYear` значение года 1000 и 9999 не реальные, в столбце `Power` так жн значение 0 и 20000 не похожи на правдивые а столбец `NumberOfPictures` нам вообще не пригодится так как там все данные нулевые"
   ]
  },
  {
   "cell_type": "code",
   "execution_count": 14,
   "metadata": {},
   "outputs": [
    {
     "data": {
      "text/plain": [
       "<AxesSubplot:>"
      ]
     },
     "execution_count": 14,
     "metadata": {},
     "output_type": "execute_result"
    },
    {
     "data": {
      "image/png": "[encoded data removed]",
      "text/plain": [
       "<Figure size 432x288 with 1 Axes>"
      ]
     },
     "metadata": {
      "needs_background": "light"
     },
     "output_type": "display_data"
    }
   ],
   "source": [
    "# посмотрим на распределение данных 'RegistrationYear'\n",
    "df['RegistrationYear'].hist(bins=100, range=(1000, 9999))"
   ]
  },
  {
   "cell_type": "code",
   "execution_count": 15,
   "metadata": {},
   "outputs": [
    {
     "data": {
      "text/plain": [
       "<AxesSubplot:>"
      ]
     },
     "execution_count": 15,
     "metadata": {},
     "output_type": "execute_result"
    },
    {
     "data": {
      "image/png": "[encoded data removed]",
      "text/plain": [
       "<Figure size 432x288 with 1 Axes>"
      ]
     },
     "metadata": {
      "needs_background": "light"
     },
     "output_type": "display_data"
    }
   ],
   "source": [
    "# посмотрим на данные в основном периоде\n",
    "df['RegistrationYear'].hist(bins=100, range=(1950, 2020))"
   ]
  },
  {
   "cell_type": "markdown",
   "metadata": {},
   "source": [
    "определим период от 1960 года до 2020, а остальные значения заменим средним так как их не так много, зато мы избавимся от выбросов что положительно влияет на обучаемость модели."
   ]
  },
  {
   "cell_type": "code",
   "execution_count": 16,
   "metadata": {},
   "outputs": [
    {
     "data": {
      "text/plain": [
       "count    354369.000000\n",
       "mean       2003.151705\n",
       "std           7.221255\n",
       "min        1960.000000\n",
       "25%        1999.000000\n",
       "50%        2003.000000\n",
       "75%        2008.000000\n",
       "max        2019.000000\n",
       "Name: RegistrationYear, dtype: float64"
      ]
     },
     "execution_count": 16,
     "metadata": {},
     "output_type": "execute_result"
    }
   ],
   "source": [
    "df.loc[(df['RegistrationYear'] <1960) | (df['RegistrationYear'] >2020),['RegistrationYear']] = df['RegistrationYear'].mean()\n",
    "df['RegistrationYear'].describe()"
   ]
  },
  {
   "cell_type": "code",
   "execution_count": 17,
   "metadata": {},
   "outputs": [
    {
     "data": {
      "text/plain": [
       "0   2016-03-24 11:52:17\n",
       "1   2016-03-24 10:58:45\n",
       "2   2016-03-14 12:52:21\n",
       "3   2016-03-17 16:54:04\n",
       "4   2016-03-31 17:25:20\n",
       "5   2016-04-04 17:36:23\n",
       "6   2016-04-01 20:48:51\n",
       "7   2016-03-21 18:54:38\n",
       "8   2016-04-04 23:42:13\n",
       "9   2016-03-17 10:53:50\n",
       "Name: DateCrawled, dtype: datetime64[ns]"
      ]
     },
     "execution_count": 17,
     "metadata": {},
     "output_type": "execute_result"
    },
    {
     "data": {
      "image/png": "[encoded data removed]",
      "text/plain": [
       "<Figure size 432x288 with 1 Axes>"
      ]
     },
     "metadata": {
      "needs_background": "light"
     },
     "output_type": "display_data"
    }
   ],
   "source": [
    "# Проверим данные столбца `DateCrawled`\n",
    "df['DateCrawled'].dt.year.plot()\n",
    "df['DateCrawled'].head(10)"
   ]
  },
  {
   "cell_type": "markdown",
   "metadata": {},
   "source": [
    "Даты сканирования в 2016 году. Скорее всего этот параметр ни как не повлияет на обучаемость модели, удалим его."
   ]
  },
  {
   "cell_type": "markdown",
   "metadata": {},
   "source": [
    "Аналогично преобразуем данные в столбце `Power`"
   ]
  },
  {
   "cell_type": "code",
   "execution_count": 18,
   "metadata": {},
   "outputs": [
    {
     "data": {
      "text/plain": [
       "<AxesSubplot:>"
      ]
     },
     "execution_count": 18,
     "metadata": {},
     "output_type": "execute_result"
    },
    {
     "data": {
      "image/png": "[encoded data removed]",
      "text/plain": [
       "<Figure size 432x288 with 1 Axes>"
      ]
     },
     "metadata": {
      "needs_background": "light"
     },
     "output_type": "display_data"
    }
   ],
   "source": [
    "# посмотрим на распределение данных 'Power'\n",
    "df['Power'].hist(bins=100, range=(0, 20000))"
   ]
  },
  {
   "cell_type": "code",
   "execution_count": 19,
   "metadata": {},
   "outputs": [
    {
     "data": {
      "text/plain": [
       "<AxesSubplot:>"
      ]
     },
     "execution_count": 19,
     "metadata": {},
     "output_type": "execute_result"
    },
    {
     "data": {
      "image/png": "[encoded data removed]",
      "text/plain": [
       "<Figure size 432x288 with 1 Axes>"
      ]
     },
     "metadata": {
      "needs_background": "light"
     },
     "output_type": "display_data"
    }
   ],
   "source": [
    "# посмотрим на данные в основном периоде\n",
    "df['Power'].hist(bins=100, range=(0, 500))"
   ]
  },
  {
   "cell_type": "markdown",
   "metadata": {},
   "source": [
    "Стоит нулевые значения убрать из данных так как это скорее всего не реалистично и негативно повлияет на обучаемость модель. Вероятнее всего будет оптимальным заменить их на среднее значение. Не исключается что есть модели машин с большой мощьностью и логично что их мало."
   ]
  },
  {
   "cell_type": "code",
   "execution_count": 20,
   "metadata": {},
   "outputs": [
    {
     "data": {
      "text/html": [
       "<div>\n",
       "<style scoped>\n",
       "    .dataframe tbody tr th:only-of-type {\n",
       "        vertical-align: middle;\n",
       "    }\n",
       "\n",
       "    .dataframe tbody tr th {\n",
       "        vertical-align: top;\n",
       "    }\n",
       "\n",
       "    .dataframe thead th {\n",
       "        text-align: right;\n",
       "    }\n",
       "</style>\n",
       "<table border=\"1\" class=\"dataframe\">\n",
       "  <thead>\n",
       "    <tr style=\"text-align: right;\">\n",
       "      <th></th>\n",
       "      <th>DateCrawled</th>\n",
       "      <th>Price</th>\n",
       "      <th>VehicleType</th>\n",
       "      <th>RegistrationYear</th>\n",
       "      <th>Gearbox</th>\n",
       "      <th>Power</th>\n",
       "      <th>Model</th>\n",
       "      <th>Kilometer</th>\n",
       "      <th>RegistrationMonth</th>\n",
       "      <th>FuelType</th>\n",
       "      <th>Brand</th>\n",
       "      <th>NotRepaired</th>\n",
       "      <th>DateCreated</th>\n",
       "      <th>NumberOfPictures</th>\n",
       "      <th>PostalCode</th>\n",
       "      <th>LastSeen</th>\n",
       "    </tr>\n",
       "  </thead>\n",
       "  <tbody>\n",
       "    <tr>\n",
       "      <th>0</th>\n",
       "      <td>2016-03-24 11:52:17</td>\n",
       "      <td>480</td>\n",
       "      <td>unknown</td>\n",
       "      <td>1993.0</td>\n",
       "      <td>manual</td>\n",
       "      <td>0</td>\n",
       "      <td>golf</td>\n",
       "      <td>150000</td>\n",
       "      <td>0</td>\n",
       "      <td>petrol</td>\n",
       "      <td>volkswagen</td>\n",
       "      <td>unknown</td>\n",
       "      <td>2016-03-24</td>\n",
       "      <td>0</td>\n",
       "      <td>70435</td>\n",
       "      <td>2016-04-07 03:16:57</td>\n",
       "    </tr>\n",
       "    <tr>\n",
       "      <th>1</th>\n",
       "      <td>2016-03-24 10:58:45</td>\n",
       "      <td>18300</td>\n",
       "      <td>coupe</td>\n",
       "      <td>2011.0</td>\n",
       "      <td>manual</td>\n",
       "      <td>190</td>\n",
       "      <td>golf</td>\n",
       "      <td>125000</td>\n",
       "      <td>5</td>\n",
       "      <td>gasoline</td>\n",
       "      <td>audi</td>\n",
       "      <td>yes</td>\n",
       "      <td>2016-03-24</td>\n",
       "      <td>0</td>\n",
       "      <td>66954</td>\n",
       "      <td>2016-04-07 01:46:50</td>\n",
       "    </tr>\n",
       "    <tr>\n",
       "      <th>2</th>\n",
       "      <td>2016-03-14 12:52:21</td>\n",
       "      <td>9800</td>\n",
       "      <td>suv</td>\n",
       "      <td>2004.0</td>\n",
       "      <td>auto</td>\n",
       "      <td>163</td>\n",
       "      <td>grand</td>\n",
       "      <td>125000</td>\n",
       "      <td>8</td>\n",
       "      <td>gasoline</td>\n",
       "      <td>jeep</td>\n",
       "      <td>unknown</td>\n",
       "      <td>2016-03-14</td>\n",
       "      <td>0</td>\n",
       "      <td>90480</td>\n",
       "      <td>2016-04-05 12:47:46</td>\n",
       "    </tr>\n",
       "    <tr>\n",
       "      <th>3</th>\n",
       "      <td>2016-03-17 16:54:04</td>\n",
       "      <td>1500</td>\n",
       "      <td>small</td>\n",
       "      <td>2001.0</td>\n",
       "      <td>manual</td>\n",
       "      <td>75</td>\n",
       "      <td>golf</td>\n",
       "      <td>150000</td>\n",
       "      <td>6</td>\n",
       "      <td>petrol</td>\n",
       "      <td>volkswagen</td>\n",
       "      <td>no</td>\n",
       "      <td>2016-03-17</td>\n",
       "      <td>0</td>\n",
       "      <td>91074</td>\n",
       "      <td>2016-03-17 17:40:17</td>\n",
       "    </tr>\n",
       "    <tr>\n",
       "      <th>4</th>\n",
       "      <td>2016-03-31 17:25:20</td>\n",
       "      <td>3600</td>\n",
       "      <td>small</td>\n",
       "      <td>2008.0</td>\n",
       "      <td>manual</td>\n",
       "      <td>69</td>\n",
       "      <td>fabia</td>\n",
       "      <td>90000</td>\n",
       "      <td>7</td>\n",
       "      <td>gasoline</td>\n",
       "      <td>skoda</td>\n",
       "      <td>no</td>\n",
       "      <td>2016-03-31</td>\n",
       "      <td>0</td>\n",
       "      <td>60437</td>\n",
       "      <td>2016-04-06 10:17:21</td>\n",
       "    </tr>\n",
       "  </tbody>\n",
       "</table>\n",
       "</div>"
      ],
      "text/plain": [
       "          DateCrawled  Price VehicleType  RegistrationYear Gearbox  Power  \\\n",
       "0 2016-03-24 11:52:17    480     unknown            1993.0  manual      0   \n",
       "1 2016-03-24 10:58:45  18300       coupe            2011.0  manual    190   \n",
       "2 2016-03-14 12:52:21   9800         suv            2004.0    auto    163   \n",
       "3 2016-03-17 16:54:04   1500       small            2001.0  manual     75   \n",
       "4 2016-03-31 17:25:20   3600       small            2008.0  manual     69   \n",
       "\n",
       "   Model  Kilometer  RegistrationMonth  FuelType       Brand NotRepaired  \\\n",
       "0   golf     150000                  0    petrol  volkswagen     unknown   \n",
       "1   golf     125000                  5  gasoline        audi         yes   \n",
       "2  grand     125000                  8  gasoline        jeep     unknown   \n",
       "3   golf     150000                  6    petrol  volkswagen          no   \n",
       "4  fabia      90000                  7  gasoline       skoda          no   \n",
       "\n",
       "  DateCreated  NumberOfPictures  PostalCode            LastSeen  \n",
       "0  2016-03-24                 0       70435 2016-04-07 03:16:57  \n",
       "1  2016-03-24                 0       66954 2016-04-07 01:46:50  \n",
       "2  2016-03-14                 0       90480 2016-04-05 12:47:46  \n",
       "3  2016-03-17                 0       91074 2016-03-17 17:40:17  \n",
       "4  2016-03-31                 0       60437 2016-04-06 10:17:21  "
      ]
     },
     "execution_count": 20,
     "metadata": {},
     "output_type": "execute_result"
    }
   ],
   "source": [
    "df.head()"
   ]
  },
  {
   "cell_type": "code",
   "execution_count": 21,
   "metadata": {},
   "outputs": [
    {
     "data": {
      "text/plain": [
       "count    354369.000000\n",
       "mean        110.094337\n",
       "std         189.850405\n",
       "min           0.000000\n",
       "25%          69.000000\n",
       "50%         105.000000\n",
       "75%         143.000000\n",
       "max       20000.000000\n",
       "Name: Power, dtype: float64"
      ]
     },
     "execution_count": 21,
     "metadata": {},
     "output_type": "execute_result"
    }
   ],
   "source": [
    "df.loc[df['Power'] < 40]['Power'] = df['Power'].mean()\n",
    "df['Power'].describe()"
   ]
  },
  {
   "cell_type": "code",
   "execution_count": 22,
   "metadata": {},
   "outputs": [
    {
     "name": "stdout",
     "output_type": "stream",
     "text": [
      "<class 'pandas.core.frame.DataFrame'>\n",
      "RangeIndex: 354369 entries, 0 to 354368\n",
      "Data columns (total 12 columns):\n",
      " #   Column             Non-Null Count   Dtype  \n",
      "---  ------             --------------   -----  \n",
      " 0   Price              354369 non-null  int64  \n",
      " 1   VehicleType        354369 non-null  object \n",
      " 2   RegistrationYear   354369 non-null  float64\n",
      " 3   Gearbox            354369 non-null  object \n",
      " 4   Power              354369 non-null  int64  \n",
      " 5   Model              354369 non-null  object \n",
      " 6   Kilometer          354369 non-null  int64  \n",
      " 7   RegistrationMonth  354369 non-null  int64  \n",
      " 8   FuelType           354369 non-null  object \n",
      " 9   Brand              354369 non-null  object \n",
      " 10  NotRepaired        354369 non-null  object \n",
      " 11  PostalCode         354369 non-null  int64  \n",
      "dtypes: float64(1), int64(5), object(6)\n",
      "memory usage: 32.4+ MB\n"
     ]
    }
   ],
   "source": [
    "# удалим столбцы `NumberOfPictures`, 'DateCrawled', 'DateCreated', 'LastSeen'\n",
    "df=df.drop(columns = ['NumberOfPictures', 'DateCrawled', 'DateCreated', 'LastSeen'],axis = 1)\n",
    "\n",
    "df.info()"
   ]
  },
  {
   "cell_type": "markdown",
   "metadata": {},
   "source": [
    "Для работы алгоритмов обучения необходимо кодировать данные, которые представлены просто в виде текста"
   ]
  },
  {
   "cell_type": "code",
   "execution_count": 23,
   "metadata": {},
   "outputs": [
    {
     "data": {
      "text/html": [
       "<div>\n",
       "<style scoped>\n",
       "    .dataframe tbody tr th:only-of-type {\n",
       "        vertical-align: middle;\n",
       "    }\n",
       "\n",
       "    .dataframe tbody tr th {\n",
       "        vertical-align: top;\n",
       "    }\n",
       "\n",
       "    .dataframe thead th {\n",
       "        text-align: right;\n",
       "    }\n",
       "</style>\n",
       "<table border=\"1\" class=\"dataframe\">\n",
       "  <thead>\n",
       "    <tr style=\"text-align: right;\">\n",
       "      <th></th>\n",
       "      <th>Price</th>\n",
       "      <th>VehicleType</th>\n",
       "      <th>RegistrationYear</th>\n",
       "      <th>Gearbox</th>\n",
       "      <th>Power</th>\n",
       "      <th>Model</th>\n",
       "      <th>Kilometer</th>\n",
       "      <th>RegistrationMonth</th>\n",
       "      <th>FuelType</th>\n",
       "      <th>Brand</th>\n",
       "      <th>NotRepaired</th>\n",
       "      <th>PostalCode</th>\n",
       "    </tr>\n",
       "  </thead>\n",
       "  <tbody>\n",
       "    <tr>\n",
       "      <th>0</th>\n",
       "      <td>480</td>\n",
       "      <td>7.0</td>\n",
       "      <td>1993.0</td>\n",
       "      <td>1.0</td>\n",
       "      <td>0</td>\n",
       "      <td>116.0</td>\n",
       "      <td>150000</td>\n",
       "      <td>0</td>\n",
       "      <td>6.0</td>\n",
       "      <td>38.0</td>\n",
       "      <td>1.0</td>\n",
       "      <td>70435</td>\n",
       "    </tr>\n",
       "    <tr>\n",
       "      <th>1</th>\n",
       "      <td>18300</td>\n",
       "      <td>2.0</td>\n",
       "      <td>2011.0</td>\n",
       "      <td>1.0</td>\n",
       "      <td>190</td>\n",
       "      <td>116.0</td>\n",
       "      <td>125000</td>\n",
       "      <td>5</td>\n",
       "      <td>2.0</td>\n",
       "      <td>1.0</td>\n",
       "      <td>2.0</td>\n",
       "      <td>66954</td>\n",
       "    </tr>\n",
       "    <tr>\n",
       "      <th>2</th>\n",
       "      <td>9800</td>\n",
       "      <td>6.0</td>\n",
       "      <td>2004.0</td>\n",
       "      <td>0.0</td>\n",
       "      <td>163</td>\n",
       "      <td>117.0</td>\n",
       "      <td>125000</td>\n",
       "      <td>8</td>\n",
       "      <td>2.0</td>\n",
       "      <td>14.0</td>\n",
       "      <td>1.0</td>\n",
       "      <td>90480</td>\n",
       "    </tr>\n",
       "    <tr>\n",
       "      <th>3</th>\n",
       "      <td>1500</td>\n",
       "      <td>5.0</td>\n",
       "      <td>2001.0</td>\n",
       "      <td>1.0</td>\n",
       "      <td>75</td>\n",
       "      <td>116.0</td>\n",
       "      <td>150000</td>\n",
       "      <td>6</td>\n",
       "      <td>6.0</td>\n",
       "      <td>38.0</td>\n",
       "      <td>0.0</td>\n",
       "      <td>91074</td>\n",
       "    </tr>\n",
       "    <tr>\n",
       "      <th>4</th>\n",
       "      <td>3600</td>\n",
       "      <td>5.0</td>\n",
       "      <td>2008.0</td>\n",
       "      <td>1.0</td>\n",
       "      <td>69</td>\n",
       "      <td>101.0</td>\n",
       "      <td>90000</td>\n",
       "      <td>7</td>\n",
       "      <td>2.0</td>\n",
       "      <td>31.0</td>\n",
       "      <td>0.0</td>\n",
       "      <td>60437</td>\n",
       "    </tr>\n",
       "  </tbody>\n",
       "</table>\n",
       "</div>"
      ],
      "text/plain": [
       "   Price  VehicleType  RegistrationYear  Gearbox  Power  Model  Kilometer  \\\n",
       "0    480          7.0            1993.0      1.0      0  116.0     150000   \n",
       "1  18300          2.0            2011.0      1.0    190  116.0     125000   \n",
       "2   9800          6.0            2004.0      0.0    163  117.0     125000   \n",
       "3   1500          5.0            2001.0      1.0     75  116.0     150000   \n",
       "4   3600          5.0            2008.0      1.0     69  101.0      90000   \n",
       "\n",
       "   RegistrationMonth  FuelType  Brand  NotRepaired  PostalCode  \n",
       "0                  0       6.0   38.0          1.0       70435  \n",
       "1                  5       2.0    1.0          2.0       66954  \n",
       "2                  8       2.0   14.0          1.0       90480  \n",
       "3                  6       6.0   38.0          0.0       91074  \n",
       "4                  7       2.0   31.0          0.0       60437  "
      ]
     },
     "execution_count": 23,
     "metadata": {},
     "output_type": "execute_result"
    }
   ],
   "source": [
    "\n",
    "encoder = OrdinalEncoder()\n",
    "columns=['VehicleType', 'Gearbox', 'Model', 'FuelType', 'Brand', 'NotRepaired']\n",
    "df_ordinal = pd.DataFrame(df)\n",
    "df_ordinal[columns] = encoder.fit_transform(df_ordinal[columns])\n",
    "\n",
    "df_ordinal.head()\n"
   ]
  },
  {
   "cell_type": "code",
   "execution_count": 24,
   "metadata": {},
   "outputs": [
    {
     "data": {
      "text/html": [
       "<div>\n",
       "<style scoped>\n",
       "    .dataframe tbody tr th:only-of-type {\n",
       "        vertical-align: middle;\n",
       "    }\n",
       "\n",
       "    .dataframe tbody tr th {\n",
       "        vertical-align: top;\n",
       "    }\n",
       "\n",
       "    .dataframe thead th {\n",
       "        text-align: right;\n",
       "    }\n",
       "</style>\n",
       "<table border=\"1\" class=\"dataframe\">\n",
       "  <thead>\n",
       "    <tr style=\"text-align: right;\">\n",
       "      <th></th>\n",
       "      <th>Price</th>\n",
       "      <th>RegistrationYear</th>\n",
       "      <th>Power</th>\n",
       "      <th>Kilometer</th>\n",
       "      <th>RegistrationMonth</th>\n",
       "      <th>PostalCode</th>\n",
       "      <th>VehicleType_bus</th>\n",
       "      <th>VehicleType_convertible</th>\n",
       "      <th>VehicleType_coupe</th>\n",
       "      <th>VehicleType_other</th>\n",
       "      <th>...</th>\n",
       "      <th>Brand_sonstige_autos</th>\n",
       "      <th>Brand_subaru</th>\n",
       "      <th>Brand_suzuki</th>\n",
       "      <th>Brand_toyota</th>\n",
       "      <th>Brand_trabant</th>\n",
       "      <th>Brand_volkswagen</th>\n",
       "      <th>Brand_volvo</th>\n",
       "      <th>NotRepaired_no</th>\n",
       "      <th>NotRepaired_unknown</th>\n",
       "      <th>NotRepaired_yes</th>\n",
       "    </tr>\n",
       "  </thead>\n",
       "  <tbody>\n",
       "    <tr>\n",
       "      <th>0</th>\n",
       "      <td>480</td>\n",
       "      <td>1993.0</td>\n",
       "      <td>0</td>\n",
       "      <td>150000</td>\n",
       "      <td>0</td>\n",
       "      <td>70435</td>\n",
       "      <td>0</td>\n",
       "      <td>0</td>\n",
       "      <td>0</td>\n",
       "      <td>0</td>\n",
       "      <td>...</td>\n",
       "      <td>0</td>\n",
       "      <td>0</td>\n",
       "      <td>0</td>\n",
       "      <td>0</td>\n",
       "      <td>0</td>\n",
       "      <td>1</td>\n",
       "      <td>0</td>\n",
       "      <td>0</td>\n",
       "      <td>1</td>\n",
       "      <td>0</td>\n",
       "    </tr>\n",
       "    <tr>\n",
       "      <th>1</th>\n",
       "      <td>18300</td>\n",
       "      <td>2011.0</td>\n",
       "      <td>190</td>\n",
       "      <td>125000</td>\n",
       "      <td>5</td>\n",
       "      <td>66954</td>\n",
       "      <td>0</td>\n",
       "      <td>0</td>\n",
       "      <td>1</td>\n",
       "      <td>0</td>\n",
       "      <td>...</td>\n",
       "      <td>0</td>\n",
       "      <td>0</td>\n",
       "      <td>0</td>\n",
       "      <td>0</td>\n",
       "      <td>0</td>\n",
       "      <td>0</td>\n",
       "      <td>0</td>\n",
       "      <td>0</td>\n",
       "      <td>0</td>\n",
       "      <td>1</td>\n",
       "    </tr>\n",
       "    <tr>\n",
       "      <th>2</th>\n",
       "      <td>9800</td>\n",
       "      <td>2004.0</td>\n",
       "      <td>163</td>\n",
       "      <td>125000</td>\n",
       "      <td>8</td>\n",
       "      <td>90480</td>\n",
       "      <td>0</td>\n",
       "      <td>0</td>\n",
       "      <td>0</td>\n",
       "      <td>0</td>\n",
       "      <td>...</td>\n",
       "      <td>0</td>\n",
       "      <td>0</td>\n",
       "      <td>0</td>\n",
       "      <td>0</td>\n",
       "      <td>0</td>\n",
       "      <td>0</td>\n",
       "      <td>0</td>\n",
       "      <td>0</td>\n",
       "      <td>1</td>\n",
       "      <td>0</td>\n",
       "    </tr>\n",
       "    <tr>\n",
       "      <th>3</th>\n",
       "      <td>1500</td>\n",
       "      <td>2001.0</td>\n",
       "      <td>75</td>\n",
       "      <td>150000</td>\n",
       "      <td>6</td>\n",
       "      <td>91074</td>\n",
       "      <td>0</td>\n",
       "      <td>0</td>\n",
       "      <td>0</td>\n",
       "      <td>0</td>\n",
       "      <td>...</td>\n",
       "      <td>0</td>\n",
       "      <td>0</td>\n",
       "      <td>0</td>\n",
       "      <td>0</td>\n",
       "      <td>0</td>\n",
       "      <td>1</td>\n",
       "      <td>0</td>\n",
       "      <td>1</td>\n",
       "      <td>0</td>\n",
       "      <td>0</td>\n",
       "    </tr>\n",
       "    <tr>\n",
       "      <th>4</th>\n",
       "      <td>3600</td>\n",
       "      <td>2008.0</td>\n",
       "      <td>69</td>\n",
       "      <td>90000</td>\n",
       "      <td>7</td>\n",
       "      <td>60437</td>\n",
       "      <td>0</td>\n",
       "      <td>0</td>\n",
       "      <td>0</td>\n",
       "      <td>0</td>\n",
       "      <td>...</td>\n",
       "      <td>0</td>\n",
       "      <td>0</td>\n",
       "      <td>0</td>\n",
       "      <td>0</td>\n",
       "      <td>0</td>\n",
       "      <td>0</td>\n",
       "      <td>0</td>\n",
       "      <td>1</td>\n",
       "      <td>0</td>\n",
       "      <td>0</td>\n",
       "    </tr>\n",
       "  </tbody>\n",
       "</table>\n",
       "<p>5 rows × 318 columns</p>\n",
       "</div>"
      ],
      "text/plain": [
       "   Price  RegistrationYear  Power  Kilometer  RegistrationMonth  PostalCode  \\\n",
       "0    480            1993.0      0     150000                  0       70435   \n",
       "1  18300            2011.0    190     125000                  5       66954   \n",
       "2   9800            2004.0    163     125000                  8       90480   \n",
       "3   1500            2001.0     75     150000                  6       91074   \n",
       "4   3600            2008.0     69      90000                  7       60437   \n",
       "\n",
       "   VehicleType_bus  VehicleType_convertible  VehicleType_coupe  \\\n",
       "0                0                        0                  0   \n",
       "1                0                        0                  1   \n",
       "2                0                        0                  0   \n",
       "3                0                        0                  0   \n",
       "4                0                        0                  0   \n",
       "\n",
       "   VehicleType_other  ...  Brand_sonstige_autos  Brand_subaru  Brand_suzuki  \\\n",
       "0                  0  ...                     0             0             0   \n",
       "1                  0  ...                     0             0             0   \n",
       "2                  0  ...                     0             0             0   \n",
       "3                  0  ...                     0             0             0   \n",
       "4                  0  ...                     0             0             0   \n",
       "\n",
       "   Brand_toyota  Brand_trabant  Brand_volkswagen  Brand_volvo  NotRepaired_no  \\\n",
       "0             0              0                 1            0               0   \n",
       "1             0              0                 0            0               0   \n",
       "2             0              0                 0            0               0   \n",
       "3             0              0                 1            0               1   \n",
       "4             0              0                 0            0               1   \n",
       "\n",
       "   NotRepaired_unknown  NotRepaired_yes  \n",
       "0                    1                0  \n",
       "1                    0                1  \n",
       "2                    1                0  \n",
       "3                    0                0  \n",
       "4                    0                0  \n",
       "\n",
       "[5 rows x 318 columns]"
      ]
     },
     "execution_count": 24,
     "metadata": {},
     "output_type": "execute_result"
    }
   ],
   "source": [
    "# кодирование методом OHE для Линейной регрессии\n",
    "df_ordinal_ohe = df.copy()\n",
    "df_ordinal_ohe = pd.get_dummies(df_ordinal_ohe, columns=columns)\n",
    "df_ordinal_ohe.head()"
   ]
  },
  {
   "cell_type": "markdown",
   "metadata": {},
   "source": [
    "## Обучение моделей"
   ]
  },
  {
   "cell_type": "markdown",
   "metadata": {},
   "source": [
    "Проверим работу 3-х моделей: `Линейной регрессии`, `Дерева решений` и `Случайного леса`"
   ]
  },
  {
   "cell_type": "code",
   "execution_count": 25,
   "metadata": {},
   "outputs": [
    {
     "name": "stdout",
     "output_type": "stream",
     "text": [
      "МАЕ: 2010.3033642611856\n",
      "RMSE: 2888.033010423498\n",
      "Кросс валидация: -2886.4498823603813\n"
     ]
    }
   ],
   "source": [
    "\n",
    "\n",
    "# разделим данные на тренировочные и проверочные\n",
    "\n",
    "train, valid = train_test_split(df_ordinal_ohe, test_size=0.25, random_state=12345)\n",
    "\n",
    "# разделим данные на обучающую и целевую\n",
    "features_train = train.drop(['Price'], axis=1)\n",
    "target_train = train['Price']\n",
    "features_valid = valid.drop(['Price'], axis=1)\n",
    "target_valid = valid['Price']\n",
    "\n",
    "# проверим модель Линейной регрессии\n",
    "model_LR = LinearRegression()\n",
    "model_LR.fit(features_train, target_train)\n",
    "predictions = model_LR.predict(features_valid)\n",
    "print('МАЕ:', mean_absolute_error(target_valid, predictions))\n",
    "print('RMSE:', mean_squared_error(target_valid, predictions, squared= False))\n",
    "scores = cross_val_score(model_LR, features_train, target_train, scoring = 'neg_root_mean_squared_error', cv=5)\n",
    "print('Кросс валидация:', scores.sum()/len(scores))\n",
    "del df_ordinal_ohe"
   ]
  },
  {
   "cell_type": "code",
   "execution_count": 26,
   "metadata": {},
   "outputs": [
    {
     "name": "stdout",
     "output_type": "stream",
     "text": [
      "Кросс валидация: -2406.567499795313\n"
     ]
    }
   ],
   "source": [
    "# модель Дерева решений\n",
    "train, valid = train_test_split(df_ordinal, test_size=0.25, random_state=12345)\n",
    "\n",
    "# разделим данные на обучающую и целевую\n",
    "features_train = train.drop(['Price'], axis=1)\n",
    "target_train = train['Price']\n",
    "features_valid = valid.drop(['Price'], axis=1)\n",
    "target_valid = valid['Price']\n",
    "\n",
    "model_DTR = DecisionTreeRegressor(random_state=12345)\n",
    "model_DTR.fit(features_train, target_train)\n",
    "#predictions = model_DTR.predict(features_valid)\n",
    "#print('МАЕ:', mean_absolute_error(target_valid, predictions))\n",
    "#print('RMSE', mean_squared_error(target_valid, predictions, squared= False))\n",
    "scores = cross_val_score(model_DTR, features_train, target_train, scoring = 'neg_root_mean_squared_error', cv=5)\n",
    "print('Кросс валидация:', scores.sum()/len(scores))"
   ]
  },
  {
   "cell_type": "code",
   "execution_count": 27,
   "metadata": {},
   "outputs": [
    {
     "name": "stdout",
     "output_type": "stream",
     "text": [
      "Кросс валидация: -1776.2752046088835\n"
     ]
    }
   ],
   "source": [
    "# модель Случайного леса\n",
    "model_RFR = RandomForestRegressor(random_state=12345)\n",
    "model_RFR.fit(features_train, target_train)\n",
    "#predictions = model_RFR.predict(features_valid)\n",
    "#print('МАЕ:', mean_absolute_error(target_valid, predictions))\n",
    "#print('RMSE', mean_squared_error(target_valid, predictions, squared= False))\n",
    "scores = cross_val_score(model_RFR, features_train, target_train, scoring = 'neg_root_mean_squared_error', cv=3)\n",
    "print('Кросс валидация:', scores.sum()/len(scores))"
   ]
  },
  {
   "cell_type": "markdown",
   "metadata": {},
   "source": [
    "Модель случайного леса показала лучший результат"
   ]
  },
  {
   "cell_type": "markdown",
   "metadata": {},
   "source": [
    "### проверка гиперпараметров"
   ]
  },
  {
   "cell_type": "markdown",
   "metadata": {},
   "source": [
    "В линейной регрессии гиперпараметры особо не влияют на качество модели по этому проверим Дерево решений"
   ]
  },
  {
   "cell_type": "code",
   "execution_count": 44,
   "metadata": {
    "scrolled": true
   },
   "outputs": [
    {
     "name": "stdout",
     "output_type": "stream",
     "text": [
      "Дерево решений с лучшей глубиной max_depth = 12 кроссвалидация модели:  -2116.240170532024\n",
      "CPU times: user 47 s, sys: 0 ns, total: 47 s\n",
      "Wall time: 47 s\n"
     ]
    }
   ],
   "source": [
    "%%time\n",
    "max_depth = 0\n",
    "cvs = -10000\n",
    "for depth in range(10, 20):\n",
    "    model_DTR = DecisionTreeRegressor(max_depth=depth, random_state=12345)\n",
    "    model_DTR.fit(features_train, target_train)\n",
    "    #predictions = model_DTR.predict(features_valid)\n",
    "    score = cross_val_score(model_DTR, features_train, target_train, scoring = 'neg_root_mean_squared_error', cv=3).mean()\n",
    "    \n",
    "    if score > cvs:\n",
    "        max_depth = depth\n",
    "        cvs = score\n",
    "print(\"Дерево решений с лучшей глубиной max_depth =\", max_depth, \"кроссвалидация модели: \", cvs)\n"
   ]
  },
  {
   "cell_type": "markdown",
   "metadata": {},
   "source": [
    "С гиперпараметрами глубины дерева 12 модель дает лучший результат"
   ]
  },
  {
   "cell_type": "code",
   "execution_count": 45,
   "metadata": {},
   "outputs": [
    {
     "name": "stdout",
     "output_type": "stream",
     "text": [
      "Лучшее значение для случайного леса: 1760.10156096832 при значениях гиперпараметров: {'max_depth': 21, 'n_estimators': 60}\n",
      "CPU times: user 21min 25s, sys: 479 ms, total: 21min 25s\n",
      "Wall time: 21min 33s\n"
     ]
    }
   ],
   "source": [
    "%%time\n",
    "# Случайный лес\n",
    "#scorer = make_scorer('neg_root_mean_squared_error')\n",
    "param_grid = {'max_depth': range(20, 22), 'n_estimators': [50, 60]}\n",
    "model_RFR = RandomForestRegressor(random_state=12345)\n",
    "search = GridSearchCV(model_RFR, param_grid, cv=5, scoring = 'neg_root_mean_squared_error')\n",
    "search.fit(features_train, target_train)\n",
    "print('Лучшее значение для случайного леса: {} при значениях гиперпараметров: {}'.format(-search.best_score_, search.best_params_))\n"
   ]
  },
  {
   "cell_type": "markdown",
   "metadata": {},
   "source": [
    "**Лучшее значение показателя для случайного леса: 1760, что лучше показывает подбор параметров. Значение гиперпараметров: \n",
    "- 'max_depth': 21,\n",
    "- 'n_estimators': 60\n",
    "\n",
    "Время работы модели: 21min 33s"
   ]
  },
  {
   "cell_type": "code",
   "execution_count": 49,
   "metadata": {
    "scrolled": false
   },
   "outputs": [
    {
     "name": "stdout",
     "output_type": "stream",
     "text": [
      "Обучение...\n",
      "Learning rate set to 0.462478\n",
      "0:\tlearn: 3346.5425558\ttotal: 280ms\tremaining: 41.7s\n",
      "10:\tlearn: 2050.8375440\ttotal: 2.78s\tremaining: 35.1s\n",
      "20:\tlearn: 1959.8721124\ttotal: 5.16s\tremaining: 31.7s\n",
      "30:\tlearn: 1916.4038366\ttotal: 7.62s\tremaining: 29.2s\n",
      "40:\tlearn: 1879.5725237\ttotal: 10.1s\tremaining: 26.8s\n",
      "50:\tlearn: 1852.4548144\ttotal: 12.6s\tremaining: 24.4s\n",
      "60:\tlearn: 1832.3738214\ttotal: 15s\tremaining: 21.9s\n",
      "70:\tlearn: 1814.2112753\ttotal: 17.5s\tremaining: 19.5s\n",
      "80:\tlearn: 1801.4678074\ttotal: 20.1s\tremaining: 17.1s\n",
      "90:\tlearn: 1789.8207713\ttotal: 22.7s\tremaining: 14.7s\n",
      "100:\tlearn: 1780.8234008\ttotal: 25.2s\tremaining: 12.2s\n",
      "110:\tlearn: 1773.2585329\ttotal: 27.7s\tremaining: 9.75s\n",
      "120:\tlearn: 1765.5540959\ttotal: 30.3s\tremaining: 7.26s\n",
      "130:\tlearn: 1757.5348714\ttotal: 32.8s\tremaining: 4.76s\n",
      "140:\tlearn: 1748.8577101\ttotal: 35.3s\tremaining: 2.25s\n",
      "149:\tlearn: 1740.5121876\ttotal: 37.6s\tremaining: 0us\n",
      "Расчет...\n",
      "Learning rate set to 0.433779\n",
      "0:\tlearn: 3415.9785391\ttotal: 58.6ms\tremaining: 8.73s\n",
      "1:\tlearn: 2833.0657151\ttotal: 131ms\tremaining: 9.66s\n",
      "2:\tlearn: 2554.6599343\ttotal: 225ms\tremaining: 11s\n",
      "3:\tlearn: 2412.3322270\ttotal: 298ms\tremaining: 10.9s\n",
      "4:\tlearn: 2320.2688224\ttotal: 350ms\tremaining: 10.2s\n",
      "5:\tlearn: 2251.4811900\ttotal: 412ms\tremaining: 9.89s\n",
      "6:\tlearn: 2207.0078616\ttotal: 458ms\tremaining: 9.36s\n",
      "7:\tlearn: 2161.5810420\ttotal: 520ms\tremaining: 9.24s\n",
      "8:\tlearn: 2140.5466257\ttotal: 563ms\tremaining: 8.81s\n",
      "9:\tlearn: 2120.6667981\ttotal: 621ms\tremaining: 8.7s\n",
      "10:\tlearn: 2097.4818857\ttotal: 678ms\tremaining: 8.57s\n",
      "11:\tlearn: 2086.0258304\ttotal: 729ms\tremaining: 8.38s\n",
      "12:\tlearn: 2069.3226194\ttotal: 783ms\tremaining: 8.25s\n",
      "13:\tlearn: 2060.9556366\ttotal: 838ms\tremaining: 8.14s\n",
      "14:\tlearn: 2048.6451000\ttotal: 889ms\tremaining: 8s\n",
      "15:\tlearn: 2040.8933514\ttotal: 955ms\tremaining: 8s\n",
      "16:\tlearn: 2032.3305307\ttotal: 1.01s\tremaining: 7.91s\n",
      "17:\tlearn: 2022.6339160\ttotal: 1.08s\tremaining: 7.9s\n",
      "18:\tlearn: 2013.5704559\ttotal: 1.15s\tremaining: 7.91s\n",
      "19:\tlearn: 2009.8116591\ttotal: 1.2s\tremaining: 7.82s\n",
      "20:\tlearn: 2000.6055591\ttotal: 1.26s\tremaining: 7.75s\n",
      "21:\tlearn: 1987.3817224\ttotal: 1.32s\tremaining: 7.71s\n",
      "22:\tlearn: 1978.1869508\ttotal: 1.39s\tremaining: 7.67s\n",
      "23:\tlearn: 1969.1007703\ttotal: 1.44s\tremaining: 7.56s\n",
      "24:\tlearn: 1959.3698114\ttotal: 1.5s\tremaining: 7.52s\n",
      "25:\tlearn: 1954.0403632\ttotal: 1.56s\tremaining: 7.43s\n",
      "26:\tlearn: 1947.9695946\ttotal: 1.62s\tremaining: 7.37s\n",
      "27:\tlearn: 1942.3884410\ttotal: 1.68s\tremaining: 7.32s\n",
      "28:\tlearn: 1939.0796979\ttotal: 1.73s\tremaining: 7.21s\n",
      "29:\tlearn: 1936.2824624\ttotal: 1.78s\tremaining: 7.11s\n",
      "30:\tlearn: 1930.3701824\ttotal: 1.83s\tremaining: 7.01s\n",
      "31:\tlearn: 1925.6809625\ttotal: 1.88s\tremaining: 6.92s\n",
      "32:\tlearn: 1922.6624393\ttotal: 1.92s\tremaining: 6.82s\n",
      "33:\tlearn: 1917.8391637\ttotal: 1.99s\tremaining: 6.79s\n",
      "34:\tlearn: 1914.0327874\ttotal: 2.03s\tremaining: 6.68s\n",
      "35:\tlearn: 1911.1203476\ttotal: 2.09s\tremaining: 6.63s\n",
      "36:\tlearn: 1907.5316305\ttotal: 2.14s\tremaining: 6.53s\n",
      "37:\tlearn: 1903.4609800\ttotal: 2.2s\tremaining: 6.48s\n",
      "38:\tlearn: 1901.2113162\ttotal: 2.25s\tremaining: 6.41s\n",
      "39:\tlearn: 1899.5402770\ttotal: 2.3s\tremaining: 6.33s\n",
      "40:\tlearn: 1894.8552233\ttotal: 2.37s\tremaining: 6.29s\n",
      "41:\tlearn: 1892.0415476\ttotal: 2.41s\tremaining: 6.21s\n",
      "42:\tlearn: 1888.5339509\ttotal: 2.46s\tremaining: 6.13s\n",
      "43:\tlearn: 1886.1732964\ttotal: 2.51s\tremaining: 6.05s\n",
      "44:\tlearn: 1884.5727156\ttotal: 2.56s\tremaining: 5.97s\n",
      "45:\tlearn: 1881.8620910\ttotal: 2.61s\tremaining: 5.9s\n",
      "46:\tlearn: 1879.3258018\ttotal: 2.67s\tremaining: 5.86s\n",
      "47:\tlearn: 1877.0492235\ttotal: 2.73s\tremaining: 5.8s\n",
      "48:\tlearn: 1874.4902304\ttotal: 2.79s\tremaining: 5.74s\n",
      "49:\tlearn: 1872.2967291\ttotal: 2.84s\tremaining: 5.67s\n",
      "50:\tlearn: 1870.8511503\ttotal: 2.89s\tremaining: 5.62s\n",
      "51:\tlearn: 1867.9184816\ttotal: 2.94s\tremaining: 5.54s\n",
      "52:\tlearn: 1865.3575763\ttotal: 3s\tremaining: 5.49s\n",
      "53:\tlearn: 1863.3522854\ttotal: 3.05s\tremaining: 5.42s\n",
      "54:\tlearn: 1860.7454568\ttotal: 3.11s\tremaining: 5.37s\n",
      "55:\tlearn: 1857.3944629\ttotal: 3.17s\tremaining: 5.32s\n",
      "56:\tlearn: 1853.8997874\ttotal: 3.21s\tremaining: 5.24s\n",
      "57:\tlearn: 1851.8068836\ttotal: 3.26s\tremaining: 5.18s\n",
      "58:\tlearn: 1849.1358397\ttotal: 3.31s\tremaining: 5.11s\n",
      "59:\tlearn: 1846.4711748\ttotal: 3.37s\tremaining: 5.05s\n",
      "60:\tlearn: 1844.5695944\ttotal: 3.42s\tremaining: 4.99s\n",
      "61:\tlearn: 1842.0959203\ttotal: 3.47s\tremaining: 4.93s\n",
      "62:\tlearn: 1840.4798498\ttotal: 3.53s\tremaining: 4.87s\n",
      "63:\tlearn: 1838.6796535\ttotal: 3.59s\tremaining: 4.83s\n",
      "64:\tlearn: 1837.6852743\ttotal: 3.65s\tremaining: 4.77s\n",
      "65:\tlearn: 1835.6465388\ttotal: 3.7s\tremaining: 4.7s\n",
      "66:\tlearn: 1834.1770016\ttotal: 3.75s\tremaining: 4.65s\n",
      "67:\tlearn: 1832.5603387\ttotal: 3.81s\tremaining: 4.59s\n",
      "68:\tlearn: 1830.2615925\ttotal: 3.87s\tremaining: 4.54s\n",
      "69:\tlearn: 1828.4698425\ttotal: 3.92s\tremaining: 4.49s\n",
      "70:\tlearn: 1827.2446582\ttotal: 3.98s\tremaining: 4.42s\n",
      "71:\tlearn: 1825.3650444\ttotal: 4.03s\tremaining: 4.36s\n",
      "72:\tlearn: 1823.7162276\ttotal: 4.08s\tremaining: 4.31s\n",
      "73:\tlearn: 1822.1712671\ttotal: 4.14s\tremaining: 4.25s\n",
      "74:\tlearn: 1820.5323074\ttotal: 4.19s\tremaining: 4.19s\n",
      "75:\tlearn: 1818.1533041\ttotal: 4.25s\tremaining: 4.13s\n",
      "76:\tlearn: 1816.6705247\ttotal: 4.29s\tremaining: 4.07s\n",
      "77:\tlearn: 1814.5545157\ttotal: 4.34s\tremaining: 4.01s\n",
      "78:\tlearn: 1813.0158444\ttotal: 4.4s\tremaining: 3.95s\n",
      "79:\tlearn: 1811.2570390\ttotal: 4.46s\tremaining: 3.9s\n",
      "80:\tlearn: 1809.0433544\ttotal: 4.5s\tremaining: 3.83s\n",
      "81:\tlearn: 1807.4101985\ttotal: 4.56s\tremaining: 3.78s\n",
      "82:\tlearn: 1806.0192637\ttotal: 4.61s\tremaining: 3.73s\n",
      "83:\tlearn: 1804.9558953\ttotal: 4.66s\tremaining: 3.66s\n",
      "84:\tlearn: 1803.7319096\ttotal: 4.71s\tremaining: 3.6s\n",
      "85:\tlearn: 1802.2363195\ttotal: 4.76s\tremaining: 3.54s\n",
      "86:\tlearn: 1800.9321188\ttotal: 4.81s\tremaining: 3.48s\n",
      "87:\tlearn: 1799.4822104\ttotal: 4.86s\tremaining: 3.42s\n",
      "88:\tlearn: 1797.5697909\ttotal: 4.91s\tremaining: 3.37s\n",
      "89:\tlearn: 1795.9362660\ttotal: 4.96s\tremaining: 3.31s\n",
      "90:\tlearn: 1794.9635251\ttotal: 5.01s\tremaining: 3.25s\n",
      "91:\tlearn: 1793.5616213\ttotal: 5.06s\tremaining: 3.19s\n",
      "92:\tlearn: 1792.7052499\ttotal: 5.1s\tremaining: 3.12s\n",
      "93:\tlearn: 1791.5177232\ttotal: 5.15s\tremaining: 3.07s\n",
      "94:\tlearn: 1790.4671204\ttotal: 5.2s\tremaining: 3.01s\n",
      "95:\tlearn: 1788.9025359\ttotal: 5.25s\tremaining: 2.95s\n",
      "96:\tlearn: 1787.4945076\ttotal: 5.3s\tremaining: 2.89s\n",
      "97:\tlearn: 1786.4399554\ttotal: 5.35s\tremaining: 2.84s\n",
      "98:\tlearn: 1785.1302351\ttotal: 5.39s\tremaining: 2.78s\n",
      "99:\tlearn: 1783.9523240\ttotal: 5.45s\tremaining: 2.73s\n",
      "100:\tlearn: 1782.1440285\ttotal: 5.51s\tremaining: 2.67s\n",
      "101:\tlearn: 1781.1930173\ttotal: 5.55s\tremaining: 2.61s\n",
      "102:\tlearn: 1780.0500368\ttotal: 5.61s\tremaining: 2.56s\n",
      "103:\tlearn: 1778.9550054\ttotal: 5.66s\tremaining: 2.5s\n",
      "104:\tlearn: 1778.1907064\ttotal: 5.72s\tremaining: 2.45s\n",
      "105:\tlearn: 1777.3326623\ttotal: 5.76s\tremaining: 2.39s\n",
      "106:\tlearn: 1775.9569319\ttotal: 5.82s\tremaining: 2.34s\n",
      "107:\tlearn: 1775.1934567\ttotal: 5.87s\tremaining: 2.28s\n",
      "108:\tlearn: 1774.0167347\ttotal: 5.94s\tremaining: 2.23s\n",
      "109:\tlearn: 1772.7826760\ttotal: 5.99s\tremaining: 2.18s\n",
      "110:\tlearn: 1771.2116381\ttotal: 6.05s\tremaining: 2.13s\n",
      "111:\tlearn: 1769.6931175\ttotal: 6.12s\tremaining: 2.08s\n",
      "112:\tlearn: 1768.3572609\ttotal: 6.16s\tremaining: 2.02s\n",
      "113:\tlearn: 1767.6109559\ttotal: 6.22s\tremaining: 1.97s\n",
      "114:\tlearn: 1766.7194439\ttotal: 6.28s\tremaining: 1.91s\n",
      "115:\tlearn: 1765.7511675\ttotal: 6.33s\tremaining: 1.85s\n",
      "116:\tlearn: 1764.7989937\ttotal: 6.37s\tremaining: 1.8s\n",
      "117:\tlearn: 1763.7091882\ttotal: 6.42s\tremaining: 1.74s\n",
      "118:\tlearn: 1763.1406508\ttotal: 6.46s\tremaining: 1.68s\n",
      "119:\tlearn: 1762.2743154\ttotal: 6.51s\tremaining: 1.63s\n",
      "120:\tlearn: 1761.3436236\ttotal: 6.56s\tremaining: 1.57s\n",
      "121:\tlearn: 1760.3146626\ttotal: 6.62s\tremaining: 1.52s\n",
      "122:\tlearn: 1759.2714618\ttotal: 6.67s\tremaining: 1.46s\n",
      "123:\tlearn: 1757.8463742\ttotal: 6.72s\tremaining: 1.41s\n",
      "124:\tlearn: 1757.1865249\ttotal: 6.78s\tremaining: 1.35s\n",
      "125:\tlearn: 1756.3653284\ttotal: 6.83s\tremaining: 1.3s\n",
      "126:\tlearn: 1755.0976882\ttotal: 6.88s\tremaining: 1.25s\n",
      "127:\tlearn: 1754.0771066\ttotal: 6.94s\tremaining: 1.19s\n",
      "128:\tlearn: 1753.4682792\ttotal: 7s\tremaining: 1.14s\n",
      "129:\tlearn: 1752.6335539\ttotal: 7.04s\tremaining: 1.08s\n",
      "130:\tlearn: 1751.9247528\ttotal: 7.09s\tremaining: 1.03s\n",
      "131:\tlearn: 1751.1871945\ttotal: 7.14s\tremaining: 974ms\n",
      "132:\tlearn: 1749.4963712\ttotal: 7.21s\tremaining: 921ms\n",
      "133:\tlearn: 1748.4915850\ttotal: 7.26s\tremaining: 868ms\n",
      "134:\tlearn: 1747.4981221\ttotal: 7.32s\tremaining: 813ms\n",
      "135:\tlearn: 1746.2913504\ttotal: 7.37s\tremaining: 759ms\n",
      "136:\tlearn: 1745.3534415\ttotal: 7.42s\tremaining: 704ms\n",
      "137:\tlearn: 1744.5059340\ttotal: 7.48s\tremaining: 650ms\n",
      "138:\tlearn: 1743.7732518\ttotal: 7.52s\tremaining: 595ms\n",
      "139:\tlearn: 1743.1431430\ttotal: 7.58s\tremaining: 542ms\n",
      "140:\tlearn: 1742.1529412\ttotal: 7.64s\tremaining: 488ms\n",
      "141:\tlearn: 1741.2037758\ttotal: 7.71s\tremaining: 434ms\n",
      "142:\tlearn: 1740.6214907\ttotal: 7.75s\tremaining: 380ms\n",
      "143:\tlearn: 1740.0660271\ttotal: 7.8s\tremaining: 325ms\n",
      "144:\tlearn: 1739.4062925\ttotal: 7.85s\tremaining: 271ms\n",
      "145:\tlearn: 1738.2231592\ttotal: 7.91s\tremaining: 217ms\n",
      "146:\tlearn: 1737.3332070\ttotal: 7.96s\tremaining: 163ms\n",
      "147:\tlearn: 1736.6053532\ttotal: 8.02s\tremaining: 108ms\n",
      "148:\tlearn: 1735.8696778\ttotal: 8.07s\tremaining: 54.1ms\n",
      "149:\tlearn: 1734.9559900\ttotal: 8.11s\tremaining: 0us\n",
      "Learning rate set to 0.433779\n",
      "0:\tlearn: 3460.0284715\ttotal: 53.1ms\tremaining: 7.91s\n",
      "1:\tlearn: 2872.0786812\ttotal: 116ms\tremaining: 8.58s\n",
      "2:\tlearn: 2575.6065892\ttotal: 170ms\tremaining: 8.32s\n",
      "3:\tlearn: 2427.7265912\ttotal: 224ms\tremaining: 8.19s\n",
      "4:\tlearn: 2336.8999760\ttotal: 277ms\tremaining: 8.04s\n",
      "5:\tlearn: 2275.4215753\ttotal: 327ms\tremaining: 7.85s\n",
      "6:\tlearn: 2231.0396932\ttotal: 382ms\tremaining: 7.81s\n",
      "7:\tlearn: 2190.3227205\ttotal: 431ms\tremaining: 7.66s\n",
      "8:\tlearn: 2148.7939747\ttotal: 497ms\tremaining: 7.79s\n",
      "9:\tlearn: 2133.0746599\ttotal: 548ms\tremaining: 7.68s\n",
      "10:\tlearn: 2116.5392493\ttotal: 600ms\tremaining: 7.58s\n",
      "11:\tlearn: 2099.6890923\ttotal: 660ms\tremaining: 7.59s\n",
      "12:\tlearn: 2086.2597856\ttotal: 716ms\tremaining: 7.55s\n",
      "13:\tlearn: 2072.2013289\ttotal: 780ms\tremaining: 7.58s\n",
      "14:\tlearn: 2058.1690751\ttotal: 839ms\tremaining: 7.55s\n",
      "15:\tlearn: 2046.7152165\ttotal: 900ms\tremaining: 7.54s\n",
      "16:\tlearn: 2039.5079460\ttotal: 965ms\tremaining: 7.55s\n",
      "17:\tlearn: 2026.1891505\ttotal: 1.03s\tremaining: 7.54s\n",
      "18:\tlearn: 2015.8383515\ttotal: 1.1s\tremaining: 7.6s\n",
      "19:\tlearn: 2010.7488786\ttotal: 1.16s\tremaining: 7.52s\n",
      "20:\tlearn: 2002.3001068\ttotal: 1.21s\tremaining: 7.46s\n",
      "21:\tlearn: 1997.4403528\ttotal: 1.28s\tremaining: 7.46s\n",
      "22:\tlearn: 1993.1121918\ttotal: 1.33s\tremaining: 7.37s\n",
      "23:\tlearn: 1981.5257778\ttotal: 1.39s\tremaining: 7.32s\n",
      "24:\tlearn: 1973.4598798\ttotal: 1.46s\tremaining: 7.28s\n",
      "25:\tlearn: 1968.5250419\ttotal: 1.52s\tremaining: 7.26s\n",
      "26:\tlearn: 1963.6921853\ttotal: 1.58s\tremaining: 7.2s\n",
      "27:\tlearn: 1959.3045480\ttotal: 1.64s\tremaining: 7.14s\n",
      "28:\tlearn: 1953.2477436\ttotal: 1.7s\tremaining: 7.09s\n",
      "29:\tlearn: 1949.1867760\ttotal: 1.76s\tremaining: 7.06s\n",
      "30:\tlearn: 1943.1830228\ttotal: 1.83s\tremaining: 7.03s\n",
      "31:\tlearn: 1938.9776923\ttotal: 1.89s\tremaining: 6.97s\n",
      "32:\tlearn: 1934.6054665\ttotal: 1.96s\tremaining: 6.93s\n",
      "33:\tlearn: 1931.0055029\ttotal: 2.01s\tremaining: 6.87s\n",
      "34:\tlearn: 1926.2833852\ttotal: 2.08s\tremaining: 6.82s\n",
      "35:\tlearn: 1921.8073695\ttotal: 2.13s\tremaining: 6.76s\n",
      "36:\tlearn: 1917.2952552\ttotal: 2.2s\tremaining: 6.71s\n",
      "37:\tlearn: 1911.7850378\ttotal: 2.27s\tremaining: 6.69s\n",
      "38:\tlearn: 1909.5606009\ttotal: 2.33s\tremaining: 6.62s\n",
      "39:\tlearn: 1906.2840899\ttotal: 2.39s\tremaining: 6.56s\n",
      "40:\tlearn: 1901.9699929\ttotal: 2.44s\tremaining: 6.5s\n",
      "41:\tlearn: 1899.0118142\ttotal: 2.51s\tremaining: 6.45s\n",
      "42:\tlearn: 1896.3133071\ttotal: 2.57s\tremaining: 6.39s\n",
      "43:\tlearn: 1894.3201288\ttotal: 2.62s\tremaining: 6.32s\n",
      "44:\tlearn: 1890.5876297\ttotal: 2.69s\tremaining: 6.28s\n",
      "45:\tlearn: 1888.0413742\ttotal: 2.76s\tremaining: 6.23s\n",
      "46:\tlearn: 1883.6138727\ttotal: 2.82s\tremaining: 6.18s\n",
      "47:\tlearn: 1879.6075980\ttotal: 2.88s\tremaining: 6.12s\n",
      "48:\tlearn: 1876.1236038\ttotal: 2.95s\tremaining: 6.08s\n",
      "49:\tlearn: 1873.5381441\ttotal: 3.01s\tremaining: 6.03s\n",
      "50:\tlearn: 1871.5728643\ttotal: 3.07s\tremaining: 5.96s\n",
      "51:\tlearn: 1868.3615472\ttotal: 3.13s\tremaining: 5.91s\n",
      "52:\tlearn: 1865.5837005\ttotal: 3.21s\tremaining: 5.87s\n",
      "53:\tlearn: 1863.1148572\ttotal: 3.26s\tremaining: 5.8s\n",
      "54:\tlearn: 1861.2732972\ttotal: 3.32s\tremaining: 5.74s\n",
      "55:\tlearn: 1859.9917755\ttotal: 3.38s\tremaining: 5.67s\n",
      "56:\tlearn: 1856.5452282\ttotal: 3.45s\tremaining: 5.63s\n",
      "57:\tlearn: 1854.1037519\ttotal: 3.53s\tremaining: 5.6s\n",
      "58:\tlearn: 1852.3644233\ttotal: 3.59s\tremaining: 5.54s\n",
      "59:\tlearn: 1850.6370756\ttotal: 3.65s\tremaining: 5.47s\n",
      "60:\tlearn: 1847.7849649\ttotal: 3.72s\tremaining: 5.42s\n",
      "61:\tlearn: 1845.1694094\ttotal: 3.78s\tremaining: 5.36s\n",
      "62:\tlearn: 1843.6702247\ttotal: 3.83s\tremaining: 5.3s\n",
      "63:\tlearn: 1841.4615451\ttotal: 3.9s\tremaining: 5.24s\n",
      "64:\tlearn: 1839.9728636\ttotal: 3.96s\tremaining: 5.17s\n",
      "65:\tlearn: 1837.7411154\ttotal: 4.02s\tremaining: 5.12s\n",
      "66:\tlearn: 1835.8603570\ttotal: 4.08s\tremaining: 5.06s\n",
      "67:\tlearn: 1833.5280104\ttotal: 4.16s\tremaining: 5.01s\n",
      "68:\tlearn: 1831.3126742\ttotal: 4.22s\tremaining: 4.96s\n",
      "69:\tlearn: 1830.3940172\ttotal: 4.27s\tremaining: 4.88s\n",
      "70:\tlearn: 1828.0503359\ttotal: 4.34s\tremaining: 4.83s\n",
      "71:\tlearn: 1826.6682600\ttotal: 4.4s\tremaining: 4.76s\n",
      "72:\tlearn: 1825.2022917\ttotal: 4.47s\tremaining: 4.72s\n",
      "73:\tlearn: 1823.2282646\ttotal: 4.54s\tremaining: 4.66s\n",
      "74:\tlearn: 1820.8403756\ttotal: 4.61s\tremaining: 4.61s\n",
      "75:\tlearn: 1820.1723468\ttotal: 4.66s\tremaining: 4.54s\n",
      "76:\tlearn: 1818.6828184\ttotal: 4.72s\tremaining: 4.47s\n",
      "77:\tlearn: 1816.9154791\ttotal: 4.79s\tremaining: 4.42s\n",
      "78:\tlearn: 1815.1652212\ttotal: 4.84s\tremaining: 4.36s\n",
      "79:\tlearn: 1813.4739849\ttotal: 4.91s\tremaining: 4.29s\n",
      "80:\tlearn: 1812.4563767\ttotal: 4.97s\tremaining: 4.24s\n",
      "81:\tlearn: 1811.0099593\ttotal: 5.04s\tremaining: 4.18s\n",
      "82:\tlearn: 1809.7178682\ttotal: 5.09s\tremaining: 4.11s\n",
      "83:\tlearn: 1808.1747129\ttotal: 5.16s\tremaining: 4.05s\n",
      "84:\tlearn: 1807.0764234\ttotal: 5.22s\tremaining: 3.99s\n",
      "85:\tlearn: 1805.1191903\ttotal: 5.29s\tremaining: 3.94s\n",
      "86:\tlearn: 1802.9389065\ttotal: 5.35s\tremaining: 3.88s\n",
      "87:\tlearn: 1801.4578528\ttotal: 5.41s\tremaining: 3.81s\n",
      "88:\tlearn: 1799.6850219\ttotal: 5.49s\tremaining: 3.76s\n",
      "89:\tlearn: 1798.3644736\ttotal: 5.55s\tremaining: 3.7s\n",
      "90:\tlearn: 1797.3913812\ttotal: 5.61s\tremaining: 3.63s\n",
      "91:\tlearn: 1796.2107106\ttotal: 5.66s\tremaining: 3.57s\n",
      "92:\tlearn: 1794.5353654\ttotal: 5.73s\tremaining: 3.51s\n",
      "93:\tlearn: 1793.2747097\ttotal: 5.8s\tremaining: 3.45s\n",
      "94:\tlearn: 1791.9286257\ttotal: 5.85s\tremaining: 3.39s\n",
      "95:\tlearn: 1790.5990405\ttotal: 5.92s\tremaining: 3.33s\n",
      "96:\tlearn: 1789.2776674\ttotal: 5.99s\tremaining: 3.27s\n",
      "97:\tlearn: 1788.4259014\ttotal: 6.04s\tremaining: 3.21s\n",
      "98:\tlearn: 1787.1290452\ttotal: 6.11s\tremaining: 3.15s\n",
      "99:\tlearn: 1785.6080716\ttotal: 6.17s\tremaining: 3.09s\n",
      "100:\tlearn: 1784.8678867\ttotal: 6.24s\tremaining: 3.02s\n",
      "101:\tlearn: 1783.3340508\ttotal: 6.3s\tremaining: 2.96s\n",
      "102:\tlearn: 1782.2311246\ttotal: 6.36s\tremaining: 2.9s\n",
      "103:\tlearn: 1780.9596747\ttotal: 6.42s\tremaining: 2.84s\n",
      "104:\tlearn: 1779.7900551\ttotal: 6.48s\tremaining: 2.78s\n",
      "105:\tlearn: 1778.5462921\ttotal: 6.55s\tremaining: 2.72s\n",
      "106:\tlearn: 1777.9593268\ttotal: 6.6s\tremaining: 2.65s\n",
      "107:\tlearn: 1777.2282695\ttotal: 6.66s\tremaining: 2.59s\n",
      "108:\tlearn: 1776.0876543\ttotal: 6.72s\tremaining: 2.53s\n",
      "109:\tlearn: 1774.5547108\ttotal: 6.79s\tremaining: 2.47s\n",
      "110:\tlearn: 1773.0722802\ttotal: 6.86s\tremaining: 2.41s\n",
      "111:\tlearn: 1771.8493707\ttotal: 6.93s\tremaining: 2.35s\n",
      "112:\tlearn: 1769.9983501\ttotal: 7s\tremaining: 2.29s\n",
      "113:\tlearn: 1768.7369034\ttotal: 7.06s\tremaining: 2.23s\n",
      "114:\tlearn: 1767.9890757\ttotal: 7.12s\tremaining: 2.17s\n",
      "115:\tlearn: 1767.1673426\ttotal: 7.18s\tremaining: 2.1s\n",
      "116:\tlearn: 1766.0816886\ttotal: 7.25s\tremaining: 2.04s\n",
      "117:\tlearn: 1764.6104968\ttotal: 7.31s\tremaining: 1.98s\n",
      "118:\tlearn: 1763.3344166\ttotal: 7.38s\tremaining: 1.92s\n",
      "119:\tlearn: 1762.3403158\ttotal: 7.45s\tremaining: 1.86s\n",
      "120:\tlearn: 1761.0098418\ttotal: 7.52s\tremaining: 1.8s\n",
      "121:\tlearn: 1760.4079269\ttotal: 7.58s\tremaining: 1.74s\n",
      "122:\tlearn: 1759.3568343\ttotal: 7.64s\tremaining: 1.68s\n",
      "123:\tlearn: 1758.4285030\ttotal: 7.7s\tremaining: 1.61s\n",
      "124:\tlearn: 1757.2122021\ttotal: 7.76s\tremaining: 1.55s\n",
      "125:\tlearn: 1756.4630973\ttotal: 7.82s\tremaining: 1.49s\n",
      "126:\tlearn: 1755.5964503\ttotal: 7.88s\tremaining: 1.43s\n",
      "127:\tlearn: 1754.0496820\ttotal: 7.95s\tremaining: 1.37s\n",
      "128:\tlearn: 1752.9550346\ttotal: 8.01s\tremaining: 1.3s\n",
      "129:\tlearn: 1752.1309012\ttotal: 8.07s\tremaining: 1.24s\n",
      "130:\tlearn: 1751.0955750\ttotal: 8.14s\tremaining: 1.18s\n",
      "131:\tlearn: 1750.0512986\ttotal: 8.19s\tremaining: 1.12s\n",
      "132:\tlearn: 1748.9242950\ttotal: 8.25s\tremaining: 1.05s\n",
      "133:\tlearn: 1747.9023382\ttotal: 8.3s\tremaining: 991ms\n",
      "134:\tlearn: 1746.6168889\ttotal: 8.36s\tremaining: 929ms\n",
      "135:\tlearn: 1745.5852022\ttotal: 8.41s\tremaining: 866ms\n",
      "136:\tlearn: 1744.6120961\ttotal: 8.47s\tremaining: 804ms\n",
      "137:\tlearn: 1743.6447976\ttotal: 8.52s\tremaining: 741ms\n",
      "138:\tlearn: 1742.7063444\ttotal: 8.58s\tremaining: 679ms\n",
      "139:\tlearn: 1742.0203530\ttotal: 8.63s\tremaining: 617ms\n",
      "140:\tlearn: 1741.0820134\ttotal: 8.69s\tremaining: 555ms\n",
      "141:\tlearn: 1739.7656392\ttotal: 8.75s\tremaining: 493ms\n",
      "142:\tlearn: 1738.9141037\ttotal: 8.81s\tremaining: 431ms\n",
      "143:\tlearn: 1738.2665968\ttotal: 8.86s\tremaining: 369ms\n",
      "144:\tlearn: 1737.6207052\ttotal: 8.91s\tremaining: 307ms\n",
      "145:\tlearn: 1736.9173960\ttotal: 8.97s\tremaining: 246ms\n",
      "146:\tlearn: 1736.0601262\ttotal: 9.01s\tremaining: 184ms\n",
      "147:\tlearn: 1735.2848950\ttotal: 9.07s\tremaining: 123ms\n",
      "148:\tlearn: 1734.3924208\ttotal: 9.12s\tremaining: 61.2ms\n",
      "149:\tlearn: 1733.6860465\ttotal: 9.17s\tremaining: 0us\n",
      "Learning rate set to 0.433779\n",
      "0:\tlearn: 3420.4396100\ttotal: 79.1ms\tremaining: 11.8s\n",
      "1:\tlearn: 2838.8323202\ttotal: 149ms\tremaining: 11.1s\n",
      "2:\tlearn: 2564.2065591\ttotal: 216ms\tremaining: 10.6s\n",
      "3:\tlearn: 2418.6275509\ttotal: 285ms\tremaining: 10.4s\n",
      "4:\tlearn: 2331.4366031\ttotal: 353ms\tremaining: 10.2s\n",
      "5:\tlearn: 2261.2183975\ttotal: 419ms\tremaining: 10s\n",
      "6:\tlearn: 2218.3218710\ttotal: 475ms\tremaining: 9.71s\n",
      "7:\tlearn: 2172.3386829\ttotal: 551ms\tremaining: 9.79s\n",
      "8:\tlearn: 2146.6768146\ttotal: 610ms\tremaining: 9.56s\n",
      "9:\tlearn: 2122.2793745\ttotal: 672ms\tremaining: 9.41s\n",
      "10:\tlearn: 2103.9540224\ttotal: 731ms\tremaining: 9.24s\n",
      "11:\tlearn: 2088.7696327\ttotal: 797ms\tremaining: 9.17s\n",
      "12:\tlearn: 2075.3548523\ttotal: 859ms\tremaining: 9.05s\n",
      "13:\tlearn: 2063.3987658\ttotal: 926ms\tremaining: 8.99s\n",
      "14:\tlearn: 2051.7379133\ttotal: 995ms\tremaining: 8.96s\n",
      "15:\tlearn: 2041.3638004\ttotal: 1.07s\tremaining: 8.96s\n",
      "16:\tlearn: 2034.7898198\ttotal: 1.13s\tremaining: 8.84s\n",
      "17:\tlearn: 2024.3149078\ttotal: 1.21s\tremaining: 8.85s\n",
      "18:\tlearn: 2015.1465127\ttotal: 1.26s\tremaining: 8.71s\n",
      "19:\tlearn: 2007.9232531\ttotal: 1.34s\tremaining: 8.71s\n",
      "20:\tlearn: 2001.4884560\ttotal: 1.41s\tremaining: 8.64s\n",
      "21:\tlearn: 1991.9220212\ttotal: 1.47s\tremaining: 8.57s\n",
      "22:\tlearn: 1987.5896598\ttotal: 1.53s\tremaining: 8.47s\n",
      "23:\tlearn: 1980.8664708\ttotal: 1.6s\tremaining: 8.38s\n",
      "24:\tlearn: 1975.6836737\ttotal: 1.67s\tremaining: 8.37s\n",
      "25:\tlearn: 1972.3926871\ttotal: 1.73s\tremaining: 8.26s\n",
      "26:\tlearn: 1968.9464528\ttotal: 1.8s\tremaining: 8.22s\n",
      "27:\tlearn: 1963.0342081\ttotal: 1.88s\tremaining: 8.17s\n",
      "28:\tlearn: 1958.4836251\ttotal: 1.94s\tremaining: 8.11s\n",
      "29:\tlearn: 1951.2317262\ttotal: 2.02s\tremaining: 8.09s\n",
      "30:\tlearn: 1945.1534337\ttotal: 2.09s\tremaining: 8.03s\n",
      "31:\tlearn: 1942.2360899\ttotal: 2.15s\tremaining: 7.92s\n",
      "32:\tlearn: 1936.9789726\ttotal: 2.2s\tremaining: 7.81s\n",
      "33:\tlearn: 1932.5857862\ttotal: 2.26s\tremaining: 7.72s\n",
      "34:\tlearn: 1926.9887834\ttotal: 2.33s\tremaining: 7.64s\n",
      "35:\tlearn: 1921.3714170\ttotal: 2.4s\tremaining: 7.59s\n",
      "36:\tlearn: 1916.1356410\ttotal: 2.47s\tremaining: 7.54s\n",
      "37:\tlearn: 1913.4967542\ttotal: 2.53s\tremaining: 7.46s\n",
      "38:\tlearn: 1910.7508912\ttotal: 2.59s\tremaining: 7.38s\n",
      "39:\tlearn: 1907.2472577\ttotal: 2.67s\tremaining: 7.35s\n",
      "40:\tlearn: 1903.8643697\ttotal: 2.74s\tremaining: 7.29s\n",
      "41:\tlearn: 1900.3231906\ttotal: 2.81s\tremaining: 7.24s\n",
      "42:\tlearn: 1897.0989554\ttotal: 2.88s\tremaining: 7.17s\n",
      "43:\tlearn: 1893.9918004\ttotal: 2.96s\tremaining: 7.12s\n",
      "44:\tlearn: 1892.0657578\ttotal: 3.03s\tremaining: 7.06s\n",
      "45:\tlearn: 1889.9577939\ttotal: 3.09s\tremaining: 6.99s\n",
      "46:\tlearn: 1886.6846899\ttotal: 3.17s\tremaining: 6.94s\n",
      "47:\tlearn: 1884.2976229\ttotal: 3.24s\tremaining: 6.88s\n",
      "48:\tlearn: 1881.5288994\ttotal: 3.31s\tremaining: 6.83s\n",
      "49:\tlearn: 1879.4438635\ttotal: 3.37s\tremaining: 6.74s\n",
      "50:\tlearn: 1877.6878885\ttotal: 3.43s\tremaining: 6.67s\n",
      "51:\tlearn: 1873.5455890\ttotal: 3.51s\tremaining: 6.62s\n",
      "52:\tlearn: 1871.4646674\ttotal: 3.58s\tremaining: 6.55s\n",
      "53:\tlearn: 1869.6311567\ttotal: 3.64s\tremaining: 6.48s\n",
      "54:\tlearn: 1867.7254523\ttotal: 3.71s\tremaining: 6.41s\n",
      "55:\tlearn: 1865.5075403\ttotal: 3.77s\tremaining: 6.33s\n",
      "56:\tlearn: 1863.3831775\ttotal: 3.84s\tremaining: 6.26s\n",
      "57:\tlearn: 1861.1083257\ttotal: 3.91s\tremaining: 6.21s\n",
      "58:\tlearn: 1858.3856377\ttotal: 3.98s\tremaining: 6.13s\n",
      "59:\tlearn: 1856.4580766\ttotal: 4.04s\tremaining: 6.06s\n",
      "60:\tlearn: 1855.1105406\ttotal: 4.09s\tremaining: 5.97s\n",
      "61:\tlearn: 1852.6758955\ttotal: 4.16s\tremaining: 5.9s\n",
      "62:\tlearn: 1850.4415469\ttotal: 4.23s\tremaining: 5.84s\n",
      "63:\tlearn: 1848.2667751\ttotal: 4.32s\tremaining: 5.8s\n",
      "64:\tlearn: 1846.9085654\ttotal: 4.38s\tremaining: 5.72s\n",
      "65:\tlearn: 1845.5922413\ttotal: 4.44s\tremaining: 5.65s\n",
      "66:\tlearn: 1843.9805900\ttotal: 4.52s\tremaining: 5.6s\n",
      "67:\tlearn: 1842.7812456\ttotal: 4.58s\tremaining: 5.52s\n",
      "68:\tlearn: 1840.5091704\ttotal: 4.67s\tremaining: 5.48s\n",
      "69:\tlearn: 1837.7546770\ttotal: 4.73s\tremaining: 5.41s\n",
      "70:\tlearn: 1834.5472933\ttotal: 4.81s\tremaining: 5.35s\n",
      "71:\tlearn: 1831.6182687\ttotal: 4.88s\tremaining: 5.29s\n",
      "72:\tlearn: 1830.6753403\ttotal: 4.93s\tremaining: 5.2s\n",
      "73:\tlearn: 1829.1619684\ttotal: 5s\tremaining: 5.13s\n",
      "74:\tlearn: 1827.6128391\ttotal: 5.06s\tremaining: 5.06s\n",
      "75:\tlearn: 1826.4581741\ttotal: 5.12s\tremaining: 4.99s\n",
      "76:\tlearn: 1825.4768703\ttotal: 5.18s\tremaining: 4.92s\n",
      "77:\tlearn: 1823.2417067\ttotal: 5.26s\tremaining: 4.86s\n",
      "78:\tlearn: 1821.5686594\ttotal: 5.34s\tremaining: 4.8s\n",
      "79:\tlearn: 1819.1695527\ttotal: 5.41s\tremaining: 4.74s\n",
      "80:\tlearn: 1818.0425263\ttotal: 5.48s\tremaining: 4.67s\n",
      "81:\tlearn: 1816.9130669\ttotal: 5.54s\tremaining: 4.6s\n",
      "82:\tlearn: 1815.7650950\ttotal: 5.62s\tremaining: 4.53s\n",
      "83:\tlearn: 1814.3323900\ttotal: 5.68s\tremaining: 4.46s\n",
      "84:\tlearn: 1813.2166908\ttotal: 5.75s\tremaining: 4.4s\n",
      "85:\tlearn: 1811.7135983\ttotal: 5.82s\tremaining: 4.33s\n",
      "86:\tlearn: 1809.6144888\ttotal: 5.88s\tremaining: 4.26s\n",
      "87:\tlearn: 1808.3844980\ttotal: 5.95s\tremaining: 4.19s\n",
      "88:\tlearn: 1806.8220008\ttotal: 6.01s\tremaining: 4.12s\n",
      "89:\tlearn: 1805.5417999\ttotal: 6.09s\tremaining: 4.06s\n",
      "90:\tlearn: 1803.8545320\ttotal: 6.16s\tremaining: 3.99s\n",
      "91:\tlearn: 1802.9361490\ttotal: 6.22s\tremaining: 3.92s\n",
      "92:\tlearn: 1801.3696349\ttotal: 6.3s\tremaining: 3.86s\n",
      "93:\tlearn: 1799.7218654\ttotal: 6.37s\tremaining: 3.79s\n",
      "94:\tlearn: 1798.7131261\ttotal: 6.43s\tremaining: 3.72s\n",
      "95:\tlearn: 1797.7668084\ttotal: 6.49s\tremaining: 3.65s\n",
      "96:\tlearn: 1796.1968060\ttotal: 6.56s\tremaining: 3.58s\n",
      "97:\tlearn: 1792.5820506\ttotal: 6.62s\tremaining: 3.52s\n",
      "98:\tlearn: 1791.1779673\ttotal: 6.69s\tremaining: 3.45s\n",
      "99:\tlearn: 1789.4139461\ttotal: 6.76s\tremaining: 3.38s\n",
      "100:\tlearn: 1788.2906833\ttotal: 6.82s\tremaining: 3.31s\n",
      "101:\tlearn: 1787.4427102\ttotal: 6.88s\tremaining: 3.24s\n",
      "102:\tlearn: 1786.8854672\ttotal: 6.94s\tremaining: 3.17s\n",
      "103:\tlearn: 1785.6789419\ttotal: 7.01s\tremaining: 3.1s\n",
      "104:\tlearn: 1784.7607029\ttotal: 7.08s\tremaining: 3.04s\n",
      "105:\tlearn: 1783.0459029\ttotal: 7.15s\tremaining: 2.97s\n",
      "106:\tlearn: 1781.9567977\ttotal: 7.22s\tremaining: 2.9s\n",
      "107:\tlearn: 1780.8223875\ttotal: 7.29s\tremaining: 2.83s\n",
      "108:\tlearn: 1779.2151378\ttotal: 7.35s\tremaining: 2.77s\n",
      "109:\tlearn: 1778.0657328\ttotal: 7.42s\tremaining: 2.7s\n",
      "110:\tlearn: 1777.5099119\ttotal: 7.48s\tremaining: 2.63s\n",
      "111:\tlearn: 1775.9778588\ttotal: 7.55s\tremaining: 2.56s\n",
      "112:\tlearn: 1774.7780103\ttotal: 7.63s\tremaining: 2.5s\n",
      "113:\tlearn: 1773.3834504\ttotal: 7.7s\tremaining: 2.43s\n",
      "114:\tlearn: 1771.8141525\ttotal: 7.77s\tremaining: 2.36s\n",
      "115:\tlearn: 1769.8551351\ttotal: 7.84s\tremaining: 2.3s\n",
      "116:\tlearn: 1768.8782317\ttotal: 7.91s\tremaining: 2.23s\n",
      "117:\tlearn: 1767.4387941\ttotal: 7.97s\tremaining: 2.16s\n",
      "118:\tlearn: 1766.1496535\ttotal: 8.05s\tremaining: 2.1s\n",
      "119:\tlearn: 1764.8168703\ttotal: 8.12s\tremaining: 2.03s\n",
      "120:\tlearn: 1763.6172621\ttotal: 8.18s\tremaining: 1.96s\n",
      "121:\tlearn: 1762.2794916\ttotal: 8.26s\tremaining: 1.89s\n",
      "122:\tlearn: 1761.2317456\ttotal: 8.33s\tremaining: 1.83s\n",
      "123:\tlearn: 1760.3793263\ttotal: 8.38s\tremaining: 1.76s\n",
      "124:\tlearn: 1759.3774343\ttotal: 8.44s\tremaining: 1.69s\n",
      "125:\tlearn: 1758.4836814\ttotal: 8.49s\tremaining: 1.62s\n",
      "126:\tlearn: 1756.7736685\ttotal: 8.55s\tremaining: 1.55s\n",
      "127:\tlearn: 1755.9250172\ttotal: 8.62s\tremaining: 1.48s\n",
      "128:\tlearn: 1755.0407727\ttotal: 8.69s\tremaining: 1.41s\n",
      "129:\tlearn: 1754.1482866\ttotal: 8.76s\tremaining: 1.35s\n",
      "130:\tlearn: 1752.8753062\ttotal: 8.83s\tremaining: 1.28s\n",
      "131:\tlearn: 1752.0140066\ttotal: 8.87s\tremaining: 1.21s\n",
      "132:\tlearn: 1751.0864220\ttotal: 8.94s\tremaining: 1.14s\n",
      "133:\tlearn: 1749.8650938\ttotal: 8.99s\tremaining: 1.07s\n",
      "134:\tlearn: 1749.1070576\ttotal: 9.05s\tremaining: 1s\n",
      "135:\tlearn: 1747.6406107\ttotal: 9.12s\tremaining: 938ms\n",
      "136:\tlearn: 1746.2071167\ttotal: 9.17s\tremaining: 870ms\n",
      "137:\tlearn: 1745.1643482\ttotal: 9.24s\tremaining: 803ms\n",
      "138:\tlearn: 1744.1413635\ttotal: 9.29s\tremaining: 735ms\n",
      "139:\tlearn: 1742.6770003\ttotal: 9.36s\tremaining: 668ms\n",
      "140:\tlearn: 1741.9846872\ttotal: 9.41s\tremaining: 601ms\n",
      "141:\tlearn: 1741.1595737\ttotal: 9.46s\tremaining: 533ms\n",
      "142:\tlearn: 1739.6729731\ttotal: 9.53s\tremaining: 466ms\n",
      "143:\tlearn: 1738.9600134\ttotal: 9.59s\tremaining: 399ms\n",
      "144:\tlearn: 1737.6765431\ttotal: 9.64s\tremaining: 332ms\n",
      "145:\tlearn: 1736.6022139\ttotal: 9.71s\tremaining: 266ms\n",
      "146:\tlearn: 1735.6752422\ttotal: 9.75s\tremaining: 199ms\n",
      "147:\tlearn: 1735.0042159\ttotal: 9.81s\tremaining: 133ms\n",
      "148:\tlearn: 1734.3908694\ttotal: 9.86s\tremaining: 66.2ms\n",
      "149:\tlearn: 1733.5941424\ttotal: 9.94s\tremaining: 0us\n",
      "Кроссвалидация модели: -1815.7679666709703\n"
     ]
    }
   ],
   "source": [
    "# Проверка CatBoostRegressor\n",
    "cat_features = ['VehicleType', 'Gearbox', 'Model', 'FuelType', 'Brand', 'NotRepaired']\n",
    "# разделим данные на тренировочные и проверочные для CBR\n",
    "train_cbr, valid_cbr = train_test_split(df, test_size=0.25, random_state=12345)\n",
    "# разделим данные на обучающую и целевую\n",
    "features_train_cbr = train_cbr.drop(['Price'], axis=1)\n",
    "target_train_cbr = train_cbr['Price']\n",
    "features_valid_cbr = valid_cbr.drop(['Price'], axis=1)\n",
    "target_valid_cbr = valid_cbr['Price'] \n",
    "features_train_cbr[cat_features] = features_train_cbr[cat_features].astype('category')\n",
    "features_valid_cbr[cat_features] = features_valid_cbr[cat_features].astype('category')\n",
    "model_CBR = CatBoostRegressor(loss_function=\"RMSE\", iterations=150)\n",
    "print('Обучение...')\n",
    "model_CBR.fit(features_train_cbr, target_train_cbr, cat_features=cat_features, verbose=10)\n",
    "print('Расчет...')\n",
    "#predict_valid = model_CBR.predict(features_valid_cbr)\n",
    "scores = cross_val_score(model_CBR, features_train, target_train, scoring = 'neg_root_mean_squared_error', cv=3).mean()\n",
    "\n",
    "print('Кроссвалидация модели:', scores)"
   ]
  },
  {
   "cell_type": "markdown",
   "metadata": {},
   "source": [
    "**Кроссвалидация модели: -1815**"
   ]
  },
  {
   "cell_type": "code",
   "execution_count": 51,
   "metadata": {},
   "outputs": [
    {
     "name": "stdout",
     "output_type": "stream",
     "text": [
      "Обучение...\n",
      "Расчет...\n",
      "Кроссвалидация модели: [-2748.26310958 -2736.12760565 -2734.05258615]\n"
     ]
    }
   ],
   "source": [
    "# LGBMRegressor\n",
    "print('Обучение...')\n",
    "model_LGBMR = lgb.LGBMRegressor(objective='regression',num_leaves=31,learning_rate=0.05,n_estimators=20)\n",
    "model_LGBMR.fit(features_train, target_train, eval_metric='rmse')\n",
    "print('Расчет...')\n",
    "#predict_valid = model_LGBMR.predict(features_valid, num_iteration=model_LGBMR.best_iteration_)\n",
    "scores = cross_val_score(model_LGBMR, features_train, target_train, scoring = 'neg_root_mean_squared_error', cv=3)\n",
    "print('Кроссвалидация модели:', scores.mean())"
   ]
  },
  {
   "cell_type": "markdown",
   "metadata": {},
   "source": [
    "**Кроссвалидация модели: -2739.48**\n",
    "​"
   ]
  },
  {
   "cell_type": "markdown",
   "metadata": {},
   "source": [
    "## Анализ моделей"
   ]
  },
  {
   "cell_type": "code",
   "execution_count": 55,
   "metadata": {},
   "outputs": [
    {
     "name": "stdout",
     "output_type": "stream",
     "text": [
      "Подбор параметров...\n"
     ]
    }
   ],
   "source": [
    "estimator = lgb.LGBMRegressor(num_leaves=31)\n",
    "param_grid = {\n",
    "    'max_depth': [2, 7, 15, 20],\n",
    "    'n_estimators': [20, 40, 100],\n",
    "    'learning_rate': [0.01, 0.1, 0.5]\n",
    "    }\n",
    "print('Подбор параметров...')\n",
    "model_LGBMR = GridSearchCV(estimator, param_grid, scoring = 'neg_root_mean_squared_error')\n"
   ]
  },
  {
   "cell_type": "code",
   "execution_count": 56,
   "metadata": {},
   "outputs": [
    {
     "name": "stdout",
     "output_type": "stream",
     "text": [
      "Обучение...\n",
      "Лучшие параметры модели: {'learning_rate': 0.5, 'max_depth': 7, 'n_estimators': 100}\n",
      "Качество: -1811.4179196266462\n",
      "CPU times: user 1h 1s, sys: 22.2 s, total: 1h 24s\n",
      "Wall time: 1h 48s\n"
     ]
    }
   ],
   "source": [
    "%%time\n",
    "print('Обучение...')\n",
    "model_LGBMR.fit(features_train, target_train)\n",
    "print('Лучшие параметры модели:', model_LGBMR.best_params_)\n",
    "print('Качество:', model_LGBMR.best_score_)"
   ]
  },
  {
   "cell_type": "code",
   "execution_count": 58,
   "metadata": {},
   "outputs": [
    {
     "name": "stdout",
     "output_type": "stream",
     "text": [
      "Расчет...\n",
      "RMSE 1805.7696646323197\n",
      "CPU times: user 757 ms, sys: 3.8 ms, total: 760 ms\n",
      "Wall time: 768 ms\n"
     ]
    }
   ],
   "source": [
    "%%time\n",
    "print('Расчет...')\n",
    "#LGBMR = lgb.LGBMRegressor(num_leaves=31)\n",
    "predict_valid = model_LGBMR.predict(features_valid)\n",
    "print('RMSE', mean_squared_error(target_valid, predict_valid, squared= False))"
   ]
  },
  {
   "cell_type": "markdown",
   "metadata": {},
   "source": [
    "Лучшие параметры\n",
    "- 'learning_rate': 0.5, \n",
    "- 'max_depth': 7, \n",
    "- 'n_estimators': 100\n",
    "\n",
    "Качество: -1811.4179\n",
    "\n",
    "Время обучения: 1h 48s\n",
    "\n",
    "Время расчета: 768 ms\n",
    "\n",
    "**Конечно качество модели лучше, но мы тераяем время на обучение модели.**"
   ]
  },
  {
   "cell_type": "code",
   "execution_count": 59,
   "metadata": {},
   "outputs": [
    {
     "name": "stdout",
     "output_type": "stream",
     "text": [
      "Подбор параметров...\n"
     ]
    }
   ],
   "source": [
    "parameters = {'depth'         : [2, 7, 15, 20],\n",
    "              'learning_rate' : [0.01, 0.1, 0.5],\n",
    "              'iterations'    : [20, 40, 100]\n",
    "              }\n",
    "print('Подбор параметров...')\n",
    "grid_cbr = GridSearchCV(estimator=model_CBR,\n",
    "                        param_grid = parameters,\n",
    "                        cv = 2, n_jobs=-1,\n",
    "                        scoring = 'neg_root_mean_squared_error')\n"
   ]
  },
  {
   "cell_type": "code",
   "execution_count": 60,
   "metadata": {
    "scrolled": false
   },
   "outputs": [
    {
     "name": "stdout",
     "output_type": "stream",
     "text": [
      "Обучение...\n",
      "0:\tlearn: 4490.5942446\ttotal: 66.3ms\tremaining: 1.26s\n",
      "10:\tlearn: 4304.4857892\ttotal: 618ms\tremaining: 506ms\n",
      "19:\tlearn: 4156.9030111\ttotal: 1.09s\tremaining: 0us\n",
      "0:\tlearn: 4490.6647234\ttotal: 66.9ms\tremaining: 1.27s\n",
      "10:\tlearn: 4303.6966490\ttotal: 609ms\tremaining: 498ms\n",
      "19:\tlearn: 4156.2046105\ttotal: 1.06s\tremaining: 0us\n",
      "0:\tlearn: 4312.3437559\ttotal: 65.5ms\tremaining: 1.25s\n",
      "10:\tlearn: 3241.7277310\ttotal: 768ms\tremaining: 628ms\n",
      "19:\tlearn: 2862.5368637\ttotal: 1.22s\tremaining: 0us\n",
      "0:\tlearn: 4311.8122007\ttotal: 64.5ms\tremaining: 1.23s\n",
      "10:\tlearn: 3245.3998657\ttotal: 605ms\tremaining: 495ms\n",
      "19:\tlearn: 2864.3641128\ttotal: 1.06s\tremaining: 0us\n",
      "0:\tlearn: 3664.7295394\ttotal: 65.1ms\tremaining: 1.24s\n",
      "10:\tlearn: 2418.7307550\ttotal: 601ms\tremaining: 491ms\n",
      "19:\tlearn: 2279.2140933\ttotal: 1.05s\tremaining: 0us\n",
      "0:\tlearn: 3661.7593536\ttotal: 64.4ms\tremaining: 1.22s\n",
      "10:\tlearn: 2411.1741332\ttotal: 606ms\tremaining: 496ms\n",
      "19:\tlearn: 2276.0719168\ttotal: 1.05s\tremaining: 0us\n",
      "0:\tlearn: 4490.5942446\ttotal: 63.3ms\tremaining: 2.47s\n",
      "10:\tlearn: 4304.4857892\ttotal: 599ms\tremaining: 1.58s\n",
      "20:\tlearn: 4141.3043887\ttotal: 1.12s\tremaining: 1.01s\n",
      "30:\tlearn: 3998.0906741\ttotal: 1.62s\tremaining: 472ms\n",
      "39:\tlearn: 3883.3870835\ttotal: 2.08s\tremaining: 0us\n",
      "0:\tlearn: 4490.6647234\ttotal: 66.4ms\tremaining: 2.59s\n",
      "10:\tlearn: 4303.6966490\ttotal: 623ms\tremaining: 1.64s\n",
      "20:\tlearn: 4140.6167850\ttotal: 1.15s\tremaining: 1.04s\n",
      "30:\tlearn: 3996.8544399\ttotal: 1.68s\tremaining: 486ms\n",
      "39:\tlearn: 3882.7061262\ttotal: 2.15s\tremaining: 0us\n",
      "0:\tlearn: 4312.3437559\ttotal: 66ms\tremaining: 2.57s\n",
      "10:\tlearn: 3241.7277310\ttotal: 624ms\tremaining: 1.64s\n",
      "20:\tlearn: 2831.2036973\ttotal: 1.15s\tremaining: 1.04s\n",
      "30:\tlearn: 2604.5563066\ttotal: 1.66s\tremaining: 481ms\n",
      "39:\tlearn: 2474.1401130\ttotal: 2.1s\tremaining: 0us\n",
      "0:\tlearn: 4311.8122007\ttotal: 65.4ms\tremaining: 2.55s\n",
      "10:\tlearn: 3245.3998657\ttotal: 604ms\tremaining: 1.59s\n",
      "20:\tlearn: 2832.7523797\ttotal: 1.13s\tremaining: 1.02s\n",
      "30:\tlearn: 2604.6749734\ttotal: 1.66s\tremaining: 481ms\n",
      "39:\tlearn: 2494.4347221\ttotal: 2.11s\tremaining: 0us\n",
      "0:\tlearn: 3664.7295394\ttotal: 64.6ms\tremaining: 2.52s\n",
      "10:\tlearn: 2418.7307550\ttotal: 606ms\tremaining: 1.6s\n",
      "20:\tlearn: 2272.6550988\ttotal: 1.11s\tremaining: 1s\n",
      "30:\tlearn: 2191.1379828\ttotal: 1.61s\tremaining: 467ms\n",
      "39:\tlearn: 2150.1766429\ttotal: 2.07s\tremaining: 0us\n",
      "0:\tlearn: 3661.7593536\ttotal: 63.8ms\tremaining: 2.49s\n",
      "10:\tlearn: 2411.1741332\ttotal: 619ms\tremaining: 1.63s\n",
      "20:\tlearn: 2267.7976147\ttotal: 1.13s\tremaining: 1.02s\n",
      "30:\tlearn: 2184.8890727\ttotal: 1.63s\tremaining: 472ms\n",
      "39:\tlearn: 2143.5757729\ttotal: 2.08s\tremaining: 0us\n",
      "0:\tlearn: 4490.5942446\ttotal: 65.6ms\tremaining: 6.5s\n",
      "10:\tlearn: 4304.4857892\ttotal: 614ms\tremaining: 4.97s\n",
      "20:\tlearn: 4141.3043887\ttotal: 1.12s\tremaining: 4.22s\n",
      "30:\tlearn: 3998.0906741\ttotal: 1.63s\tremaining: 3.63s\n",
      "40:\tlearn: 3871.3783162\ttotal: 2.25s\tremaining: 3.25s\n",
      "50:\tlearn: 3757.0891233\ttotal: 2.87s\tremaining: 2.76s\n",
      "60:\tlearn: 3655.1851605\ttotal: 3.37s\tremaining: 2.16s\n",
      "70:\tlearn: 3563.8644802\ttotal: 3.89s\tremaining: 1.59s\n",
      "80:\tlearn: 3481.7488632\ttotal: 4.41s\tremaining: 1.03s\n",
      "90:\tlearn: 3404.8361945\ttotal: 4.93s\tremaining: 487ms\n",
      "99:\tlearn: 3339.2105932\ttotal: 5.39s\tremaining: 0us\n",
      "0:\tlearn: 4490.6647234\ttotal: 65.6ms\tremaining: 6.5s\n",
      "10:\tlearn: 4303.6966490\ttotal: 616ms\tremaining: 4.98s\n",
      "20:\tlearn: 4140.6167850\ttotal: 1.14s\tremaining: 4.28s\n",
      "30:\tlearn: 3996.8544399\ttotal: 1.65s\tremaining: 3.68s\n",
      "40:\tlearn: 3870.7938048\ttotal: 2.17s\tremaining: 3.12s\n",
      "50:\tlearn: 3755.8846314\ttotal: 2.68s\tremaining: 2.57s\n",
      "60:\tlearn: 3654.4481543\ttotal: 3.19s\tremaining: 2.04s\n",
      "70:\tlearn: 3563.2278170\ttotal: 3.72s\tremaining: 1.52s\n",
      "80:\tlearn: 3481.5286319\ttotal: 4.24s\tremaining: 994ms\n",
      "90:\tlearn: 3403.1086063\ttotal: 4.76s\tremaining: 471ms\n",
      "99:\tlearn: 3337.7322844\ttotal: 5.22s\tremaining: 0us\n",
      "0:\tlearn: 4312.3437559\ttotal: 66.5ms\tremaining: 6.58s\n",
      "10:\tlearn: 3241.7277310\ttotal: 615ms\tremaining: 4.97s\n",
      "20:\tlearn: 2831.2036973\ttotal: 1.14s\tremaining: 4.28s\n",
      "30:\tlearn: 2604.5563066\ttotal: 1.66s\tremaining: 3.69s\n",
      "40:\tlearn: 2462.8506340\ttotal: 2.17s\tremaining: 3.12s\n",
      "50:\tlearn: 2371.0180482\ttotal: 2.67s\tremaining: 2.57s\n",
      "60:\tlearn: 2305.7005602\ttotal: 3.18s\tremaining: 2.04s\n",
      "70:\tlearn: 2269.3392212\ttotal: 3.69s\tremaining: 1.5s\n",
      "80:\tlearn: 2241.5167674\ttotal: 4.18s\tremaining: 981ms\n",
      "90:\tlearn: 2219.9262131\ttotal: 4.7s\tremaining: 464ms\n",
      "99:\tlearn: 2203.6917647\ttotal: 5.15s\tremaining: 0us\n",
      "0:\tlearn: 4311.8122007\ttotal: 66.3ms\tremaining: 6.56s\n",
      "10:\tlearn: 3245.3998657\ttotal: 606ms\tremaining: 4.9s\n",
      "20:\tlearn: 2832.7523797\ttotal: 1.13s\tremaining: 4.25s\n",
      "30:\tlearn: 2604.6749734\ttotal: 1.64s\tremaining: 3.65s\n",
      "40:\tlearn: 2472.9838249\ttotal: 2.14s\tremaining: 3.08s\n",
      "50:\tlearn: 2388.2859913\ttotal: 2.74s\tremaining: 2.63s\n",
      "60:\tlearn: 2318.0297437\ttotal: 3.23s\tremaining: 2.07s\n",
      "70:\tlearn: 2276.8409290\ttotal: 3.73s\tremaining: 1.52s\n",
      "80:\tlearn: 2250.0598665\ttotal: 4.24s\tremaining: 995ms\n",
      "90:\tlearn: 2225.9164846\ttotal: 4.75s\tremaining: 470ms\n",
      "99:\tlearn: 2208.5455877\ttotal: 5.21s\tremaining: 0us\n",
      "0:\tlearn: 3664.7295394\ttotal: 65.1ms\tremaining: 6.45s\n",
      "10:\tlearn: 2418.7307550\ttotal: 617ms\tremaining: 4.99s\n",
      "20:\tlearn: 2272.6550988\ttotal: 1.13s\tremaining: 4.24s\n",
      "30:\tlearn: 2191.1379828\ttotal: 1.65s\tremaining: 3.66s\n",
      "40:\tlearn: 2146.9421050\ttotal: 2.17s\tremaining: 3.12s\n",
      "50:\tlearn: 2109.8391454\ttotal: 2.68s\tremaining: 2.58s\n",
      "60:\tlearn: 2091.5197062\ttotal: 3.2s\tremaining: 2.05s\n",
      "70:\tlearn: 2072.1416675\ttotal: 3.71s\tremaining: 1.52s\n",
      "80:\tlearn: 2056.1158818\ttotal: 4.22s\tremaining: 990ms\n",
      "90:\tlearn: 2042.4441795\ttotal: 4.71s\tremaining: 466ms\n",
      "99:\tlearn: 2034.2711606\ttotal: 5.16s\tremaining: 0us\n",
      "0:\tlearn: 3661.7593536\ttotal: 77.4ms\tremaining: 7.66s\n",
      "10:\tlearn: 2411.1741332\ttotal: 648ms\tremaining: 5.24s\n",
      "20:\tlearn: 2267.7976147\ttotal: 1.17s\tremaining: 4.4s\n",
      "30:\tlearn: 2184.8890727\ttotal: 1.69s\tremaining: 3.76s\n",
      "40:\tlearn: 2139.5367649\ttotal: 2.22s\tremaining: 3.2s\n",
      "50:\tlearn: 2110.0344361\ttotal: 2.74s\tremaining: 2.63s\n",
      "60:\tlearn: 2087.9609566\ttotal: 3.25s\tremaining: 2.08s\n",
      "70:\tlearn: 2066.1787885\ttotal: 3.76s\tremaining: 1.53s\n",
      "80:\tlearn: 2051.4518065\ttotal: 4.27s\tremaining: 1s\n",
      "90:\tlearn: 2036.8886813\ttotal: 4.78s\tremaining: 472ms\n",
      "99:\tlearn: 2024.9405864\ttotal: 5.27s\tremaining: 0us\n",
      "0:\tlearn: 4481.7916751\ttotal: 163ms\tremaining: 3.09s\n",
      "10:\tlearn: 4208.1235240\ttotal: 1.58s\tremaining: 1.29s\n",
      "19:\tlearn: 3987.2626633\ttotal: 2.83s\tremaining: 0us\n",
      "0:\tlearn: 4482.8981787\ttotal: 167ms\tremaining: 3.18s\n",
      "10:\tlearn: 4207.0056572\ttotal: 1.72s\tremaining: 1.41s\n",
      "19:\tlearn: 3986.2105076\ttotal: 3.17s\tremaining: 0us\n",
      "0:\tlearn: 4223.9890321\ttotal: 150ms\tremaining: 2.86s\n",
      "10:\tlearn: 2710.7959714\ttotal: 1.53s\tremaining: 1.25s\n",
      "19:\tlearn: 2284.8496700\ttotal: 2.88s\tremaining: 0us\n",
      "0:\tlearn: 4233.9277931\ttotal: 158ms\tremaining: 3s\n",
      "10:\tlearn: 2713.1911095\ttotal: 1.54s\tremaining: 1.26s\n",
      "19:\tlearn: 2287.1178081\ttotal: 2.79s\tremaining: 0us\n",
      "0:\tlearn: 3232.5958845\ttotal: 153ms\tremaining: 2.91s\n",
      "10:\tlearn: 2005.0775148\ttotal: 1.6s\tremaining: 1.31s\n",
      "19:\tlearn: 1931.4314948\ttotal: 2.83s\tremaining: 0us\n",
      "0:\tlearn: 3282.8920044\ttotal: 155ms\tremaining: 2.94s\n",
      "10:\tlearn: 2016.9679206\ttotal: 1.53s\tremaining: 1.25s\n",
      "19:\tlearn: 1927.0380535\ttotal: 2.74s\tremaining: 0us\n",
      "0:\tlearn: 4481.7916751\ttotal: 151ms\tremaining: 5.87s\n",
      "10:\tlearn: 4208.1235240\ttotal: 1.55s\tremaining: 4.1s\n",
      "20:\tlearn: 3963.9964831\ttotal: 2.92s\tremaining: 2.64s\n",
      "30:\tlearn: 3747.4480918\ttotal: 4.32s\tremaining: 1.25s\n",
      "39:\tlearn: 3576.3789667\ttotal: 5.54s\tremaining: 0us\n",
      "0:\tlearn: 4482.8981787\ttotal: 158ms\tremaining: 6.15s\n",
      "10:\tlearn: 4207.0056572\ttotal: 1.54s\tremaining: 4.05s\n",
      "20:\tlearn: 3963.1332794\ttotal: 2.91s\tremaining: 2.63s\n",
      "30:\tlearn: 3747.8806959\ttotal: 4.3s\tremaining: 1.25s\n",
      "39:\tlearn: 3575.7565089\ttotal: 5.55s\tremaining: 0us\n",
      "0:\tlearn: 4223.9890321\ttotal: 148ms\tremaining: 5.79s\n",
      "10:\tlearn: 2710.7959714\ttotal: 1.56s\tremaining: 4.12s\n",
      "20:\tlearn: 2260.6083603\ttotal: 2.94s\tremaining: 2.66s\n",
      "30:\tlearn: 2090.1341191\ttotal: 4.33s\tremaining: 1.26s\n",
      "39:\tlearn: 2030.7582228\ttotal: 5.53s\tremaining: 0us\n",
      "0:\tlearn: 4233.9277931\ttotal: 161ms\tremaining: 6.28s\n",
      "10:\tlearn: 2713.1911095\ttotal: 1.58s\tremaining: 4.16s\n",
      "20:\tlearn: 2259.3271399\ttotal: 3.02s\tremaining: 2.73s\n",
      "30:\tlearn: 2097.7304264\ttotal: 4.54s\tremaining: 1.32s\n",
      "39:\tlearn: 2034.0458672\ttotal: 5.74s\tremaining: 0us\n",
      "0:\tlearn: 3232.5958845\ttotal: 147ms\tremaining: 5.72s\n",
      "10:\tlearn: 2005.0775148\ttotal: 1.55s\tremaining: 4.09s\n",
      "20:\tlearn: 1926.7819953\ttotal: 2.89s\tremaining: 2.62s\n",
      "30:\tlearn: 1867.5389456\ttotal: 4.23s\tremaining: 1.23s\n",
      "39:\tlearn: 1833.2806416\ttotal: 5.46s\tremaining: 0us\n",
      "0:\tlearn: 3282.8920044\ttotal: 156ms\tremaining: 6.08s\n",
      "10:\tlearn: 2016.9679206\ttotal: 1.52s\tremaining: 4.02s\n",
      "20:\tlearn: 1920.0245101\ttotal: 2.88s\tremaining: 2.6s\n",
      "30:\tlearn: 1870.9513075\ttotal: 4.22s\tremaining: 1.23s\n",
      "39:\tlearn: 1829.4830280\ttotal: 5.42s\tremaining: 0us\n",
      "0:\tlearn: 4481.7916751\ttotal: 148ms\tremaining: 14.7s\n",
      "10:\tlearn: 4208.1235240\ttotal: 1.54s\tremaining: 12.5s\n",
      "20:\tlearn: 3963.9964831\ttotal: 2.91s\tremaining: 10.9s\n",
      "30:\tlearn: 3747.4480918\ttotal: 4.28s\tremaining: 9.53s\n",
      "40:\tlearn: 3558.2401691\ttotal: 5.7s\tremaining: 8.2s\n",
      "50:\tlearn: 3391.0221153\ttotal: 7.07s\tremaining: 6.79s\n",
      "60:\tlearn: 3245.3787411\ttotal: 8.46s\tremaining: 5.41s\n",
      "70:\tlearn: 3116.7973997\ttotal: 9.87s\tremaining: 4.03s\n",
      "80:\tlearn: 3004.3677755\ttotal: 11.3s\tremaining: 2.65s\n",
      "90:\tlearn: 2903.1779283\ttotal: 12.7s\tremaining: 1.25s\n",
      "99:\tlearn: 2821.5257826\ttotal: 13.9s\tremaining: 0us\n",
      "0:\tlearn: 4482.8981787\ttotal: 156ms\tremaining: 15.4s\n",
      "10:\tlearn: 4207.0056572\ttotal: 1.53s\tremaining: 12.4s\n",
      "20:\tlearn: 3963.1332794\ttotal: 2.89s\tremaining: 10.9s\n",
      "30:\tlearn: 3747.8806959\ttotal: 4.29s\tremaining: 9.54s\n",
      "40:\tlearn: 3558.0503756\ttotal: 5.67s\tremaining: 8.15s\n",
      "50:\tlearn: 3391.0770184\ttotal: 7.05s\tremaining: 6.78s\n",
      "60:\tlearn: 3243.1134650\ttotal: 8.46s\tremaining: 5.41s\n",
      "70:\tlearn: 3113.7836557\ttotal: 9.82s\tremaining: 4.01s\n",
      "80:\tlearn: 2999.8447697\ttotal: 11.4s\tremaining: 2.68s\n",
      "90:\tlearn: 2898.8296122\ttotal: 12.9s\tremaining: 1.28s\n",
      "99:\tlearn: 2818.6191310\ttotal: 14.2s\tremaining: 0us\n",
      "0:\tlearn: 4223.9890321\ttotal: 162ms\tremaining: 16s\n",
      "10:\tlearn: 2710.7959714\ttotal: 1.64s\tremaining: 13.3s\n",
      "20:\tlearn: 2260.6083603\ttotal: 3.04s\tremaining: 11.5s\n",
      "30:\tlearn: 2090.1341191\ttotal: 4.43s\tremaining: 9.87s\n",
      "40:\tlearn: 2025.7455840\ttotal: 5.84s\tremaining: 8.4s\n",
      "50:\tlearn: 1987.9298667\ttotal: 7.21s\tremaining: 6.93s\n",
      "60:\tlearn: 1964.3196690\ttotal: 8.58s\tremaining: 5.49s\n",
      "70:\tlearn: 1943.7847206\ttotal: 9.96s\tremaining: 4.07s\n",
      "80:\tlearn: 1922.8157331\ttotal: 11.3s\tremaining: 2.66s\n",
      "90:\tlearn: 1902.6062558\ttotal: 12.7s\tremaining: 1.26s\n",
      "99:\tlearn: 1890.8318921\ttotal: 14s\tremaining: 0us\n",
      "0:\tlearn: 4233.9277931\ttotal: 167ms\tremaining: 16.5s\n",
      "10:\tlearn: 2713.1911095\ttotal: 1.67s\tremaining: 13.5s\n",
      "20:\tlearn: 2259.3271399\ttotal: 3.1s\tremaining: 11.7s\n",
      "30:\tlearn: 2097.7304264\ttotal: 4.5s\tremaining: 10s\n",
      "40:\tlearn: 2028.5808266\ttotal: 5.93s\tremaining: 8.53s\n",
      "50:\tlearn: 1989.6559734\ttotal: 7.34s\tremaining: 7.05s\n",
      "60:\tlearn: 1962.5164645\ttotal: 8.73s\tremaining: 5.58s\n",
      "70:\tlearn: 1938.0180201\ttotal: 10.1s\tremaining: 4.13s\n",
      "80:\tlearn: 1916.7091034\ttotal: 11.4s\tremaining: 2.68s\n",
      "90:\tlearn: 1899.6525826\ttotal: 12.8s\tremaining: 1.26s\n",
      "99:\tlearn: 1887.6356072\ttotal: 14s\tremaining: 0us\n",
      "0:\tlearn: 3232.5958845\ttotal: 151ms\tremaining: 14.9s\n",
      "10:\tlearn: 2005.0775148\ttotal: 1.53s\tremaining: 12.4s\n",
      "20:\tlearn: 1926.7819953\ttotal: 2.87s\tremaining: 10.8s\n",
      "30:\tlearn: 1867.5389456\ttotal: 4.22s\tremaining: 9.4s\n",
      "40:\tlearn: 1830.1296038\ttotal: 5.65s\tremaining: 8.13s\n",
      "50:\tlearn: 1806.3625129\ttotal: 7.02s\tremaining: 6.74s\n",
      "60:\tlearn: 1784.1522326\ttotal: 8.44s\tremaining: 5.4s\n",
      "70:\tlearn: 1762.8141906\ttotal: 9.81s\tremaining: 4.01s\n",
      "80:\tlearn: 1744.3825931\ttotal: 11.2s\tremaining: 2.63s\n",
      "90:\tlearn: 1729.0392899\ttotal: 12.7s\tremaining: 1.25s\n",
      "99:\tlearn: 1719.3582382\ttotal: 13.9s\tremaining: 0us\n",
      "0:\tlearn: 3282.8920044\ttotal: 162ms\tremaining: 16.1s\n",
      "10:\tlearn: 2016.9679206\ttotal: 1.58s\tremaining: 12.8s\n",
      "20:\tlearn: 1920.0245101\ttotal: 2.94s\tremaining: 11.1s\n",
      "30:\tlearn: 1870.9513075\ttotal: 4.32s\tremaining: 9.62s\n",
      "40:\tlearn: 1826.7078626\ttotal: 5.67s\tremaining: 8.17s\n",
      "50:\tlearn: 1796.1112489\ttotal: 7.04s\tremaining: 6.76s\n",
      "60:\tlearn: 1775.1386446\ttotal: 8.4s\tremaining: 5.37s\n",
      "70:\tlearn: 1756.3664022\ttotal: 9.74s\tremaining: 3.98s\n",
      "80:\tlearn: 1738.8367628\ttotal: 11.1s\tremaining: 2.6s\n",
      "90:\tlearn: 1718.7801772\ttotal: 12.4s\tremaining: 1.23s\n",
      "99:\tlearn: 1705.7566515\ttotal: 13.7s\tremaining: 0us\n",
      "0:\tlearn: 4478.9918690\ttotal: 1.17s\tremaining: 22.3s\n",
      "10:\tlearn: 4181.0156002\ttotal: 11.7s\tremaining: 9.59s\n",
      "19:\tlearn: 3940.1084590\ttotal: 21.7s\tremaining: 0us\n",
      "0:\tlearn: 4479.0703363\ttotal: 1.13s\tremaining: 21.5s\n",
      "10:\tlearn: 4179.9401395\ttotal: 11.7s\tremaining: 9.55s\n",
      "19:\tlearn: 3940.2038693\ttotal: 21.6s\tremaining: 0us\n",
      "0:\tlearn: 4195.3117562\ttotal: 1.14s\tremaining: 21.6s\n",
      "10:\tlearn: 2526.8202442\ttotal: 12.7s\tremaining: 10.4s\n",
      "19:\tlearn: 2033.8274497\ttotal: 22.9s\tremaining: 0us\n",
      "0:\tlearn: 4194.8524917\ttotal: 1.13s\tremaining: 21.5s\n",
      "10:\tlearn: 2522.8366531\ttotal: 11.5s\tremaining: 9.39s\n",
      "19:\tlearn: 2029.3225530\ttotal: 21.6s\tremaining: 0us\n",
      "0:\tlearn: 3074.4567665\ttotal: 1.13s\tremaining: 21.5s\n",
      "10:\tlearn: 1678.3011017\ttotal: 13.1s\tremaining: 10.7s\n",
      "19:\tlearn: 1531.8316157\ttotal: 23.7s\tremaining: 0us\n",
      "0:\tlearn: 3071.6251848\ttotal: 1.19s\tremaining: 22.7s\n",
      "10:\tlearn: 1698.3947107\ttotal: 13.6s\tremaining: 11.1s\n",
      "19:\tlearn: 1528.0865399\ttotal: 23.9s\tremaining: 0us\n",
      "0:\tlearn: 4478.9918690\ttotal: 1.35s\tremaining: 52.7s\n",
      "10:\tlearn: 4181.0156002\ttotal: 12.3s\tremaining: 32.5s\n",
      "20:\tlearn: 3914.5751313\ttotal: 26.2s\tremaining: 23.7s\n",
      "30:\tlearn: 3678.4187323\ttotal: 38.8s\tremaining: 11.3s\n",
      "39:\tlearn: 3490.2434791\ttotal: 49.1s\tremaining: 0us\n",
      "0:\tlearn: 4479.0703363\ttotal: 1.21s\tremaining: 47s\n",
      "10:\tlearn: 4179.9401395\ttotal: 12.3s\tremaining: 32.4s\n",
      "20:\tlearn: 3914.9668171\ttotal: 23.7s\tremaining: 21.4s\n",
      "30:\tlearn: 3677.3655106\ttotal: 35.6s\tremaining: 10.3s\n",
      "39:\tlearn: 3487.8848655\ttotal: 45.9s\tremaining: 0us\n",
      "0:\tlearn: 4195.3117562\ttotal: 1.22s\tremaining: 47.7s\n",
      "10:\tlearn: 2526.8202442\ttotal: 13.7s\tremaining: 36.2s\n",
      "20:\tlearn: 2002.0164042\ttotal: 26.1s\tremaining: 23.6s\n",
      "30:\tlearn: 1809.8743014\ttotal: 38.1s\tremaining: 11s\n",
      "39:\tlearn: 1722.0819026\ttotal: 49.2s\tremaining: 0us\n",
      "0:\tlearn: 4194.8524917\ttotal: 1.21s\tremaining: 47.1s\n",
      "10:\tlearn: 2522.8366531\ttotal: 12.2s\tremaining: 32.1s\n",
      "20:\tlearn: 1999.5174304\ttotal: 24.4s\tremaining: 22.1s\n",
      "30:\tlearn: 1807.7773543\ttotal: 36.8s\tremaining: 10.7s\n",
      "39:\tlearn: 1728.7862251\ttotal: 47.5s\tremaining: 0us\n",
      "0:\tlearn: 3074.4567665\ttotal: 1.2s\tremaining: 46.8s\n",
      "10:\tlearn: 1678.3011017\ttotal: 13.4s\tremaining: 35.4s\n",
      "20:\tlearn: 1518.6527479\ttotal: 25.1s\tremaining: 22.7s\n",
      "30:\tlearn: 1369.6823771\ttotal: 35.8s\tremaining: 10.4s\n",
      "39:\tlearn: 1292.4145038\ttotal: 46.2s\tremaining: 0us\n",
      "0:\tlearn: 3071.6251848\ttotal: 1.18s\tremaining: 45.9s\n",
      "10:\tlearn: 1698.3947107\ttotal: 12.8s\tremaining: 33.6s\n",
      "20:\tlearn: 1512.6880975\ttotal: 24.3s\tremaining: 22s\n",
      "30:\tlearn: 1363.1399498\ttotal: 36.7s\tremaining: 10.7s\n",
      "39:\tlearn: 1260.9162495\ttotal: 47.1s\tremaining: 0us\n",
      "0:\tlearn: 4478.9918690\ttotal: 1.21s\tremaining: 1m 59s\n",
      "10:\tlearn: 4181.0156002\ttotal: 11.5s\tremaining: 1m 33s\n",
      "20:\tlearn: 3914.5751313\ttotal: 22.7s\tremaining: 1m 25s\n",
      "30:\tlearn: 3678.4187323\ttotal: 33.9s\tremaining: 1m 15s\n",
      "40:\tlearn: 3470.9762910\ttotal: 44.4s\tremaining: 1m 3s\n",
      "50:\tlearn: 3287.0375047\ttotal: 55.8s\tremaining: 53.6s\n",
      "60:\tlearn: 3125.6940191\ttotal: 1m 7s\tremaining: 43.1s\n",
      "70:\tlearn: 2982.6364722\ttotal: 1m 19s\tremaining: 32.3s\n",
      "80:\tlearn: 2854.3096504\ttotal: 1m 30s\tremaining: 21.3s\n",
      "90:\tlearn: 2742.1457042\ttotal: 1m 42s\tremaining: 10.1s\n",
      "99:\tlearn: 2652.9959184\ttotal: 1m 53s\tremaining: 0us\n",
      "0:\tlearn: 4479.0703363\ttotal: 1.13s\tremaining: 1m 52s\n",
      "10:\tlearn: 4179.9401395\ttotal: 11.8s\tremaining: 1m 35s\n",
      "20:\tlearn: 3914.9668171\ttotal: 22.7s\tremaining: 1m 25s\n",
      "30:\tlearn: 3677.3655106\ttotal: 33.9s\tremaining: 1m 15s\n",
      "40:\tlearn: 3468.0713900\ttotal: 44.8s\tremaining: 1m 4s\n",
      "50:\tlearn: 3283.9963631\ttotal: 56.5s\tremaining: 54.3s\n",
      "60:\tlearn: 3120.7236859\ttotal: 1m 8s\tremaining: 43.5s\n",
      "70:\tlearn: 2976.9038994\ttotal: 1m 19s\tremaining: 32.5s\n",
      "80:\tlearn: 2850.7513473\ttotal: 1m 30s\tremaining: 21.3s\n",
      "90:\tlearn: 2738.4240932\ttotal: 1m 42s\tremaining: 10.1s\n",
      "99:\tlearn: 2650.0376541\ttotal: 1m 52s\tremaining: 0us\n",
      "0:\tlearn: 4195.3117562\ttotal: 1.12s\tremaining: 1m 51s\n",
      "10:\tlearn: 2526.8202442\ttotal: 12.3s\tremaining: 1m 39s\n",
      "20:\tlearn: 2002.0164042\ttotal: 23.4s\tremaining: 1m 28s\n",
      "30:\tlearn: 1809.8743014\ttotal: 34.6s\tremaining: 1m 17s\n",
      "40:\tlearn: 1713.5240786\ttotal: 45.8s\tremaining: 1m 5s\n",
      "50:\tlearn: 1659.1104821\ttotal: 57.6s\tremaining: 55.3s\n",
      "60:\tlearn: 1611.4447028\ttotal: 1m 8s\tremaining: 43.6s\n",
      "70:\tlearn: 1562.4951246\ttotal: 1m 20s\tremaining: 32.9s\n",
      "80:\tlearn: 1524.6727874\ttotal: 1m 32s\tremaining: 21.6s\n",
      "90:\tlearn: 1492.4940365\ttotal: 1m 43s\tremaining: 10.3s\n",
      "99:\tlearn: 1465.7135770\ttotal: 1m 53s\tremaining: 0us\n",
      "0:\tlearn: 4194.8524917\ttotal: 1.22s\tremaining: 2m 1s\n",
      "10:\tlearn: 2522.8366531\ttotal: 11.8s\tremaining: 1m 35s\n",
      "20:\tlearn: 1999.5174304\ttotal: 23.1s\tremaining: 1m 27s\n",
      "30:\tlearn: 1807.7773543\ttotal: 34.6s\tremaining: 1m 16s\n",
      "40:\tlearn: 1720.9030540\ttotal: 46s\tremaining: 1m 6s\n",
      "50:\tlearn: 1672.1507503\ttotal: 57.2s\tremaining: 55s\n",
      "60:\tlearn: 1628.6309650\ttotal: 1m 8s\tremaining: 43.7s\n",
      "70:\tlearn: 1590.1792286\ttotal: 1m 19s\tremaining: 32.6s\n",
      "80:\tlearn: 1554.1168818\ttotal: 1m 31s\tremaining: 21.4s\n",
      "90:\tlearn: 1522.7802616\ttotal: 1m 43s\tremaining: 10.2s\n",
      "99:\tlearn: 1494.1213091\ttotal: 1m 53s\tremaining: 0us\n",
      "0:\tlearn: 3074.4567665\ttotal: 1.15s\tremaining: 1m 53s\n",
      "10:\tlearn: 1678.3011017\ttotal: 13s\tremaining: 1m 45s\n",
      "20:\tlearn: 1518.6527479\ttotal: 24.5s\tremaining: 1m 32s\n",
      "30:\tlearn: 1369.6823771\ttotal: 34.9s\tremaining: 1m 17s\n",
      "40:\tlearn: 1284.0719581\ttotal: 46.4s\tremaining: 1m 6s\n",
      "50:\tlearn: 1194.3477725\ttotal: 57.8s\tremaining: 55.5s\n",
      "60:\tlearn: 1117.1944190\ttotal: 1m 9s\tremaining: 44.3s\n",
      "70:\tlearn: 1057.1336472\ttotal: 1m 20s\tremaining: 32.9s\n",
      "80:\tlearn: 1001.7580026\ttotal: 1m 31s\tremaining: 21.5s\n",
      "90:\tlearn: 954.8175571\ttotal: 1m 43s\tremaining: 10.2s\n",
      "99:\tlearn: 917.5135067\ttotal: 1m 54s\tremaining: 0us\n",
      "0:\tlearn: 3071.6251848\ttotal: 1.12s\tremaining: 1m 50s\n",
      "10:\tlearn: 1698.3947107\ttotal: 12.6s\tremaining: 1m 42s\n",
      "20:\tlearn: 1512.6880975\ttotal: 24s\tremaining: 1m 30s\n",
      "30:\tlearn: 1363.1399498\ttotal: 35.4s\tremaining: 1m 18s\n",
      "40:\tlearn: 1251.2127664\ttotal: 46.9s\tremaining: 1m 7s\n",
      "50:\tlearn: 1161.1464238\ttotal: 58.4s\tremaining: 56.1s\n",
      "60:\tlearn: 1091.5215340\ttotal: 1m 10s\tremaining: 44.9s\n",
      "70:\tlearn: 1028.9351458\ttotal: 1m 21s\tremaining: 33.3s\n",
      "80:\tlearn: 982.9229118\ttotal: 1m 33s\tremaining: 21.9s\n",
      "90:\tlearn: 939.6045962\ttotal: 1m 45s\tremaining: 10.4s\n",
      "99:\tlearn: 902.3170723\ttotal: 1m 55s\tremaining: 0us\n",
      "0:\tlearn: 4199.2278110\ttotal: 1.55s\tremaining: 2m 33s\n",
      "10:\tlearn: 2510.0722953\ttotal: 16.6s\tremaining: 2m 14s\n",
      "20:\tlearn: 2005.2960254\ttotal: 31s\tremaining: 1m 56s\n",
      "30:\tlearn: 1829.3403554\ttotal: 45.6s\tremaining: 1m 41s\n",
      "40:\tlearn: 1751.6215069\ttotal: 1m\tremaining: 1m 27s\n",
      "50:\tlearn: 1703.0048001\ttotal: 1m 15s\tremaining: 1m 12s\n",
      "60:\tlearn: 1667.1846322\ttotal: 1m 30s\tremaining: 58.1s\n",
      "70:\tlearn: 1634.3649786\ttotal: 1m 45s\tremaining: 43.3s\n",
      "80:\tlearn: 1602.2877526\ttotal: 2m 1s\tremaining: 28.4s\n",
      "90:\tlearn: 1571.2486488\ttotal: 2m 17s\tremaining: 13.6s\n",
      "99:\tlearn: 1543.3806502\ttotal: 2m 31s\tremaining: 0us\n",
      "Лучшая модель <catboost.core.CatBoostRegressor object at 0x7fb34850fe50>\n",
      "Качество -1804.065410944886\n",
      "Лучшие параметры {'depth': 15, 'iterations': 100, 'learning_rate': 0.1}\n",
      "CPU times: user 20min 4s, sys: 4min 2s, total: 24min 7s\n",
      "Wall time: 25min 24s\n"
     ]
    }
   ],
   "source": [
    "%%time\n",
    "print('Обучение...')\n",
    "grid_cbr.fit(features_train_cbr, target_train_cbr, cat_features=cat_features, verbose=10)\n",
    "print(\"Лучшая модель\",grid_cbr.best_estimator_)\n",
    "print(\"Качество\",grid_cbr.best_score_)\n",
    "print(\"Лучшие параметры\",grid_cbr.best_params_)"
   ]
  },
  {
   "cell_type": "code",
   "execution_count": 62,
   "metadata": {},
   "outputs": [
    {
     "name": "stdout",
     "output_type": "stream",
     "text": [
      "Расчет...\n",
      "RMSE 1768.0143886143078\n",
      "CPU times: user 204 ms, sys: 0 ns, total: 204 ms\n",
      "Wall time: 202 ms\n"
     ]
    }
   ],
   "source": [
    "%%time\n",
    "print('Расчет...')\n",
    "predict_valid_cbr = grid_cbr.predict(features_valid_cbr)\n",
    "print('RMSE', mean_squared_error(target_valid_cbr, predict_valid_cbr, squared= False))"
   ]
  },
  {
   "cell_type": "markdown",
   "metadata": {},
   "source": [
    "\n",
    "- Качество -1804.065410944886\n",
    "-  Лучшие параметры depth': 15, \n",
    "- iterations: 100, \n",
    "- learning_rate: 0.1\n",
    "\n",
    "- Wall time: 25min 39s"
   ]
  },
  {
   "cell_type": "markdown",
   "metadata": {},
   "source": [
    "Модель LGBMRegressor\n",
    "модель CatBoostRegressor"
   ]
  },
  {
   "cell_type": "code",
   "execution_count": 63,
   "metadata": {},
   "outputs": [
    {
     "data": {
      "text/html": [
       "<div>\n",
       "<style scoped>\n",
       "    .dataframe tbody tr th:only-of-type {\n",
       "        vertical-align: middle;\n",
       "    }\n",
       "\n",
       "    .dataframe tbody tr th {\n",
       "        vertical-align: top;\n",
       "    }\n",
       "\n",
       "    .dataframe thead th {\n",
       "        text-align: right;\n",
       "    }\n",
       "</style>\n",
       "<table border=\"1\" class=\"dataframe\">\n",
       "  <thead>\n",
       "    <tr style=\"text-align: right;\">\n",
       "      <th></th>\n",
       "      <th>Точночть</th>\n",
       "      <th>время обучения</th>\n",
       "      <th>время расчета</th>\n",
       "    </tr>\n",
       "  </thead>\n",
       "  <tbody>\n",
       "    <tr>\n",
       "      <th>LGBMRegressor</th>\n",
       "      <td>-1811.4179</td>\n",
       "      <td>1h 48s</td>\n",
       "      <td>768 ms</td>\n",
       "    </tr>\n",
       "    <tr>\n",
       "      <th>CatBoostRegressor</th>\n",
       "      <td>-1804.0654</td>\n",
       "      <td>25min 24s</td>\n",
       "      <td>202 ms</td>\n",
       "    </tr>\n",
       "  </tbody>\n",
       "</table>\n",
       "</div>"
      ],
      "text/plain": [
       "                     Точночть время обучения время расчета\n",
       "LGBMRegressor      -1811.4179         1h 48s        768 ms\n",
       "CatBoostRegressor  -1804.0654      25min 24s        202 ms"
      ]
     },
     "metadata": {},
     "output_type": "display_data"
    }
   ],
   "source": [
    "result=pd.DataFrame([{'Точночть':'-1811.4179', 'время обучения':'1h 48s', 'время расчета':'768 ms'}\n",
    "                     , {'Точночть':'-1804.0654', 'время обучения':'25min 24s', 'время расчета':'202 ms'}],\n",
    "                    index=['LGBMRegressor', 'CatBoostRegressor'])\n",
    "display(result)"
   ]
  },
  {
   "cell_type": "markdown",
   "metadata": {},
   "source": [
    "**вывод**\n",
    "Мы проверили три модели расчета вероятной стоимости автомомбиля и выяснили что модель Случайного леса наиболее точная.\n",
    "Однако проверив работу алгоритма путем градиентного бустинга  Мы выяснили что работа алгоритма `LGBMRegressor` дает лучший результат и по точности и по времени расчета. Его и предлагаем в качестве модели расчета стоимости.\n",
    "\n",
    "\n",
    "Модель `LGBMRegressor` показала лучший результат качества и время работы модели быстрее чем `CatBoostRegressor`.\n",
    "С параметрами: \n",
    "\n",
    "depth': 15,\n",
    "\n",
    "iterations: 100,\n",
    "\n",
    "learning_rate: 0.1\n",
    "\n",
    "эта модель будет давать наиболее точные предсказания стоимости.\n",
    "\n"
   ]
  },
  {
   "cell_type": "code",
   "execution_count": null,
   "metadata": {},
   "outputs": [],
   "source": []
  }
 ],
 "metadata": {
  "ExecuteTimeLog": [
   {
    "duration": 148,
    "start_time": "2022-05-08T08:42:58.714Z"
   },
   {
    "duration": 577,
    "start_time": "2022-05-08T08:43:23.097Z"
   },
   {
    "duration": 13,
    "start_time": "2022-05-08T08:43:30.065Z"
   },
   {
    "duration": 1177,
    "start_time": "2022-05-08T08:45:02.217Z"
   },
   {
    "duration": 1235,
    "start_time": "2022-05-08T08:45:10.012Z"
   },
   {
    "duration": 1162,
    "start_time": "2022-05-08T08:45:22.384Z"
   },
   {
    "duration": 1198,
    "start_time": "2022-05-08T08:45:31.735Z"
   },
   {
    "duration": 1461,
    "start_time": "2022-05-08T08:47:21.329Z"
   },
   {
    "duration": 8,
    "start_time": "2022-05-08T08:49:48.023Z"
   },
   {
    "duration": 85,
    "start_time": "2022-05-08T08:50:36.939Z"
   },
   {
    "duration": 49,
    "start_time": "2022-05-10T06:57:43.415Z"
   },
   {
    "duration": 1399,
    "start_time": "2022-05-10T06:57:48.404Z"
   },
   {
    "duration": 14,
    "start_time": "2022-05-10T06:57:49.805Z"
   },
   {
    "duration": 5,
    "start_time": "2022-05-10T06:57:49.821Z"
   },
   {
    "duration": 22,
    "start_time": "2022-05-10T06:59:09.788Z"
   },
   {
    "duration": 73,
    "start_time": "2022-05-10T07:01:13.686Z"
   },
   {
    "duration": 8,
    "start_time": "2022-05-10T07:01:40.688Z"
   },
   {
    "duration": 8,
    "start_time": "2022-05-10T07:01:51.748Z"
   },
   {
    "duration": 8,
    "start_time": "2022-05-10T07:02:13.823Z"
   },
   {
    "duration": 40,
    "start_time": "2022-05-10T07:05:12.627Z"
   },
   {
    "duration": 44,
    "start_time": "2022-05-10T07:05:31.478Z"
   },
   {
    "duration": 54,
    "start_time": "2022-05-10T07:06:06.673Z"
   },
   {
    "duration": 66,
    "start_time": "2022-05-10T07:10:21.668Z"
   },
   {
    "duration": 33,
    "start_time": "2022-05-10T07:10:55.648Z"
   },
   {
    "duration": 19,
    "start_time": "2022-05-10T07:11:10.482Z"
   },
   {
    "duration": 18,
    "start_time": "2022-05-10T07:11:25.767Z"
   },
   {
    "duration": 106,
    "start_time": "2022-05-10T07:11:36.382Z"
   },
   {
    "duration": 109,
    "start_time": "2022-05-10T07:11:53.894Z"
   },
   {
    "duration": 24,
    "start_time": "2022-05-10T07:12:03.030Z"
   },
   {
    "duration": 18,
    "start_time": "2022-05-10T07:14:05.929Z"
   },
   {
    "duration": 7,
    "start_time": "2022-05-10T07:14:16.374Z"
   },
   {
    "duration": 18,
    "start_time": "2022-05-10T07:14:34.684Z"
   },
   {
    "duration": 8,
    "start_time": "2022-05-10T07:15:59.219Z"
   },
   {
    "duration": 17,
    "start_time": "2022-05-10T07:16:04.905Z"
   },
   {
    "duration": 35,
    "start_time": "2022-05-10T07:17:46.051Z"
   },
   {
    "duration": 57,
    "start_time": "2022-05-10T07:20:16.709Z"
   },
   {
    "duration": 17,
    "start_time": "2022-05-10T07:21:21.687Z"
   },
   {
    "duration": 18,
    "start_time": "2022-05-10T07:21:32.017Z"
   },
   {
    "duration": 49,
    "start_time": "2022-05-10T07:22:14.683Z"
   },
   {
    "duration": 3,
    "start_time": "2022-05-10T07:38:36.570Z"
   },
   {
    "duration": 64,
    "start_time": "2022-05-10T07:38:46.392Z"
   },
   {
    "duration": 35,
    "start_time": "2022-05-10T07:39:36.153Z"
   },
   {
    "duration": 9,
    "start_time": "2022-05-10T07:57:35.542Z"
   },
   {
    "duration": 54,
    "start_time": "2022-05-10T07:57:57.654Z"
   },
   {
    "duration": 72,
    "start_time": "2022-05-10T07:58:04.367Z"
   },
   {
    "duration": 551,
    "start_time": "2022-05-10T07:58:18.869Z"
   },
   {
    "duration": 571,
    "start_time": "2022-05-10T07:58:31.886Z"
   },
   {
    "duration": 37,
    "start_time": "2022-05-10T07:58:49.606Z"
   },
   {
    "duration": 552,
    "start_time": "2022-05-10T08:01:27.660Z"
   },
   {
    "duration": 258,
    "start_time": "2022-05-10T08:01:40.124Z"
   },
   {
    "duration": 169,
    "start_time": "2022-05-10T08:02:06.594Z"
   },
   {
    "duration": 679,
    "start_time": "2022-05-10T08:02:14.302Z"
   },
   {
    "duration": 229,
    "start_time": "2022-05-10T08:02:23.158Z"
   },
   {
    "duration": 230,
    "start_time": "2022-05-10T08:03:21.038Z"
   },
   {
    "duration": 308,
    "start_time": "2022-05-10T08:03:50.948Z"
   },
   {
    "duration": 228,
    "start_time": "2022-05-10T08:04:05.269Z"
   },
   {
    "duration": 207,
    "start_time": "2022-05-10T08:04:19.088Z"
   },
   {
    "duration": 991,
    "start_time": "2022-05-10T08:09:08.271Z"
   },
   {
    "duration": 131,
    "start_time": "2022-05-10T08:09:32.770Z"
   },
   {
    "duration": 192,
    "start_time": "2022-05-10T08:11:20.479Z"
   },
   {
    "duration": 193,
    "start_time": "2022-05-10T08:11:55.328Z"
   },
   {
    "duration": 224,
    "start_time": "2022-05-10T08:12:02.183Z"
   },
   {
    "duration": 162,
    "start_time": "2022-05-10T08:12:12.230Z"
   },
   {
    "duration": 126,
    "start_time": "2022-05-10T08:12:37.821Z"
   },
   {
    "duration": 160,
    "start_time": "2022-05-10T08:12:50.179Z"
   },
   {
    "duration": 295,
    "start_time": "2022-05-10T08:14:38.779Z"
   },
   {
    "duration": 233,
    "start_time": "2022-05-10T08:15:00.539Z"
   },
   {
    "duration": 207,
    "start_time": "2022-05-10T08:15:18.299Z"
   },
   {
    "duration": 204,
    "start_time": "2022-05-10T08:23:42.531Z"
   },
   {
    "duration": 232,
    "start_time": "2022-05-10T08:25:49.151Z"
   },
   {
    "duration": 369,
    "start_time": "2022-05-10T08:26:00.391Z"
   },
   {
    "duration": 218,
    "start_time": "2022-05-10T08:26:51.413Z"
   },
   {
    "duration": 9,
    "start_time": "2022-05-10T09:38:38.202Z"
   },
   {
    "duration": 11,
    "start_time": "2022-05-10T09:38:58.660Z"
   },
   {
    "duration": 11,
    "start_time": "2022-05-10T09:39:13.636Z"
   },
   {
    "duration": 13,
    "start_time": "2022-05-10T09:39:33.372Z"
   },
   {
    "duration": 11,
    "start_time": "2022-05-10T09:39:40.614Z"
   },
   {
    "duration": 9,
    "start_time": "2022-05-10T09:40:07.915Z"
   },
   {
    "duration": 10,
    "start_time": "2022-05-10T09:40:31.882Z"
   },
   {
    "duration": 11,
    "start_time": "2022-05-10T09:41:39.316Z"
   },
   {
    "duration": 137,
    "start_time": "2022-05-10T09:41:53.669Z"
   },
   {
    "duration": 8,
    "start_time": "2022-05-10T09:42:14.355Z"
   },
   {
    "duration": 8,
    "start_time": "2022-05-10T09:43:00.311Z"
   },
   {
    "duration": 5,
    "start_time": "2022-05-10T09:44:59.735Z"
   },
   {
    "duration": 10,
    "start_time": "2022-05-10T09:48:31.609Z"
   },
   {
    "duration": 10,
    "start_time": "2022-05-10T09:49:10.481Z"
   },
   {
    "duration": 10,
    "start_time": "2022-05-10T09:49:45.708Z"
   },
   {
    "duration": 38,
    "start_time": "2022-05-10T09:50:22.550Z"
   },
   {
    "duration": 31,
    "start_time": "2022-05-10T09:50:55.050Z"
   },
   {
    "duration": 1724,
    "start_time": "2022-05-10T09:51:20.317Z"
   },
   {
    "duration": 15,
    "start_time": "2022-05-10T09:51:22.043Z"
   },
   {
    "duration": 24,
    "start_time": "2022-05-10T09:51:22.059Z"
   },
   {
    "duration": 73,
    "start_time": "2022-05-10T09:51:22.085Z"
   },
   {
    "duration": 23,
    "start_time": "2022-05-10T09:51:22.160Z"
   },
   {
    "duration": 53,
    "start_time": "2022-05-10T09:51:22.184Z"
   },
   {
    "duration": 57,
    "start_time": "2022-05-10T09:51:22.239Z"
   },
   {
    "duration": 46,
    "start_time": "2022-05-10T09:51:22.297Z"
   },
   {
    "duration": 240,
    "start_time": "2022-05-10T09:51:22.345Z"
   },
   {
    "duration": 231,
    "start_time": "2022-05-10T09:51:22.587Z"
   },
   {
    "duration": 44,
    "start_time": "2022-05-10T09:51:22.820Z"
   },
   {
    "duration": 22,
    "start_time": "2022-05-10T09:51:46.149Z"
   },
   {
    "duration": 1658,
    "start_time": "2022-05-10T09:51:50.410Z"
   },
   {
    "duration": 14,
    "start_time": "2022-05-10T09:51:52.070Z"
   },
   {
    "duration": 24,
    "start_time": "2022-05-10T09:51:52.086Z"
   },
   {
    "duration": 78,
    "start_time": "2022-05-10T09:51:52.112Z"
   },
   {
    "duration": 18,
    "start_time": "2022-05-10T09:51:52.192Z"
   },
   {
    "duration": 66,
    "start_time": "2022-05-10T09:51:52.212Z"
   },
   {
    "duration": 46,
    "start_time": "2022-05-10T09:51:52.280Z"
   },
   {
    "duration": 53,
    "start_time": "2022-05-10T09:51:52.328Z"
   },
   {
    "duration": 244,
    "start_time": "2022-05-10T09:51:52.383Z"
   },
   {
    "duration": 232,
    "start_time": "2022-05-10T09:51:52.629Z"
   },
   {
    "duration": 39,
    "start_time": "2022-05-10T09:51:52.863Z"
   },
   {
    "duration": 1663,
    "start_time": "2022-05-10T09:52:46.169Z"
   },
   {
    "duration": 23,
    "start_time": "2022-05-10T09:52:47.834Z"
   },
   {
    "duration": 23,
    "start_time": "2022-05-10T09:52:47.859Z"
   },
   {
    "duration": 57,
    "start_time": "2022-05-10T09:52:47.884Z"
   },
   {
    "duration": 18,
    "start_time": "2022-05-10T09:52:47.954Z"
   },
   {
    "duration": 54,
    "start_time": "2022-05-10T09:52:47.973Z"
   },
   {
    "duration": 65,
    "start_time": "2022-05-10T09:52:48.029Z"
   },
   {
    "duration": 37,
    "start_time": "2022-05-10T09:52:48.096Z"
   },
   {
    "duration": 252,
    "start_time": "2022-05-10T09:52:48.134Z"
   },
   {
    "duration": 231,
    "start_time": "2022-05-10T09:52:48.388Z"
   },
   {
    "duration": 20,
    "start_time": "2022-05-10T09:52:48.621Z"
   },
   {
    "duration": 20,
    "start_time": "2022-05-10T09:53:03.241Z"
   },
   {
    "duration": 37,
    "start_time": "2022-05-10T09:53:29.717Z"
   },
   {
    "duration": 619,
    "start_time": "2022-05-10T10:07:40.792Z"
   },
   {
    "duration": 1651,
    "start_time": "2022-05-10T10:07:50.409Z"
   },
   {
    "duration": 13,
    "start_time": "2022-05-10T10:07:52.062Z"
   },
   {
    "duration": 36,
    "start_time": "2022-05-10T10:07:52.076Z"
   },
   {
    "duration": 55,
    "start_time": "2022-05-10T10:07:52.114Z"
   },
   {
    "duration": 17,
    "start_time": "2022-05-10T10:07:52.171Z"
   },
   {
    "duration": 67,
    "start_time": "2022-05-10T10:07:52.190Z"
   },
   {
    "duration": 47,
    "start_time": "2022-05-10T10:07:52.259Z"
   },
   {
    "duration": 54,
    "start_time": "2022-05-10T10:07:52.307Z"
   },
   {
    "duration": 232,
    "start_time": "2022-05-10T10:07:52.363Z"
   },
   {
    "duration": 223,
    "start_time": "2022-05-10T10:07:52.596Z"
   },
   {
    "duration": 300,
    "start_time": "2022-05-10T10:07:52.821Z"
   },
   {
    "duration": 1778,
    "start_time": "2022-05-10T10:11:57.128Z"
   },
   {
    "duration": 15,
    "start_time": "2022-05-10T10:11:58.908Z"
   },
   {
    "duration": 44,
    "start_time": "2022-05-10T10:11:58.924Z"
   },
   {
    "duration": 80,
    "start_time": "2022-05-10T10:11:58.969Z"
   },
   {
    "duration": 18,
    "start_time": "2022-05-10T10:11:59.051Z"
   },
   {
    "duration": 63,
    "start_time": "2022-05-10T10:11:59.070Z"
   },
   {
    "duration": 47,
    "start_time": "2022-05-10T10:11:59.135Z"
   },
   {
    "duration": 59,
    "start_time": "2022-05-10T10:11:59.184Z"
   },
   {
    "duration": 248,
    "start_time": "2022-05-10T10:11:59.245Z"
   },
   {
    "duration": 273,
    "start_time": "2022-05-10T10:11:59.495Z"
   },
   {
    "duration": 132817,
    "start_time": "2022-05-10T10:11:59.770Z"
   },
   {
    "duration": 455111,
    "start_time": "2022-05-10T10:14:43.486Z"
   },
   {
    "duration": 116,
    "start_time": "2022-05-10T10:46:59.604Z"
   },
   {
    "duration": 664,
    "start_time": "2022-05-10T10:47:09.218Z"
   },
   {
    "duration": 1983,
    "start_time": "2022-05-10T10:48:26.588Z"
   },
   {
    "duration": 25,
    "start_time": "2022-05-10T10:48:28.574Z"
   },
   {
    "duration": 54,
    "start_time": "2022-05-10T10:48:28.602Z"
   },
   {
    "duration": 68,
    "start_time": "2022-05-10T10:48:28.658Z"
   },
   {
    "duration": 34,
    "start_time": "2022-05-10T10:48:28.728Z"
   },
   {
    "duration": 111,
    "start_time": "2022-05-10T10:48:28.764Z"
   },
   {
    "duration": 59,
    "start_time": "2022-05-10T10:48:28.877Z"
   },
   {
    "duration": 61,
    "start_time": "2022-05-10T10:48:28.954Z"
   },
   {
    "duration": 296,
    "start_time": "2022-05-10T10:48:29.017Z"
   },
   {
    "duration": 278,
    "start_time": "2022-05-10T10:48:29.314Z"
   },
   {
    "duration": 725,
    "start_time": "2022-05-10T10:48:29.593Z"
   },
   {
    "duration": 509,
    "start_time": "2022-05-10T10:50:10.743Z"
   },
   {
    "duration": 2418,
    "start_time": "2022-05-10T10:51:20.998Z"
   },
   {
    "duration": 44,
    "start_time": "2022-05-10T10:51:23.419Z"
   },
   {
    "duration": 39,
    "start_time": "2022-05-10T10:51:23.466Z"
   },
   {
    "duration": 100,
    "start_time": "2022-05-10T10:51:23.508Z"
   },
   {
    "duration": 44,
    "start_time": "2022-05-10T10:51:23.611Z"
   },
   {
    "duration": 73,
    "start_time": "2022-05-10T10:51:23.657Z"
   },
   {
    "duration": 72,
    "start_time": "2022-05-10T10:51:23.732Z"
   },
   {
    "duration": 63,
    "start_time": "2022-05-10T10:51:23.806Z"
   },
   {
    "duration": 415,
    "start_time": "2022-05-10T10:51:23.872Z"
   },
   {
    "duration": 303,
    "start_time": "2022-05-10T10:51:24.289Z"
   },
   {
    "duration": 2559,
    "start_time": "2022-05-10T10:54:07.307Z"
   },
   {
    "duration": 18,
    "start_time": "2022-05-10T10:54:09.869Z"
   },
   {
    "duration": 31,
    "start_time": "2022-05-10T10:54:09.889Z"
   },
   {
    "duration": 82,
    "start_time": "2022-05-10T10:54:09.922Z"
   },
   {
    "duration": 19,
    "start_time": "2022-05-10T10:54:10.007Z"
   },
   {
    "duration": 82,
    "start_time": "2022-05-10T10:54:10.028Z"
   },
   {
    "duration": 66,
    "start_time": "2022-05-10T10:54:10.112Z"
   },
   {
    "duration": 41,
    "start_time": "2022-05-10T10:54:10.180Z"
   },
   {
    "duration": 424,
    "start_time": "2022-05-10T10:54:10.223Z"
   },
   {
    "duration": 263,
    "start_time": "2022-05-10T10:54:10.649Z"
   },
   {
    "duration": 523225,
    "start_time": "2022-05-10T10:56:58.779Z"
   },
   {
    "duration": 194,
    "start_time": "2022-05-10T12:06:55.960Z"
   },
   {
    "duration": 2525,
    "start_time": "2022-05-10T12:07:01.802Z"
   },
   {
    "duration": 31,
    "start_time": "2022-05-10T12:07:04.330Z"
   },
   {
    "duration": 37,
    "start_time": "2022-05-10T12:07:04.363Z"
   },
   {
    "duration": 78,
    "start_time": "2022-05-10T12:07:04.403Z"
   },
   {
    "duration": 22,
    "start_time": "2022-05-10T12:07:04.483Z"
   },
   {
    "duration": 131,
    "start_time": "2022-05-10T12:07:04.507Z"
   },
   {
    "duration": 89,
    "start_time": "2022-05-10T12:07:04.640Z"
   },
   {
    "duration": 90,
    "start_time": "2022-05-10T12:07:04.731Z"
   },
   {
    "duration": 429,
    "start_time": "2022-05-10T12:07:04.823Z"
   },
   {
    "duration": 414,
    "start_time": "2022-05-10T12:07:05.256Z"
   },
   {
    "duration": 127,
    "start_time": "2022-05-10T12:07:05.672Z"
   },
   {
    "duration": 2474,
    "start_time": "2022-05-10T12:07:59.705Z"
   },
   {
    "duration": 22,
    "start_time": "2022-05-10T12:08:02.182Z"
   },
   {
    "duration": 48,
    "start_time": "2022-05-10T12:08:02.206Z"
   },
   {
    "duration": 72,
    "start_time": "2022-05-10T12:08:02.257Z"
   },
   {
    "duration": 24,
    "start_time": "2022-05-10T12:08:02.331Z"
   },
   {
    "duration": 100,
    "start_time": "2022-05-10T12:08:02.357Z"
   },
   {
    "duration": 96,
    "start_time": "2022-05-10T12:08:02.460Z"
   },
   {
    "duration": 63,
    "start_time": "2022-05-10T12:08:02.558Z"
   },
   {
    "duration": 409,
    "start_time": "2022-05-10T12:08:02.624Z"
   },
   {
    "duration": 373,
    "start_time": "2022-05-10T12:08:03.037Z"
   },
   {
    "duration": 26,
    "start_time": "2022-05-10T12:08:03.412Z"
   },
   {
    "duration": 26,
    "start_time": "2022-05-10T12:08:46.301Z"
   },
   {
    "duration": 2000,
    "start_time": "2022-05-10T12:08:53.704Z"
   },
   {
    "duration": 14,
    "start_time": "2022-05-10T12:08:55.706Z"
   },
   {
    "duration": 42,
    "start_time": "2022-05-10T12:08:55.722Z"
   },
   {
    "duration": 66,
    "start_time": "2022-05-10T12:08:55.766Z"
   },
   {
    "duration": 27,
    "start_time": "2022-05-10T12:08:55.835Z"
   },
   {
    "duration": 61,
    "start_time": "2022-05-10T12:08:55.864Z"
   },
   {
    "duration": 104,
    "start_time": "2022-05-10T12:08:55.927Z"
   },
   {
    "duration": 55,
    "start_time": "2022-05-10T12:08:56.033Z"
   },
   {
    "duration": 285,
    "start_time": "2022-05-10T12:08:56.090Z"
   },
   {
    "duration": 344,
    "start_time": "2022-05-10T12:08:56.377Z"
   },
   {
    "duration": 46,
    "start_time": "2022-05-10T12:08:56.723Z"
   },
   {
    "duration": 40,
    "start_time": "2022-05-10T12:10:24.860Z"
   },
   {
    "duration": 38,
    "start_time": "2022-05-10T12:10:53.399Z"
   },
   {
    "duration": 306,
    "start_time": "2022-05-10T12:35:54.485Z"
   },
   {
    "duration": 215,
    "start_time": "2022-05-10T12:36:51.205Z"
   },
   {
    "duration": 219,
    "start_time": "2022-05-10T12:37:05.741Z"
   },
   {
    "duration": 248,
    "start_time": "2022-05-10T12:37:26.753Z"
   },
   {
    "duration": 240,
    "start_time": "2022-05-10T12:37:54.854Z"
   },
   {
    "duration": 310,
    "start_time": "2022-05-10T12:38:22.625Z"
   },
   {
    "duration": 209,
    "start_time": "2022-05-10T12:38:54.091Z"
   },
   {
    "duration": 208,
    "start_time": "2022-05-10T12:39:20.985Z"
   },
   {
    "duration": 307,
    "start_time": "2022-05-10T12:39:41.505Z"
   },
   {
    "duration": 255,
    "start_time": "2022-05-10T12:39:49.988Z"
   },
   {
    "duration": 216,
    "start_time": "2022-05-10T12:39:59.772Z"
   },
   {
    "duration": 343,
    "start_time": "2022-05-10T12:40:40.111Z"
   },
   {
    "duration": 260,
    "start_time": "2022-05-10T12:41:35.163Z"
   },
   {
    "duration": 251,
    "start_time": "2022-05-10T12:41:46.403Z"
   },
   {
    "duration": 153,
    "start_time": "2022-05-10T12:45:40.371Z"
   },
   {
    "duration": 2,
    "start_time": "2022-05-10T14:17:49.677Z"
   },
   {
    "duration": 250,
    "start_time": "2022-05-10T14:21:29.345Z"
   },
   {
    "duration": 205,
    "start_time": "2022-05-10T14:21:58.492Z"
   },
   {
    "duration": 72,
    "start_time": "2022-05-10T14:24:04.534Z"
   },
   {
    "duration": 60,
    "start_time": "2022-05-10T14:25:29.222Z"
   },
   {
    "duration": 76,
    "start_time": "2022-05-10T14:26:15.828Z"
   },
   {
    "duration": 28,
    "start_time": "2022-05-10T14:34:30.220Z"
   },
   {
    "duration": 78,
    "start_time": "2022-05-10T14:34:41.699Z"
   },
   {
    "duration": 63,
    "start_time": "2022-05-10T14:36:27.604Z"
   },
   {
    "duration": 35,
    "start_time": "2022-05-10T14:41:51.131Z"
   },
   {
    "duration": 1799,
    "start_time": "2022-05-10T14:41:56.207Z"
   },
   {
    "duration": 15,
    "start_time": "2022-05-10T14:41:58.008Z"
   },
   {
    "duration": 40,
    "start_time": "2022-05-10T14:41:58.025Z"
   },
   {
    "duration": 105,
    "start_time": "2022-05-10T14:41:58.067Z"
   },
   {
    "duration": 19,
    "start_time": "2022-05-10T14:41:58.174Z"
   },
   {
    "duration": 70,
    "start_time": "2022-05-10T14:41:58.194Z"
   },
   {
    "duration": 49,
    "start_time": "2022-05-10T14:41:58.265Z"
   },
   {
    "duration": 50,
    "start_time": "2022-05-10T14:41:58.316Z"
   },
   {
    "duration": 48,
    "start_time": "2022-05-10T14:41:58.368Z"
   },
   {
    "duration": 53,
    "start_time": "2022-05-10T14:41:58.417Z"
   },
   {
    "duration": 52,
    "start_time": "2022-05-10T14:41:58.472Z"
   },
   {
    "duration": 59,
    "start_time": "2022-05-10T14:41:58.525Z"
   },
   {
    "duration": 251,
    "start_time": "2022-05-10T14:41:58.586Z"
   },
   {
    "duration": 264,
    "start_time": "2022-05-10T14:41:58.840Z"
   },
   {
    "duration": 38,
    "start_time": "2022-05-10T14:41:59.106Z"
   },
   {
    "duration": 321,
    "start_time": "2022-05-10T14:41:59.145Z"
   },
   {
    "duration": 268,
    "start_time": "2022-05-10T14:41:59.468Z"
   },
   {
    "duration": 144,
    "start_time": "2022-05-10T14:41:59.754Z"
   },
   {
    "duration": 202,
    "start_time": "2022-05-10T14:41:59.901Z"
   },
   {
    "duration": 1967,
    "start_time": "2022-05-10T14:43:37.288Z"
   },
   {
    "duration": 291,
    "start_time": "2022-05-10T14:47:34.087Z"
   },
   {
    "duration": 532,
    "start_time": "2022-05-10T14:57:29.796Z"
   },
   {
    "duration": 2713,
    "start_time": "2022-05-10T14:59:09.665Z"
   },
   {
    "duration": 15,
    "start_time": "2022-05-10T14:59:12.381Z"
   },
   {
    "duration": 24,
    "start_time": "2022-05-10T14:59:12.398Z"
   },
   {
    "duration": 80,
    "start_time": "2022-05-10T14:59:12.424Z"
   },
   {
    "duration": 17,
    "start_time": "2022-05-10T14:59:12.507Z"
   },
   {
    "duration": 74,
    "start_time": "2022-05-10T14:59:12.525Z"
   },
   {
    "duration": 55,
    "start_time": "2022-05-10T14:59:12.600Z"
   },
   {
    "duration": 44,
    "start_time": "2022-05-10T14:59:12.658Z"
   },
   {
    "duration": 67,
    "start_time": "2022-05-10T14:59:12.703Z"
   },
   {
    "duration": 37,
    "start_time": "2022-05-10T14:59:12.772Z"
   },
   {
    "duration": 69,
    "start_time": "2022-05-10T14:59:12.811Z"
   },
   {
    "duration": 35,
    "start_time": "2022-05-10T14:59:12.882Z"
   },
   {
    "duration": 268,
    "start_time": "2022-05-10T14:59:12.919Z"
   },
   {
    "duration": 239,
    "start_time": "2022-05-10T14:59:13.190Z"
   },
   {
    "duration": 49,
    "start_time": "2022-05-10T14:59:13.431Z"
   },
   {
    "duration": 253,
    "start_time": "2022-05-10T14:59:13.482Z"
   },
   {
    "duration": 351,
    "start_time": "2022-05-10T14:59:13.737Z"
   },
   {
    "duration": 124,
    "start_time": "2022-05-10T14:59:14.089Z"
   },
   {
    "duration": 214,
    "start_time": "2022-05-10T14:59:14.216Z"
   },
   {
    "duration": 423,
    "start_time": "2022-05-10T14:59:14.432Z"
   },
   {
    "duration": 3,
    "start_time": "2022-05-10T15:04:16.399Z"
   },
   {
    "duration": 17,
    "start_time": "2022-05-10T15:11:10.079Z"
   },
   {
    "duration": 2595,
    "start_time": "2022-05-10T15:11:35.295Z"
   },
   {
    "duration": 15,
    "start_time": "2022-05-10T15:11:37.892Z"
   },
   {
    "duration": 29,
    "start_time": "2022-05-10T15:11:37.909Z"
   },
   {
    "duration": 76,
    "start_time": "2022-05-10T15:11:37.941Z"
   },
   {
    "duration": 19,
    "start_time": "2022-05-10T15:11:38.019Z"
   },
   {
    "duration": 56,
    "start_time": "2022-05-10T15:11:38.055Z"
   },
   {
    "duration": 59,
    "start_time": "2022-05-10T15:11:38.112Z"
   },
   {
    "duration": 44,
    "start_time": "2022-05-10T15:11:38.172Z"
   },
   {
    "duration": 64,
    "start_time": "2022-05-10T15:11:38.218Z"
   },
   {
    "duration": 35,
    "start_time": "2022-05-10T15:11:38.285Z"
   },
   {
    "duration": 67,
    "start_time": "2022-05-10T15:11:38.322Z"
   },
   {
    "duration": 49,
    "start_time": "2022-05-10T15:11:38.391Z"
   },
   {
    "duration": 395,
    "start_time": "2022-05-10T15:11:38.456Z"
   },
   {
    "duration": 365,
    "start_time": "2022-05-10T15:11:38.854Z"
   },
   {
    "duration": 53,
    "start_time": "2022-05-10T15:11:39.222Z"
   },
   {
    "duration": 380,
    "start_time": "2022-05-10T15:11:39.277Z"
   },
   {
    "duration": 482,
    "start_time": "2022-05-10T15:11:39.659Z"
   },
   {
    "duration": 149,
    "start_time": "2022-05-10T15:11:40.144Z"
   },
   {
    "duration": 2021,
    "start_time": "2022-05-10T15:11:40.296Z"
   },
   {
    "duration": 0,
    "start_time": "2022-05-10T15:11:42.319Z"
   },
   {
    "duration": 0,
    "start_time": "2022-05-10T15:11:42.321Z"
   },
   {
    "duration": 22,
    "start_time": "2022-05-10T15:12:06.671Z"
   },
   {
    "duration": 2778,
    "start_time": "2022-05-10T15:12:25.262Z"
   },
   {
    "duration": 23,
    "start_time": "2022-05-10T15:12:28.042Z"
   },
   {
    "duration": 34,
    "start_time": "2022-05-10T15:12:28.067Z"
   },
   {
    "duration": 66,
    "start_time": "2022-05-10T15:12:28.103Z"
   },
   {
    "duration": 19,
    "start_time": "2022-05-10T15:12:28.171Z"
   },
   {
    "duration": 137,
    "start_time": "2022-05-10T15:12:28.192Z"
   },
   {
    "duration": 62,
    "start_time": "2022-05-10T15:12:28.332Z"
   },
   {
    "duration": 39,
    "start_time": "2022-05-10T15:12:28.396Z"
   },
   {
    "duration": 100,
    "start_time": "2022-05-10T15:12:28.455Z"
   },
   {
    "duration": 44,
    "start_time": "2022-05-10T15:12:28.559Z"
   },
   {
    "duration": 78,
    "start_time": "2022-05-10T15:12:28.605Z"
   },
   {
    "duration": 51,
    "start_time": "2022-05-10T15:12:28.685Z"
   },
   {
    "duration": 360,
    "start_time": "2022-05-10T15:12:28.754Z"
   },
   {
    "duration": 393,
    "start_time": "2022-05-10T15:12:29.116Z"
   },
   {
    "duration": 56,
    "start_time": "2022-05-10T15:12:29.511Z"
   },
   {
    "duration": 422,
    "start_time": "2022-05-10T15:12:29.569Z"
   },
   {
    "duration": 388,
    "start_time": "2022-05-10T15:12:29.993Z"
   },
   {
    "duration": 143,
    "start_time": "2022-05-10T15:12:30.384Z"
   },
   {
    "duration": 241,
    "start_time": "2022-05-10T15:12:30.529Z"
   },
   {
    "duration": 131,
    "start_time": "2022-05-10T15:12:30.772Z"
   },
   {
    "duration": 1375,
    "start_time": "2022-05-10T15:12:30.906Z"
   },
   {
    "duration": 2681,
    "start_time": "2022-05-10T15:13:37.199Z"
   },
   {
    "duration": 15,
    "start_time": "2022-05-10T15:13:39.882Z"
   },
   {
    "duration": 26,
    "start_time": "2022-05-10T15:13:39.899Z"
   },
   {
    "duration": 67,
    "start_time": "2022-05-10T15:13:39.927Z"
   },
   {
    "duration": 19,
    "start_time": "2022-05-10T15:13:39.996Z"
   },
   {
    "duration": 76,
    "start_time": "2022-05-10T15:13:40.016Z"
   },
   {
    "duration": 46,
    "start_time": "2022-05-10T15:13:40.093Z"
   },
   {
    "duration": 44,
    "start_time": "2022-05-10T15:13:40.141Z"
   },
   {
    "duration": 49,
    "start_time": "2022-05-10T15:13:40.186Z"
   },
   {
    "duration": 38,
    "start_time": "2022-05-10T15:13:40.254Z"
   },
   {
    "duration": 66,
    "start_time": "2022-05-10T15:13:40.294Z"
   },
   {
    "duration": 41,
    "start_time": "2022-05-10T15:13:40.362Z"
   },
   {
    "duration": 278,
    "start_time": "2022-05-10T15:13:40.406Z"
   },
   {
    "duration": 243,
    "start_time": "2022-05-10T15:13:40.686Z"
   },
   {
    "duration": 43,
    "start_time": "2022-05-10T15:13:40.931Z"
   },
   {
    "duration": 244,
    "start_time": "2022-05-10T15:13:40.976Z"
   },
   {
    "duration": 338,
    "start_time": "2022-05-10T15:13:41.222Z"
   },
   {
    "duration": 115,
    "start_time": "2022-05-10T15:13:41.561Z"
   },
   {
    "duration": 210,
    "start_time": "2022-05-10T15:13:41.678Z"
   },
   {
    "duration": 82,
    "start_time": "2022-05-10T15:13:41.890Z"
   },
   {
    "duration": 1313,
    "start_time": "2022-05-10T15:13:41.973Z"
   },
   {
    "duration": 21,
    "start_time": "2022-05-10T15:14:44.179Z"
   },
   {
    "duration": 20,
    "start_time": "2022-05-10T15:15:09.916Z"
   },
   {
    "duration": 2984,
    "start_time": "2022-05-10T15:15:20.871Z"
   },
   {
    "duration": 20,
    "start_time": "2022-05-10T15:15:23.858Z"
   },
   {
    "duration": 51,
    "start_time": "2022-05-10T15:15:23.880Z"
   },
   {
    "duration": 104,
    "start_time": "2022-05-10T15:15:23.933Z"
   },
   {
    "duration": 36,
    "start_time": "2022-05-10T15:15:24.040Z"
   },
   {
    "duration": 70,
    "start_time": "2022-05-10T15:15:24.077Z"
   },
   {
    "duration": 58,
    "start_time": "2022-05-10T15:15:24.149Z"
   },
   {
    "duration": 52,
    "start_time": "2022-05-10T15:15:24.209Z"
   },
   {
    "duration": 54,
    "start_time": "2022-05-10T15:15:24.263Z"
   },
   {
    "duration": 59,
    "start_time": "2022-05-10T15:15:24.319Z"
   },
   {
    "duration": 50,
    "start_time": "2022-05-10T15:15:24.380Z"
   },
   {
    "duration": 64,
    "start_time": "2022-05-10T15:15:24.431Z"
   },
   {
    "duration": 261,
    "start_time": "2022-05-10T15:15:24.497Z"
   },
   {
    "duration": 250,
    "start_time": "2022-05-10T15:15:24.762Z"
   },
   {
    "duration": 56,
    "start_time": "2022-05-10T15:15:25.014Z"
   },
   {
    "duration": 263,
    "start_time": "2022-05-10T15:15:25.072Z"
   },
   {
    "duration": 363,
    "start_time": "2022-05-10T15:15:25.337Z"
   },
   {
    "duration": 127,
    "start_time": "2022-05-10T15:15:25.702Z"
   },
   {
    "duration": 213,
    "start_time": "2022-05-10T15:15:25.831Z"
   },
   {
    "duration": 113,
    "start_time": "2022-05-10T15:15:26.046Z"
   },
   {
    "duration": 1354,
    "start_time": "2022-05-10T15:15:26.161Z"
   },
   {
    "duration": 22,
    "start_time": "2022-05-10T15:16:35.872Z"
   },
   {
    "duration": 2830,
    "start_time": "2022-05-10T15:16:50.046Z"
   },
   {
    "duration": 18,
    "start_time": "2022-05-10T15:16:52.878Z"
   },
   {
    "duration": 30,
    "start_time": "2022-05-10T15:16:52.898Z"
   },
   {
    "duration": 90,
    "start_time": "2022-05-10T15:16:52.930Z"
   },
   {
    "duration": 19,
    "start_time": "2022-05-10T15:16:53.023Z"
   },
   {
    "duration": 67,
    "start_time": "2022-05-10T15:16:53.056Z"
   },
   {
    "duration": 57,
    "start_time": "2022-05-10T15:16:53.124Z"
   },
   {
    "duration": 37,
    "start_time": "2022-05-10T15:16:53.183Z"
   },
   {
    "duration": 76,
    "start_time": "2022-05-10T15:16:53.222Z"
   },
   {
    "duration": 62,
    "start_time": "2022-05-10T15:16:53.301Z"
   },
   {
    "duration": 58,
    "start_time": "2022-05-10T15:16:53.365Z"
   },
   {
    "duration": 64,
    "start_time": "2022-05-10T15:16:53.425Z"
   },
   {
    "duration": 295,
    "start_time": "2022-05-10T15:16:53.492Z"
   },
   {
    "duration": 233,
    "start_time": "2022-05-10T15:16:53.790Z"
   },
   {
    "duration": 55,
    "start_time": "2022-05-10T15:16:54.025Z"
   },
   {
    "duration": 261,
    "start_time": "2022-05-10T15:16:54.082Z"
   },
   {
    "duration": 357,
    "start_time": "2022-05-10T15:16:54.344Z"
   },
   {
    "duration": 122,
    "start_time": "2022-05-10T15:16:54.702Z"
   },
   {
    "duration": 212,
    "start_time": "2022-05-10T15:16:54.826Z"
   },
   {
    "duration": 103,
    "start_time": "2022-05-10T15:16:55.041Z"
   },
   {
    "duration": 1331,
    "start_time": "2022-05-10T15:16:55.146Z"
   },
   {
    "duration": 22,
    "start_time": "2022-05-10T15:24:02.494Z"
   },
   {
    "duration": 1059,
    "start_time": "2022-05-10T15:24:09.535Z"
   },
   {
    "duration": 2828,
    "start_time": "2022-05-10T15:24:38.006Z"
   },
   {
    "duration": 28,
    "start_time": "2022-05-10T15:24:40.836Z"
   },
   {
    "duration": 35,
    "start_time": "2022-05-10T15:24:40.867Z"
   },
   {
    "duration": 77,
    "start_time": "2022-05-10T15:24:40.904Z"
   },
   {
    "duration": 18,
    "start_time": "2022-05-10T15:24:40.983Z"
   },
   {
    "duration": 77,
    "start_time": "2022-05-10T15:24:41.003Z"
   },
   {
    "duration": 48,
    "start_time": "2022-05-10T15:24:41.083Z"
   },
   {
    "duration": 51,
    "start_time": "2022-05-10T15:24:41.133Z"
   },
   {
    "duration": 49,
    "start_time": "2022-05-10T15:24:41.186Z"
   },
   {
    "duration": 47,
    "start_time": "2022-05-10T15:24:41.256Z"
   },
   {
    "duration": 73,
    "start_time": "2022-05-10T15:24:41.305Z"
   },
   {
    "duration": 38,
    "start_time": "2022-05-10T15:24:41.379Z"
   },
   {
    "duration": 317,
    "start_time": "2022-05-10T15:24:41.419Z"
   },
   {
    "duration": 304,
    "start_time": "2022-05-10T15:24:41.738Z"
   },
   {
    "duration": 46,
    "start_time": "2022-05-10T15:24:42.044Z"
   },
   {
    "duration": 328,
    "start_time": "2022-05-10T15:24:42.092Z"
   },
   {
    "duration": 389,
    "start_time": "2022-05-10T15:24:42.422Z"
   },
   {
    "duration": 131,
    "start_time": "2022-05-10T15:24:42.814Z"
   },
   {
    "duration": 207,
    "start_time": "2022-05-10T15:24:42.947Z"
   },
   {
    "duration": 135,
    "start_time": "2022-05-10T15:24:43.157Z"
   },
   {
    "duration": 1365,
    "start_time": "2022-05-10T15:24:43.295Z"
   },
   {
    "duration": 91,
    "start_time": "2022-05-10T15:31:34.296Z"
   },
   {
    "duration": 22,
    "start_time": "2022-05-10T15:32:40.569Z"
   },
   {
    "duration": 21,
    "start_time": "2022-05-10T15:33:01.223Z"
   },
   {
    "duration": 2644,
    "start_time": "2022-05-10T15:33:36.212Z"
   },
   {
    "duration": 16,
    "start_time": "2022-05-10T15:33:38.859Z"
   },
   {
    "duration": 28,
    "start_time": "2022-05-10T15:33:38.877Z"
   },
   {
    "duration": 90,
    "start_time": "2022-05-10T15:33:38.907Z"
   },
   {
    "duration": 17,
    "start_time": "2022-05-10T15:33:38.999Z"
   },
   {
    "duration": 65,
    "start_time": "2022-05-10T15:33:39.018Z"
   },
   {
    "duration": 47,
    "start_time": "2022-05-10T15:33:39.085Z"
   },
   {
    "duration": 63,
    "start_time": "2022-05-10T15:33:39.134Z"
   },
   {
    "duration": 59,
    "start_time": "2022-05-10T15:33:39.199Z"
   },
   {
    "duration": 39,
    "start_time": "2022-05-10T15:33:39.261Z"
   },
   {
    "duration": 78,
    "start_time": "2022-05-10T15:33:39.302Z"
   },
   {
    "duration": 38,
    "start_time": "2022-05-10T15:33:39.382Z"
   },
   {
    "duration": 280,
    "start_time": "2022-05-10T15:33:39.422Z"
   },
   {
    "duration": 264,
    "start_time": "2022-05-10T15:33:39.704Z"
   },
   {
    "duration": 37,
    "start_time": "2022-05-10T15:33:39.970Z"
   },
   {
    "duration": 282,
    "start_time": "2022-05-10T15:33:40.009Z"
   },
   {
    "duration": 353,
    "start_time": "2022-05-10T15:33:40.293Z"
   },
   {
    "duration": 131,
    "start_time": "2022-05-10T15:33:40.649Z"
   },
   {
    "duration": 210,
    "start_time": "2022-05-10T15:33:40.782Z"
   },
   {
    "duration": 1568,
    "start_time": "2022-05-10T15:33:40.994Z"
   },
   {
    "duration": 0,
    "start_time": "2022-05-10T15:33:42.567Z"
   },
   {
    "duration": 1441,
    "start_time": "2022-05-10T15:35:10.550Z"
   },
   {
    "duration": 2682,
    "start_time": "2022-05-11T05:20:54.420Z"
   },
   {
    "duration": 14,
    "start_time": "2022-05-11T05:20:57.104Z"
   },
   {
    "duration": 21,
    "start_time": "2022-05-11T05:20:57.120Z"
   },
   {
    "duration": 64,
    "start_time": "2022-05-11T05:20:57.143Z"
   },
   {
    "duration": 15,
    "start_time": "2022-05-11T05:20:57.210Z"
   },
   {
    "duration": 47,
    "start_time": "2022-05-11T05:20:57.227Z"
   },
   {
    "duration": 60,
    "start_time": "2022-05-11T05:20:57.276Z"
   },
   {
    "duration": 34,
    "start_time": "2022-05-11T05:20:57.338Z"
   },
   {
    "duration": 62,
    "start_time": "2022-05-11T05:20:57.373Z"
   },
   {
    "duration": 34,
    "start_time": "2022-05-11T05:20:57.437Z"
   },
   {
    "duration": 62,
    "start_time": "2022-05-11T05:20:57.473Z"
   },
   {
    "duration": 34,
    "start_time": "2022-05-11T05:20:57.537Z"
   },
   {
    "duration": 234,
    "start_time": "2022-05-11T05:20:57.573Z"
   },
   {
    "duration": 223,
    "start_time": "2022-05-11T05:20:57.809Z"
   },
   {
    "duration": 33,
    "start_time": "2022-05-11T05:20:58.034Z"
   },
   {
    "duration": 233,
    "start_time": "2022-05-11T05:20:58.069Z"
   },
   {
    "duration": 301,
    "start_time": "2022-05-11T05:20:58.304Z"
   },
   {
    "duration": 107,
    "start_time": "2022-05-11T05:20:58.606Z"
   },
   {
    "duration": 174,
    "start_time": "2022-05-11T05:20:58.715Z"
   },
   {
    "duration": 2103,
    "start_time": "2022-05-11T05:20:58.890Z"
   },
   {
    "duration": 0,
    "start_time": "2022-05-11T05:21:00.995Z"
   },
   {
    "duration": 67,
    "start_time": "2022-05-11T05:21:27.902Z"
   },
   {
    "duration": 2724,
    "start_time": "2022-05-11T05:48:05.820Z"
   },
   {
    "duration": 14,
    "start_time": "2022-05-11T05:48:08.546Z"
   },
   {
    "duration": 39,
    "start_time": "2022-05-11T05:48:08.562Z"
   },
   {
    "duration": 49,
    "start_time": "2022-05-11T05:48:08.603Z"
   },
   {
    "duration": 16,
    "start_time": "2022-05-11T05:48:08.654Z"
   },
   {
    "duration": 70,
    "start_time": "2022-05-11T05:48:08.672Z"
   },
   {
    "duration": 44,
    "start_time": "2022-05-11T05:48:08.743Z"
   },
   {
    "duration": 44,
    "start_time": "2022-05-11T05:48:08.788Z"
   },
   {
    "duration": 42,
    "start_time": "2022-05-11T05:48:08.833Z"
   },
   {
    "duration": 56,
    "start_time": "2022-05-11T05:48:08.877Z"
   },
   {
    "duration": 50,
    "start_time": "2022-05-11T05:48:08.935Z"
   },
   {
    "duration": 54,
    "start_time": "2022-05-11T05:48:08.987Z"
   },
   {
    "duration": 227,
    "start_time": "2022-05-11T05:48:09.042Z"
   },
   {
    "duration": 213,
    "start_time": "2022-05-11T05:48:09.271Z"
   },
   {
    "duration": 39,
    "start_time": "2022-05-11T05:48:09.486Z"
   },
   {
    "duration": 219,
    "start_time": "2022-05-11T05:48:09.526Z"
   },
   {
    "duration": 281,
    "start_time": "2022-05-11T05:48:09.746Z"
   },
   {
    "duration": 110,
    "start_time": "2022-05-11T05:48:10.028Z"
   },
   {
    "duration": 188,
    "start_time": "2022-05-11T05:48:10.139Z"
   },
   {
    "duration": 92,
    "start_time": "2022-05-11T05:48:10.329Z"
   },
   {
    "duration": 1114,
    "start_time": "2022-05-11T05:48:10.423Z"
   },
   {
    "duration": 982,
    "start_time": "2022-05-11T05:52:03.916Z"
   },
   {
    "duration": 2933,
    "start_time": "2022-05-11T05:52:17.161Z"
   },
   {
    "duration": 21,
    "start_time": "2022-05-11T05:52:20.100Z"
   },
   {
    "duration": 33,
    "start_time": "2022-05-11T05:52:20.122Z"
   },
   {
    "duration": 61,
    "start_time": "2022-05-11T05:52:20.157Z"
   },
   {
    "duration": 15,
    "start_time": "2022-05-11T05:52:20.221Z"
   },
   {
    "duration": 46,
    "start_time": "2022-05-11T05:52:20.238Z"
   },
   {
    "duration": 43,
    "start_time": "2022-05-11T05:52:20.300Z"
   },
   {
    "duration": 34,
    "start_time": "2022-05-11T05:52:20.344Z"
   },
   {
    "duration": 61,
    "start_time": "2022-05-11T05:52:20.380Z"
   },
   {
    "duration": 31,
    "start_time": "2022-05-11T05:52:20.443Z"
   },
   {
    "duration": 94,
    "start_time": "2022-05-11T05:52:20.476Z"
   },
   {
    "duration": 44,
    "start_time": "2022-05-11T05:52:20.572Z"
   },
   {
    "duration": 313,
    "start_time": "2022-05-11T05:52:20.618Z"
   },
   {
    "duration": 214,
    "start_time": "2022-05-11T05:52:20.934Z"
   },
   {
    "duration": 32,
    "start_time": "2022-05-11T05:52:21.149Z"
   },
   {
    "duration": 224,
    "start_time": "2022-05-11T05:52:21.182Z"
   },
   {
    "duration": 282,
    "start_time": "2022-05-11T05:52:21.407Z"
   },
   {
    "duration": 2173,
    "start_time": "2022-05-11T05:52:21.690Z"
   },
   {
    "duration": 241,
    "start_time": "2022-05-11T05:52:23.865Z"
   },
   {
    "duration": 2028,
    "start_time": "2022-05-11T05:52:24.107Z"
   },
   {
    "duration": 0,
    "start_time": "2022-05-11T05:52:26.137Z"
   },
   {
    "duration": 4,
    "start_time": "2022-05-11T05:52:46.266Z"
   },
   {
    "duration": 4,
    "start_time": "2022-05-11T05:53:09.847Z"
   },
   {
    "duration": 221,
    "start_time": "2022-05-11T05:54:45.142Z"
   },
   {
    "duration": 217,
    "start_time": "2022-05-11T05:55:45.114Z"
   },
   {
    "duration": 193,
    "start_time": "2022-05-11T05:56:06.458Z"
   },
   {
    "duration": 27,
    "start_time": "2022-05-11T05:57:33.314Z"
   },
   {
    "duration": 25,
    "start_time": "2022-05-11T05:58:44.804Z"
   },
   {
    "duration": 364,
    "start_time": "2022-05-11T05:59:21.489Z"
   },
   {
    "duration": 12,
    "start_time": "2022-05-11T05:59:43.664Z"
   },
   {
    "duration": 363,
    "start_time": "2022-05-11T06:00:10.850Z"
   },
   {
    "duration": 446,
    "start_time": "2022-05-11T06:02:05.777Z"
   },
   {
    "duration": 963,
    "start_time": "2022-05-11T06:03:10.247Z"
   },
   {
    "duration": 2542,
    "start_time": "2022-05-11T06:03:33.102Z"
   },
   {
    "duration": 14,
    "start_time": "2022-05-11T06:03:35.646Z"
   },
   {
    "duration": 40,
    "start_time": "2022-05-11T06:03:35.661Z"
   },
   {
    "duration": 64,
    "start_time": "2022-05-11T06:03:35.703Z"
   },
   {
    "duration": 16,
    "start_time": "2022-05-11T06:03:35.770Z"
   },
   {
    "duration": 60,
    "start_time": "2022-05-11T06:03:35.788Z"
   },
   {
    "duration": 52,
    "start_time": "2022-05-11T06:03:35.849Z"
   },
   {
    "duration": 34,
    "start_time": "2022-05-11T06:03:35.902Z"
   },
   {
    "duration": 66,
    "start_time": "2022-05-11T06:03:35.938Z"
   },
   {
    "duration": 34,
    "start_time": "2022-05-11T06:03:36.005Z"
   },
   {
    "duration": 68,
    "start_time": "2022-05-11T06:03:36.041Z"
   },
   {
    "duration": 26,
    "start_time": "2022-05-11T06:03:36.111Z"
   },
   {
    "duration": 226,
    "start_time": "2022-05-11T06:03:36.139Z"
   },
   {
    "duration": 217,
    "start_time": "2022-05-11T06:03:36.367Z"
   },
   {
    "duration": 51,
    "start_time": "2022-05-11T06:03:36.586Z"
   },
   {
    "duration": 249,
    "start_time": "2022-05-11T06:03:36.639Z"
   },
   {
    "duration": 296,
    "start_time": "2022-05-11T06:03:36.890Z"
   },
   {
    "duration": 3308,
    "start_time": "2022-05-11T06:03:37.188Z"
   },
   {
    "duration": 247,
    "start_time": "2022-05-11T06:03:40.500Z"
   },
   {
    "duration": 353,
    "start_time": "2022-05-11T06:03:40.749Z"
   },
   {
    "duration": 305,
    "start_time": "2022-05-11T06:03:41.103Z"
   },
   {
    "duration": 201,
    "start_time": "2022-05-11T06:04:38.576Z"
   },
   {
    "duration": 1102,
    "start_time": "2022-05-11T06:05:42.863Z"
   },
   {
    "duration": 35,
    "start_time": "2022-05-11T06:09:00.462Z"
   },
   {
    "duration": 42,
    "start_time": "2022-05-11T06:10:52.850Z"
   },
   {
    "duration": 2514,
    "start_time": "2022-05-11T06:11:39.874Z"
   },
   {
    "duration": 13,
    "start_time": "2022-05-11T06:11:42.390Z"
   },
   {
    "duration": 26,
    "start_time": "2022-05-11T06:11:42.404Z"
   },
   {
    "duration": 48,
    "start_time": "2022-05-11T06:11:42.432Z"
   },
   {
    "duration": 24,
    "start_time": "2022-05-11T06:11:42.481Z"
   },
   {
    "duration": 49,
    "start_time": "2022-05-11T06:11:42.506Z"
   },
   {
    "duration": 49,
    "start_time": "2022-05-11T06:11:42.557Z"
   },
   {
    "duration": 32,
    "start_time": "2022-05-11T06:11:42.608Z"
   },
   {
    "duration": 59,
    "start_time": "2022-05-11T06:11:42.642Z"
   },
   {
    "duration": 31,
    "start_time": "2022-05-11T06:11:42.704Z"
   },
   {
    "duration": 64,
    "start_time": "2022-05-11T06:11:42.737Z"
   },
   {
    "duration": 32,
    "start_time": "2022-05-11T06:11:42.803Z"
   },
   {
    "duration": 231,
    "start_time": "2022-05-11T06:11:42.837Z"
   },
   {
    "duration": 217,
    "start_time": "2022-05-11T06:11:43.070Z"
   },
   {
    "duration": 39,
    "start_time": "2022-05-11T06:11:43.289Z"
   },
   {
    "duration": 235,
    "start_time": "2022-05-11T06:11:43.330Z"
   },
   {
    "duration": 290,
    "start_time": "2022-05-11T06:11:43.566Z"
   },
   {
    "duration": 3205,
    "start_time": "2022-05-11T06:11:43.858Z"
   },
   {
    "duration": 274,
    "start_time": "2022-05-11T06:11:47.064Z"
   },
   {
    "duration": 345,
    "start_time": "2022-05-11T06:11:47.340Z"
   },
   {
    "duration": 325,
    "start_time": "2022-05-11T06:11:47.686Z"
   },
   {
    "duration": 158,
    "start_time": "2022-05-11T06:12:46.351Z"
   },
   {
    "duration": 152,
    "start_time": "2022-05-11T06:12:58.877Z"
   },
   {
    "duration": 6,
    "start_time": "2022-05-11T06:13:04.735Z"
   },
   {
    "duration": 26,
    "start_time": "2022-05-11T06:13:21.528Z"
   },
   {
    "duration": 26,
    "start_time": "2022-05-11T06:15:27.211Z"
   },
   {
    "duration": 80,
    "start_time": "2022-05-11T06:39:34.312Z"
   },
   {
    "duration": 372,
    "start_time": "2022-05-11T06:40:01.012Z"
   },
   {
    "duration": 383,
    "start_time": "2022-05-11T06:40:30.560Z"
   },
   {
    "duration": 393,
    "start_time": "2022-05-11T06:41:03.251Z"
   },
   {
    "duration": 41,
    "start_time": "2022-05-11T06:41:24.141Z"
   },
   {
    "duration": 7,
    "start_time": "2022-05-11T06:41:35.200Z"
   },
   {
    "duration": 2575,
    "start_time": "2022-05-11T06:41:41.125Z"
   },
   {
    "duration": 20,
    "start_time": "2022-05-11T06:41:43.702Z"
   },
   {
    "duration": 22,
    "start_time": "2022-05-11T06:41:43.723Z"
   },
   {
    "duration": 58,
    "start_time": "2022-05-11T06:41:43.747Z"
   },
   {
    "duration": 22,
    "start_time": "2022-05-11T06:41:43.808Z"
   },
   {
    "duration": 5,
    "start_time": "2022-05-11T06:41:43.832Z"
   },
   {
    "duration": 17,
    "start_time": "2022-05-11T06:41:43.838Z"
   },
   {
    "duration": 79,
    "start_time": "2022-05-11T06:41:43.856Z"
   },
   {
    "duration": 41,
    "start_time": "2022-05-11T06:41:43.937Z"
   },
   {
    "duration": 57,
    "start_time": "2022-05-11T06:41:43.980Z"
   },
   {
    "duration": 42,
    "start_time": "2022-05-11T06:41:44.039Z"
   },
   {
    "duration": 54,
    "start_time": "2022-05-11T06:41:44.082Z"
   },
   {
    "duration": 44,
    "start_time": "2022-05-11T06:41:44.137Z"
   },
   {
    "duration": 54,
    "start_time": "2022-05-11T06:41:44.183Z"
   },
   {
    "duration": 242,
    "start_time": "2022-05-11T06:41:44.239Z"
   },
   {
    "duration": 223,
    "start_time": "2022-05-11T06:41:44.483Z"
   },
   {
    "duration": 36,
    "start_time": "2022-05-11T06:41:44.708Z"
   },
   {
    "duration": 247,
    "start_time": "2022-05-11T06:41:44.746Z"
   },
   {
    "duration": 301,
    "start_time": "2022-05-11T06:41:44.995Z"
   },
   {
    "duration": 3408,
    "start_time": "2022-05-11T06:41:45.299Z"
   },
   {
    "duration": 299,
    "start_time": "2022-05-11T06:41:48.709Z"
   },
   {
    "duration": 28,
    "start_time": "2022-05-11T06:41:49.010Z"
   },
   {
    "duration": 336,
    "start_time": "2022-05-11T06:41:49.040Z"
   },
   {
    "duration": 34,
    "start_time": "2022-05-11T06:46:42.593Z"
   },
   {
    "duration": 2561,
    "start_time": "2022-05-11T06:47:05.840Z"
   },
   {
    "duration": 18,
    "start_time": "2022-05-11T06:47:08.403Z"
   },
   {
    "duration": 19,
    "start_time": "2022-05-11T06:47:08.423Z"
   },
   {
    "duration": 70,
    "start_time": "2022-05-11T06:47:08.443Z"
   },
   {
    "duration": 24,
    "start_time": "2022-05-11T06:47:08.516Z"
   },
   {
    "duration": 5,
    "start_time": "2022-05-11T06:47:08.542Z"
   },
   {
    "duration": 18,
    "start_time": "2022-05-11T06:47:08.549Z"
   },
   {
    "duration": 86,
    "start_time": "2022-05-11T06:47:08.569Z"
   },
   {
    "duration": 51,
    "start_time": "2022-05-11T06:47:08.657Z"
   },
   {
    "duration": 43,
    "start_time": "2022-05-11T06:47:08.711Z"
   },
   {
    "duration": 55,
    "start_time": "2022-05-11T06:47:08.756Z"
   },
   {
    "duration": 36,
    "start_time": "2022-05-11T06:47:08.815Z"
   },
   {
    "duration": 70,
    "start_time": "2022-05-11T06:47:08.852Z"
   },
   {
    "duration": 32,
    "start_time": "2022-05-11T06:47:08.925Z"
   },
   {
    "duration": 240,
    "start_time": "2022-05-11T06:47:08.958Z"
   },
   {
    "duration": 222,
    "start_time": "2022-05-11T06:47:09.199Z"
   },
   {
    "duration": 33,
    "start_time": "2022-05-11T06:47:09.423Z"
   },
   {
    "duration": 231,
    "start_time": "2022-05-11T06:47:09.458Z"
   },
   {
    "duration": 296,
    "start_time": "2022-05-11T06:47:09.690Z"
   },
   {
    "duration": 3464,
    "start_time": "2022-05-11T06:47:09.988Z"
   },
   {
    "duration": 290,
    "start_time": "2022-05-11T06:47:13.453Z"
   },
   {
    "duration": 26,
    "start_time": "2022-05-11T06:47:13.744Z"
   },
   {
    "duration": 343,
    "start_time": "2022-05-11T06:47:13.772Z"
   },
   {
    "duration": 36,
    "start_time": "2022-05-11T06:47:38.484Z"
   },
   {
    "duration": 91,
    "start_time": "2022-05-11T06:48:49.977Z"
   },
   {
    "duration": 72,
    "start_time": "2022-05-11T06:49:41.919Z"
   },
   {
    "duration": 539,
    "start_time": "2022-05-11T06:50:07.695Z"
   },
   {
    "duration": 75,
    "start_time": "2022-05-11T07:39:20.743Z"
   },
   {
    "duration": 135,
    "start_time": "2022-05-11T07:39:52.679Z"
   },
   {
    "duration": 435,
    "start_time": "2022-05-11T07:40:05.220Z"
   },
   {
    "duration": 383,
    "start_time": "2022-05-11T07:40:27.630Z"
   },
   {
    "duration": 25,
    "start_time": "2022-05-11T07:40:50.263Z"
   },
   {
    "duration": 9,
    "start_time": "2022-05-11T07:41:28.538Z"
   },
   {
    "duration": 10,
    "start_time": "2022-05-11T07:41:59.643Z"
   },
   {
    "duration": 39,
    "start_time": "2022-05-11T07:42:13.816Z"
   },
   {
    "duration": 27,
    "start_time": "2022-05-11T07:43:59.122Z"
   },
   {
    "duration": 2617,
    "start_time": "2022-05-11T07:44:32.658Z"
   },
   {
    "duration": 24,
    "start_time": "2022-05-11T07:44:35.277Z"
   },
   {
    "duration": 36,
    "start_time": "2022-05-11T07:44:35.303Z"
   },
   {
    "duration": 61,
    "start_time": "2022-05-11T07:44:35.342Z"
   },
   {
    "duration": 40,
    "start_time": "2022-05-11T07:44:35.405Z"
   },
   {
    "duration": 30,
    "start_time": "2022-05-11T07:44:35.447Z"
   },
   {
    "duration": 26,
    "start_time": "2022-05-11T07:44:35.478Z"
   },
   {
    "duration": 64,
    "start_time": "2022-05-11T07:44:35.505Z"
   },
   {
    "duration": 61,
    "start_time": "2022-05-11T07:44:35.572Z"
   },
   {
    "duration": 36,
    "start_time": "2022-05-11T07:44:35.636Z"
   },
   {
    "duration": 70,
    "start_time": "2022-05-11T07:44:35.673Z"
   },
   {
    "duration": 39,
    "start_time": "2022-05-11T07:44:35.745Z"
   },
   {
    "duration": 67,
    "start_time": "2022-05-11T07:44:35.786Z"
   },
   {
    "duration": 47,
    "start_time": "2022-05-11T07:44:35.854Z"
   },
   {
    "duration": 236,
    "start_time": "2022-05-11T07:44:35.902Z"
   },
   {
    "duration": 231,
    "start_time": "2022-05-11T07:44:36.140Z"
   },
   {
    "duration": 52,
    "start_time": "2022-05-11T07:44:36.373Z"
   },
   {
    "duration": 243,
    "start_time": "2022-05-11T07:44:36.427Z"
   },
   {
    "duration": 327,
    "start_time": "2022-05-11T07:44:36.672Z"
   },
   {
    "duration": 3400,
    "start_time": "2022-05-11T07:44:37.001Z"
   },
   {
    "duration": 296,
    "start_time": "2022-05-11T07:44:40.404Z"
   },
   {
    "duration": 37,
    "start_time": "2022-05-11T07:44:40.702Z"
   },
   {
    "duration": 382,
    "start_time": "2022-05-11T07:44:40.741Z"
   },
   {
    "duration": 30,
    "start_time": "2022-05-11T07:47:18.515Z"
   },
   {
    "duration": 2594,
    "start_time": "2022-05-11T07:55:51.626Z"
   },
   {
    "duration": 14,
    "start_time": "2022-05-11T07:55:54.222Z"
   },
   {
    "duration": 20,
    "start_time": "2022-05-11T07:55:54.237Z"
   },
   {
    "duration": 72,
    "start_time": "2022-05-11T07:55:54.258Z"
   },
   {
    "duration": 30,
    "start_time": "2022-05-11T07:55:54.331Z"
   },
   {
    "duration": 21,
    "start_time": "2022-05-11T07:55:54.363Z"
   },
   {
    "duration": 65,
    "start_time": "2022-05-11T07:55:54.385Z"
   },
   {
    "duration": 50,
    "start_time": "2022-05-11T07:55:54.451Z"
   },
   {
    "duration": 42,
    "start_time": "2022-05-11T07:55:54.503Z"
   },
   {
    "duration": 64,
    "start_time": "2022-05-11T07:55:54.547Z"
   },
   {
    "duration": 35,
    "start_time": "2022-05-11T07:55:54.613Z"
   },
   {
    "duration": 61,
    "start_time": "2022-05-11T07:55:54.650Z"
   },
   {
    "duration": 44,
    "start_time": "2022-05-11T07:55:54.713Z"
   },
   {
    "duration": 239,
    "start_time": "2022-05-11T07:55:54.760Z"
   },
   {
    "duration": 246,
    "start_time": "2022-05-11T07:55:55.001Z"
   },
   {
    "duration": 36,
    "start_time": "2022-05-11T07:55:55.248Z"
   },
   {
    "duration": 248,
    "start_time": "2022-05-11T07:55:55.285Z"
   },
   {
    "duration": 313,
    "start_time": "2022-05-11T07:55:55.534Z"
   },
   {
    "duration": 4729,
    "start_time": "2022-05-11T07:55:55.849Z"
   },
   {
    "duration": 494,
    "start_time": "2022-05-11T07:56:00.581Z"
   },
   {
    "duration": 57,
    "start_time": "2022-05-11T07:56:01.078Z"
   },
   {
    "duration": 390,
    "start_time": "2022-05-11T07:56:01.138Z"
   },
   {
    "duration": 40,
    "start_time": "2022-05-11T07:57:00.756Z"
   },
   {
    "duration": 1371,
    "start_time": "2022-05-11T07:57:20.912Z"
   },
   {
    "duration": 19,
    "start_time": "2022-05-11T07:57:27.953Z"
   },
   {
    "duration": 60,
    "start_time": "2022-05-11T07:57:33.282Z"
   },
   {
    "duration": 47,
    "start_time": "2022-05-11T07:57:37.533Z"
   },
   {
    "duration": 19,
    "start_time": "2022-05-11T07:58:54.149Z"
   },
   {
    "duration": 188,
    "start_time": "2022-05-11T07:58:59.619Z"
   },
   {
    "duration": 57,
    "start_time": "2022-05-11T08:00:04.795Z"
   },
   {
    "duration": 43,
    "start_time": "2022-05-11T08:00:07.483Z"
   },
   {
    "duration": 60,
    "start_time": "2022-05-11T08:00:15.126Z"
   },
   {
    "duration": 43,
    "start_time": "2022-05-11T08:00:18.823Z"
   },
   {
    "duration": 58,
    "start_time": "2022-05-11T08:00:25.172Z"
   },
   {
    "duration": 52,
    "start_time": "2022-05-11T08:00:38.701Z"
   },
   {
    "duration": 35,
    "start_time": "2022-05-11T08:00:42.844Z"
   },
   {
    "duration": 46,
    "start_time": "2022-05-11T08:00:45.564Z"
   },
   {
    "duration": 32,
    "start_time": "2022-05-11T08:00:51.360Z"
   },
   {
    "duration": 20,
    "start_time": "2022-05-11T08:01:02.642Z"
   },
   {
    "duration": 211,
    "start_time": "2022-05-11T08:01:06.413Z"
   },
   {
    "duration": 119,
    "start_time": "2022-05-11T08:05:35.659Z"
   },
   {
    "duration": 19,
    "start_time": "2022-05-11T08:05:41.766Z"
   },
   {
    "duration": 2943,
    "start_time": "2022-05-11T08:05:45.465Z"
   },
   {
    "duration": 150,
    "start_time": "2022-05-11T08:26:58.134Z"
   },
   {
    "duration": 176,
    "start_time": "2022-05-11T08:27:31.767Z"
   },
   {
    "duration": 186,
    "start_time": "2022-05-11T08:30:11.495Z"
   },
   {
    "duration": 2993,
    "start_time": "2022-05-11T16:21:11.091Z"
   },
   {
    "duration": 26,
    "start_time": "2022-05-11T16:21:14.089Z"
   },
   {
    "duration": 54,
    "start_time": "2022-05-11T16:21:14.117Z"
   },
   {
    "duration": 100,
    "start_time": "2022-05-11T16:21:14.174Z"
   },
   {
    "duration": 69,
    "start_time": "2022-05-11T16:21:14.278Z"
   },
   {
    "duration": 41,
    "start_time": "2022-05-11T16:21:14.349Z"
   },
   {
    "duration": 84,
    "start_time": "2022-05-11T16:21:14.392Z"
   },
   {
    "duration": 49,
    "start_time": "2022-05-11T16:21:14.477Z"
   },
   {
    "duration": 61,
    "start_time": "2022-05-11T16:21:14.527Z"
   },
   {
    "duration": 47,
    "start_time": "2022-05-11T16:21:14.589Z"
   },
   {
    "duration": 80,
    "start_time": "2022-05-11T16:21:14.637Z"
   },
   {
    "duration": 99,
    "start_time": "2022-05-11T16:21:14.720Z"
   },
   {
    "duration": 66,
    "start_time": "2022-05-11T16:21:14.822Z"
   },
   {
    "duration": 244,
    "start_time": "2022-05-11T16:21:14.891Z"
   },
   {
    "duration": 236,
    "start_time": "2022-05-11T16:21:15.137Z"
   },
   {
    "duration": 36,
    "start_time": "2022-05-11T16:21:15.376Z"
   },
   {
    "duration": 260,
    "start_time": "2022-05-11T16:21:15.414Z"
   },
   {
    "duration": 498,
    "start_time": "2022-05-11T16:21:15.677Z"
   },
   {
    "duration": 4447,
    "start_time": "2022-05-11T16:21:16.178Z"
   },
   {
    "duration": 423,
    "start_time": "2022-05-11T16:21:20.627Z"
   },
   {
    "duration": 53,
    "start_time": "2022-05-11T16:21:21.052Z"
   },
   {
    "duration": 458,
    "start_time": "2022-05-11T16:21:21.108Z"
   },
   {
    "duration": 1181,
    "start_time": "2022-05-11T16:32:59.650Z"
   },
   {
    "duration": 30,
    "start_time": "2022-05-11T16:41:46.875Z"
   },
   {
    "duration": 2705,
    "start_time": "2022-05-11T16:42:24.390Z"
   },
   {
    "duration": 13,
    "start_time": "2022-05-11T16:42:27.097Z"
   },
   {
    "duration": 33,
    "start_time": "2022-05-11T16:42:27.112Z"
   },
   {
    "duration": 70,
    "start_time": "2022-05-11T16:42:27.148Z"
   },
   {
    "duration": 54,
    "start_time": "2022-05-11T16:42:27.220Z"
   },
   {
    "duration": 28,
    "start_time": "2022-05-11T16:42:27.278Z"
   },
   {
    "duration": 49,
    "start_time": "2022-05-11T16:42:27.308Z"
   },
   {
    "duration": 63,
    "start_time": "2022-05-11T16:42:27.359Z"
   },
   {
    "duration": 66,
    "start_time": "2022-05-11T16:42:27.423Z"
   },
   {
    "duration": 44,
    "start_time": "2022-05-11T16:42:27.493Z"
   },
   {
    "duration": 58,
    "start_time": "2022-05-11T16:42:27.539Z"
   },
   {
    "duration": 44,
    "start_time": "2022-05-11T16:42:27.599Z"
   },
   {
    "duration": 55,
    "start_time": "2022-05-11T16:42:27.645Z"
   },
   {
    "duration": 250,
    "start_time": "2022-05-11T16:42:27.702Z"
   },
   {
    "duration": 229,
    "start_time": "2022-05-11T16:42:27.954Z"
   },
   {
    "duration": 33,
    "start_time": "2022-05-11T16:42:28.187Z"
   },
   {
    "duration": 318,
    "start_time": "2022-05-11T16:42:28.222Z"
   },
   {
    "duration": 404,
    "start_time": "2022-05-11T16:42:28.542Z"
   },
   {
    "duration": 4774,
    "start_time": "2022-05-11T16:42:28.948Z"
   },
   {
    "duration": 350,
    "start_time": "2022-05-11T16:42:33.724Z"
   },
   {
    "duration": 327,
    "start_time": "2022-05-11T16:42:34.078Z"
   },
   {
    "duration": 0,
    "start_time": "2022-05-11T16:42:34.407Z"
   },
   {
    "duration": 170,
    "start_time": "2022-05-11T16:46:40.896Z"
   },
   {
    "duration": 154,
    "start_time": "2022-05-11T16:48:13.144Z"
   },
   {
    "duration": 17,
    "start_time": "2022-05-11T16:50:20.035Z"
   },
   {
    "duration": 2747,
    "start_time": "2022-05-11T16:50:40.150Z"
   },
   {
    "duration": 16,
    "start_time": "2022-05-11T16:50:42.898Z"
   },
   {
    "duration": 21,
    "start_time": "2022-05-11T16:50:42.916Z"
   },
   {
    "duration": 84,
    "start_time": "2022-05-11T16:50:42.939Z"
   },
   {
    "duration": 31,
    "start_time": "2022-05-11T16:50:43.024Z"
   },
   {
    "duration": 25,
    "start_time": "2022-05-11T16:50:43.064Z"
   },
   {
    "duration": 69,
    "start_time": "2022-05-11T16:50:43.091Z"
   },
   {
    "duration": 63,
    "start_time": "2022-05-11T16:50:43.163Z"
   },
   {
    "duration": 58,
    "start_time": "2022-05-11T16:50:43.228Z"
   },
   {
    "duration": 54,
    "start_time": "2022-05-11T16:50:43.288Z"
   },
   {
    "duration": 66,
    "start_time": "2022-05-11T16:50:43.343Z"
   },
   {
    "duration": 88,
    "start_time": "2022-05-11T16:50:43.411Z"
   },
   {
    "duration": 32,
    "start_time": "2022-05-11T16:50:43.502Z"
   },
   {
    "duration": 269,
    "start_time": "2022-05-11T16:50:43.536Z"
   },
   {
    "duration": 285,
    "start_time": "2022-05-11T16:50:43.807Z"
   },
   {
    "duration": 40,
    "start_time": "2022-05-11T16:50:44.094Z"
   },
   {
    "duration": 334,
    "start_time": "2022-05-11T16:50:44.136Z"
   },
   {
    "duration": 410,
    "start_time": "2022-05-11T16:50:44.471Z"
   },
   {
    "duration": 4616,
    "start_time": "2022-05-11T16:50:44.885Z"
   },
   {
    "duration": 328,
    "start_time": "2022-05-11T16:50:49.504Z"
   },
   {
    "duration": 161,
    "start_time": "2022-05-11T16:50:49.834Z"
   },
   {
    "duration": 0,
    "start_time": "2022-05-11T16:50:49.997Z"
   },
   {
    "duration": 22,
    "start_time": "2022-05-11T16:51:21.675Z"
   },
   {
    "duration": 14,
    "start_time": "2022-05-11T16:51:50.896Z"
   },
   {
    "duration": 2714,
    "start_time": "2022-05-11T16:52:09.946Z"
   },
   {
    "duration": 16,
    "start_time": "2022-05-11T16:52:12.662Z"
   },
   {
    "duration": 37,
    "start_time": "2022-05-11T16:52:12.680Z"
   },
   {
    "duration": 67,
    "start_time": "2022-05-11T16:52:12.720Z"
   },
   {
    "duration": 42,
    "start_time": "2022-05-11T16:52:12.788Z"
   },
   {
    "duration": 34,
    "start_time": "2022-05-11T16:52:12.832Z"
   },
   {
    "duration": 68,
    "start_time": "2022-05-11T16:52:12.870Z"
   },
   {
    "duration": 68,
    "start_time": "2022-05-11T16:52:12.940Z"
   },
   {
    "duration": 59,
    "start_time": "2022-05-11T16:52:13.009Z"
   },
   {
    "duration": 63,
    "start_time": "2022-05-11T16:52:13.073Z"
   },
   {
    "duration": 56,
    "start_time": "2022-05-11T16:52:13.137Z"
   },
   {
    "duration": 68,
    "start_time": "2022-05-11T16:52:13.196Z"
   },
   {
    "duration": 42,
    "start_time": "2022-05-11T16:52:13.267Z"
   },
   {
    "duration": 325,
    "start_time": "2022-05-11T16:52:13.311Z"
   },
   {
    "duration": 251,
    "start_time": "2022-05-11T16:52:13.638Z"
   },
   {
    "duration": 36,
    "start_time": "2022-05-11T16:52:13.893Z"
   },
   {
    "duration": 263,
    "start_time": "2022-05-11T16:52:13.931Z"
   },
   {
    "duration": 338,
    "start_time": "2022-05-11T16:52:14.197Z"
   },
   {
    "duration": 3497,
    "start_time": "2022-05-11T16:52:14.537Z"
   },
   {
    "duration": 298,
    "start_time": "2022-05-11T16:52:18.036Z"
   },
   {
    "duration": 142,
    "start_time": "2022-05-11T16:52:18.335Z"
   },
   {
    "duration": 0,
    "start_time": "2022-05-11T16:52:18.479Z"
   },
   {
    "duration": 6,
    "start_time": "2022-05-11T16:56:47.485Z"
   },
   {
    "duration": 1110,
    "start_time": "2022-05-11T16:56:58.809Z"
   },
   {
    "duration": 19,
    "start_time": "2022-05-11T16:57:09.189Z"
   },
   {
    "duration": 66,
    "start_time": "2022-05-11T16:57:12.455Z"
   },
   {
    "duration": 34,
    "start_time": "2022-05-11T16:57:26.351Z"
   },
   {
    "duration": 67,
    "start_time": "2022-05-11T16:57:30.835Z"
   },
   {
    "duration": 43,
    "start_time": "2022-05-11T16:57:35.987Z"
   },
   {
    "duration": 58,
    "start_time": "2022-05-11T16:57:41.939Z"
   },
   {
    "duration": 55,
    "start_time": "2022-05-11T16:57:46.827Z"
   },
   {
    "duration": 47,
    "start_time": "2022-05-11T16:57:52.745Z"
   },
   {
    "duration": 33,
    "start_time": "2022-05-11T16:58:29.989Z"
   },
   {
    "duration": 126,
    "start_time": "2022-05-11T16:58:41.084Z"
   },
   {
    "duration": 5,
    "start_time": "2022-05-11T16:58:49.631Z"
   },
   {
    "duration": 38,
    "start_time": "2022-05-11T17:00:00.291Z"
   },
   {
    "duration": 33,
    "start_time": "2022-05-11T17:00:58.389Z"
   },
   {
    "duration": 1191,
    "start_time": "2022-05-11T17:01:10.118Z"
   },
   {
    "duration": 306,
    "start_time": "2022-05-11T17:08:52.178Z"
   },
   {
    "duration": 246,
    "start_time": "2022-05-11T17:10:45.733Z"
   },
   {
    "duration": 204,
    "start_time": "2022-05-11T17:14:10.190Z"
   },
   {
    "duration": 1396,
    "start_time": "2022-05-11T17:14:25.541Z"
   },
   {
    "duration": 239,
    "start_time": "2022-05-11T17:14:33.833Z"
   },
   {
    "duration": 1050,
    "start_time": "2022-05-11T17:15:34.757Z"
   },
   {
    "duration": 1004,
    "start_time": "2022-05-11T17:25:45.880Z"
   },
   {
    "duration": 1586,
    "start_time": "2022-05-11T17:44:53.574Z"
   },
   {
    "duration": 1888,
    "start_time": "2022-05-11T17:51:59.434Z"
   },
   {
    "duration": 131726,
    "start_time": "2022-05-11T17:55:07.228Z"
   },
   {
    "duration": 69,
    "start_time": "2022-05-11T17:57:45.977Z"
   },
   {
    "duration": 287,
    "start_time": "2022-05-11T17:58:02.690Z"
   },
   {
    "duration": 2080,
    "start_time": "2022-05-11T17:58:05.946Z"
   },
   {
    "duration": 139800,
    "start_time": "2022-05-11T17:58:15.469Z"
   },
   {
    "duration": 1040,
    "start_time": "2022-05-11T18:14:38.223Z"
   },
   {
    "duration": 10,
    "start_time": "2022-05-11T18:15:05.041Z"
   },
   {
    "duration": 153,
    "start_time": "2022-05-11T18:16:36.464Z"
   },
   {
    "duration": 4486,
    "start_time": "2022-05-11T18:23:54.623Z"
   },
   {
    "duration": 5098,
    "start_time": "2022-05-11T18:24:57.624Z"
   },
   {
    "duration": 4556,
    "start_time": "2022-05-11T18:28:26.015Z"
   },
   {
    "duration": 67442,
    "start_time": "2022-05-11T18:28:48.783Z"
   },
   {
    "duration": 75712,
    "start_time": "2022-05-11T18:30:37.208Z"
   },
   {
    "duration": 16056,
    "start_time": "2022-05-11T18:32:36.101Z"
   },
   {
    "duration": 6,
    "start_time": "2022-05-11T18:37:40.571Z"
   },
   {
    "duration": 4276,
    "start_time": "2022-05-12T03:49:27.892Z"
   },
   {
    "duration": 20,
    "start_time": "2022-05-12T03:49:32.170Z"
   },
   {
    "duration": 22,
    "start_time": "2022-05-12T03:49:32.192Z"
   },
   {
    "duration": 56,
    "start_time": "2022-05-12T03:49:32.216Z"
   },
   {
    "duration": 25,
    "start_time": "2022-05-12T03:49:32.274Z"
   },
   {
    "duration": 50,
    "start_time": "2022-05-12T03:49:32.300Z"
   },
   {
    "duration": 60,
    "start_time": "2022-05-12T03:49:32.352Z"
   },
   {
    "duration": 37,
    "start_time": "2022-05-12T03:49:32.413Z"
   },
   {
    "duration": 57,
    "start_time": "2022-05-12T03:49:32.452Z"
   },
   {
    "duration": 40,
    "start_time": "2022-05-12T03:49:32.512Z"
   },
   {
    "duration": 66,
    "start_time": "2022-05-12T03:49:32.554Z"
   },
   {
    "duration": 32,
    "start_time": "2022-05-12T03:49:32.622Z"
   },
   {
    "duration": 265,
    "start_time": "2022-05-12T03:49:32.656Z"
   },
   {
    "duration": 237,
    "start_time": "2022-05-12T03:49:32.923Z"
   },
   {
    "duration": 47,
    "start_time": "2022-05-12T03:49:33.162Z"
   },
   {
    "duration": 328,
    "start_time": "2022-05-12T03:49:33.211Z"
   },
   {
    "duration": 249,
    "start_time": "2022-05-12T03:49:33.541Z"
   },
   {
    "duration": 3321,
    "start_time": "2022-05-12T03:49:33.792Z"
   },
   {
    "duration": 275,
    "start_time": "2022-05-12T03:49:37.115Z"
   },
   {
    "duration": 4,
    "start_time": "2022-05-12T03:49:37.392Z"
   },
   {
    "duration": 246,
    "start_time": "2022-05-12T03:49:37.398Z"
   },
   {
    "duration": 0,
    "start_time": "2022-05-12T03:49:37.646Z"
   },
   {
    "duration": 0,
    "start_time": "2022-05-12T03:49:37.647Z"
   },
   {
    "duration": 0,
    "start_time": "2022-05-12T03:49:37.648Z"
   },
   {
    "duration": 0,
    "start_time": "2022-05-12T03:49:37.649Z"
   },
   {
    "duration": 0,
    "start_time": "2022-05-12T03:49:37.650Z"
   },
   {
    "duration": 1000,
    "start_time": "2022-05-12T03:50:51.842Z"
   },
   {
    "duration": 3503,
    "start_time": "2022-05-12T03:51:25.300Z"
   },
   {
    "duration": 6,
    "start_time": "2022-05-12T03:51:42.228Z"
   },
   {
    "duration": 10,
    "start_time": "2022-05-12T03:51:55.486Z"
   },
   {
    "duration": 42,
    "start_time": "2022-05-12T03:58:28.419Z"
   },
   {
    "duration": 6,
    "start_time": "2022-05-12T03:59:48.724Z"
   },
   {
    "duration": 998,
    "start_time": "2022-05-12T03:59:57.193Z"
   },
   {
    "duration": 2589,
    "start_time": "2022-05-12T04:00:19.589Z"
   },
   {
    "duration": 19,
    "start_time": "2022-05-12T04:00:22.179Z"
   },
   {
    "duration": 20,
    "start_time": "2022-05-12T04:00:22.200Z"
   },
   {
    "duration": 54,
    "start_time": "2022-05-12T04:00:22.221Z"
   },
   {
    "duration": 16,
    "start_time": "2022-05-12T04:00:22.287Z"
   },
   {
    "duration": 56,
    "start_time": "2022-05-12T04:00:22.305Z"
   },
   {
    "duration": 52,
    "start_time": "2022-05-12T04:00:22.363Z"
   },
   {
    "duration": 38,
    "start_time": "2022-05-12T04:00:22.416Z"
   },
   {
    "duration": 56,
    "start_time": "2022-05-12T04:00:22.456Z"
   },
   {
    "duration": 38,
    "start_time": "2022-05-12T04:00:22.514Z"
   },
   {
    "duration": 58,
    "start_time": "2022-05-12T04:00:22.553Z"
   },
   {
    "duration": 34,
    "start_time": "2022-05-12T04:00:22.613Z"
   },
   {
    "duration": 254,
    "start_time": "2022-05-12T04:00:22.649Z"
   },
   {
    "duration": 229,
    "start_time": "2022-05-12T04:00:22.905Z"
   },
   {
    "duration": 40,
    "start_time": "2022-05-12T04:00:23.136Z"
   },
   {
    "duration": 332,
    "start_time": "2022-05-12T04:00:23.188Z"
   },
   {
    "duration": 239,
    "start_time": "2022-05-12T04:00:23.521Z"
   },
   {
    "duration": 3504,
    "start_time": "2022-05-12T04:00:23.762Z"
   },
   {
    "duration": 295,
    "start_time": "2022-05-12T04:00:27.268Z"
   },
   {
    "duration": 5,
    "start_time": "2022-05-12T04:00:27.565Z"
   },
   {
    "duration": 228,
    "start_time": "2022-05-12T04:00:27.571Z"
   },
   {
    "duration": 0,
    "start_time": "2022-05-12T04:00:27.801Z"
   },
   {
    "duration": 0,
    "start_time": "2022-05-12T04:00:27.802Z"
   },
   {
    "duration": 0,
    "start_time": "2022-05-12T04:00:27.803Z"
   },
   {
    "duration": 0,
    "start_time": "2022-05-12T04:00:27.804Z"
   },
   {
    "duration": 0,
    "start_time": "2022-05-12T04:00:27.805Z"
   },
   {
    "duration": 15,
    "start_time": "2022-05-12T04:01:11.258Z"
   },
   {
    "duration": 1032,
    "start_time": "2022-05-12T04:01:30.176Z"
   },
   {
    "duration": 107,
    "start_time": "2022-05-12T04:01:42.012Z"
   },
   {
    "duration": 5,
    "start_time": "2022-05-12T04:01:48.307Z"
   },
   {
    "duration": 20,
    "start_time": "2022-05-12T04:01:51.005Z"
   },
   {
    "duration": 35,
    "start_time": "2022-05-12T04:02:22.402Z"
   },
   {
    "duration": 34,
    "start_time": "2022-05-12T04:02:28.169Z"
   },
   {
    "duration": 5,
    "start_time": "2022-05-12T04:02:53.381Z"
   },
   {
    "duration": 51,
    "start_time": "2022-05-12T04:03:32.139Z"
   },
   {
    "duration": 87,
    "start_time": "2022-05-12T04:03:47.418Z"
   },
   {
    "duration": 5,
    "start_time": "2022-05-12T04:03:56.156Z"
   },
   {
    "duration": 33,
    "start_time": "2022-05-12T04:04:02.306Z"
   },
   {
    "duration": 2430,
    "start_time": "2022-05-12T04:04:10.532Z"
   },
   {
    "duration": 16,
    "start_time": "2022-05-12T04:04:12.964Z"
   },
   {
    "duration": 22,
    "start_time": "2022-05-12T04:04:12.988Z"
   },
   {
    "duration": 49,
    "start_time": "2022-05-12T04:04:13.012Z"
   },
   {
    "duration": 33,
    "start_time": "2022-05-12T04:04:13.064Z"
   },
   {
    "duration": 49,
    "start_time": "2022-05-12T04:04:13.098Z"
   },
   {
    "duration": 56,
    "start_time": "2022-05-12T04:04:13.149Z"
   },
   {
    "duration": 35,
    "start_time": "2022-05-12T04:04:13.207Z"
   },
   {
    "duration": 61,
    "start_time": "2022-05-12T04:04:13.244Z"
   },
   {
    "duration": 35,
    "start_time": "2022-05-12T04:04:13.307Z"
   },
   {
    "duration": 67,
    "start_time": "2022-05-12T04:04:13.344Z"
   },
   {
    "duration": 33,
    "start_time": "2022-05-12T04:04:13.412Z"
   },
   {
    "duration": 263,
    "start_time": "2022-05-12T04:04:13.446Z"
   },
   {
    "duration": 233,
    "start_time": "2022-05-12T04:04:13.712Z"
   },
   {
    "duration": 47,
    "start_time": "2022-05-12T04:04:13.947Z"
   },
   {
    "duration": 331,
    "start_time": "2022-05-12T04:04:13.995Z"
   },
   {
    "duration": 246,
    "start_time": "2022-05-12T04:04:14.328Z"
   },
   {
    "duration": 3358,
    "start_time": "2022-05-12T04:04:14.576Z"
   },
   {
    "duration": 239,
    "start_time": "2022-05-12T04:04:17.936Z"
   },
   {
    "duration": 5,
    "start_time": "2022-05-12T04:04:18.177Z"
   },
   {
    "duration": 208,
    "start_time": "2022-05-12T04:04:18.187Z"
   },
   {
    "duration": 0,
    "start_time": "2022-05-12T04:04:18.396Z"
   },
   {
    "duration": 0,
    "start_time": "2022-05-12T04:04:18.398Z"
   },
   {
    "duration": 0,
    "start_time": "2022-05-12T04:04:18.399Z"
   },
   {
    "duration": 0,
    "start_time": "2022-05-12T04:04:18.400Z"
   },
   {
    "duration": 0,
    "start_time": "2022-05-12T04:04:18.401Z"
   },
   {
    "duration": 1035,
    "start_time": "2022-05-12T04:05:21.172Z"
   },
   {
    "duration": 20,
    "start_time": "2022-05-12T04:05:40.877Z"
   },
   {
    "duration": 49,
    "start_time": "2022-05-12T04:05:45.505Z"
   },
   {
    "duration": 16,
    "start_time": "2022-05-12T04:05:59.042Z"
   },
   {
    "duration": 51,
    "start_time": "2022-05-12T04:06:17.857Z"
   },
   {
    "duration": 47,
    "start_time": "2022-05-12T04:06:26.512Z"
   },
   {
    "duration": 36,
    "start_time": "2022-05-12T04:07:20.181Z"
   },
   {
    "duration": 34,
    "start_time": "2022-05-12T04:14:24.197Z"
   },
   {
    "duration": 34,
    "start_time": "2022-05-12T04:14:33.742Z"
   },
   {
    "duration": 43,
    "start_time": "2022-05-12T04:14:43.692Z"
   },
   {
    "duration": 36,
    "start_time": "2022-05-12T04:14:46.126Z"
   },
   {
    "duration": 46,
    "start_time": "2022-05-12T04:14:50.942Z"
   },
   {
    "duration": 34,
    "start_time": "2022-05-12T04:15:15.308Z"
   },
   {
    "duration": 32,
    "start_time": "2022-05-12T04:15:32.262Z"
   },
   {
    "duration": 17,
    "start_time": "2022-05-12T04:18:37.620Z"
   },
   {
    "duration": 3542,
    "start_time": "2022-05-12T04:20:32.118Z"
   },
   {
    "duration": 248,
    "start_time": "2022-05-12T04:21:08.614Z"
   },
   {
    "duration": 216,
    "start_time": "2022-05-12T04:21:23.002Z"
   },
   {
    "duration": 225,
    "start_time": "2022-05-12T04:22:16.936Z"
   },
   {
    "duration": 130,
    "start_time": "2022-05-12T04:22:33.190Z"
   },
   {
    "duration": 286,
    "start_time": "2022-05-12T04:22:40.473Z"
   },
   {
    "duration": 5,
    "start_time": "2022-05-12T04:22:46.016Z"
   },
   {
    "duration": 105,
    "start_time": "2022-05-12T04:23:06.272Z"
   },
   {
    "duration": 23,
    "start_time": "2022-05-12T04:42:35.916Z"
   },
   {
    "duration": 1063,
    "start_time": "2022-05-12T04:42:46.926Z"
   },
   {
    "duration": 14,
    "start_time": "2022-05-12T04:42:57.520Z"
   },
   {
    "duration": 21,
    "start_time": "2022-05-12T04:43:10.296Z"
   },
   {
    "duration": 51,
    "start_time": "2022-05-12T04:43:14.843Z"
   },
   {
    "duration": 17,
    "start_time": "2022-05-12T04:43:18.988Z"
   },
   {
    "duration": 55,
    "start_time": "2022-05-12T04:43:23.980Z"
   },
   {
    "duration": 46,
    "start_time": "2022-05-12T04:43:37.338Z"
   },
   {
    "duration": 36,
    "start_time": "2022-05-12T04:43:41.672Z"
   },
   {
    "duration": 35,
    "start_time": "2022-05-12T04:43:54.927Z"
   },
   {
    "duration": 46,
    "start_time": "2022-05-12T04:44:09.616Z"
   },
   {
    "duration": 34,
    "start_time": "2022-05-12T04:44:12.698Z"
   },
   {
    "duration": 48,
    "start_time": "2022-05-12T04:44:21.794Z"
   },
   {
    "duration": 36,
    "start_time": "2022-05-12T04:44:30.531Z"
   },
   {
    "duration": 32,
    "start_time": "2022-05-12T04:44:46.942Z"
   },
   {
    "duration": 15,
    "start_time": "2022-05-12T04:46:08.290Z"
   },
   {
    "duration": 3281,
    "start_time": "2022-05-12T04:46:26.053Z"
   },
   {
    "duration": 299,
    "start_time": "2022-05-12T04:46:44.704Z"
   },
   {
    "duration": 22,
    "start_time": "2022-05-12T04:46:50.109Z"
   },
   {
    "duration": 36,
    "start_time": "2022-05-12T04:47:28.028Z"
   },
   {
    "duration": 23,
    "start_time": "2022-05-12T04:48:01.964Z"
   },
   {
    "duration": 54,
    "start_time": "2022-05-12T04:48:04.234Z"
   },
   {
    "duration": 1033,
    "start_time": "2022-05-12T04:48:09.114Z"
   },
   {
    "duration": 20,
    "start_time": "2022-05-12T04:48:18.025Z"
   },
   {
    "duration": 51,
    "start_time": "2022-05-12T04:48:25.060Z"
   },
   {
    "duration": 3528,
    "start_time": "2022-05-12T04:49:00.686Z"
   },
   {
    "duration": 278,
    "start_time": "2022-05-12T04:49:11.810Z"
   },
   {
    "duration": 35,
    "start_time": "2022-05-12T04:49:16.250Z"
   },
   {
    "duration": 28,
    "start_time": "2022-05-12T04:49:31.428Z"
   },
   {
    "duration": 2507,
    "start_time": "2022-05-12T04:49:46.805Z"
   },
   {
    "duration": 16,
    "start_time": "2022-05-12T04:49:49.314Z"
   },
   {
    "duration": 25,
    "start_time": "2022-05-12T04:49:49.331Z"
   },
   {
    "duration": 68,
    "start_time": "2022-05-12T04:49:49.358Z"
   },
   {
    "duration": 18,
    "start_time": "2022-05-12T04:49:49.427Z"
   },
   {
    "duration": 66,
    "start_time": "2022-05-12T04:49:49.447Z"
   },
   {
    "duration": 46,
    "start_time": "2022-05-12T04:49:49.515Z"
   },
   {
    "duration": 52,
    "start_time": "2022-05-12T04:49:49.563Z"
   },
   {
    "duration": 47,
    "start_time": "2022-05-12T04:49:49.617Z"
   },
   {
    "duration": 51,
    "start_time": "2022-05-12T04:49:49.667Z"
   },
   {
    "duration": 49,
    "start_time": "2022-05-12T04:49:49.720Z"
   },
   {
    "duration": 36,
    "start_time": "2022-05-12T04:49:49.789Z"
   },
   {
    "duration": 268,
    "start_time": "2022-05-12T04:49:49.827Z"
   },
   {
    "duration": 249,
    "start_time": "2022-05-12T04:49:50.097Z"
   },
   {
    "duration": 45,
    "start_time": "2022-05-12T04:49:50.348Z"
   },
   {
    "duration": 364,
    "start_time": "2022-05-12T04:49:50.396Z"
   },
   {
    "duration": 253,
    "start_time": "2022-05-12T04:49:50.763Z"
   },
   {
    "duration": 16,
    "start_time": "2022-05-12T04:49:51.018Z"
   },
   {
    "duration": 3508,
    "start_time": "2022-05-12T04:49:51.036Z"
   },
   {
    "duration": 316,
    "start_time": "2022-05-12T04:49:54.546Z"
   },
   {
    "duration": 41,
    "start_time": "2022-05-12T04:49:54.864Z"
   },
   {
    "duration": 218,
    "start_time": "2022-05-12T04:49:54.907Z"
   },
   {
    "duration": 0,
    "start_time": "2022-05-12T04:49:55.127Z"
   },
   {
    "duration": 0,
    "start_time": "2022-05-12T04:49:55.128Z"
   },
   {
    "duration": 0,
    "start_time": "2022-05-12T04:49:55.129Z"
   },
   {
    "duration": 0,
    "start_time": "2022-05-12T04:49:55.130Z"
   },
   {
    "duration": 0,
    "start_time": "2022-05-12T04:49:55.131Z"
   },
   {
    "duration": 1115,
    "start_time": "2022-05-12T04:50:46.974Z"
   },
   {
    "duration": 20,
    "start_time": "2022-05-12T04:50:57.907Z"
   },
   {
    "duration": 50,
    "start_time": "2022-05-12T04:51:19.567Z"
   },
   {
    "duration": 17,
    "start_time": "2022-05-12T04:51:34.025Z"
   },
   {
    "duration": 52,
    "start_time": "2022-05-12T04:51:37.073Z"
   },
   {
    "duration": 47,
    "start_time": "2022-05-12T04:51:43.711Z"
   },
   {
    "duration": 38,
    "start_time": "2022-05-12T04:51:46.143Z"
   },
   {
    "duration": 36,
    "start_time": "2022-05-12T04:53:15.185Z"
   },
   {
    "duration": 37,
    "start_time": "2022-05-12T04:59:11.993Z"
   },
   {
    "duration": 36,
    "start_time": "2022-05-12T04:59:34.683Z"
   },
   {
    "duration": 14,
    "start_time": "2022-05-12T05:00:00.823Z"
   },
   {
    "duration": 3615,
    "start_time": "2022-05-12T05:00:31.032Z"
   },
   {
    "duration": 285,
    "start_time": "2022-05-12T05:00:42.117Z"
   },
   {
    "duration": 35,
    "start_time": "2022-05-12T05:00:47.170Z"
   },
   {
    "duration": 1048,
    "start_time": "2022-05-12T05:01:10.111Z"
   },
   {
    "duration": 21,
    "start_time": "2022-05-12T05:01:16.366Z"
   },
   {
    "duration": 51,
    "start_time": "2022-05-12T05:01:24.146Z"
   },
   {
    "duration": 21,
    "start_time": "2022-05-12T05:01:31.661Z"
   },
   {
    "duration": 34,
    "start_time": "2022-05-12T05:01:45.492Z"
   },
   {
    "duration": 25,
    "start_time": "2022-05-12T05:01:53.051Z"
   },
   {
    "duration": 2501,
    "start_time": "2022-05-12T05:02:05.039Z"
   },
   {
    "duration": 15,
    "start_time": "2022-05-12T05:02:07.543Z"
   },
   {
    "duration": 35,
    "start_time": "2022-05-12T05:02:07.560Z"
   },
   {
    "duration": 57,
    "start_time": "2022-05-12T05:02:07.597Z"
   },
   {
    "duration": 18,
    "start_time": "2022-05-12T05:02:07.656Z"
   },
   {
    "duration": 52,
    "start_time": "2022-05-12T05:02:07.689Z"
   },
   {
    "duration": 64,
    "start_time": "2022-05-12T05:02:07.742Z"
   },
   {
    "duration": 37,
    "start_time": "2022-05-12T05:02:07.808Z"
   },
   {
    "duration": 64,
    "start_time": "2022-05-12T05:02:07.847Z"
   },
   {
    "duration": 36,
    "start_time": "2022-05-12T05:02:07.913Z"
   },
   {
    "duration": 66,
    "start_time": "2022-05-12T05:02:07.951Z"
   },
   {
    "duration": 36,
    "start_time": "2022-05-12T05:02:08.019Z"
   },
   {
    "duration": 274,
    "start_time": "2022-05-12T05:02:08.057Z"
   },
   {
    "duration": 247,
    "start_time": "2022-05-12T05:02:08.334Z"
   },
   {
    "duration": 43,
    "start_time": "2022-05-12T05:02:08.587Z"
   },
   {
    "duration": 362,
    "start_time": "2022-05-12T05:02:08.632Z"
   },
   {
    "duration": 248,
    "start_time": "2022-05-12T05:02:08.997Z"
   },
   {
    "duration": 15,
    "start_time": "2022-05-12T05:02:09.248Z"
   },
   {
    "duration": 3495,
    "start_time": "2022-05-12T05:02:09.265Z"
   },
   {
    "duration": 325,
    "start_time": "2022-05-12T05:02:12.763Z"
   },
   {
    "duration": 37,
    "start_time": "2022-05-12T05:02:13.090Z"
   },
   {
    "duration": 160,
    "start_time": "2022-05-12T05:02:13.128Z"
   },
   {
    "duration": 0,
    "start_time": "2022-05-12T05:02:13.290Z"
   },
   {
    "duration": 0,
    "start_time": "2022-05-12T05:02:13.291Z"
   },
   {
    "duration": 0,
    "start_time": "2022-05-12T05:02:13.292Z"
   },
   {
    "duration": 0,
    "start_time": "2022-05-12T05:02:13.293Z"
   },
   {
    "duration": 0,
    "start_time": "2022-05-12T05:02:13.294Z"
   },
   {
    "duration": 39,
    "start_time": "2022-05-12T05:03:35.321Z"
   },
   {
    "duration": 15,
    "start_time": "2022-05-12T05:06:55.047Z"
   },
   {
    "duration": 48,
    "start_time": "2022-05-12T05:09:17.465Z"
   },
   {
    "duration": 15,
    "start_time": "2022-05-12T05:09:25.389Z"
   },
   {
    "duration": 24,
    "start_time": "2022-05-12T05:10:15.140Z"
   },
   {
    "duration": 14,
    "start_time": "2022-05-12T05:10:20.341Z"
   },
   {
    "duration": 4201,
    "start_time": "2022-05-12T05:10:26.579Z"
   },
   {
    "duration": 16,
    "start_time": "2022-05-12T05:10:30.783Z"
   },
   {
    "duration": 27,
    "start_time": "2022-05-12T05:10:30.801Z"
   },
   {
    "duration": 68,
    "start_time": "2022-05-12T05:10:30.830Z"
   },
   {
    "duration": 18,
    "start_time": "2022-05-12T05:10:30.900Z"
   },
   {
    "duration": 73,
    "start_time": "2022-05-12T05:10:30.919Z"
   },
   {
    "duration": 49,
    "start_time": "2022-05-12T05:10:30.994Z"
   },
   {
    "duration": 53,
    "start_time": "2022-05-12T05:10:31.045Z"
   },
   {
    "duration": 49,
    "start_time": "2022-05-12T05:10:31.100Z"
   },
   {
    "duration": 59,
    "start_time": "2022-05-12T05:10:31.152Z"
   },
   {
    "duration": 50,
    "start_time": "2022-05-12T05:10:31.213Z"
   },
   {
    "duration": 48,
    "start_time": "2022-05-12T05:10:31.265Z"
   },
   {
    "duration": 274,
    "start_time": "2022-05-12T05:10:31.315Z"
   },
   {
    "duration": 265,
    "start_time": "2022-05-12T05:10:31.591Z"
   },
   {
    "duration": 55,
    "start_time": "2022-05-12T05:10:31.858Z"
   },
   {
    "duration": 363,
    "start_time": "2022-05-12T05:10:31.915Z"
   },
   {
    "duration": 256,
    "start_time": "2022-05-12T05:10:32.288Z"
   },
   {
    "duration": 16,
    "start_time": "2022-05-12T05:10:32.545Z"
   },
   {
    "duration": 49,
    "start_time": "2022-05-12T05:10:32.563Z"
   },
   {
    "duration": 127,
    "start_time": "2022-05-12T05:10:32.614Z"
   },
   {
    "duration": 33,
    "start_time": "2022-05-12T05:10:32.743Z"
   },
   {
    "duration": 825,
    "start_time": "2022-05-12T05:10:32.789Z"
   },
   {
    "duration": 171,
    "start_time": "2022-05-12T05:10:33.616Z"
   },
   {
    "duration": 0,
    "start_time": "2022-05-12T05:10:33.789Z"
   },
   {
    "duration": 0,
    "start_time": "2022-05-12T05:10:33.790Z"
   },
   {
    "duration": 0,
    "start_time": "2022-05-12T05:10:33.791Z"
   },
   {
    "duration": 0,
    "start_time": "2022-05-12T05:10:33.792Z"
   },
   {
    "duration": 245,
    "start_time": "2022-05-12T05:11:08.945Z"
   },
   {
    "duration": 1922,
    "start_time": "2022-05-12T05:11:17.944Z"
   },
   {
    "duration": 125872,
    "start_time": "2022-05-12T05:11:21.640Z"
   },
   {
    "duration": 16922,
    "start_time": "2022-05-12T05:14:17.537Z"
   },
   {
    "duration": 6,
    "start_time": "2022-05-12T05:15:33.536Z"
   },
   {
    "duration": 2612,
    "start_time": "2022-05-12T06:18:19.351Z"
   },
   {
    "duration": 23,
    "start_time": "2022-05-12T06:18:21.965Z"
   },
   {
    "duration": 22,
    "start_time": "2022-05-12T06:18:21.989Z"
   },
   {
    "duration": 60,
    "start_time": "2022-05-12T06:18:22.013Z"
   },
   {
    "duration": 27,
    "start_time": "2022-05-12T06:18:22.074Z"
   },
   {
    "duration": 52,
    "start_time": "2022-05-12T06:18:22.103Z"
   },
   {
    "duration": 56,
    "start_time": "2022-05-12T06:18:22.157Z"
   },
   {
    "duration": 37,
    "start_time": "2022-05-12T06:18:22.215Z"
   },
   {
    "duration": 58,
    "start_time": "2022-05-12T06:18:22.254Z"
   },
   {
    "duration": 37,
    "start_time": "2022-05-12T06:18:22.315Z"
   },
   {
    "duration": 64,
    "start_time": "2022-05-12T06:18:22.354Z"
   },
   {
    "duration": 36,
    "start_time": "2022-05-12T06:18:22.419Z"
   },
   {
    "duration": 264,
    "start_time": "2022-05-12T06:18:22.456Z"
   },
   {
    "duration": 248,
    "start_time": "2022-05-12T06:18:22.722Z"
   },
   {
    "duration": 49,
    "start_time": "2022-05-12T06:18:22.972Z"
   },
   {
    "duration": 360,
    "start_time": "2022-05-12T06:18:23.023Z"
   },
   {
    "duration": 256,
    "start_time": "2022-05-12T06:18:23.388Z"
   },
   {
    "duration": 15,
    "start_time": "2022-05-12T06:18:23.646Z"
   },
   {
    "duration": 44,
    "start_time": "2022-05-12T06:18:23.663Z"
   },
   {
    "duration": 127,
    "start_time": "2022-05-12T06:18:23.709Z"
   },
   {
    "duration": 33,
    "start_time": "2022-05-12T06:18:23.838Z"
   },
   {
    "duration": 835,
    "start_time": "2022-05-12T06:18:23.873Z"
   },
   {
    "duration": 281,
    "start_time": "2022-05-12T06:18:24.709Z"
   },
   {
    "duration": 2020,
    "start_time": "2022-05-12T06:18:24.992Z"
   },
   {
    "duration": 125258,
    "start_time": "2022-05-12T06:18:27.014Z"
   },
   {
    "duration": 16259,
    "start_time": "2022-05-12T06:20:32.273Z"
   },
   {
    "duration": 7,
    "start_time": "2022-05-12T06:20:48.534Z"
   },
   {
    "duration": 16345,
    "start_time": "2022-05-12T06:24:45.817Z"
   },
   {
    "duration": 16507,
    "start_time": "2022-05-12T06:25:09.064Z"
   },
   {
    "duration": 16920,
    "start_time": "2022-05-12T06:27:46.489Z"
   },
   {
    "duration": 16939,
    "start_time": "2022-05-12T06:28:37.078Z"
   },
   {
    "duration": 3,
    "start_time": "2022-05-12T06:29:18.403Z"
   },
   {
    "duration": 4,
    "start_time": "2022-05-12T06:29:27.813Z"
   },
   {
    "duration": 16864,
    "start_time": "2022-05-12T06:32:52.745Z"
   },
   {
    "duration": 5,
    "start_time": "2022-05-12T06:38:13.017Z"
   },
   {
    "duration": 738981,
    "start_time": "2022-05-12T06:38:51.550Z"
   },
   {
    "duration": 1067,
    "start_time": "2022-05-12T06:57:04.549Z"
   },
   {
    "duration": 1055,
    "start_time": "2022-05-12T07:29:30.564Z"
   },
   {
    "duration": 202,
    "start_time": "2022-05-12T08:09:24.061Z"
   },
   {
    "duration": 764980,
    "start_time": "2022-05-12T08:12:20.757Z"
   },
   {
    "duration": 2100847,
    "start_time": "2022-05-12T09:14:51.751Z"
   },
   {
    "duration": 2309111,
    "start_time": "2022-05-12T12:26:19.311Z"
   },
   {
    "duration": 13860,
    "start_time": "2022-05-12T13:13:30.581Z"
   },
   {
    "duration": 1787,
    "start_time": "2022-05-12T14:22:23.284Z"
   },
   {
    "duration": 4271858,
    "start_time": "2022-05-12T14:22:27.808Z"
   },
   {
    "duration": 2999226,
    "start_time": "2022-05-12T15:33:49.541Z"
   },
   {
    "duration": 3820186,
    "start_time": "2022-05-12T16:24:14.066Z"
   },
   {
    "duration": 46500,
    "start_time": "2022-05-12T17:28:13.221Z"
   },
   {
    "duration": 36318,
    "start_time": "2022-05-12T17:29:07.304Z"
   },
   {
    "duration": 99,
    "start_time": "2022-05-12T17:30:49.185Z"
   },
   {
    "duration": 126,
    "start_time": "2022-05-12T17:31:13.471Z"
   },
   {
    "duration": 103139,
    "start_time": "2022-05-12T17:31:41.916Z"
   },
   {
    "duration": 192796,
    "start_time": "2022-05-12T17:33:57.882Z"
   },
   {
    "duration": 244861,
    "start_time": "2022-05-12T17:38:36.220Z"
   },
   {
    "duration": 427448,
    "start_time": "2022-05-12T17:47:27.792Z"
   },
   {
    "duration": 514839,
    "start_time": "2022-05-12T17:55:05.404Z"
   },
   {
    "duration": 640295,
    "start_time": "2022-05-12T18:07:04.577Z"
   },
   {
    "duration": 1250749,
    "start_time": "2022-05-12T18:18:52.713Z"
   },
   {
    "duration": 631639,
    "start_time": "2022-05-12T18:39:51.486Z"
   },
   {
    "duration": 776189,
    "start_time": "2022-05-12T18:53:34.369Z"
   },
   {
    "duration": 1121343,
    "start_time": "2022-05-12T19:07:35.312Z"
   },
   {
    "duration": 18,
    "start_time": "2022-05-12T19:27:58.245Z"
   },
   {
    "duration": 1524,
    "start_time": "2022-05-12T19:28:23.161Z"
   },
   {
    "duration": 3638,
    "start_time": "2022-05-12T19:28:33.444Z"
   },
   {
    "duration": 82616,
    "start_time": "2022-05-12T19:29:14.446Z"
   },
   {
    "duration": 79035,
    "start_time": "2022-05-12T19:31:12.212Z"
   },
   {
    "duration": 1564191,
    "start_time": "2022-05-12T19:32:58.015Z"
   },
   {
    "duration": 5634479,
    "start_time": "2022-05-13T04:44:19.602Z"
   },
   {
    "duration": 704370,
    "start_time": "2022-05-13T06:18:39.369Z"
   },
   {
    "duration": 22,
    "start_time": "2022-05-13T07:25:17.304Z"
   },
   {
    "duration": 2567,
    "start_time": "2022-05-13T07:25:43.849Z"
   },
   {
    "duration": 2369,
    "start_time": "2022-05-13T07:31:43.151Z"
   },
   {
    "duration": 108,
    "start_time": "2022-05-13T07:32:37.401Z"
   },
   {
    "duration": 2552,
    "start_time": "2022-05-13T07:32:52.236Z"
   },
   {
    "duration": 14,
    "start_time": "2022-05-13T07:32:54.790Z"
   },
   {
    "duration": 22,
    "start_time": "2022-05-13T07:32:54.805Z"
   },
   {
    "duration": 64,
    "start_time": "2022-05-13T07:32:54.828Z"
   },
   {
    "duration": 17,
    "start_time": "2022-05-13T07:32:54.894Z"
   },
   {
    "duration": 54,
    "start_time": "2022-05-13T07:32:54.912Z"
   },
   {
    "duration": 57,
    "start_time": "2022-05-13T07:32:54.967Z"
   },
   {
    "duration": 38,
    "start_time": "2022-05-13T07:32:55.026Z"
   },
   {
    "duration": 61,
    "start_time": "2022-05-13T07:32:55.066Z"
   },
   {
    "duration": 35,
    "start_time": "2022-05-13T07:32:55.128Z"
   },
   {
    "duration": 62,
    "start_time": "2022-05-13T07:32:55.164Z"
   },
   {
    "duration": 34,
    "start_time": "2022-05-13T07:32:55.227Z"
   },
   {
    "duration": 257,
    "start_time": "2022-05-13T07:32:55.263Z"
   },
   {
    "duration": 237,
    "start_time": "2022-05-13T07:32:55.523Z"
   },
   {
    "duration": 49,
    "start_time": "2022-05-13T07:32:55.762Z"
   },
   {
    "duration": 338,
    "start_time": "2022-05-13T07:32:55.812Z"
   },
   {
    "duration": 243,
    "start_time": "2022-05-13T07:32:56.151Z"
   },
   {
    "duration": 14,
    "start_time": "2022-05-13T07:32:56.395Z"
   },
   {
    "duration": 33,
    "start_time": "2022-05-13T07:32:56.411Z"
   },
   {
    "duration": 132,
    "start_time": "2022-05-13T07:32:56.445Z"
   },
   {
    "duration": 787,
    "start_time": "2022-05-13T07:32:56.579Z"
   },
   {
    "duration": 325,
    "start_time": "2022-05-13T07:32:57.369Z"
   },
   {
    "duration": 1938,
    "start_time": "2022-05-13T07:32:57.696Z"
   },
   {
    "duration": 119765,
    "start_time": "2022-05-13T07:32:59.636Z"
   },
   {
    "duration": 16436,
    "start_time": "2022-05-13T07:34:59.403Z"
   },
   {
    "duration": 727995,
    "start_time": "2022-05-13T07:35:15.840Z"
   },
   {
    "duration": 15231,
    "start_time": "2022-05-13T07:47:23.837Z"
   },
   {
    "duration": 0,
    "start_time": "2022-05-13T07:47:39.070Z"
   },
   {
    "duration": 0,
    "start_time": "2022-05-13T07:47:39.071Z"
   },
   {
    "duration": 9636,
    "start_time": "2022-05-13T13:11:38.644Z"
   },
   {
    "duration": 24,
    "start_time": "2022-05-13T13:11:48.283Z"
   },
   {
    "duration": 35,
    "start_time": "2022-05-13T13:11:48.325Z"
   },
   {
    "duration": 98,
    "start_time": "2022-05-13T13:11:48.362Z"
   },
   {
    "duration": 22,
    "start_time": "2022-05-13T13:11:48.464Z"
   },
   {
    "duration": 92,
    "start_time": "2022-05-13T13:11:48.489Z"
   },
   {
    "duration": 74,
    "start_time": "2022-05-13T13:11:48.584Z"
   },
   {
    "duration": 71,
    "start_time": "2022-05-13T13:11:48.660Z"
   },
   {
    "duration": 63,
    "start_time": "2022-05-13T13:11:48.733Z"
   },
   {
    "duration": 79,
    "start_time": "2022-05-13T13:11:48.798Z"
   },
   {
    "duration": 77,
    "start_time": "2022-05-13T13:11:48.879Z"
   },
   {
    "duration": 66,
    "start_time": "2022-05-13T13:11:48.958Z"
   },
   {
    "duration": 416,
    "start_time": "2022-05-13T13:11:49.027Z"
   },
   {
    "duration": 414,
    "start_time": "2022-05-13T13:11:49.448Z"
   },
   {
    "duration": 38,
    "start_time": "2022-05-13T13:11:49.864Z"
   },
   {
    "duration": 642,
    "start_time": "2022-05-13T13:11:49.905Z"
   },
   {
    "duration": 419,
    "start_time": "2022-05-13T13:11:50.549Z"
   },
   {
    "duration": 26,
    "start_time": "2022-05-13T13:11:50.970Z"
   },
   {
    "duration": 60,
    "start_time": "2022-05-13T13:11:50.998Z"
   },
   {
    "duration": 184,
    "start_time": "2022-05-13T13:11:51.061Z"
   },
   {
    "duration": 1334,
    "start_time": "2022-05-13T13:11:51.248Z"
   },
   {
    "duration": 342,
    "start_time": "2022-05-13T13:11:52.585Z"
   },
   {
    "duration": 2823,
    "start_time": "2022-05-13T13:11:52.929Z"
   },
   {
    "duration": 204193,
    "start_time": "2022-05-13T13:11:55.755Z"
   },
   {
    "duration": 29903,
    "start_time": "2022-05-13T13:15:19.951Z"
   },
   {
    "duration": 1175799,
    "start_time": "2022-05-13T13:15:49.856Z"
   },
   {
    "duration": 40389,
    "start_time": "2022-05-13T13:35:25.657Z"
   },
   {
    "duration": 1,
    "start_time": "2022-05-13T13:36:06.049Z"
   },
   {
    "duration": 0,
    "start_time": "2022-05-13T13:36:06.051Z"
   },
   {
    "duration": 42566,
    "start_time": "2022-05-13T13:39:46.605Z"
   },
   {
    "duration": 91532,
    "start_time": "2022-05-13T13:41:43.303Z"
   },
   {
    "duration": 2050415,
    "start_time": "2022-05-13T13:43:42.916Z"
   },
   {
    "duration": 9198011,
    "start_time": "2022-05-13T14:26:54.216Z"
   },
   {
    "duration": 183088,
    "start_time": "2022-05-13T17:04:19.016Z"
   },
   {
    "duration": 5753680,
    "start_time": "2022-05-13T17:09:29.449Z"
   },
   {
    "duration": 263,
    "start_time": "2022-05-13T19:26:58.042Z"
   },
   {
    "duration": 130,
    "start_time": "2022-05-13T19:28:03.816Z"
   },
   {
    "duration": 141,
    "start_time": "2022-05-13T19:28:18.706Z"
   },
   {
    "duration": 15,
    "start_time": "2022-05-13T19:29:13.348Z"
   },
   {
    "duration": 12,
    "start_time": "2022-05-13T19:29:40.352Z"
   },
   {
    "duration": 2258,
    "start_time": "2022-05-14T06:55:09.763Z"
   },
   {
    "duration": 1469,
    "start_time": "2022-05-14T06:55:12.791Z"
   },
   {
    "duration": 165,
    "start_time": "2022-05-14T07:19:42.443Z"
   },
   {
    "duration": 21,
    "start_time": "2022-05-14T07:20:50.526Z"
   },
   {
    "duration": 303,
    "start_time": "2022-05-14T07:21:07.293Z"
   },
   {
    "duration": 7,
    "start_time": "2022-05-14T07:22:36.813Z"
   },
   {
    "duration": 74,
    "start_time": "2022-05-14T07:24:33.867Z"
   },
   {
    "duration": 46,
    "start_time": "2022-05-14T07:25:07.358Z"
   },
   {
    "duration": 233,
    "start_time": "2022-05-14T07:25:24.538Z"
   },
   {
    "duration": 281,
    "start_time": "2022-05-14T07:25:34.970Z"
   },
   {
    "duration": 287,
    "start_time": "2022-05-14T07:28:12.042Z"
   },
   {
    "duration": 390,
    "start_time": "2022-05-14T07:28:29.986Z"
   },
   {
    "duration": 292,
    "start_time": "2022-05-14T07:28:48.406Z"
   },
   {
    "duration": 181,
    "start_time": "2022-05-14T07:33:06.015Z"
   },
   {
    "duration": 34,
    "start_time": "2022-05-14T07:33:55.407Z"
   },
   {
    "duration": 29,
    "start_time": "2022-05-14T07:34:30.246Z"
   },
   {
    "duration": 29,
    "start_time": "2022-05-14T07:36:08.539Z"
   },
   {
    "duration": 31,
    "start_time": "2022-05-14T07:38:07.096Z"
   },
   {
    "duration": 1887,
    "start_time": "2022-05-14T07:38:11.901Z"
   },
   {
    "duration": 1504,
    "start_time": "2022-05-14T07:38:13.791Z"
   },
   {
    "duration": 25,
    "start_time": "2022-05-14T07:38:15.297Z"
   },
   {
    "duration": 29,
    "start_time": "2022-05-14T07:38:15.325Z"
   },
   {
    "duration": 102,
    "start_time": "2022-05-14T07:38:15.356Z"
   },
   {
    "duration": 43,
    "start_time": "2022-05-14T07:38:15.461Z"
   },
   {
    "duration": 66,
    "start_time": "2022-05-14T07:38:15.506Z"
   },
   {
    "duration": 75,
    "start_time": "2022-05-14T07:38:15.574Z"
   },
   {
    "duration": 69,
    "start_time": "2022-05-14T07:38:15.651Z"
   },
   {
    "duration": 76,
    "start_time": "2022-05-14T07:38:15.725Z"
   },
   {
    "duration": 45,
    "start_time": "2022-05-14T07:38:15.803Z"
   },
   {
    "duration": 82,
    "start_time": "2022-05-14T07:38:15.850Z"
   },
   {
    "duration": 67,
    "start_time": "2022-05-14T07:38:15.935Z"
   },
   {
    "duration": 503,
    "start_time": "2022-05-14T07:38:16.005Z"
   },
   {
    "duration": 431,
    "start_time": "2022-05-14T07:38:16.510Z"
   },
   {
    "duration": 60,
    "start_time": "2022-05-14T07:38:16.943Z"
   },
   {
    "duration": 379,
    "start_time": "2022-05-14T07:38:17.005Z"
   },
   {
    "duration": 395,
    "start_time": "2022-05-14T07:38:17.386Z"
   },
   {
    "duration": 403,
    "start_time": "2022-05-14T07:38:17.783Z"
   },
   {
    "duration": 23,
    "start_time": "2022-05-14T07:38:18.188Z"
   },
   {
    "duration": 36,
    "start_time": "2022-05-14T07:38:18.213Z"
   },
   {
    "duration": 184,
    "start_time": "2022-05-14T07:38:18.251Z"
   },
   {
    "duration": 1309,
    "start_time": "2022-05-14T07:38:18.438Z"
   },
   {
    "duration": 354,
    "start_time": "2022-05-14T07:38:19.749Z"
   },
   {
    "duration": 2590,
    "start_time": "2022-05-14T07:38:20.194Z"
   },
   {
    "duration": 161924,
    "start_time": "2022-05-14T07:38:22.793Z"
   },
   {
    "duration": 20821,
    "start_time": "2022-05-14T07:41:04.719Z"
   },
   {
    "duration": 1247341,
    "start_time": "2022-05-14T07:41:25.545Z"
   },
   {
    "duration": 38256,
    "start_time": "2022-05-14T08:02:12.896Z"
   },
   {
    "duration": 10552,
    "start_time": "2022-05-14T08:02:51.154Z"
   },
   {
    "duration": 433313,
    "start_time": "2022-05-14T08:03:01.708Z"
   },
   {
    "duration": 280336,
    "start_time": "2022-05-14T08:10:15.023Z"
   },
   {
    "duration": 12,
    "start_time": "2022-05-14T08:14:55.361Z"
   },
   {
    "duration": 1063,
    "start_time": "2022-05-14T08:14:55.379Z"
   },
   {
    "duration": 1070,
    "start_time": "2022-05-14T08:15:15.923Z"
   },
   {
    "duration": 737,
    "start_time": "2022-05-14T08:16:35.716Z"
   },
   {
    "duration": 173,
    "start_time": "2022-05-14T08:17:35.263Z"
   },
   {
    "duration": 30,
    "start_time": "2022-05-14T08:17:47.501Z"
   },
   {
    "duration": 27,
    "start_time": "2022-05-14T08:18:07.208Z"
   },
   {
    "duration": 22,
    "start_time": "2022-05-14T08:18:46.378Z"
   },
   {
    "duration": 34,
    "start_time": "2022-05-14T08:21:34.972Z"
   },
   {
    "duration": 1337,
    "start_time": "2022-05-14T08:23:54.563Z"
   },
   {
    "duration": 1330,
    "start_time": "2022-05-14T08:24:41.799Z"
   },
   {
    "duration": 1475,
    "start_time": "2022-05-14T08:26:32.779Z"
   },
   {
    "duration": 18,
    "start_time": "2022-05-14T08:27:56.779Z"
   },
   {
    "duration": 31,
    "start_time": "2022-05-14T08:28:31.023Z"
   },
   {
    "duration": 21,
    "start_time": "2022-05-14T08:29:44.706Z"
   },
   {
    "duration": 7,
    "start_time": "2022-05-14T08:30:40.372Z"
   },
   {
    "duration": 8,
    "start_time": "2022-05-14T08:31:08.776Z"
   },
   {
    "duration": 163,
    "start_time": "2022-05-14T08:34:11.654Z"
   },
   {
    "duration": 35,
    "start_time": "2022-05-14T08:34:18.822Z"
   },
   {
    "duration": 1702,
    "start_time": "2022-05-14T08:34:34.352Z"
   },
   {
    "duration": 28,
    "start_time": "2022-05-14T08:34:58.058Z"
   },
   {
    "duration": 36,
    "start_time": "2022-05-14T08:35:32.231Z"
   },
   {
    "duration": 1481,
    "start_time": "2022-05-14T08:40:17.828Z"
   },
   {
    "duration": 61,
    "start_time": "2022-05-14T08:58:44.567Z"
   },
   {
    "duration": 247,
    "start_time": "2022-05-14T09:04:57.148Z"
   },
   {
    "duration": 327,
    "start_time": "2022-05-14T09:12:08.767Z"
   },
   {
    "duration": 1603,
    "start_time": "2022-05-14T09:12:17.790Z"
   },
   {
    "duration": 12013,
    "start_time": "2022-05-14T09:17:07.589Z"
   },
   {
    "duration": 1794,
    "start_time": "2022-05-14T09:21:42.100Z"
   },
   {
    "duration": 11392,
    "start_time": "2022-05-14T09:21:51.652Z"
   },
   {
    "duration": 2330,
    "start_time": "2022-05-14T09:26:37.288Z"
   },
   {
    "duration": 1638,
    "start_time": "2022-05-14T09:26:39.620Z"
   },
   {
    "duration": 34,
    "start_time": "2022-05-14T09:26:41.260Z"
   },
   {
    "duration": 29,
    "start_time": "2022-05-14T09:26:41.296Z"
   },
   {
    "duration": 90,
    "start_time": "2022-05-14T09:26:41.329Z"
   },
   {
    "duration": 20,
    "start_time": "2022-05-14T09:26:41.421Z"
   },
   {
    "duration": 88,
    "start_time": "2022-05-14T09:26:41.443Z"
   },
   {
    "duration": 69,
    "start_time": "2022-05-14T09:26:41.533Z"
   },
   {
    "duration": 46,
    "start_time": "2022-05-14T09:26:41.605Z"
   },
   {
    "duration": 83,
    "start_time": "2022-05-14T09:26:41.653Z"
   },
   {
    "duration": 73,
    "start_time": "2022-05-14T09:26:41.739Z"
   },
   {
    "duration": 122,
    "start_time": "2022-05-14T09:26:41.815Z"
   },
   {
    "duration": 80,
    "start_time": "2022-05-14T09:26:41.940Z"
   },
   {
    "duration": 403,
    "start_time": "2022-05-14T09:26:42.024Z"
   },
   {
    "duration": 383,
    "start_time": "2022-05-14T09:26:42.430Z"
   },
   {
    "duration": 43,
    "start_time": "2022-05-14T09:26:42.816Z"
   },
   {
    "duration": 409,
    "start_time": "2022-05-14T09:26:42.861Z"
   },
   {
    "duration": 446,
    "start_time": "2022-05-14T09:26:43.272Z"
   },
   {
    "duration": 392,
    "start_time": "2022-05-14T09:26:43.720Z"
   },
   {
    "duration": 22,
    "start_time": "2022-05-14T09:26:44.114Z"
   },
   {
    "duration": 62,
    "start_time": "2022-05-14T09:26:44.139Z"
   },
   {
    "duration": 158,
    "start_time": "2022-05-14T09:26:44.205Z"
   },
   {
    "duration": 1511,
    "start_time": "2022-05-14T09:26:44.366Z"
   },
   {
    "duration": 80,
    "start_time": "2022-05-14T09:26:45.879Z"
   },
   {
    "duration": 1832,
    "start_time": "2022-05-14T09:26:45.961Z"
   },
   {
    "duration": 11538,
    "start_time": "2022-05-14T09:26:47.795Z"
   },
   {
    "duration": 757686,
    "start_time": "2022-05-14T09:26:59.335Z"
   },
   {
    "duration": 21075,
    "start_time": "2022-05-14T09:39:37.025Z"
   },
   {
    "duration": 77862,
    "start_time": "2022-05-14T09:39:58.103Z"
   },
   {
    "duration": 5480,
    "start_time": "2022-05-14T09:41:15.968Z"
   },
   {
    "duration": 0,
    "start_time": "2022-05-14T09:41:21.451Z"
   },
   {
    "duration": 0,
    "start_time": "2022-05-14T09:41:21.452Z"
   },
   {
    "duration": 0,
    "start_time": "2022-05-14T09:41:21.454Z"
   },
   {
    "duration": 0,
    "start_time": "2022-05-14T09:41:21.456Z"
   },
   {
    "duration": 18771,
    "start_time": "2022-05-14T09:41:53.063Z"
   },
   {
    "duration": 726791,
    "start_time": "2022-05-14T09:52:33.709Z"
   },
   {
    "duration": 197,
    "start_time": "2022-05-14T10:05:00.385Z"
   },
   {
    "duration": 1180606,
    "start_time": "2022-05-14T10:05:21.531Z"
   },
   {
    "duration": 4895,
    "start_time": "2022-05-14T10:31:01.432Z"
   },
   {
    "duration": 10,
    "start_time": "2022-05-14T10:34:29.961Z"
   },
   {
    "duration": 9,
    "start_time": "2022-05-14T10:34:36.878Z"
   },
   {
    "duration": 2496,
    "start_time": "2022-05-14T10:35:12.415Z"
   },
   {
    "duration": 1733,
    "start_time": "2022-05-14T10:35:18.256Z"
   },
   {
    "duration": 21,
    "start_time": "2022-05-14T10:35:27.460Z"
   },
   {
    "duration": 36,
    "start_time": "2022-05-14T10:35:32.490Z"
   },
   {
    "duration": 74,
    "start_time": "2022-05-14T10:35:35.038Z"
   },
   {
    "duration": 21,
    "start_time": "2022-05-14T10:35:39.856Z"
   },
   {
    "duration": 63,
    "start_time": "2022-05-14T10:35:43.226Z"
   },
   {
    "duration": 59,
    "start_time": "2022-05-14T10:35:48.136Z"
   },
   {
    "duration": 55,
    "start_time": "2022-05-14T10:35:51.656Z"
   },
   {
    "duration": 63,
    "start_time": "2022-05-14T10:35:57.814Z"
   },
   {
    "duration": 47,
    "start_time": "2022-05-14T10:36:00.919Z"
   },
   {
    "duration": 71,
    "start_time": "2022-05-14T10:36:06.049Z"
   },
   {
    "duration": 45,
    "start_time": "2022-05-14T10:36:09.640Z"
   },
   {
    "duration": 426,
    "start_time": "2022-05-14T10:36:14.319Z"
   },
   {
    "duration": 388,
    "start_time": "2022-05-14T10:36:17.826Z"
   },
   {
    "duration": 49,
    "start_time": "2022-05-14T10:36:21.770Z"
   },
   {
    "duration": 402,
    "start_time": "2022-05-14T10:36:24.838Z"
   },
   {
    "duration": 399,
    "start_time": "2022-05-14T10:36:34.924Z"
   },
   {
    "duration": 400,
    "start_time": "2022-05-14T10:36:39.130Z"
   },
   {
    "duration": 30,
    "start_time": "2022-05-14T10:36:43.512Z"
   },
   {
    "duration": 37,
    "start_time": "2022-05-14T10:36:53.362Z"
   },
   {
    "duration": 145,
    "start_time": "2022-05-14T10:37:06.309Z"
   },
   {
    "duration": 1570,
    "start_time": "2022-05-14T10:37:15.685Z"
   },
   {
    "duration": 80,
    "start_time": "2022-05-14T10:37:22.287Z"
   },
   {
    "duration": 6009,
    "start_time": "2022-05-14T10:38:03.125Z"
   },
   {
    "duration": 8,
    "start_time": "2022-05-14T10:41:57.586Z"
   },
   {
    "duration": 20,
    "start_time": "2022-05-14T10:44:41.322Z"
   },
   {
    "duration": 2218,
    "start_time": "2022-05-14T10:46:02.109Z"
   },
   {
    "duration": 2060,
    "start_time": "2022-05-14T10:46:04.330Z"
   },
   {
    "duration": 24,
    "start_time": "2022-05-14T10:46:06.394Z"
   },
   {
    "duration": 46,
    "start_time": "2022-05-14T10:46:06.420Z"
   },
   {
    "duration": 84,
    "start_time": "2022-05-14T10:46:06.469Z"
   },
   {
    "duration": 37,
    "start_time": "2022-05-14T10:46:06.556Z"
   },
   {
    "duration": 65,
    "start_time": "2022-05-14T10:46:06.596Z"
   },
   {
    "duration": 76,
    "start_time": "2022-05-14T10:46:06.664Z"
   },
   {
    "duration": 68,
    "start_time": "2022-05-14T10:46:06.743Z"
   },
   {
    "duration": 111,
    "start_time": "2022-05-14T10:46:06.816Z"
   },
   {
    "duration": 95,
    "start_time": "2022-05-14T10:46:06.930Z"
   },
   {
    "duration": 69,
    "start_time": "2022-05-14T10:46:07.028Z"
   },
   {
    "duration": 48,
    "start_time": "2022-05-14T10:46:07.099Z"
   },
   {
    "duration": 405,
    "start_time": "2022-05-14T10:46:07.150Z"
   },
   {
    "duration": 380,
    "start_time": "2022-05-14T10:46:07.557Z"
   },
   {
    "duration": 39,
    "start_time": "2022-05-14T10:46:07.939Z"
   },
   {
    "duration": 400,
    "start_time": "2022-05-14T10:46:07.980Z"
   },
   {
    "duration": 418,
    "start_time": "2022-05-14T10:46:08.383Z"
   },
   {
    "duration": 390,
    "start_time": "2022-05-14T10:46:08.803Z"
   },
   {
    "duration": 22,
    "start_time": "2022-05-14T10:46:09.195Z"
   },
   {
    "duration": 42,
    "start_time": "2022-05-14T10:46:09.219Z"
   },
   {
    "duration": 164,
    "start_time": "2022-05-14T10:46:09.263Z"
   },
   {
    "duration": 1566,
    "start_time": "2022-05-14T10:46:09.430Z"
   },
   {
    "duration": 69,
    "start_time": "2022-05-14T10:46:10.998Z"
   },
   {
    "duration": 2237,
    "start_time": "2022-05-14T10:46:11.070Z"
   },
   {
    "duration": 11935,
    "start_time": "2022-05-14T10:46:13.394Z"
   },
   {
    "duration": 838087,
    "start_time": "2022-05-14T10:46:25.331Z"
   },
   {
    "duration": 27377,
    "start_time": "2022-05-14T11:00:23.424Z"
   },
   {
    "duration": 1369894,
    "start_time": "2022-05-14T11:00:50.803Z"
   },
   {
    "duration": 22,
    "start_time": "2022-05-14T11:23:40.699Z"
   },
   {
    "duration": 5187,
    "start_time": "2022-05-14T11:23:40.723Z"
   },
   {
    "duration": 0,
    "start_time": "2022-05-14T11:23:45.913Z"
   },
   {
    "duration": 0,
    "start_time": "2022-05-14T11:23:45.914Z"
   },
   {
    "duration": 0,
    "start_time": "2022-05-14T11:23:45.916Z"
   },
   {
    "duration": 0,
    "start_time": "2022-05-14T11:23:45.917Z"
   },
   {
    "duration": 21,
    "start_time": "2022-05-14T11:26:40.253Z"
   },
   {
    "duration": 20,
    "start_time": "2022-05-14T11:27:13.369Z"
   },
   {
    "duration": 6,
    "start_time": "2022-05-14T11:27:44.289Z"
   },
   {
    "duration": 20,
    "start_time": "2022-05-14T11:27:49.841Z"
   },
   {
    "duration": 6,
    "start_time": "2022-05-14T11:27:55.359Z"
   },
   {
    "duration": 1518,
    "start_time": "2022-05-14T11:27:58.367Z"
   },
   {
    "duration": 24,
    "start_time": "2022-05-14T11:28:04.269Z"
   },
   {
    "duration": 29,
    "start_time": "2022-05-14T11:28:10.903Z"
   },
   {
    "duration": 69,
    "start_time": "2022-05-14T11:28:13.486Z"
   },
   {
    "duration": 22,
    "start_time": "2022-05-14T11:28:19.683Z"
   },
   {
    "duration": 103,
    "start_time": "2022-05-14T11:28:22.997Z"
   },
   {
    "duration": 55,
    "start_time": "2022-05-14T11:28:31.405Z"
   },
   {
    "duration": 97,
    "start_time": "2022-05-14T11:28:35.416Z"
   },
   {
    "duration": 46,
    "start_time": "2022-05-14T11:28:39.000Z"
   },
   {
    "duration": 63,
    "start_time": "2022-05-14T11:28:55.333Z"
   },
   {
    "duration": 46,
    "start_time": "2022-05-14T11:28:58.215Z"
   },
   {
    "duration": 38,
    "start_time": "2022-05-14T11:29:12.111Z"
   },
   {
    "duration": 286,
    "start_time": "2022-05-14T11:29:19.641Z"
   },
   {
    "duration": 384,
    "start_time": "2022-05-14T11:29:24.891Z"
   },
   {
    "duration": 23,
    "start_time": "2022-05-14T11:29:30.180Z"
   },
   {
    "duration": 36,
    "start_time": "2022-05-14T11:29:34.802Z"
   },
   {
    "duration": 142,
    "start_time": "2022-05-14T11:29:40.980Z"
   },
   {
    "duration": 1561,
    "start_time": "2022-05-14T11:30:05.986Z"
   },
   {
    "duration": 21,
    "start_time": "2022-05-14T11:30:10.741Z"
   },
   {
    "duration": 1477,
    "start_time": "2022-05-14T11:31:45.366Z"
   },
   {
    "duration": 48,
    "start_time": "2022-05-14T11:32:40.754Z"
   },
   {
    "duration": 2077,
    "start_time": "2022-05-14T11:33:00.938Z"
   },
   {
    "duration": 1578,
    "start_time": "2022-05-14T11:33:03.018Z"
   },
   {
    "duration": 24,
    "start_time": "2022-05-14T11:33:04.599Z"
   },
   {
    "duration": 29,
    "start_time": "2022-05-14T11:33:04.626Z"
   },
   {
    "duration": 94,
    "start_time": "2022-05-14T11:33:04.658Z"
   },
   {
    "duration": 22,
    "start_time": "2022-05-14T11:33:04.754Z"
   },
   {
    "duration": 66,
    "start_time": "2022-05-14T11:33:04.794Z"
   },
   {
    "duration": 75,
    "start_time": "2022-05-14T11:33:04.862Z"
   },
   {
    "duration": 67,
    "start_time": "2022-05-14T11:33:04.940Z"
   },
   {
    "duration": 60,
    "start_time": "2022-05-14T11:33:05.012Z"
   },
   {
    "duration": 63,
    "start_time": "2022-05-14T11:33:05.075Z"
   },
   {
    "duration": 82,
    "start_time": "2022-05-14T11:33:05.141Z"
   },
   {
    "duration": 52,
    "start_time": "2022-05-14T11:33:05.225Z"
   },
   {
    "duration": 393,
    "start_time": "2022-05-14T11:33:05.292Z"
   },
   {
    "duration": 395,
    "start_time": "2022-05-14T11:33:05.687Z"
   },
   {
    "duration": 46,
    "start_time": "2022-05-14T11:33:06.084Z"
   },
   {
    "duration": 407,
    "start_time": "2022-05-14T11:33:06.133Z"
   },
   {
    "duration": 393,
    "start_time": "2022-05-14T11:33:06.543Z"
   },
   {
    "duration": 498,
    "start_time": "2022-05-14T11:33:06.939Z"
   },
   {
    "duration": 22,
    "start_time": "2022-05-14T11:33:07.439Z"
   },
   {
    "duration": 56,
    "start_time": "2022-05-14T11:33:07.464Z"
   },
   {
    "duration": 241,
    "start_time": "2022-05-14T11:33:07.523Z"
   },
   {
    "duration": 2436,
    "start_time": "2022-05-14T11:33:07.767Z"
   },
   {
    "duration": 25,
    "start_time": "2022-05-14T11:33:10.206Z"
   },
   {
    "duration": 2047,
    "start_time": "2022-05-14T11:33:10.234Z"
   },
   {
    "duration": 0,
    "start_time": "2022-05-14T11:33:12.285Z"
   },
   {
    "duration": 1,
    "start_time": "2022-05-14T11:33:12.293Z"
   },
   {
    "duration": 0,
    "start_time": "2022-05-14T11:33:12.295Z"
   },
   {
    "duration": 0,
    "start_time": "2022-05-14T11:33:12.298Z"
   },
   {
    "duration": 0,
    "start_time": "2022-05-14T11:33:12.299Z"
   },
   {
    "duration": 0,
    "start_time": "2022-05-14T11:33:12.302Z"
   },
   {
    "duration": 0,
    "start_time": "2022-05-14T11:33:12.303Z"
   },
   {
    "duration": 0,
    "start_time": "2022-05-14T11:33:12.305Z"
   },
   {
    "duration": 0,
    "start_time": "2022-05-14T11:33:12.307Z"
   },
   {
    "duration": 0,
    "start_time": "2022-05-14T11:33:12.309Z"
   },
   {
    "duration": 0,
    "start_time": "2022-05-14T11:33:12.311Z"
   },
   {
    "duration": 0,
    "start_time": "2022-05-14T11:33:12.314Z"
   },
   {
    "duration": 0,
    "start_time": "2022-05-14T11:33:12.316Z"
   },
   {
    "duration": 0,
    "start_time": "2022-05-14T11:33:12.318Z"
   },
   {
    "duration": 2017,
    "start_time": "2022-05-14T11:33:58.223Z"
   },
   {
    "duration": 1635,
    "start_time": "2022-05-14T11:34:00.243Z"
   },
   {
    "duration": 33,
    "start_time": "2022-05-14T11:34:01.880Z"
   },
   {
    "duration": 30,
    "start_time": "2022-05-14T11:34:01.915Z"
   },
   {
    "duration": 94,
    "start_time": "2022-05-14T11:34:01.947Z"
   },
   {
    "duration": 21,
    "start_time": "2022-05-14T11:34:02.043Z"
   },
   {
    "duration": 85,
    "start_time": "2022-05-14T11:34:02.067Z"
   },
   {
    "duration": 70,
    "start_time": "2022-05-14T11:34:02.155Z"
   },
   {
    "duration": 73,
    "start_time": "2022-05-14T11:34:02.228Z"
   },
   {
    "duration": 60,
    "start_time": "2022-05-14T11:34:02.306Z"
   },
   {
    "duration": 69,
    "start_time": "2022-05-14T11:34:02.369Z"
   },
   {
    "duration": 88,
    "start_time": "2022-05-14T11:34:02.441Z"
   },
   {
    "duration": 66,
    "start_time": "2022-05-14T11:34:02.531Z"
   },
   {
    "duration": 403,
    "start_time": "2022-05-14T11:34:02.600Z"
   },
   {
    "duration": 391,
    "start_time": "2022-05-14T11:34:03.006Z"
   },
   {
    "duration": 47,
    "start_time": "2022-05-14T11:34:03.399Z"
   },
   {
    "duration": 424,
    "start_time": "2022-05-14T11:34:03.449Z"
   },
   {
    "duration": 423,
    "start_time": "2022-05-14T11:34:03.877Z"
   },
   {
    "duration": 414,
    "start_time": "2022-05-14T11:34:04.303Z"
   },
   {
    "duration": 23,
    "start_time": "2022-05-14T11:34:04.720Z"
   },
   {
    "duration": 67,
    "start_time": "2022-05-14T11:34:04.746Z"
   },
   {
    "duration": 155,
    "start_time": "2022-05-14T11:34:04.815Z"
   },
   {
    "duration": 1524,
    "start_time": "2022-05-14T11:34:04.973Z"
   },
   {
    "duration": 17,
    "start_time": "2022-05-14T11:34:06.500Z"
   },
   {
    "duration": 1693,
    "start_time": "2022-05-14T11:34:06.519Z"
   },
   {
    "duration": 0,
    "start_time": "2022-05-14T11:34:08.214Z"
   },
   {
    "duration": 0,
    "start_time": "2022-05-14T11:34:08.217Z"
   },
   {
    "duration": 0,
    "start_time": "2022-05-14T11:34:08.219Z"
   },
   {
    "duration": 0,
    "start_time": "2022-05-14T11:34:08.221Z"
   },
   {
    "duration": 0,
    "start_time": "2022-05-14T11:34:08.222Z"
   },
   {
    "duration": 0,
    "start_time": "2022-05-14T11:34:08.224Z"
   },
   {
    "duration": 0,
    "start_time": "2022-05-14T11:34:08.225Z"
   },
   {
    "duration": 0,
    "start_time": "2022-05-14T11:34:08.227Z"
   },
   {
    "duration": 0,
    "start_time": "2022-05-14T11:34:08.229Z"
   },
   {
    "duration": 0,
    "start_time": "2022-05-14T11:34:08.231Z"
   },
   {
    "duration": 1,
    "start_time": "2022-05-14T11:34:08.232Z"
   },
   {
    "duration": 0,
    "start_time": "2022-05-14T11:34:08.234Z"
   },
   {
    "duration": 0,
    "start_time": "2022-05-14T11:34:08.235Z"
   },
   {
    "duration": 0,
    "start_time": "2022-05-14T11:34:08.237Z"
   },
   {
    "duration": 1446,
    "start_time": "2022-05-14T11:50:39.698Z"
   },
   {
    "duration": 2016,
    "start_time": "2022-05-14T11:50:47.682Z"
   },
   {
    "duration": 1623,
    "start_time": "2022-05-14T11:50:49.700Z"
   },
   {
    "duration": 23,
    "start_time": "2022-05-14T11:50:51.325Z"
   },
   {
    "duration": 49,
    "start_time": "2022-05-14T11:50:51.351Z"
   },
   {
    "duration": 70,
    "start_time": "2022-05-14T11:50:51.403Z"
   },
   {
    "duration": 34,
    "start_time": "2022-05-14T11:50:51.475Z"
   },
   {
    "duration": 85,
    "start_time": "2022-05-14T11:50:51.511Z"
   },
   {
    "duration": 60,
    "start_time": "2022-05-14T11:50:51.599Z"
   },
   {
    "duration": 65,
    "start_time": "2022-05-14T11:50:51.662Z"
   },
   {
    "duration": 73,
    "start_time": "2022-05-14T11:50:51.731Z"
   },
   {
    "duration": 45,
    "start_time": "2022-05-14T11:50:51.806Z"
   },
   {
    "duration": 79,
    "start_time": "2022-05-14T11:50:51.854Z"
   },
   {
    "duration": 65,
    "start_time": "2022-05-14T11:50:51.935Z"
   },
   {
    "duration": 381,
    "start_time": "2022-05-14T11:50:52.002Z"
   },
   {
    "duration": 376,
    "start_time": "2022-05-14T11:50:52.386Z"
   },
   {
    "duration": 57,
    "start_time": "2022-05-14T11:50:52.764Z"
   },
   {
    "duration": 403,
    "start_time": "2022-05-14T11:50:52.823Z"
   },
   {
    "duration": 405,
    "start_time": "2022-05-14T11:50:53.228Z"
   },
   {
    "duration": 488,
    "start_time": "2022-05-14T11:50:53.637Z"
   },
   {
    "duration": 22,
    "start_time": "2022-05-14T11:50:54.127Z"
   },
   {
    "duration": 55,
    "start_time": "2022-05-14T11:50:54.151Z"
   },
   {
    "duration": 153,
    "start_time": "2022-05-14T11:50:54.208Z"
   },
   {
    "duration": 1457,
    "start_time": "2022-05-14T11:50:54.364Z"
   },
   {
    "duration": 18,
    "start_time": "2022-05-14T11:50:55.823Z"
   },
   {
    "duration": 1835,
    "start_time": "2022-05-14T11:50:55.844Z"
   },
   {
    "duration": 0,
    "start_time": "2022-05-14T11:50:57.692Z"
   },
   {
    "duration": 0,
    "start_time": "2022-05-14T11:50:57.695Z"
   },
   {
    "duration": 0,
    "start_time": "2022-05-14T11:50:57.697Z"
   },
   {
    "duration": 0,
    "start_time": "2022-05-14T11:50:57.699Z"
   },
   {
    "duration": 0,
    "start_time": "2022-05-14T11:50:57.702Z"
   },
   {
    "duration": 0,
    "start_time": "2022-05-14T11:50:57.704Z"
   },
   {
    "duration": 0,
    "start_time": "2022-05-14T11:50:57.706Z"
   },
   {
    "duration": 0,
    "start_time": "2022-05-14T11:50:57.708Z"
   },
   {
    "duration": 0,
    "start_time": "2022-05-14T11:50:57.710Z"
   },
   {
    "duration": 0,
    "start_time": "2022-05-14T11:50:57.712Z"
   },
   {
    "duration": 0,
    "start_time": "2022-05-14T11:50:57.714Z"
   },
   {
    "duration": 0,
    "start_time": "2022-05-14T11:50:57.717Z"
   },
   {
    "duration": 0,
    "start_time": "2022-05-14T11:50:57.718Z"
   },
   {
    "duration": 0,
    "start_time": "2022-05-14T11:50:57.721Z"
   },
   {
    "duration": 1594,
    "start_time": "2022-05-14T11:51:23.685Z"
   },
   {
    "duration": 1616,
    "start_time": "2022-05-14T11:52:13.879Z"
   },
   {
    "duration": 1417,
    "start_time": "2022-05-14T11:52:28.787Z"
   },
   {
    "duration": 1521,
    "start_time": "2022-05-14T12:01:48.264Z"
   },
   {
    "duration": 1442,
    "start_time": "2022-05-14T12:03:09.835Z"
   },
   {
    "duration": 30,
    "start_time": "2022-05-14T12:03:31.433Z"
   },
   {
    "duration": 1423,
    "start_time": "2022-05-14T12:04:54.729Z"
   },
   {
    "duration": 1678,
    "start_time": "2022-05-14T12:06:00.704Z"
   },
   {
    "duration": 17,
    "start_time": "2022-05-14T12:06:24.306Z"
   },
   {
    "duration": 166379,
    "start_time": "2022-05-14T12:06:32.516Z"
   },
   {
    "duration": 11550,
    "start_time": "2022-05-14T12:11:47.243Z"
   },
   {
    "duration": 2039,
    "start_time": "2022-05-14T12:16:28.274Z"
   },
   {
    "duration": 1512,
    "start_time": "2022-05-14T12:16:30.315Z"
   },
   {
    "duration": 21,
    "start_time": "2022-05-14T12:16:31.830Z"
   },
   {
    "duration": 51,
    "start_time": "2022-05-14T12:16:31.854Z"
   },
   {
    "duration": 72,
    "start_time": "2022-05-14T12:16:31.907Z"
   },
   {
    "duration": 25,
    "start_time": "2022-05-14T12:16:31.982Z"
   },
   {
    "duration": 84,
    "start_time": "2022-05-14T12:16:32.010Z"
   },
   {
    "duration": 58,
    "start_time": "2022-05-14T12:16:32.097Z"
   },
   {
    "duration": 66,
    "start_time": "2022-05-14T12:16:32.158Z"
   },
   {
    "duration": 69,
    "start_time": "2022-05-14T12:16:32.228Z"
   },
   {
    "duration": 50,
    "start_time": "2022-05-14T12:16:32.299Z"
   },
   {
    "duration": 72,
    "start_time": "2022-05-14T12:16:32.351Z"
   },
   {
    "duration": 43,
    "start_time": "2022-05-14T12:16:32.425Z"
   },
   {
    "duration": 384,
    "start_time": "2022-05-14T12:16:32.493Z"
   },
   {
    "duration": 376,
    "start_time": "2022-05-14T12:16:32.879Z"
   },
   {
    "duration": 50,
    "start_time": "2022-05-14T12:16:33.257Z"
   },
   {
    "duration": 397,
    "start_time": "2022-05-14T12:16:33.309Z"
   },
   {
    "duration": 403,
    "start_time": "2022-05-14T12:16:33.708Z"
   },
   {
    "duration": 397,
    "start_time": "2022-05-14T12:16:34.113Z"
   },
   {
    "duration": 23,
    "start_time": "2022-05-14T12:16:34.513Z"
   },
   {
    "duration": 58,
    "start_time": "2022-05-14T12:16:34.539Z"
   },
   {
    "duration": 157,
    "start_time": "2022-05-14T12:16:34.600Z"
   },
   {
    "duration": 1556,
    "start_time": "2022-05-14T12:16:34.759Z"
   },
   {
    "duration": 18,
    "start_time": "2022-05-14T12:16:36.317Z"
   },
   {
    "duration": 1633,
    "start_time": "2022-05-14T12:16:36.338Z"
   },
   {
    "duration": 163721,
    "start_time": "2022-05-14T12:16:37.974Z"
   },
   {
    "duration": 11778,
    "start_time": "2022-05-14T12:19:21.698Z"
   },
   {
    "duration": 71,
    "start_time": "2022-05-14T12:25:43.512Z"
   },
   {
    "duration": 2063,
    "start_time": "2022-05-14T12:25:54.714Z"
   },
   {
    "duration": 1517,
    "start_time": "2022-05-14T12:25:56.780Z"
   },
   {
    "duration": 22,
    "start_time": "2022-05-14T12:25:58.300Z"
   },
   {
    "duration": 32,
    "start_time": "2022-05-14T12:25:58.324Z"
   },
   {
    "duration": 94,
    "start_time": "2022-05-14T12:25:58.359Z"
   },
   {
    "duration": 22,
    "start_time": "2022-05-14T12:25:58.455Z"
   },
   {
    "duration": 69,
    "start_time": "2022-05-14T12:25:58.493Z"
   },
   {
    "duration": 79,
    "start_time": "2022-05-14T12:25:58.564Z"
   },
   {
    "duration": 64,
    "start_time": "2022-05-14T12:25:58.645Z"
   },
   {
    "duration": 60,
    "start_time": "2022-05-14T12:25:58.711Z"
   },
   {
    "duration": 59,
    "start_time": "2022-05-14T12:25:58.773Z"
   },
   {
    "duration": 80,
    "start_time": "2022-05-14T12:25:58.835Z"
   },
   {
    "duration": 46,
    "start_time": "2022-05-14T12:25:58.917Z"
   },
   {
    "duration": 419,
    "start_time": "2022-05-14T12:25:58.968Z"
   },
   {
    "duration": 369,
    "start_time": "2022-05-14T12:25:59.392Z"
   },
   {
    "duration": 58,
    "start_time": "2022-05-14T12:25:59.764Z"
   },
   {
    "duration": 386,
    "start_time": "2022-05-14T12:25:59.825Z"
   },
   {
    "duration": 497,
    "start_time": "2022-05-14T12:26:00.214Z"
   },
   {
    "duration": 390,
    "start_time": "2022-05-14T12:26:00.714Z"
   },
   {
    "duration": 23,
    "start_time": "2022-05-14T12:26:01.106Z"
   },
   {
    "duration": 54,
    "start_time": "2022-05-14T12:26:01.132Z"
   },
   {
    "duration": 154,
    "start_time": "2022-05-14T12:26:01.192Z"
   },
   {
    "duration": 1501,
    "start_time": "2022-05-14T12:26:01.349Z"
   },
   {
    "duration": 18,
    "start_time": "2022-05-14T12:26:02.852Z"
   },
   {
    "duration": 1537,
    "start_time": "2022-05-14T12:26:02.873Z"
   },
   {
    "duration": 182393,
    "start_time": "2022-05-14T12:26:04.413Z"
   },
   {
    "duration": 11839,
    "start_time": "2022-05-14T12:29:06.894Z"
   },
   {
    "duration": 72,
    "start_time": "2022-05-14T12:35:09.755Z"
   },
   {
    "duration": 2183,
    "start_time": "2022-05-14T12:35:23.197Z"
   },
   {
    "duration": 1454,
    "start_time": "2022-05-14T12:35:25.383Z"
   },
   {
    "duration": 23,
    "start_time": "2022-05-14T12:35:26.839Z"
   },
   {
    "duration": 47,
    "start_time": "2022-05-14T12:35:26.864Z"
   },
   {
    "duration": 79,
    "start_time": "2022-05-14T12:35:26.915Z"
   },
   {
    "duration": 20,
    "start_time": "2022-05-14T12:35:26.997Z"
   },
   {
    "duration": 84,
    "start_time": "2022-05-14T12:35:27.020Z"
   },
   {
    "duration": 57,
    "start_time": "2022-05-14T12:35:27.106Z"
   },
   {
    "duration": 61,
    "start_time": "2022-05-14T12:35:27.165Z"
   },
   {
    "duration": 69,
    "start_time": "2022-05-14T12:35:27.228Z"
   },
   {
    "duration": 43,
    "start_time": "2022-05-14T12:35:27.299Z"
   },
   {
    "duration": 81,
    "start_time": "2022-05-14T12:35:27.344Z"
   },
   {
    "duration": 65,
    "start_time": "2022-05-14T12:35:27.427Z"
   },
   {
    "duration": 378,
    "start_time": "2022-05-14T12:35:27.497Z"
   },
   {
    "duration": 370,
    "start_time": "2022-05-14T12:35:27.878Z"
   },
   {
    "duration": 55,
    "start_time": "2022-05-14T12:35:28.251Z"
   },
   {
    "duration": 375,
    "start_time": "2022-05-14T12:35:28.309Z"
   },
   {
    "duration": 375,
    "start_time": "2022-05-14T12:35:28.693Z"
   },
   {
    "duration": 371,
    "start_time": "2022-05-14T12:35:29.071Z"
   },
   {
    "duration": 22,
    "start_time": "2022-05-14T12:35:29.445Z"
   },
   {
    "duration": 52,
    "start_time": "2022-05-14T12:35:29.469Z"
   },
   {
    "duration": 159,
    "start_time": "2022-05-14T12:35:29.524Z"
   },
   {
    "duration": 1511,
    "start_time": "2022-05-14T12:35:29.694Z"
   },
   {
    "duration": 20,
    "start_time": "2022-05-14T12:35:31.207Z"
   },
   {
    "duration": 1447,
    "start_time": "2022-05-14T12:35:31.230Z"
   },
   {
    "duration": 179316,
    "start_time": "2022-05-14T12:35:32.679Z"
   },
   {
    "duration": 12067,
    "start_time": "2022-05-14T12:38:31.998Z"
   },
   {
    "duration": 2027,
    "start_time": "2022-05-14T12:43:47.541Z"
   },
   {
    "duration": 1555,
    "start_time": "2022-05-14T12:43:49.570Z"
   },
   {
    "duration": 23,
    "start_time": "2022-05-14T12:43:55.532Z"
   },
   {
    "duration": 27,
    "start_time": "2022-05-14T12:43:59.133Z"
   },
   {
    "duration": 65,
    "start_time": "2022-05-14T12:44:00.301Z"
   },
   {
    "duration": 21,
    "start_time": "2022-05-14T12:44:02.633Z"
   },
   {
    "duration": 66,
    "start_time": "2022-05-14T12:44:05.969Z"
   },
   {
    "duration": 59,
    "start_time": "2022-05-14T12:44:08.739Z"
   },
   {
    "duration": 48,
    "start_time": "2022-05-14T12:44:11.505Z"
   },
   {
    "duration": 58,
    "start_time": "2022-05-14T12:44:13.457Z"
   },
   {
    "duration": 43,
    "start_time": "2022-05-14T12:44:14.567Z"
   },
   {
    "duration": 58,
    "start_time": "2022-05-14T12:44:17.291Z"
   },
   {
    "duration": 44,
    "start_time": "2022-05-14T12:44:18.803Z"
   },
   {
    "duration": 365,
    "start_time": "2022-05-14T12:44:22.213Z"
   },
   {
    "duration": 372,
    "start_time": "2022-05-14T12:44:22.581Z"
   },
   {
    "duration": 48,
    "start_time": "2022-05-14T12:44:23.371Z"
   },
   {
    "duration": 361,
    "start_time": "2022-05-14T12:44:24.163Z"
   },
   {
    "duration": 360,
    "start_time": "2022-05-14T12:44:27.755Z"
   },
   {
    "duration": 385,
    "start_time": "2022-05-14T12:44:29.317Z"
   },
   {
    "duration": 21,
    "start_time": "2022-05-14T12:44:31.538Z"
   },
   {
    "duration": 34,
    "start_time": "2022-05-14T12:44:34.269Z"
   },
   {
    "duration": 139,
    "start_time": "2022-05-14T12:44:35.665Z"
   },
   {
    "duration": 1481,
    "start_time": "2022-05-14T12:44:39.062Z"
   },
   {
    "duration": 1537,
    "start_time": "2022-05-14T12:44:46.369Z"
   },
   {
    "duration": 170666,
    "start_time": "2022-05-14T12:44:57.831Z"
   },
   {
    "duration": 11788,
    "start_time": "2022-05-14T12:47:55.284Z"
   },
   {
    "duration": 74,
    "start_time": "2022-05-14T12:53:23.954Z"
   },
   {
    "duration": 1934,
    "start_time": "2022-05-14T12:53:45.639Z"
   },
   {
    "duration": 1551,
    "start_time": "2022-05-14T12:53:47.576Z"
   },
   {
    "duration": 22,
    "start_time": "2022-05-14T12:53:49.130Z"
   },
   {
    "duration": 27,
    "start_time": "2022-05-14T12:53:50.614Z"
   },
   {
    "duration": 64,
    "start_time": "2022-05-14T12:53:51.062Z"
   },
   {
    "duration": 22,
    "start_time": "2022-05-14T12:53:51.975Z"
   },
   {
    "duration": 63,
    "start_time": "2022-05-14T12:53:52.728Z"
   },
   {
    "duration": 58,
    "start_time": "2022-05-14T12:53:53.625Z"
   },
   {
    "duration": 47,
    "start_time": "2022-05-14T12:53:54.379Z"
   },
   {
    "duration": 56,
    "start_time": "2022-05-14T12:53:55.261Z"
   },
   {
    "duration": 45,
    "start_time": "2022-05-14T12:53:55.617Z"
   },
   {
    "duration": 64,
    "start_time": "2022-05-14T12:53:56.427Z"
   },
   {
    "duration": 46,
    "start_time": "2022-05-14T12:53:57.200Z"
   },
   {
    "duration": 378,
    "start_time": "2022-05-14T12:53:58.399Z"
   },
   {
    "duration": 371,
    "start_time": "2022-05-14T12:53:58.779Z"
   },
   {
    "duration": 39,
    "start_time": "2022-05-14T12:53:59.691Z"
   },
   {
    "duration": 366,
    "start_time": "2022-05-14T12:54:00.102Z"
   },
   {
    "duration": 381,
    "start_time": "2022-05-14T12:54:02.979Z"
   },
   {
    "duration": 407,
    "start_time": "2022-05-14T12:54:03.399Z"
   },
   {
    "duration": 21,
    "start_time": "2022-05-14T12:54:04.566Z"
   },
   {
    "duration": 35,
    "start_time": "2022-05-14T12:54:05.061Z"
   },
   {
    "duration": 140,
    "start_time": "2022-05-14T12:54:06.182Z"
   },
   {
    "duration": 1395,
    "start_time": "2022-05-14T12:54:09.862Z"
   },
   {
    "duration": 1442,
    "start_time": "2022-05-14T12:54:13.758Z"
   },
   {
    "duration": 175077,
    "start_time": "2022-05-14T12:54:18.820Z"
   },
   {
    "duration": 6959,
    "start_time": "2022-05-14T12:57:17.225Z"
   },
   {
    "duration": 19439,
    "start_time": "2022-05-14T12:57:30.149Z"
   },
   {
    "duration": 1146531,
    "start_time": "2022-05-14T12:57:55.494Z"
   },
   {
    "duration": 37895,
    "start_time": "2022-05-14T13:27:19.493Z"
   },
   {
    "duration": 2805,
    "start_time": "2022-05-14T13:31:54.397Z"
   },
   {
    "duration": 6,
    "start_time": "2022-05-14T13:32:37.272Z"
   },
   {
    "duration": 824333,
    "start_time": "2022-05-14T13:32:51.162Z"
   },
   {
    "duration": 6,
    "start_time": "2022-05-14T13:48:32.718Z"
   },
   {
    "duration": 974214,
    "start_time": "2022-05-14T13:49:13.177Z"
   },
   {
    "duration": 6,
    "start_time": "2022-05-14T14:06:34.108Z"
   },
   {
    "duration": 1539721,
    "start_time": "2022-05-14T14:06:40.200Z"
   },
   {
    "duration": 14,
    "start_time": "2022-05-14T15:20:43.255Z"
   },
   {
    "duration": 14,
    "start_time": "2022-05-14T15:23:06.062Z"
   },
   {
    "duration": 19,
    "start_time": "2022-05-14T15:23:52.008Z"
   },
   {
    "duration": 19,
    "start_time": "2022-05-14T15:26:17.280Z"
   },
   {
    "duration": 14,
    "start_time": "2022-05-14T15:26:23.186Z"
   },
   {
    "duration": 18,
    "start_time": "2022-05-14T15:26:28.512Z"
   },
   {
    "duration": 15,
    "start_time": "2022-05-14T15:26:42.137Z"
   },
   {
    "duration": 15,
    "start_time": "2022-05-14T15:27:17.508Z"
   },
   {
    "duration": 14,
    "start_time": "2022-05-14T15:27:37.474Z"
   },
   {
    "duration": 15,
    "start_time": "2022-05-14T15:28:29.114Z"
   },
   {
    "duration": 14,
    "start_time": "2022-05-14T15:28:49.254Z"
   },
   {
    "duration": 14,
    "start_time": "2022-05-14T15:28:58.881Z"
   },
   {
    "duration": 269,
    "start_time": "2022-05-14T17:06:03.986Z"
   },
   {
    "duration": 1783,
    "start_time": "2022-05-14T18:21:59.702Z"
   },
   {
    "duration": 1221,
    "start_time": "2022-05-14T18:22:01.487Z"
   },
   {
    "duration": 15,
    "start_time": "2022-05-14T18:22:03.227Z"
   },
   {
    "duration": 22,
    "start_time": "2022-05-14T18:22:04.402Z"
   },
   {
    "duration": 52,
    "start_time": "2022-05-14T18:22:04.691Z"
   },
   {
    "duration": 18,
    "start_time": "2022-05-14T18:22:05.206Z"
   },
   {
    "duration": 55,
    "start_time": "2022-05-14T18:22:05.709Z"
   },
   {
    "duration": 48,
    "start_time": "2022-05-14T18:22:06.133Z"
   },
   {
    "duration": 38,
    "start_time": "2022-05-14T18:22:06.564Z"
   },
   {
    "duration": 50,
    "start_time": "2022-05-14T18:22:06.974Z"
   },
   {
    "duration": 38,
    "start_time": "2022-05-14T18:22:07.164Z"
   },
   {
    "duration": 51,
    "start_time": "2022-05-14T18:22:07.572Z"
   },
   {
    "duration": 36,
    "start_time": "2022-05-14T18:22:09.444Z"
   },
   {
    "duration": 256,
    "start_time": "2022-05-14T18:22:11.749Z"
   },
   {
    "duration": 268,
    "start_time": "2022-05-14T18:22:13.201Z"
   },
   {
    "duration": 38,
    "start_time": "2022-05-14T18:22:15.103Z"
   },
   {
    "duration": 282,
    "start_time": "2022-05-14T18:22:16.215Z"
   },
   {
    "duration": 257,
    "start_time": "2022-05-14T18:22:20.555Z"
   },
   {
    "duration": 266,
    "start_time": "2022-05-14T18:22:21.233Z"
   },
   {
    "duration": 15,
    "start_time": "2022-05-14T18:22:23.469Z"
   },
   {
    "duration": 27,
    "start_time": "2022-05-14T18:22:24.563Z"
   },
   {
    "duration": 118,
    "start_time": "2022-05-14T18:22:28.385Z"
   },
   {
    "duration": 1068,
    "start_time": "2022-05-14T18:22:31.298Z"
   },
   {
    "duration": 1106,
    "start_time": "2022-05-14T18:22:32.917Z"
   },
   {
    "duration": 133480,
    "start_time": "2022-05-14T18:22:46.655Z"
   },
   {
    "duration": 10323,
    "start_time": "2022-05-14T18:28:22.345Z"
   },
   {
    "duration": 382654,
    "start_time": "2022-05-14T18:29:20.868Z"
   },
   {
    "duration": 637,
    "start_time": "2022-05-14T18:48:28.254Z"
   },
   {
    "duration": 525,
    "start_time": "2022-05-14T18:48:50.534Z"
   },
   {
    "duration": 1527,
    "start_time": "2022-05-14T18:50:36.528Z"
   },
   {
    "duration": 1225,
    "start_time": "2022-05-14T18:50:38.057Z"
   },
   {
    "duration": 17,
    "start_time": "2022-05-14T18:50:39.283Z"
   },
   {
    "duration": 37,
    "start_time": "2022-05-14T18:50:39.302Z"
   },
   {
    "duration": 56,
    "start_time": "2022-05-14T18:50:39.341Z"
   },
   {
    "duration": 35,
    "start_time": "2022-05-14T18:50:39.398Z"
   },
   {
    "duration": 53,
    "start_time": "2022-05-14T18:50:39.436Z"
   },
   {
    "duration": 63,
    "start_time": "2022-05-14T18:50:39.490Z"
   },
   {
    "duration": 41,
    "start_time": "2022-05-14T18:50:39.555Z"
   },
   {
    "duration": 64,
    "start_time": "2022-05-14T18:50:39.599Z"
   },
   {
    "duration": 38,
    "start_time": "2022-05-14T18:50:39.665Z"
   },
   {
    "duration": 73,
    "start_time": "2022-05-14T18:50:39.705Z"
   },
   {
    "duration": 54,
    "start_time": "2022-05-14T18:50:39.780Z"
   },
   {
    "duration": 283,
    "start_time": "2022-05-14T18:50:39.836Z"
   },
   {
    "duration": 288,
    "start_time": "2022-05-14T18:50:40.121Z"
   },
   {
    "duration": 49,
    "start_time": "2022-05-14T18:50:40.411Z"
   },
   {
    "duration": 315,
    "start_time": "2022-05-14T18:50:40.462Z"
   },
   {
    "duration": 292,
    "start_time": "2022-05-14T18:50:40.779Z"
   },
   {
    "duration": 291,
    "start_time": "2022-05-14T18:50:41.073Z"
   },
   {
    "duration": 17,
    "start_time": "2022-05-14T18:50:41.366Z"
   },
   {
    "duration": 49,
    "start_time": "2022-05-14T18:50:41.386Z"
   },
   {
    "duration": 133,
    "start_time": "2022-05-14T18:50:41.437Z"
   },
   {
    "duration": 1076,
    "start_time": "2022-05-14T18:50:41.572Z"
   },
   {
    "duration": 1097,
    "start_time": "2022-05-14T18:50:42.651Z"
   },
   {
    "duration": 136990,
    "start_time": "2022-05-14T18:50:43.751Z"
   },
   {
    "duration": 10580,
    "start_time": "2022-05-14T18:53:00.832Z"
   },
   {
    "duration": 390621,
    "start_time": "2022-05-14T18:53:11.414Z"
   },
   {
    "duration": 634,
    "start_time": "2022-05-14T18:59:42.039Z"
   },
   {
    "duration": 16957,
    "start_time": "2022-05-14T19:16:44.536Z"
   },
   {
    "duration": 9755,
    "start_time": "2022-05-14T19:17:01.496Z"
   },
   {
    "duration": 16,
    "start_time": "2022-05-14T19:17:11.334Z"
   },
   {
    "duration": 2198,
    "start_time": "2022-05-15T07:22:15.832Z"
   },
   {
    "duration": 1582,
    "start_time": "2022-05-15T07:22:18.032Z"
   },
   {
    "duration": 64,
    "start_time": "2022-05-15T07:22:38.320Z"
   },
   {
    "duration": 70,
    "start_time": "2022-05-15T07:22:49.351Z"
   },
   {
    "duration": 47,
    "start_time": "2022-05-15T07:22:58.839Z"
   },
   {
    "duration": 46,
    "start_time": "2022-05-15T07:23:04.851Z"
   },
   {
    "duration": 46,
    "start_time": "2022-05-15T07:23:09.678Z"
   },
   {
    "duration": 45,
    "start_time": "2022-05-15T07:23:23.783Z"
   },
   {
    "duration": 34,
    "start_time": "2022-05-15T07:24:14.719Z"
   },
   {
    "duration": 144,
    "start_time": "2022-05-15T07:24:17.371Z"
   },
   {
    "duration": 1464,
    "start_time": "2022-05-15T07:24:33.399Z"
   },
   {
    "duration": 1435,
    "start_time": "2022-05-15T07:24:37.747Z"
   },
   {
    "duration": 290,
    "start_time": "2022-05-15T07:28:38.711Z"
   },
   {
    "duration": 2036,
    "start_time": "2022-05-15T07:28:50.375Z"
   },
   {
    "duration": 1510,
    "start_time": "2022-05-15T07:28:52.414Z"
   },
   {
    "duration": 31,
    "start_time": "2022-05-15T07:28:53.926Z"
   },
   {
    "duration": 42,
    "start_time": "2022-05-15T07:28:53.960Z"
   },
   {
    "duration": 81,
    "start_time": "2022-05-15T07:28:54.004Z"
   },
   {
    "duration": 38,
    "start_time": "2022-05-15T07:28:54.088Z"
   },
   {
    "duration": 136,
    "start_time": "2022-05-15T07:28:54.129Z"
   },
   {
    "duration": 114,
    "start_time": "2022-05-15T07:28:54.268Z"
   },
   {
    "duration": 88,
    "start_time": "2022-05-15T07:28:54.384Z"
   },
   {
    "duration": 57,
    "start_time": "2022-05-15T07:28:54.476Z"
   },
   {
    "duration": 60,
    "start_time": "2022-05-15T07:28:54.535Z"
   },
   {
    "duration": 77,
    "start_time": "2022-05-15T07:28:54.597Z"
   },
   {
    "duration": 47,
    "start_time": "2022-05-15T07:28:54.676Z"
   },
   {
    "duration": 414,
    "start_time": "2022-05-15T07:28:54.725Z"
   },
   {
    "duration": 390,
    "start_time": "2022-05-15T07:28:55.141Z"
   },
   {
    "duration": 52,
    "start_time": "2022-05-15T07:28:55.533Z"
   },
   {
    "duration": 376,
    "start_time": "2022-05-15T07:28:55.587Z"
   },
   {
    "duration": 477,
    "start_time": "2022-05-15T07:28:55.965Z"
   },
   {
    "duration": 397,
    "start_time": "2022-05-15T07:28:56.444Z"
   },
   {
    "duration": 27,
    "start_time": "2022-05-15T07:28:56.843Z"
   },
   {
    "duration": 34,
    "start_time": "2022-05-15T07:28:56.873Z"
   },
   {
    "duration": 173,
    "start_time": "2022-05-15T07:28:56.909Z"
   },
   {
    "duration": 1498,
    "start_time": "2022-05-15T07:28:57.085Z"
   },
   {
    "duration": 1468,
    "start_time": "2022-05-15T07:28:58.585Z"
   },
   {
    "duration": 223722,
    "start_time": "2022-05-15T07:29:00.055Z"
   },
   {
    "duration": 17523,
    "start_time": "2022-05-15T07:32:43.856Z"
   },
   {
    "duration": 622796,
    "start_time": "2022-05-15T07:33:01.382Z"
   },
   {
    "duration": 734,
    "start_time": "2022-05-15T07:43:24.182Z"
   },
   {
    "duration": 143596,
    "start_time": "2022-05-15T07:43:24.918Z"
   },
   {
    "duration": 38638,
    "start_time": "2022-05-15T07:45:48.516Z"
   },
   {
    "duration": 90315,
    "start_time": "2022-05-15T07:46:27.157Z"
   },
   {
    "duration": 6,
    "start_time": "2022-05-15T07:47:57.474Z"
   },
   {
    "duration": 424554,
    "start_time": "2022-05-15T07:47:57.482Z"
   },
   {
    "duration": 6,
    "start_time": "2022-05-15T07:55:02.038Z"
   },
   {
    "duration": 26743,
    "start_time": "2022-05-15T07:55:02.047Z"
   },
   {
    "duration": 16,
    "start_time": "2022-05-15T07:55:28.792Z"
   },
   {
    "duration": 610,
    "start_time": "2022-05-15T07:55:29.994Z"
   },
   {
    "duration": 3539,
    "start_time": "2022-05-15T07:56:39.531Z"
   },
   {
    "duration": 6908,
    "start_time": "2022-05-15T07:57:57.899Z"
   },
   {
    "duration": 75,
    "start_time": "2022-05-15T07:58:40.145Z"
   },
   {
    "duration": 46290,
    "start_time": "2022-05-15T07:58:52.849Z"
   },
   {
    "duration": 47000,
    "start_time": "2022-05-15T08:00:03.952Z"
   },
   {
    "duration": 1293378,
    "start_time": "2022-05-15T08:02:33.650Z"
   },
   {
    "duration": 72009,
    "start_time": "2022-05-15T08:25:39.586Z"
   },
   {
    "duration": 42616,
    "start_time": "2022-05-15T08:27:59.706Z"
   },
   {
    "duration": 67422,
    "start_time": "2022-05-15T08:29:07.011Z"
   },
   {
    "duration": 71757,
    "start_time": "2022-05-15T08:30:32.414Z"
   },
   {
    "duration": 41244,
    "start_time": "2022-05-15T08:37:02.422Z"
   },
   {
    "duration": 408534,
    "start_time": "2022-05-15T08:37:53.793Z"
   },
   {
    "duration": 7,
    "start_time": "2022-05-15T08:46:46.720Z"
   },
   {
    "duration": 14,
    "start_time": "2022-05-15T08:47:28.921Z"
   },
   {
    "duration": 15,
    "start_time": "2022-05-15T08:49:14.906Z"
   },
   {
    "duration": 7,
    "start_time": "2022-05-15T08:49:22.817Z"
   },
   {
    "duration": 3648433,
    "start_time": "2022-05-15T08:49:29.022Z"
   },
   {
    "duration": 131,
    "start_time": "2022-05-15T09:52:09.952Z"
   },
   {
    "duration": 773,
    "start_time": "2022-05-15T09:54:30.552Z"
   },
   {
    "duration": 7,
    "start_time": "2022-05-15T09:55:52.268Z"
   },
   {
    "duration": 1524841,
    "start_time": "2022-05-15T10:03:06.857Z"
   },
   {
    "duration": 3727,
    "start_time": "2022-05-15T11:07:46.509Z"
   },
   {
    "duration": 207,
    "start_time": "2022-05-15T11:09:03.649Z"
   },
   {
    "duration": 13,
    "start_time": "2022-05-15T11:09:27.467Z"
   }
  ],
  "kernelspec": {
   "display_name": "Python 3 (ipykernel)",
   "language": "python",
   "name": "python3"
  },
  "language_info": {
   "codemirror_mode": {
    "name": "ipython",
    "version": 3
   },
   "file_extension": ".py",
   "mimetype": "text/x-python",
   "name": "python",
   "nbconvert_exporter": "python",
   "pygments_lexer": "ipython3",
   "version": "3.9.7"
  },
  "toc": {
   "base_numbering": 1,
   "nav_menu": {},
   "number_sections": true,
   "sideBar": true,
   "skip_h1_title": true,
   "title_cell": "Table of Contents",
   "title_sidebar": "Contents",
   "toc_cell": false,
   "toc_position": {
    "height": "calc(100% - 180px)",
    "left": "10px",
    "top": "150px",
    "width": "165px"
   },
   "toc_section_display": true,
   "toc_window_display": true
  }
 },
 "nbformat": 4,
 "nbformat_minor": 2
}
