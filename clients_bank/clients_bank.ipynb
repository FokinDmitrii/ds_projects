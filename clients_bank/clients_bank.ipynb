{
 "cells": [
  {
   "cell_type": "markdown",
   "metadata": {
    "toc": true
   },
   "source": [
    "<h1>Содержание<span class=\"tocSkip\"></span></h1>\n",
    "<div class=\"toc\"><ul class=\"toc-item\"><li><span><a href=\"#Подготовка-данных\" data-toc-modified-id=\"Подготовка-данных-1\"><span class=\"toc-item-num\">1&nbsp;&nbsp;</span>Подготовка данных</a></span><ul class=\"toc-item\"><li><span><a href=\"#Удалим-не-нужные-столбцы\" data-toc-modified-id=\"Удалим-не-нужные-столбцы-1.1\"><span class=\"toc-item-num\">1.1&nbsp;&nbsp;</span>Удалим не нужные столбцы</a></span></li><li><span><a href=\"#Разделение-выборки-произведем-в-2-этапа:\" data-toc-modified-id=\"Разделение-выборки-произведем-в-2-этапа:-1.2\"><span class=\"toc-item-num\">1.2&nbsp;&nbsp;</span>Разделение выборки произведем в 2 этапа:</a></span></li><li><span><a href=\"#Масштабирование-признаков\" data-toc-modified-id=\"Масштабирование-признаков-1.3\"><span class=\"toc-item-num\">1.3&nbsp;&nbsp;</span>Масштабирование признаков</a></span></li></ul></li><li><span><a href=\"#Исследование-задачи\" data-toc-modified-id=\"Исследование-задачи-2\"><span class=\"toc-item-num\">2&nbsp;&nbsp;</span>Исследование задачи</a></span><ul class=\"toc-item\"><li><span><a href=\"#Точность-моделей\" data-toc-modified-id=\"Точность-моделей-2.1\"><span class=\"toc-item-num\">2.1&nbsp;&nbsp;</span>Точность моделей</a></span></li><li><span><a href=\"#Проверка-баланса-классов-выборки\" data-toc-modified-id=\"Проверка-баланса-классов-выборки-2.2\"><span class=\"toc-item-num\">2.2&nbsp;&nbsp;</span>Проверка баланса классов выборки</a></span></li><li><span><a href=\"#Проверка-адекватности\" data-toc-modified-id=\"Проверка-адекватности-2.3\"><span class=\"toc-item-num\">2.3&nbsp;&nbsp;</span>Проверка адекватности</a></span></li></ul></li><li><span><a href=\"#Борьба-с-дисбалансом\" data-toc-modified-id=\"Борьба-с-дисбалансом-3\"><span class=\"toc-item-num\">3&nbsp;&nbsp;</span>Борьба с дисбалансом</a></span></li><li><span><a href=\"#Тестирование-модели\" data-toc-modified-id=\"Тестирование-модели-4\"><span class=\"toc-item-num\">4&nbsp;&nbsp;</span>Тестирование модели</a></span></li><li><span><a href=\"#Чек-лист-готовности-проекта\" data-toc-modified-id=\"Чек-лист-готовности-проекта-5\"><span class=\"toc-item-num\">5&nbsp;&nbsp;</span>Чек-лист готовности проекта</a></span></li></ul></div>"
   ]
  },
  {
   "cell_type": "markdown",
   "metadata": {},
   "source": [
    "# Отток клиентов"
   ]
  },
  {
   "cell_type": "markdown",
   "metadata": {},
   "source": [
    "Из «Бета-Банка» стали уходить клиенты. Каждый месяц. Немного, но заметно. Банковские маркетологи посчитали: сохранять текущих клиентов дешевле, чем привлекать новых.\n",
    "\n",
    "Нужно спрогнозировать, уйдёт клиент из банка в ближайшее время или нет. Вам предоставлены исторические данные о поведении клиентов и расторжении договоров с банком. \n",
    "\n",
    "Постройте модель с предельно большим значением *F1*-меры. Чтобы сдать проект успешно, нужно довести метрику до 0.59. Проверьте *F1*-меру на тестовой выборке самостоятельно.\n",
    "\n",
    "Дополнительно измеряйте *AUC-ROC*, сравнивайте её значение с *F1*-мерой.\n",
    "\n",
    "Источник данных: [https://www.kaggle.com/barelydedicated/bank-customer-churn-modeling](https://www.kaggle.com/barelydedicated/bank-customer-churn-modeling)"
   ]
  },
  {
   "cell_type": "markdown",
   "metadata": {},
   "source": [
    "## Подготовка данных"
   ]
  },
  {
   "cell_type": "code",
   "execution_count": 1,
   "metadata": {},
   "outputs": [
    {
     "data": {
      "text/plain": [
       "(10000, 14)"
      ]
     },
     "execution_count": 1,
     "metadata": {},
     "output_type": "execute_result"
    }
   ],
   "source": [
    "import pandas as pd\n",
    "import matplotlib.pyplot as plt\n",
    "from sklearn.model_selection import train_test_split # для разделения выборок\n",
    "from sklearn.preprocessing import StandardScaler     # для масштабирования\n",
    "from sklearn.linear_model import LinearRegression    # модель Линейной регрессии\n",
    "from sklearn.tree import DecisionTreeClassifier      # модель Дерева решений\n",
    "from sklearn.ensemble import RandomForestClassifier   # модель Случайного леса\n",
    "from sklearn.metrics import mean_absolute_error      # для вычисления MAE\n",
    "from sklearn.metrics import accuracy_score           # метика accuracy\n",
    "from sklearn.metrics import confusion_matrix         # матрица ошибок\n",
    "from sklearn.metrics import recall_score             # полнота\n",
    "from sklearn.metrics import precision_score          # точность\n",
    "from sklearn.metrics import f1_score                 # F-1 мера\n",
    "from sklearn.metrics import roc_auc_score            # AUC-ROC\n",
    "from sklearn.metrics import roc_curve                # ROC-кривая\n",
    "from sklearn.tree import DecisionTreeRegressor\n",
    "from sklearn.linear_model import LogisticRegression\n",
    "from sklearn.utils import shuffle\n",
    "import warnings\n",
    "warnings.filterwarnings('ignore')\n",
    "\n",
    "data = pd.read_csv('/datasets/Churn.csv')\n",
    "data.shape\n"
   ]
  },
  {
   "cell_type": "code",
   "execution_count": 2,
   "metadata": {},
   "outputs": [
    {
     "data": {
      "text/html": [
       "<div>\n",
       "<style scoped>\n",
       "    .dataframe tbody tr th:only-of-type {\n",
       "        vertical-align: middle;\n",
       "    }\n",
       "\n",
       "    .dataframe tbody tr th {\n",
       "        vertical-align: top;\n",
       "    }\n",
       "\n",
       "    .dataframe thead th {\n",
       "        text-align: right;\n",
       "    }\n",
       "</style>\n",
       "<table border=\"1\" class=\"dataframe\">\n",
       "  <thead>\n",
       "    <tr style=\"text-align: right;\">\n",
       "      <th></th>\n",
       "      <th>RowNumber</th>\n",
       "      <th>CustomerId</th>\n",
       "      <th>Surname</th>\n",
       "      <th>CreditScore</th>\n",
       "      <th>Geography</th>\n",
       "      <th>Gender</th>\n",
       "      <th>Age</th>\n",
       "      <th>Tenure</th>\n",
       "      <th>Balance</th>\n",
       "      <th>NumOfProducts</th>\n",
       "      <th>HasCrCard</th>\n",
       "      <th>IsActiveMember</th>\n",
       "      <th>EstimatedSalary</th>\n",
       "      <th>Exited</th>\n",
       "    </tr>\n",
       "  </thead>\n",
       "  <tbody>\n",
       "    <tr>\n",
       "      <th>0</th>\n",
       "      <td>1</td>\n",
       "      <td>15634602</td>\n",
       "      <td>Hargrave</td>\n",
       "      <td>619</td>\n",
       "      <td>France</td>\n",
       "      <td>Female</td>\n",
       "      <td>42</td>\n",
       "      <td>2.0</td>\n",
       "      <td>0.00</td>\n",
       "      <td>1</td>\n",
       "      <td>1</td>\n",
       "      <td>1</td>\n",
       "      <td>101348.88</td>\n",
       "      <td>1</td>\n",
       "    </tr>\n",
       "    <tr>\n",
       "      <th>1</th>\n",
       "      <td>2</td>\n",
       "      <td>15647311</td>\n",
       "      <td>Hill</td>\n",
       "      <td>608</td>\n",
       "      <td>Spain</td>\n",
       "      <td>Female</td>\n",
       "      <td>41</td>\n",
       "      <td>1.0</td>\n",
       "      <td>83807.86</td>\n",
       "      <td>1</td>\n",
       "      <td>0</td>\n",
       "      <td>1</td>\n",
       "      <td>112542.58</td>\n",
       "      <td>0</td>\n",
       "    </tr>\n",
       "    <tr>\n",
       "      <th>2</th>\n",
       "      <td>3</td>\n",
       "      <td>15619304</td>\n",
       "      <td>Onio</td>\n",
       "      <td>502</td>\n",
       "      <td>France</td>\n",
       "      <td>Female</td>\n",
       "      <td>42</td>\n",
       "      <td>8.0</td>\n",
       "      <td>159660.80</td>\n",
       "      <td>3</td>\n",
       "      <td>1</td>\n",
       "      <td>0</td>\n",
       "      <td>113931.57</td>\n",
       "      <td>1</td>\n",
       "    </tr>\n",
       "    <tr>\n",
       "      <th>3</th>\n",
       "      <td>4</td>\n",
       "      <td>15701354</td>\n",
       "      <td>Boni</td>\n",
       "      <td>699</td>\n",
       "      <td>France</td>\n",
       "      <td>Female</td>\n",
       "      <td>39</td>\n",
       "      <td>1.0</td>\n",
       "      <td>0.00</td>\n",
       "      <td>2</td>\n",
       "      <td>0</td>\n",
       "      <td>0</td>\n",
       "      <td>93826.63</td>\n",
       "      <td>0</td>\n",
       "    </tr>\n",
       "    <tr>\n",
       "      <th>4</th>\n",
       "      <td>5</td>\n",
       "      <td>15737888</td>\n",
       "      <td>Mitchell</td>\n",
       "      <td>850</td>\n",
       "      <td>Spain</td>\n",
       "      <td>Female</td>\n",
       "      <td>43</td>\n",
       "      <td>2.0</td>\n",
       "      <td>125510.82</td>\n",
       "      <td>1</td>\n",
       "      <td>1</td>\n",
       "      <td>1</td>\n",
       "      <td>79084.10</td>\n",
       "      <td>0</td>\n",
       "    </tr>\n",
       "  </tbody>\n",
       "</table>\n",
       "</div>"
      ],
      "text/plain": [
       "   RowNumber  CustomerId   Surname  CreditScore Geography  Gender  Age  \\\n",
       "0          1    15634602  Hargrave          619    France  Female   42   \n",
       "1          2    15647311      Hill          608     Spain  Female   41   \n",
       "2          3    15619304      Onio          502    France  Female   42   \n",
       "3          4    15701354      Boni          699    France  Female   39   \n",
       "4          5    15737888  Mitchell          850     Spain  Female   43   \n",
       "\n",
       "   Tenure    Balance  NumOfProducts  HasCrCard  IsActiveMember  \\\n",
       "0     2.0       0.00              1          1               1   \n",
       "1     1.0   83807.86              1          0               1   \n",
       "2     8.0  159660.80              3          1               0   \n",
       "3     1.0       0.00              2          0               0   \n",
       "4     2.0  125510.82              1          1               1   \n",
       "\n",
       "   EstimatedSalary  Exited  \n",
       "0        101348.88       1  \n",
       "1        112542.58       0  \n",
       "2        113931.57       1  \n",
       "3         93826.63       0  \n",
       "4         79084.10       0  "
      ]
     },
     "execution_count": 2,
     "metadata": {},
     "output_type": "execute_result"
    }
   ],
   "source": [
    "data.head()"
   ]
  },
  {
   "cell_type": "markdown",
   "metadata": {},
   "source": [
    "целевой признак Exited — факт ухода клиента — категориальный признак, задача будет достигаться методами классификации."
   ]
  },
  {
   "cell_type": "code",
   "execution_count": 3,
   "metadata": {},
   "outputs": [
    {
     "name": "stdout",
     "output_type": "stream",
     "text": [
      "<class 'pandas.core.frame.DataFrame'>\n",
      "RangeIndex: 10000 entries, 0 to 9999\n",
      "Data columns (total 14 columns):\n",
      " #   Column           Non-Null Count  Dtype  \n",
      "---  ------           --------------  -----  \n",
      " 0   RowNumber        10000 non-null  int64  \n",
      " 1   CustomerId       10000 non-null  int64  \n",
      " 2   Surname          10000 non-null  object \n",
      " 3   CreditScore      10000 non-null  int64  \n",
      " 4   Geography        10000 non-null  object \n",
      " 5   Gender           10000 non-null  object \n",
      " 6   Age              10000 non-null  int64  \n",
      " 7   Tenure           9091 non-null   float64\n",
      " 8   Balance          10000 non-null  float64\n",
      " 9   NumOfProducts    10000 non-null  int64  \n",
      " 10  HasCrCard        10000 non-null  int64  \n",
      " 11  IsActiveMember   10000 non-null  int64  \n",
      " 12  EstimatedSalary  10000 non-null  float64\n",
      " 13  Exited           10000 non-null  int64  \n",
      "dtypes: float64(3), int64(8), object(3)\n",
      "memory usage: 1.1+ MB\n"
     ]
    }
   ],
   "source": [
    "data.info()"
   ]
  },
  {
   "cell_type": "markdown",
   "metadata": {},
   "source": [
    "Датасет содержить 10000 строк, есть пропуски в 'Tenure'.\n",
    "Требуемые изменения:\n",
    "\n",
    " * RowNumber — столбец дублирует индексы и не несетя ценности для обучения модели. Поэтому столбец можно удалить\n",
    " * CustomerId — является идентификатором пользователя — стоблец также можно удалить\n",
    " * Surname — является идентифицирующей пользователя информацией, не несет ценности для качества будущей модели — столбец можно удалить.\n",
    " * CreditScore — следует проверить распределение и сохранить данный столбец.\n",
    " * Geography — следует проверить на уникальность.\n",
    " * Gender — значение пола можно преобразовать — OHE / ordinal encoding для облегчения дальнейшего анализа.\n",
    " * Age — пока не известно понадобится ли возраст в дальнейшем анализе, оставим как есть\n",
    " * Exited — тип данных классифицированный, это наш целевой признак, требуется проработка OHE"
   ]
  },
  {
   "cell_type": "markdown",
   "metadata": {},
   "source": [
    "### Удалим не нужные столбцы"
   ]
  },
  {
   "cell_type": "code",
   "execution_count": 4,
   "metadata": {},
   "outputs": [
    {
     "data": {
      "text/html": [
       "<div>\n",
       "<style scoped>\n",
       "    .dataframe tbody tr th:only-of-type {\n",
       "        vertical-align: middle;\n",
       "    }\n",
       "\n",
       "    .dataframe tbody tr th {\n",
       "        vertical-align: top;\n",
       "    }\n",
       "\n",
       "    .dataframe thead th {\n",
       "        text-align: right;\n",
       "    }\n",
       "</style>\n",
       "<table border=\"1\" class=\"dataframe\">\n",
       "  <thead>\n",
       "    <tr style=\"text-align: right;\">\n",
       "      <th></th>\n",
       "      <th>CreditScore</th>\n",
       "      <th>Geography</th>\n",
       "      <th>Gender</th>\n",
       "      <th>Age</th>\n",
       "      <th>Tenure</th>\n",
       "      <th>Balance</th>\n",
       "      <th>NumOfProducts</th>\n",
       "      <th>HasCrCard</th>\n",
       "      <th>IsActiveMember</th>\n",
       "      <th>EstimatedSalary</th>\n",
       "      <th>Exited</th>\n",
       "    </tr>\n",
       "  </thead>\n",
       "  <tbody>\n",
       "    <tr>\n",
       "      <th>0</th>\n",
       "      <td>619</td>\n",
       "      <td>France</td>\n",
       "      <td>Female</td>\n",
       "      <td>42</td>\n",
       "      <td>2.0</td>\n",
       "      <td>0.00</td>\n",
       "      <td>1</td>\n",
       "      <td>1</td>\n",
       "      <td>1</td>\n",
       "      <td>101348.88</td>\n",
       "      <td>1</td>\n",
       "    </tr>\n",
       "    <tr>\n",
       "      <th>1</th>\n",
       "      <td>608</td>\n",
       "      <td>Spain</td>\n",
       "      <td>Female</td>\n",
       "      <td>41</td>\n",
       "      <td>1.0</td>\n",
       "      <td>83807.86</td>\n",
       "      <td>1</td>\n",
       "      <td>0</td>\n",
       "      <td>1</td>\n",
       "      <td>112542.58</td>\n",
       "      <td>0</td>\n",
       "    </tr>\n",
       "    <tr>\n",
       "      <th>2</th>\n",
       "      <td>502</td>\n",
       "      <td>France</td>\n",
       "      <td>Female</td>\n",
       "      <td>42</td>\n",
       "      <td>8.0</td>\n",
       "      <td>159660.80</td>\n",
       "      <td>3</td>\n",
       "      <td>1</td>\n",
       "      <td>0</td>\n",
       "      <td>113931.57</td>\n",
       "      <td>1</td>\n",
       "    </tr>\n",
       "    <tr>\n",
       "      <th>3</th>\n",
       "      <td>699</td>\n",
       "      <td>France</td>\n",
       "      <td>Female</td>\n",
       "      <td>39</td>\n",
       "      <td>1.0</td>\n",
       "      <td>0.00</td>\n",
       "      <td>2</td>\n",
       "      <td>0</td>\n",
       "      <td>0</td>\n",
       "      <td>93826.63</td>\n",
       "      <td>0</td>\n",
       "    </tr>\n",
       "    <tr>\n",
       "      <th>4</th>\n",
       "      <td>850</td>\n",
       "      <td>Spain</td>\n",
       "      <td>Female</td>\n",
       "      <td>43</td>\n",
       "      <td>2.0</td>\n",
       "      <td>125510.82</td>\n",
       "      <td>1</td>\n",
       "      <td>1</td>\n",
       "      <td>1</td>\n",
       "      <td>79084.10</td>\n",
       "      <td>0</td>\n",
       "    </tr>\n",
       "  </tbody>\n",
       "</table>\n",
       "</div>"
      ],
      "text/plain": [
       "   CreditScore Geography  Gender  Age  Tenure    Balance  NumOfProducts  \\\n",
       "0          619    France  Female   42     2.0       0.00              1   \n",
       "1          608     Spain  Female   41     1.0   83807.86              1   \n",
       "2          502    France  Female   42     8.0  159660.80              3   \n",
       "3          699    France  Female   39     1.0       0.00              2   \n",
       "4          850     Spain  Female   43     2.0  125510.82              1   \n",
       "\n",
       "   HasCrCard  IsActiveMember  EstimatedSalary  Exited  \n",
       "0          1               1        101348.88       1  \n",
       "1          0               1        112542.58       0  \n",
       "2          1               0        113931.57       1  \n",
       "3          0               0         93826.63       0  \n",
       "4          1               1         79084.10       0  "
      ]
     },
     "execution_count": 4,
     "metadata": {},
     "output_type": "execute_result"
    }
   ],
   "source": [
    "#Удалим столбец RowNumber, не представляющие ценностия для алгоритма \n",
    "\n",
    "for_drop = ['RowNumber','CustomerId', 'Surname']\n",
    "df = data.drop(for_drop, axis=1)\n",
    "df.head()"
   ]
  },
  {
   "cell_type": "code",
   "execution_count": 5,
   "metadata": {},
   "outputs": [
    {
     "data": {
      "text/plain": [
       "array([ 2.,  1.,  8.,  7.,  4.,  6.,  3., 10.,  5.,  9.,  0., nan])"
      ]
     },
     "execution_count": 5,
     "metadata": {},
     "output_type": "execute_result"
    }
   ],
   "source": [
    "df['Tenure'].unique()"
   ]
  },
  {
   "cell_type": "code",
   "execution_count": 6,
   "metadata": {},
   "outputs": [
    {
     "data": {
      "text/plain": [
       "0        2\n",
       "1        1\n",
       "2        8\n",
       "3        1\n",
       "4        2\n",
       "        ..\n",
       "9995     5\n",
       "9996    10\n",
       "9997     7\n",
       "9998     3\n",
       "9999     4\n",
       "Name: Tenure, Length: 10000, dtype: int64"
      ]
     },
     "execution_count": 6,
     "metadata": {},
     "output_type": "execute_result"
    }
   ],
   "source": [
    "# заменим пропуски на -1\n",
    "df['Tenure'] = df['Tenure'].fillna(df['Tenure'].mean())\n",
    "df['Tenure'].astype('int')"
   ]
  },
  {
   "cell_type": "markdown",
   "metadata": {},
   "source": [
    "Данные подготовим методом OHE, для анализа выберем модели, деревое решений, случайный лес и логистическую регрессию."
   ]
  },
  {
   "cell_type": "code",
   "execution_count": 7,
   "metadata": {},
   "outputs": [
    {
     "data": {
      "text/html": [
       "<div>\n",
       "<style scoped>\n",
       "    .dataframe tbody tr th:only-of-type {\n",
       "        vertical-align: middle;\n",
       "    }\n",
       "\n",
       "    .dataframe tbody tr th {\n",
       "        vertical-align: top;\n",
       "    }\n",
       "\n",
       "    .dataframe thead th {\n",
       "        text-align: right;\n",
       "    }\n",
       "</style>\n",
       "<table border=\"1\" class=\"dataframe\">\n",
       "  <thead>\n",
       "    <tr style=\"text-align: right;\">\n",
       "      <th></th>\n",
       "      <th>CreditScore</th>\n",
       "      <th>Age</th>\n",
       "      <th>Tenure</th>\n",
       "      <th>Balance</th>\n",
       "      <th>NumOfProducts</th>\n",
       "      <th>HasCrCard</th>\n",
       "      <th>IsActiveMember</th>\n",
       "      <th>EstimatedSalary</th>\n",
       "      <th>Exited</th>\n",
       "      <th>Geography_Germany</th>\n",
       "      <th>Geography_Spain</th>\n",
       "      <th>Gender_Male</th>\n",
       "    </tr>\n",
       "  </thead>\n",
       "  <tbody>\n",
       "    <tr>\n",
       "      <th>0</th>\n",
       "      <td>619</td>\n",
       "      <td>42</td>\n",
       "      <td>2.0</td>\n",
       "      <td>0.00</td>\n",
       "      <td>1</td>\n",
       "      <td>1</td>\n",
       "      <td>1</td>\n",
       "      <td>101348.88</td>\n",
       "      <td>1</td>\n",
       "      <td>0</td>\n",
       "      <td>0</td>\n",
       "      <td>0</td>\n",
       "    </tr>\n",
       "    <tr>\n",
       "      <th>1</th>\n",
       "      <td>608</td>\n",
       "      <td>41</td>\n",
       "      <td>1.0</td>\n",
       "      <td>83807.86</td>\n",
       "      <td>1</td>\n",
       "      <td>0</td>\n",
       "      <td>1</td>\n",
       "      <td>112542.58</td>\n",
       "      <td>0</td>\n",
       "      <td>0</td>\n",
       "      <td>1</td>\n",
       "      <td>0</td>\n",
       "    </tr>\n",
       "    <tr>\n",
       "      <th>2</th>\n",
       "      <td>502</td>\n",
       "      <td>42</td>\n",
       "      <td>8.0</td>\n",
       "      <td>159660.80</td>\n",
       "      <td>3</td>\n",
       "      <td>1</td>\n",
       "      <td>0</td>\n",
       "      <td>113931.57</td>\n",
       "      <td>1</td>\n",
       "      <td>0</td>\n",
       "      <td>0</td>\n",
       "      <td>0</td>\n",
       "    </tr>\n",
       "    <tr>\n",
       "      <th>3</th>\n",
       "      <td>699</td>\n",
       "      <td>39</td>\n",
       "      <td>1.0</td>\n",
       "      <td>0.00</td>\n",
       "      <td>2</td>\n",
       "      <td>0</td>\n",
       "      <td>0</td>\n",
       "      <td>93826.63</td>\n",
       "      <td>0</td>\n",
       "      <td>0</td>\n",
       "      <td>0</td>\n",
       "      <td>0</td>\n",
       "    </tr>\n",
       "    <tr>\n",
       "      <th>4</th>\n",
       "      <td>850</td>\n",
       "      <td>43</td>\n",
       "      <td>2.0</td>\n",
       "      <td>125510.82</td>\n",
       "      <td>1</td>\n",
       "      <td>1</td>\n",
       "      <td>1</td>\n",
       "      <td>79084.10</td>\n",
       "      <td>0</td>\n",
       "      <td>0</td>\n",
       "      <td>1</td>\n",
       "      <td>0</td>\n",
       "    </tr>\n",
       "  </tbody>\n",
       "</table>\n",
       "</div>"
      ],
      "text/plain": [
       "   CreditScore  Age  Tenure    Balance  NumOfProducts  HasCrCard  \\\n",
       "0          619   42     2.0       0.00              1          1   \n",
       "1          608   41     1.0   83807.86              1          0   \n",
       "2          502   42     8.0  159660.80              3          1   \n",
       "3          699   39     1.0       0.00              2          0   \n",
       "4          850   43     2.0  125510.82              1          1   \n",
       "\n",
       "   IsActiveMember  EstimatedSalary  Exited  Geography_Germany  \\\n",
       "0               1        101348.88       1                  0   \n",
       "1               1        112542.58       0                  0   \n",
       "2               0        113931.57       1                  0   \n",
       "3               0         93826.63       0                  0   \n",
       "4               1         79084.10       0                  0   \n",
       "\n",
       "   Geography_Spain  Gender_Male  \n",
       "0                0            0  \n",
       "1                1            0  \n",
       "2                0            0  \n",
       "3                0            0  \n",
       "4                1            0  "
      ]
     },
     "execution_count": 7,
     "metadata": {},
     "output_type": "execute_result"
    }
   ],
   "source": [
    "df = pd.get_dummies(df, drop_first=True)\n",
    "df.head()"
   ]
  },
  {
   "cell_type": "markdown",
   "metadata": {},
   "source": [
    "Разделим на три выборки:\n",
    "\n",
    " * обучающая 60% для обучения модели\n",
    " * валидационная 20% для выбора лучшего алгоритма и оптимальных параметров\n",
    " * тестовая 20% для финального теста лучшей модели."
   ]
  },
  {
   "cell_type": "code",
   "execution_count": 8,
   "metadata": {},
   "outputs": [],
   "source": [
    "#разделим на признаки и целевой признак\n",
    "features = df.drop('Exited', axis=1)\n",
    "target = df['Exited']"
   ]
  },
  {
   "cell_type": "code",
   "execution_count": 9,
   "metadata": {},
   "outputs": [
    {
     "data": {
      "text/plain": [
       "(10000, 11)"
      ]
     },
     "execution_count": 9,
     "metadata": {},
     "output_type": "execute_result"
    }
   ],
   "source": [
    "features.shape"
   ]
  },
  {
   "cell_type": "markdown",
   "metadata": {},
   "source": [
    "### Разделение выборки произведем в 2 этапа:\n",
    "- Выделим валидационную 60%\n",
    "- Разделим оставшиеся 40% на 2 равные части (валидационная и тестовая)"
   ]
  },
  {
   "cell_type": "code",
   "execution_count": 10,
   "metadata": {},
   "outputs": [],
   "source": [
    "# 1 этап разделим на тренировочную часть 60 % и остальные\n",
    "features_train, features_validtest, target_train, target_validtest = train_test_split(features,\n",
    "                                                    target,\n",
    "                                                    train_size=0.6,\n",
    "                                                    random_state=12345, \n",
    "                                                    stratify=target)"
   ]
  },
  {
   "cell_type": "code",
   "execution_count": 11,
   "metadata": {},
   "outputs": [],
   "source": [
    "#2. Разделим оставшиеся 40% на 2 равные части (валидационная и тестовая)\n",
    "features_valid, features_test, target_valid, target_test = train_test_split(features_validtest,\n",
    "                                                    target_validtest,\n",
    "                                                    train_size=0.5,\n",
    "                                                    random_state=12345, \n",
    "                                                    stratify=target_validtest)"
   ]
  },
  {
   "cell_type": "code",
   "execution_count": 12,
   "metadata": {},
   "outputs": [
    {
     "name": "stdout",
     "output_type": "stream",
     "text": [
      "Тестовая выборка (6000, 11)\n",
      "Проверочная выборка (2000, 11)\n",
      "Тестовая выборка (2000, 11)\n"
     ]
    }
   ],
   "source": [
    "print('Тестовая выборка', features_train.shape)\n",
    "print('Проверочная выборка', features_test.shape)\n",
    "print('Тестовая выборка', features_test.shape)"
   ]
  },
  {
   "cell_type": "markdown",
   "metadata": {},
   "source": [
    "### Масштабирование признаков\n"
   ]
  },
  {
   "cell_type": "code",
   "execution_count": 13,
   "metadata": {},
   "outputs": [],
   "source": [
    "#Для масштабирования зафиксируем численные признаки\n",
    "numeric = ['CreditScore', 'Age', 'Tenure', 'Balance', 'NumOfProducts', 'EstimatedSalary']"
   ]
  },
  {
   "cell_type": "code",
   "execution_count": 14,
   "metadata": {},
   "outputs": [
    {
     "name": "stdout",
     "output_type": "stream",
     "text": [
      "      CreditScore       Age    Tenure   Balance  NumOfProducts  HasCrCard  \\\n",
      "2837    -1.040434  0.953312  0.360677  0.774657      -0.914708          0   \n",
      "9925     0.454006 -0.095244 -0.003548  1.910540      -0.914708          1   \n",
      "8746     0.103585 -0.476537  1.087448  0.481608       0.820981          0   \n",
      "660     -0.184996  0.190726 -0.003548  0.088439      -0.914708          1   \n",
      "3610    -0.720933  1.620574 -1.456250  0.879129      -0.914708          1   \n",
      "\n",
      "      IsActiveMember  EstimatedSalary  Geography_Germany  Geography_Spain  \\\n",
      "2837               1        -0.119110                  1                0   \n",
      "9925               1        -0.258658                  0                0   \n",
      "8746               1         1.422836                  0                0   \n",
      "660                1        -1.160427                  1                0   \n",
      "3610               0         0.113236                  0                0   \n",
      "\n",
      "      Gender_Male  \n",
      "2837            0  \n",
      "9925            0  \n",
      "8746            1  \n",
      "660             0  \n",
      "3610            0  \n"
     ]
    }
   ],
   "source": [
    "#Масштабируем численные признаки обучающей выборки \n",
    "pd.options.mode.chained_assignment = None\n",
    "scaler = StandardScaler()\n",
    "scaler.fit(features_train[numeric]) \n",
    "features_train[numeric] = scaler.transform(features_train[numeric])\n",
    "features_valid[numeric] = scaler.transform(features_valid[numeric])\n",
    "print(features_train.head())"
   ]
  },
  {
   "cell_type": "markdown",
   "metadata": {},
   "source": [
    "Также масштабируем тестовую выборку"
   ]
  },
  {
   "cell_type": "code",
   "execution_count": 15,
   "metadata": {},
   "outputs": [
    {
     "data": {
      "text/html": [
       "<div>\n",
       "<style scoped>\n",
       "    .dataframe tbody tr th:only-of-type {\n",
       "        vertical-align: middle;\n",
       "    }\n",
       "\n",
       "    .dataframe tbody tr th {\n",
       "        vertical-align: top;\n",
       "    }\n",
       "\n",
       "    .dataframe thead th {\n",
       "        text-align: right;\n",
       "    }\n",
       "</style>\n",
       "<table border=\"1\" class=\"dataframe\">\n",
       "  <thead>\n",
       "    <tr style=\"text-align: right;\">\n",
       "      <th></th>\n",
       "      <th>CreditScore</th>\n",
       "      <th>Age</th>\n",
       "      <th>Tenure</th>\n",
       "      <th>Balance</th>\n",
       "      <th>NumOfProducts</th>\n",
       "      <th>HasCrCard</th>\n",
       "      <th>IsActiveMember</th>\n",
       "      <th>EstimatedSalary</th>\n",
       "      <th>Geography_Germany</th>\n",
       "      <th>Geography_Spain</th>\n",
       "      <th>Gender_Male</th>\n",
       "    </tr>\n",
       "  </thead>\n",
       "  <tbody>\n",
       "    <tr>\n",
       "      <th>657</th>\n",
       "      <td>-0.504497</td>\n",
       "      <td>1.429928</td>\n",
       "      <td>-1.456250</td>\n",
       "      <td>0.873883</td>\n",
       "      <td>0.820981</td>\n",
       "      <td>1</td>\n",
       "      <td>1</td>\n",
       "      <td>1.725255</td>\n",
       "      <td>1</td>\n",
       "      <td>0</td>\n",
       "      <td>0</td>\n",
       "    </tr>\n",
       "    <tr>\n",
       "      <th>2083</th>\n",
       "      <td>-1.195031</td>\n",
       "      <td>-1.429769</td>\n",
       "      <td>-1.456250</td>\n",
       "      <td>-1.219673</td>\n",
       "      <td>-0.914708</td>\n",
       "      <td>1</td>\n",
       "      <td>1</td>\n",
       "      <td>1.203665</td>\n",
       "      <td>0</td>\n",
       "      <td>0</td>\n",
       "      <td>1</td>\n",
       "    </tr>\n",
       "    <tr>\n",
       "      <th>3234</th>\n",
       "      <td>-1.267176</td>\n",
       "      <td>0.762665</td>\n",
       "      <td>-1.456250</td>\n",
       "      <td>-1.219673</td>\n",
       "      <td>-0.914708</td>\n",
       "      <td>1</td>\n",
       "      <td>0</td>\n",
       "      <td>-1.374743</td>\n",
       "      <td>0</td>\n",
       "      <td>0</td>\n",
       "      <td>1</td>\n",
       "    </tr>\n",
       "    <tr>\n",
       "      <th>1551</th>\n",
       "      <td>0.825039</td>\n",
       "      <td>1.239281</td>\n",
       "      <td>0.724063</td>\n",
       "      <td>-1.219673</td>\n",
       "      <td>0.820981</td>\n",
       "      <td>0</td>\n",
       "      <td>1</td>\n",
       "      <td>0.382306</td>\n",
       "      <td>0</td>\n",
       "      <td>1</td>\n",
       "      <td>0</td>\n",
       "    </tr>\n",
       "    <tr>\n",
       "      <th>2344</th>\n",
       "      <td>0.660135</td>\n",
       "      <td>0.953312</td>\n",
       "      <td>-0.366094</td>\n",
       "      <td>0.267087</td>\n",
       "      <td>-0.914708</td>\n",
       "      <td>1</td>\n",
       "      <td>0</td>\n",
       "      <td>-1.613578</td>\n",
       "      <td>1</td>\n",
       "      <td>0</td>\n",
       "      <td>0</td>\n",
       "    </tr>\n",
       "  </tbody>\n",
       "</table>\n",
       "</div>"
      ],
      "text/plain": [
       "      CreditScore       Age    Tenure   Balance  NumOfProducts  HasCrCard  \\\n",
       "657     -0.504497  1.429928 -1.456250  0.873883       0.820981          1   \n",
       "2083    -1.195031 -1.429769 -1.456250 -1.219673      -0.914708          1   \n",
       "3234    -1.267176  0.762665 -1.456250 -1.219673      -0.914708          1   \n",
       "1551     0.825039  1.239281  0.724063 -1.219673       0.820981          0   \n",
       "2344     0.660135  0.953312 -0.366094  0.267087      -0.914708          1   \n",
       "\n",
       "      IsActiveMember  EstimatedSalary  Geography_Germany  Geography_Spain  \\\n",
       "657                1         1.725255                  1                0   \n",
       "2083               1         1.203665                  0                0   \n",
       "3234               0        -1.374743                  0                0   \n",
       "1551               1         0.382306                  0                1   \n",
       "2344               0        -1.613578                  1                0   \n",
       "\n",
       "      Gender_Male  \n",
       "657             0  \n",
       "2083            1  \n",
       "3234            1  \n",
       "1551            0  \n",
       "2344            0  "
      ]
     },
     "execution_count": 15,
     "metadata": {},
     "output_type": "execute_result"
    }
   ],
   "source": [
    "\n",
    "features_test[numeric] = scaler.transform(features_test[numeric])\n",
    "features_test.head()"
   ]
  },
  {
   "cell_type": "markdown",
   "metadata": {},
   "source": [
    "Мы получили масштабированные признаки для трех выборок. \n",
    "\n",
    "Перейдем к исследованию задачим моделями машинного обучения."
   ]
  },
  {
   "cell_type": "markdown",
   "metadata": {},
   "source": [
    "## Исследование задачи"
   ]
  },
  {
   "cell_type": "markdown",
   "metadata": {},
   "source": [
    "### Точность моделей"
   ]
  },
  {
   "cell_type": "code",
   "execution_count": 16,
   "metadata": {},
   "outputs": [],
   "source": [
    "# функция обучения моделей\n",
    "def all_models_accuracy(features_train, target_train, features_valid, target_valid):\n",
    "    model_DTC = DecisionTreeClassifier(random_state=123)\n",
    "    DTC_score = model_DTC.fit(features_train, target_train).score(features_valid, target_valid)\n",
    "    \n",
    "    model_RFC = RandomForestClassifier(random_state=12345, n_estimators = 100)\n",
    "    RFC_score = model_RFC.fit(features_train, target_train).score(features_valid, target_valid)\n",
    "    \n",
    "    model_LgR = LogisticRegression(solver = 'liblinear')\n",
    "    LgR_score = model_LgR.fit(features_train, target_train).score(features_valid, target_valid)\n",
    "    print(\"Точность:\" \"дерево решений\", DTC_score, \"случайный лес \", RFC_score, \"логистческая регрессия\", LgR_score)"
   ]
  },
  {
   "cell_type": "code",
   "execution_count": 17,
   "metadata": {},
   "outputs": [
    {
     "name": "stdout",
     "output_type": "stream",
     "text": [
      "Точность:дерево решений 0.7875 случайный лес  0.865 логистческая регрессия 0.811\n"
     ]
    }
   ],
   "source": [
    "all_models_accuracy(features_train, target_train, features_valid, target_valid)\n"
   ]
  },
  {
   "cell_type": "markdown",
   "metadata": {},
   "source": [
    "Проверим модели с разными гиперпараметрами"
   ]
  },
  {
   "cell_type": "code",
   "execution_count": 18,
   "metadata": {},
   "outputs": [
    {
     "name": "stdout",
     "output_type": "stream",
     "text": [
      "Дерево решений с лучшей глубиной max_depth = 7 F1 модели:  0.5924855491329479\n"
     ]
    }
   ],
   "source": [
    "# Дерево рещений\n",
    "def DTS_depth(features_train, target_train, features_valid, target_valid):\n",
    "    max_depth = 0\n",
    "    max_score = 0\n",
    "    for depth in range(1, 10):\n",
    "        model = DecisionTreeClassifier(max_depth=depth, random_state=12345)\n",
    "        model.fit(features_train, target_train)\n",
    "        predictions_valid = model.predict(features_valid)\n",
    "        score = f1_score(target_valid, predictions_valid)\n",
    "        if score > max_score:\n",
    "            max_depth = depth\n",
    "            max_score = score\n",
    "    print(\"Дерево решений с лучшей глубиной max_depth =\", max_depth, \"F1 модели: \", max_score)\n",
    "DTS_depth(features_train, target_train, features_valid, target_valid)"
   ]
  },
  {
   "cell_type": "code",
   "execution_count": 19,
   "metadata": {},
   "outputs": [
    {
     "name": "stdout",
     "output_type": "stream",
     "text": [
      "Лучшая глубина леса 15\n",
      "Лучшее количество деревьев 39 F1 модели 0.6290801186943621\n"
     ]
    }
   ],
   "source": [
    "# Случайный лес\n",
    "# %%time\n",
    "def RFC_depth_est(features_train, target_train, features_valid, target_valid):\n",
    "    best_RFC_depth = 0\n",
    "    best_result = 0\n",
    "    best_est = 0\n",
    "    for depth in range(1, 20):\n",
    "        for est in range(1, 100):\n",
    "            model_RFC = RandomForestClassifier(max_depth=depth, n_estimators=est, random_state=12345)\n",
    "            model_RFC.fit(features_train, target_train) # обучаем модель\n",
    "            predictions_valid = model_RFC.predict(features_valid) # предсказания на валидационной выборке\n",
    "            result = f1_score(target_valid, predictions_valid) # качество модели\n",
    "            if result > best_result:\n",
    "                best_result = result\n",
    "                best_RFC_depth = depth\n",
    "                best_est = est\n",
    "    print('Лучшая глубина леса', best_RFC_depth)\n",
    "    print('Лучшее количество деревьев', best_est, 'F1 модели', best_result)\n",
    "    \n",
    "RFC_depth_est(features_train, target_train, features_valid, target_valid)"
   ]
  },
  {
   "cell_type": "markdown",
   "metadata": {},
   "source": [
    "Теперь проверим логистическую регрессию"
   ]
  },
  {
   "cell_type": "code",
   "execution_count": 20,
   "metadata": {},
   "outputs": [
    {
     "name": "stdout",
     "output_type": "stream",
     "text": [
      "Лучшее количество итераций 4 F1 модели 0.3076923076923077\n"
     ]
    }
   ],
   "source": [
    "def LgR(features_train, target_train, features_valid, target_valid):\n",
    "    best_iter = 0\n",
    "    best_result = 0\n",
    "    for iter in range(1, 10):\n",
    "        model_LgR = LogisticRegression(max_iter = iter, solver = 'liblinear', random_state=12345)\n",
    "        model_LgR.fit(features_train, target_train) # обучаем модель\n",
    "        predictions_valid = model_LgR.predict(features_valid) # предсказания на валидационной выборке\n",
    "        result = f1_score(target_valid, predictions_valid)\n",
    "        if result > best_result:\n",
    "            best_result = result\n",
    "            best_iter = iter\n",
    "    print('Лучшее количество итераций', best_iter, 'F1 модели', best_result)\n",
    "LgR(features_train, target_train, features_valid, target_valid)"
   ]
  },
  {
   "cell_type": "markdown",
   "metadata": {},
   "source": [
    "Лучшей оказалась модель случайного леса с параметрами количества деревьев 12 и глубиной 8"
   ]
  },
  {
   "cell_type": "markdown",
   "metadata": {},
   "source": [
    "### Проверка баланса классов выборки"
   ]
  },
  {
   "cell_type": "code",
   "execution_count": 21,
   "metadata": {},
   "outputs": [
    {
     "data": {
      "text/plain": [
       "0    0.796333\n",
       "1    0.203667\n",
       "Name: Exited, dtype: float64"
      ]
     },
     "execution_count": 21,
     "metadata": {},
     "output_type": "execute_result"
    }
   ],
   "source": [
    "target_train.value_counts(normalize = 1)"
   ]
  },
  {
   "cell_type": "code",
   "execution_count": 22,
   "metadata": {},
   "outputs": [
    {
     "data": {
      "text/plain": [
       "0    0.796\n",
       "1    0.204\n",
       "Name: Exited, dtype: float64"
      ]
     },
     "execution_count": 22,
     "metadata": {},
     "output_type": "execute_result"
    }
   ],
   "source": [
    "target_valid.value_counts(normalize = 1)"
   ]
  },
  {
   "cell_type": "markdown",
   "metadata": {},
   "source": [
    "У обучающией и валидационной выборок заметный дисбаланс класов: 0 ≈80% , 1 ≈ 20%\n",
    "Результаты предсказаний моделей могут быть не верно расчитаны."
   ]
  },
  {
   "cell_type": "markdown",
   "metadata": {},
   "source": [
    "### Проверка адекватности"
   ]
  },
  {
   "cell_type": "code",
   "execution_count": 23,
   "metadata": {},
   "outputs": [
    {
     "name": "stdout",
     "output_type": "stream",
     "text": [
      "Дерево решений\n",
      "0    0.8575\n",
      "1    0.1425\n",
      "dtype: float64\n"
     ]
    }
   ],
   "source": [
    "model_DTC = DecisionTreeClassifier(max_depth=7, random_state=123)\n",
    "model_DTC.fit(features_train, target_train)\n",
    "print('Дерево решений')\n",
    "print(pd.Series(model_DTC.predict(features_valid)).value_counts(normalize = 1))"
   ]
  },
  {
   "cell_type": "code",
   "execution_count": 24,
   "metadata": {},
   "outputs": [
    {
     "name": "stdout",
     "output_type": "stream",
     "text": [
      "Случайный лес\n",
      "0    0.867\n",
      "1    0.133\n",
      "dtype: float64\n"
     ]
    }
   ],
   "source": [
    "model_RFC = RandomForestClassifier(random_state=12345, n_estimators = 39, max_depth=15)\n",
    "model_RFC.fit(features_train, target_train)\n",
    "print('Случайный лес')\n",
    "print(pd.Series(model_RFC.predict(features_valid)).value_counts(normalize = 1))"
   ]
  },
  {
   "cell_type": "code",
   "execution_count": 25,
   "metadata": {},
   "outputs": [
    {
     "name": "stdout",
     "output_type": "stream",
     "text": [
      "Логистическая регрессия\n",
      "0    0.931\n",
      "1    0.069\n",
      "dtype: float64\n"
     ]
    }
   ],
   "source": [
    "model_LgR = LogisticRegression(max_iter = 4, solver = 'liblinear', random_state=12345)\n",
    "model_LgR.fit(features_train, target_train)\n",
    "print('Логистическая регрессия')\n",
    "print(pd.Series(model_LgR.predict(features_valid)).value_counts(normalize = 1))"
   ]
  },
  {
   "cell_type": "markdown",
   "metadata": {},
   "source": [
    "Логистичесая регрессия показывала самую высокую точность.\n",
    "\n",
    "\n",
    "Сравним качество предсказаний с константной моделью. За константу примем 0, так как это значение встречается 80% случаев"
   ]
  },
  {
   "cell_type": "code",
   "execution_count": 26,
   "metadata": {},
   "outputs": [
    {
     "data": {
      "text/plain": [
       "(2000,)"
      ]
     },
     "execution_count": 26,
     "metadata": {},
     "output_type": "execute_result"
    }
   ],
   "source": [
    "target_predict_constant = pd.Series([0]*len(target_valid))\n",
    "target_predict_constant.shape"
   ]
  },
  {
   "cell_type": "code",
   "execution_count": 27,
   "metadata": {},
   "outputs": [
    {
     "data": {
      "text/plain": [
       "0.796"
      ]
     },
     "execution_count": 27,
     "metadata": {},
     "output_type": "execute_result"
    }
   ],
   "source": [
    "accuracy_score_constant = accuracy_score(target_valid, target_predict_constant)\n",
    "accuracy_score_constant"
   ]
  },
  {
   "cell_type": "markdown",
   "metadata": {},
   "source": [
    "Точность константной модели: 0.796\n",
    "\n",
    "Чтобы разобраться подбробнее ознакомися с матрицой ошибок для каждой модели."
   ]
  },
  {
   "cell_type": "code",
   "execution_count": 28,
   "metadata": {},
   "outputs": [
    {
     "data": {
      "text/plain": [
       "array([[1513,   79],\n",
       "       [ 202,  206]])"
      ]
     },
     "execution_count": 28,
     "metadata": {},
     "output_type": "execute_result"
    }
   ],
   "source": [
    "#матрица ошибок для дерево решений\n",
    "model_DTC = DecisionTreeClassifier(max_depth=7, random_state=123)\n",
    "model_DTC.fit(features_train, target_train)\n",
    "DTC_prediction = model_DTC.predict(features_valid)\n",
    "confusion_matrix(target_valid, DTC_prediction)"
   ]
  },
  {
   "cell_type": "markdown",
   "metadata": {},
   "source": [
    "Большое количество ложно положительных предсказаний\n",
    "\n",
    "Изучим полноту, точность, F1-меру и AUC-ROC"
   ]
  },
  {
   "cell_type": "code",
   "execution_count": 29,
   "metadata": {},
   "outputs": [],
   "source": [
    "# создаем функцию проверки метрик\n",
    "def metrics(target_valid, prediction):\n",
    "    print(\"Полнота\" , recall_score(target_valid, prediction))\n",
    "    print(\"Точность\", precision_score(target_valid, prediction))\n",
    "    print(\"F1-мера\", f1_score(target_valid, prediction))\n",
    "    print(\"AUC-ROC\", roc_auc_score(target_valid, prediction))\n",
    "    "
   ]
  },
  {
   "cell_type": "code",
   "execution_count": 30,
   "metadata": {},
   "outputs": [
    {
     "name": "stdout",
     "output_type": "stream",
     "text": [
      "Полнота 0.5049019607843137\n",
      "Точность 0.7228070175438597\n",
      "F1-мера 0.5945165945165946\n",
      "AUC-ROC 0.7276394226032121\n"
     ]
    }
   ],
   "source": [
    "# метрики для дерева решений\n",
    "metrics(target_valid, DTC_prediction)"
   ]
  },
  {
   "cell_type": "markdown",
   "metadata": {},
   "source": [
    "знечение F1 низкое значит и качество модели низкое"
   ]
  },
  {
   "cell_type": "code",
   "execution_count": 31,
   "metadata": {},
   "outputs": [
    {
     "data": {
      "text/plain": [
       "array([[1538,   54],\n",
       "       [ 196,  212]])"
      ]
     },
     "execution_count": 31,
     "metadata": {},
     "output_type": "execute_result"
    }
   ],
   "source": [
    "#матрица ошибок для случайного леса\n",
    "model_RFC = RandomForestClassifier(random_state=12345, n_estimators = 39, max_depth=15)\n",
    "model_RFC.fit(features_train, target_train)\n",
    "RFC_prediction = model_RFC.predict(features_valid)\n",
    "confusion_matrix(target_valid, RFC_prediction)"
   ]
  },
  {
   "cell_type": "markdown",
   "metadata": {},
   "source": [
    "Точность модели выше но так же много ложно позитивных предсказаний"
   ]
  },
  {
   "cell_type": "code",
   "execution_count": 32,
   "metadata": {},
   "outputs": [
    {
     "name": "stdout",
     "output_type": "stream",
     "text": [
      "Полнота 0.5196078431372549\n",
      "Точность 0.7969924812030075\n",
      "F1-мера 0.6290801186943621\n",
      "AUC-ROC 0.7428441225736526\n"
     ]
    }
   ],
   "source": [
    "#метрики для случайного леса\n",
    "metrics(target_valid, RFC_prediction)"
   ]
  },
  {
   "cell_type": "markdown",
   "metadata": {},
   "source": [
    "значение F1 выше, но тоже не высокое"
   ]
  },
  {
   "cell_type": "code",
   "execution_count": 33,
   "metadata": {},
   "outputs": [
    {
     "data": {
      "text/plain": [
       "array([[1538,   54],\n",
       "       [ 324,   84]])"
      ]
     },
     "execution_count": 33,
     "metadata": {},
     "output_type": "execute_result"
    }
   ],
   "source": [
    "#матрица ошибок для логистической регрессии\n",
    "model_LgR = LogisticRegression(max_iter = 4, solver = 'liblinear', random_state=12345)\n",
    "model_LgR.fit(features_train, target_train)\n",
    "LgR_prediction = model_LgR.predict(features_valid)\n",
    "confusion_matrix(target_valid, LgR_prediction)"
   ]
  },
  {
   "cell_type": "code",
   "execution_count": 34,
   "metadata": {},
   "outputs": [
    {
     "name": "stdout",
     "output_type": "stream",
     "text": [
      "Полнота 0.20588235294117646\n",
      "Точность 0.6086956521739131\n",
      "F1-мера 0.3076923076923077\n",
      "AUC-ROC 0.5859813774756133\n"
     ]
    }
   ],
   "source": [
    "metrics(target_valid, LgR_prediction)"
   ]
  },
  {
   "cell_type": "markdown",
   "metadata": {},
   "source": [
    "показатели ниже чем у предыдущей модели"
   ]
  },
  {
   "cell_type": "code",
   "execution_count": 35,
   "metadata": {},
   "outputs": [
    {
     "data": {
      "text/plain": [
       "Text(0.5, 1.0, 'ROC-кривая')"
      ]
     },
     "execution_count": 35,
     "metadata": {},
     "output_type": "execute_result"
    },
    {
     "data": {
      "image/png": "[encoded data removed]",
      "text/plain": [
       "<Figure size 432x288 with 1 Axes>"
      ]
     },
     "metadata": {
      "needs_background": "light"
     },
     "output_type": "display_data"
    }
   ],
   "source": [
    "LgR_probabilities_one_valid = model_LgR.predict_proba(features_valid)[:, 1]\n",
    "fpr, tpr, thresholds = roc_curve(target_valid, LgR_probabilities_one_valid) \n",
    "plt.figure()\n",
    "plt.plot(fpr, tpr)\n",
    "plt.plot([0, 1], [0, 1], linestyle='--')\n",
    "plt.xlim([0.0, 1.0])\n",
    "plt.ylim([0.0, 1.0])\n",
    "plt.xlabel('False Positive Rate')\n",
    "plt.ylabel('True Positive Rate')\n",
    "plt.title('ROC-кривая')"
   ]
  },
  {
   "cell_type": "markdown",
   "metadata": {},
   "source": [
    "Так как в тренировочной выборке большая часть негативных решений по этому и точность предсказания неганивных решений высокая, а позитивных низкая.\n",
    "\n",
    "Нам необходимо сбалансировать выборки."
   ]
  },
  {
   "cell_type": "markdown",
   "metadata": {},
   "source": [
    "## Борьба с дисбалансом"
   ]
  },
  {
   "cell_type": "markdown",
   "metadata": {},
   "source": [
    "Так как отрицательны ответов 80% , положитительных 20% нам необходмо увеличить количество положительных ответов в 4 раза для достижения баланса."
   ]
  },
  {
   "cell_type": "markdown",
   "metadata": {},
   "source": [
    "1. Разделим обучающую выборку на отрицательные и положительные объекты;\n",
    "2. Увеличим в 4 раза положительные объекты;\n",
    "3. С учётом полученных данных создадим новую обучающую выборку;\n",
    "4. Перемешаем данные;\n",
    "5. Обучим новые модели."
   ]
  },
  {
   "cell_type": "code",
   "execution_count": 36,
   "metadata": {},
   "outputs": [],
   "source": [
    "# создадим функцию увеличения\n",
    "def upsample(features, target, repeat):\n",
    "    features_zeros = features[target == 0]\n",
    "    features_ones = features[target == 1]\n",
    "    target_zeros = target[target == 0]\n",
    "    target_ones = target[target == 1]\n",
    "\n",
    "    features_upsampled = pd.concat([features_zeros] + [features_ones] * repeat)\n",
    "    target_upsampled = pd.concat([target_zeros] + [target_ones] * repeat)\n",
    "    \n",
    "    features_upsampled, target_upsampled = shuffle(\n",
    "        features_upsampled, target_upsampled, random_state=12345)\n",
    "    \n",
    "    return features_upsampled, target_upsampled"
   ]
  },
  {
   "cell_type": "code",
   "execution_count": 37,
   "metadata": {},
   "outputs": [
    {
     "name": "stdout",
     "output_type": "stream",
     "text": [
      "1    0.50569\n",
      "0    0.49431\n",
      "Name: Exited, dtype: float64\n",
      "(9666,)\n"
     ]
    }
   ],
   "source": [
    "#увеличим количество положительных ответов в 4 раза\n",
    "features_train_upsampled, target_train_upsampled = upsample(features_train, target_train, 4)\n",
    "print(target_train_upsampled.value_counts(normalize = 1))\n",
    "print(target_train_upsampled.shape)"
   ]
  },
  {
   "cell_type": "markdown",
   "metadata": {},
   "source": [
    "Теперь практически поровну позитивных и негативных решений.\n",
    "\n",
    "На сбалансированной выборке обучим модели."
   ]
  },
  {
   "cell_type": "code",
   "execution_count": 38,
   "metadata": {},
   "outputs": [
    {
     "name": "stdout",
     "output_type": "stream",
     "text": [
      "Точность:дерево решений 0.8075 случайный лес  0.8565 логистческая регрессия 0.7255\n"
     ]
    }
   ],
   "source": [
    "#точность моделей на сбалансированной выборке\n",
    "all_models_accuracy(features_train_upsampled, target_train_upsampled, features_valid, target_valid)"
   ]
  },
  {
   "cell_type": "markdown",
   "metadata": {},
   "source": [
    "До этого было так: Точность:дерево решений 0.7945 случайный лес  0.8645 логистческая регрессия 0.811\n",
    "    Точность изменилась незначительно, проверим метрики."
   ]
  },
  {
   "cell_type": "markdown",
   "metadata": {},
   "source": [
    "Также попробуем сбалансировать методом уменьшения"
   ]
  },
  {
   "cell_type": "code",
   "execution_count": 39,
   "metadata": {},
   "outputs": [
    {
     "name": "stdout",
     "output_type": "stream",
     "text": [
      "1    0.505795\n",
      "0    0.494205\n",
      "Name: Exited, dtype: float64\n"
     ]
    },
    {
     "data": {
      "text/plain": [
       "(2416,)"
      ]
     },
     "execution_count": 39,
     "metadata": {},
     "output_type": "execute_result"
    }
   ],
   "source": [
    "#Сoздадим функцию уменьшени\n",
    "def downsample(features, target, fraction):\n",
    "    features_zeros = features[target == 0]\n",
    "    features_ones = features[target == 1]\n",
    "    target_zeros = target[target == 0]\n",
    "    target_ones = target[target == 1]\n",
    "\n",
    "    features_downsampled = pd.concat(\n",
    "        [features_zeros.sample(frac=fraction, random_state=12345)] + [features_ones])\n",
    "    target_downsampled = pd.concat(\n",
    "        [target_zeros.sample(frac=fraction, random_state=12345)] + [target_ones])\n",
    "    \n",
    "    features_downsampled, target_downsampled = shuffle(\n",
    "        features_downsampled, target_downsampled, random_state=12345)\n",
    "    \n",
    "    return features_downsampled, target_downsampled\n",
    "\n",
    "features_train_downsampled, target_train_downsampled = downsample(features_train, target_train, 0.25)\n",
    "print(target_train_downsampled.value_counts(normalize = 1))\n",
    "target_train_downsampled.shape"
   ]
  },
  {
   "cell_type": "markdown",
   "metadata": {},
   "source": [
    "Дисбаланс данных устранен. У нас теперь есть 2 вида сбалансированных данных: увеличинный и уменьшенный. Кончно уменьшение может отрицательно сказаться на обучаемости моделей как раз и проверим какой лучше."
   ]
  },
  {
   "cell_type": "code",
   "execution_count": 40,
   "metadata": {},
   "outputs": [
    {
     "name": "stdout",
     "output_type": "stream",
     "text": [
      "Полнота 0.5318627450980392\n",
      "Точность 0.5279805352798054\n",
      "F1-мера 0.5299145299145299\n",
      "AUC-ROC 0.7050017243078135\n"
     ]
    }
   ],
   "source": [
    "# Дерево решений на увеличенной выборке\n",
    "model_DTC_upsampled = DecisionTreeClassifier(random_state=123)\n",
    "model_DTC_upsampled.fit(features_train_upsampled, target_train_upsampled)\n",
    "DTC_prediction_upsampled = model_DTC_upsampled.predict(features_valid)\n",
    "metrics(target_valid, DTC_prediction_upsampled)"
   ]
  },
  {
   "cell_type": "code",
   "execution_count": 41,
   "metadata": {},
   "outputs": [
    {
     "name": "stdout",
     "output_type": "stream",
     "text": [
      "Дерево решений с лучшей глубиной max_depth = 6 F1 модели:  0.575925925925926\n"
     ]
    }
   ],
   "source": [
    "#Проверим с разными гипер параметрами\n",
    "DTS_depth(features_train_upsampled, target_train_upsampled, features_valid, target_valid)"
   ]
  },
  {
   "cell_type": "code",
   "execution_count": 42,
   "metadata": {},
   "outputs": [
    {
     "name": "stdout",
     "output_type": "stream",
     "text": [
      "Полнота 0.7254901960784313\n",
      "Точность 0.37997432605905007\n",
      "F1-мера 0.49873631002527374\n",
      "AUC-ROC 0.7110491181397183\n"
     ]
    }
   ],
   "source": [
    "# Дерево решений на уменьшенной выборке\n",
    "model_DTC_downsampled = DecisionTreeClassifier(random_state=123)\n",
    "model_DTC_downsampled.fit(features_train_downsampled, target_train_downsampled)\n",
    "DTC_prediction_downsampled = model_DTC_downsampled.predict(features_valid)\n",
    "metrics(target_valid, DTC_prediction_downsampled)"
   ]
  },
  {
   "cell_type": "code",
   "execution_count": 43,
   "metadata": {},
   "outputs": [
    {
     "name": "stdout",
     "output_type": "stream",
     "text": [
      "Дерево решений с лучшей глубиной max_depth = 6 F1 модели:  0.5944919278252612\n"
     ]
    }
   ],
   "source": [
    "#Проверим с разными гипер параметрами на уменьшенной выборке\n",
    "DTS_depth(features_train_downsampled, target_train_downsampled, features_valid, target_valid)"
   ]
  },
  {
   "cell_type": "markdown",
   "metadata": {},
   "source": [
    "На уменьшенной выборке точность гораздо ниже чем на увеличенной выборке. Зато качество модели выше."
   ]
  },
  {
   "cell_type": "code",
   "execution_count": 44,
   "metadata": {},
   "outputs": [
    {
     "name": "stdout",
     "output_type": "stream",
     "text": [
      "Полнота 0.5759803921568627\n",
      "Точность 0.673352435530086\n",
      "F1-мера 0.6208718626155878\n",
      "AUC-ROC 0.7521861759779288\n"
     ]
    }
   ],
   "source": [
    "# Случайный лес на увеличенной выборке\n",
    "model_RFC_upsampled = RandomForestClassifier(random_state=12345, n_estimators = 100)\n",
    "model_RFC_upsampled.fit(features_train_upsampled, target_train_upsampled)\n",
    "RFC_prediction_upsampled = model_RFC_upsampled.predict(features_valid)\n",
    "metrics(target_valid, RFC_prediction_upsampled)"
   ]
  },
  {
   "cell_type": "code",
   "execution_count": 45,
   "metadata": {},
   "outputs": [
    {
     "name": "stdout",
     "output_type": "stream",
     "text": [
      "Лучшая глубина леса 10\n",
      "Лучшее количество деревьев 63 F1 модели 0.6532438478747203\n"
     ]
    }
   ],
   "source": [
    "#Проверим с разными гипер параметрами\n",
    "RFC_depth_est(features_train_upsampled, target_train_upsampled, features_valid, target_valid)"
   ]
  },
  {
   "cell_type": "code",
   "execution_count": 46,
   "metadata": {},
   "outputs": [
    {
     "name": "stdout",
     "output_type": "stream",
     "text": [
      "Полнота 0.7892156862745098\n",
      "Точность 0.49310872894333846\n",
      "F1-мера 0.6069745523091423\n",
      "AUC-ROC 0.7906505567050941\n"
     ]
    }
   ],
   "source": [
    "# Случайный лес на уменьшенной выборке\n",
    "model_RFC_downsampled = RandomForestClassifier(random_state=12345, n_estimators = 100)\n",
    "model_RFC_downsampled.fit(features_train_downsampled, target_train_downsampled)\n",
    "RFC_prediction_downsampled = model_RFC_downsampled.predict(features_valid)\n",
    "metrics(target_valid, RFC_prediction_downsampled)"
   ]
  },
  {
   "cell_type": "code",
   "execution_count": 47,
   "metadata": {},
   "outputs": [
    {
     "name": "stdout",
     "output_type": "stream",
     "text": [
      "Лучшая глубина леса 7\n",
      "Лучшее количество деревьев 36 F1 модели 0.6395348837209303\n"
     ]
    }
   ],
   "source": [
    "#Проверим с разными гипер параметрами на уменьшенной выборке\n",
    "RFC_depth_est(features_train_downsampled, target_train_downsampled, features_valid, target_valid)"
   ]
  },
  {
   "cell_type": "markdown",
   "metadata": {},
   "source": [
    "Также как и в предыдущей модели на уменьшенной выборке точность ниже а полнота выше чем на увеличенной выборке."
   ]
  },
  {
   "cell_type": "code",
   "execution_count": 48,
   "metadata": {},
   "outputs": [
    {
     "name": "stdout",
     "output_type": "stream",
     "text": [
      "Полнота 0.7426470588235294\n",
      "Точность 0.40562248995983935\n",
      "F1-мера 0.5246753246753246\n",
      "AUC-ROC 0.7318762932308602\n"
     ]
    }
   ],
   "source": [
    "# Логистическая регрессия на увеличенной выборке\n",
    "\n",
    "model_LgR_upsampled = LogisticRegression(solver = 'liblinear')\n",
    "model_LgR_upsampled.fit(features_train_upsampled, target_train_upsampled)\n",
    "LgR_prediction_upsampled = model_LgR_upsampled.predict(features_valid)\n",
    "metrics(target_valid, LgR_prediction_upsampled)"
   ]
  },
  {
   "cell_type": "code",
   "execution_count": 49,
   "metadata": {},
   "outputs": [
    {
     "name": "stdout",
     "output_type": "stream",
     "text": [
      "Лучшее количество итераций 2 F1 модели 0.5285961871750433\n"
     ]
    }
   ],
   "source": [
    "LgR(features_train_upsampled, target_train_upsampled, features_valid, target_valid)"
   ]
  },
  {
   "cell_type": "code",
   "execution_count": 50,
   "metadata": {},
   "outputs": [
    {
     "name": "stdout",
     "output_type": "stream",
     "text": [
      "Полнота 0.75\n",
      "Точность 0.40691489361702127\n",
      "F1-мера 0.5275862068965517\n",
      "AUC-ROC 0.7349246231155779\n"
     ]
    }
   ],
   "source": [
    "# Логистическая регрессия на уменьшенной выборке\n",
    "model_LgR_downsampled = LogisticRegression(solver = 'liblinear')\n",
    "model_LgR_downsampled.fit(features_train_downsampled, target_train_downsampled)\n",
    "LgR_prediction_downsampled = model_LgR_downsampled.predict(features_valid)\n",
    "metrics(target_valid, LgR_prediction_downsampled)"
   ]
  },
  {
   "cell_type": "code",
   "execution_count": 51,
   "metadata": {},
   "outputs": [
    {
     "name": "stdout",
     "output_type": "stream",
     "text": [
      "Лучшее количество итераций 4 F1 модели 0.5275862068965517\n"
     ]
    }
   ],
   "source": [
    "LgR(features_train_downsampled, target_train_downsampled, features_valid, target_valid)"
   ]
  },
  {
   "cell_type": "markdown",
   "metadata": {},
   "source": [
    "А вод для модели логистической регрессии метрики практически одинаковые и увеличенный и уменьшенных данных"
   ]
  },
  {
   "cell_type": "code",
   "execution_count": 52,
   "metadata": {},
   "outputs": [
    {
     "name": "stdout",
     "output_type": "stream",
     "text": [
      "Увеличенная выборка\n",
      "Точность:дерево решений 0.8075 случайный лес  0.8565 логистческая регрессия 0.7255\n",
      "Уменлшенная выборка\n",
      "Точность:дерево решений 0.7025 случайный лес  0.7915 логистческая регрессия 0.726\n"
     ]
    }
   ],
   "source": [
    "print('Увеличенная выборка')\n",
    "all_models_accuracy(features_train_upsampled, target_train_upsampled, features_valid, target_valid)\n",
    "print('Уменлшенная выборка')\n",
    "all_models_accuracy(features_train_downsampled, target_train_downsampled, features_valid, target_valid)"
   ]
  },
  {
   "cell_type": "markdown",
   "metadata": {},
   "source": [
    "Показаели всех моделей улучшились.\n",
    "\n",
    "Лучшие результаты показывает алгоритм случайный лес. На валидационной выборке уже показывает резульаты F1 меры = 0.62, что выше целевого значения."
   ]
  },
  {
   "cell_type": "markdown",
   "metadata": {},
   "source": [
    "Можно попробовать сбалансиловать классы и на модели случайного леса посмотрим на показатель F1"
   ]
  },
  {
   "cell_type": "code",
   "execution_count": 53,
   "metadata": {},
   "outputs": [
    {
     "name": "stdout",
     "output_type": "stream",
     "text": [
      "F1: 0.5959885386819483\n"
     ]
    }
   ],
   "source": [
    "model_RFC_balanced = RandomForestClassifier(random_state=12345, class_weight='balanced', n_estimators = 39, max_depth= 15)\n",
    "model_RFC_balanced.fit(features_train, target_train)\n",
    "predicted_valid = model_RFC_balanced.predict(features_valid)\n",
    "print(\"F1:\", f1_score(target_valid, predicted_valid))"
   ]
  },
  {
   "cell_type": "markdown",
   "metadata": {},
   "source": [
    "Показатель ниже чем при увеличении выборки. \n",
    "Выбираем модель случайного леса. Теперь проверим с какими параметрами у нас будут лучшие показатели."
   ]
  },
  {
   "cell_type": "code",
   "execution_count": 54,
   "metadata": {},
   "outputs": [
    {
     "data": {
      "text/plain": [
       "RandomForestClassifier(max_depth=15, n_estimators=39, random_state=12345)"
      ]
     },
     "execution_count": 54,
     "metadata": {},
     "output_type": "execute_result"
    }
   ],
   "source": [
    "# обучаем модель с лучшими параметрами\n",
    "model_RFC_best = RandomForestClassifier(max_depth= 15,  n_estimators = 39, random_state=12345)\n",
    "model_RFC_best.fit(features_train_upsampled, target_train_upsampled)"
   ]
  },
  {
   "cell_type": "code",
   "execution_count": 55,
   "metadata": {},
   "outputs": [
    {
     "name": "stdout",
     "output_type": "stream",
     "text": [
      "Полнота 0.6127450980392157\n",
      "Точность 0.6345177664974619\n",
      "F1-мера 0.6234413965087282\n",
      "AUC-ROC 0.7611464183663417\n"
     ]
    }
   ],
   "source": [
    "# проверим метрики на лучшей модели\n",
    "model_RFC_best_prediction = model_RFC_best.predict(features_valid)\n",
    "metrics(target_valid, model_RFC_best_prediction)"
   ]
  },
  {
   "cell_type": "markdown",
   "metadata": {},
   "source": [
    "Проверим модель на адекватность"
   ]
  },
  {
   "cell_type": "code",
   "execution_count": 56,
   "metadata": {},
   "outputs": [
    {
     "name": "stdout",
     "output_type": "stream",
     "text": [
      "AUC-ROC константой модели: 0.5\n",
      "AUC-ROC финальной модели: 0.7611464183663417\n"
     ]
    }
   ],
   "source": [
    "#Создаем константную модель\n",
    "target_predict_constant = pd.Series([0]*len(target_valid))\n",
    "# сравним AUC-ROC константной модели и выбранной нами\n",
    "print('AUC-ROC константой модели:', roc_auc_score(target_valid, target_predict_constant))\n",
    "print('AUC-ROC финальной модели:', roc_auc_score(target_valid, model_RFC_best_prediction))"
   ]
  },
  {
   "cell_type": "markdown",
   "metadata": {},
   "source": [
    "Модель случайного леса показывает результаты лучше, чем константная модель — модель можно считать адекватной"
   ]
  },
  {
   "cell_type": "markdown",
   "metadata": {},
   "source": [
    "** Вывод **\n",
    "- Тренировочные данные содержали 80% отрицательных значений и 20% положительных, что приводило к сдвигу предсказаний модели к отрицательным значениям. У модели были низкие показатели точности и полноты, к тому же она не прошла проверку на адекватность.\n",
    "- устранили дисбаланс классов увеличив количество положительных значений в тренировочной выборке.\n",
    "- на сбалансированной выборке лучшие метрики показала модель случайного леса\n",
    "- методом перебора определили лучшие показатели гиперпараметров глубины леса 21 и количества деревьев 16. \n",
    "\n",
    "Получили следующие метрики:\n",
    "* Полнота 0.7377450980392157\n",
    "* Точность 0.5733333333333334\n",
    "* F1-мера 0.6452304394426581\n",
    "* AUC-ROC 0.798520790225638\n",
    "\n",
    "текже проверили модель на адекватность, в сравнении с константной моделью 0,5 против 0,798 модель можно считать адекватной.\n"
   ]
  },
  {
   "cell_type": "markdown",
   "metadata": {},
   "source": [
    "## Тестирование модели"
   ]
  },
  {
   "cell_type": "markdown",
   "metadata": {},
   "source": [
    "Проверим модель на тестовой выборке. Для этого обучим модель на объединенной выборке - увеличенную выборку объединим с валидационной."
   ]
  },
  {
   "cell_type": "code",
   "execution_count": 57,
   "metadata": {},
   "outputs": [
    {
     "name": "stdout",
     "output_type": "stream",
     "text": [
      "(11666, 11) (11666,)\n"
     ]
    }
   ],
   "source": [
    "features_train_valid = features_train_upsampled.append(features_valid)\n",
    "target_train_valid = target_train_upsampled.append(target_valid)\n",
    "print(features_train_valid.shape, target_train_valid.shape)"
   ]
  },
  {
   "cell_type": "code",
   "execution_count": 58,
   "metadata": {},
   "outputs": [
    {
     "name": "stdout",
     "output_type": "stream",
     "text": [
      "Полнота 0.6339066339066339\n",
      "Точность 0.589041095890411\n",
      "F1-мера 0.6106508875739645\n",
      "AUC-ROC 0.7604561418120741\n"
     ]
    }
   ],
   "source": [
    "model_RFC_best = RandomForestClassifier(max_depth=9,  n_estimators = 39, random_state=12345)\n",
    "model_RFC_best.fit(features_train_valid, target_train_valid)\n",
    "model_RFC_best_prediction = model_RFC_best.predict(features_test)\n",
    "metrics(target_test, model_RFC_best_prediction)"
   ]
  },
  {
   "cell_type": "code",
   "execution_count": 59,
   "metadata": {},
   "outputs": [
    {
     "data": {
      "text/plain": [
       "Text(0.5, 1.0, 'ROC-кривая')"
      ]
     },
     "execution_count": 59,
     "metadata": {},
     "output_type": "execute_result"
    },
    {
     "data": {
      "image/png": "[encoded data removed]",
      "text/plain": [
       "<Figure size 432x288 with 1 Axes>"
      ]
     },
     "metadata": {
      "needs_background": "light"
     },
     "output_type": "display_data"
    }
   ],
   "source": [
    "best_model_probabilities_one = model_RFC_best.predict_proba(features_test)[:, 1]\n",
    "\n",
    "fpr, tpr, thresholds = roc_curve(target_test, best_model_probabilities_one) \n",
    "\n",
    "plt.figure()\n",
    "plt.plot(fpr, tpr)\n",
    "plt.plot([0, 1], [0, 1], linestyle='--')\n",
    "plt.xlim([0.0, 1.0])\n",
    "plt.ylim([0.0, 1.0])\n",
    "plt.xlabel('False Positive Rate')\n",
    "plt.ylabel('True Positive Rate')\n",
    "plt.title('ROC-кривая')"
   ]
  },
  {
   "cell_type": "markdown",
   "metadata": {},
   "source": [
    "Метрика F1 превысила заданный параметр 0,59 и равна 0,61.\n",
    "Полнота = 0.656 говорит о высокой вероятности предсказания.\n",
    "Показатель точности = 0.57 достоверно предсказывает что около половины клиенов могут уйти из банка.\n",
    "Модель поможет лучше определять килентов, которые могут уйти в ближайшее время."
   ]
  },
  {
   "cell_type": "code",
   "execution_count": null,
   "metadata": {},
   "outputs": [],
   "source": []
  }
 ],
 "metadata": {
  "ExecuteTimeLog": [
   {
    "duration": 993,
    "start_time": "2022-03-13T14:15:40.360Z"
   },
   {
    "duration": 12,
    "start_time": "2022-03-13T14:16:01.350Z"
   },
   {
    "duration": 37,
    "start_time": "2022-03-13T14:20:48.690Z"
   },
   {
    "duration": 15,
    "start_time": "2022-03-13T14:20:51.278Z"
   },
   {
    "duration": 11,
    "start_time": "2022-03-13T14:20:54.643Z"
   },
   {
    "duration": 14,
    "start_time": "2022-03-13T14:52:49.225Z"
   },
   {
    "duration": 471,
    "start_time": "2022-03-13T14:55:04.961Z"
   },
   {
    "duration": 23,
    "start_time": "2022-03-13T14:55:15.478Z"
   },
   {
    "duration": 5,
    "start_time": "2022-03-13T14:58:09.086Z"
   },
   {
    "duration": 4,
    "start_time": "2022-03-13T14:58:53.910Z"
   },
   {
    "duration": 9,
    "start_time": "2022-03-13T15:01:24.432Z"
   },
   {
    "duration": 9,
    "start_time": "2022-03-13T15:02:52.368Z"
   },
   {
    "duration": 9,
    "start_time": "2022-03-13T15:02:54.735Z"
   },
   {
    "duration": 92,
    "start_time": "2022-03-13T15:06:54.894Z"
   },
   {
    "duration": 4,
    "start_time": "2022-03-13T15:07:25.822Z"
   },
   {
    "duration": 3,
    "start_time": "2022-03-13T15:14:18.617Z"
   },
   {
    "duration": 273,
    "start_time": "2022-03-13T15:15:50.660Z"
   },
   {
    "duration": 261,
    "start_time": "2022-03-13T15:16:50.668Z"
   },
   {
    "duration": 42,
    "start_time": "2022-03-13T15:17:30.378Z"
   },
   {
    "duration": 267,
    "start_time": "2022-03-13T15:17:37.178Z"
   },
   {
    "duration": 47,
    "start_time": "2022-03-13T15:22:21.096Z"
   },
   {
    "duration": 2,
    "start_time": "2022-03-13T15:22:27.876Z"
   },
   {
    "duration": 308,
    "start_time": "2022-03-13T15:22:30.017Z"
   },
   {
    "duration": 728,
    "start_time": "2022-03-13T15:23:24.652Z"
   },
   {
    "duration": 22,
    "start_time": "2022-03-13T15:26:12.779Z"
   },
   {
    "duration": 25,
    "start_time": "2022-03-13T15:28:06.124Z"
   },
   {
    "duration": 36,
    "start_time": "2022-03-13T15:36:48.331Z"
   },
   {
    "duration": 4,
    "start_time": "2022-03-13T15:38:28.338Z"
   },
   {
    "duration": 4,
    "start_time": "2022-03-13T15:44:37.162Z"
   },
   {
    "duration": 544,
    "start_time": "2022-03-13T15:44:38.940Z"
   },
   {
    "duration": 33,
    "start_time": "2022-03-13T15:48:08.554Z"
   },
   {
    "duration": 4,
    "start_time": "2022-03-13T15:48:15.284Z"
   },
   {
    "duration": 550,
    "start_time": "2022-03-13T15:48:18.016Z"
   },
   {
    "duration": 1359,
    "start_time": "2022-03-16T02:10:06.796Z"
   },
   {
    "duration": 20,
    "start_time": "2022-03-16T02:10:08.157Z"
   },
   {
    "duration": 18,
    "start_time": "2022-03-16T02:10:08.180Z"
   },
   {
    "duration": 20,
    "start_time": "2022-03-16T02:10:08.201Z"
   },
   {
    "duration": 35,
    "start_time": "2022-03-16T02:10:08.243Z"
   },
   {
    "duration": 8,
    "start_time": "2022-03-16T02:10:08.280Z"
   },
   {
    "duration": 5,
    "start_time": "2022-03-16T02:10:08.290Z"
   },
   {
    "duration": 50,
    "start_time": "2022-03-16T02:10:08.298Z"
   },
   {
    "duration": 10,
    "start_time": "2022-03-16T02:10:08.350Z"
   },
   {
    "duration": 9,
    "start_time": "2022-03-16T02:10:08.363Z"
   },
   {
    "duration": 8,
    "start_time": "2022-03-16T02:10:08.374Z"
   },
   {
    "duration": 60,
    "start_time": "2022-03-16T02:10:08.385Z"
   },
   {
    "duration": 25,
    "start_time": "2022-03-16T02:10:08.447Z"
   },
   {
    "duration": 6,
    "start_time": "2022-03-16T02:10:08.475Z"
   },
   {
    "duration": 671,
    "start_time": "2022-03-16T02:10:08.483Z"
   },
   {
    "duration": 6,
    "start_time": "2022-03-16T02:12:19.537Z"
   },
   {
    "duration": 6,
    "start_time": "2022-03-16T02:13:30.788Z"
   },
   {
    "duration": 41,
    "start_time": "2022-03-16T02:14:13.057Z"
   },
   {
    "duration": 12,
    "start_time": "2022-03-16T02:14:22.892Z"
   },
   {
    "duration": 19,
    "start_time": "2022-03-16T02:14:32.659Z"
   },
   {
    "duration": 6,
    "start_time": "2022-03-16T02:14:37.251Z"
   },
   {
    "duration": 5,
    "start_time": "2022-03-16T02:15:13.955Z"
   },
   {
    "duration": 34,
    "start_time": "2022-03-16T02:15:21.745Z"
   },
   {
    "duration": 7,
    "start_time": "2022-03-16T02:15:27.963Z"
   },
   {
    "duration": 13,
    "start_time": "2022-03-16T02:15:33.981Z"
   },
   {
    "duration": 9,
    "start_time": "2022-03-16T02:15:35.805Z"
   },
   {
    "duration": 5,
    "start_time": "2022-03-16T02:15:36.855Z"
   },
   {
    "duration": 3,
    "start_time": "2022-03-16T02:15:43.257Z"
   },
   {
    "duration": 34,
    "start_time": "2022-03-16T02:15:51.543Z"
   },
   {
    "duration": 25,
    "start_time": "2022-03-16T02:15:57.711Z"
   },
   {
    "duration": 6,
    "start_time": "2022-03-16T02:16:11.441Z"
   },
   {
    "duration": 538,
    "start_time": "2022-03-16T02:16:18.097Z"
   },
   {
    "duration": 3,
    "start_time": "2022-03-16T02:21:52.837Z"
   },
   {
    "duration": 282,
    "start_time": "2022-03-16T02:23:14.239Z"
   },
   {
    "duration": 9,
    "start_time": "2022-03-16T02:25:12.484Z"
   },
   {
    "duration": 267,
    "start_time": "2022-03-16T02:25:43.564Z"
   },
   {
    "duration": 11,
    "start_time": "2022-03-16T02:25:57.148Z"
   },
   {
    "duration": 265,
    "start_time": "2022-03-16T02:26:25.006Z"
   },
   {
    "duration": 259,
    "start_time": "2022-03-16T02:33:59.006Z"
   },
   {
    "duration": 6,
    "start_time": "2022-03-16T02:38:23.932Z"
   },
   {
    "duration": 1384,
    "start_time": "2022-03-16T02:38:36.428Z"
   },
   {
    "duration": 27,
    "start_time": "2022-03-16T02:38:37.816Z"
   },
   {
    "duration": 21,
    "start_time": "2022-03-16T02:38:37.847Z"
   },
   {
    "duration": 21,
    "start_time": "2022-03-16T02:38:37.871Z"
   },
   {
    "duration": 7,
    "start_time": "2022-03-16T02:38:37.895Z"
   },
   {
    "duration": 43,
    "start_time": "2022-03-16T02:38:37.905Z"
   },
   {
    "duration": 34,
    "start_time": "2022-03-16T02:38:37.951Z"
   },
   {
    "duration": 8,
    "start_time": "2022-03-16T02:38:37.990Z"
   },
   {
    "duration": 46,
    "start_time": "2022-03-16T02:38:38.000Z"
   },
   {
    "duration": 15,
    "start_time": "2022-03-16T02:38:38.049Z"
   },
   {
    "duration": 12,
    "start_time": "2022-03-16T02:38:38.066Z"
   },
   {
    "duration": 6,
    "start_time": "2022-03-16T02:38:38.080Z"
   },
   {
    "duration": 4,
    "start_time": "2022-03-16T02:38:38.089Z"
   },
   {
    "duration": 81,
    "start_time": "2022-03-16T02:38:38.096Z"
   },
   {
    "duration": 23,
    "start_time": "2022-03-16T02:38:38.180Z"
   },
   {
    "duration": 5,
    "start_time": "2022-03-16T02:38:38.206Z"
   },
   {
    "duration": 31,
    "start_time": "2022-03-16T02:38:38.213Z"
   },
   {
    "duration": 422,
    "start_time": "2022-03-16T02:38:38.247Z"
   },
   {
    "duration": 8,
    "start_time": "2022-03-16T02:39:10.971Z"
   },
   {
    "duration": 6,
    "start_time": "2022-03-16T02:39:29.086Z"
   },
   {
    "duration": 6,
    "start_time": "2022-03-16T02:40:06.983Z"
   },
   {
    "duration": 53,
    "start_time": "2022-03-16T02:40:24.347Z"
   },
   {
    "duration": 14,
    "start_time": "2022-03-16T02:40:34.894Z"
   },
   {
    "duration": 19,
    "start_time": "2022-03-16T02:40:43.551Z"
   },
   {
    "duration": 6,
    "start_time": "2022-03-16T02:40:48.342Z"
   },
   {
    "duration": 10,
    "start_time": "2022-03-16T02:40:58.699Z"
   },
   {
    "duration": 44,
    "start_time": "2022-03-16T02:41:09.004Z"
   },
   {
    "duration": 7,
    "start_time": "2022-03-16T02:41:14.959Z"
   },
   {
    "duration": 5,
    "start_time": "2022-03-16T02:41:17.184Z"
   },
   {
    "duration": 13,
    "start_time": "2022-03-16T02:41:23.297Z"
   },
   {
    "duration": 12,
    "start_time": "2022-03-16T02:41:27.413Z"
   },
   {
    "duration": 6,
    "start_time": "2022-03-16T02:41:29.050Z"
   },
   {
    "duration": 4,
    "start_time": "2022-03-16T02:41:36.256Z"
   },
   {
    "duration": 32,
    "start_time": "2022-03-16T02:41:37.495Z"
   },
   {
    "duration": 25,
    "start_time": "2022-03-16T02:41:44.778Z"
   },
   {
    "duration": 279,
    "start_time": "2022-03-16T02:41:55.191Z"
   },
   {
    "duration": 9,
    "start_time": "2022-03-16T02:46:56.635Z"
   },
   {
    "duration": 30,
    "start_time": "2022-03-16T02:47:07.068Z"
   },
   {
    "duration": 8,
    "start_time": "2022-03-16T02:47:39.228Z"
   },
   {
    "duration": 13,
    "start_time": "2022-03-16T02:47:46.485Z"
   },
   {
    "duration": 10,
    "start_time": "2022-03-16T02:47:47.573Z"
   },
   {
    "duration": 6,
    "start_time": "2022-03-16T02:47:48.341Z"
   },
   {
    "duration": 4,
    "start_time": "2022-03-16T02:47:58.669Z"
   },
   {
    "duration": 36,
    "start_time": "2022-03-16T02:48:00.867Z"
   },
   {
    "duration": 25,
    "start_time": "2022-03-16T02:48:10.788Z"
   },
   {
    "duration": 287,
    "start_time": "2022-03-16T02:48:21.095Z"
   },
   {
    "duration": 12,
    "start_time": "2022-03-16T02:49:19.387Z"
   },
   {
    "duration": 252,
    "start_time": "2022-03-16T02:49:49.747Z"
   },
   {
    "duration": 6,
    "start_time": "2022-03-16T02:50:05.104Z"
   },
   {
    "duration": 25,
    "start_time": "2022-03-16T02:50:51.811Z"
   },
   {
    "duration": 11,
    "start_time": "2022-03-16T02:51:04.605Z"
   },
   {
    "duration": 7,
    "start_time": "2022-03-16T02:51:46.573Z"
   },
   {
    "duration": 9,
    "start_time": "2022-03-16T02:52:11.447Z"
   },
   {
    "duration": 28,
    "start_time": "2022-03-16T02:52:24.767Z"
   },
   {
    "duration": 7,
    "start_time": "2022-03-16T02:52:30.657Z"
   },
   {
    "duration": 4,
    "start_time": "2022-03-16T02:52:32.081Z"
   },
   {
    "duration": 14,
    "start_time": "2022-03-16T02:52:37.463Z"
   },
   {
    "duration": 10,
    "start_time": "2022-03-16T02:52:38.821Z"
   },
   {
    "duration": 5,
    "start_time": "2022-03-16T02:52:40.403Z"
   },
   {
    "duration": 3,
    "start_time": "2022-03-16T02:52:45.376Z"
   },
   {
    "duration": 38,
    "start_time": "2022-03-16T02:52:47.591Z"
   },
   {
    "duration": 26,
    "start_time": "2022-03-16T02:52:59.903Z"
   },
   {
    "duration": 10,
    "start_time": "2022-03-16T02:53:25.613Z"
   },
   {
    "duration": 6,
    "start_time": "2022-03-16T02:53:51.963Z"
   },
   {
    "duration": 543,
    "start_time": "2022-03-16T02:53:53.809Z"
   },
   {
    "duration": 52,
    "start_time": "2022-03-16T02:55:31.577Z"
   },
   {
    "duration": 5,
    "start_time": "2022-03-16T02:55:48.979Z"
   },
   {
    "duration": 1523,
    "start_time": "2022-03-16T02:55:50.609Z"
   },
   {
    "duration": 6,
    "start_time": "2022-03-16T02:58:07.279Z"
   },
   {
    "duration": 1524,
    "start_time": "2022-03-16T02:58:09.129Z"
   },
   {
    "duration": 1342,
    "start_time": "2022-03-16T03:00:31.591Z"
   },
   {
    "duration": 21,
    "start_time": "2022-03-16T03:00:32.935Z"
   },
   {
    "duration": 19,
    "start_time": "2022-03-16T03:00:32.959Z"
   },
   {
    "duration": 17,
    "start_time": "2022-03-16T03:00:32.982Z"
   },
   {
    "duration": 6,
    "start_time": "2022-03-16T03:00:33.002Z"
   },
   {
    "duration": 37,
    "start_time": "2022-03-16T03:00:33.011Z"
   },
   {
    "duration": 33,
    "start_time": "2022-03-16T03:00:33.050Z"
   },
   {
    "duration": 7,
    "start_time": "2022-03-16T03:00:33.087Z"
   },
   {
    "duration": 6,
    "start_time": "2022-03-16T03:00:33.097Z"
   },
   {
    "duration": 50,
    "start_time": "2022-03-16T03:00:33.105Z"
   },
   {
    "duration": 18,
    "start_time": "2022-03-16T03:00:33.157Z"
   },
   {
    "duration": 10,
    "start_time": "2022-03-16T03:00:33.177Z"
   },
   {
    "duration": 7,
    "start_time": "2022-03-16T03:00:33.190Z"
   },
   {
    "duration": 59,
    "start_time": "2022-03-16T03:00:33.200Z"
   },
   {
    "duration": 25,
    "start_time": "2022-03-16T03:00:33.261Z"
   },
   {
    "duration": 7,
    "start_time": "2022-03-16T03:00:33.289Z"
   },
   {
    "duration": 1143,
    "start_time": "2022-03-16T03:00:33.299Z"
   },
   {
    "duration": 6,
    "start_time": "2022-03-16T03:02:24.237Z"
   },
   {
    "duration": 1003,
    "start_time": "2022-03-16T03:02:25.763Z"
   },
   {
    "duration": 13,
    "start_time": "2022-03-16T03:03:32.243Z"
   },
   {
    "duration": 9,
    "start_time": "2022-03-16T03:04:16.653Z"
   },
   {
    "duration": 46,
    "start_time": "2022-03-16T03:13:16.840Z"
   },
   {
    "duration": 46,
    "start_time": "2022-03-16T03:13:59.900Z"
   },
   {
    "duration": 46,
    "start_time": "2022-03-16T03:15:02.808Z"
   },
   {
    "duration": 1028,
    "start_time": "2022-03-16T03:17:18.826Z"
   },
   {
    "duration": 91,
    "start_time": "2022-03-16T03:18:58.364Z"
   },
   {
    "duration": 566,
    "start_time": "2022-03-16T03:19:09.692Z"
   },
   {
    "duration": 104,
    "start_time": "2022-03-16T03:19:26.642Z"
   },
   {
    "duration": 7,
    "start_time": "2022-03-16T03:22:10.200Z"
   },
   {
    "duration": 6,
    "start_time": "2022-03-16T03:22:41.920Z"
   },
   {
    "duration": 47,
    "start_time": "2022-03-16T03:36:27.271Z"
   },
   {
    "duration": 324,
    "start_time": "2022-03-16T03:43:39.123Z"
   },
   {
    "duration": 17,
    "start_time": "2022-03-16T03:44:14.181Z"
   },
   {
    "duration": 4,
    "start_time": "2022-03-16T03:49:17.323Z"
   },
   {
    "duration": 15,
    "start_time": "2022-03-16T03:49:20.277Z"
   },
   {
    "duration": 1014,
    "start_time": "2022-03-16T03:52:26.261Z"
   },
   {
    "duration": 14,
    "start_time": "2022-03-16T03:56:14.483Z"
   },
   {
    "duration": 117,
    "start_time": "2022-03-16T04:04:05.845Z"
   },
   {
    "duration": 16,
    "start_time": "2022-03-16T04:05:50.813Z"
   },
   {
    "duration": 84,
    "start_time": "2022-03-16T04:11:24.856Z"
   },
   {
    "duration": 379,
    "start_time": "2022-03-16T04:15:48.556Z"
   },
   {
    "duration": 178,
    "start_time": "2022-03-16T04:16:37.501Z"
   },
   {
    "duration": 442,
    "start_time": "2022-03-16T04:16:47.054Z"
   },
   {
    "duration": 63,
    "start_time": "2022-03-16T04:24:26.717Z"
   },
   {
    "duration": 6,
    "start_time": "2022-03-16T04:40:17.973Z"
   },
   {
    "duration": 23,
    "start_time": "2022-03-16T04:41:36.228Z"
   },
   {
    "duration": 1573,
    "start_time": "2022-03-16T04:44:44.470Z"
   },
   {
    "duration": 67,
    "start_time": "2022-03-16T04:48:37.268Z"
   },
   {
    "duration": 68,
    "start_time": "2022-03-16T04:49:01.570Z"
   },
   {
    "duration": 1708,
    "start_time": "2022-03-16T06:17:18.496Z"
   },
   {
    "duration": 1447,
    "start_time": "2022-03-16T06:17:29.638Z"
   },
   {
    "duration": 189,
    "start_time": "2022-03-16T06:17:56.455Z"
   },
   {
    "duration": 281,
    "start_time": "2022-03-16T09:06:34.716Z"
   },
   {
    "duration": 1364,
    "start_time": "2022-03-16T09:06:51.544Z"
   },
   {
    "duration": 1013,
    "start_time": "2022-03-16T09:07:05.659Z"
   },
   {
    "duration": 2782,
    "start_time": "2022-03-17T18:27:36.565Z"
   },
   {
    "duration": 22,
    "start_time": "2022-03-17T18:27:39.350Z"
   },
   {
    "duration": 19,
    "start_time": "2022-03-17T18:27:39.374Z"
   },
   {
    "duration": 19,
    "start_time": "2022-03-17T18:27:39.396Z"
   },
   {
    "duration": 6,
    "start_time": "2022-03-17T18:27:39.417Z"
   },
   {
    "duration": 49,
    "start_time": "2022-03-17T18:27:39.425Z"
   },
   {
    "duration": 30,
    "start_time": "2022-03-17T18:27:39.476Z"
   },
   {
    "duration": 7,
    "start_time": "2022-03-17T18:27:39.508Z"
   },
   {
    "duration": 6,
    "start_time": "2022-03-17T18:27:39.518Z"
   },
   {
    "duration": 48,
    "start_time": "2022-03-17T18:27:39.528Z"
   },
   {
    "duration": 8,
    "start_time": "2022-03-17T18:27:39.579Z"
   },
   {
    "duration": 6,
    "start_time": "2022-03-17T18:27:39.590Z"
   },
   {
    "duration": 4,
    "start_time": "2022-03-17T18:27:39.598Z"
   },
   {
    "duration": 71,
    "start_time": "2022-03-17T18:27:39.604Z"
   },
   {
    "duration": 26,
    "start_time": "2022-03-17T18:27:39.678Z"
   },
   {
    "duration": 5,
    "start_time": "2022-03-17T18:27:39.707Z"
   },
   {
    "duration": 1167,
    "start_time": "2022-03-17T18:27:39.714Z"
   },
   {
    "duration": 97,
    "start_time": "2022-03-17T18:27:40.884Z"
   },
   {
    "duration": 11,
    "start_time": "2022-03-17T18:27:40.984Z"
   },
   {
    "duration": 122,
    "start_time": "2022-03-17T18:27:40.998Z"
   },
   {
    "duration": 1053,
    "start_time": "2022-03-17T18:27:41.122Z"
   },
   {
    "duration": 103,
    "start_time": "2022-03-17T18:27:42.177Z"
   },
   {
    "duration": 93,
    "start_time": "2022-03-17T18:27:42.283Z"
   },
   {
    "duration": 25,
    "start_time": "2022-03-17T18:27:42.378Z"
   },
   {
    "duration": 101,
    "start_time": "2022-03-17T18:27:42.406Z"
   },
   {
    "duration": 4,
    "start_time": "2022-03-17T18:27:42.509Z"
   },
   {
    "duration": 22,
    "start_time": "2022-03-17T18:27:42.515Z"
   },
   {
    "duration": 1052,
    "start_time": "2022-03-17T18:27:42.541Z"
   },
   {
    "duration": 14,
    "start_time": "2022-03-17T18:27:43.595Z"
   },
   {
    "duration": 163,
    "start_time": "2022-03-17T18:27:43.611Z"
   },
   {
    "duration": 17,
    "start_time": "2022-03-17T18:27:43.777Z"
   },
   {
    "duration": 415,
    "start_time": "2022-03-17T18:27:43.796Z"
   },
   {
    "duration": 5,
    "start_time": "2022-03-17T18:27:44.214Z"
   },
   {
    "duration": 33,
    "start_time": "2022-03-17T18:27:44.222Z"
   },
   {
    "duration": 1722,
    "start_time": "2022-03-17T18:27:44.257Z"
   },
   {
    "duration": 161,
    "start_time": "2022-03-17T18:27:45.982Z"
   },
   {
    "duration": 2070,
    "start_time": "2022-03-17T18:27:46.146Z"
   },
   {
    "duration": 156,
    "start_time": "2022-03-17T18:27:48.219Z"
   },
   {
    "duration": 1508,
    "start_time": "2022-03-17T18:27:48.378Z"
   },
   {
    "duration": 566,
    "start_time": "2022-03-17T18:38:32.103Z"
   },
   {
    "duration": 437,
    "start_time": "2022-03-17T18:39:37.903Z"
   },
   {
    "duration": 188877,
    "start_time": "2022-03-17T18:43:03.383Z"
   },
   {
    "duration": 37070,
    "start_time": "2022-03-17T18:48:04.221Z"
   },
   {
    "duration": 73105,
    "start_time": "2022-03-17T18:56:17.471Z"
   },
   {
    "duration": 3247,
    "start_time": "2022-03-17T18:58:27.403Z"
   },
   {
    "duration": 4025,
    "start_time": "2022-03-17T18:59:10.364Z"
   },
   {
    "duration": 301,
    "start_time": "2022-03-17T19:09:18.731Z"
   },
   {
    "duration": 303,
    "start_time": "2022-03-17T19:11:34.201Z"
   },
   {
    "duration": 34,
    "start_time": "2022-03-17T19:12:14.265Z"
   },
   {
    "duration": 37,
    "start_time": "2022-03-17T19:12:34.673Z"
   },
   {
    "duration": 11,
    "start_time": "2022-03-17T19:16:23.057Z"
   },
   {
    "duration": 31,
    "start_time": "2022-03-17T19:45:15.364Z"
   },
   {
    "duration": 32,
    "start_time": "2022-03-17T19:46:51.718Z"
   },
   {
    "duration": 31,
    "start_time": "2022-03-17T19:46:55.538Z"
   },
   {
    "duration": 230,
    "start_time": "2022-03-17T19:49:18.038Z"
   },
   {
    "duration": 23,
    "start_time": "2022-03-17T19:51:22.728Z"
   },
   {
    "duration": 307,
    "start_time": "2022-03-17T19:54:10.381Z"
   },
   {
    "duration": 31,
    "start_time": "2022-03-17T19:54:13.225Z"
   },
   {
    "duration": 11,
    "start_time": "2022-03-17T19:54:17.869Z"
   },
   {
    "duration": 25,
    "start_time": "2022-03-17T19:54:30.617Z"
   },
   {
    "duration": 33,
    "start_time": "2022-03-17T19:55:04.141Z"
   },
   {
    "duration": 40,
    "start_time": "2022-03-17T19:55:22.210Z"
   },
   {
    "duration": 301,
    "start_time": "2022-03-17T19:55:57.268Z"
   },
   {
    "duration": 35,
    "start_time": "2022-03-17T19:55:59.997Z"
   },
   {
    "duration": 11,
    "start_time": "2022-03-17T19:56:11.795Z"
   },
   {
    "duration": 32,
    "start_time": "2022-03-17T19:56:25.360Z"
   },
   {
    "duration": 36,
    "start_time": "2022-03-17T19:57:19.815Z"
   },
   {
    "duration": 300,
    "start_time": "2022-03-17T19:58:43.557Z"
   },
   {
    "duration": 43,
    "start_time": "2022-03-17T19:58:49.653Z"
   },
   {
    "duration": 43,
    "start_time": "2022-03-17T19:58:59.452Z"
   },
   {
    "duration": 359,
    "start_time": "2022-03-17T19:59:14.422Z"
   },
   {
    "duration": 1370,
    "start_time": "2022-03-17T20:06:11.127Z"
   },
   {
    "duration": 74,
    "start_time": "2022-03-17T20:06:18.663Z"
   },
   {
    "duration": 11,
    "start_time": "2022-03-17T20:06:27.135Z"
   },
   {
    "duration": 73,
    "start_time": "2022-03-17T20:06:33.395Z"
   },
   {
    "duration": 2133,
    "start_time": "2022-03-17T20:06:50.033Z"
   },
   {
    "duration": 95,
    "start_time": "2022-03-17T20:06:54.451Z"
   },
   {
    "duration": 1867,
    "start_time": "2022-03-17T20:07:01.739Z"
   },
   {
    "duration": 91,
    "start_time": "2022-03-17T20:07:05.013Z"
   },
   {
    "duration": 1876,
    "start_time": "2022-03-17T20:07:11.953Z"
   },
   {
    "duration": 91,
    "start_time": "2022-03-17T20:07:15.509Z"
   },
   {
    "duration": 1415,
    "start_time": "2022-03-17T20:07:23.909Z"
   },
   {
    "duration": 77,
    "start_time": "2022-03-17T20:07:26.227Z"
   },
   {
    "duration": 1784,
    "start_time": "2022-03-17T20:07:32.264Z"
   },
   {
    "duration": 1390,
    "start_time": "2022-03-17T20:07:37.871Z"
   },
   {
    "duration": 74,
    "start_time": "2022-03-17T20:07:39.865Z"
   },
   {
    "duration": 72,
    "start_time": "2022-03-17T20:07:46.647Z"
   },
   {
    "duration": 255,
    "start_time": "2022-03-17T20:07:54.097Z"
   },
   {
    "duration": 2097,
    "start_time": "2022-03-17T20:08:08.944Z"
   },
   {
    "duration": 105,
    "start_time": "2022-03-17T20:08:12.187Z"
   },
   {
    "duration": 103,
    "start_time": "2022-03-17T20:08:18.742Z"
   },
   {
    "duration": 302,
    "start_time": "2022-03-17T20:08:34.787Z"
   },
   {
    "duration": 30,
    "start_time": "2022-03-17T20:08:37.143Z"
   },
   {
    "duration": 5912,
    "start_time": "2022-03-17T20:09:19.901Z"
   },
   {
    "duration": 263,
    "start_time": "2022-03-17T20:09:54.494Z"
   },
   {
    "duration": 29,
    "start_time": "2022-03-17T20:09:55.697Z"
   },
   {
    "duration": 28,
    "start_time": "2022-03-17T20:10:01.389Z"
   },
   {
    "duration": 11226,
    "start_time": "2022-03-17T20:10:18.933Z"
   },
   {
    "duration": 2239,
    "start_time": "2022-03-17T20:11:40.057Z"
   },
   {
    "duration": 22,
    "start_time": "2022-03-17T20:11:42.299Z"
   },
   {
    "duration": 21,
    "start_time": "2022-03-17T20:11:42.324Z"
   },
   {
    "duration": 47,
    "start_time": "2022-03-17T20:11:42.348Z"
   },
   {
    "duration": 9,
    "start_time": "2022-03-17T20:11:42.398Z"
   },
   {
    "duration": 9,
    "start_time": "2022-03-17T20:11:42.409Z"
   },
   {
    "duration": 64,
    "start_time": "2022-03-17T20:11:42.421Z"
   },
   {
    "duration": 6,
    "start_time": "2022-03-17T20:11:42.487Z"
   },
   {
    "duration": 14,
    "start_time": "2022-03-17T20:11:42.495Z"
   },
   {
    "duration": 22,
    "start_time": "2022-03-17T20:11:42.513Z"
   },
   {
    "duration": 18,
    "start_time": "2022-03-17T20:11:42.537Z"
   },
   {
    "duration": 17,
    "start_time": "2022-03-17T20:11:42.557Z"
   },
   {
    "duration": 4,
    "start_time": "2022-03-17T20:11:42.576Z"
   },
   {
    "duration": 42,
    "start_time": "2022-03-17T20:11:42.582Z"
   },
   {
    "duration": 50,
    "start_time": "2022-03-17T20:11:42.626Z"
   },
   {
    "duration": 6,
    "start_time": "2022-03-17T20:11:42.678Z"
   },
   {
    "duration": 1292,
    "start_time": "2022-03-17T20:11:42.686Z"
   },
   {
    "duration": 96,
    "start_time": "2022-03-17T20:11:43.982Z"
   },
   {
    "duration": 14,
    "start_time": "2022-03-17T20:11:44.081Z"
   },
   {
    "duration": 50,
    "start_time": "2022-03-17T20:11:44.097Z"
   },
   {
    "duration": 1028,
    "start_time": "2022-03-17T20:11:44.173Z"
   },
   {
    "duration": 73,
    "start_time": "2022-03-17T20:11:45.204Z"
   },
   {
    "duration": 94,
    "start_time": "2022-03-17T20:11:45.280Z"
   },
   {
    "duration": 8,
    "start_time": "2022-03-17T20:11:45.377Z"
   },
   {
    "duration": 94,
    "start_time": "2022-03-17T20:11:45.388Z"
   },
   {
    "duration": 5,
    "start_time": "2022-03-17T20:11:45.485Z"
   },
   {
    "duration": 28,
    "start_time": "2022-03-17T20:11:45.493Z"
   },
   {
    "duration": 1047,
    "start_time": "2022-03-17T20:11:45.528Z"
   },
   {
    "duration": 14,
    "start_time": "2022-03-17T20:11:46.577Z"
   },
   {
    "duration": 86,
    "start_time": "2022-03-17T20:11:46.593Z"
   },
   {
    "duration": 105,
    "start_time": "2022-03-17T20:11:46.683Z"
   },
   {
    "duration": 383,
    "start_time": "2022-03-17T20:11:46.790Z"
   },
   {
    "duration": 5,
    "start_time": "2022-03-17T20:11:47.175Z"
   },
   {
    "duration": 28,
    "start_time": "2022-03-17T20:11:47.183Z"
   },
   {
    "duration": 1596,
    "start_time": "2022-03-17T20:11:47.214Z"
   },
   {
    "duration": 163,
    "start_time": "2022-03-17T20:11:48.875Z"
   },
   {
    "duration": 1501,
    "start_time": "2022-03-17T20:11:49.040Z"
   },
   {
    "duration": 230,
    "start_time": "2022-03-17T20:11:50.544Z"
   },
   {
    "duration": 1137,
    "start_time": "2022-03-17T20:11:50.776Z"
   },
   {
    "duration": 84372,
    "start_time": "2022-03-17T20:11:51.916Z"
   },
   {
    "duration": 3963,
    "start_time": "2022-03-17T20:13:16.290Z"
   },
   {
    "duration": 280,
    "start_time": "2022-03-17T20:13:20.256Z"
   },
   {
    "duration": 47,
    "start_time": "2022-03-17T20:13:20.539Z"
   },
   {
    "duration": 14,
    "start_time": "2022-03-17T20:13:20.588Z"
   },
   {
    "duration": 30,
    "start_time": "2022-03-17T20:13:20.604Z"
   },
   {
    "duration": 249,
    "start_time": "2022-03-17T20:13:20.637Z"
   },
   {
    "duration": 273,
    "start_time": "2022-03-17T20:13:44.272Z"
   },
   {
    "duration": 30,
    "start_time": "2022-03-17T20:13:47.819Z"
   },
   {
    "duration": 15,
    "start_time": "2022-03-17T20:13:53.661Z"
   },
   {
    "duration": 35,
    "start_time": "2022-03-17T20:14:53.213Z"
   },
   {
    "duration": 116096,
    "start_time": "2022-03-17T20:24:19.761Z"
   },
   {
    "duration": 295562,
    "start_time": "2022-03-17T20:26:42.152Z"
   },
   {
    "duration": 286,
    "start_time": "2022-03-17T20:33:08.967Z"
   },
   {
    "duration": 35,
    "start_time": "2022-03-17T20:33:11.120Z"
   },
   {
    "duration": 13,
    "start_time": "2022-03-17T20:33:16.824Z"
   },
   {
    "duration": 30,
    "start_time": "2022-03-17T20:34:01.118Z"
   },
   {
    "duration": 1307,
    "start_time": "2022-03-17T20:34:29.530Z"
   },
   {
    "duration": 86,
    "start_time": "2022-03-17T20:34:33.081Z"
   },
   {
    "duration": 16,
    "start_time": "2022-03-17T20:34:40.389Z"
   },
   {
    "duration": 77,
    "start_time": "2022-03-17T20:34:47.035Z"
   },
   {
    "duration": 7144,
    "start_time": "2022-03-17T20:39:09.658Z"
   },
   {
    "duration": 66484,
    "start_time": "2022-03-17T20:41:53.111Z"
   },
   {
    "duration": 996,
    "start_time": "2022-03-17T20:43:18.277Z"
   },
   {
    "duration": 58,
    "start_time": "2022-03-17T20:43:23.815Z"
   },
   {
    "duration": 13,
    "start_time": "2022-03-17T20:43:30.631Z"
   },
   {
    "duration": 61,
    "start_time": "2022-03-17T20:43:37.126Z"
   },
   {
    "duration": 1804,
    "start_time": "2022-03-18T16:22:12.252Z"
   },
   {
    "duration": 14,
    "start_time": "2022-03-18T16:22:14.059Z"
   },
   {
    "duration": 21,
    "start_time": "2022-03-18T16:22:14.075Z"
   },
   {
    "duration": 18,
    "start_time": "2022-03-18T16:22:14.098Z"
   },
   {
    "duration": 26,
    "start_time": "2022-03-18T16:22:14.118Z"
   },
   {
    "duration": 18,
    "start_time": "2022-03-18T16:22:14.146Z"
   },
   {
    "duration": 44,
    "start_time": "2022-03-18T16:22:14.166Z"
   },
   {
    "duration": 6,
    "start_time": "2022-03-18T16:22:14.212Z"
   },
   {
    "duration": 15,
    "start_time": "2022-03-18T16:22:14.220Z"
   },
   {
    "duration": 18,
    "start_time": "2022-03-18T16:22:14.239Z"
   },
   {
    "duration": 38,
    "start_time": "2022-03-18T16:22:14.259Z"
   },
   {
    "duration": 31,
    "start_time": "2022-03-18T16:22:14.299Z"
   },
   {
    "duration": 20,
    "start_time": "2022-03-18T16:22:14.332Z"
   },
   {
    "duration": 50,
    "start_time": "2022-03-18T16:22:14.353Z"
   },
   {
    "duration": 19,
    "start_time": "2022-03-18T16:22:14.405Z"
   },
   {
    "duration": 23,
    "start_time": "2022-03-18T16:22:14.425Z"
   },
   {
    "duration": 815,
    "start_time": "2022-03-18T16:22:14.449Z"
   },
   {
    "duration": 106,
    "start_time": "2022-03-18T16:22:15.266Z"
   },
   {
    "duration": 8,
    "start_time": "2022-03-18T16:22:15.374Z"
   },
   {
    "duration": 63,
    "start_time": "2022-03-18T16:22:15.384Z"
   },
   {
    "duration": 685,
    "start_time": "2022-03-18T16:22:15.449Z"
   },
   {
    "duration": 126,
    "start_time": "2022-03-18T16:22:16.136Z"
   },
   {
    "duration": 104,
    "start_time": "2022-03-18T16:22:16.264Z"
   },
   {
    "duration": 29,
    "start_time": "2022-03-18T16:22:16.370Z"
   },
   {
    "duration": 39,
    "start_time": "2022-03-18T16:22:16.402Z"
   },
   {
    "duration": 4,
    "start_time": "2022-03-18T16:22:16.443Z"
   },
   {
    "duration": 41,
    "start_time": "2022-03-18T16:22:16.448Z"
   },
   {
    "duration": 797,
    "start_time": "2022-03-18T16:22:16.495Z"
   },
   {
    "duration": 10,
    "start_time": "2022-03-18T16:22:17.294Z"
   },
   {
    "duration": 66,
    "start_time": "2022-03-18T16:22:17.306Z"
   },
   {
    "duration": 98,
    "start_time": "2022-03-18T16:22:17.375Z"
   },
   {
    "duration": 304,
    "start_time": "2022-03-18T16:22:17.475Z"
   },
   {
    "duration": 5,
    "start_time": "2022-03-18T16:22:17.781Z"
   },
   {
    "duration": 61,
    "start_time": "2022-03-18T16:22:17.788Z"
   },
   {
    "duration": 1212,
    "start_time": "2022-03-18T16:22:17.851Z"
   },
   {
    "duration": 132,
    "start_time": "2022-03-18T16:22:19.070Z"
   },
   {
    "duration": 979,
    "start_time": "2022-03-18T16:22:19.204Z"
   },
   {
    "duration": 182,
    "start_time": "2022-03-18T16:22:20.185Z"
   },
   {
    "duration": 768,
    "start_time": "2022-03-18T16:22:20.369Z"
   },
   {
    "duration": 4677,
    "start_time": "2022-03-18T16:22:21.139Z"
   },
   {
    "duration": 34863,
    "start_time": "2022-03-18T16:22:25.818Z"
   },
   {
    "duration": 723,
    "start_time": "2022-03-18T16:23:00.683Z"
   },
   {
    "duration": 55,
    "start_time": "2022-03-18T16:23:01.408Z"
   },
   {
    "duration": 8,
    "start_time": "2022-03-18T16:23:01.465Z"
   },
   {
    "duration": 46,
    "start_time": "2022-03-18T16:23:01.474Z"
   },
   {
    "duration": 176,
    "start_time": "2022-03-18T16:23:01.522Z"
   },
   {
    "duration": 70,
    "start_time": "2022-03-19T08:09:21.263Z"
   },
   {
    "duration": 2169,
    "start_time": "2022-03-19T08:09:31.251Z"
   },
   {
    "duration": 22,
    "start_time": "2022-03-19T08:09:33.423Z"
   },
   {
    "duration": 28,
    "start_time": "2022-03-19T08:09:33.447Z"
   },
   {
    "duration": 40,
    "start_time": "2022-03-19T08:09:33.482Z"
   },
   {
    "duration": 51,
    "start_time": "2022-03-19T08:09:33.524Z"
   },
   {
    "duration": 28,
    "start_time": "2022-03-19T08:09:33.578Z"
   },
   {
    "duration": 97,
    "start_time": "2022-03-19T08:09:33.608Z"
   },
   {
    "duration": 11,
    "start_time": "2022-03-19T08:09:33.707Z"
   },
   {
    "duration": 52,
    "start_time": "2022-03-19T08:09:33.720Z"
   },
   {
    "duration": 66,
    "start_time": "2022-03-19T08:09:33.776Z"
   },
   {
    "duration": 33,
    "start_time": "2022-03-19T08:09:33.844Z"
   },
   {
    "duration": 55,
    "start_time": "2022-03-19T08:09:33.879Z"
   },
   {
    "duration": 35,
    "start_time": "2022-03-19T08:09:33.937Z"
   },
   {
    "duration": 66,
    "start_time": "2022-03-19T08:09:33.974Z"
   },
   {
    "duration": 55,
    "start_time": "2022-03-19T08:09:34.042Z"
   },
   {
    "duration": 30,
    "start_time": "2022-03-19T08:09:34.100Z"
   },
   {
    "duration": 1158,
    "start_time": "2022-03-19T08:09:34.132Z"
   },
   {
    "duration": 11,
    "start_time": "2022-03-19T08:09:35.383Z"
   },
   {
    "duration": 26,
    "start_time": "2022-03-19T08:09:35.396Z"
   },
   {
    "duration": 91,
    "start_time": "2022-03-19T08:09:35.425Z"
   },
   {
    "duration": 965,
    "start_time": "2022-03-19T08:09:35.518Z"
   },
   {
    "duration": 98,
    "start_time": "2022-03-19T08:09:36.485Z"
   },
   {
    "duration": 97,
    "start_time": "2022-03-19T08:09:36.587Z"
   },
   {
    "duration": 8,
    "start_time": "2022-03-19T08:09:36.686Z"
   },
   {
    "duration": 65,
    "start_time": "2022-03-19T08:09:36.696Z"
   },
   {
    "duration": 18,
    "start_time": "2022-03-19T08:09:36.764Z"
   },
   {
    "duration": 16,
    "start_time": "2022-03-19T08:09:36.784Z"
   },
   {
    "duration": 1000,
    "start_time": "2022-03-19T08:09:36.805Z"
   },
   {
    "duration": 17,
    "start_time": "2022-03-19T08:09:37.807Z"
   },
   {
    "duration": 158,
    "start_time": "2022-03-19T08:09:37.826Z"
   },
   {
    "duration": 16,
    "start_time": "2022-03-19T08:09:37.986Z"
   },
   {
    "duration": 368,
    "start_time": "2022-03-19T08:09:38.005Z"
   },
   {
    "duration": 10,
    "start_time": "2022-03-19T08:09:38.375Z"
   },
   {
    "duration": 30,
    "start_time": "2022-03-19T08:09:38.387Z"
   },
   {
    "duration": 1465,
    "start_time": "2022-03-19T08:09:38.419Z"
   },
   {
    "duration": 245,
    "start_time": "2022-03-19T08:09:39.888Z"
   },
   {
    "duration": 1413,
    "start_time": "2022-03-19T08:09:40.136Z"
   },
   {
    "duration": 133,
    "start_time": "2022-03-19T08:09:41.552Z"
   },
   {
    "duration": 1044,
    "start_time": "2022-03-19T08:09:41.688Z"
   },
   {
    "duration": 6537,
    "start_time": "2022-03-19T08:09:42.735Z"
   },
   {
    "duration": 52551,
    "start_time": "2022-03-19T08:09:49.282Z"
   },
   {
    "duration": 910,
    "start_time": "2022-03-19T08:10:41.835Z"
   },
   {
    "duration": 67,
    "start_time": "2022-03-19T08:10:42.748Z"
   },
   {
    "duration": 11,
    "start_time": "2022-03-19T08:10:42.817Z"
   },
   {
    "duration": 71,
    "start_time": "2022-03-19T08:10:42.830Z"
   },
   {
    "duration": 239,
    "start_time": "2022-03-19T08:10:42.904Z"
   },
   {
    "duration": 644,
    "start_time": "2022-03-19T08:37:23.391Z"
   },
   {
    "duration": 198,
    "start_time": "2022-03-19T08:37:56.591Z"
   },
   {
    "duration": 118,
    "start_time": "2022-03-19T08:41:33.155Z"
   },
   {
    "duration": 160,
    "start_time": "2022-03-19T08:42:23.321Z"
   },
   {
    "duration": 184,
    "start_time": "2022-03-19T08:42:39.795Z"
   },
   {
    "duration": 181,
    "start_time": "2022-03-19T08:43:12.738Z"
   },
   {
    "duration": 4739,
    "start_time": "2022-03-19T08:47:52.781Z"
   },
   {
    "duration": 34959,
    "start_time": "2022-03-19T08:51:17.023Z"
   },
   {
    "duration": 197194,
    "start_time": "2022-03-19T09:37:12.795Z"
   },
   {
    "duration": 19089,
    "start_time": "2022-03-19T09:44:59.998Z"
   },
   {
    "duration": 110,
    "start_time": "2022-03-19T09:46:49.290Z"
   },
   {
    "duration": 2131,
    "start_time": "2022-03-20T06:49:16.982Z"
   },
   {
    "duration": 21,
    "start_time": "2022-03-20T06:49:19.116Z"
   },
   {
    "duration": 32,
    "start_time": "2022-03-20T06:49:19.140Z"
   },
   {
    "duration": 20,
    "start_time": "2022-03-20T06:49:19.174Z"
   },
   {
    "duration": 6,
    "start_time": "2022-03-20T06:49:19.197Z"
   },
   {
    "duration": 14,
    "start_time": "2022-03-20T06:49:19.205Z"
   },
   {
    "duration": 63,
    "start_time": "2022-03-20T06:49:19.221Z"
   },
   {
    "duration": 7,
    "start_time": "2022-03-20T06:49:19.287Z"
   },
   {
    "duration": 10,
    "start_time": "2022-03-20T06:49:19.296Z"
   },
   {
    "duration": 12,
    "start_time": "2022-03-20T06:49:19.308Z"
   },
   {
    "duration": 8,
    "start_time": "2022-03-20T06:49:19.322Z"
   },
   {
    "duration": 34,
    "start_time": "2022-03-20T06:49:19.333Z"
   },
   {
    "duration": 9,
    "start_time": "2022-03-20T06:49:19.368Z"
   },
   {
    "duration": 39,
    "start_time": "2022-03-20T06:49:19.381Z"
   },
   {
    "duration": 53,
    "start_time": "2022-03-20T06:49:19.422Z"
   },
   {
    "duration": 8,
    "start_time": "2022-03-20T06:49:19.476Z"
   },
   {
    "duration": 1092,
    "start_time": "2022-03-20T06:49:19.486Z"
   },
   {
    "duration": 362,
    "start_time": "2022-03-20T06:49:20.583Z"
   },
   {
    "duration": 4930,
    "start_time": "2022-03-20T06:49:20.948Z"
   },
   {
    "duration": 36433,
    "start_time": "2022-03-20T06:49:25.881Z"
   },
   {
    "duration": 14069,
    "start_time": "2022-03-20T06:50:02.317Z"
   },
   {
    "duration": 84,
    "start_time": "2022-03-20T06:50:16.390Z"
   },
   {
    "duration": 112,
    "start_time": "2022-03-20T06:50:16.477Z"
   },
   {
    "duration": 49,
    "start_time": "2022-03-20T06:50:16.592Z"
   },
   {
    "duration": 1004,
    "start_time": "2022-03-20T06:50:16.644Z"
   },
   {
    "duration": 41,
    "start_time": "2022-03-20T06:50:17.651Z"
   },
   {
    "duration": 88,
    "start_time": "2022-03-20T06:50:17.696Z"
   },
   {
    "duration": 89,
    "start_time": "2022-03-20T06:50:17.789Z"
   },
   {
    "duration": 55,
    "start_time": "2022-03-20T06:50:17.881Z"
   },
   {
    "duration": 5,
    "start_time": "2022-03-20T06:50:17.938Z"
   },
   {
    "duration": 38,
    "start_time": "2022-03-20T06:50:17.946Z"
   },
   {
    "duration": 1007,
    "start_time": "2022-03-20T06:50:17.986Z"
   },
   {
    "duration": 15,
    "start_time": "2022-03-20T06:50:18.996Z"
   },
   {
    "duration": 62,
    "start_time": "2022-03-20T06:50:19.013Z"
   },
   {
    "duration": 91,
    "start_time": "2022-03-20T06:50:19.078Z"
   },
   {
    "duration": 388,
    "start_time": "2022-03-20T06:50:19.172Z"
   },
   {
    "duration": 7,
    "start_time": "2022-03-20T06:50:19.562Z"
   },
   {
    "duration": 31,
    "start_time": "2022-03-20T06:50:19.572Z"
   },
   {
    "duration": 1569,
    "start_time": "2022-03-20T06:50:19.606Z"
   },
   {
    "duration": 153,
    "start_time": "2022-03-20T06:50:21.180Z"
   },
   {
    "duration": 1823,
    "start_time": "2022-03-20T06:50:21.339Z"
   },
   {
    "duration": 109,
    "start_time": "2022-03-20T06:50:23.169Z"
   },
   {
    "duration": 1075,
    "start_time": "2022-03-20T06:50:23.287Z"
   },
   {
    "duration": 6872,
    "start_time": "2022-03-20T06:50:24.370Z"
   },
   {
    "duration": 54227,
    "start_time": "2022-03-20T06:50:31.244Z"
   },
   {
    "duration": 970,
    "start_time": "2022-03-20T06:51:25.473Z"
   },
   {
    "duration": 71,
    "start_time": "2022-03-20T06:51:26.445Z"
   },
   {
    "duration": 12,
    "start_time": "2022-03-20T06:51:26.519Z"
   },
   {
    "duration": 80,
    "start_time": "2022-03-20T06:51:26.534Z"
   },
   {
    "duration": 246,
    "start_time": "2022-03-20T06:51:26.617Z"
   },
   {
    "duration": 752,
    "start_time": "2022-03-20T06:54:33.772Z"
   },
   {
    "duration": 1447,
    "start_time": "2022-03-20T07:09:53.227Z"
   },
   {
    "duration": 15,
    "start_time": "2022-03-20T07:20:15.647Z"
   },
   {
    "duration": 17,
    "start_time": "2022-03-20T07:24:52.468Z"
   },
   {
    "duration": 38,
    "start_time": "2022-03-20T07:25:35.715Z"
   },
   {
    "duration": 39,
    "start_time": "2022-03-20T07:26:39.426Z"
   },
   {
    "duration": 49,
    "start_time": "2022-03-20T07:28:48.836Z"
   },
   {
    "duration": 34,
    "start_time": "2022-03-20T07:29:12.861Z"
   },
   {
    "duration": 172,
    "start_time": "2022-03-20T07:32:29.217Z"
   },
   {
    "duration": 42,
    "start_time": "2022-03-20T07:32:49.604Z"
   },
   {
    "duration": 23,
    "start_time": "2022-03-20T07:33:25.754Z"
   },
   {
    "duration": 23,
    "start_time": "2022-03-20T07:33:34.480Z"
   },
   {
    "duration": 23,
    "start_time": "2022-03-20T07:33:45.506Z"
   },
   {
    "duration": 20,
    "start_time": "2022-03-20T07:40:51.212Z"
   },
   {
    "duration": 33,
    "start_time": "2022-03-20T07:41:20.410Z"
   },
   {
    "duration": 570,
    "start_time": "2022-03-20T07:45:40.971Z"
   },
   {
    "duration": 69,
    "start_time": "2022-03-20T07:49:56.307Z"
   },
   {
    "duration": 1527,
    "start_time": "2022-03-20T08:15:08.341Z"
   },
   {
    "duration": 2243,
    "start_time": "2022-03-20T08:15:52.957Z"
   },
   {
    "duration": 190,
    "start_time": "2022-03-20T08:21:41.197Z"
   },
   {
    "duration": 39925,
    "start_time": "2022-03-20T08:23:44.754Z"
   },
   {
    "duration": 1390,
    "start_time": "2022-03-20T08:25:43.596Z"
   },
   {
    "duration": 250,
    "start_time": "2022-03-20T08:29:04.305Z"
   },
   {
    "duration": 110,
    "start_time": "2022-03-20T08:29:40.575Z"
   },
   {
    "duration": 122,
    "start_time": "2022-03-20T08:31:00.945Z"
   },
   {
    "duration": 56530,
    "start_time": "2022-03-20T08:32:27.376Z"
   },
   {
    "duration": 58939,
    "start_time": "2022-03-20T08:34:05.596Z"
   },
   {
    "duration": 25357,
    "start_time": "2022-03-20T08:35:16.424Z"
   },
   {
    "duration": 1295,
    "start_time": "2022-03-20T08:37:08.590Z"
   },
   {
    "duration": 757,
    "start_time": "2022-03-20T08:37:52.724Z"
   },
   {
    "duration": 186,
    "start_time": "2022-03-20T08:47:41.487Z"
   },
   {
    "duration": 1542,
    "start_time": "2022-03-20T08:47:45.143Z"
   },
   {
    "duration": 131,
    "start_time": "2022-03-20T08:47:50.639Z"
   },
   {
    "duration": 1201,
    "start_time": "2022-03-20T08:47:52.973Z"
   },
   {
    "duration": 20322,
    "start_time": "2022-03-20T08:49:31.245Z"
   },
   {
    "duration": 61179,
    "start_time": "2022-03-20T08:51:46.389Z"
   },
   {
    "duration": 38,
    "start_time": "2022-03-20T08:52:57.775Z"
   },
   {
    "duration": 1509,
    "start_time": "2022-03-20T08:53:10.664Z"
   },
   {
    "duration": 1885,
    "start_time": "2022-03-20T08:54:41.795Z"
   },
   {
    "duration": 22,
    "start_time": "2022-03-20T08:54:43.683Z"
   },
   {
    "duration": 20,
    "start_time": "2022-03-20T08:54:43.707Z"
   },
   {
    "duration": 40,
    "start_time": "2022-03-20T08:54:43.730Z"
   },
   {
    "duration": 7,
    "start_time": "2022-03-20T08:54:43.772Z"
   },
   {
    "duration": 11,
    "start_time": "2022-03-20T08:54:43.782Z"
   },
   {
    "duration": 28,
    "start_time": "2022-03-20T08:54:43.795Z"
   },
   {
    "duration": 50,
    "start_time": "2022-03-20T08:54:43.825Z"
   },
   {
    "duration": 6,
    "start_time": "2022-03-20T08:54:43.877Z"
   },
   {
    "duration": 12,
    "start_time": "2022-03-20T08:54:43.890Z"
   },
   {
    "duration": 9,
    "start_time": "2022-03-20T08:54:43.904Z"
   },
   {
    "duration": 5,
    "start_time": "2022-03-20T08:54:43.915Z"
   },
   {
    "duration": 3,
    "start_time": "2022-03-20T08:54:43.969Z"
   },
   {
    "duration": 40,
    "start_time": "2022-03-20T08:54:43.975Z"
   },
   {
    "duration": 50,
    "start_time": "2022-03-20T08:54:44.018Z"
   },
   {
    "duration": 6,
    "start_time": "2022-03-20T08:54:44.070Z"
   },
   {
    "duration": 1189,
    "start_time": "2022-03-20T08:54:44.078Z"
   },
   {
    "duration": 295,
    "start_time": "2022-03-20T08:54:45.271Z"
   },
   {
    "duration": 69287,
    "start_time": "2022-03-20T08:54:45.568Z"
   },
   {
    "duration": 1517,
    "start_time": "2022-03-20T08:55:54.857Z"
   },
   {
    "duration": 189,
    "start_time": "2022-03-20T08:55:56.379Z"
   },
   {
    "duration": 8,
    "start_time": "2022-03-20T08:55:56.572Z"
   },
   {
    "duration": 56,
    "start_time": "2022-03-20T08:55:56.583Z"
   },
   {
    "duration": 1342,
    "start_time": "2022-03-20T08:55:56.668Z"
   },
   {
    "duration": 67,
    "start_time": "2022-03-20T08:55:58.013Z"
   },
   {
    "duration": 14,
    "start_time": "2022-03-20T08:55:58.168Z"
   },
   {
    "duration": 7,
    "start_time": "2022-03-20T08:55:58.270Z"
   },
   {
    "duration": 62,
    "start_time": "2022-03-20T08:55:58.283Z"
   },
   {
    "duration": 5,
    "start_time": "2022-03-20T08:55:58.368Z"
   },
   {
    "duration": 17,
    "start_time": "2022-03-20T08:55:58.375Z"
   },
   {
    "duration": 1008,
    "start_time": "2022-03-20T08:55:58.394Z"
   },
   {
    "duration": 15,
    "start_time": "2022-03-20T08:55:59.404Z"
   },
   {
    "duration": 58,
    "start_time": "2022-03-20T08:55:59.421Z"
   },
   {
    "duration": 195,
    "start_time": "2022-03-20T08:55:59.482Z"
   },
   {
    "duration": 383,
    "start_time": "2022-03-20T08:55:59.680Z"
   },
   {
    "duration": 7,
    "start_time": "2022-03-20T08:56:00.067Z"
   },
   {
    "duration": 23,
    "start_time": "2022-03-20T08:56:00.076Z"
   },
   {
    "duration": 1567,
    "start_time": "2022-03-20T08:56:00.101Z"
   },
   {
    "duration": 112,
    "start_time": "2022-03-20T08:56:01.672Z"
   },
   {
    "duration": 90,
    "start_time": "2022-03-20T08:56:01.787Z"
   },
   {
    "duration": 268,
    "start_time": "2022-03-20T08:56:01.879Z"
   },
   {
    "duration": 41,
    "start_time": "2022-03-20T08:56:02.149Z"
   },
   {
    "duration": 118,
    "start_time": "2022-03-20T08:56:02.192Z"
   },
   {
    "duration": 1417,
    "start_time": "2022-03-20T08:56:02.312Z"
   },
   {
    "duration": 91677,
    "start_time": "2022-03-20T08:56:03.731Z"
   },
   {
    "duration": 550,
    "start_time": "2022-03-20T08:57:35.411Z"
   },
   {
    "duration": 30331,
    "start_time": "2022-03-20T08:57:35.967Z"
   },
   {
    "duration": 83,
    "start_time": "2022-03-20T08:58:06.300Z"
   },
   {
    "duration": 1319,
    "start_time": "2022-03-20T08:58:06.467Z"
   },
   {
    "duration": 205,
    "start_time": "2022-03-20T08:58:07.868Z"
   },
   {
    "duration": 1199,
    "start_time": "2022-03-20T08:58:08.076Z"
   },
   {
    "duration": 2320,
    "start_time": "2022-03-20T08:58:09.278Z"
   },
   {
    "duration": 1113,
    "start_time": "2022-03-20T08:58:11.677Z"
   },
   {
    "duration": 21317,
    "start_time": "2022-03-20T08:58:12.792Z"
   },
   {
    "duration": 56276,
    "start_time": "2022-03-20T08:58:34.111Z"
   },
   {
    "duration": 942,
    "start_time": "2022-03-20T08:59:30.389Z"
   },
   {
    "duration": 71,
    "start_time": "2022-03-20T08:59:31.333Z"
   },
   {
    "duration": 12,
    "start_time": "2022-03-20T08:59:31.407Z"
   },
   {
    "duration": 77,
    "start_time": "2022-03-20T08:59:31.422Z"
   },
   {
    "duration": 284,
    "start_time": "2022-03-20T08:59:31.502Z"
   },
   {
    "duration": 748,
    "start_time": "2022-03-20T09:00:58.456Z"
   },
   {
    "duration": 54,
    "start_time": "2022-03-20T09:01:04.853Z"
   },
   {
    "duration": 12,
    "start_time": "2022-03-20T09:01:14.221Z"
   },
   {
    "duration": 191,
    "start_time": "2022-03-20T09:17:29.637Z"
   },
   {
    "duration": 11,
    "start_time": "2022-03-20T09:26:52.652Z"
   },
   {
    "duration": 5,
    "start_time": "2022-03-20T09:27:01.258Z"
   },
   {
    "duration": 5,
    "start_time": "2022-03-20T09:27:27.195Z"
   },
   {
    "duration": 18,
    "start_time": "2022-03-20T09:27:40.002Z"
   },
   {
    "duration": 23,
    "start_time": "2022-03-20T09:28:17.385Z"
   },
   {
    "duration": 42,
    "start_time": "2022-03-20T09:31:18.734Z"
   },
   {
    "duration": 15,
    "start_time": "2022-03-20T09:32:01.076Z"
   },
   {
    "duration": 39,
    "start_time": "2022-03-20T09:32:22.498Z"
   },
   {
    "duration": 20,
    "start_time": "2022-03-20T09:39:00.099Z"
   },
   {
    "duration": 17,
    "start_time": "2022-03-20T09:45:48.731Z"
   },
   {
    "duration": 10,
    "start_time": "2022-03-20T09:46:34.246Z"
   },
   {
    "duration": 9,
    "start_time": "2022-03-20T09:47:04.117Z"
   },
   {
    "duration": 1027,
    "start_time": "2022-03-20T09:48:34.386Z"
   },
   {
    "duration": 9,
    "start_time": "2022-03-20T09:50:05.712Z"
   },
   {
    "duration": 780,
    "start_time": "2022-03-20T09:50:50.073Z"
   },
   {
    "duration": 816,
    "start_time": "2022-03-20T09:52:42.551Z"
   },
   {
    "duration": 1018,
    "start_time": "2022-03-20T09:52:50.271Z"
   },
   {
    "duration": 685,
    "start_time": "2022-03-20T09:53:00.575Z"
   },
   {
    "duration": 1055,
    "start_time": "2022-03-20T09:53:12.128Z"
   },
   {
    "duration": 1401,
    "start_time": "2022-03-20T09:53:26.448Z"
   },
   {
    "duration": 1718,
    "start_time": "2022-03-20T09:53:36.454Z"
   },
   {
    "duration": 10,
    "start_time": "2022-03-20T09:54:47.027Z"
   },
   {
    "duration": 1616,
    "start_time": "2022-03-20T09:54:49.243Z"
   },
   {
    "duration": 1967,
    "start_time": "2022-03-20T09:54:56.546Z"
   },
   {
    "duration": 26,
    "start_time": "2022-03-20T09:54:58.516Z"
   },
   {
    "duration": 27,
    "start_time": "2022-03-20T09:54:58.545Z"
   },
   {
    "duration": 20,
    "start_time": "2022-03-20T09:54:58.576Z"
   },
   {
    "duration": 10,
    "start_time": "2022-03-20T09:54:58.599Z"
   },
   {
    "duration": 12,
    "start_time": "2022-03-20T09:54:58.612Z"
   },
   {
    "duration": 67,
    "start_time": "2022-03-20T09:54:58.626Z"
   },
   {
    "duration": 8,
    "start_time": "2022-03-20T09:54:58.696Z"
   },
   {
    "duration": 11,
    "start_time": "2022-03-20T09:54:58.706Z"
   },
   {
    "duration": 53,
    "start_time": "2022-03-20T09:54:58.722Z"
   },
   {
    "duration": 13,
    "start_time": "2022-03-20T09:54:58.778Z"
   },
   {
    "duration": 7,
    "start_time": "2022-03-20T09:54:58.793Z"
   },
   {
    "duration": 5,
    "start_time": "2022-03-20T09:54:58.803Z"
   },
   {
    "duration": 77,
    "start_time": "2022-03-20T09:54:58.812Z"
   },
   {
    "duration": 28,
    "start_time": "2022-03-20T09:54:58.891Z"
   },
   {
    "duration": 6,
    "start_time": "2022-03-20T09:54:58.922Z"
   },
   {
    "duration": 1647,
    "start_time": "2022-03-20T09:54:58.931Z"
   },
   {
    "duration": 401,
    "start_time": "2022-03-20T09:55:00.581Z"
   },
   {
    "duration": 73017,
    "start_time": "2022-03-20T09:55:00.985Z"
   },
   {
    "duration": 1463,
    "start_time": "2022-03-20T09:56:14.005Z"
   },
   {
    "duration": 101,
    "start_time": "2022-03-20T09:56:15.471Z"
   },
   {
    "duration": 7,
    "start_time": "2022-03-20T09:56:15.574Z"
   },
   {
    "duration": 53,
    "start_time": "2022-03-20T09:56:15.583Z"
   },
   {
    "duration": 1031,
    "start_time": "2022-03-20T09:56:15.638Z"
   },
   {
    "duration": 116,
    "start_time": "2022-03-20T09:56:16.671Z"
   },
   {
    "duration": 80,
    "start_time": "2022-03-20T09:56:16.791Z"
   },
   {
    "duration": 9,
    "start_time": "2022-03-20T09:56:16.874Z"
   },
   {
    "duration": 82,
    "start_time": "2022-03-20T09:56:16.893Z"
   },
   {
    "duration": 4,
    "start_time": "2022-03-20T09:56:16.978Z"
   },
   {
    "duration": 20,
    "start_time": "2022-03-20T09:56:16.984Z"
   },
   {
    "duration": 1075,
    "start_time": "2022-03-20T09:56:17.007Z"
   },
   {
    "duration": 21,
    "start_time": "2022-03-20T09:56:18.085Z"
   },
   {
    "duration": 70,
    "start_time": "2022-03-20T09:56:18.109Z"
   },
   {
    "duration": 100,
    "start_time": "2022-03-20T09:56:18.182Z"
   },
   {
    "duration": 395,
    "start_time": "2022-03-20T09:56:18.284Z"
   },
   {
    "duration": 5,
    "start_time": "2022-03-20T09:56:18.682Z"
   },
   {
    "duration": 23,
    "start_time": "2022-03-20T09:56:18.690Z"
   },
   {
    "duration": 1657,
    "start_time": "2022-03-20T09:56:18.715Z"
   },
   {
    "duration": 112,
    "start_time": "2022-03-20T09:56:20.376Z"
   },
   {
    "duration": 94,
    "start_time": "2022-03-20T09:56:20.490Z"
   },
   {
    "duration": 262,
    "start_time": "2022-03-20T09:56:20.586Z"
   },
   {
    "duration": 43,
    "start_time": "2022-03-20T09:56:20.850Z"
   },
   {
    "duration": 123,
    "start_time": "2022-03-20T09:56:20.895Z"
   },
   {
    "duration": 1442,
    "start_time": "2022-03-20T09:56:21.021Z"
   },
   {
    "duration": 91375,
    "start_time": "2022-03-20T09:56:22.468Z"
   },
   {
    "duration": 529,
    "start_time": "2022-03-20T09:57:53.846Z"
   },
   {
    "duration": 31339,
    "start_time": "2022-03-20T09:57:54.377Z"
   },
   {
    "duration": 250,
    "start_time": "2022-03-20T09:58:25.718Z"
   },
   {
    "duration": 1614,
    "start_time": "2022-03-20T09:58:25.971Z"
   },
   {
    "duration": 287,
    "start_time": "2022-03-20T09:58:27.588Z"
   },
   {
    "duration": 998,
    "start_time": "2022-03-20T09:58:27.878Z"
   },
   {
    "duration": 2489,
    "start_time": "2022-03-20T09:58:28.881Z"
   },
   {
    "duration": 1127,
    "start_time": "2022-03-20T09:58:31.373Z"
   },
   {
    "duration": 789,
    "start_time": "2022-03-20T09:58:32.502Z"
   },
   {
    "duration": 50,
    "start_time": "2022-03-20T09:58:33.294Z"
   },
   {
    "duration": 30,
    "start_time": "2022-03-20T09:58:33.347Z"
   },
   {
    "duration": 12,
    "start_time": "2022-03-20T09:58:33.380Z"
   },
   {
    "duration": 1709,
    "start_time": "2022-03-20T09:58:33.394Z"
   },
   {
    "duration": 266,
    "start_time": "2022-03-20T09:58:35.105Z"
   },
   {
    "duration": 964,
    "start_time": "2022-03-20T09:59:33.143Z"
   },
   {
    "duration": 672,
    "start_time": "2022-03-20T09:59:57.237Z"
   },
   {
    "duration": 337,
    "start_time": "2022-03-20T10:00:37.896Z"
   },
   {
    "duration": 1937,
    "start_time": "2022-03-20T11:38:59.263Z"
   },
   {
    "duration": 23,
    "start_time": "2022-03-20T11:39:01.203Z"
   },
   {
    "duration": 19,
    "start_time": "2022-03-20T11:39:01.229Z"
   },
   {
    "duration": 18,
    "start_time": "2022-03-20T11:39:01.268Z"
   },
   {
    "duration": 20,
    "start_time": "2022-03-20T11:39:01.290Z"
   },
   {
    "duration": 22,
    "start_time": "2022-03-20T11:39:01.313Z"
   },
   {
    "duration": 59,
    "start_time": "2022-03-20T11:39:01.337Z"
   },
   {
    "duration": 9,
    "start_time": "2022-03-20T11:39:01.399Z"
   },
   {
    "duration": 15,
    "start_time": "2022-03-20T11:39:01.411Z"
   },
   {
    "duration": 37,
    "start_time": "2022-03-20T11:39:01.428Z"
   },
   {
    "duration": 39,
    "start_time": "2022-03-20T11:39:01.467Z"
   },
   {
    "duration": 8,
    "start_time": "2022-03-20T11:39:01.508Z"
   },
   {
    "duration": 11,
    "start_time": "2022-03-20T11:39:01.519Z"
   },
   {
    "duration": 42,
    "start_time": "2022-03-20T11:39:01.536Z"
   },
   {
    "duration": 29,
    "start_time": "2022-03-20T11:39:01.581Z"
   },
   {
    "duration": 6,
    "start_time": "2022-03-20T11:39:01.612Z"
   },
   {
    "duration": 1104,
    "start_time": "2022-03-20T11:39:01.620Z"
   },
   {
    "duration": 285,
    "start_time": "2022-03-20T11:39:02.773Z"
   },
   {
    "duration": 713865,
    "start_time": "2022-03-20T11:39:03.068Z"
   },
   {
    "duration": 1337,
    "start_time": "2022-03-20T11:50:56.936Z"
   },
   {
    "duration": 193,
    "start_time": "2022-03-20T11:50:58.276Z"
   },
   {
    "duration": 9,
    "start_time": "2022-03-20T11:50:58.471Z"
   },
   {
    "duration": 64,
    "start_time": "2022-03-20T11:50:58.483Z"
   },
   {
    "duration": 974,
    "start_time": "2022-03-20T11:50:58.566Z"
   },
   {
    "duration": 44,
    "start_time": "2022-03-20T11:50:59.542Z"
   },
   {
    "duration": 181,
    "start_time": "2022-03-20T11:50:59.588Z"
   },
   {
    "duration": 23,
    "start_time": "2022-03-20T11:50:59.772Z"
   },
   {
    "duration": 51,
    "start_time": "2022-03-20T11:50:59.798Z"
   },
   {
    "duration": 18,
    "start_time": "2022-03-20T11:50:59.851Z"
   },
   {
    "duration": 30,
    "start_time": "2022-03-20T11:50:59.873Z"
   },
   {
    "duration": 1005,
    "start_time": "2022-03-20T11:50:59.905Z"
   },
   {
    "duration": 14,
    "start_time": "2022-03-20T11:51:00.912Z"
   },
   {
    "duration": 140,
    "start_time": "2022-03-20T11:51:00.928Z"
   },
   {
    "duration": 103,
    "start_time": "2022-03-20T11:51:01.070Z"
   },
   {
    "duration": 391,
    "start_time": "2022-03-20T11:51:01.175Z"
   },
   {
    "duration": 7,
    "start_time": "2022-03-20T11:51:01.569Z"
   },
   {
    "duration": 37,
    "start_time": "2022-03-20T11:51:01.579Z"
   },
   {
    "duration": 1554,
    "start_time": "2022-03-20T11:51:01.618Z"
   },
   {
    "duration": 108,
    "start_time": "2022-03-20T11:51:03.175Z"
   },
   {
    "duration": 93,
    "start_time": "2022-03-20T11:51:03.286Z"
   },
   {
    "duration": 265,
    "start_time": "2022-03-20T11:51:03.384Z"
   },
   {
    "duration": 42,
    "start_time": "2022-03-20T11:51:03.652Z"
   },
   {
    "duration": 125,
    "start_time": "2022-03-20T11:51:03.696Z"
   },
   {
    "duration": 1425,
    "start_time": "2022-03-20T11:51:03.823Z"
   },
   {
    "duration": 1016448,
    "start_time": "2022-03-20T11:51:05.250Z"
   },
   {
    "duration": 533,
    "start_time": "2022-03-20T12:08:01.700Z"
   },
   {
    "duration": 405754,
    "start_time": "2022-03-20T12:08:02.236Z"
   },
   {
    "duration": 178,
    "start_time": "2022-03-20T12:14:47.992Z"
   },
   {
    "duration": 1613,
    "start_time": "2022-03-20T12:14:48.172Z"
   },
   {
    "duration": 292,
    "start_time": "2022-03-20T12:14:49.788Z"
   },
   {
    "duration": 1103,
    "start_time": "2022-03-20T12:14:50.168Z"
   },
   {
    "duration": 2347,
    "start_time": "2022-03-20T12:14:51.274Z"
   },
   {
    "duration": 1049,
    "start_time": "2022-03-20T12:14:53.669Z"
   },
   {
    "duration": 756,
    "start_time": "2022-03-20T12:14:54.720Z"
   },
   {
    "duration": 49,
    "start_time": "2022-03-20T12:14:55.479Z"
   },
   {
    "duration": 37,
    "start_time": "2022-03-20T12:14:55.530Z"
   },
   {
    "duration": 10,
    "start_time": "2022-03-20T12:14:55.569Z"
   },
   {
    "duration": 676,
    "start_time": "2022-03-20T12:14:55.581Z"
   },
   {
    "duration": 228,
    "start_time": "2022-03-20T12:14:56.259Z"
   },
   {
    "duration": 188,
    "start_time": "2022-03-20T12:14:56.494Z"
   },
   {
    "duration": 210,
    "start_time": "2022-03-20T12:15:30.125Z"
   },
   {
    "duration": 1467,
    "start_time": "2022-03-20T12:15:52.811Z"
   },
   {
    "duration": 730376,
    "start_time": "2022-03-20T12:16:06.096Z"
   },
   {
    "duration": 35,
    "start_time": "2022-03-20T12:31:34.366Z"
   },
   {
    "duration": 377,
    "start_time": "2022-03-20T12:32:21.308Z"
   },
   {
    "duration": 15,
    "start_time": "2022-03-20T12:33:14.956Z"
   },
   {
    "duration": 31,
    "start_time": "2022-03-20T12:33:37.685Z"
   },
   {
    "duration": 35,
    "start_time": "2022-03-20T12:34:39.946Z"
   },
   {
    "duration": 16,
    "start_time": "2022-03-20T12:35:03.586Z"
   },
   {
    "duration": 406,
    "start_time": "2022-03-20T12:35:57.604Z"
   },
   {
    "duration": 16,
    "start_time": "2022-03-20T12:36:14.710Z"
   },
   {
    "duration": 112,
    "start_time": "2022-03-20T12:36:44.664Z"
   },
   {
    "duration": 16,
    "start_time": "2022-03-20T12:36:46.823Z"
   },
   {
    "duration": 364,
    "start_time": "2022-03-20T12:36:57.254Z"
   },
   {
    "duration": 381,
    "start_time": "2022-03-20T12:38:45.591Z"
   },
   {
    "duration": 503,
    "start_time": "2022-03-20T12:39:04.424Z"
   },
   {
    "duration": 41,
    "start_time": "2022-03-20T12:39:06.849Z"
   },
   {
    "duration": 12,
    "start_time": "2022-03-20T12:39:21.541Z"
   },
   {
    "duration": 1055,
    "start_time": "2022-03-20T12:39:58.639Z"
   },
   {
    "duration": 475,
    "start_time": "2022-03-20T12:40:14.195Z"
   },
   {
    "duration": 512,
    "start_time": "2022-03-20T12:40:24.302Z"
   },
   {
    "duration": 2397,
    "start_time": "2022-03-20T17:07:20.676Z"
   },
   {
    "duration": 24,
    "start_time": "2022-03-20T17:07:23.076Z"
   },
   {
    "duration": 21,
    "start_time": "2022-03-20T17:07:23.102Z"
   },
   {
    "duration": 20,
    "start_time": "2022-03-20T17:07:23.126Z"
   },
   {
    "duration": 39,
    "start_time": "2022-03-20T17:07:23.148Z"
   },
   {
    "duration": 17,
    "start_time": "2022-03-20T17:07:23.189Z"
   },
   {
    "duration": 31,
    "start_time": "2022-03-20T17:07:23.208Z"
   },
   {
    "duration": 42,
    "start_time": "2022-03-20T17:07:23.242Z"
   },
   {
    "duration": 6,
    "start_time": "2022-03-20T17:07:23.286Z"
   },
   {
    "duration": 17,
    "start_time": "2022-03-20T17:07:23.296Z"
   },
   {
    "duration": 14,
    "start_time": "2022-03-20T17:07:23.315Z"
   },
   {
    "duration": 13,
    "start_time": "2022-03-20T17:07:23.331Z"
   },
   {
    "duration": 10,
    "start_time": "2022-03-20T17:07:23.346Z"
   },
   {
    "duration": 66,
    "start_time": "2022-03-20T17:07:23.358Z"
   },
   {
    "duration": 26,
    "start_time": "2022-03-20T17:07:23.427Z"
   },
   {
    "duration": 30,
    "start_time": "2022-03-20T17:07:23.455Z"
   },
   {
    "duration": 1296,
    "start_time": "2022-03-20T17:07:23.488Z"
   },
   {
    "duration": 320,
    "start_time": "2022-03-20T17:07:24.787Z"
   },
   {
    "duration": 11,
    "start_time": "2022-03-20T17:07:25.109Z"
   },
   {
    "duration": 0,
    "start_time": "2022-03-20T17:07:25.124Z"
   },
   {
    "duration": 0,
    "start_time": "2022-03-20T17:07:25.126Z"
   },
   {
    "duration": 0,
    "start_time": "2022-03-20T17:07:25.128Z"
   },
   {
    "duration": 1,
    "start_time": "2022-03-20T17:07:25.129Z"
   },
   {
    "duration": 0,
    "start_time": "2022-03-20T17:07:25.131Z"
   },
   {
    "duration": 0,
    "start_time": "2022-03-20T17:07:25.132Z"
   },
   {
    "duration": 0,
    "start_time": "2022-03-20T17:07:25.134Z"
   },
   {
    "duration": 0,
    "start_time": "2022-03-20T17:07:25.136Z"
   },
   {
    "duration": 0,
    "start_time": "2022-03-20T17:07:25.137Z"
   },
   {
    "duration": 0,
    "start_time": "2022-03-20T17:07:25.138Z"
   },
   {
    "duration": 0,
    "start_time": "2022-03-20T17:07:25.140Z"
   },
   {
    "duration": 0,
    "start_time": "2022-03-20T17:07:25.141Z"
   },
   {
    "duration": 0,
    "start_time": "2022-03-20T17:07:25.143Z"
   },
   {
    "duration": 0,
    "start_time": "2022-03-20T17:07:25.184Z"
   },
   {
    "duration": 0,
    "start_time": "2022-03-20T17:07:25.186Z"
   },
   {
    "duration": 0,
    "start_time": "2022-03-20T17:07:25.187Z"
   },
   {
    "duration": 0,
    "start_time": "2022-03-20T17:07:25.189Z"
   },
   {
    "duration": 0,
    "start_time": "2022-03-20T17:07:25.190Z"
   },
   {
    "duration": 0,
    "start_time": "2022-03-20T17:07:25.192Z"
   },
   {
    "duration": 0,
    "start_time": "2022-03-20T17:07:25.195Z"
   },
   {
    "duration": 0,
    "start_time": "2022-03-20T17:07:25.196Z"
   },
   {
    "duration": 0,
    "start_time": "2022-03-20T17:07:25.197Z"
   },
   {
    "duration": 0,
    "start_time": "2022-03-20T17:07:25.199Z"
   },
   {
    "duration": 0,
    "start_time": "2022-03-20T17:07:25.200Z"
   },
   {
    "duration": 0,
    "start_time": "2022-03-20T17:07:25.202Z"
   },
   {
    "duration": 0,
    "start_time": "2022-03-20T17:07:25.203Z"
   },
   {
    "duration": 0,
    "start_time": "2022-03-20T17:07:25.205Z"
   },
   {
    "duration": 0,
    "start_time": "2022-03-20T17:07:25.206Z"
   },
   {
    "duration": 0,
    "start_time": "2022-03-20T17:07:25.208Z"
   },
   {
    "duration": 0,
    "start_time": "2022-03-20T17:07:25.210Z"
   },
   {
    "duration": 0,
    "start_time": "2022-03-20T17:07:25.211Z"
   },
   {
    "duration": 0,
    "start_time": "2022-03-20T17:07:25.213Z"
   },
   {
    "duration": 0,
    "start_time": "2022-03-20T17:07:25.214Z"
   },
   {
    "duration": 0,
    "start_time": "2022-03-20T17:07:25.216Z"
   },
   {
    "duration": 0,
    "start_time": "2022-03-20T17:07:25.217Z"
   },
   {
    "duration": 0,
    "start_time": "2022-03-20T17:07:25.219Z"
   },
   {
    "duration": 0,
    "start_time": "2022-03-20T17:07:25.284Z"
   },
   {
    "duration": 0,
    "start_time": "2022-03-20T17:07:25.286Z"
   },
   {
    "duration": 0,
    "start_time": "2022-03-20T17:07:25.287Z"
   },
   {
    "duration": 0,
    "start_time": "2022-03-20T17:07:25.289Z"
   },
   {
    "duration": 1950,
    "start_time": "2022-03-20T17:08:43.422Z"
   },
   {
    "duration": 24,
    "start_time": "2022-03-20T17:08:45.375Z"
   },
   {
    "duration": 22,
    "start_time": "2022-03-20T17:08:45.401Z"
   },
   {
    "duration": 21,
    "start_time": "2022-03-20T17:08:45.425Z"
   },
   {
    "duration": 36,
    "start_time": "2022-03-20T17:08:45.449Z"
   },
   {
    "duration": 24,
    "start_time": "2022-03-20T17:08:45.488Z"
   },
   {
    "duration": 32,
    "start_time": "2022-03-20T17:08:45.515Z"
   },
   {
    "duration": 37,
    "start_time": "2022-03-20T17:08:45.549Z"
   },
   {
    "duration": 6,
    "start_time": "2022-03-20T17:08:45.588Z"
   },
   {
    "duration": 15,
    "start_time": "2022-03-20T17:08:45.598Z"
   },
   {
    "duration": 9,
    "start_time": "2022-03-20T17:08:45.616Z"
   },
   {
    "duration": 8,
    "start_time": "2022-03-20T17:08:45.627Z"
   },
   {
    "duration": 9,
    "start_time": "2022-03-20T17:08:45.637Z"
   },
   {
    "duration": 40,
    "start_time": "2022-03-20T17:08:45.684Z"
   },
   {
    "duration": 29,
    "start_time": "2022-03-20T17:08:45.727Z"
   },
   {
    "duration": 28,
    "start_time": "2022-03-20T17:08:45.758Z"
   },
   {
    "duration": 1196,
    "start_time": "2022-03-20T17:08:45.789Z"
   },
   {
    "duration": 323,
    "start_time": "2022-03-20T17:08:46.989Z"
   },
   {
    "duration": 789479,
    "start_time": "2022-03-20T17:08:47.315Z"
   },
   {
    "duration": 1503,
    "start_time": "2022-03-20T17:21:56.797Z"
   },
   {
    "duration": 104,
    "start_time": "2022-03-20T17:21:58.383Z"
   },
   {
    "duration": 8,
    "start_time": "2022-03-20T17:21:58.490Z"
   },
   {
    "duration": 44,
    "start_time": "2022-03-20T17:21:58.500Z"
   },
   {
    "duration": 424,
    "start_time": "2022-03-20T17:21:58.546Z"
   },
   {
    "duration": 39,
    "start_time": "2022-03-20T17:21:58.973Z"
   },
   {
    "duration": 103,
    "start_time": "2022-03-20T17:21:59.085Z"
   },
   {
    "duration": 10,
    "start_time": "2022-03-20T17:21:59.191Z"
   },
   {
    "duration": 38,
    "start_time": "2022-03-20T17:21:59.208Z"
   },
   {
    "duration": 5,
    "start_time": "2022-03-20T17:21:59.284Z"
   },
   {
    "duration": 60,
    "start_time": "2022-03-20T17:21:59.291Z"
   },
   {
    "duration": 406,
    "start_time": "2022-03-20T17:21:59.353Z"
   },
   {
    "duration": 27,
    "start_time": "2022-03-20T17:21:59.761Z"
   },
   {
    "duration": 100,
    "start_time": "2022-03-20T17:21:59.790Z"
   },
   {
    "duration": 102,
    "start_time": "2022-03-20T17:21:59.893Z"
   },
   {
    "duration": 399,
    "start_time": "2022-03-20T17:21:59.997Z"
   },
   {
    "duration": 6,
    "start_time": "2022-03-20T17:22:00.398Z"
   },
   {
    "duration": 30,
    "start_time": "2022-03-20T17:22:00.406Z"
   },
   {
    "duration": 1646,
    "start_time": "2022-03-20T17:22:00.439Z"
   },
   {
    "duration": 115,
    "start_time": "2022-03-20T17:22:02.091Z"
   },
   {
    "duration": 102,
    "start_time": "2022-03-20T17:22:02.208Z"
   },
   {
    "duration": 302,
    "start_time": "2022-03-20T17:22:02.312Z"
   },
   {
    "duration": 36,
    "start_time": "2022-03-20T17:22:02.617Z"
   },
   {
    "duration": 158,
    "start_time": "2022-03-20T17:22:02.657Z"
   },
   {
    "duration": 1533,
    "start_time": "2022-03-20T17:22:02.817Z"
   },
   {
    "duration": 1142881,
    "start_time": "2022-03-20T17:22:04.352Z"
   },
   {
    "duration": 545,
    "start_time": "2022-03-20T17:41:07.235Z"
   },
   {
    "duration": 434074,
    "start_time": "2022-03-20T17:41:07.782Z"
   },
   {
    "duration": 226,
    "start_time": "2022-03-20T17:48:21.858Z"
   },
   {
    "duration": 1619,
    "start_time": "2022-03-20T17:48:22.086Z"
   },
   {
    "duration": 298,
    "start_time": "2022-03-20T17:48:23.786Z"
   },
   {
    "duration": 1204,
    "start_time": "2022-03-20T17:48:24.087Z"
   },
   {
    "duration": 2599,
    "start_time": "2022-03-20T17:48:25.387Z"
   },
   {
    "duration": 544,
    "start_time": "2022-03-20T17:48:27.991Z"
   },
   {
    "duration": 553,
    "start_time": "2022-03-20T17:48:28.538Z"
   },
   {
    "duration": 40,
    "start_time": "2022-03-20T17:48:29.094Z"
   },
   {
    "duration": 11,
    "start_time": "2022-03-20T17:48:29.136Z"
   },
   {
    "duration": 41,
    "start_time": "2022-03-20T17:48:29.150Z"
   },
   {
    "duration": 570,
    "start_time": "2022-03-20T17:48:29.194Z"
   },
   {
    "duration": 228,
    "start_time": "2022-03-20T17:48:29.766Z"
   }
  ],
  "kernelspec": {
   "display_name": "Python 3 (ipykernel)",
   "language": "python",
   "name": "python3"
  },
  "language_info": {
   "codemirror_mode": {
    "name": "ipython",
    "version": 3
   },
   "file_extension": ".py",
   "mimetype": "text/x-python",
   "name": "python",
   "nbconvert_exporter": "python",
   "pygments_lexer": "ipython3",
   "version": "3.9.7"
  },
  "toc": {
   "base_numbering": 1,
   "nav_menu": {},
   "number_sections": true,
   "sideBar": true,
   "skip_h1_title": true,
   "title_cell": "Содержание",
   "title_sidebar": "Contents",
   "toc_cell": true,
   "toc_position": {},
   "toc_section_display": true,
   "toc_window_display": true
  }
 },
 "nbformat": 4,
 "nbformat_minor": 2
}
