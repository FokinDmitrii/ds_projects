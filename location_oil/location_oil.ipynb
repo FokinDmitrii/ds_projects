{
 "cells": [
  {
   "cell_type": "markdown",
   "metadata": {},
   "source": [
    "# Выбор локации для скважины"
   ]
  },
  {
   "cell_type": "markdown",
   "metadata": {},
   "source": [
    "Допустим, вы работаете в добывающей компании «ГлавРосГосНефть». Нужно решить, где бурить новую скважину.\n",
    "\n",
    "Вам предоставлены пробы нефти в трёх регионах: в каждом 10 000 месторождений, где измерили качество нефти и объём её запасов. Постройте модель машинного обучения, которая поможет определить регион, где добыча принесёт наибольшую прибыль. Проанализируйте возможную прибыль и риски техникой *Bootstrap.*\n",
    "\n",
    "Шаги для выбора локации:\n",
    "\n",
    "- В избранном регионе ищут месторождения, для каждого определяют значения признаков;\n",
    "- Строят модель и оценивают объём запасов;\n",
    "- Выбирают месторождения с самым высокими оценками значений. Количество месторождений зависит от бюджета компании и стоимости разработки одной скважины;\n",
    "- Прибыль равна суммарной прибыли отобранных месторождений."
   ]
  },
  {
   "cell_type": "markdown",
   "metadata": {},
   "source": [
    "## Загрузка и подготовка данных"
   ]
  },
  {
   "cell_type": "code",
   "execution_count": 1,
   "metadata": {},
   "outputs": [
    {
     "data": {
      "text/html": [
       "<div>\n",
       "<style scoped>\n",
       "    .dataframe tbody tr th:only-of-type {\n",
       "        vertical-align: middle;\n",
       "    }\n",
       "\n",
       "    .dataframe tbody tr th {\n",
       "        vertical-align: top;\n",
       "    }\n",
       "\n",
       "    .dataframe thead th {\n",
       "        text-align: right;\n",
       "    }\n",
       "</style>\n",
       "<table border=\"1\" class=\"dataframe\">\n",
       "  <thead>\n",
       "    <tr style=\"text-align: right;\">\n",
       "      <th></th>\n",
       "      <th>id</th>\n",
       "      <th>f0</th>\n",
       "      <th>f1</th>\n",
       "      <th>f2</th>\n",
       "      <th>product</th>\n",
       "    </tr>\n",
       "  </thead>\n",
       "  <tbody>\n",
       "    <tr>\n",
       "      <th>0</th>\n",
       "      <td>kBEdx</td>\n",
       "      <td>-15.001348</td>\n",
       "      <td>-8.276000</td>\n",
       "      <td>-0.005876</td>\n",
       "      <td>3.179103</td>\n",
       "    </tr>\n",
       "    <tr>\n",
       "      <th>1</th>\n",
       "      <td>62mP7</td>\n",
       "      <td>14.272088</td>\n",
       "      <td>-3.475083</td>\n",
       "      <td>0.999183</td>\n",
       "      <td>26.953261</td>\n",
       "    </tr>\n",
       "    <tr>\n",
       "      <th>2</th>\n",
       "      <td>vyE1P</td>\n",
       "      <td>6.263187</td>\n",
       "      <td>-5.948386</td>\n",
       "      <td>5.001160</td>\n",
       "      <td>134.766305</td>\n",
       "    </tr>\n",
       "    <tr>\n",
       "      <th>3</th>\n",
       "      <td>KcrkZ</td>\n",
       "      <td>-13.081196</td>\n",
       "      <td>-11.506057</td>\n",
       "      <td>4.999415</td>\n",
       "      <td>137.945408</td>\n",
       "    </tr>\n",
       "    <tr>\n",
       "      <th>4</th>\n",
       "      <td>AHL4O</td>\n",
       "      <td>12.702195</td>\n",
       "      <td>-8.147433</td>\n",
       "      <td>5.004363</td>\n",
       "      <td>134.766305</td>\n",
       "    </tr>\n",
       "    <tr>\n",
       "      <th>...</th>\n",
       "      <td>...</td>\n",
       "      <td>...</td>\n",
       "      <td>...</td>\n",
       "      <td>...</td>\n",
       "      <td>...</td>\n",
       "    </tr>\n",
       "    <tr>\n",
       "      <th>99995</th>\n",
       "      <td>QywKC</td>\n",
       "      <td>9.535637</td>\n",
       "      <td>-6.878139</td>\n",
       "      <td>1.998296</td>\n",
       "      <td>53.906522</td>\n",
       "    </tr>\n",
       "    <tr>\n",
       "      <th>99996</th>\n",
       "      <td>ptvty</td>\n",
       "      <td>-10.160631</td>\n",
       "      <td>-12.558096</td>\n",
       "      <td>5.005581</td>\n",
       "      <td>137.945408</td>\n",
       "    </tr>\n",
       "    <tr>\n",
       "      <th>99997</th>\n",
       "      <td>09gWa</td>\n",
       "      <td>-7.378891</td>\n",
       "      <td>-3.084104</td>\n",
       "      <td>4.998651</td>\n",
       "      <td>137.945408</td>\n",
       "    </tr>\n",
       "    <tr>\n",
       "      <th>99998</th>\n",
       "      <td>rqwUm</td>\n",
       "      <td>0.665714</td>\n",
       "      <td>-6.152593</td>\n",
       "      <td>1.000146</td>\n",
       "      <td>30.132364</td>\n",
       "    </tr>\n",
       "    <tr>\n",
       "      <th>99999</th>\n",
       "      <td>relB0</td>\n",
       "      <td>-3.426139</td>\n",
       "      <td>-7.794274</td>\n",
       "      <td>-0.003299</td>\n",
       "      <td>3.179103</td>\n",
       "    </tr>\n",
       "  </tbody>\n",
       "</table>\n",
       "<p>100000 rows × 5 columns</p>\n",
       "</div>"
      ],
      "text/plain": [
       "          id         f0         f1        f2     product\n",
       "0      kBEdx -15.001348  -8.276000 -0.005876    3.179103\n",
       "1      62mP7  14.272088  -3.475083  0.999183   26.953261\n",
       "2      vyE1P   6.263187  -5.948386  5.001160  134.766305\n",
       "3      KcrkZ -13.081196 -11.506057  4.999415  137.945408\n",
       "4      AHL4O  12.702195  -8.147433  5.004363  134.766305\n",
       "...      ...        ...        ...       ...         ...\n",
       "99995  QywKC   9.535637  -6.878139  1.998296   53.906522\n",
       "99996  ptvty -10.160631 -12.558096  5.005581  137.945408\n",
       "99997  09gWa  -7.378891  -3.084104  4.998651  137.945408\n",
       "99998  rqwUm   0.665714  -6.152593  1.000146   30.132364\n",
       "99999  relB0  -3.426139  -7.794274 -0.003299    3.179103\n",
       "\n",
       "[100000 rows x 5 columns]"
      ]
     },
     "execution_count": 1,
     "metadata": {},
     "output_type": "execute_result"
    }
   ],
   "source": [
    "import pandas as pd\n",
    "import numpy as np\n",
    "from sklearn.model_selection import train_test_split\n",
    "from sklearn.preprocessing import StandardScaler\n",
    "from sklearn.linear_model import LinearRegression\n",
    "from sklearn.metrics import mean_squared_error\n",
    "from sklearn.metrics import mean_absolute_error\n",
    "\n",
    "data0 = pd.read_csv('/datasets/geo_data_0.csv')\n",
    "data1 = pd.read_csv('/datasets/geo_data_1.csv')\n",
    "data2 = pd.read_csv('/datasets/geo_data_2.csv')\n",
    "data1"
   ]
  },
  {
   "cell_type": "code",
   "execution_count": 2,
   "metadata": {},
   "outputs": [
    {
     "name": "stdout",
     "output_type": "stream",
     "text": [
      "<class 'pandas.core.frame.DataFrame'>\n",
      "RangeIndex: 100000 entries, 0 to 99999\n",
      "Data columns (total 5 columns):\n",
      " #   Column   Non-Null Count   Dtype  \n",
      "---  ------   --------------   -----  \n",
      " 0   id       100000 non-null  object \n",
      " 1   f0       100000 non-null  float64\n",
      " 2   f1       100000 non-null  float64\n",
      " 3   f2       100000 non-null  float64\n",
      " 4   product  100000 non-null  float64\n",
      "dtypes: float64(4), object(1)\n",
      "memory usage: 3.8+ MB\n"
     ]
    }
   ],
   "source": [
    "data0.info()"
   ]
  },
  {
   "cell_type": "code",
   "execution_count": 3,
   "metadata": {},
   "outputs": [
    {
     "name": "stdout",
     "output_type": "stream",
     "text": [
      "<class 'pandas.core.frame.DataFrame'>\n",
      "RangeIndex: 100000 entries, 0 to 99999\n",
      "Data columns (total 5 columns):\n",
      " #   Column   Non-Null Count   Dtype  \n",
      "---  ------   --------------   -----  \n",
      " 0   id       100000 non-null  object \n",
      " 1   f0       100000 non-null  float64\n",
      " 2   f1       100000 non-null  float64\n",
      " 3   f2       100000 non-null  float64\n",
      " 4   product  100000 non-null  float64\n",
      "dtypes: float64(4), object(1)\n",
      "memory usage: 3.8+ MB\n"
     ]
    }
   ],
   "source": [
    "data1.info()"
   ]
  },
  {
   "cell_type": "code",
   "execution_count": 4,
   "metadata": {},
   "outputs": [
    {
     "name": "stdout",
     "output_type": "stream",
     "text": [
      "<class 'pandas.core.frame.DataFrame'>\n",
      "RangeIndex: 100000 entries, 0 to 99999\n",
      "Data columns (total 5 columns):\n",
      " #   Column   Non-Null Count   Dtype  \n",
      "---  ------   --------------   -----  \n",
      " 0   id       100000 non-null  object \n",
      " 1   f0       100000 non-null  float64\n",
      " 2   f1       100000 non-null  float64\n",
      " 3   f2       100000 non-null  float64\n",
      " 4   product  100000 non-null  float64\n",
      "dtypes: float64(4), object(1)\n",
      "memory usage: 3.8+ MB\n"
     ]
    }
   ],
   "source": [
    "data2.info()"
   ]
  },
  {
   "cell_type": "markdown",
   "metadata": {},
   "source": [
    "Количество данных одинаково по 100000 объектов. Признак \"id\" нам не нужен для обучения модели. Целевым признаком будет \"product\". Разделим данные на обучающую и валидационную."
   ]
  },
  {
   "cell_type": "code",
   "execution_count": 5,
   "metadata": {},
   "outputs": [
    {
     "data": {
      "text/html": [
       "<div>\n",
       "<style scoped>\n",
       "    .dataframe tbody tr th:only-of-type {\n",
       "        vertical-align: middle;\n",
       "    }\n",
       "\n",
       "    .dataframe tbody tr th {\n",
       "        vertical-align: top;\n",
       "    }\n",
       "\n",
       "    .dataframe thead th {\n",
       "        text-align: right;\n",
       "    }\n",
       "</style>\n",
       "<table border=\"1\" class=\"dataframe\">\n",
       "  <thead>\n",
       "    <tr style=\"text-align: right;\">\n",
       "      <th></th>\n",
       "      <th>f0</th>\n",
       "      <th>f1</th>\n",
       "      <th>f2</th>\n",
       "      <th>product</th>\n",
       "    </tr>\n",
       "  </thead>\n",
       "  <tbody>\n",
       "    <tr>\n",
       "      <th>0</th>\n",
       "      <td>0.705745</td>\n",
       "      <td>-0.497823</td>\n",
       "      <td>1.221170</td>\n",
       "      <td>105.280062</td>\n",
       "    </tr>\n",
       "    <tr>\n",
       "      <th>1</th>\n",
       "      <td>1.334711</td>\n",
       "      <td>-0.340164</td>\n",
       "      <td>4.365080</td>\n",
       "      <td>73.037750</td>\n",
       "    </tr>\n",
       "    <tr>\n",
       "      <th>2</th>\n",
       "      <td>1.022732</td>\n",
       "      <td>0.151990</td>\n",
       "      <td>1.419926</td>\n",
       "      <td>85.265647</td>\n",
       "    </tr>\n",
       "    <tr>\n",
       "      <th>3</th>\n",
       "      <td>-0.032172</td>\n",
       "      <td>0.139033</td>\n",
       "      <td>2.978566</td>\n",
       "      <td>168.620776</td>\n",
       "    </tr>\n",
       "    <tr>\n",
       "      <th>4</th>\n",
       "      <td>1.988431</td>\n",
       "      <td>0.155413</td>\n",
       "      <td>4.751769</td>\n",
       "      <td>154.036647</td>\n",
       "    </tr>\n",
       "    <tr>\n",
       "      <th>...</th>\n",
       "      <td>...</td>\n",
       "      <td>...</td>\n",
       "      <td>...</td>\n",
       "      <td>...</td>\n",
       "    </tr>\n",
       "    <tr>\n",
       "      <th>99995</th>\n",
       "      <td>0.971957</td>\n",
       "      <td>0.370953</td>\n",
       "      <td>6.075346</td>\n",
       "      <td>110.744026</td>\n",
       "    </tr>\n",
       "    <tr>\n",
       "      <th>99996</th>\n",
       "      <td>1.392429</td>\n",
       "      <td>-0.382606</td>\n",
       "      <td>1.273912</td>\n",
       "      <td>122.346843</td>\n",
       "    </tr>\n",
       "    <tr>\n",
       "      <th>99997</th>\n",
       "      <td>1.029585</td>\n",
       "      <td>0.018787</td>\n",
       "      <td>-1.348308</td>\n",
       "      <td>64.375443</td>\n",
       "    </tr>\n",
       "    <tr>\n",
       "      <th>99998</th>\n",
       "      <td>0.998163</td>\n",
       "      <td>-0.528582</td>\n",
       "      <td>1.583869</td>\n",
       "      <td>74.040764</td>\n",
       "    </tr>\n",
       "    <tr>\n",
       "      <th>99999</th>\n",
       "      <td>1.764754</td>\n",
       "      <td>-0.266417</td>\n",
       "      <td>5.722849</td>\n",
       "      <td>149.633246</td>\n",
       "    </tr>\n",
       "  </tbody>\n",
       "</table>\n",
       "<p>100000 rows × 4 columns</p>\n",
       "</div>"
      ],
      "text/plain": [
       "             f0        f1        f2     product\n",
       "0      0.705745 -0.497823  1.221170  105.280062\n",
       "1      1.334711 -0.340164  4.365080   73.037750\n",
       "2      1.022732  0.151990  1.419926   85.265647\n",
       "3     -0.032172  0.139033  2.978566  168.620776\n",
       "4      1.988431  0.155413  4.751769  154.036647\n",
       "...         ...       ...       ...         ...\n",
       "99995  0.971957  0.370953  6.075346  110.744026\n",
       "99996  1.392429 -0.382606  1.273912  122.346843\n",
       "99997  1.029585  0.018787 -1.348308   64.375443\n",
       "99998  0.998163 -0.528582  1.583869   74.040764\n",
       "99999  1.764754 -0.266417  5.722849  149.633246\n",
       "\n",
       "[100000 rows x 4 columns]"
      ]
     },
     "execution_count": 5,
     "metadata": {},
     "output_type": "execute_result"
    }
   ],
   "source": [
    "df_0 = data0.drop(['id'], axis=1)\n",
    "df_1 = data1.drop(['id'], axis=1)\n",
    "df_2 = data2.drop(['id'], axis=1)\n",
    "df_0"
   ]
  },
  {
   "cell_type": "code",
   "execution_count": 6,
   "metadata": {},
   "outputs": [
    {
     "data": {
      "text/plain": [
       "(92.64046775305692, 92.07859674082927)"
      ]
     },
     "execution_count": 6,
     "metadata": {},
     "output_type": "execute_result"
    }
   ],
   "source": [
    "# функция разделения данных\n",
    "def split(df):\n",
    "    target = df['product']\n",
    "    features = df.drop(['product'], axis=1)\n",
    "    features_train, features_valid, target_train, target_valid = train_test_split(\\\n",
    "    features, target, test_size=0.25, random_state=12345)\n",
    "    return features_train, features_valid, target_train, target_valid\n",
    "features_train_0, features_valid_0, target_train_0, target_valid_0 = split(df_0)\n",
    "target_train_0.mean(), target_valid_0.mean()"
   ]
  },
  {
   "cell_type": "code",
   "execution_count": 7,
   "metadata": {},
   "outputs": [
    {
     "data": {
      "text/plain": [
       "(68.85895465854666, 68.72313602435997)"
      ]
     },
     "execution_count": 7,
     "metadata": {},
     "output_type": "execute_result"
    }
   ],
   "source": [
    "features_train_1, features_valid_1, target_train_1, target_valid_1 = split(df_1)\n",
    "target_train_1.mean(), target_valid_1.mean()"
   ]
  },
  {
   "cell_type": "code",
   "execution_count": 8,
   "metadata": {},
   "outputs": [
    {
     "data": {
      "text/plain": [
       "(95.03858906371522, 94.88423280885438)"
      ]
     },
     "execution_count": 8,
     "metadata": {},
     "output_type": "execute_result"
    }
   ],
   "source": [
    "features_train_2, features_valid_2, target_train_2, target_valid_2 = split(df_2)\n",
    "target_train_2.mean(), target_valid_2.mean()"
   ]
  },
  {
   "cell_type": "markdown",
   "metadata": {},
   "source": [
    "На первый взгляд во втором регионе среднее количество запасов меньше чем в остальных. Большее среднее количество продукта в третьем регионе."
   ]
  },
  {
   "cell_type": "markdown",
   "metadata": {},
   "source": [
    "## Обучение и проверка модели"
   ]
  },
  {
   "cell_type": "code",
   "execution_count": 9,
   "metadata": {},
   "outputs": [],
   "source": [
    "# функция обучения модели\n",
    "def LgR(features_train, target_train, features_valid):\n",
    "    model = LinearRegression()\n",
    "    model.fit(features_train, target_train)\n",
    "    predicted_valid = model.predict(features_valid)\n",
    "    return predicted_valid\n"
   ]
  },
  {
   "cell_type": "markdown",
   "metadata": {},
   "source": [
    "Теперь расчитаем предполагаемую выручку по все регионам. Так же вычислим разброс показателей от среднего значения."
   ]
  },
  {
   "cell_type": "code",
   "execution_count": 10,
   "metadata": {},
   "outputs": [
    {
     "data": {
      "text/plain": [
       "([37.5794217150813, 0.893099286775617, 40.02970873393434],\n",
       " [30.919600777151313, 0.7187662442124758, 32.792652105481814])"
      ]
     },
     "execution_count": 10,
     "metadata": {},
     "output_type": "execute_result"
    }
   ],
   "source": [
    "predicted_valid_0 = LgR(features_train_0, target_train_0, features_valid_0)\n",
    "predicted_valid_1 = LgR(features_train_1, target_train_1, features_valid_1)\n",
    "predicted_valid_2 = LgR(features_train_2, target_train_2, features_valid_2)\n",
    "# расчет RMSE и MAE\n",
    "rmse = []\n",
    "mae = []\n",
    "predicted_all = [predicted_valid_0,predicted_valid_1,predicted_valid_2]\n",
    "target_all = [target_valid_0,target_valid_1,target_valid_2]\n",
    "for predicted, target in zip(predicted_all, target_all):\n",
    "    rmse.append(mean_squared_error(target, predicted)**0.5)\n",
    "    mae.append(mean_absolute_error(target, predicted))\n",
    "\n",
    "rmse, mae"
   ]
  },
  {
   "cell_type": "markdown",
   "metadata": {},
   "source": [
    "Видно что в первом и третьем регионе модель имеет большие отклонения, второй регион показывает меньший разброс."
   ]
  },
  {
   "cell_type": "markdown",
   "metadata": {},
   "source": [
    "## Подготовка к расчёту прибыли"
   ]
  },
  {
   "cell_type": "code",
   "execution_count": 11,
   "metadata": {},
   "outputs": [],
   "source": [
    "# создадим переменные\n",
    "number = 500\n",
    "count = 200\n",
    "budget = 10000\n",
    "price = 0.45"
   ]
  },
  {
   "cell_type": "markdown",
   "metadata": {},
   "source": [
    "Расчитаем достаточное количество сырья для безубыточности"
   ]
  },
  {
   "cell_type": "code",
   "execution_count": 12,
   "metadata": {},
   "outputs": [
    {
     "data": {
      "text/plain": [
       "111.11111111111111"
      ]
     },
     "execution_count": 12,
     "metadata": {},
     "output_type": "execute_result"
    }
   ],
   "source": [
    "product_min = budget/price/count\n",
    "product_min"
   ]
  },
  {
   "cell_type": "markdown",
   "metadata": {},
   "source": [
    "добыча больше 111 тысяч на точку нам обеспечит неубыточность региона, тогда необходимо оценить среднее количество продукта по регионам"
   ]
  },
  {
   "cell_type": "code",
   "execution_count": 13,
   "metadata": {},
   "outputs": [
    {
     "name": "stdout",
     "output_type": "stream",
     "text": [
      "среднее всего региона 92.50000000000001\n",
      "среднее 200 лучших    184.83373964536008\n",
      "среднее всего региона 68.82500000000002\n",
      "среднее 200 лучших    137.9454077409057\n",
      "среднее всего региона 95.00000000000004\n",
      "среднее 200 лучших    189.55147698176646\n"
     ]
    }
   ],
   "source": [
    "df_all = [df_0, df_1, df_2]\n",
    "for i in range(len(df_all)):\n",
    "    print('среднее всего региона', df_all[i]['product'].mean())\n",
    "    print('среднее 200 лучших   ',df_all[i]['product'].sort_values(ascending=False).head(200).mean())"
   ]
  },
  {
   "cell_type": "markdown",
   "metadata": {},
   "source": [
    "Первый и третий регион обладают большим средним запасом нефти и скорее всего среди них будет достаточное количество скважин для разработок в пределаж бюджета. А из 200 лучших точек средние объемы превышают минимальный показатель."
   ]
  },
  {
   "cell_type": "markdown",
   "metadata": {},
   "source": [
    "## Расчёт прибыли и рисков "
   ]
  },
  {
   "cell_type": "markdown",
   "metadata": {},
   "source": [
    "Расчитаем потенциальную прибыль с 200 лучших точек."
   ]
  },
  {
   "cell_type": "code",
   "execution_count": 14,
   "metadata": {},
   "outputs": [
    {
     "name": "stdout",
     "output_type": "stream",
     "text": [
      "3.32082604313985\n",
      "2.415086696681512\n",
      "2.7103499635998323\n"
     ]
    }
   ],
   "source": [
    "# функция расчета прибыли\n",
    "def profit(target_valid, predicted_valid, count):\n",
    "    predict_best = predicted_valid.sort_values(ascending=False)\n",
    "    volume = target_valid[predict_best.index][:count]\n",
    "    profit = (price * volume.sum() - budget)/1000\n",
    "    return profit\n",
    "for target, predicted in zip(target_all, predicted_all):\n",
    "    target=target.reset_index(drop=True)\n",
    "    predicted=pd.Series(predicted)\n",
    "    print(profit(target, predicted, 200))\n"
   ]
  },
  {
   "cell_type": "markdown",
   "metadata": {},
   "source": [
    "Выручка по регионам не сильно отличается. Но у нас не все данные в выборке. Для верного расчета надо взять весь перечень точек."
   ]
  },
  {
   "cell_type": "code",
   "execution_count": 15,
   "metadata": {},
   "outputs": [],
   "source": [
    "features_0 = df_0.drop(['product'], axis=1)\n",
    "features_1 = df_1.drop(['product'], axis=1)\n",
    "features_2 = df_2.drop(['product'], axis=1)\n",
    "target_0 = df_0['product']\n",
    "target_1 = df_1['product']\n",
    "target_2 = df_2['product']"
   ]
  },
  {
   "cell_type": "markdown",
   "metadata": {},
   "source": [
    "Расчитаем предсказания"
   ]
  },
  {
   "cell_type": "code",
   "execution_count": 16,
   "metadata": {},
   "outputs": [
    {
     "data": {
      "text/plain": [
       "0         95.461973\n",
       "1        116.227394\n",
       "2         88.750254\n",
       "3         95.419237\n",
       "4        114.138969\n",
       "            ...    \n",
       "99995    116.174856\n",
       "99996     96.652519\n",
       "99997     72.401340\n",
       "99998     99.337548\n",
       "99999    125.684762\n",
       "Length: 100000, dtype: float64"
      ]
     },
     "execution_count": 16,
     "metadata": {},
     "output_type": "execute_result"
    }
   ],
   "source": [
    "predict_0 = LgR(features_train_0, target_train_0, features_0)\n",
    "predict_0=pd.Series(predict_0)\n",
    "predict_1 = LgR(features_train_1, target_train_1, features_1)\n",
    "predict_1=pd.Series(predict_1)\n",
    "predict_2 = LgR(features_train_2, target_train_2, features_2)\n",
    "predict_2=pd.Series(predict_2)\n",
    "predict_0"
   ]
  },
  {
   "cell_type": "markdown",
   "metadata": {},
   "source": [
    "Расчитаем прибыль на всей выберке"
   ]
  },
  {
   "cell_type": "code",
   "execution_count": 17,
   "metadata": {},
   "outputs": [
    {
     "name": "stdout",
     "output_type": "stream",
     "text": [
      "прибыль первого региона 3.4941041921120157\n",
      "прибыль второго региона 2.415086696681512\n",
      "прибыль третьего региона 2.571410631960929\n"
     ]
    }
   ],
   "source": [
    "profit_0 = profit(target_0, predict_0, 200)\n",
    "profit_1 = profit(target_1, predict_1, 200)\n",
    "profit_2 = profit(target_2, predict_2, 200)\n",
    "print('прибыль первого региона', profit_0)\n",
    "print('прибыль второго региона', profit_1)\n",
    "print('прибыль третьего региона', profit_2)"
   ]
  },
  {
   "cell_type": "markdown",
   "metadata": {},
   "source": [
    "Потенциальная прибыль первого региона выше остальных.\n",
    "\n",
    "Расчитаем риски неполучения прибыли по регионам."
   ]
  },
  {
   "cell_type": "code",
   "execution_count": 18,
   "metadata": {},
   "outputs": [],
   "source": [
    "state = np.random.RandomState(12345)\n",
    "# функция расчета рисков\n",
    "def risks(target, predictions):\n",
    "    values=[]\n",
    "    for i in range(1000):\n",
    "        target_subsample=target.sample(n=500, replace=True, random_state=state)\n",
    "        probs_subsample=predictions[target_subsample.index]\n",
    "        values.append(profit(target_subsample, probs_subsample, 200))\n",
    "    values = pd.Series(values)\n",
    "    mean = values.mean()\n",
    "    lower = values.quantile(0.025)\n",
    "    upper = values.quantile(0.975)\n",
    "    risk = (values[values<0].count()/len(values))*100\n",
    "    print('Средняя прогнозируемая прибыль равна', mean)\n",
    "    print('С вероятностью 95% прибыль будет от', lower, 'до', upper, 'млрд. руб.')\n",
    "    print('риск убытка', risk)"
   ]
  },
  {
   "cell_type": "code",
   "execution_count": 19,
   "metadata": {},
   "outputs": [
    {
     "name": "stdout",
     "output_type": "stream",
     "text": [
      "Прогноз для первого региона\n",
      "Средняя прогнозируемая прибыль равна 0.4310923134956579\n",
      "С вероятностью 95% прибыль будет от -0.07054176729685392 до 0.9790196590485124 млрд. руб.\n",
      "риск убытка 5.1\n"
     ]
    }
   ],
   "source": [
    "print('Прогноз для первого региона')\n",
    "risks(target_0, predict_0)"
   ]
  },
  {
   "cell_type": "code",
   "execution_count": 20,
   "metadata": {},
   "outputs": [
    {
     "name": "stdout",
     "output_type": "stream",
     "text": [
      "Прогноз для второго региона\n",
      "Средняя прогнозируемая прибыль равна 0.45007168261029573\n",
      "С вероятностью 95% прибыль будет от 0.044596630492171566 до 0.8307963015211544 млрд. руб.\n",
      "риск убытка 1.0\n"
     ]
    }
   ],
   "source": [
    "print('Прогноз для второго региона')\n",
    "risks(target_1, predict_1)"
   ]
  },
  {
   "cell_type": "code",
   "execution_count": 21,
   "metadata": {},
   "outputs": [
    {
     "name": "stdout",
     "output_type": "stream",
     "text": [
      "Прогноз для третьего региона\n",
      "Средняя прогнозируемая прибыль равна 0.39218018842906227\n",
      "С вероятностью 95% прибыль будет от -0.14830850390371483 до 0.884150739869968 млрд. руб.\n",
      "риск убытка 8.3\n"
     ]
    }
   ],
   "source": [
    "print('Прогноз для третьего региона')\n",
    "risks(target_2, predict_2)"
   ]
  },
  {
   "cell_type": "markdown",
   "metadata": {},
   "source": [
    "Самый низкий показатель риска убытка у второго региона. \n",
    "\n",
    "**Вывод: Мы выбрали модель Логистической регрессии и обучили ее на обучающей выборке для каждого региона. Сверив средние показатели запасов нефти в регионах определили что в третьем регионе среднее количиство запасов больше чем в остальных. Провели расчет предполагаемой прибыли и установили что во втором регионе она выше остальных. И сравнив вероятность убыточности выяснили что во втором регионе с вероятностью 95% разработки будут не убыточными от 0,045 до 0,83 млрд. руб. и риск убытка 1% что удовлетворяет поставленную задачу**"
   ]
  },
  {
   "cell_type": "code",
   "execution_count": null,
   "metadata": {},
   "outputs": [],
   "source": []
  }
 ],
 "metadata": {
  "ExecuteTimeLog": [
   {
    "duration": 953,
    "start_time": "2022-03-26T11:19:52.216Z"
   },
   {
    "duration": 469,
    "start_time": "2022-03-26T11:20:23.885Z"
   },
   {
    "duration": 426,
    "start_time": "2022-03-26T11:20:46.957Z"
   },
   {
    "duration": 425,
    "start_time": "2022-03-26T11:20:52.919Z"
   },
   {
    "duration": 449,
    "start_time": "2022-03-26T11:21:07.323Z"
   },
   {
    "duration": 453,
    "start_time": "2022-03-26T11:21:17.845Z"
   },
   {
    "duration": 23,
    "start_time": "2022-03-26T11:21:24.894Z"
   },
   {
    "duration": 20,
    "start_time": "2022-03-26T11:21:58.419Z"
   },
   {
    "duration": 20,
    "start_time": "2022-03-26T11:22:11.195Z"
   },
   {
    "duration": 1419,
    "start_time": "2022-03-28T15:17:24.347Z"
   },
   {
    "duration": 15,
    "start_time": "2022-03-28T15:17:37.028Z"
   },
   {
    "duration": 13,
    "start_time": "2022-03-28T15:17:42.734Z"
   },
   {
    "duration": 14,
    "start_time": "2022-03-28T15:17:48.439Z"
   },
   {
    "duration": 105,
    "start_time": "2022-03-28T15:19:02.693Z"
   },
   {
    "duration": 21,
    "start_time": "2022-03-28T15:20:12.467Z"
   },
   {
    "duration": 12,
    "start_time": "2022-03-28T15:39:44.089Z"
   },
   {
    "duration": 23,
    "start_time": "2022-03-28T15:40:03.840Z"
   },
   {
    "duration": 17,
    "start_time": "2022-03-28T15:40:17.325Z"
   },
   {
    "duration": 16,
    "start_time": "2022-03-28T15:40:32.794Z"
   },
   {
    "duration": 19,
    "start_time": "2022-03-28T15:40:58.846Z"
   },
   {
    "duration": 15,
    "start_time": "2022-03-28T15:42:11.192Z"
   },
   {
    "duration": 16,
    "start_time": "2022-03-28T15:42:44.891Z"
   },
   {
    "duration": 378,
    "start_time": "2022-03-28T15:45:00.789Z"
   },
   {
    "duration": 217,
    "start_time": "2022-03-28T17:33:34.076Z"
   },
   {
    "duration": 4,
    "start_time": "2022-03-28T17:33:36.566Z"
   },
   {
    "duration": 121,
    "start_time": "2022-03-28T17:33:38.788Z"
   },
   {
    "duration": 10,
    "start_time": "2022-03-28T17:34:09.338Z"
   },
   {
    "duration": 2336,
    "start_time": "2022-03-28T17:34:14.506Z"
   },
   {
    "duration": 22,
    "start_time": "2022-03-28T17:34:16.846Z"
   },
   {
    "duration": 31,
    "start_time": "2022-03-28T17:34:16.883Z"
   },
   {
    "duration": 29,
    "start_time": "2022-03-28T17:34:16.917Z"
   },
   {
    "duration": 58,
    "start_time": "2022-03-28T17:34:16.950Z"
   },
   {
    "duration": 36,
    "start_time": "2022-03-28T17:34:17.010Z"
   },
   {
    "duration": 43,
    "start_time": "2022-03-28T17:34:17.049Z"
   },
   {
    "duration": 21,
    "start_time": "2022-03-28T17:34:17.095Z"
   },
   {
    "duration": 4,
    "start_time": "2022-03-28T17:34:17.119Z"
   },
   {
    "duration": 259,
    "start_time": "2022-03-28T17:34:17.126Z"
   },
   {
    "duration": 684,
    "start_time": "2022-03-28T17:34:38.698Z"
   },
   {
    "duration": 392,
    "start_time": "2022-03-28T17:35:49.593Z"
   },
   {
    "duration": 416,
    "start_time": "2022-03-28T17:46:07.658Z"
   },
   {
    "duration": 328,
    "start_time": "2022-03-28T17:47:48.355Z"
   },
   {
    "duration": 68,
    "start_time": "2022-03-28T19:19:17.544Z"
   },
   {
    "duration": 1926,
    "start_time": "2022-03-28T19:19:26.028Z"
   },
   {
    "duration": 28,
    "start_time": "2022-03-28T19:19:27.957Z"
   },
   {
    "duration": 19,
    "start_time": "2022-03-28T19:19:27.987Z"
   },
   {
    "duration": 18,
    "start_time": "2022-03-28T19:19:28.008Z"
   },
   {
    "duration": 57,
    "start_time": "2022-03-28T19:19:28.029Z"
   },
   {
    "duration": 20,
    "start_time": "2022-03-28T19:19:28.088Z"
   },
   {
    "duration": 20,
    "start_time": "2022-03-28T19:19:28.110Z"
   },
   {
    "duration": 49,
    "start_time": "2022-03-28T19:19:28.133Z"
   },
   {
    "duration": 4,
    "start_time": "2022-03-28T19:19:28.185Z"
   },
   {
    "duration": 289,
    "start_time": "2022-03-28T19:19:28.191Z"
   },
   {
    "duration": 5,
    "start_time": "2022-03-28T19:19:28.570Z"
   },
   {
    "duration": 152,
    "start_time": "2022-03-28T19:19:28.667Z"
   },
   {
    "duration": 17,
    "start_time": "2022-03-28T19:19:45.331Z"
   },
   {
    "duration": 18,
    "start_time": "2022-03-28T19:20:18.435Z"
   },
   {
    "duration": 127,
    "start_time": "2022-03-28T19:21:13.459Z"
   },
   {
    "duration": 32,
    "start_time": "2022-03-28T19:22:25.025Z"
   },
   {
    "duration": 13,
    "start_time": "2022-03-28T19:24:52.108Z"
   },
   {
    "duration": 11,
    "start_time": "2022-03-28T19:25:10.032Z"
   },
   {
    "duration": 31,
    "start_time": "2022-03-28T19:25:33.160Z"
   },
   {
    "duration": 19,
    "start_time": "2022-03-28T19:26:37.235Z"
   },
   {
    "duration": 7,
    "start_time": "2022-03-28T19:26:44.311Z"
   },
   {
    "duration": 8,
    "start_time": "2022-03-28T19:27:14.342Z"
   },
   {
    "duration": 10,
    "start_time": "2022-03-28T19:27:57.136Z"
   },
   {
    "duration": 32,
    "start_time": "2022-03-28T19:30:51.480Z"
   },
   {
    "duration": 9,
    "start_time": "2022-03-28T19:36:18.282Z"
   },
   {
    "duration": 31,
    "start_time": "2022-03-28T19:36:25.114Z"
   },
   {
    "duration": 31,
    "start_time": "2022-03-28T19:36:41.205Z"
   },
   {
    "duration": 12,
    "start_time": "2022-03-28T19:37:04.491Z"
   },
   {
    "duration": 5,
    "start_time": "2022-03-28T19:42:10.166Z"
   },
   {
    "duration": 5,
    "start_time": "2022-03-28T19:43:14.188Z"
   },
   {
    "duration": 24,
    "start_time": "2022-03-28T19:47:54.892Z"
   },
   {
    "duration": 4,
    "start_time": "2022-03-28T19:50:23.332Z"
   },
   {
    "duration": 25,
    "start_time": "2022-03-28T19:57:48.960Z"
   },
   {
    "duration": 12,
    "start_time": "2022-03-28T19:58:54.251Z"
   },
   {
    "duration": 13,
    "start_time": "2022-03-28T19:59:45.660Z"
   },
   {
    "duration": 11,
    "start_time": "2022-03-28T20:01:09.385Z"
   },
   {
    "duration": 5,
    "start_time": "2022-03-28T20:01:43.091Z"
   },
   {
    "duration": 24,
    "start_time": "2022-03-28T20:02:17.185Z"
   },
   {
    "duration": 116,
    "start_time": "2022-03-28T20:02:50.447Z"
   },
   {
    "duration": 7,
    "start_time": "2022-03-28T20:02:58.461Z"
   },
   {
    "duration": 12,
    "start_time": "2022-03-28T20:21:14.367Z"
   },
   {
    "duration": 13,
    "start_time": "2022-03-28T20:21:27.871Z"
   },
   {
    "duration": 218,
    "start_time": "2022-03-28T20:23:33.051Z"
   },
   {
    "duration": 256,
    "start_time": "2022-03-28T20:27:03.419Z"
   },
   {
    "duration": 362,
    "start_time": "2022-03-28T20:27:13.909Z"
   },
   {
    "duration": 240,
    "start_time": "2022-03-28T20:27:31.233Z"
   },
   {
    "duration": 304,
    "start_time": "2022-03-28T20:27:41.273Z"
   },
   {
    "duration": 296,
    "start_time": "2022-03-28T20:28:46.273Z"
   },
   {
    "duration": 311,
    "start_time": "2022-03-28T20:28:53.167Z"
   },
   {
    "duration": 247,
    "start_time": "2022-03-28T20:28:58.625Z"
   },
   {
    "duration": 13,
    "start_time": "2022-03-28T20:29:20.259Z"
   },
   {
    "duration": 158,
    "start_time": "2022-03-28T20:29:21.616Z"
   },
   {
    "duration": 48,
    "start_time": "2022-03-28T20:42:24.879Z"
   },
   {
    "duration": 44,
    "start_time": "2022-03-28T20:43:11.677Z"
   },
   {
    "duration": 110,
    "start_time": "2022-03-28T20:44:20.906Z"
   },
   {
    "duration": 45,
    "start_time": "2022-03-28T20:44:31.201Z"
   },
   {
    "duration": 46,
    "start_time": "2022-03-28T20:44:49.066Z"
   },
   {
    "duration": 25,
    "start_time": "2022-03-28T20:47:10.904Z"
   },
   {
    "duration": 1993,
    "start_time": "2022-03-31T07:28:23.001Z"
   },
   {
    "duration": 24,
    "start_time": "2022-03-31T07:28:24.997Z"
   },
   {
    "duration": 22,
    "start_time": "2022-03-31T07:28:25.024Z"
   },
   {
    "duration": 53,
    "start_time": "2022-03-31T07:28:25.049Z"
   },
   {
    "duration": 28,
    "start_time": "2022-03-31T07:28:25.107Z"
   },
   {
    "duration": 52,
    "start_time": "2022-03-31T07:28:25.137Z"
   },
   {
    "duration": 22,
    "start_time": "2022-03-31T07:28:25.191Z"
   },
   {
    "duration": 21,
    "start_time": "2022-03-31T07:28:25.216Z"
   },
   {
    "duration": 5,
    "start_time": "2022-03-31T07:28:25.240Z"
   },
   {
    "duration": 399,
    "start_time": "2022-03-31T07:28:25.285Z"
   },
   {
    "duration": 5,
    "start_time": "2022-03-31T07:28:25.687Z"
   },
   {
    "duration": 8,
    "start_time": "2022-03-31T07:28:25.694Z"
   },
   {
    "duration": 111,
    "start_time": "2022-03-31T07:28:25.704Z"
   },
   {
    "duration": 25,
    "start_time": "2022-03-31T07:28:25.818Z"
   },
   {
    "duration": 1648,
    "start_time": "2022-04-02T12:32:02.270Z"
   },
   {
    "duration": 15,
    "start_time": "2022-04-02T12:32:03.920Z"
   },
   {
    "duration": 15,
    "start_time": "2022-04-02T12:32:03.937Z"
   },
   {
    "duration": 15,
    "start_time": "2022-04-02T12:32:03.954Z"
   },
   {
    "duration": 46,
    "start_time": "2022-04-02T12:32:03.972Z"
   },
   {
    "duration": 22,
    "start_time": "2022-04-02T12:32:04.020Z"
   },
   {
    "duration": 17,
    "start_time": "2022-04-02T12:32:04.043Z"
   },
   {
    "duration": 40,
    "start_time": "2022-04-02T12:32:04.062Z"
   },
   {
    "duration": 4,
    "start_time": "2022-04-02T12:32:04.103Z"
   },
   {
    "duration": 295,
    "start_time": "2022-04-02T12:32:04.108Z"
   },
   {
    "duration": 3,
    "start_time": "2022-04-02T12:32:04.406Z"
   },
   {
    "duration": 101,
    "start_time": "2022-04-02T12:32:04.411Z"
   },
   {
    "duration": 43,
    "start_time": "2022-04-02T12:32:04.513Z"
   },
   {
    "duration": 20,
    "start_time": "2022-04-02T12:32:04.558Z"
   },
   {
    "duration": 10,
    "start_time": "2022-04-02T12:36:39.687Z"
   },
   {
    "duration": 291,
    "start_time": "2022-04-02T12:40:44.911Z"
   },
   {
    "duration": 105,
    "start_time": "2022-04-02T12:45:21.654Z"
   },
   {
    "duration": 230,
    "start_time": "2022-04-02T12:46:56.074Z"
   },
   {
    "duration": 195,
    "start_time": "2022-04-02T12:47:06.512Z"
   },
   {
    "duration": 403,
    "start_time": "2022-04-02T12:48:02.398Z"
   },
   {
    "duration": 69,
    "start_time": "2022-04-02T12:48:06.840Z"
   },
   {
    "duration": 381,
    "start_time": "2022-04-02T13:15:25.622Z"
   },
   {
    "duration": 5,
    "start_time": "2022-04-02T13:35:40.196Z"
   },
   {
    "duration": 14,
    "start_time": "2022-04-02T13:37:22.082Z"
   },
   {
    "duration": 5,
    "start_time": "2022-04-02T13:38:17.314Z"
   },
   {
    "duration": 1140,
    "start_time": "2022-04-02T13:38:19.215Z"
   },
   {
    "duration": 5,
    "start_time": "2022-04-02T13:38:44.696Z"
   },
   {
    "duration": 1161,
    "start_time": "2022-04-02T13:38:47.736Z"
   },
   {
    "duration": 5,
    "start_time": "2022-04-02T13:39:10.880Z"
   },
   {
    "duration": 1139,
    "start_time": "2022-04-02T13:39:11.808Z"
   },
   {
    "duration": 5,
    "start_time": "2022-04-02T13:46:08.434Z"
   },
   {
    "duration": 1161,
    "start_time": "2022-04-02T13:46:09.395Z"
   },
   {
    "duration": 5,
    "start_time": "2022-04-02T13:46:26.138Z"
   },
   {
    "duration": 1132,
    "start_time": "2022-04-02T13:46:26.673Z"
   },
   {
    "duration": 25,
    "start_time": "2022-04-02T13:46:46.648Z"
   },
   {
    "duration": 9,
    "start_time": "2022-04-02T13:46:54.008Z"
   },
   {
    "duration": 179,
    "start_time": "2022-04-02T13:46:55.029Z"
   },
   {
    "duration": 55,
    "start_time": "2022-04-02T13:46:58.366Z"
   },
   {
    "duration": 5,
    "start_time": "2022-04-02T13:47:05.154Z"
   },
   {
    "duration": 1136,
    "start_time": "2022-04-02T13:47:07.103Z"
   },
   {
    "duration": 126,
    "start_time": "2022-04-02T13:48:44.671Z"
   },
   {
    "duration": 1109,
    "start_time": "2022-04-02T13:48:58.301Z"
   },
   {
    "duration": 1124,
    "start_time": "2022-04-02T13:49:23.595Z"
   },
   {
    "duration": 1214,
    "start_time": "2022-04-02T13:50:08.731Z"
   },
   {
    "duration": 20,
    "start_time": "2022-04-02T13:51:31.763Z"
   },
   {
    "duration": 21,
    "start_time": "2022-04-02T13:51:48.673Z"
   },
   {
    "duration": 63,
    "start_time": "2022-04-02T13:52:03.987Z"
   },
   {
    "duration": 5,
    "start_time": "2022-04-02T13:52:07.653Z"
   },
   {
    "duration": 1191,
    "start_time": "2022-04-02T13:52:09.563Z"
   },
   {
    "duration": 1122,
    "start_time": "2022-04-02T13:52:23.143Z"
   },
   {
    "duration": 1129,
    "start_time": "2022-04-02T13:52:28.229Z"
   },
   {
    "duration": 1639,
    "start_time": "2022-04-02T13:52:33.348Z"
   },
   {
    "duration": 15,
    "start_time": "2022-04-02T13:52:34.989Z"
   },
   {
    "duration": 16,
    "start_time": "2022-04-02T13:52:35.006Z"
   },
   {
    "duration": 33,
    "start_time": "2022-04-02T13:52:35.025Z"
   },
   {
    "duration": 31,
    "start_time": "2022-04-02T13:52:35.060Z"
   },
   {
    "duration": 27,
    "start_time": "2022-04-02T13:52:35.102Z"
   },
   {
    "duration": 25,
    "start_time": "2022-04-02T13:52:35.131Z"
   },
   {
    "duration": 20,
    "start_time": "2022-04-02T13:52:35.158Z"
   },
   {
    "duration": 3,
    "start_time": "2022-04-02T13:52:35.180Z"
   },
   {
    "duration": 300,
    "start_time": "2022-04-02T13:52:35.203Z"
   },
   {
    "duration": 96,
    "start_time": "2022-04-02T13:52:35.506Z"
   },
   {
    "duration": 9,
    "start_time": "2022-04-02T13:52:35.603Z"
   },
   {
    "duration": 40,
    "start_time": "2022-04-02T13:52:35.614Z"
   },
   {
    "duration": 49,
    "start_time": "2022-04-02T13:52:35.655Z"
   },
   {
    "duration": 10,
    "start_time": "2022-04-02T13:52:35.706Z"
   },
   {
    "duration": 290,
    "start_time": "2022-04-02T13:52:35.718Z"
   },
   {
    "duration": 238,
    "start_time": "2022-04-02T13:52:36.011Z"
   },
   {
    "duration": 6,
    "start_time": "2022-04-02T13:52:36.250Z"
   },
   {
    "duration": 1190,
    "start_time": "2022-04-02T13:52:36.258Z"
   },
   {
    "duration": 1157,
    "start_time": "2022-04-02T13:52:37.450Z"
   },
   {
    "duration": 1145,
    "start_time": "2022-04-02T13:52:38.610Z"
   },
   {
    "duration": 147,
    "start_time": "2022-04-02T13:53:55.274Z"
   },
   {
    "duration": 1211,
    "start_time": "2022-04-02T13:54:03.556Z"
   },
   {
    "duration": 1123,
    "start_time": "2022-04-02T13:54:28.350Z"
   },
   {
    "duration": 1165,
    "start_time": "2022-04-02T13:54:44.138Z"
   },
   {
    "duration": 1634,
    "start_time": "2022-04-03T09:41:10.785Z"
   },
   {
    "duration": 15,
    "start_time": "2022-04-03T09:41:12.421Z"
   },
   {
    "duration": 16,
    "start_time": "2022-04-03T09:41:12.438Z"
   },
   {
    "duration": 21,
    "start_time": "2022-04-03T09:41:12.457Z"
   },
   {
    "duration": 48,
    "start_time": "2022-04-03T09:41:12.479Z"
   },
   {
    "duration": 24,
    "start_time": "2022-04-03T09:41:12.529Z"
   },
   {
    "duration": 21,
    "start_time": "2022-04-03T09:41:12.554Z"
   },
   {
    "duration": 22,
    "start_time": "2022-04-03T09:41:12.601Z"
   },
   {
    "duration": 4,
    "start_time": "2022-04-03T09:41:12.625Z"
   },
   {
    "duration": 402,
    "start_time": "2022-04-03T09:41:12.632Z"
   },
   {
    "duration": 66,
    "start_time": "2022-04-03T09:41:13.036Z"
   },
   {
    "duration": 5,
    "start_time": "2022-04-03T09:41:13.105Z"
   },
   {
    "duration": 109,
    "start_time": "2022-04-03T09:41:13.112Z"
   },
   {
    "duration": 18,
    "start_time": "2022-04-03T09:41:13.223Z"
   },
   {
    "duration": 9,
    "start_time": "2022-04-03T09:41:13.243Z"
   },
   {
    "duration": 354,
    "start_time": "2022-04-03T09:41:13.254Z"
   },
   {
    "duration": 241,
    "start_time": "2022-04-03T09:41:13.610Z"
   },
   {
    "duration": 6,
    "start_time": "2022-04-03T09:41:13.853Z"
   },
   {
    "duration": 1156,
    "start_time": "2022-04-03T09:41:13.861Z"
   },
   {
    "duration": 1092,
    "start_time": "2022-04-03T09:41:15.019Z"
   },
   {
    "duration": 1144,
    "start_time": "2022-04-03T09:41:16.113Z"
   },
   {
    "duration": 297,
    "start_time": "2022-04-03T10:10:00.671Z"
   }
  ],
  "kernelspec": {
   "display_name": "Python 3 (ipykernel)",
   "language": "python",
   "name": "python3"
  },
  "language_info": {
   "codemirror_mode": {
    "name": "ipython",
    "version": 3
   },
   "file_extension": ".py",
   "mimetype": "text/x-python",
   "name": "python",
   "nbconvert_exporter": "python",
   "pygments_lexer": "ipython3",
   "version": "3.9.7"
  },
  "toc": {
   "base_numbering": 1,
   "nav_menu": {},
   "number_sections": true,
   "sideBar": true,
   "skip_h1_title": true,
   "title_cell": "Table of Contents",
   "title_sidebar": "Contents",
   "toc_cell": false,
   "toc_position": {},
   "toc_section_display": true,
   "toc_window_display": false
  }
 },
 "nbformat": 4,
 "nbformat_minor": 2
}
