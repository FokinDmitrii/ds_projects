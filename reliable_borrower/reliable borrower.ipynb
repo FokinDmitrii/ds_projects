{
 "cells": [
  {
   "cell_type": "markdown",
   "metadata": {},
   "source": [
    "# Исследование надёжности заёмщиков\n",
    "\n",
    "Заказчик — кредитный отдел банка. Нужно разобраться, влияет ли семейное положение и количество детей клиента на факт погашения кредита в срок. Входные данные от банка — статистика о платёжеспособности клиентов.\n",
    "\n",
    "Результаты исследования будут учтены при построении модели **кредитного скоринга** — специальной системы, которая оценивает способность потенциального заёмщика вернуть кредит банку."
   ]
  },
  {
   "cell_type": "markdown",
   "metadata": {},
   "source": [
    "## Шаг 1. Откроем файл с данными и изучим общую информацию"
   ]
  },
  {
   "cell_type": "code",
   "execution_count": 1,
   "metadata": {},
   "outputs": [
    {
     "name": "stdout",
     "output_type": "stream",
     "text": [
      "<class 'pandas.core.frame.DataFrame'>\n",
      "RangeIndex: 21525 entries, 0 to 21524\n",
      "Data columns (total 12 columns):\n",
      " #   Column            Non-Null Count  Dtype  \n",
      "---  ------            --------------  -----  \n",
      " 0   children          21525 non-null  int64  \n",
      " 1   days_employed     19351 non-null  float64\n",
      " 2   dob_years         21525 non-null  int64  \n",
      " 3   education         21525 non-null  object \n",
      " 4   education_id      21525 non-null  int64  \n",
      " 5   family_status     21525 non-null  object \n",
      " 6   family_status_id  21525 non-null  int64  \n",
      " 7   gender            21525 non-null  object \n",
      " 8   income_type       21525 non-null  object \n",
      " 9   debt              21525 non-null  int64  \n",
      " 10  total_income      19351 non-null  float64\n",
      " 11  purpose           21525 non-null  object \n",
      "dtypes: float64(2), int64(5), object(5)\n",
      "memory usage: 2.0+ MB\n",
      "   children  days_employed  dob_years education  education_id  \\\n",
      "0         1   -8437.673028         42    высшее             0   \n",
      "1         1   -4024.803754         36   среднее             1   \n",
      "2         0   -5623.422610         33   Среднее             1   \n",
      "3         3   -4124.747207         32   среднее             1   \n",
      "4         0  340266.072047         53   среднее             1   \n",
      "5         0    -926.185831         27    высшее             0   \n",
      "6         0   -2879.202052         43    высшее             0   \n",
      "7         0    -152.779569         50   СРЕДНЕЕ             1   \n",
      "8         2   -6929.865299         35    ВЫСШЕЕ             0   \n",
      "9         0   -2188.756445         41   среднее             1   \n",
      "\n",
      "      family_status  family_status_id gender income_type  debt   total_income  \\\n",
      "0   женат / замужем                 0      F   сотрудник     0  253875.639453   \n",
      "1   женат / замужем                 0      F   сотрудник     0  112080.014102   \n",
      "2   женат / замужем                 0      M   сотрудник     0  145885.952297   \n",
      "3   женат / замужем                 0      M   сотрудник     0  267628.550329   \n",
      "4  гражданский брак                 1      F   пенсионер     0  158616.077870   \n",
      "5  гражданский брак                 1      M   компаньон     0  255763.565419   \n",
      "6   женат / замужем                 0      F   компаньон     0  240525.971920   \n",
      "7   женат / замужем                 0      M   сотрудник     0  135823.934197   \n",
      "8  гражданский брак                 1      F   сотрудник     0   95856.832424   \n",
      "9   женат / замужем                 0      M   сотрудник     0  144425.938277   \n",
      "\n",
      "                      purpose  \n",
      "0               покупка жилья  \n",
      "1     приобретение автомобиля  \n",
      "2               покупка жилья  \n",
      "3  дополнительное образование  \n",
      "4             сыграть свадьбу  \n",
      "5               покупка жилья  \n",
      "6           операции с жильем  \n",
      "7                 образование  \n",
      "8       на проведение свадьбы  \n",
      "9     покупка жилья для семьи  \n"
     ]
    }
   ],
   "source": [
    "import pandas as pd\n",
    "data = pd.read_csv('/datasets/data.csv')\n",
    "data.info()\n",
    "print(data.head(10))"
   ]
  },
  {
   "cell_type": "markdown",
   "metadata": {},
   "source": [
    "**Вывод**"
   ]
  },
  {
   "cell_type": "markdown",
   "metadata": {},
   "source": [
    "В столбцах days_employed и total_income есть пропуски. Надо проверить эти записи и либо заполнить либо удалить. В столбце days_employed отрицательные значения, хотя судя по названию должны быть целые числа. Столбец education видно что категориальный но в разных регистрах. Надо привести к нижнему и проверить будет ли совпадать количество записей и education_id.  столбец purpose тоже надо обработать и привести к категориям."
   ]
  },
  {
   "cell_type": "markdown",
   "metadata": {},
   "source": [
    "## Шаг 2. Предобработка данных"
   ]
  },
  {
   "cell_type": "markdown",
   "metadata": {},
   "source": [
    "### Обработка пропусков"
   ]
  },
  {
   "cell_type": "code",
   "execution_count": 2,
   "metadata": {},
   "outputs": [
    {
     "name": "stdout",
     "output_type": "stream",
     "text": [
      "    children  days_employed  dob_years education  education_id  \\\n",
      "12         0            NaN         65   среднее             1   \n",
      "26         0            NaN         41   среднее             1   \n",
      "29         0            NaN         63   среднее             1   \n",
      "41         0            NaN         50   среднее             1   \n",
      "55         0            NaN         54   среднее             1   \n",
      "65         0            NaN         21   среднее             1   \n",
      "67         0            NaN         52    высшее             0   \n",
      "72         1            NaN         32    высшее             0   \n",
      "82         2            NaN         50    высшее             0   \n",
      "83         0            NaN         52   среднее             1   \n",
      "\n",
      "            family_status  family_status_id gender  income_type  debt  \\\n",
      "12       гражданский брак                 1      M    пенсионер     0   \n",
      "26        женат / замужем                 0      M  госслужащий     0   \n",
      "29  Не женат / не замужем                 4      F    пенсионер     0   \n",
      "41        женат / замужем                 0      F  госслужащий     0   \n",
      "55       гражданский брак                 1      F    пенсионер     1   \n",
      "65  Не женат / не замужем                 4      M    компаньон     0   \n",
      "67        женат / замужем                 0      F    пенсионер     0   \n",
      "72        женат / замужем                 0      M  госслужащий     0   \n",
      "82        женат / замужем                 0      F    сотрудник     0   \n",
      "83        женат / замужем                 0      M    сотрудник     0   \n",
      "\n",
      "    total_income                                purpose  \n",
      "12           NaN                        сыграть свадьбу  \n",
      "26           NaN                            образование  \n",
      "29           NaN       строительство жилой недвижимости  \n",
      "41           NaN       сделка с подержанным автомобилем  \n",
      "55           NaN                        сыграть свадьбу  \n",
      "65           NaN  операции с коммерческой недвижимостью  \n",
      "67           NaN                покупка жилья для семьи  \n",
      "72           NaN  операции с коммерческой недвижимостью  \n",
      "82           NaN                                  жилье  \n",
      "83           NaN                                  жилье  \n"
     ]
    }
   ],
   "source": [
    "print(data[data['days_employed'].isna()].head(10))"
   ]
  },
  {
   "cell_type": "markdown",
   "metadata": {},
   "source": [
    "Если удалить строки из столбца days_employed, то это может повлиять на далбнейшие расчеты. Подчситаем сколько таких пропусков."
   ]
  },
  {
   "cell_type": "code",
   "execution_count": 3,
   "metadata": {},
   "outputs": [
    {
     "name": "stdout",
     "output_type": "stream",
     "text": [
      "2174\n"
     ]
    }
   ],
   "source": [
    "print(len(data[data['days_employed'].isna()]))"
   ]
  },
  {
   "cell_type": "markdown",
   "metadata": {},
   "source": [
    "Из 21525 записей 2174 (10%) с прпусками удалять точно не надо. Заменим их на среднее значение, так как это может повлиять на дальнейшие расчеты."
   ]
  },
  {
   "cell_type": "code",
   "execution_count": 4,
   "metadata": {},
   "outputs": [
    {
     "name": "stdout",
     "output_type": "stream",
     "text": [
      "Empty DataFrame\n",
      "Columns: [children, days_employed, dob_years, education, education_id, family_status, family_status_id, gender, income_type, debt, total_income, purpose]\n",
      "Index: []\n"
     ]
    }
   ],
   "source": [
    "days_employed_mean = data['days_employed'].mean()\n",
    "data['days_employed'] = data['days_employed'].fillna(days_employed_mean)\n",
    "print(data[data['days_employed'].isna()].head(10))"
   ]
  },
  {
   "cell_type": "markdown",
   "metadata": {},
   "source": [
    "теперь проверить пропущенные данные столбца total_income"
   ]
  },
  {
   "cell_type": "code",
   "execution_count": 5,
   "metadata": {},
   "outputs": [
    {
     "name": "stdout",
     "output_type": "stream",
     "text": [
      "     children  days_employed  dob_years education  education_id  \\\n",
      "12          0   63046.497661         65   среднее             1   \n",
      "26          0   63046.497661         41   среднее             1   \n",
      "29          0   63046.497661         63   среднее             1   \n",
      "41          0   63046.497661         50   среднее             1   \n",
      "55          0   63046.497661         54   среднее             1   \n",
      "..        ...            ...        ...       ...           ...   \n",
      "959         0   63046.497661         25   среднее             1   \n",
      "973         0   63046.497661         49   среднее             1   \n",
      "974         0   63046.497661         60   среднее             1   \n",
      "978         3   63046.497661         28   среднее             1   \n",
      "980         0   63046.497661         53    высшее             0   \n",
      "\n",
      "             family_status  family_status_id gender  income_type  debt  \\\n",
      "12        гражданский брак                 1      M    пенсионер     0   \n",
      "26         женат / замужем                 0      M  госслужащий     0   \n",
      "29   Не женат / не замужем                 4      F    пенсионер     0   \n",
      "41         женат / замужем                 0      F  госслужащий     0   \n",
      "55        гражданский брак                 1      F    пенсионер     1   \n",
      "..                     ...               ...    ...          ...   ...   \n",
      "959       гражданский брак                 1      M    сотрудник     0   \n",
      "973        женат / замужем                 0      F    сотрудник     0   \n",
      "974        женат / замужем                 0      M    сотрудник     0   \n",
      "978       гражданский брак                 1      F    сотрудник     0   \n",
      "980        женат / замужем                 0      F    сотрудник     0   \n",
      "\n",
      "     total_income                           purpose  \n",
      "12            NaN                   сыграть свадьбу  \n",
      "26            NaN                       образование  \n",
      "29            NaN  строительство жилой недвижимости  \n",
      "41            NaN  сделка с подержанным автомобилем  \n",
      "55            NaN                   сыграть свадьбу  \n",
      "..            ...                               ...  \n",
      "959           NaN                       образование  \n",
      "973           NaN                 операции с жильем  \n",
      "974           NaN                высшее образование  \n",
      "978           NaN                      ремонт жилью  \n",
      "980           NaN             получение образования  \n",
      "\n",
      "[100 rows x 12 columns]\n"
     ]
    }
   ],
   "source": [
    "print(data[data['total_income'].isna()].head(100))"
   ]
  },
  {
   "cell_type": "markdown",
   "metadata": {},
   "source": [
    "Очевидно что это те же клиенты у которых отсутствовали записи в колонке days_employed. Так же заменим пропуски на среднее значение доходов."
   ]
  },
  {
   "cell_type": "code",
   "execution_count": 6,
   "metadata": {},
   "outputs": [
    {
     "name": "stdout",
     "output_type": "stream",
     "text": [
      "children            0\n",
      "days_employed       0\n",
      "dob_years           0\n",
      "education           0\n",
      "education_id        0\n",
      "family_status       0\n",
      "family_status_id    0\n",
      "gender              0\n",
      "income_type         0\n",
      "debt                0\n",
      "total_income        0\n",
      "purpose             0\n",
      "dtype: int64\n"
     ]
    }
   ],
   "source": [
    "total_income_mean = data['total_income'].mean()\n",
    "data['total_income'] = data['total_income'].fillna(total_income_mean)\n",
    "print(data[data['total_income'].isna()].count())"
   ]
  },
  {
   "cell_type": "markdown",
   "metadata": {},
   "source": [
    "Пропусков больше нет."
   ]
  },
  {
   "cell_type": "markdown",
   "metadata": {},
   "source": [
    "**Вывод**"
   ]
  },
  {
   "cell_type": "markdown",
   "metadata": {},
   "source": [
    "Возможно пропуски образованы по причине определенной категории клиентов, например те кто уже брал кредит в в этом банке или доверенные клиенты банка партнера."
   ]
  },
  {
   "cell_type": "markdown",
   "metadata": {},
   "source": [
    "### Замена типа данных"
   ]
  },
  {
   "cell_type": "markdown",
   "metadata": {},
   "source": [
    "Теперь вопрос к данным в столбце days_employed. Врят ли может быть отрицательным количество рабочих дней. Скорее всего отсчет идет от какой то конкретной даты. А то что данные имеют формат вещественного числа наводит на мысль об учете времени, что нам совсем не актуально. Приведем эти данные к целочисленному значению."
   ]
  },
  {
   "cell_type": "code",
   "execution_count": 7,
   "metadata": {},
   "outputs": [
    {
     "name": "stdout",
     "output_type": "stream",
     "text": [
      "0     -8437\n",
      "1     -4024\n",
      "2     -5623\n",
      "3     -4124\n",
      "4    340266\n",
      "5      -926\n",
      "6     -2879\n",
      "7      -152\n",
      "8     -6929\n",
      "9     -2188\n",
      "Name: days_employed, dtype: int64\n"
     ]
    }
   ],
   "source": [
    "data['days_employed'] = data['days_employed'].astype('int')\n",
    "print(data['days_employed'].head(10))"
   ]
  },
  {
   "cell_type": "markdown",
   "metadata": {},
   "source": [
    "найдем максимальное и минимальон значение."
   ]
  },
  {
   "cell_type": "code",
   "execution_count": 8,
   "metadata": {},
   "outputs": [
    {
     "name": "stdout",
     "output_type": "stream",
     "text": [
      "Максимальное значение: 401755\n",
      "Минимальное значение: -18388\n"
     ]
    }
   ],
   "source": [
    "print('Максимальное значение:', data['days_employed'].max())\n",
    "print('Минимальное значение:', data['days_employed'].min())"
   ]
  },
  {
   "cell_type": "markdown",
   "metadata": {},
   "source": [
    "Теперь приведем данные к положительным значениям. Найдем минимальое и увеличим значение данных на эту величину. теперь похоже что подсчет велся в часах."
   ]
  },
  {
   "cell_type": "code",
   "execution_count": 9,
   "metadata": {},
   "outputs": [
    {
     "name": "stdout",
     "output_type": "stream",
     "text": [
      "0      414\n",
      "1      598\n",
      "2      531\n",
      "3      594\n",
      "4    14943\n",
      "5      727\n",
      "6      646\n",
      "7      759\n",
      "8      477\n",
      "9      675\n",
      "Name: days_employed, dtype: int64\n"
     ]
    }
   ],
   "source": [
    "days_employed_min = abs(data['days_employed'].min())\n",
    "data['days_employed'] = (data['days_employed'] + days_employed_min) / 24\n",
    "data['days_employed'] = data['days_employed'].astype('int')\n",
    "print(data['days_employed'].head(10))"
   ]
  },
  {
   "cell_type": "markdown",
   "metadata": {},
   "source": [
    "Так же приведем к целому типу столбец total_income методом astype так как с целыми числами работать проще и занимает меньше памяти"
   ]
  },
  {
   "cell_type": "code",
   "execution_count": 10,
   "metadata": {},
   "outputs": [
    {
     "name": "stdout",
     "output_type": "stream",
     "text": [
      "0    253875\n",
      "1    112080\n",
      "2    145885\n",
      "3    267628\n",
      "4    158616\n",
      "Name: total_income, dtype: int64\n"
     ]
    }
   ],
   "source": [
    "data['total_income'] = data['total_income'].astype('int')\n",
    "print(data['total_income'].head())"
   ]
  },
  {
   "cell_type": "markdown",
   "metadata": {},
   "source": [
    "**Вывод**"
   ]
  },
  {
   "cell_type": "markdown",
   "metadata": {},
   "source": [
    "Данные приведены к форме количества отработанных дней. Стаж клиента тоже может влиять на вероятность выплаты кредита."
   ]
  },
  {
   "cell_type": "markdown",
   "metadata": {},
   "source": [
    "### Обработка дубликатов"
   ]
  },
  {
   "cell_type": "markdown",
   "metadata": {},
   "source": [
    "Проверим количество дубликатов"
   ]
  },
  {
   "cell_type": "code",
   "execution_count": 11,
   "metadata": {},
   "outputs": [
    {
     "name": "stdout",
     "output_type": "stream",
     "text": [
      "False    21471\n",
      "True        54\n",
      "dtype: int64\n"
     ]
    }
   ],
   "source": [
    "print(data.duplicated().value_counts())"
   ]
  },
  {
   "cell_type": "markdown",
   "metadata": {},
   "source": [
    "Проверим данные в столбце education"
   ]
  },
  {
   "cell_type": "code",
   "execution_count": 12,
   "metadata": {},
   "outputs": [
    {
     "name": "stdout",
     "output_type": "stream",
     "text": [
      "среднее                13750\n",
      "высшее                  4718\n",
      "СРЕДНЕЕ                  772\n",
      "Среднее                  711\n",
      "неоконченное высшее      668\n",
      "ВЫСШЕЕ                   274\n",
      "Высшее                   268\n",
      "начальное                250\n",
      "Неоконченное высшее       47\n",
      "НЕОКОНЧЕННОЕ ВЫСШЕЕ       29\n",
      "НАЧАЛЬНОЕ                 17\n",
      "Начальное                 15\n",
      "ученая степень             4\n",
      "УЧЕНАЯ СТЕПЕНЬ             1\n",
      "Ученая степень             1\n",
      "Name: education, dtype: int64\n"
     ]
    }
   ],
   "source": [
    "print(data['education'].value_counts())"
   ]
  },
  {
   "cell_type": "markdown",
   "metadata": {},
   "source": [
    "Видны повторения из за разных регистров, приведем все данные в нижний регистр"
   ]
  },
  {
   "cell_type": "code",
   "execution_count": 13,
   "metadata": {},
   "outputs": [
    {
     "name": "stdout",
     "output_type": "stream",
     "text": [
      "среднее                15233\n",
      "высшее                  5260\n",
      "неоконченное высшее      744\n",
      "начальное                282\n",
      "ученая степень             6\n",
      "Name: education, dtype: int64\n"
     ]
    }
   ],
   "source": [
    "data['education'] = data['education'].str.lower()\n",
    "print(data['education'].value_counts())"
   ]
  },
  {
   "cell_type": "markdown",
   "metadata": {},
   "source": [
    "**Вывод**"
   ]
  },
  {
   "cell_type": "markdown",
   "metadata": {},
   "source": [
    "каак выясняется больше половины клиентов со средним образованием"
   ]
  },
  {
   "cell_type": "code",
   "execution_count": 14,
   "metadata": {},
   "outputs": [
    {
     "name": "stdout",
     "output_type": "stream",
     "text": [
      " 0     14149\n",
      " 1      4818\n",
      " 2      2055\n",
      " 3       330\n",
      " 20       76\n",
      "-1        47\n",
      " 4        41\n",
      " 5         9\n",
      "Name: children, dtype: int64\n",
      "3393     2174\n",
      "757       203\n",
      "756       173\n",
      "758       172\n",
      "755       160\n",
      "         ... \n",
      "16863       1\n",
      "14800       1\n",
      "16847       1\n",
      "14784       1\n",
      "16376       1\n",
      "Name: days_employed, Length: 2631, dtype: int64\n",
      "35    617\n",
      "40    609\n",
      "41    607\n",
      "34    603\n",
      "38    598\n",
      "42    597\n",
      "33    581\n",
      "39    573\n",
      "31    560\n",
      "36    555\n",
      "44    547\n",
      "29    545\n",
      "30    540\n",
      "48    538\n",
      "37    537\n",
      "50    514\n",
      "43    513\n",
      "32    510\n",
      "49    508\n",
      "28    503\n",
      "45    497\n",
      "27    493\n",
      "56    487\n",
      "52    484\n",
      "47    480\n",
      "54    479\n",
      "46    475\n",
      "58    461\n",
      "57    460\n",
      "53    459\n",
      "51    448\n",
      "59    444\n",
      "55    443\n",
      "26    408\n",
      "60    377\n",
      "25    357\n",
      "61    355\n",
      "62    352\n",
      "63    269\n",
      "64    265\n",
      "24    264\n",
      "23    254\n",
      "65    194\n",
      "66    183\n",
      "22    183\n",
      "67    167\n",
      "21    111\n",
      "0     101\n",
      "68     99\n",
      "69     85\n",
      "70     65\n",
      "71     58\n",
      "20     51\n",
      "72     33\n",
      "19     14\n",
      "73      8\n",
      "74      6\n",
      "75      1\n",
      "Name: dob_years, dtype: int64\n",
      "среднее                15233\n",
      "высшее                  5260\n",
      "неоконченное высшее      744\n",
      "начальное                282\n",
      "ученая степень             6\n",
      "Name: education, dtype: int64\n",
      "1    15233\n",
      "0     5260\n",
      "2      744\n",
      "3      282\n",
      "4        6\n",
      "Name: education_id, dtype: int64\n",
      "женат / замужем          12380\n",
      "гражданский брак          4177\n",
      "Не женат / не замужем     2813\n",
      "в разводе                 1195\n",
      "вдовец / вдова             960\n",
      "Name: family_status, dtype: int64\n",
      "0    12380\n",
      "1     4177\n",
      "4     2813\n",
      "3     1195\n",
      "2      960\n",
      "Name: family_status_id, dtype: int64\n",
      "F      14236\n",
      "M       7288\n",
      "XNA        1\n",
      "Name: gender, dtype: int64\n",
      "сотрудник          11119\n",
      "компаньон           5085\n",
      "пенсионер           3856\n",
      "госслужащий         1459\n",
      "безработный            2\n",
      "предприниматель        2\n",
      "студент                1\n",
      "в декрете              1\n",
      "Name: income_type, dtype: int64\n",
      "0    19784\n",
      "1     1741\n",
      "Name: debt, dtype: int64\n",
      "167422    2174\n",
      "92764        3\n",
      "157691       3\n",
      "204827       3\n",
      "163060       3\n",
      "          ... \n",
      "179138       1\n",
      "61724        1\n",
      "99269        1\n",
      "151371       1\n",
      "126820       1\n",
      "Name: total_income, Length: 18607, dtype: int64\n",
      "свадьба                                   797\n",
      "на проведение свадьбы                     777\n",
      "сыграть свадьбу                           774\n",
      "операции с недвижимостью                  676\n",
      "покупка коммерческой недвижимости         664\n",
      "покупка жилья для сдачи                   653\n",
      "операции с жильем                         653\n",
      "операции с коммерческой недвижимостью     651\n",
      "покупка жилья                             647\n",
      "жилье                                     647\n",
      "покупка жилья для семьи                   641\n",
      "строительство собственной недвижимости    635\n",
      "недвижимость                              634\n",
      "операции со своей недвижимостью           630\n",
      "строительство жилой недвижимости          626\n",
      "покупка недвижимости                      624\n",
      "покупка своего жилья                      620\n",
      "строительство недвижимости                620\n",
      "ремонт жилью                              612\n",
      "покупка жилой недвижимости                607\n",
      "на покупку своего автомобиля              505\n",
      "заняться высшим образованием              496\n",
      "автомобиль                                495\n",
      "сделка с подержанным автомобилем          489\n",
      "свой автомобиль                           480\n",
      "на покупку подержанного автомобиля        479\n",
      "автомобили                                478\n",
      "на покупку автомобиля                     472\n",
      "приобретение автомобиля                   462\n",
      "дополнительное образование                462\n",
      "сделка с автомобилем                      455\n",
      "высшее образование                        453\n",
      "образование                               447\n",
      "получение дополнительного образования     447\n",
      "получение образования                     443\n",
      "профильное образование                    436\n",
      "получение высшего образования             426\n",
      "заняться образованием                     412\n",
      "Name: purpose, dtype: int64\n"
     ]
    }
   ],
   "source": [
    "for column in data.columns:\n",
    "    print(data[column].value_counts())"
   ]
  },
  {
   "cell_type": "markdown",
   "metadata": {},
   "source": [
    "### Лемматизация"
   ]
  },
  {
   "cell_type": "markdown",
   "metadata": {},
   "source": [
    "Теперь надо данные в столбце purpose разбить на категории. Для этого импортируем библиотеку pymystem3 и Counter из collections"
   ]
  },
  {
   "cell_type": "code",
   "execution_count": 15,
   "metadata": {},
   "outputs": [],
   "source": [
    "from pymystem3 import Mystem\n",
    "m = Mystem()"
   ]
  },
  {
   "cell_type": "markdown",
   "metadata": {},
   "source": [
    "посмотрим какие есть леммы в столбце purpose"
   ]
  },
  {
   "cell_type": "code",
   "execution_count": 16,
   "metadata": {
    "scrolled": true
   },
   "outputs": [
    {
     "data": {
      "text/plain": [
       "Counter({'покупка': 5912,\n",
       "         ' ': 33677,\n",
       "         'жилье': 4473,\n",
       "         '\\n': 21525,\n",
       "         'приобретение': 462,\n",
       "         'автомобиль': 4315,\n",
       "         'дополнительный': 909,\n",
       "         'образование': 4022,\n",
       "         'сыграть': 774,\n",
       "         'свадьба': 2348,\n",
       "         'операция': 2610,\n",
       "         'с': 2924,\n",
       "         'на': 2233,\n",
       "         'проведение': 777,\n",
       "         'для': 1294,\n",
       "         'семья': 641,\n",
       "         'недвижимость': 6367,\n",
       "         'коммерческий': 1315,\n",
       "         'жилой': 1233,\n",
       "         'строительство': 1881,\n",
       "         'собственный': 635,\n",
       "         'подержать': 479,\n",
       "         'свой': 2235,\n",
       "         'со': 630,\n",
       "         'заниматься': 908,\n",
       "         'сделка': 944,\n",
       "         'подержанный': 489,\n",
       "         'получение': 1316,\n",
       "         'высокий': 1375,\n",
       "         'профильный': 436,\n",
       "         'сдача': 653,\n",
       "         'ремонт': 612})"
      ]
     },
     "execution_count": 16,
     "metadata": {},
     "output_type": "execute_result"
    }
   ],
   "source": [
    "from collections import Counter\n",
    "Counter(data['purpose'].apply(m.lemmatize).sum()) "
   ]
  },
  {
   "cell_type": "markdown",
   "metadata": {},
   "source": [
    "**Вывод**"
   ]
  },
  {
   "cell_type": "markdown",
   "metadata": {},
   "source": [
    "После лемматизации видно 4 катерории получения кредита автомобиль, недвижимость, свадьба и образование."
   ]
  },
  {
   "cell_type": "markdown",
   "metadata": {},
   "source": [
    "### Категоризация данных"
   ]
  },
  {
   "cell_type": "markdown",
   "metadata": {},
   "source": [
    "Создадим новый столбец с категориями"
   ]
  },
  {
   "cell_type": "code",
   "execution_count": 17,
   "metadata": {},
   "outputs": [
    {
     "name": "stdout",
     "output_type": "stream",
     "text": [
      "purpose_category\n",
      "автомобиль       4315\n",
      "недвижимость    10840\n",
      "образование      4022\n",
      "свадьба          2348\n",
      "Name: purpose, dtype: int64\n"
     ]
    }
   ],
   "source": [
    "def category_purpose(purpose):\n",
    "    lem_purpose = m.lemmatize(purpose)\n",
    "    if 'автомобиль' in lem_purpose:\n",
    "        return 'автомобиль'\n",
    "    if 'жилье' in lem_purpose or 'недвижимость' in lem_purpose:\n",
    "        return 'недвижимость'\n",
    "    if 'свадьба' in lem_purpose:\n",
    "        return 'свадьба'\n",
    "    if 'образование' in lem_purpose:\n",
    "        return 'образование'\n",
    "data['purpose_category'] = data['purpose'].apply(category_purpose)\n",
    "print(data.groupby('purpose_category')['purpose'].count())"
   ]
  },
  {
   "cell_type": "markdown",
   "metadata": {},
   "source": [
    "Разобьем клиентов на 2 категории, у кого есть дети и у кого нет"
   ]
  },
  {
   "cell_type": "code",
   "execution_count": 18,
   "metadata": {},
   "outputs": [
    {
     "name": "stdout",
     "output_type": "stream",
     "text": [
      "[ 1  0  3  2 -1  4 20  5]\n"
     ]
    }
   ],
   "source": [
    "print(data['children'].unique())"
   ]
  },
  {
   "cell_type": "markdown",
   "metadata": {},
   "source": [
    "не может быть отрицательного значения количества детей, возможно это ошибка ввода."
   ]
  },
  {
   "cell_type": "code",
   "execution_count": 19,
   "metadata": {},
   "outputs": [
    {
     "name": "stdout",
     "output_type": "stream",
     "text": [
      "children_category\n",
      "есть дети     7376\n",
      "нет детей    14149\n",
      "Name: children, dtype: int64\n"
     ]
    }
   ],
   "source": [
    "def category_children(children):\n",
    "    if children == 0:\n",
    "        return 'нет детей'\n",
    "    else: return 'есть дети'\n",
    "data['children_category'] = data['children'].apply(category_children)\n",
    "print(data.groupby('children_category')['children'].count())"
   ]
  },
  {
   "cell_type": "markdown",
   "metadata": {},
   "source": [
    "разобъем уровень дохода на категории и для начала определим минмальный и максимальный доход"
   ]
  },
  {
   "cell_type": "code",
   "execution_count": 20,
   "metadata": {},
   "outputs": [
    {
     "name": "stdout",
     "output_type": "stream",
     "text": [
      "Минимальный доход 20667\n",
      "Максимальный доход 2265604\n",
      "Средний доход 156400.0\n"
     ]
    }
   ],
   "source": [
    "print('Минимальный доход', data['total_income'].min())\n",
    "print('Максимальный доход', data['total_income'].max())\n",
    "print('Средний доход', data['total_income'].median())"
   ]
  },
  {
   "cell_type": "markdown",
   "metadata": {},
   "source": [
    "разделим на 3 группы, до 100 000 руб низкий доход, от 100 000 до 1 000 000 средний доход и свыше 1 000 000 высокий. "
   ]
  },
  {
   "cell_type": "code",
   "execution_count": 21,
   "metadata": {},
   "outputs": [
    {
     "name": "stdout",
     "output_type": "stream",
     "text": [
      "средний    17037\n",
      "низкий      4463\n",
      "высокий       25\n",
      "Name: total_income_category, dtype: int64\n"
     ]
    }
   ],
   "source": [
    "def category_total_income(total_income):\n",
    "    if total_income <= 100000:\n",
    "        return 'низкий'\n",
    "    if 100000 < total_income <= 1000000:\n",
    "        return 'средний'\n",
    "    else: return 'высокий'\n",
    "data['total_income_category'] = data['total_income'].apply(category_total_income)\n",
    "print(data['total_income_category'].value_counts())"
   ]
  },
  {
   "cell_type": "markdown",
   "metadata": {},
   "source": [
    "**Вывод**"
   ]
  },
  {
   "cell_type": "markdown",
   "metadata": {},
   "source": [
    "Узнав категории получения кредита видно что самый популярный это недвижимость и кредиты берут в основном со средним уровнем дохода"
   ]
  },
  {
   "cell_type": "markdown",
   "metadata": {},
   "source": [
    "## Шаг 3. Ответ на вопросы"
   ]
  },
  {
   "cell_type": "markdown",
   "metadata": {},
   "source": [
    "- Есть ли зависимость между наличием детей и возвратом кредита в срок?"
   ]
  },
  {
   "cell_type": "code",
   "execution_count": 22,
   "metadata": {},
   "outputs": [
    {
     "name": "stdout",
     "output_type": "stream",
     "text": [
      "0    19784\n",
      "1     1741\n",
      "Name: debt, dtype: int64\n"
     ]
    }
   ],
   "source": [
    "print(data['debt'].value_counts()) #посмотрим сколько всего должников"
   ]
  },
  {
   "cell_type": "code",
   "execution_count": 23,
   "metadata": {},
   "outputs": [
    {
     "name": "stdout",
     "output_type": "stream",
     "text": [
      "нет детей    14149\n",
      "есть дети     7376\n",
      "Name: children_category, dtype: int64\n",
      "не зависит    20462\n",
      "зависит        1063\n",
      "Name: debt_children_category, dtype: int64\n"
     ]
    }
   ],
   "source": [
    "def debt_children (row):\n",
    "    children = row['children_category']\n",
    "    debt = row['debt']\n",
    "    if debt == 1:\n",
    "        if children == 'нет детей':\n",
    "            return 'зависит'\n",
    "    return 'не зависит'\n",
    "data['debt_children_category'] = data.apply(debt_children, axis=1)\n",
    "print(data['children_category'].value_counts())\n",
    "print(data['debt_children_category'].value_counts())"
   ]
  },
  {
   "cell_type": "markdown",
   "metadata": {},
   "source": [
    "**Вывод**"
   ]
  },
  {
   "cell_type": "markdown",
   "metadata": {},
   "source": [
    "1063 совпадения говорит о том что 61% должников не имеют детей"
   ]
  },
  {
   "cell_type": "markdown",
   "metadata": {},
   "source": [
    "- Есть ли зависимость между семейным положением и возвратом кредита в срок?"
   ]
  },
  {
   "cell_type": "code",
   "execution_count": 24,
   "metadata": {},
   "outputs": [
    {
     "name": "stdout",
     "output_type": "stream",
     "text": [
      "женат / замужем          12380\n",
      "гражданский брак          4177\n",
      "Не женат / не замужем     2813\n",
      "в разводе                 1195\n",
      "вдовец / вдова             960\n",
      "Name: family_status, dtype: int64\n"
     ]
    }
   ],
   "source": [
    "print(data['family_status'].value_counts())"
   ]
  },
  {
   "cell_type": "code",
   "execution_count": 25,
   "metadata": {},
   "outputs": [
    {
     "name": "stdout",
     "output_type": "stream",
     "text": [
      "не зависит    21103\n",
      "зависит         422\n",
      "Name: debt_family_status_category, dtype: int64\n"
     ]
    }
   ],
   "source": [
    "def debt_family_status (row):\n",
    "    family_status = row['family_status_id']\n",
    "    debt = row['debt']\n",
    "    if debt == 1:\n",
    "        if family_status >= 2:\n",
    "            return 'зависит'\n",
    "    return 'не зависит'\n",
    "data['debt_family_status_category'] = data.apply(debt_family_status, axis=1)\n",
    "print(data['debt_family_status_category'].value_counts())"
   ]
  },
  {
   "cell_type": "markdown",
   "metadata": {},
   "source": [
    "**Вывод**"
   ]
  },
  {
   "cell_type": "markdown",
   "metadata": {},
   "source": [
    "из 1741 клиента 422 не имеют семьи и это составляет 25%"
   ]
  },
  {
   "cell_type": "markdown",
   "metadata": {},
   "source": [
    "- Есть ли зависимость между уровнем дохода и возвратом кредита в срок?"
   ]
  },
  {
   "cell_type": "code",
   "execution_count": 26,
   "metadata": {},
   "outputs": [
    {
     "name": "stdout",
     "output_type": "stream",
     "text": [
      "не зависит       19784\n",
      "средний доход     1385\n",
      "низкий доход       354\n",
      "высокий доход        2\n",
      "Name: debt_total_income_category, dtype: int64\n"
     ]
    }
   ],
   "source": [
    "def debt_total_income (row):\n",
    "    total_income = row['total_income_category']\n",
    "    debt = row['debt']\n",
    "    if debt == 1:\n",
    "        if total_income == 'низкий':\n",
    "            return 'низкий доход'\n",
    "        if total_income == 'средний':\n",
    "            return 'средний доход'\n",
    "        if total_income == 'высокий':\n",
    "            return 'высокий доход'\n",
    "    return 'не зависит'\n",
    "data['debt_total_income_category'] = data.apply(debt_total_income, axis=1)\n",
    "print(data['debt_total_income_category'].value_counts())"
   ]
  },
  {
   "cell_type": "markdown",
   "metadata": {},
   "source": [
    "**Вывод**"
   ]
  },
  {
   "cell_type": "markdown",
   "metadata": {},
   "source": [
    "80% несвоевременного возврата у клиентов со средним доходом"
   ]
  },
  {
   "cell_type": "markdown",
   "metadata": {},
   "source": [
    "- Как разные цели кредита влияют на его возврат в срок?"
   ]
  },
  {
   "cell_type": "code",
   "execution_count": 27,
   "metadata": {},
   "outputs": [
    {
     "name": "stdout",
     "output_type": "stream",
     "text": [
      "не зависит         19784\n",
      "на недвижимость      782\n",
      "на автомобиль        403\n",
      "на образование       370\n",
      "на свадьбу           186\n",
      "Name: debt_purpose_category, dtype: int64\n"
     ]
    }
   ],
   "source": [
    "def debt_purpose (row):\n",
    "    purpose_category = row['purpose_category']\n",
    "    debt = row['debt']\n",
    "    if debt == 1:\n",
    "        if purpose_category == 'автомобиль':\n",
    "            return 'на автомобиль'\n",
    "        if purpose_category == 'недвижимость':\n",
    "            return 'на недвижимость'\n",
    "        if purpose_category == 'образование':\n",
    "            return 'на образование'\n",
    "        if purpose_category == 'свадьба':\n",
    "            return 'на свадьбу'\n",
    "    return 'не зависит'\n",
    "data['debt_purpose_category'] = data.apply(debt_purpose, axis=1)\n",
    "print(data['debt_purpose_category'].value_counts())"
   ]
  },
  {
   "cell_type": "markdown",
   "metadata": {},
   "source": [
    "**Вывод**"
   ]
  },
  {
   "cell_type": "markdown",
   "metadata": {},
   "source": [
    "Больше несвоевременных возвратов за кредиты на недвижимость, но у автокредитов больше процент должников"
   ]
  },
  {
   "cell_type": "code",
   "execution_count": 28,
   "metadata": {},
   "outputs": [
    {
     "name": "stdout",
     "output_type": "stream",
     "text": [
      "debt                  0    1   percent\n",
      "purpose_category                      \n",
      "автомобиль         3912  403  9.339513\n",
      "недвижимость      10058  782  7.214022\n",
      "образование        3652  370  9.199403\n",
      "свадьба            2162  186  7.921635\n"
     ]
    }
   ],
   "source": [
    "purpose_table = data.pivot_table(index='purpose_category', columns='debt', values='days_employed', aggfunc='count')\n",
    "purpose_table['percent'] = purpose_table[1] / (purpose_table[0] + purpose_table[1]) * 100 \n",
    "print(purpose_table)"
   ]
  },
  {
   "cell_type": "markdown",
   "metadata": {},
   "source": [
    "## Шаг 4. Общий вывод"
   ]
  },
  {
   "cell_type": "markdown",
   "metadata": {},
   "source": [
    "Наличие детей и семейное положение влияют на вероятность несвоевременных возвратов кредита, особенное если у клиента средний уровень дохода. А вот цель кредита сильно не влияет на процент невозврата."
   ]
  }
 ],
 "metadata": {
  "ExecuteTimeLog": [
   {
    "duration": 918,
    "start_time": "2021-12-26T10:05:37.172Z"
   },
   {
    "duration": 74,
    "start_time": "2021-12-26T10:07:32.099Z"
   },
   {
    "duration": 85,
    "start_time": "2021-12-26T10:11:30.494Z"
   },
   {
    "duration": 9,
    "start_time": "2021-12-26T12:00:46.225Z"
   },
   {
    "duration": 400,
    "start_time": "2021-12-26T12:01:42.390Z"
   },
   {
    "duration": 319,
    "start_time": "2021-12-26T12:02:34.421Z"
   },
   {
    "duration": 7,
    "start_time": "2021-12-26T12:04:46.975Z"
   },
   {
    "duration": 5,
    "start_time": "2021-12-26T12:05:02.681Z"
   },
   {
    "duration": 5,
    "start_time": "2021-12-26T12:05:20.325Z"
   },
   {
    "duration": 9,
    "start_time": "2021-12-26T12:14:09.765Z"
   },
   {
    "duration": 8,
    "start_time": "2021-12-26T12:14:46.065Z"
   },
   {
    "duration": 7,
    "start_time": "2021-12-26T12:19:01.618Z"
   },
   {
    "duration": 324,
    "start_time": "2021-12-26T12:19:51.191Z"
   },
   {
    "duration": 8,
    "start_time": "2021-12-26T12:19:59.215Z"
   },
   {
    "duration": 8,
    "start_time": "2021-12-26T12:23:25.617Z"
   },
   {
    "duration": 6,
    "start_time": "2021-12-26T12:28:18.084Z"
   },
   {
    "duration": 5,
    "start_time": "2021-12-26T12:28:48.696Z"
   },
   {
    "duration": 5,
    "start_time": "2021-12-26T12:30:56.958Z"
   },
   {
    "duration": 79,
    "start_time": "2021-12-26T12:31:42.210Z"
   },
   {
    "duration": 5,
    "start_time": "2021-12-26T12:31:53.976Z"
   },
   {
    "duration": 12,
    "start_time": "2021-12-26T13:28:56.163Z"
   },
   {
    "duration": 6,
    "start_time": "2021-12-26T13:31:15.649Z"
   },
   {
    "duration": 315,
    "start_time": "2021-12-26T13:31:47.526Z"
   },
   {
    "duration": 8,
    "start_time": "2021-12-26T13:31:59.119Z"
   },
   {
    "duration": 8,
    "start_time": "2021-12-26T13:37:56.831Z"
   },
   {
    "duration": 430,
    "start_time": "2021-12-26T13:38:53.251Z"
   },
   {
    "duration": 27,
    "start_time": "2021-12-26T13:39:27.835Z"
   },
   {
    "duration": 323,
    "start_time": "2021-12-26T13:51:24.187Z"
   },
   {
    "duration": 15,
    "start_time": "2021-12-26T13:52:30.555Z"
   },
   {
    "duration": 20,
    "start_time": "2021-12-26T14:04:21.560Z"
   },
   {
    "duration": 8,
    "start_time": "2021-12-26T14:05:22.440Z"
   },
   {
    "duration": 132,
    "start_time": "2021-12-26T18:35:49.013Z"
   },
   {
    "duration": 140,
    "start_time": "2021-12-26T18:36:05.883Z"
   },
   {
    "duration": 379,
    "start_time": "2021-12-26T18:36:28.831Z"
   },
   {
    "duration": 445,
    "start_time": "2021-12-26T19:39:29.048Z"
   },
   {
    "duration": 334,
    "start_time": "2021-12-26T19:44:20.167Z"
   },
   {
    "duration": 806,
    "start_time": "2021-12-26T19:44:48.377Z"
   },
   {
    "duration": 15,
    "start_time": "2021-12-26T19:44:49.186Z"
   },
   {
    "duration": 7,
    "start_time": "2021-12-26T19:44:49.204Z"
   },
   {
    "duration": 6,
    "start_time": "2021-12-26T19:44:49.213Z"
   },
   {
    "duration": 9,
    "start_time": "2021-12-26T19:46:27.999Z"
   },
   {
    "duration": 346,
    "start_time": "2021-12-26T19:47:03.007Z"
   },
   {
    "duration": 266,
    "start_time": "2021-12-26T19:47:25.751Z"
   },
   {
    "duration": 9,
    "start_time": "2021-12-26T19:48:58.067Z"
   },
   {
    "duration": 15,
    "start_time": "2021-12-26T19:51:51.543Z"
   },
   {
    "duration": 21,
    "start_time": "2021-12-26T19:52:47.725Z"
   },
   {
    "duration": 11,
    "start_time": "2021-12-26T20:10:34.241Z"
   },
   {
    "duration": 9,
    "start_time": "2021-12-26T20:11:55.384Z"
   },
   {
    "duration": 8,
    "start_time": "2021-12-26T20:45:10.155Z"
   },
   {
    "duration": 14,
    "start_time": "2021-12-26T20:49:49.700Z"
   },
   {
    "duration": 6,
    "start_time": "2021-12-26T20:51:56.739Z"
   },
   {
    "duration": 8,
    "start_time": "2021-12-26T20:53:24.136Z"
   },
   {
    "duration": 271,
    "start_time": "2021-12-26T20:58:30.194Z"
   },
   {
    "duration": 8,
    "start_time": "2021-12-26T20:59:21.854Z"
   },
   {
    "duration": 7,
    "start_time": "2021-12-26T21:05:42.386Z"
   },
   {
    "duration": 5,
    "start_time": "2021-12-26T21:10:04.792Z"
   },
   {
    "duration": 6,
    "start_time": "2021-12-26T21:10:19.699Z"
   },
   {
    "duration": 856,
    "start_time": "2021-12-26T21:10:36.578Z"
   },
   {
    "duration": 27,
    "start_time": "2021-12-26T21:10:37.437Z"
   },
   {
    "duration": 8,
    "start_time": "2021-12-26T21:10:37.467Z"
   },
   {
    "duration": 12,
    "start_time": "2021-12-26T21:10:37.479Z"
   },
   {
    "duration": 23,
    "start_time": "2021-12-26T21:10:37.494Z"
   },
   {
    "duration": 52,
    "start_time": "2021-12-26T21:10:37.520Z"
   },
   {
    "duration": 9,
    "start_time": "2021-12-26T21:10:37.576Z"
   },
   {
    "duration": 7,
    "start_time": "2021-12-26T21:10:37.589Z"
   },
   {
    "duration": 17,
    "start_time": "2021-12-26T21:10:37.600Z"
   },
   {
    "duration": 16,
    "start_time": "2021-12-26T21:22:45.164Z"
   },
   {
    "duration": 852,
    "start_time": "2021-12-26T21:23:33.110Z"
   },
   {
    "duration": 14,
    "start_time": "2021-12-26T21:23:33.965Z"
   },
   {
    "duration": 7,
    "start_time": "2021-12-26T21:23:33.983Z"
   },
   {
    "duration": 10,
    "start_time": "2021-12-26T21:23:33.993Z"
   },
   {
    "duration": 73,
    "start_time": "2021-12-26T21:23:34.005Z"
   },
   {
    "duration": 8,
    "start_time": "2021-12-26T21:23:34.082Z"
   },
   {
    "duration": 7,
    "start_time": "2021-12-26T21:23:34.092Z"
   },
   {
    "duration": 15,
    "start_time": "2021-12-26T21:23:34.101Z"
   },
   {
    "duration": 9,
    "start_time": "2021-12-26T21:23:34.119Z"
   },
   {
    "duration": 881,
    "start_time": "2021-12-26T21:24:34.818Z"
   },
   {
    "duration": 14,
    "start_time": "2021-12-26T21:24:35.702Z"
   },
   {
    "duration": 6,
    "start_time": "2021-12-26T21:24:35.719Z"
   },
   {
    "duration": 36,
    "start_time": "2021-12-26T21:24:35.727Z"
   },
   {
    "duration": 22,
    "start_time": "2021-12-26T21:24:35.765Z"
   },
   {
    "duration": 11,
    "start_time": "2021-12-26T21:24:35.789Z"
   },
   {
    "duration": 6,
    "start_time": "2021-12-26T21:24:35.802Z"
   },
   {
    "duration": 53,
    "start_time": "2021-12-26T21:24:35.811Z"
   },
   {
    "duration": 26,
    "start_time": "2021-12-26T21:24:35.867Z"
   },
   {
    "duration": 8,
    "start_time": "2021-12-26T21:26:22.964Z"
   },
   {
    "duration": 840,
    "start_time": "2021-12-26T21:26:31.280Z"
   },
   {
    "duration": 13,
    "start_time": "2021-12-26T21:26:32.124Z"
   },
   {
    "duration": 23,
    "start_time": "2021-12-26T21:26:32.140Z"
   },
   {
    "duration": 10,
    "start_time": "2021-12-26T21:26:32.166Z"
   },
   {
    "duration": 22,
    "start_time": "2021-12-26T21:26:32.179Z"
   },
   {
    "duration": 9,
    "start_time": "2021-12-26T21:26:32.204Z"
   },
   {
    "duration": 51,
    "start_time": "2021-12-26T21:26:32.216Z"
   },
   {
    "duration": 19,
    "start_time": "2021-12-26T21:26:32.269Z"
   },
   {
    "duration": 19,
    "start_time": "2021-12-26T21:26:32.291Z"
   },
   {
    "duration": 8,
    "start_time": "2021-12-26T21:37:05.401Z"
   },
   {
    "duration": 864,
    "start_time": "2021-12-26T21:37:18.058Z"
   },
   {
    "duration": 14,
    "start_time": "2021-12-26T21:37:18.925Z"
   },
   {
    "duration": 23,
    "start_time": "2021-12-26T21:37:18.942Z"
   },
   {
    "duration": 9,
    "start_time": "2021-12-26T21:37:18.968Z"
   },
   {
    "duration": 22,
    "start_time": "2021-12-26T21:37:18.980Z"
   },
   {
    "duration": 9,
    "start_time": "2021-12-26T21:37:19.004Z"
   },
   {
    "duration": 50,
    "start_time": "2021-12-26T21:37:19.015Z"
   },
   {
    "duration": 8,
    "start_time": "2021-12-26T21:37:19.069Z"
   },
   {
    "duration": 15,
    "start_time": "2021-12-26T21:37:19.079Z"
   },
   {
    "duration": 8,
    "start_time": "2021-12-26T21:37:44.472Z"
   },
   {
    "duration": 8,
    "start_time": "2021-12-26T21:38:06.808Z"
   },
   {
    "duration": 829,
    "start_time": "2021-12-26T21:38:26.586Z"
   },
   {
    "duration": 16,
    "start_time": "2021-12-26T21:38:27.419Z"
   },
   {
    "duration": 28,
    "start_time": "2021-12-26T21:38:27.439Z"
   },
   {
    "duration": 8,
    "start_time": "2021-12-26T21:38:27.471Z"
   },
   {
    "duration": 20,
    "start_time": "2021-12-26T21:38:27.482Z"
   },
   {
    "duration": 11,
    "start_time": "2021-12-26T21:38:27.504Z"
   },
   {
    "duration": 46,
    "start_time": "2021-12-26T21:38:27.517Z"
   },
   {
    "duration": 6,
    "start_time": "2021-12-26T21:38:27.566Z"
   },
   {
    "duration": 19,
    "start_time": "2021-12-26T21:38:27.574Z"
   },
   {
    "duration": 9,
    "start_time": "2021-12-26T21:38:53.546Z"
   },
   {
    "duration": 360,
    "start_time": "2021-12-26T21:42:23.083Z"
   },
   {
    "duration": 242,
    "start_time": "2021-12-26T21:42:40.659Z"
   },
   {
    "duration": 25,
    "start_time": "2021-12-26T21:43:31.523Z"
   },
   {
    "duration": 22,
    "start_time": "2021-12-26T21:44:46.547Z"
   },
   {
    "duration": 466,
    "start_time": "2021-12-26T21:45:16.619Z"
   },
   {
    "duration": 23,
    "start_time": "2021-12-26T21:46:09.747Z"
   },
   {
    "duration": 255,
    "start_time": "2021-12-28T16:03:50.794Z"
   },
   {
    "duration": 680,
    "start_time": "2021-12-28T16:04:15.788Z"
   },
   {
    "duration": 9,
    "start_time": "2021-12-28T16:04:16.470Z"
   },
   {
    "duration": 18,
    "start_time": "2021-12-28T16:04:16.481Z"
   },
   {
    "duration": 10,
    "start_time": "2021-12-28T16:04:16.504Z"
   },
   {
    "duration": 14,
    "start_time": "2021-12-28T16:04:16.516Z"
   },
   {
    "duration": 9,
    "start_time": "2021-12-28T16:04:16.532Z"
   },
   {
    "duration": 5,
    "start_time": "2021-12-28T16:04:16.542Z"
   },
   {
    "duration": 4,
    "start_time": "2021-12-28T16:04:16.550Z"
   },
   {
    "duration": 48,
    "start_time": "2021-12-28T16:04:16.556Z"
   },
   {
    "duration": 18,
    "start_time": "2021-12-28T16:04:16.606Z"
   },
   {
    "duration": 6,
    "start_time": "2021-12-28T16:07:53.881Z"
   },
   {
    "duration": 27,
    "start_time": "2021-12-28T16:18:37.656Z"
   },
   {
    "duration": 22,
    "start_time": "2021-12-28T16:19:10.100Z"
   },
   {
    "duration": 7,
    "start_time": "2021-12-28T17:46:21.708Z"
   },
   {
    "duration": 7,
    "start_time": "2021-12-28T17:52:01.414Z"
   },
   {
    "duration": 8,
    "start_time": "2021-12-28T17:56:14.982Z"
   },
   {
    "duration": 24,
    "start_time": "2021-12-28T17:59:35.849Z"
   },
   {
    "duration": 28,
    "start_time": "2021-12-28T18:01:36.808Z"
   },
   {
    "duration": 24,
    "start_time": "2021-12-28T18:02:57.709Z"
   },
   {
    "duration": 5,
    "start_time": "2021-12-28T18:03:21.927Z"
   },
   {
    "duration": 591,
    "start_time": "2021-12-28T18:03:37.021Z"
   },
   {
    "duration": 9,
    "start_time": "2021-12-28T18:03:37.614Z"
   },
   {
    "duration": 4,
    "start_time": "2021-12-28T18:03:37.625Z"
   },
   {
    "duration": 7,
    "start_time": "2021-12-28T18:03:37.631Z"
   },
   {
    "duration": 12,
    "start_time": "2021-12-28T18:03:37.640Z"
   },
   {
    "duration": 5,
    "start_time": "2021-12-28T18:03:37.654Z"
   },
   {
    "duration": 6,
    "start_time": "2021-12-28T18:03:37.691Z"
   },
   {
    "duration": 5,
    "start_time": "2021-12-28T18:03:37.699Z"
   },
   {
    "duration": 7,
    "start_time": "2021-12-28T18:03:37.706Z"
   },
   {
    "duration": 4,
    "start_time": "2021-12-28T18:03:37.715Z"
   },
   {
    "duration": 17,
    "start_time": "2021-12-28T18:03:37.720Z"
   },
   {
    "duration": 6,
    "start_time": "2021-12-28T18:03:37.738Z"
   },
   {
    "duration": 7,
    "start_time": "2021-12-28T18:03:37.746Z"
   },
   {
    "duration": 15,
    "start_time": "2021-12-28T18:03:50.998Z"
   },
   {
    "duration": 15,
    "start_time": "2021-12-28T18:04:15.220Z"
   },
   {
    "duration": 17,
    "start_time": "2021-12-28T18:04:32.427Z"
   },
   {
    "duration": 17,
    "start_time": "2021-12-28T18:07:08.380Z"
   },
   {
    "duration": 4,
    "start_time": "2021-12-28T18:42:13.735Z"
   },
   {
    "duration": 3894,
    "start_time": "2021-12-28T18:50:19.345Z"
   },
   {
    "duration": 623,
    "start_time": "2021-12-28T18:50:28.276Z"
   },
   {
    "duration": 9,
    "start_time": "2021-12-28T18:50:28.901Z"
   },
   {
    "duration": 6,
    "start_time": "2021-12-28T18:50:28.911Z"
   },
   {
    "duration": 6,
    "start_time": "2021-12-28T18:50:28.918Z"
   },
   {
    "duration": 11,
    "start_time": "2021-12-28T18:50:28.926Z"
   },
   {
    "duration": 6,
    "start_time": "2021-12-28T18:50:28.939Z"
   },
   {
    "duration": 4,
    "start_time": "2021-12-28T18:50:28.946Z"
   },
   {
    "duration": 4,
    "start_time": "2021-12-28T18:50:28.952Z"
   },
   {
    "duration": 15,
    "start_time": "2021-12-28T18:50:28.992Z"
   },
   {
    "duration": 4,
    "start_time": "2021-12-28T18:50:29.009Z"
   },
   {
    "duration": 25,
    "start_time": "2021-12-28T18:50:29.014Z"
   },
   {
    "duration": 6,
    "start_time": "2021-12-28T18:50:29.040Z"
   },
   {
    "duration": 16,
    "start_time": "2021-12-28T18:50:29.047Z"
   },
   {
    "duration": 594,
    "start_time": "2021-12-28T18:50:29.065Z"
   },
   {
    "duration": 3224,
    "start_time": "2021-12-28T18:50:29.661Z"
   },
   {
    "duration": 5,
    "start_time": "2021-12-28T19:04:39.076Z"
   },
   {
    "duration": 3739,
    "start_time": "2021-12-28T19:04:42.962Z"
   },
   {
    "duration": 137,
    "start_time": "2021-12-28T19:07:07.788Z"
   },
   {
    "duration": 625,
    "start_time": "2021-12-28T19:10:28.275Z"
   },
   {
    "duration": 8,
    "start_time": "2021-12-28T19:10:28.902Z"
   },
   {
    "duration": 4,
    "start_time": "2021-12-28T19:10:28.913Z"
   },
   {
    "duration": 7,
    "start_time": "2021-12-28T19:10:28.918Z"
   },
   {
    "duration": 12,
    "start_time": "2021-12-28T19:10:28.926Z"
   },
   {
    "duration": 5,
    "start_time": "2021-12-28T19:10:28.940Z"
   },
   {
    "duration": 5,
    "start_time": "2021-12-28T19:10:28.946Z"
   },
   {
    "duration": 40,
    "start_time": "2021-12-28T19:10:28.952Z"
   },
   {
    "duration": 7,
    "start_time": "2021-12-28T19:10:28.994Z"
   },
   {
    "duration": 4,
    "start_time": "2021-12-28T19:10:29.002Z"
   },
   {
    "duration": 17,
    "start_time": "2021-12-28T19:10:29.008Z"
   },
   {
    "duration": 7,
    "start_time": "2021-12-28T19:10:29.026Z"
   },
   {
    "duration": 16,
    "start_time": "2021-12-28T19:10:29.034Z"
   },
   {
    "duration": 3,
    "start_time": "2021-12-28T19:10:29.052Z"
   },
   {
    "duration": 219,
    "start_time": "2021-12-28T19:10:29.057Z"
   },
   {
    "duration": 150,
    "start_time": "2021-12-28T19:12:00.281Z"
   },
   {
    "duration": 185,
    "start_time": "2021-12-28T19:13:44.310Z"
   },
   {
    "duration": 42,
    "start_time": "2021-12-28T19:19:30.679Z"
   },
   {
    "duration": 4434,
    "start_time": "2021-12-28T19:19:46.992Z"
   },
   {
    "duration": 625,
    "start_time": "2021-12-28T19:20:00.445Z"
   },
   {
    "duration": 9,
    "start_time": "2021-12-28T19:20:01.073Z"
   },
   {
    "duration": 8,
    "start_time": "2021-12-28T19:20:01.084Z"
   },
   {
    "duration": 8,
    "start_time": "2021-12-28T19:20:01.094Z"
   },
   {
    "duration": 15,
    "start_time": "2021-12-28T19:20:01.103Z"
   },
   {
    "duration": 7,
    "start_time": "2021-12-28T19:20:01.120Z"
   },
   {
    "duration": 24,
    "start_time": "2021-12-28T19:20:01.129Z"
   },
   {
    "duration": 5,
    "start_time": "2021-12-28T19:20:01.156Z"
   },
   {
    "duration": 29,
    "start_time": "2021-12-28T19:20:01.163Z"
   },
   {
    "duration": 8,
    "start_time": "2021-12-28T19:20:01.194Z"
   },
   {
    "duration": 26,
    "start_time": "2021-12-28T19:20:01.203Z"
   },
   {
    "duration": 6,
    "start_time": "2021-12-28T19:20:01.230Z"
   },
   {
    "duration": 21,
    "start_time": "2021-12-28T19:20:01.238Z"
   },
   {
    "duration": 13,
    "start_time": "2021-12-28T19:20:01.260Z"
   },
   {
    "duration": 3942,
    "start_time": "2021-12-28T19:20:01.274Z"
   },
   {
    "duration": 12,
    "start_time": "2021-12-28T19:20:51.040Z"
   },
   {
    "duration": 4,
    "start_time": "2021-12-28T19:21:13.852Z"
   },
   {
    "duration": 148,
    "start_time": "2021-12-28T19:21:59.045Z"
   },
   {
    "duration": 3,
    "start_time": "2021-12-28T19:22:20.230Z"
   },
   {
    "duration": 128,
    "start_time": "2021-12-28T19:22:24.560Z"
   },
   {
    "duration": 5,
    "start_time": "2021-12-28T19:23:14.860Z"
   },
   {
    "duration": 3297,
    "start_time": "2021-12-28T19:26:27.854Z"
   },
   {
    "duration": 8525,
    "start_time": "2021-12-28T19:26:46.137Z"
   },
   {
    "duration": 4,
    "start_time": "2021-12-28T19:56:22.542Z"
   },
   {
    "duration": 5,
    "start_time": "2021-12-28T19:57:00.739Z"
   },
   {
    "duration": 590,
    "start_time": "2021-12-28T19:57:29.433Z"
   },
   {
    "duration": 10,
    "start_time": "2021-12-28T19:57:30.025Z"
   },
   {
    "duration": 13,
    "start_time": "2021-12-28T19:57:30.037Z"
   },
   {
    "duration": 16,
    "start_time": "2021-12-28T19:57:30.052Z"
   },
   {
    "duration": 17,
    "start_time": "2021-12-28T19:57:30.070Z"
   },
   {
    "duration": 7,
    "start_time": "2021-12-28T19:57:30.092Z"
   },
   {
    "duration": 12,
    "start_time": "2021-12-28T19:57:30.101Z"
   },
   {
    "duration": 10,
    "start_time": "2021-12-28T19:57:30.114Z"
   },
   {
    "duration": 9,
    "start_time": "2021-12-28T19:57:30.126Z"
   },
   {
    "duration": 15,
    "start_time": "2021-12-28T19:57:30.137Z"
   },
   {
    "duration": 20,
    "start_time": "2021-12-28T19:57:30.153Z"
   },
   {
    "duration": 20,
    "start_time": "2021-12-28T19:57:30.174Z"
   },
   {
    "duration": 33,
    "start_time": "2021-12-28T19:57:30.196Z"
   },
   {
    "duration": 13,
    "start_time": "2021-12-28T19:57:30.230Z"
   },
   {
    "duration": 8365,
    "start_time": "2021-12-28T19:57:30.245Z"
   },
   {
    "duration": 4,
    "start_time": "2021-12-28T19:57:38.612Z"
   },
   {
    "duration": 4,
    "start_time": "2021-12-28T19:58:10.681Z"
   },
   {
    "duration": 5,
    "start_time": "2021-12-28T20:01:41.059Z"
   },
   {
    "duration": 601,
    "start_time": "2021-12-28T20:03:06.068Z"
   },
   {
    "duration": 559,
    "start_time": "2021-12-28T20:03:26.902Z"
   },
   {
    "duration": 3086,
    "start_time": "2021-12-28T20:04:19.433Z"
   },
   {
    "duration": 3012,
    "start_time": "2021-12-28T20:04:56.281Z"
   },
   {
    "duration": 2850,
    "start_time": "2021-12-28T20:08:48.069Z"
   },
   {
    "duration": 2774,
    "start_time": "2021-12-28T20:09:48.996Z"
   },
   {
    "duration": 2743,
    "start_time": "2021-12-28T20:10:19.488Z"
   },
   {
    "duration": 2843,
    "start_time": "2021-12-28T20:11:00.257Z"
   },
   {
    "duration": 2899,
    "start_time": "2021-12-28T20:11:30.004Z"
   },
   {
    "duration": 2979,
    "start_time": "2021-12-28T20:12:30.236Z"
   },
   {
    "duration": 3081,
    "start_time": "2021-12-28T20:13:27.596Z"
   },
   {
    "duration": 4,
    "start_time": "2021-12-28T20:29:48.940Z"
   },
   {
    "duration": 55,
    "start_time": "2021-12-28T20:31:07.095Z"
   },
   {
    "duration": 7,
    "start_time": "2021-12-28T20:31:20.649Z"
   },
   {
    "duration": 12,
    "start_time": "2021-12-28T20:31:51.754Z"
   },
   {
    "duration": 7,
    "start_time": "2021-12-28T20:32:28.700Z"
   },
   {
    "duration": 12,
    "start_time": "2021-12-28T20:36:48.500Z"
   },
   {
    "duration": 4,
    "start_time": "2021-12-28T20:40:38.444Z"
   },
   {
    "duration": 229,
    "start_time": "2021-12-28T20:44:43.400Z"
   },
   {
    "duration": 6,
    "start_time": "2021-12-28T20:44:59.779Z"
   },
   {
    "duration": 8,
    "start_time": "2021-12-28T20:45:32.988Z"
   },
   {
    "duration": 6,
    "start_time": "2021-12-28T20:50:13.097Z"
   },
   {
    "duration": 8,
    "start_time": "2021-12-28T20:55:43.007Z"
   },
   {
    "duration": 10,
    "start_time": "2021-12-28T20:56:11.021Z"
   },
   {
    "duration": 21,
    "start_time": "2021-12-28T20:56:45.271Z"
   },
   {
    "duration": 5,
    "start_time": "2021-12-28T20:58:00.963Z"
   },
   {
    "duration": 16,
    "start_time": "2021-12-28T20:58:39.513Z"
   },
   {
    "duration": 52,
    "start_time": "2021-12-28T20:58:58.325Z"
   },
   {
    "duration": 5,
    "start_time": "2021-12-28T20:59:05.773Z"
   },
   {
    "duration": 139,
    "start_time": "2021-12-28T21:03:24.635Z"
   },
   {
    "duration": 138,
    "start_time": "2021-12-28T21:04:17.517Z"
   },
   {
    "duration": 53,
    "start_time": "2021-12-28T21:07:39.047Z"
   },
   {
    "duration": 136,
    "start_time": "2021-12-28T21:08:00.797Z"
   },
   {
    "duration": 948,
    "start_time": "2021-12-28T21:09:07.713Z"
   },
   {
    "duration": 347,
    "start_time": "2021-12-28T21:27:03.407Z"
   },
   {
    "duration": 354,
    "start_time": "2021-12-28T21:34:01.285Z"
   },
   {
    "duration": 5,
    "start_time": "2021-12-28T21:36:42.680Z"
   },
   {
    "duration": 6,
    "start_time": "2021-12-28T21:40:13.276Z"
   },
   {
    "duration": 349,
    "start_time": "2021-12-28T21:44:36.582Z"
   },
   {
    "duration": 124,
    "start_time": "2021-12-28T21:49:34.036Z"
   },
   {
    "duration": 6,
    "start_time": "2021-12-28T21:50:07.768Z"
   },
   {
    "duration": 5,
    "start_time": "2021-12-28T21:58:48.490Z"
   },
   {
    "duration": 4,
    "start_time": "2021-12-28T22:00:54.110Z"
   },
   {
    "duration": 5,
    "start_time": "2021-12-28T22:01:54.860Z"
   },
   {
    "duration": 6,
    "start_time": "2021-12-28T22:04:10.106Z"
   },
   {
    "duration": 250,
    "start_time": "2021-12-28T22:11:33.746Z"
   },
   {
    "duration": 949,
    "start_time": "2021-12-28T22:12:09.426Z"
   },
   {
    "duration": 10,
    "start_time": "2021-12-28T22:12:10.377Z"
   },
   {
    "duration": 7,
    "start_time": "2021-12-28T22:12:10.389Z"
   },
   {
    "duration": 7,
    "start_time": "2021-12-28T22:12:10.397Z"
   },
   {
    "duration": 12,
    "start_time": "2021-12-28T22:12:10.406Z"
   },
   {
    "duration": 5,
    "start_time": "2021-12-28T22:12:10.420Z"
   },
   {
    "duration": 4,
    "start_time": "2021-12-28T22:12:10.426Z"
   },
   {
    "duration": 4,
    "start_time": "2021-12-28T22:12:10.433Z"
   },
   {
    "duration": 7,
    "start_time": "2021-12-28T22:12:10.438Z"
   },
   {
    "duration": 4,
    "start_time": "2021-12-28T22:12:10.447Z"
   },
   {
    "duration": 54,
    "start_time": "2021-12-28T22:12:10.452Z"
   },
   {
    "duration": 6,
    "start_time": "2021-12-28T22:12:10.508Z"
   },
   {
    "duration": 18,
    "start_time": "2021-12-28T22:12:10.515Z"
   },
   {
    "duration": 6,
    "start_time": "2021-12-28T22:12:10.534Z"
   },
   {
    "duration": 8291,
    "start_time": "2021-12-28T22:12:10.541Z"
   },
   {
    "duration": 2624,
    "start_time": "2021-12-28T22:12:18.834Z"
   },
   {
    "duration": 4,
    "start_time": "2021-12-28T22:12:21.460Z"
   },
   {
    "duration": 39,
    "start_time": "2021-12-28T22:12:21.466Z"
   },
   {
    "duration": 6,
    "start_time": "2021-12-28T22:12:21.507Z"
   },
   {
    "duration": 207,
    "start_time": "2021-12-28T22:12:21.515Z"
   },
   {
    "duration": 268,
    "start_time": "2021-12-28T22:12:21.456Z"
   },
   {
    "duration": 266,
    "start_time": "2021-12-28T22:12:21.459Z"
   },
   {
    "duration": 266,
    "start_time": "2021-12-28T22:12:21.460Z"
   },
   {
    "duration": 263,
    "start_time": "2021-12-28T22:12:21.465Z"
   },
   {
    "duration": 13,
    "start_time": "2021-12-28T22:13:32.341Z"
   },
   {
    "duration": 14,
    "start_time": "2021-12-28T22:14:15.064Z"
   },
   {
    "duration": 18,
    "start_time": "2021-12-28T22:15:39.525Z"
   },
   {
    "duration": 351,
    "start_time": "2021-12-28T22:24:32.465Z"
   },
   {
    "duration": 345,
    "start_time": "2021-12-28T22:25:40.685Z"
   },
   {
    "duration": 336,
    "start_time": "2021-12-28T22:31:27.138Z"
   },
   {
    "duration": 332,
    "start_time": "2021-12-28T22:40:15.920Z"
   },
   {
    "duration": 372,
    "start_time": "2021-12-28T22:43:19.154Z"
   },
   {
    "duration": 584,
    "start_time": "2021-12-28T22:43:42.008Z"
   },
   {
    "duration": 9,
    "start_time": "2021-12-28T22:43:42.595Z"
   },
   {
    "duration": 5,
    "start_time": "2021-12-28T22:43:42.607Z"
   },
   {
    "duration": 7,
    "start_time": "2021-12-28T22:43:42.614Z"
   },
   {
    "duration": 13,
    "start_time": "2021-12-28T22:43:42.622Z"
   },
   {
    "duration": 7,
    "start_time": "2021-12-28T22:43:42.637Z"
   },
   {
    "duration": 46,
    "start_time": "2021-12-28T22:43:42.646Z"
   },
   {
    "duration": 7,
    "start_time": "2021-12-28T22:43:42.694Z"
   },
   {
    "duration": 8,
    "start_time": "2021-12-28T22:43:42.704Z"
   },
   {
    "duration": 4,
    "start_time": "2021-12-28T22:43:42.714Z"
   },
   {
    "duration": 17,
    "start_time": "2021-12-28T22:43:42.720Z"
   },
   {
    "duration": 6,
    "start_time": "2021-12-28T22:43:42.739Z"
   },
   {
    "duration": 57,
    "start_time": "2021-12-28T22:43:42.747Z"
   },
   {
    "duration": 4,
    "start_time": "2021-12-28T22:43:42.806Z"
   },
   {
    "duration": 8087,
    "start_time": "2021-12-28T22:43:42.811Z"
   },
   {
    "duration": 2578,
    "start_time": "2021-12-28T22:43:50.901Z"
   },
   {
    "duration": 3,
    "start_time": "2021-12-28T22:43:53.491Z"
   },
   {
    "duration": 14,
    "start_time": "2021-12-28T22:43:53.496Z"
   },
   {
    "duration": 5,
    "start_time": "2021-12-28T22:43:53.512Z"
   },
   {
    "duration": 16,
    "start_time": "2021-12-28T22:43:53.519Z"
   },
   {
    "duration": 7,
    "start_time": "2021-12-28T22:43:53.536Z"
   },
   {
    "duration": 385,
    "start_time": "2021-12-28T22:43:53.544Z"
   },
   {
    "duration": 6,
    "start_time": "2021-12-28T22:43:53.930Z"
   },
   {
    "duration": 357,
    "start_time": "2021-12-28T22:43:53.938Z"
   },
   {
    "duration": 358,
    "start_time": "2021-12-28T22:43:54.296Z"
   },
   {
    "duration": 363,
    "start_time": "2021-12-28T22:43:54.656Z"
   },
   {
    "duration": 345,
    "start_time": "2021-12-28T22:44:37.850Z"
   },
   {
    "duration": 851,
    "start_time": "2021-12-30T02:40:27.144Z"
   },
   {
    "duration": 13,
    "start_time": "2021-12-30T02:40:27.998Z"
   },
   {
    "duration": 8,
    "start_time": "2021-12-30T02:40:28.014Z"
   },
   {
    "duration": 8,
    "start_time": "2021-12-30T02:40:28.025Z"
   },
   {
    "duration": 20,
    "start_time": "2021-12-30T02:40:28.062Z"
   },
   {
    "duration": 8,
    "start_time": "2021-12-30T02:40:28.085Z"
   },
   {
    "duration": 6,
    "start_time": "2021-12-30T02:40:28.095Z"
   },
   {
    "duration": 7,
    "start_time": "2021-12-30T02:40:28.105Z"
   },
   {
    "duration": 51,
    "start_time": "2021-12-30T02:40:28.115Z"
   },
   {
    "duration": 6,
    "start_time": "2021-12-30T02:40:28.169Z"
   },
   {
    "duration": 25,
    "start_time": "2021-12-30T02:40:28.177Z"
   },
   {
    "duration": 11,
    "start_time": "2021-12-30T02:40:28.204Z"
   },
   {
    "duration": 58,
    "start_time": "2021-12-30T02:40:28.217Z"
   },
   {
    "duration": 5,
    "start_time": "2021-12-30T02:40:28.277Z"
   },
   {
    "duration": 12927,
    "start_time": "2021-12-30T02:40:28.284Z"
   },
   {
    "duration": 3715,
    "start_time": "2021-12-30T02:40:41.214Z"
   },
   {
    "duration": 5,
    "start_time": "2021-12-30T02:40:44.932Z"
   },
   {
    "duration": 36,
    "start_time": "2021-12-30T02:40:44.940Z"
   },
   {
    "duration": 8,
    "start_time": "2021-12-30T02:40:44.979Z"
   },
   {
    "duration": 21,
    "start_time": "2021-12-30T02:40:44.990Z"
   },
   {
    "duration": 49,
    "start_time": "2021-12-30T02:40:45.014Z"
   },
   {
    "duration": 630,
    "start_time": "2021-12-30T02:40:45.066Z"
   },
   {
    "duration": 8,
    "start_time": "2021-12-30T02:40:45.703Z"
   },
   {
    "duration": 641,
    "start_time": "2021-12-30T02:40:45.714Z"
   },
   {
    "duration": 659,
    "start_time": "2021-12-30T02:40:46.358Z"
   },
   {
    "duration": 618,
    "start_time": "2021-12-30T02:40:47.020Z"
   },
   {
    "duration": 18,
    "start_time": "2021-12-30T03:09:57.895Z"
   },
   {
    "duration": 615,
    "start_time": "2021-12-30T11:42:45.530Z"
   },
   {
    "duration": 8,
    "start_time": "2021-12-30T11:42:46.147Z"
   },
   {
    "duration": 24,
    "start_time": "2021-12-30T11:42:46.157Z"
   },
   {
    "duration": 24,
    "start_time": "2021-12-30T11:42:46.183Z"
   },
   {
    "duration": 23,
    "start_time": "2021-12-30T11:42:46.209Z"
   },
   {
    "duration": 16,
    "start_time": "2021-12-30T11:42:46.234Z"
   },
   {
    "duration": 22,
    "start_time": "2021-12-30T11:42:46.252Z"
   },
   {
    "duration": 22,
    "start_time": "2021-12-30T11:42:46.276Z"
   },
   {
    "duration": 22,
    "start_time": "2021-12-30T11:42:46.299Z"
   },
   {
    "duration": 24,
    "start_time": "2021-12-30T11:42:46.322Z"
   },
   {
    "duration": 17,
    "start_time": "2021-12-30T11:42:46.629Z"
   },
   {
    "duration": 12,
    "start_time": "2021-12-30T11:42:46.648Z"
   },
   {
    "duration": 28,
    "start_time": "2021-12-30T11:42:46.662Z"
   },
   {
    "duration": 15,
    "start_time": "2021-12-30T11:42:46.692Z"
   },
   {
    "duration": 8603,
    "start_time": "2021-12-30T11:42:46.708Z"
   },
   {
    "duration": 2618,
    "start_time": "2021-12-30T11:42:55.312Z"
   },
   {
    "duration": 10,
    "start_time": "2021-12-30T11:42:57.932Z"
   },
   {
    "duration": 12,
    "start_time": "2021-12-30T11:42:57.944Z"
   },
   {
    "duration": 7,
    "start_time": "2021-12-30T11:42:57.958Z"
   },
   {
    "duration": 13,
    "start_time": "2021-12-30T11:42:57.966Z"
   },
   {
    "duration": 6,
    "start_time": "2021-12-30T11:42:57.981Z"
   },
   {
    "duration": 442,
    "start_time": "2021-12-30T11:42:57.989Z"
   },
   {
    "duration": 10,
    "start_time": "2021-12-30T11:42:58.433Z"
   },
   {
    "duration": 333,
    "start_time": "2021-12-30T11:42:58.445Z"
   },
   {
    "duration": 335,
    "start_time": "2021-12-30T11:42:58.779Z"
   },
   {
    "duration": 326,
    "start_time": "2021-12-30T11:42:59.116Z"
   },
   {
    "duration": 14,
    "start_time": "2021-12-30T11:48:15.296Z"
   },
   {
    "duration": 362,
    "start_time": "2021-12-30T11:58:21.840Z"
   },
   {
    "duration": 24,
    "start_time": "2021-12-30T12:25:46.090Z"
   },
   {
    "duration": -841,
    "start_time": "2021-12-30T12:42:14.909Z"
   },
   {
    "duration": 230,
    "start_time": "2021-12-30T12:42:22.161Z"
   },
   {
    "duration": 309,
    "start_time": "2021-12-30T12:43:19.838Z"
   },
   {
    "duration": 298,
    "start_time": "2021-12-30T12:57:21.196Z"
   },
   {
    "duration": 619,
    "start_time": "2021-12-30T12:57:53.270Z"
   },
   {
    "duration": 9,
    "start_time": "2021-12-30T12:57:53.891Z"
   },
   {
    "duration": 4,
    "start_time": "2021-12-30T12:57:53.903Z"
   },
   {
    "duration": 8,
    "start_time": "2021-12-30T12:57:53.909Z"
   },
   {
    "duration": 28,
    "start_time": "2021-12-30T12:57:53.919Z"
   },
   {
    "duration": 6,
    "start_time": "2021-12-30T12:57:53.949Z"
   },
   {
    "duration": 7,
    "start_time": "2021-12-30T12:57:53.956Z"
   },
   {
    "duration": 6,
    "start_time": "2021-12-30T12:57:53.965Z"
   },
   {
    "duration": 12,
    "start_time": "2021-12-30T12:57:53.973Z"
   },
   {
    "duration": 6,
    "start_time": "2021-12-30T12:57:53.987Z"
   },
   {
    "duration": 46,
    "start_time": "2021-12-30T12:57:53.995Z"
   },
   {
    "duration": 8,
    "start_time": "2021-12-30T12:57:54.043Z"
   },
   {
    "duration": 18,
    "start_time": "2021-12-30T12:57:54.053Z"
   },
   {
    "duration": 4,
    "start_time": "2021-12-30T12:57:54.073Z"
   },
   {
    "duration": 9370,
    "start_time": "2021-12-30T12:57:54.078Z"
   },
   {
    "duration": 3045,
    "start_time": "2021-12-30T12:58:03.450Z"
   },
   {
    "duration": 4,
    "start_time": "2021-12-30T12:58:06.497Z"
   },
   {
    "duration": 16,
    "start_time": "2021-12-30T12:58:06.503Z"
   },
   {
    "duration": 24,
    "start_time": "2021-12-30T12:58:06.521Z"
   },
   {
    "duration": 19,
    "start_time": "2021-12-30T12:58:06.547Z"
   },
   {
    "duration": 9,
    "start_time": "2021-12-30T12:58:06.568Z"
   },
   {
    "duration": 350,
    "start_time": "2021-12-30T12:58:06.579Z"
   },
   {
    "duration": 10,
    "start_time": "2021-12-30T12:58:06.933Z"
   },
   {
    "duration": 396,
    "start_time": "2021-12-30T12:58:06.945Z"
   },
   {
    "duration": 340,
    "start_time": "2021-12-30T12:58:07.342Z"
   },
   {
    "duration": 345,
    "start_time": "2021-12-30T12:58:07.684Z"
   },
   {
    "duration": 19,
    "start_time": "2021-12-30T12:58:08.031Z"
   },
   {
    "duration": 11,
    "start_time": "2021-12-30T13:01:03.092Z"
   },
   {
    "duration": 14,
    "start_time": "2021-12-30T13:03:30.674Z"
   },
   {
    "duration": 97,
    "start_time": "2021-12-30T14:06:28.088Z"
   },
   {
    "duration": 20,
    "start_time": "2021-12-30T14:07:42.418Z"
   },
   {
    "duration": 18,
    "start_time": "2021-12-30T14:10:49.230Z"
   },
   {
    "duration": 122,
    "start_time": "2021-12-30T17:55:05.616Z"
   },
   {
    "duration": 10,
    "start_time": "2021-12-30T18:05:27.289Z"
   },
   {
    "duration": 584,
    "start_time": "2021-12-31T14:37:41.187Z"
   },
   {
    "duration": 8,
    "start_time": "2021-12-31T14:37:41.773Z"
   },
   {
    "duration": 5,
    "start_time": "2021-12-31T14:37:41.783Z"
   },
   {
    "duration": 6,
    "start_time": "2021-12-31T14:37:41.789Z"
   },
   {
    "duration": 11,
    "start_time": "2021-12-31T14:37:41.796Z"
   },
   {
    "duration": 5,
    "start_time": "2021-12-31T14:37:41.827Z"
   },
   {
    "duration": 4,
    "start_time": "2021-12-31T14:37:41.833Z"
   },
   {
    "duration": 4,
    "start_time": "2021-12-31T14:37:41.839Z"
   },
   {
    "duration": 7,
    "start_time": "2021-12-31T14:37:41.845Z"
   },
   {
    "duration": 4,
    "start_time": "2021-12-31T14:37:41.853Z"
   },
   {
    "duration": 13,
    "start_time": "2021-12-31T14:37:41.902Z"
   },
   {
    "duration": 5,
    "start_time": "2021-12-31T14:37:41.917Z"
   },
   {
    "duration": 15,
    "start_time": "2021-12-31T14:37:41.979Z"
   },
   {
    "duration": 398,
    "start_time": "2021-12-31T14:37:42.109Z"
   },
   {
    "duration": -591637,
    "start_time": "2021-12-31T14:47:34.145Z"
   },
   {
    "duration": 290,
    "start_time": "2021-12-31T14:37:43.594Z"
   },
   {
    "duration": -590324,
    "start_time": "2021-12-31T14:47:34.210Z"
   },
   {
    "duration": -590355,
    "start_time": "2021-12-31T14:47:34.242Z"
   },
   {
    "duration": -590378,
    "start_time": "2021-12-31T14:47:34.266Z"
   },
   {
    "duration": 6,
    "start_time": "2021-12-31T14:37:54.474Z"
   },
   {
    "duration": 10,
    "start_time": "2021-12-31T14:37:54.482Z"
   },
   {
    "duration": 7,
    "start_time": "2021-12-31T14:37:54.494Z"
   },
   {
    "duration": 8034,
    "start_time": "2021-12-31T14:37:54.503Z"
   },
   {
    "duration": -572002,
    "start_time": "2021-12-31T14:47:34.541Z"
   },
   {
    "duration": -572035,
    "start_time": "2021-12-31T14:47:34.575Z"
   },
   {
    "duration": -572056,
    "start_time": "2021-12-31T14:47:34.597Z"
   },
   {
    "duration": -572080,
    "start_time": "2021-12-31T14:47:34.622Z"
   },
   {
    "duration": -572111,
    "start_time": "2021-12-31T14:47:34.654Z"
   },
   {
    "duration": -572137,
    "start_time": "2021-12-31T14:47:34.681Z"
   },
   {
    "duration": 30,
    "start_time": "2021-12-31T14:48:48.414Z"
   },
   {
    "duration": 31,
    "start_time": "2022-07-20T07:04:29.016Z"
   },
   {
    "duration": 44,
    "start_time": "2022-07-20T07:04:31.331Z"
   },
   {
    "duration": 1366,
    "start_time": "2022-07-20T07:04:36.383Z"
   },
   {
    "duration": 13,
    "start_time": "2022-07-20T07:04:37.751Z"
   },
   {
    "duration": 47,
    "start_time": "2022-07-20T07:04:37.767Z"
   },
   {
    "duration": 7,
    "start_time": "2022-07-20T07:04:37.815Z"
   },
   {
    "duration": 14,
    "start_time": "2022-07-20T07:04:37.824Z"
   },
   {
    "duration": 7,
    "start_time": "2022-07-20T07:04:37.840Z"
   },
   {
    "duration": 8,
    "start_time": "2022-07-20T07:04:37.849Z"
   },
   {
    "duration": 49,
    "start_time": "2022-07-20T07:04:37.858Z"
   },
   {
    "duration": 16,
    "start_time": "2022-07-20T07:04:37.908Z"
   },
   {
    "duration": 10,
    "start_time": "2022-07-20T07:04:37.925Z"
   },
   {
    "duration": 21,
    "start_time": "2022-07-20T07:04:37.937Z"
   },
   {
    "duration": 14,
    "start_time": "2022-07-20T07:04:37.960Z"
   },
   {
    "duration": 55,
    "start_time": "2022-07-20T07:04:37.978Z"
   },
   {
    "duration": 36,
    "start_time": "2022-07-20T07:04:38.036Z"
   },
   {
    "duration": 6,
    "start_time": "2022-07-20T07:04:38.074Z"
   },
   {
    "duration": 9842,
    "start_time": "2022-07-20T07:04:38.081Z"
   },
   {
    "duration": 3199,
    "start_time": "2022-07-20T07:04:47.925Z"
   },
   {
    "duration": 4,
    "start_time": "2022-07-20T07:04:51.126Z"
   },
   {
    "duration": 20,
    "start_time": "2022-07-20T07:04:51.132Z"
   },
   {
    "duration": 30,
    "start_time": "2022-07-20T07:04:51.155Z"
   },
   {
    "duration": 17,
    "start_time": "2022-07-20T07:04:51.199Z"
   },
   {
    "duration": 8,
    "start_time": "2022-07-20T07:04:51.218Z"
   },
   {
    "duration": 254,
    "start_time": "2022-07-20T07:04:51.228Z"
   },
   {
    "duration": 14,
    "start_time": "2022-07-20T07:04:51.484Z"
   },
   {
    "duration": 235,
    "start_time": "2022-07-20T07:04:51.503Z"
   },
   {
    "duration": 258,
    "start_time": "2022-07-20T07:04:51.740Z"
   },
   {
    "duration": 242,
    "start_time": "2022-07-20T07:04:52.001Z"
   },
   {
    "duration": 35,
    "start_time": "2022-07-20T07:04:52.244Z"
   },
   {
    "duration": 14,
    "start_time": "2022-07-20T07:04:52.287Z"
   }
  ],
  "kernelspec": {
   "display_name": "Python 3 (ipykernel)",
   "language": "python",
   "name": "python3"
  },
  "language_info": {
   "codemirror_mode": {
    "name": "ipython",
    "version": 3
   },
   "file_extension": ".py",
   "mimetype": "text/x-python",
   "name": "python",
   "nbconvert_exporter": "python",
   "pygments_lexer": "ipython3",
   "version": "3.9.7"
  },
  "toc": {
   "base_numbering": 1,
   "nav_menu": {},
   "number_sections": true,
   "sideBar": true,
   "skip_h1_title": true,
   "title_cell": "Table of Contents",
   "title_sidebar": "Contents",
   "toc_cell": false,
   "toc_position": {},
   "toc_section_display": true,
   "toc_window_display": false
  }
 },
 "nbformat": 4,
 "nbformat_minor": 2
}
